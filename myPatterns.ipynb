{
 "cells": [
  {
   "cell_type": "markdown",
   "metadata": {},
   "source": [
    "# Pattern Mining\n",
    "## Library\n"
   ]
  },
  {
   "cell_type": "code",
   "execution_count": 8,
   "metadata": {},
   "outputs": [],
   "source": [
    "source(\"https://raw.githubusercontent.com/eogasawara/mylibrary/master/myPreprocessing.R\")\n",
    "loadlibrary(\"arules\")\n",
    "loadlibrary(\"arulesViz\")\n",
    "loadlibrary(\"arulesSequences\")"
   ]
  },
  {
   "cell_type": "code",
   "execution_count": 9,
   "metadata": {},
   "outputs": [
    {
     "data": {
      "text/html": [
       "<ol class=list-inline>\n",
       "\t<li>48842</li>\n",
       "\t<li>15</li>\n",
       "</ol>\n"
      ],
      "text/latex": [
       "\\begin{enumerate*}\n",
       "\\item 48842\n",
       "\\item 15\n",
       "\\end{enumerate*}\n"
      ],
      "text/markdown": [
       "1. 48842\n",
       "2. 15\n",
       "\n",
       "\n"
      ],
      "text/plain": [
       "[1] 48842    15"
      ]
     },
     "metadata": {},
     "output_type": "display_data"
    },
    {
     "data": {
      "text/html": [
       "<table>\n",
       "<caption>A data.frame: 6 × 15</caption>\n",
       "<thead>\n",
       "\t<tr><th scope=col>age</th><th scope=col>workclass</th><th scope=col>fnlwgt</th><th scope=col>education</th><th scope=col>education-num</th><th scope=col>marital-status</th><th scope=col>occupation</th><th scope=col>relationship</th><th scope=col>race</th><th scope=col>sex</th><th scope=col>capital-gain</th><th scope=col>capital-loss</th><th scope=col>hours-per-week</th><th scope=col>native-country</th><th scope=col>income</th></tr>\n",
       "\t<tr><th scope=col>&lt;int&gt;</th><th scope=col>&lt;fct&gt;</th><th scope=col>&lt;int&gt;</th><th scope=col>&lt;ord&gt;</th><th scope=col>&lt;int&gt;</th><th scope=col>&lt;fct&gt;</th><th scope=col>&lt;fct&gt;</th><th scope=col>&lt;fct&gt;</th><th scope=col>&lt;fct&gt;</th><th scope=col>&lt;fct&gt;</th><th scope=col>&lt;int&gt;</th><th scope=col>&lt;int&gt;</th><th scope=col>&lt;int&gt;</th><th scope=col>&lt;fct&gt;</th><th scope=col>&lt;ord&gt;</th></tr>\n",
       "</thead>\n",
       "<tbody>\n",
       "\t<tr><td>39</td><td>State-gov       </td><td> 77516</td><td>Bachelors</td><td>13</td><td>Never-married     </td><td>Adm-clerical     </td><td>Not-in-family</td><td>White</td><td>Male  </td><td>2174</td><td>0</td><td>40</td><td>United-States</td><td>small</td></tr>\n",
       "\t<tr><td>50</td><td>Self-emp-not-inc</td><td> 83311</td><td>Bachelors</td><td>13</td><td>Married-civ-spouse</td><td>Exec-managerial  </td><td>Husband      </td><td>White</td><td>Male  </td><td>   0</td><td>0</td><td>13</td><td>United-States</td><td>small</td></tr>\n",
       "\t<tr><td>38</td><td>Private         </td><td>215646</td><td>HS-grad  </td><td> 9</td><td>Divorced          </td><td>Handlers-cleaners</td><td>Not-in-family</td><td>White</td><td>Male  </td><td>   0</td><td>0</td><td>40</td><td>United-States</td><td>small</td></tr>\n",
       "\t<tr><td>53</td><td>Private         </td><td>234721</td><td>11th     </td><td> 7</td><td>Married-civ-spouse</td><td>Handlers-cleaners</td><td>Husband      </td><td>Black</td><td>Male  </td><td>   0</td><td>0</td><td>40</td><td>United-States</td><td>small</td></tr>\n",
       "\t<tr><td>28</td><td>Private         </td><td>338409</td><td>Bachelors</td><td>13</td><td>Married-civ-spouse</td><td>Prof-specialty   </td><td>Wife         </td><td>Black</td><td>Female</td><td>   0</td><td>0</td><td>40</td><td>Cuba         </td><td>small</td></tr>\n",
       "\t<tr><td>37</td><td>Private         </td><td>284582</td><td>Masters  </td><td>14</td><td>Married-civ-spouse</td><td>Exec-managerial  </td><td>Wife         </td><td>White</td><td>Female</td><td>   0</td><td>0</td><td>40</td><td>United-States</td><td>small</td></tr>\n",
       "</tbody>\n",
       "</table>\n"
      ],
      "text/latex": [
       "A data.frame: 6 × 15\n",
       "\\begin{tabular}{r|lllllllllllllll}\n",
       " age & workclass & fnlwgt & education & education-num & marital-status & occupation & relationship & race & sex & capital-gain & capital-loss & hours-per-week & native-country & income\\\\\n",
       " <int> & <fct> & <int> & <ord> & <int> & <fct> & <fct> & <fct> & <fct> & <fct> & <int> & <int> & <int> & <fct> & <ord>\\\\\n",
       "\\hline\n",
       "\t 39 & State-gov        &  77516 & Bachelors & 13 & Never-married      & Adm-clerical      & Not-in-family & White & Male   & 2174 & 0 & 40 & United-States & small\\\\\n",
       "\t 50 & Self-emp-not-inc &  83311 & Bachelors & 13 & Married-civ-spouse & Exec-managerial   & Husband       & White & Male   &    0 & 0 & 13 & United-States & small\\\\\n",
       "\t 38 & Private          & 215646 & HS-grad   &  9 & Divorced           & Handlers-cleaners & Not-in-family & White & Male   &    0 & 0 & 40 & United-States & small\\\\\n",
       "\t 53 & Private          & 234721 & 11th      &  7 & Married-civ-spouse & Handlers-cleaners & Husband       & Black & Male   &    0 & 0 & 40 & United-States & small\\\\\n",
       "\t 28 & Private          & 338409 & Bachelors & 13 & Married-civ-spouse & Prof-specialty    & Wife          & Black & Female &    0 & 0 & 40 & Cuba          & small\\\\\n",
       "\t 37 & Private          & 284582 & Masters   & 14 & Married-civ-spouse & Exec-managerial   & Wife          & White & Female &    0 & 0 & 40 & United-States & small\\\\\n",
       "\\end{tabular}\n"
      ],
      "text/markdown": [
       "\n",
       "A data.frame: 6 × 15\n",
       "\n",
       "| age &lt;int&gt; | workclass &lt;fct&gt; | fnlwgt &lt;int&gt; | education &lt;ord&gt; | education-num &lt;int&gt; | marital-status &lt;fct&gt; | occupation &lt;fct&gt; | relationship &lt;fct&gt; | race &lt;fct&gt; | sex &lt;fct&gt; | capital-gain &lt;int&gt; | capital-loss &lt;int&gt; | hours-per-week &lt;int&gt; | native-country &lt;fct&gt; | income &lt;ord&gt; |\n",
       "|---|---|---|---|---|---|---|---|---|---|---|---|---|---|---|\n",
       "| 39 | State-gov        |  77516 | Bachelors | 13 | Never-married      | Adm-clerical      | Not-in-family | White | Male   | 2174 | 0 | 40 | United-States | small |\n",
       "| 50 | Self-emp-not-inc |  83311 | Bachelors | 13 | Married-civ-spouse | Exec-managerial   | Husband       | White | Male   |    0 | 0 | 13 | United-States | small |\n",
       "| 38 | Private          | 215646 | HS-grad   |  9 | Divorced           | Handlers-cleaners | Not-in-family | White | Male   |    0 | 0 | 40 | United-States | small |\n",
       "| 53 | Private          | 234721 | 11th      |  7 | Married-civ-spouse | Handlers-cleaners | Husband       | Black | Male   |    0 | 0 | 40 | United-States | small |\n",
       "| 28 | Private          | 338409 | Bachelors | 13 | Married-civ-spouse | Prof-specialty    | Wife          | Black | Female |    0 | 0 | 40 | Cuba          | small |\n",
       "| 37 | Private          | 284582 | Masters   | 14 | Married-civ-spouse | Exec-managerial   | Wife          | White | Female |    0 | 0 | 40 | United-States | small |\n",
       "\n"
      ],
      "text/plain": [
       "  age workclass        fnlwgt education education-num marital-status    \n",
       "1 39  State-gov         77516 Bachelors 13            Never-married     \n",
       "2 50  Self-emp-not-inc  83311 Bachelors 13            Married-civ-spouse\n",
       "3 38  Private          215646 HS-grad    9            Divorced          \n",
       "4 53  Private          234721 11th       7            Married-civ-spouse\n",
       "5 28  Private          338409 Bachelors 13            Married-civ-spouse\n",
       "6 37  Private          284582 Masters   14            Married-civ-spouse\n",
       "  occupation        relationship  race  sex    capital-gain capital-loss\n",
       "1 Adm-clerical      Not-in-family White Male   2174         0           \n",
       "2 Exec-managerial   Husband       White Male      0         0           \n",
       "3 Handlers-cleaners Not-in-family White Male      0         0           \n",
       "4 Handlers-cleaners Husband       Black Male      0         0           \n",
       "5 Prof-specialty    Wife          Black Female    0         0           \n",
       "6 Exec-managerial   Wife          White Female    0         0           \n",
       "  hours-per-week native-country income\n",
       "1 40             United-States  small \n",
       "2 13             United-States  small \n",
       "3 40             United-States  small \n",
       "4 40             United-States  small \n",
       "5 40             Cuba           small \n",
       "6 40             United-States  small "
      ]
     },
     "metadata": {},
     "output_type": "display_data"
    }
   ],
   "source": [
    "data(AdultUCI)\n",
    "dim(AdultUCI)\n",
    "head(AdultUCI)"
   ]
  },
  {
   "cell_type": "markdown",
   "metadata": {},
   "source": [
    "## Removing attributes"
   ]
  },
  {
   "cell_type": "code",
   "execution_count": 10,
   "metadata": {},
   "outputs": [],
   "source": [
    "AdultUCI$fnlwgt <- NULL\n",
    "AdultUCI$\"education-num\" <- NULL\n"
   ]
  },
  {
   "cell_type": "markdown",
   "metadata": {},
   "source": [
    "## Conceptual Hierarchy and Binning"
   ]
  },
  {
   "cell_type": "code",
   "execution_count": 11,
   "metadata": {},
   "outputs": [
    {
     "data": {
      "text/html": [
       "<table>\n",
       "<caption>A data.frame: 6 × 13</caption>\n",
       "<thead>\n",
       "\t<tr><th scope=col>age</th><th scope=col>workclass</th><th scope=col>education</th><th scope=col>marital-status</th><th scope=col>occupation</th><th scope=col>relationship</th><th scope=col>race</th><th scope=col>sex</th><th scope=col>capital-gain</th><th scope=col>capital-loss</th><th scope=col>hours-per-week</th><th scope=col>native-country</th><th scope=col>income</th></tr>\n",
       "\t<tr><th scope=col>&lt;ord&gt;</th><th scope=col>&lt;fct&gt;</th><th scope=col>&lt;ord&gt;</th><th scope=col>&lt;fct&gt;</th><th scope=col>&lt;fct&gt;</th><th scope=col>&lt;fct&gt;</th><th scope=col>&lt;fct&gt;</th><th scope=col>&lt;fct&gt;</th><th scope=col>&lt;ord&gt;</th><th scope=col>&lt;ord&gt;</th><th scope=col>&lt;ord&gt;</th><th scope=col>&lt;fct&gt;</th><th scope=col>&lt;ord&gt;</th></tr>\n",
       "</thead>\n",
       "<tbody>\n",
       "\t<tr><td>Middle-aged</td><td>State-gov       </td><td>Bachelors</td><td>Never-married     </td><td>Adm-clerical     </td><td>Not-in-family</td><td>White</td><td>Male  </td><td>Low </td><td>None</td><td>Full-time</td><td>United-States</td><td>small</td></tr>\n",
       "\t<tr><td>Senior     </td><td>Self-emp-not-inc</td><td>Bachelors</td><td>Married-civ-spouse</td><td>Exec-managerial  </td><td>Husband      </td><td>White</td><td>Male  </td><td>None</td><td>None</td><td>Part-time</td><td>United-States</td><td>small</td></tr>\n",
       "\t<tr><td>Middle-aged</td><td>Private         </td><td>HS-grad  </td><td>Divorced          </td><td>Handlers-cleaners</td><td>Not-in-family</td><td>White</td><td>Male  </td><td>None</td><td>None</td><td>Full-time</td><td>United-States</td><td>small</td></tr>\n",
       "\t<tr><td>Senior     </td><td>Private         </td><td>11th     </td><td>Married-civ-spouse</td><td>Handlers-cleaners</td><td>Husband      </td><td>Black</td><td>Male  </td><td>None</td><td>None</td><td>Full-time</td><td>United-States</td><td>small</td></tr>\n",
       "\t<tr><td>Middle-aged</td><td>Private         </td><td>Bachelors</td><td>Married-civ-spouse</td><td>Prof-specialty   </td><td>Wife         </td><td>Black</td><td>Female</td><td>None</td><td>None</td><td>Full-time</td><td>Cuba         </td><td>small</td></tr>\n",
       "\t<tr><td>Middle-aged</td><td>Private         </td><td>Masters  </td><td>Married-civ-spouse</td><td>Exec-managerial  </td><td>Wife         </td><td>White</td><td>Female</td><td>None</td><td>None</td><td>Full-time</td><td>United-States</td><td>small</td></tr>\n",
       "</tbody>\n",
       "</table>\n"
      ],
      "text/latex": [
       "A data.frame: 6 × 13\n",
       "\\begin{tabular}{r|lllllllllllll}\n",
       " age & workclass & education & marital-status & occupation & relationship & race & sex & capital-gain & capital-loss & hours-per-week & native-country & income\\\\\n",
       " <ord> & <fct> & <ord> & <fct> & <fct> & <fct> & <fct> & <fct> & <ord> & <ord> & <ord> & <fct> & <ord>\\\\\n",
       "\\hline\n",
       "\t Middle-aged & State-gov        & Bachelors & Never-married      & Adm-clerical      & Not-in-family & White & Male   & Low  & None & Full-time & United-States & small\\\\\n",
       "\t Senior      & Self-emp-not-inc & Bachelors & Married-civ-spouse & Exec-managerial   & Husband       & White & Male   & None & None & Part-time & United-States & small\\\\\n",
       "\t Middle-aged & Private          & HS-grad   & Divorced           & Handlers-cleaners & Not-in-family & White & Male   & None & None & Full-time & United-States & small\\\\\n",
       "\t Senior      & Private          & 11th      & Married-civ-spouse & Handlers-cleaners & Husband       & Black & Male   & None & None & Full-time & United-States & small\\\\\n",
       "\t Middle-aged & Private          & Bachelors & Married-civ-spouse & Prof-specialty    & Wife          & Black & Female & None & None & Full-time & Cuba          & small\\\\\n",
       "\t Middle-aged & Private          & Masters   & Married-civ-spouse & Exec-managerial   & Wife          & White & Female & None & None & Full-time & United-States & small\\\\\n",
       "\\end{tabular}\n"
      ],
      "text/markdown": [
       "\n",
       "A data.frame: 6 × 13\n",
       "\n",
       "| age &lt;ord&gt; | workclass &lt;fct&gt; | education &lt;ord&gt; | marital-status &lt;fct&gt; | occupation &lt;fct&gt; | relationship &lt;fct&gt; | race &lt;fct&gt; | sex &lt;fct&gt; | capital-gain &lt;ord&gt; | capital-loss &lt;ord&gt; | hours-per-week &lt;ord&gt; | native-country &lt;fct&gt; | income &lt;ord&gt; |\n",
       "|---|---|---|---|---|---|---|---|---|---|---|---|---|\n",
       "| Middle-aged | State-gov        | Bachelors | Never-married      | Adm-clerical      | Not-in-family | White | Male   | Low  | None | Full-time | United-States | small |\n",
       "| Senior      | Self-emp-not-inc | Bachelors | Married-civ-spouse | Exec-managerial   | Husband       | White | Male   | None | None | Part-time | United-States | small |\n",
       "| Middle-aged | Private          | HS-grad   | Divorced           | Handlers-cleaners | Not-in-family | White | Male   | None | None | Full-time | United-States | small |\n",
       "| Senior      | Private          | 11th      | Married-civ-spouse | Handlers-cleaners | Husband       | Black | Male   | None | None | Full-time | United-States | small |\n",
       "| Middle-aged | Private          | Bachelors | Married-civ-spouse | Prof-specialty    | Wife          | Black | Female | None | None | Full-time | Cuba          | small |\n",
       "| Middle-aged | Private          | Masters   | Married-civ-spouse | Exec-managerial   | Wife          | White | Female | None | None | Full-time | United-States | small |\n",
       "\n"
      ],
      "text/plain": [
       "  age         workclass        education marital-status     occupation       \n",
       "1 Middle-aged State-gov        Bachelors Never-married      Adm-clerical     \n",
       "2 Senior      Self-emp-not-inc Bachelors Married-civ-spouse Exec-managerial  \n",
       "3 Middle-aged Private          HS-grad   Divorced           Handlers-cleaners\n",
       "4 Senior      Private          11th      Married-civ-spouse Handlers-cleaners\n",
       "5 Middle-aged Private          Bachelors Married-civ-spouse Prof-specialty   \n",
       "6 Middle-aged Private          Masters   Married-civ-spouse Exec-managerial  \n",
       "  relationship  race  sex    capital-gain capital-loss hours-per-week\n",
       "1 Not-in-family White Male   Low          None         Full-time     \n",
       "2 Husband       White Male   None         None         Part-time     \n",
       "3 Not-in-family White Male   None         None         Full-time     \n",
       "4 Husband       Black Male   None         None         Full-time     \n",
       "5 Wife          Black Female None         None         Full-time     \n",
       "6 Wife          White Female None         None         Full-time     \n",
       "  native-country income\n",
       "1 United-States  small \n",
       "2 United-States  small \n",
       "3 United-States  small \n",
       "4 United-States  small \n",
       "5 Cuba           small \n",
       "6 United-States  small "
      ]
     },
     "metadata": {},
     "output_type": "display_data"
    }
   ],
   "source": [
    "AdultUCI$age <- ordered(cut(AdultUCI$age, c(15,25,45,65,100)),\n",
    "                              labels = c(\"Young\", \"Middle-aged\", \"Senior\", \"Old\"))\n",
    "\n",
    "AdultUCI$\"hours-per-week\" <- ordered(cut(AdultUCI$\"hours-per-week\",\n",
    "                                             c(0,25,40,60,168)),\n",
    "                                         labels = c(\"Part-time\", \"Full-time\", \"Over-time\", \"Workaholic\"))\n",
    "\n",
    "AdultUCI$\"capital-gain\" <- ordered(cut(AdultUCI$\"capital-gain\",\n",
    "                                           c(-Inf,0,median(AdultUCI$\"capital-gain\"[AdultUCI$\"capital-gain\">0]),\n",
    "                                             Inf)), labels = c(\"None\", \"Low\", \"High\"))\n",
    "\n",
    "AdultUCI$\"capital-loss\" <- ordered(cut(AdultUCI$\"capital-loss\",\n",
    "                                           c(-Inf,0, median(AdultUCI$\"capital-loss\"[AdultUCI$\"capital-loss\">0]),\n",
    "                                             Inf)), labels = c(\"None\", \"Low\", \"High\"))\n",
    "\n",
    "head(AdultUCI)"
   ]
  },
  {
   "cell_type": "markdown",
   "metadata": {},
   "source": [
    "## Convert to transactions"
   ]
  },
  {
   "cell_type": "code",
   "execution_count": 12,
   "metadata": {},
   "outputs": [],
   "source": [
    "AdultTrans <- as(AdultUCI, \"transactions\")\n"
   ]
  },
  {
   "cell_type": "markdown",
   "metadata": {},
   "source": [
    "## A Priori\n"
   ]
  },
  {
   "cell_type": "code",
   "execution_count": 13,
   "metadata": {},
   "outputs": [
    {
     "name": "stdout",
     "output_type": "stream",
     "text": [
      "Apriori\n",
      "\n",
      "Parameter specification:\n",
      " confidence minval smax arem  aval originalSupport maxtime support minlen\n",
      "        0.9    0.1    1 none FALSE            TRUE       5     0.5      2\n",
      " maxlen target   ext\n",
      "     10  rules FALSE\n",
      "\n",
      "Algorithmic control:\n",
      " filter tree heap memopt load sort verbose\n",
      "    0.1 TRUE TRUE  FALSE TRUE    2    TRUE\n",
      "\n",
      "Absolute minimum support count: 24421 \n",
      "\n",
      "set item appearances ...[1 item(s)] done [0.00s].\n",
      "set transactions ...[115 item(s), 48842 transaction(s)] done [0.05s].\n",
      "sorting and recoding items ... [9 item(s)] done [0.00s].\n",
      "creating transaction tree ... done [0.02s].\n",
      "checking subsets of size 1 2 3 4 done [0.00s].\n",
      "writing ... [18 rule(s)] done [0.00s].\n",
      "creating S4 object  ... done [0.00s].\n",
      "     lhs                               rhs                   support confidence      lift count\n",
      "[1]  {hours-per-week=Full-time}     => {capital-gain=None} 0.5435895  0.9290688 1.0127342 26550\n",
      "[2]  {sex=Male}                     => {capital-gain=None} 0.6050735  0.9051455 0.9866565 29553\n",
      "[3]  {workclass=Private}            => {capital-gain=None} 0.6413742  0.9239073 1.0071078 31326\n",
      "[4]  {race=White}                   => {capital-gain=None} 0.7817862  0.9143240 0.9966616 38184\n",
      "[5]  {native-country=United-States} => {capital-gain=None} 0.8219565  0.9159062 0.9983862 40146\n",
      "[6]  {capital-loss=None}            => {capital-gain=None} 0.8706646  0.9133376 0.9955863 42525\n",
      "[7]  {capital-loss=None,                                                                       \n",
      "      hours-per-week=Full-time}     => {capital-gain=None} 0.5191638  0.9259787 1.0093657 25357\n",
      "[8]  {race=White,                                                                              \n",
      "      sex=Male}                     => {capital-gain=None} 0.5313050  0.9030799 0.9844048 25950\n",
      "[9]  {sex=Male,                                                                                \n",
      "      native-country=United-States} => {capital-gain=None} 0.5406003  0.9035349 0.9849008 26404\n",
      "[10] {workclass=Private,                                                                       \n",
      "      race=White}                   => {capital-gain=None} 0.5472339  0.9208931 1.0038221 26728\n",
      "[11] {workclass=Private,                                                                       \n",
      "      native-country=United-States} => {capital-gain=None} 0.5689570  0.9218444 1.0048592 27789\n",
      "[12] {workclass=Private,                                                                       \n",
      "      capital-loss=None}            => {capital-gain=None} 0.6111748  0.9204465 1.0033354 29851\n",
      "[13] {race=White,                                                                              \n",
      "      native-country=United-States} => {capital-gain=None} 0.7194628  0.9128933 0.9951019 35140\n",
      "[14] {race=White,                                                                              \n",
      "      capital-loss=None}            => {capital-gain=None} 0.7404283  0.9099693 0.9919147 36164\n",
      "[15] {capital-loss=None,                                                                       \n",
      "      native-country=United-States} => {capital-gain=None} 0.7793702  0.9117168 0.9938195 38066\n",
      "[16] {workclass=Private,                                                                       \n",
      "      race=White,                                                                              \n",
      "      capital-loss=None}            => {capital-gain=None} 0.5204742  0.9171628 0.9997559 25421\n",
      "[17] {workclass=Private,                                                                       \n",
      "      capital-loss=None,                                                                       \n",
      "      native-country=United-States} => {capital-gain=None} 0.5414807  0.9182030 1.0008898 26447\n",
      "[18] {race=White,                                                                              \n",
      "      capital-loss=None,                                                                       \n",
      "      native-country=United-States} => {capital-gain=None} 0.6803980  0.9083504 0.9901500 33232\n"
     ]
    }
   ],
   "source": [
    "rules <- apriori(AdultTrans, parameter=list(supp = 0.5, conf = 0.9, minlen=2, maxlen= 10, target = \"rules\"), \n",
    "                 appearance=list(rhs = c(\"capital-gain=None\"), default=\"lhs\"), control=NULL)\n",
    "inspect(rules)"
   ]
  },
  {
   "cell_type": "code",
   "execution_count": 14,
   "metadata": {},
   "outputs": [
    {
     "data": {
      "text/html": [
       "<table>\n",
       "<caption>A data.frame: 6 × 5</caption>\n",
       "<thead>\n",
       "\t<tr><th scope=col>rules</th><th scope=col>support</th><th scope=col>confidence</th><th scope=col>lift</th><th scope=col>count</th></tr>\n",
       "\t<tr><th scope=col>&lt;fct&gt;</th><th scope=col>&lt;dbl&gt;</th><th scope=col>&lt;dbl&gt;</th><th scope=col>&lt;dbl&gt;</th><th scope=col>&lt;dbl&gt;</th></tr>\n",
       "</thead>\n",
       "<tbody>\n",
       "\t<tr><td><span style=white-space:pre-wrap>{hours-per-week=Full-time} =&gt; {capital-gain=None}    </span></td><td>0.5435895</td><td>0.9290688</td><td>1.0127342</td><td>26550</td></tr>\n",
       "\t<tr><td><span style=white-space:pre-wrap>{sex=Male} =&gt; {capital-gain=None}                    </span></td><td>0.6050735</td><td>0.9051455</td><td>0.9866565</td><td>29553</td></tr>\n",
       "\t<tr><td><span style=white-space:pre-wrap>{workclass=Private} =&gt; {capital-gain=None}           </span></td><td>0.6413742</td><td>0.9239073</td><td>1.0071078</td><td>31326</td></tr>\n",
       "\t<tr><td><span style=white-space:pre-wrap>{race=White} =&gt; {capital-gain=None}                  </span></td><td>0.7817862</td><td>0.9143240</td><td>0.9966616</td><td>38184</td></tr>\n",
       "\t<tr><td>{native-country=United-States} =&gt; {capital-gain=None}</td><td>0.8219565</td><td>0.9159062</td><td>0.9983862</td><td>40146</td></tr>\n",
       "\t<tr><td><span style=white-space:pre-wrap>{capital-loss=None} =&gt; {capital-gain=None}           </span></td><td>0.8706646</td><td>0.9133376</td><td>0.9955863</td><td>42525</td></tr>\n",
       "</tbody>\n",
       "</table>\n"
      ],
      "text/latex": [
       "A data.frame: 6 × 5\n",
       "\\begin{tabular}{r|lllll}\n",
       " rules & support & confidence & lift & count\\\\\n",
       " <fct> & <dbl> & <dbl> & <dbl> & <dbl>\\\\\n",
       "\\hline\n",
       "\t \\{hours-per-week=Full-time\\} => \\{capital-gain=None\\}     & 0.5435895 & 0.9290688 & 1.0127342 & 26550\\\\\n",
       "\t \\{sex=Male\\} => \\{capital-gain=None\\}                     & 0.6050735 & 0.9051455 & 0.9866565 & 29553\\\\\n",
       "\t \\{workclass=Private\\} => \\{capital-gain=None\\}            & 0.6413742 & 0.9239073 & 1.0071078 & 31326\\\\\n",
       "\t \\{race=White\\} => \\{capital-gain=None\\}                   & 0.7817862 & 0.9143240 & 0.9966616 & 38184\\\\\n",
       "\t \\{native-country=United-States\\} => \\{capital-gain=None\\} & 0.8219565 & 0.9159062 & 0.9983862 & 40146\\\\\n",
       "\t \\{capital-loss=None\\} => \\{capital-gain=None\\}            & 0.8706646 & 0.9133376 & 0.9955863 & 42525\\\\\n",
       "\\end{tabular}\n"
      ],
      "text/markdown": [
       "\n",
       "A data.frame: 6 × 5\n",
       "\n",
       "| rules &lt;fct&gt; | support &lt;dbl&gt; | confidence &lt;dbl&gt; | lift &lt;dbl&gt; | count &lt;dbl&gt; |\n",
       "|---|---|---|---|---|\n",
       "| {hours-per-week=Full-time} =&gt; {capital-gain=None}     | 0.5435895 | 0.9290688 | 1.0127342 | 26550 |\n",
       "| {sex=Male} =&gt; {capital-gain=None}                     | 0.6050735 | 0.9051455 | 0.9866565 | 29553 |\n",
       "| {workclass=Private} =&gt; {capital-gain=None}            | 0.6413742 | 0.9239073 | 1.0071078 | 31326 |\n",
       "| {race=White} =&gt; {capital-gain=None}                   | 0.7817862 | 0.9143240 | 0.9966616 | 38184 |\n",
       "| {native-country=United-States} =&gt; {capital-gain=None} | 0.8219565 | 0.9159062 | 0.9983862 | 40146 |\n",
       "| {capital-loss=None} =&gt; {capital-gain=None}            | 0.8706646 | 0.9133376 | 0.9955863 | 42525 |\n",
       "\n"
      ],
      "text/plain": [
       "  rules                                                 support   confidence\n",
       "1 {hours-per-week=Full-time} => {capital-gain=None}     0.5435895 0.9290688 \n",
       "2 {sex=Male} => {capital-gain=None}                     0.6050735 0.9051455 \n",
       "3 {workclass=Private} => {capital-gain=None}            0.6413742 0.9239073 \n",
       "4 {race=White} => {capital-gain=None}                   0.7817862 0.9143240 \n",
       "5 {native-country=United-States} => {capital-gain=None} 0.8219565 0.9159062 \n",
       "6 {capital-loss=None} => {capital-gain=None}            0.8706646 0.9133376 \n",
       "  lift      count\n",
       "1 1.0127342 26550\n",
       "2 0.9866565 29553\n",
       "3 1.0071078 31326\n",
       "4 0.9966616 38184\n",
       "5 0.9983862 40146\n",
       "6 0.9955863 42525"
      ]
     },
     "metadata": {},
     "output_type": "display_data"
    }
   ],
   "source": [
    "rules_a <- as(rules, \"data.frame\")\n",
    "head(rules_a)"
   ]
  },
  {
   "cell_type": "markdown",
   "metadata": {},
   "source": [
    "## Analysis of Rules"
   ]
  },
  {
   "cell_type": "code",
   "execution_count": 15,
   "metadata": {},
   "outputs": [
    {
     "data": {
      "text/html": [
       "<table>\n",
       "<caption>A data.frame: 6 × 46</caption>\n",
       "<thead>\n",
       "\t<tr><th scope=col>support</th><th scope=col>count</th><th scope=col>coverage</th><th scope=col>confidence</th><th scope=col>lift</th><th scope=col>leverage</th><th scope=col>hyperLift</th><th scope=col>hyperConfidence</th><th scope=col>fishersExactTest</th><th scope=col>improvement</th><th scope=col>...</th><th scope=col>casualSupport</th><th scope=col>casualConfidence</th><th scope=col>leastContradiction</th><th scope=col>centeredConfidence</th><th scope=col>varyingLiaison</th><th scope=col>yuleQ</th><th scope=col>yuleY</th><th scope=col>lerman</th><th scope=col>implicationIndex</th><th scope=col>importance</th></tr>\n",
       "\t<tr><th scope=col>&lt;dbl&gt;</th><th scope=col>&lt;dbl&gt;</th><th scope=col>&lt;dbl&gt;</th><th scope=col>&lt;dbl&gt;</th><th scope=col>&lt;dbl&gt;</th><th scope=col>&lt;dbl&gt;</th><th scope=col>&lt;dbl&gt;</th><th scope=col>&lt;dbl&gt;</th><th scope=col>&lt;dbl&gt;</th><th scope=col>&lt;dbl&gt;</th><th scope=col>...</th><th scope=col>&lt;dbl&gt;</th><th scope=col>&lt;dbl&gt;</th><th scope=col>&lt;dbl&gt;</th><th scope=col>&lt;dbl&gt;</th><th scope=col>&lt;dbl&gt;</th><th scope=col>&lt;dbl&gt;</th><th scope=col>&lt;dbl&gt;</th><th scope=col>&lt;dbl&gt;</th><th scope=col>&lt;dbl&gt;</th><th scope=col>&lt;dbl&gt;</th></tr>\n",
       "</thead>\n",
       "<tbody>\n",
       "\t<tr><td>0.5435895</td><td>26550</td><td>0.5850907</td><td>0.9290688</td><td>1.0127342</td><td> 0.006835121</td><td>1.0100434</td><td>1.000000e+00</td><td>1.121041e-28</td><td>Inf</td><td>...</td><td>1.419475</td><td>0.9999976</td><td>0.5925413</td><td> 0.011682156</td><td> 0.012734168</td><td> 0.1805312</td><td> 0.09101332</td><td> 2.0618407</td><td>-6.870784</td><td> 0.013370119</td></tr>\n",
       "\t<tr><td>0.6050735</td><td>29553</td><td>0.6684820</td><td>0.9051455</td><td>0.9866565</td><td>-0.008183018</td><td>0.9844437</td><td>4.037659e-47</td><td>1.000000e+00</td><td>Inf</td><td>...</td><td>1.459052</td><td>0.9999966</td><td>0.6595621</td><td>-0.012241193</td><td>-0.013343548</td><td>-0.2604097</td><td>-0.13249043</td><td>-2.3093466</td><td> 7.695561</td><td>-0.017351596</td></tr>\n",
       "\t<tr><td>0.6413742</td><td>31326</td><td>0.6941976</td><td>0.9239073</td><td>1.0071078</td><td> 0.004526583</td><td>1.0050048</td><td>1.000000e+00</td><td>4.115642e-15</td><td>Inf</td><td>...</td><td>1.505938</td><td>0.9999973</td><td>0.6991318</td><td> 0.006520598</td><td> 0.007107796</td><td> 0.1343742</td><td> 0.06749314</td><td> 1.2535725</td><td>-4.177348</td><td> 0.010154765</td></tr>\n",
       "\t<tr><td>0.7817862</td><td>38184</td><td>0.8550428</td><td>0.9143240</td><td>0.9966616</td><td>-0.002618696</td><td>0.9953600</td><td>3.318642e-10</td><td>1.000000e+00</td><td>Inf</td><td>...</td><td>1.625916</td><td>0.9999966</td><td>0.8521883</td><td>-0.003062649</td><td>-0.003338449</td><td>-0.1518210</td><td>-0.07635304</td><td>-0.6534489</td><td> 2.177523</td><td>-0.009873694</td></tr>\n",
       "\t<tr><td>0.8219565</td><td>40146</td><td>0.8974243</td><td>0.9159062</td><td>0.9983862</td><td>-0.001328626</td><td>0.9973170</td><td>1.488781e-04</td><td>9.998511e-01</td><td>Inf</td><td>...</td><td>1.663875</td><td>0.9999966</td><td>0.8959761</td><td>-0.001480488</td><td>-0.001613810</td><td>-0.1016143</td><td>-0.05093898</td><td>-0.3236118</td><td> 1.078389</td><td>-0.006719212</td></tr>\n",
       "\t<tr><td>0.8706646</td><td>42525</td><td>0.9532779</td><td>0.9133376</td><td>0.9955863</td><td>-0.003859867</td><td>0.9948765</td><td>0.000000e+00</td><td>1.000000e+00</td><td>Inf</td><td>...</td><td>1.705438</td><td>0.9999964</td><td>0.9490705</td><td>-0.004049047</td><td>-0.004413675</td><td>-1.0000000</td><td>-0.99999963</td><td>-0.9121852</td><td> 3.039724</td><td>-0.039186904</td></tr>\n",
       "</tbody>\n",
       "</table>\n"
      ],
      "text/latex": [
       "A data.frame: 6 × 46\n",
       "\\begin{tabular}{r|llllllllllllllllllllllllllllllllllllllllllllll}\n",
       " support & count & coverage & confidence & lift & leverage & hyperLift & hyperConfidence & fishersExactTest & improvement & chiSquared & cosine & conviction & gini & oddsRatio & phi & doc & RLD & imbalance & kulczynski & collectiveStrength & jaccard & kappa & mutualInformation & lambda & jMeasure & laplace & certainty & addedValue & maxconfidence & rulePowerFactor & ralambrodrainy & descriptiveConfirm & confirmedConfidence & sebag & counterexample & casualSupport & casualConfidence & leastContradiction & centeredConfidence & varyingLiaison & yuleQ & yuleY & lerman & implicationIndex & importance\\\\\n",
       " <dbl> & <dbl> & <dbl> & <dbl> & <dbl> & <dbl> & <dbl> & <dbl> & <dbl> & <dbl> & <dbl> & <dbl> & <dbl> & <dbl> & <dbl> & <dbl> & <dbl> & <dbl> & <dbl> & <dbl> & <dbl> & <dbl> & <dbl> & <dbl> & <dbl> & <dbl> & <dbl> & <dbl> & <dbl> & <dbl> & <dbl> & <dbl> & <dbl> & <dbl> & <dbl> & <dbl> & <dbl> & <dbl> & <dbl> & <dbl> & <dbl> & <dbl> & <dbl> & <dbl> & <dbl> & <dbl>\\\\\n",
       "\\hline\n",
       "\t 0.5435895 & 26550 & 0.5850907 & 0.9290688 & 1.0127342 &  0.006835121 & 1.0100434 & 1.000000e+00 & 1.121041e-28 & Inf & 124.02435 & 0.7419648 & 1.1646971 & 3.848983e-04 & 1.440606e+00 &  0.05039144 &  0.02815593 & 0.14140765 & 0.34654311 & 0.7608051 & 2.100469e+03 & 0.5668958 &  0.03186770 & 0.0043952671 & 0 & 5.511463e-04 & 0.9290388 &  0.14140765 &  0.011682156 & 0.9290688 & 0.5050321 & 0.04150117 & 0.5020884 & 0.8581377 & 13.09817 & 0.9236535 & 1.419475 & 0.9999976 & 0.5925413 &  0.011682156 &  0.012734168 &  0.1805312 &  0.09101332 &  2.0618407 & -6.870784 &  0.013370119\\\\\n",
       "\t 0.6050735 & 29553 & 0.6684820 & 0.9051455 & 0.9866565 & -0.008183018 & 0.9844437 & 4.037659e-47 & 1.000000e+00 & Inf & 194.72472 & 0.7726575 & 0.8709477 & 6.043106e-04 & 5.867856e-01 & -0.06314134 & -0.03692468 & 0.29878331 & 0.25377839 & 0.7823538 & 8.851584e+02 & 0.6169213 & -0.04554272 & 0.0073965786 & 0 & 6.331921e-04 & 0.9051207 & -0.14817456 & -0.012241193 & 0.9051455 & 0.5476795 & 0.06340854 & 0.5416650 & 0.8102910 &  9.54246 & 0.8952052 & 1.459052 & 0.9999966 & 0.6595621 & -0.012241193 & -0.013343548 & -0.2604097 & -0.13249043 & -2.3093466 &  7.695561 & -0.017351596\\\\\n",
       "\t 0.6413742 & 31326 & 0.6941976 & 0.9239073 & 1.0071078 &  0.004526583 & 1.0050048 & 1.000000e+00 & 4.115642e-15 & Inf &  62.20252 & 0.8036996 & 1.0856928 & 1.930399e-04 & 1.310467e+00 &  0.03568677 &  0.02132291 & 0.07892913 & 0.23004199 & 0.8115196 & 1.505665e+03 & 0.6610674 &  0.02679332 & 0.0021731163 & 0 & 1.995834e-04 & 0.9238823 &  0.07892913 &  0.006520598 & 0.9239073 & 0.5925703 & 0.05282339 & 0.5885508 & 0.8478145 & 12.14186 & 0.9176403 & 1.505938 & 0.9999973 & 0.6991318 &  0.006520598 &  0.007107796 &  0.1343742 &  0.06749314 &  1.2535725 & -4.177348 &  0.010154765\\\\\n",
       "\t 0.7817862 & 38184 & 0.8550428 & 0.9143240 & 0.9966616 & -0.002618696 & 0.9953600 & 3.318642e-10 & 1.000000e+00 & Inf &  35.65606 & 0.8827096 & 0.9642531 & 1.106554e-04 & 7.363809e-01 & -0.02701904 & -0.02112795 & 0.21867298 & 0.06293273 & 0.8832562 & 4.440500e+02 & 0.7891702 & -0.02572143 & 0.0013600755 & 0 & 5.232738e-05 & 0.9143042 & -0.03707209 & -0.003062649 & 0.9143240 & 0.7148059 & 0.07325662 & 0.7085295 & 0.8286481 & 10.67188 & 0.9062958 & 1.625916 & 0.9999966 & 0.8521883 & -0.003062649 & -0.003338449 & -0.1518210 & -0.07635304 & -0.6534489 &  2.177523 & -0.009873694\\\\\n",
       "\t 0.8219565 & 40146 & 0.8974243 & 0.9159062 & 0.9983862 & -0.001328626 & 0.9973170 & 1.488781e-04 & 9.998511e-01 & Inf &  12.35817 & 0.9058863 & 0.9823948 & 3.835248e-05 & 8.155175e-01 & -0.01590671 & -0.01443313 & 0.15678640 & 0.02010599 & 0.9059411 & 3.430174e+02 & 0.8278721 & -0.01579434 & 0.0004640834 & 0 & 1.290712e-05 & 0.9158872 & -0.01792069 & -0.001480488 & 0.9159062 & 0.7528351 & 0.07546784 & 0.7464887 & 0.8318124 & 10.89148 & 0.9081851 & 1.663875 & 0.9999966 & 0.8959761 & -0.001480488 & -0.001613810 & -0.1016143 & -0.05093898 & -0.3236118 &  1.078389 & -0.006719212\\\\\n",
       "\t 0.8706646 & 42525 & 0.9532779 & 0.9133376 & 0.9955863 & -0.003859867 & 0.9948765 & 0.000000e+00 & 1.000000e+00 & Inf & 215.57271 & 0.9310326 & 0.9532779 & 6.690104e-04 & 3.360279e-14 & -0.06643549 & -0.08666237 & 1.00000000 & 0.03589124 & 0.9312040 & 6.811455e-12 & 0.8706646 & -0.06347647 & 0.0218825031 & 0 & 1.016120e-04 & 0.9133199 & -0.04901203 & -0.004049047 & 0.9490705 & 0.7952107 & 0.08261332 & 0.7880513 & 0.8266753 & 10.53903 & 0.9051146 & 1.705438 & 0.9999964 & 0.9490705 & -0.004049047 & -0.004413675 & -1.0000000 & -0.99999963 & -0.9121852 &  3.039724 & -0.039186904\\\\\n",
       "\\end{tabular}\n"
      ],
      "text/markdown": [
       "\n",
       "A data.frame: 6 × 46\n",
       "\n",
       "| support &lt;dbl&gt; | count &lt;dbl&gt; | coverage &lt;dbl&gt; | confidence &lt;dbl&gt; | lift &lt;dbl&gt; | leverage &lt;dbl&gt; | hyperLift &lt;dbl&gt; | hyperConfidence &lt;dbl&gt; | fishersExactTest &lt;dbl&gt; | improvement &lt;dbl&gt; | ... ... | casualSupport &lt;dbl&gt; | casualConfidence &lt;dbl&gt; | leastContradiction &lt;dbl&gt; | centeredConfidence &lt;dbl&gt; | varyingLiaison &lt;dbl&gt; | yuleQ &lt;dbl&gt; | yuleY &lt;dbl&gt; | lerman &lt;dbl&gt; | implicationIndex &lt;dbl&gt; | importance &lt;dbl&gt; |\n",
       "|---|---|---|---|---|---|---|---|---|---|---|---|---|---|---|---|---|---|---|---|---|\n",
       "| 0.5435895 | 26550 | 0.5850907 | 0.9290688 | 1.0127342 |  0.006835121 | 1.0100434 | 1.000000e+00 | 1.121041e-28 | Inf | ... | 1.419475 | 0.9999976 | 0.5925413 |  0.011682156 |  0.012734168 |  0.1805312 |  0.09101332 |  2.0618407 | -6.870784 |  0.013370119 |\n",
       "| 0.6050735 | 29553 | 0.6684820 | 0.9051455 | 0.9866565 | -0.008183018 | 0.9844437 | 4.037659e-47 | 1.000000e+00 | Inf | ... | 1.459052 | 0.9999966 | 0.6595621 | -0.012241193 | -0.013343548 | -0.2604097 | -0.13249043 | -2.3093466 |  7.695561 | -0.017351596 |\n",
       "| 0.6413742 | 31326 | 0.6941976 | 0.9239073 | 1.0071078 |  0.004526583 | 1.0050048 | 1.000000e+00 | 4.115642e-15 | Inf | ... | 1.505938 | 0.9999973 | 0.6991318 |  0.006520598 |  0.007107796 |  0.1343742 |  0.06749314 |  1.2535725 | -4.177348 |  0.010154765 |\n",
       "| 0.7817862 | 38184 | 0.8550428 | 0.9143240 | 0.9966616 | -0.002618696 | 0.9953600 | 3.318642e-10 | 1.000000e+00 | Inf | ... | 1.625916 | 0.9999966 | 0.8521883 | -0.003062649 | -0.003338449 | -0.1518210 | -0.07635304 | -0.6534489 |  2.177523 | -0.009873694 |\n",
       "| 0.8219565 | 40146 | 0.8974243 | 0.9159062 | 0.9983862 | -0.001328626 | 0.9973170 | 1.488781e-04 | 9.998511e-01 | Inf | ... | 1.663875 | 0.9999966 | 0.8959761 | -0.001480488 | -0.001613810 | -0.1016143 | -0.05093898 | -0.3236118 |  1.078389 | -0.006719212 |\n",
       "| 0.8706646 | 42525 | 0.9532779 | 0.9133376 | 0.9955863 | -0.003859867 | 0.9948765 | 0.000000e+00 | 1.000000e+00 | Inf | ... | 1.705438 | 0.9999964 | 0.9490705 | -0.004049047 | -0.004413675 | -1.0000000 | -0.99999963 | -0.9121852 |  3.039724 | -0.039186904 |\n",
       "\n"
      ],
      "text/plain": [
       "  support   count coverage  confidence lift      leverage     hyperLift\n",
       "1 0.5435895 26550 0.5850907 0.9290688  1.0127342  0.006835121 1.0100434\n",
       "2 0.6050735 29553 0.6684820 0.9051455  0.9866565 -0.008183018 0.9844437\n",
       "3 0.6413742 31326 0.6941976 0.9239073  1.0071078  0.004526583 1.0050048\n",
       "4 0.7817862 38184 0.8550428 0.9143240  0.9966616 -0.002618696 0.9953600\n",
       "5 0.8219565 40146 0.8974243 0.9159062  0.9983862 -0.001328626 0.9973170\n",
       "6 0.8706646 42525 0.9532779 0.9133376  0.9955863 -0.003859867 0.9948765\n",
       "  hyperConfidence fishersExactTest improvement ... casualSupport\n",
       "1 1.000000e+00    1.121041e-28     Inf         ... 1.419475     \n",
       "2 4.037659e-47    1.000000e+00     Inf         ... 1.459052     \n",
       "3 1.000000e+00    4.115642e-15     Inf         ... 1.505938     \n",
       "4 3.318642e-10    1.000000e+00     Inf         ... 1.625916     \n",
       "5 1.488781e-04    9.998511e-01     Inf         ... 1.663875     \n",
       "6 0.000000e+00    1.000000e+00     Inf         ... 1.705438     \n",
       "  casualConfidence leastContradiction centeredConfidence varyingLiaison\n",
       "1 0.9999976        0.5925413           0.011682156        0.012734168  \n",
       "2 0.9999966        0.6595621          -0.012241193       -0.013343548  \n",
       "3 0.9999973        0.6991318           0.006520598        0.007107796  \n",
       "4 0.9999966        0.8521883          -0.003062649       -0.003338449  \n",
       "5 0.9999966        0.8959761          -0.001480488       -0.001613810  \n",
       "6 0.9999964        0.9490705          -0.004049047       -0.004413675  \n",
       "  yuleQ      yuleY       lerman     implicationIndex importance  \n",
       "1  0.1805312  0.09101332  2.0618407 -6.870784         0.013370119\n",
       "2 -0.2604097 -0.13249043 -2.3093466  7.695561        -0.017351596\n",
       "3  0.1343742  0.06749314  1.2535725 -4.177348         0.010154765\n",
       "4 -0.1518210 -0.07635304 -0.6534489  2.177523        -0.009873694\n",
       "5 -0.1016143 -0.05093898 -0.3236118  1.078389        -0.006719212\n",
       "6 -1.0000000 -0.99999963 -0.9121852  3.039724        -0.039186904"
      ]
     },
     "metadata": {},
     "output_type": "display_data"
    }
   ],
   "source": [
    "imrules <- interestMeasure(rules, transactions = AdultTrans)\n",
    "head(imrules)"
   ]
  },
  {
   "cell_type": "markdown",
   "metadata": {},
   "source": [
    "## Removing redundant rules"
   ]
  },
  {
   "cell_type": "code",
   "execution_count": 16,
   "metadata": {},
   "outputs": [],
   "source": [
    "rules.sorted <- sort(rules, by=\"lift\")\n",
    "subset.matrix <- is.subset(rules.sorted, rules.sorted)\n",
    "subset.matrix[lower.tri(subset.matrix, diag=TRUE)] <- FALSE\n",
    "redundant <- colSums(subset.matrix, na.rm=TRUE) >= 1"
   ]
  },
  {
   "cell_type": "code",
   "execution_count": 17,
   "metadata": {},
   "outputs": [
    {
     "data": {
      "text/html": [
       "<table>\n",
       "<caption>A data.frame: 6 × 5</caption>\n",
       "<thead>\n",
       "\t<tr><th></th><th scope=col>rules</th><th scope=col>support</th><th scope=col>confidence</th><th scope=col>lift</th><th scope=col>count</th></tr>\n",
       "\t<tr><th></th><th scope=col>&lt;fct&gt;</th><th scope=col>&lt;dbl&gt;</th><th scope=col>&lt;dbl&gt;</th><th scope=col>&lt;dbl&gt;</th><th scope=col>&lt;dbl&gt;</th></tr>\n",
       "</thead>\n",
       "<tbody>\n",
       "\t<tr><th scope=row>7</th><td><span style=white-space:pre-wrap>{capital-loss=None,hours-per-week=Full-time} =&gt; {capital-gain=None}                      </span></td><td>0.5191638</td><td>0.9259787</td><td>1.0093657</td><td>25357</td></tr>\n",
       "\t<tr><th scope=row>11</th><td><span style=white-space:pre-wrap>{workclass=Private,native-country=United-States} =&gt; {capital-gain=None}                  </span></td><td>0.5689570</td><td>0.9218444</td><td>1.0048592</td><td>27789</td></tr>\n",
       "\t<tr><th scope=row>10</th><td><span style=white-space:pre-wrap>{workclass=Private,race=White} =&gt; {capital-gain=None}                                    </span></td><td>0.5472339</td><td>0.9208931</td><td>1.0038221</td><td>26728</td></tr>\n",
       "\t<tr><th scope=row>12</th><td><span style=white-space:pre-wrap>{workclass=Private,capital-loss=None} =&gt; {capital-gain=None}                             </span></td><td>0.6111748</td><td>0.9204465</td><td>1.0033354</td><td>29851</td></tr>\n",
       "\t<tr><th scope=row>17</th><td>{workclass=Private,capital-loss=None,native-country=United-States} =&gt; {capital-gain=None}</td><td>0.5414807</td><td>0.9182030</td><td>1.0008898</td><td>26447</td></tr>\n",
       "\t<tr><th scope=row>16</th><td><span style=white-space:pre-wrap>{workclass=Private,race=White,capital-loss=None} =&gt; {capital-gain=None}                  </span></td><td>0.5204742</td><td>0.9171628</td><td>0.9997559</td><td>25421</td></tr>\n",
       "</tbody>\n",
       "</table>\n"
      ],
      "text/latex": [
       "A data.frame: 6 × 5\n",
       "\\begin{tabular}{r|lllll}\n",
       "  & rules & support & confidence & lift & count\\\\\n",
       "  & <fct> & <dbl> & <dbl> & <dbl> & <dbl>\\\\\n",
       "\\hline\n",
       "\t7 & \\{capital-loss=None,hours-per-week=Full-time\\} => \\{capital-gain=None\\}                       & 0.5191638 & 0.9259787 & 1.0093657 & 25357\\\\\n",
       "\t11 & \\{workclass=Private,native-country=United-States\\} => \\{capital-gain=None\\}                   & 0.5689570 & 0.9218444 & 1.0048592 & 27789\\\\\n",
       "\t10 & \\{workclass=Private,race=White\\} => \\{capital-gain=None\\}                                     & 0.5472339 & 0.9208931 & 1.0038221 & 26728\\\\\n",
       "\t12 & \\{workclass=Private,capital-loss=None\\} => \\{capital-gain=None\\}                              & 0.6111748 & 0.9204465 & 1.0033354 & 29851\\\\\n",
       "\t17 & \\{workclass=Private,capital-loss=None,native-country=United-States\\} => \\{capital-gain=None\\} & 0.5414807 & 0.9182030 & 1.0008898 & 26447\\\\\n",
       "\t16 & \\{workclass=Private,race=White,capital-loss=None\\} => \\{capital-gain=None\\}                   & 0.5204742 & 0.9171628 & 0.9997559 & 25421\\\\\n",
       "\\end{tabular}\n"
      ],
      "text/markdown": [
       "\n",
       "A data.frame: 6 × 5\n",
       "\n",
       "| <!--/--> | rules &lt;fct&gt; | support &lt;dbl&gt; | confidence &lt;dbl&gt; | lift &lt;dbl&gt; | count &lt;dbl&gt; |\n",
       "|---|---|---|---|---|---|\n",
       "| 7 | {capital-loss=None,hours-per-week=Full-time} =&gt; {capital-gain=None}                       | 0.5191638 | 0.9259787 | 1.0093657 | 25357 |\n",
       "| 11 | {workclass=Private,native-country=United-States} =&gt; {capital-gain=None}                   | 0.5689570 | 0.9218444 | 1.0048592 | 27789 |\n",
       "| 10 | {workclass=Private,race=White} =&gt; {capital-gain=None}                                     | 0.5472339 | 0.9208931 | 1.0038221 | 26728 |\n",
       "| 12 | {workclass=Private,capital-loss=None} =&gt; {capital-gain=None}                              | 0.6111748 | 0.9204465 | 1.0033354 | 29851 |\n",
       "| 17 | {workclass=Private,capital-loss=None,native-country=United-States} =&gt; {capital-gain=None} | 0.5414807 | 0.9182030 | 1.0008898 | 26447 |\n",
       "| 16 | {workclass=Private,race=White,capital-loss=None} =&gt; {capital-gain=None}                   | 0.5204742 | 0.9171628 | 0.9997559 | 25421 |\n",
       "\n"
      ],
      "text/plain": [
       "   rules                                                                                    \n",
       "7  {capital-loss=None,hours-per-week=Full-time} => {capital-gain=None}                      \n",
       "11 {workclass=Private,native-country=United-States} => {capital-gain=None}                  \n",
       "10 {workclass=Private,race=White} => {capital-gain=None}                                    \n",
       "12 {workclass=Private,capital-loss=None} => {capital-gain=None}                             \n",
       "17 {workclass=Private,capital-loss=None,native-country=United-States} => {capital-gain=None}\n",
       "16 {workclass=Private,race=White,capital-loss=None} => {capital-gain=None}                  \n",
       "   support   confidence lift      count\n",
       "7  0.5191638 0.9259787  1.0093657 25357\n",
       "11 0.5689570 0.9218444  1.0048592 27789\n",
       "10 0.5472339 0.9208931  1.0038221 26728\n",
       "12 0.6111748 0.9204465  1.0033354 29851\n",
       "17 0.5414807 0.9182030  1.0008898 26447\n",
       "16 0.5204742 0.9171628  0.9997559 25421"
      ]
     },
     "metadata": {},
     "output_type": "display_data"
    }
   ],
   "source": [
    "rules.redundant <- rules.sorted[redundant]\n",
    "head(as(rules.redundant, \"data.frame\"))"
   ]
  },
  {
   "cell_type": "code",
   "execution_count": 18,
   "metadata": {},
   "outputs": [
    {
     "data": {
      "text/html": [
       "<table>\n",
       "<caption>A data.frame: 6 × 5</caption>\n",
       "<thead>\n",
       "\t<tr><th></th><th scope=col>rules</th><th scope=col>support</th><th scope=col>confidence</th><th scope=col>lift</th><th scope=col>count</th></tr>\n",
       "\t<tr><th></th><th scope=col>&lt;fct&gt;</th><th scope=col>&lt;dbl&gt;</th><th scope=col>&lt;dbl&gt;</th><th scope=col>&lt;dbl&gt;</th><th scope=col>&lt;dbl&gt;</th></tr>\n",
       "</thead>\n",
       "<tbody>\n",
       "\t<tr><th scope=row>1</th><td><span style=white-space:pre-wrap>{hours-per-week=Full-time} =&gt; {capital-gain=None}    </span></td><td>0.5435895</td><td>0.9290688</td><td>1.0127342</td><td>26550</td></tr>\n",
       "\t<tr><th scope=row>3</th><td><span style=white-space:pre-wrap>{workclass=Private} =&gt; {capital-gain=None}           </span></td><td>0.6413742</td><td>0.9239073</td><td>1.0071078</td><td>31326</td></tr>\n",
       "\t<tr><th scope=row>5</th><td>{native-country=United-States} =&gt; {capital-gain=None}</td><td>0.8219565</td><td>0.9159062</td><td>0.9983862</td><td>40146</td></tr>\n",
       "\t<tr><th scope=row>4</th><td><span style=white-space:pre-wrap>{race=White} =&gt; {capital-gain=None}                  </span></td><td>0.7817862</td><td>0.9143240</td><td>0.9966616</td><td>38184</td></tr>\n",
       "\t<tr><th scope=row>6</th><td><span style=white-space:pre-wrap>{capital-loss=None} =&gt; {capital-gain=None}           </span></td><td>0.8706646</td><td>0.9133376</td><td>0.9955863</td><td>42525</td></tr>\n",
       "\t<tr><th scope=row>2</th><td><span style=white-space:pre-wrap>{sex=Male} =&gt; {capital-gain=None}                    </span></td><td>0.6050735</td><td>0.9051455</td><td>0.9866565</td><td>29553</td></tr>\n",
       "</tbody>\n",
       "</table>\n"
      ],
      "text/latex": [
       "A data.frame: 6 × 5\n",
       "\\begin{tabular}{r|lllll}\n",
       "  & rules & support & confidence & lift & count\\\\\n",
       "  & <fct> & <dbl> & <dbl> & <dbl> & <dbl>\\\\\n",
       "\\hline\n",
       "\t1 & \\{hours-per-week=Full-time\\} => \\{capital-gain=None\\}     & 0.5435895 & 0.9290688 & 1.0127342 & 26550\\\\\n",
       "\t3 & \\{workclass=Private\\} => \\{capital-gain=None\\}            & 0.6413742 & 0.9239073 & 1.0071078 & 31326\\\\\n",
       "\t5 & \\{native-country=United-States\\} => \\{capital-gain=None\\} & 0.8219565 & 0.9159062 & 0.9983862 & 40146\\\\\n",
       "\t4 & \\{race=White\\} => \\{capital-gain=None\\}                   & 0.7817862 & 0.9143240 & 0.9966616 & 38184\\\\\n",
       "\t6 & \\{capital-loss=None\\} => \\{capital-gain=None\\}            & 0.8706646 & 0.9133376 & 0.9955863 & 42525\\\\\n",
       "\t2 & \\{sex=Male\\} => \\{capital-gain=None\\}                     & 0.6050735 & 0.9051455 & 0.9866565 & 29553\\\\\n",
       "\\end{tabular}\n"
      ],
      "text/markdown": [
       "\n",
       "A data.frame: 6 × 5\n",
       "\n",
       "| <!--/--> | rules &lt;fct&gt; | support &lt;dbl&gt; | confidence &lt;dbl&gt; | lift &lt;dbl&gt; | count &lt;dbl&gt; |\n",
       "|---|---|---|---|---|---|\n",
       "| 1 | {hours-per-week=Full-time} =&gt; {capital-gain=None}     | 0.5435895 | 0.9290688 | 1.0127342 | 26550 |\n",
       "| 3 | {workclass=Private} =&gt; {capital-gain=None}            | 0.6413742 | 0.9239073 | 1.0071078 | 31326 |\n",
       "| 5 | {native-country=United-States} =&gt; {capital-gain=None} | 0.8219565 | 0.9159062 | 0.9983862 | 40146 |\n",
       "| 4 | {race=White} =&gt; {capital-gain=None}                   | 0.7817862 | 0.9143240 | 0.9966616 | 38184 |\n",
       "| 6 | {capital-loss=None} =&gt; {capital-gain=None}            | 0.8706646 | 0.9133376 | 0.9955863 | 42525 |\n",
       "| 2 | {sex=Male} =&gt; {capital-gain=None}                     | 0.6050735 | 0.9051455 | 0.9866565 | 29553 |\n",
       "\n"
      ],
      "text/plain": [
       "  rules                                                 support   confidence\n",
       "1 {hours-per-week=Full-time} => {capital-gain=None}     0.5435895 0.9290688 \n",
       "3 {workclass=Private} => {capital-gain=None}            0.6413742 0.9239073 \n",
       "5 {native-country=United-States} => {capital-gain=None} 0.8219565 0.9159062 \n",
       "4 {race=White} => {capital-gain=None}                   0.7817862 0.9143240 \n",
       "6 {capital-loss=None} => {capital-gain=None}            0.8706646 0.9133376 \n",
       "2 {sex=Male} => {capital-gain=None}                     0.6050735 0.9051455 \n",
       "  lift      count\n",
       "1 1.0127342 26550\n",
       "3 1.0071078 31326\n",
       "5 0.9983862 40146\n",
       "4 0.9966616 38184\n",
       "6 0.9955863 42525\n",
       "2 0.9866565 29553"
      ]
     },
     "metadata": {},
     "output_type": "display_data"
    }
   ],
   "source": [
    "rules.nonredundant <- rules.sorted[!redundant]\n",
    "head(as(rules.nonredundant, \"data.frame\"))"
   ]
  },
  {
   "cell_type": "markdown",
   "metadata": {},
   "source": [
    "## Showing the transactions that support the rules\n",
    "In this example, we can see the transactions (trans) that support rules 1 and 2. \n",
    "As can be observed, the support for both rules is not the sum of the support of each rule. "
   ]
  },
  {
   "cell_type": "code",
   "execution_count": 28,
   "metadata": {},
   "outputs": [
    {
     "data": {
      "text/html": [
       "<ol class=list-inline>\n",
       "\t<li>2</li>\n",
       "\t<li>3</li>\n",
       "\t<li>4</li>\n",
       "\t<li>5</li>\n",
       "\t<li>11</li>\n",
       "\t<li>12</li>\n",
       "</ol>\n"
      ],
      "text/latex": [
       "\\begin{enumerate*}\n",
       "\\item 2\n",
       "\\item 3\n",
       "\\item 4\n",
       "\\item 5\n",
       "\\item 11\n",
       "\\item 12\n",
       "\\end{enumerate*}\n"
      ],
      "text/markdown": [
       "1. 2\n",
       "2. 3\n",
       "3. 4\n",
       "4. 5\n",
       "5. 11\n",
       "6. 12\n",
       "\n",
       "\n"
      ],
      "text/plain": [
       "[1]  2  3  4  5 11 12"
      ]
     },
     "metadata": {},
     "output_type": "display_data"
    },
    {
     "name": "stdout",
     "output_type": "stream",
     "text": [
      "[1] 0.7897506 0.5435895 0.6413742\n"
     ]
    }
   ],
   "source": [
    "rule <- rules.nonredundant[1:2]\n",
    "st <- supportingTransactions(rule, AdultTrans)\n",
    "trans <- unique(st@data@i)\n",
    "head(trans)\n",
    "print(c(length(trans)/length(AdultTrans), rule@quality$support))\n"
   ]
  },
  {
   "cell_type": "markdown",
   "metadata": {},
   "source": [
    "## Rules visualization"
   ]
  },
  {
   "cell_type": "code",
   "execution_count": 29,
   "metadata": {},
   "outputs": [
    {
     "data": {
      "image/png": "[encoded data removed]",
      "text/plain": [
       "plot without title"
      ]
     },
     "metadata": {},
     "output_type": "display_data"
    }
   ],
   "source": [
    "options(repr.plot.width=7, repr.plot.height=4)\n",
    "plot(rules)\n"
   ]
  },
  {
   "cell_type": "code",
   "execution_count": 30,
   "metadata": {},
   "outputs": [
    {
     "data": {
      "image/png": "[encoded data removed]",
      "text/plain": [
       "plot without title"
      ]
     },
     "metadata": {},
     "output_type": "display_data"
    }
   ],
   "source": [
    "options(repr.plot.width=7, repr.plot.height=4)\n",
    "plot(rules, method=\"paracoord\", control=list(reorder=TRUE))"
   ]
  },
  {
   "cell_type": "markdown",
   "metadata": {},
   "source": [
    "# Sequence Mining"
   ]
  },
  {
   "cell_type": "code",
   "execution_count": 31,
   "metadata": {},
   "outputs": [
    {
     "data": {
      "text/html": [
       "<table>\n",
       "<thead><tr><th scope=col>items</th><th scope=col>sequenceID</th><th scope=col>eventID</th><th scope=col>SIZE</th></tr></thead>\n",
       "<tbody>\n",
       "\t<tr><td>{C,D}    </td><td>1        </td><td>10       </td><td>2        </td></tr>\n",
       "\t<tr><td>{A,B,C}  </td><td>1        </td><td>15       </td><td>3        </td></tr>\n",
       "\t<tr><td>{A,B,F}  </td><td>1        </td><td>20       </td><td>3        </td></tr>\n",
       "\t<tr><td>{A,C,D,F}</td><td>1        </td><td>25       </td><td>4        </td></tr>\n",
       "\t<tr><td>{A,B,F}  </td><td>2        </td><td>15       </td><td>3        </td></tr>\n",
       "\t<tr><td>{E}      </td><td>2        </td><td>20       </td><td>1        </td></tr>\n",
       "\t<tr><td>{A,B,F}  </td><td>3        </td><td>10       </td><td>3        </td></tr>\n",
       "\t<tr><td>{D,G,H}  </td><td>4        </td><td>10       </td><td>3        </td></tr>\n",
       "\t<tr><td>{B,F}    </td><td>4        </td><td>20       </td><td>2        </td></tr>\n",
       "\t<tr><td>{A,G,H}  </td><td>4        </td><td>25       </td><td>3        </td></tr>\n",
       "</tbody>\n",
       "</table>\n"
      ],
      "text/latex": [
       "\\begin{tabular}{r|llll}\n",
       " items & sequenceID & eventID & SIZE\\\\\n",
       "\\hline\n",
       "\t \\{C,D\\}     & 1             & 10            & 2            \\\\\n",
       "\t \\{A,B,C\\}   & 1             & 15            & 3            \\\\\n",
       "\t \\{A,B,F\\}   & 1             & 20            & 3            \\\\\n",
       "\t \\{A,C,D,F\\} & 1             & 25            & 4            \\\\\n",
       "\t \\{A,B,F\\}   & 2             & 15            & 3            \\\\\n",
       "\t \\{E\\}       & 2             & 20            & 1            \\\\\n",
       "\t \\{A,B,F\\}   & 3             & 10            & 3            \\\\\n",
       "\t \\{D,G,H\\}   & 4             & 10            & 3            \\\\\n",
       "\t \\{B,F\\}     & 4             & 20            & 2            \\\\\n",
       "\t \\{A,G,H\\}   & 4             & 25            & 3            \\\\\n",
       "\\end{tabular}\n"
      ],
      "text/markdown": [
       "\n",
       "| items | sequenceID | eventID | SIZE |\n",
       "|---|---|---|---|\n",
       "| {C,D}     | 1         | 10        | 2         |\n",
       "| {A,B,C}   | 1         | 15        | 3         |\n",
       "| {A,B,F}   | 1         | 20        | 3         |\n",
       "| {A,C,D,F} | 1         | 25        | 4         |\n",
       "| {A,B,F}   | 2         | 15        | 3         |\n",
       "| {E}       | 2         | 20        | 1         |\n",
       "| {A,B,F}   | 3         | 10        | 3         |\n",
       "| {D,G,H}   | 4         | 10        | 3         |\n",
       "| {B,F}     | 4         | 20        | 2         |\n",
       "| {A,G,H}   | 4         | 25        | 3         |\n",
       "\n"
      ],
      "text/plain": [
       "   items     sequenceID eventID SIZE\n",
       "1  {C,D}     1          10      2   \n",
       "2  {A,B,C}   1          15      3   \n",
       "3  {A,B,F}   1          20      3   \n",
       "4  {A,C,D,F} 1          25      4   \n",
       "5  {A,B,F}   2          15      3   \n",
       "6  {E}       2          20      1   \n",
       "7  {A,B,F}   3          10      3   \n",
       "8  {D,G,H}   4          10      3   \n",
       "9  {B,F}     4          20      2   \n",
       "10 {A,G,H}   4          25      3   "
      ]
     },
     "metadata": {},
     "output_type": "display_data"
    }
   ],
   "source": [
    "x <- read_baskets(con = system.file(\"misc\", \"zaki.txt\", package = \"arulesSequences\"), info = c(\"sequenceID\",\"eventID\",\"SIZE\"))\n",
    "as(x, \"data.frame\")\n"
   ]
  },
  {
   "cell_type": "code",
   "execution_count": 33,
   "metadata": {},
   "outputs": [
    {
     "name": "stdout",
     "output_type": "stream",
     "text": [
      "\n",
      "parameter specification:\n",
      "support : 0.4\n",
      "maxsize :  10\n",
      "maxlen  :  10\n",
      "\n",
      "algorithmic control:\n",
      "bfstype  : FALSE\n",
      "verbose  :  TRUE\n",
      "summary  : FALSE\n",
      "tidLists : FALSE\n",
      "\n",
      "preprocessing ... 1 partition(s), 0 MB [0.09s]\n",
      "mining transactions ... 0 MB [0.11s]\n",
      "reading sequences ... [0.03s]\n",
      "\n",
      "total elapsed time: 0.23s\n"
     ]
    },
    {
     "data": {
      "text/html": [
       "<table>\n",
       "<thead><tr><th scope=col>sequence</th><th scope=col>support</th></tr></thead>\n",
       "<tbody>\n",
       "\t<tr><td><span style=white-space:pre-wrap>&lt;{A}&gt;          </span></td><td>1.00                                                         </td></tr>\n",
       "\t<tr><td><span style=white-space:pre-wrap>&lt;{B}&gt;          </span></td><td>1.00                                                         </td></tr>\n",
       "\t<tr><td><span style=white-space:pre-wrap>&lt;{D}&gt;          </span></td><td>0.50                                                         </td></tr>\n",
       "\t<tr><td><span style=white-space:pre-wrap>&lt;{F}&gt;          </span></td><td>1.00                                                         </td></tr>\n",
       "\t<tr><td><span style=white-space:pre-wrap>&lt;{A,F}&gt;        </span></td><td>0.75                                                         </td></tr>\n",
       "\t<tr><td><span style=white-space:pre-wrap>&lt;{B,F}&gt;        </span></td><td>1.00                                                         </td></tr>\n",
       "\t<tr><td><span style=white-space:pre-wrap>&lt;{D},{F}&gt;      </span></td><td>0.50                                                         </td></tr>\n",
       "\t<tr><td><span style=white-space:pre-wrap>&lt;{D},{B,F}&gt;    </span></td><td>0.50                                                         </td></tr>\n",
       "\t<tr><td><span style=white-space:pre-wrap>&lt;{A,B,F}&gt;      </span></td><td>0.75                                                         </td></tr>\n",
       "\t<tr><td><span style=white-space:pre-wrap>&lt;{A,B}&gt;        </span></td><td>0.75                                                         </td></tr>\n",
       "\t<tr><td><span style=white-space:pre-wrap>&lt;{D},{B}&gt;      </span></td><td>0.50                                                         </td></tr>\n",
       "\t<tr><td><span style=white-space:pre-wrap>&lt;{B},{A}&gt;      </span></td><td>0.50                                                         </td></tr>\n",
       "\t<tr><td><span style=white-space:pre-wrap>&lt;{D},{A}&gt;      </span></td><td>0.50                                                         </td></tr>\n",
       "\t<tr><td><span style=white-space:pre-wrap>&lt;{F},{A}&gt;      </span></td><td>0.50                                                         </td></tr>\n",
       "\t<tr><td><span style=white-space:pre-wrap>&lt;{D},{F},{A}&gt;  </span></td><td>0.50                                                         </td></tr>\n",
       "\t<tr><td><span style=white-space:pre-wrap>&lt;{B,F},{A}&gt;    </span></td><td>0.50                                                         </td></tr>\n",
       "\t<tr><td>&lt;{D},{B,F},{A}&gt;</td><td>0.50                 </td></tr>\n",
       "\t<tr><td><span style=white-space:pre-wrap>&lt;{D},{B},{A}&gt;  </span></td><td>0.50                                                         </td></tr>\n",
       "</tbody>\n",
       "</table>\n"
      ],
      "text/latex": [
       "\\begin{tabular}{r|ll}\n",
       " sequence & support\\\\\n",
       "\\hline\n",
       "\t <\\{A\\}>           & 1.00               \\\\\n",
       "\t <\\{B\\}>           & 1.00               \\\\\n",
       "\t <\\{D\\}>           & 0.50               \\\\\n",
       "\t <\\{F\\}>           & 1.00               \\\\\n",
       "\t <\\{A,F\\}>         & 0.75               \\\\\n",
       "\t <\\{B,F\\}>         & 1.00               \\\\\n",
       "\t <\\{D\\},\\{F\\}>       & 0.50                   \\\\\n",
       "\t <\\{D\\},\\{B,F\\}>     & 0.50                   \\\\\n",
       "\t <\\{A,B,F\\}>       & 0.75               \\\\\n",
       "\t <\\{A,B\\}>         & 0.75               \\\\\n",
       "\t <\\{D\\},\\{B\\}>       & 0.50                   \\\\\n",
       "\t <\\{B\\},\\{A\\}>       & 0.50                   \\\\\n",
       "\t <\\{D\\},\\{A\\}>       & 0.50                   \\\\\n",
       "\t <\\{F\\},\\{A\\}>       & 0.50                   \\\\\n",
       "\t <\\{D\\},\\{F\\},\\{A\\}>   & 0.50                       \\\\\n",
       "\t <\\{B,F\\},\\{A\\}>     & 0.50                   \\\\\n",
       "\t <\\{D\\},\\{B,F\\},\\{A\\}> & 0.50                       \\\\\n",
       "\t <\\{D\\},\\{B\\},\\{A\\}>   & 0.50                       \\\\\n",
       "\\end{tabular}\n"
      ],
      "text/markdown": [
       "\n",
       "| sequence | support |\n",
       "|---|---|\n",
       "| <{A}>           | 1.00            |\n",
       "| <{B}>           | 1.00            |\n",
       "| <{D}>           | 0.50            |\n",
       "| <{F}>           | 1.00            |\n",
       "| <{A,F}>         | 0.75            |\n",
       "| <{B,F}>         | 1.00            |\n",
       "| <{D},{F}>       | 0.50            |\n",
       "| <{D},{B,F}>     | 0.50            |\n",
       "| <{A,B,F}>       | 0.75            |\n",
       "| <{A,B}>         | 0.75            |\n",
       "| <{D},{B}>       | 0.50            |\n",
       "| <{B},{A}>       | 0.50            |\n",
       "| <{D},{A}>       | 0.50            |\n",
       "| <{F},{A}>       | 0.50            |\n",
       "| <{D},{F},{A}>   | 0.50            |\n",
       "| <{B,F},{A}>     | 0.50            |\n",
       "| <{D},{B,F},{A}> | 0.50            |\n",
       "| <{D},{B},{A}>   | 0.50            |\n",
       "\n"
      ],
      "text/plain": [
       "   sequence        support\n",
       "1  <{A}>           1.00   \n",
       "2  <{B}>           1.00   \n",
       "3  <{D}>           0.50   \n",
       "4  <{F}>           1.00   \n",
       "5  <{A,F}>         0.75   \n",
       "6  <{B,F}>         1.00   \n",
       "7  <{D},{F}>       0.50   \n",
       "8  <{D},{B,F}>     0.50   \n",
       "9  <{A,B,F}>       0.75   \n",
       "10 <{A,B}>         0.75   \n",
       "11 <{D},{B}>       0.50   \n",
       "12 <{B},{A}>       0.50   \n",
       "13 <{D},{A}>       0.50   \n",
       "14 <{F},{A}>       0.50   \n",
       "15 <{D},{F},{A}>   0.50   \n",
       "16 <{B,F},{A}>     0.50   \n",
       "17 <{D},{B,F},{A}> 0.50   \n",
       "18 <{D},{B},{A}>   0.50   "
      ]
     },
     "metadata": {},
     "output_type": "display_data"
    }
   ],
   "source": [
    "s1 <- cspade(x, parameter = list(support = 0.4), control = list(verbose = TRUE))\n",
    "as(s1, \"data.frame\")"
   ]
  },
  {
   "cell_type": "code",
   "execution_count": null,
   "metadata": {
    "collapsed": true
   },
   "outputs": [],
   "source": []
  }
 ],
 "metadata": {
  "kernelspec": {
   "display_name": "R",
   "language": "R",
   "name": "ir"
  },
  "language_info": {
   "codemirror_mode": "r",
   "file_extension": ".r",
   "mimetype": "text/x-r-source",
   "name": "R",
   "pygments_lexer": "r",
   "version": "3.6.0"
  }
 },
 "nbformat": 4,
 "nbformat_minor": 2
}
