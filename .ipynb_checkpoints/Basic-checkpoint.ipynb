{
 "cells": [
  {
   "cell_type": "code",
   "execution_count": 3,
   "id": "32caa36d",
   "metadata": {},
   "outputs": [],
   "source": [
    "# version 1.5\n",
    "source(\"https://raw.githubusercontent.com/eogasawara/mylibrary/master/myBasic.R\")"
   ]
  },
  {
   "cell_type": "code",
   "execution_count": 4,
   "id": "890b6227",
   "metadata": {},
   "outputs": [
    {
     "data": {
      "image/png": "[encoded data removed]",
      "text/plain": [
       "plot without title"
      ]
     },
     "metadata": {
      "image/png": {
       "height": 420,
       "width": 420
      }
     },
     "output_type": "display_data"
    }
   ],
   "source": [
    "load_series <- function(name) {\n",
    "  link <- url(sprintf(\"https://raw.githubusercontent.com/eogasawara/mylibrary/master/data/time-series/%s.RData\", name))\n",
    "  x <- get(load(link))\n",
    "  return(x)  \n",
    "}\n",
    "\n",
    "x <- load_series(\"sin\")\n",
    "plot(x)\n"
   ]
  },
  {
   "cell_type": "code",
   "execution_count": 5,
   "id": "c3cbb698",
   "metadata": {},
   "outputs": [
    {
     "data": {
      "text/html": [
       "<table class=\"dataframe\">\n",
       "<caption>A ts_data: 6 × 1 of type dbl</caption>\n",
       "<thead>\n",
       "\t<tr><th scope=col>t0</th></tr>\n",
       "</thead>\n",
       "<tbody>\n",
       "\t<tr><td>2.158484</td></tr>\n",
       "\t<tr><td>2.312962</td></tr>\n",
       "\t<tr><td>2.459529</td></tr>\n",
       "\t<tr><td>2.594481</td></tr>\n",
       "\t<tr><td>2.714406</td></tr>\n",
       "\t<tr><td>2.816273</td></tr>\n",
       "</tbody>\n",
       "</table>\n"
      ],
      "text/latex": [
       "A ts\\_data: 6 × 1 of type dbl\n",
       "\\begin{tabular}{l}\n",
       " t0\\\\\n",
       "\\hline\n",
       "\t 2.158484\\\\\n",
       "\t 2.312962\\\\\n",
       "\t 2.459529\\\\\n",
       "\t 2.594481\\\\\n",
       "\t 2.714406\\\\\n",
       "\t 2.816273\\\\\n",
       "\\end{tabular}\n"
      ],
      "text/markdown": [
       "\n",
       "A ts_data: 6 × 1 of type dbl\n",
       "\n",
       "| t0 |\n",
       "|---|\n",
       "| 2.158484 |\n",
       "| 2.312962 |\n",
       "| 2.459529 |\n",
       "| 2.594481 |\n",
       "| 2.714406 |\n",
       "| 2.816273 |\n",
       "\n"
      ],
      "text/plain": [
       "     t0      \n",
       "[1,] 2.158484\n",
       "[2,] 2.312962\n",
       "[3,] 2.459529\n",
       "[4,] 2.594481\n",
       "[5,] 2.714406\n",
       "[6,] 2.816273"
      ]
     },
     "metadata": {},
     "output_type": "display_data"
    },
    {
     "data": {
      "image/png": "[encoded data removed]",
      "text/plain": [
       "plot without title"
      ]
     },
     "metadata": {
      "image/png": {
       "height": 420,
       "width": 420
      }
     },
     "output_type": "display_data"
    }
   ],
   "source": [
    "data <- ts_data(x)\n",
    "head(data)\n",
    "plot(data)"
   ]
  },
  {
   "cell_type": "code",
   "execution_count": 6,
   "id": "7fd0e321",
   "metadata": {},
   "outputs": [
    {
     "data": {
      "text/html": [
       "<table class=\"dataframe\">\n",
       "<caption>A ts_data: 6 × 10 of type dbl</caption>\n",
       "<thead>\n",
       "\t<tr><th scope=col>t9</th><th scope=col>t8</th><th scope=col>t7</th><th scope=col>t6</th><th scope=col>t5</th><th scope=col>t4</th><th scope=col>t3</th><th scope=col>t2</th><th scope=col>t1</th><th scope=col>t0</th></tr>\n",
       "</thead>\n",
       "<tbody>\n",
       "\t<tr><td>2.158484</td><td>2.312962</td><td>2.459529</td><td>2.594481</td><td>2.714406</td><td>2.816273</td><td>2.897507</td><td>2.956056</td><td>2.990438</td><td>2.999785</td></tr>\n",
       "\t<tr><td>2.312962</td><td>2.459529</td><td>2.594481</td><td>2.714406</td><td>2.816273</td><td>2.897507</td><td>2.956056</td><td>2.990438</td><td>2.999785</td><td>2.983860</td></tr>\n",
       "\t<tr><td>2.459529</td><td>2.594481</td><td>2.714406</td><td>2.816273</td><td>2.897507</td><td>2.956056</td><td>2.990438</td><td>2.999785</td><td>2.983860</td><td>2.943067</td></tr>\n",
       "\t<tr><td>2.594481</td><td>2.714406</td><td>2.816273</td><td>2.897507</td><td>2.956056</td><td>2.990438</td><td>2.999785</td><td>2.983860</td><td>2.943067</td><td>2.878436</td></tr>\n",
       "\t<tr><td>2.714406</td><td>2.816273</td><td>2.897507</td><td>2.956056</td><td>2.990438</td><td>2.999785</td><td>2.983860</td><td>2.943067</td><td>2.878436</td><td>2.791600</td></tr>\n",
       "\t<tr><td>2.816273</td><td>2.897507</td><td>2.956056</td><td>2.990438</td><td>2.999785</td><td>2.983860</td><td>2.943067</td><td>2.878436</td><td>2.791600</td><td>2.684756</td></tr>\n",
       "</tbody>\n",
       "</table>\n"
      ],
      "text/latex": [
       "A ts\\_data: 6 × 10 of type dbl\n",
       "\\begin{tabular}{llllllllll}\n",
       " t9 & t8 & t7 & t6 & t5 & t4 & t3 & t2 & t1 & t0\\\\\n",
       "\\hline\n",
       "\t 2.158484 & 2.312962 & 2.459529 & 2.594481 & 2.714406 & 2.816273 & 2.897507 & 2.956056 & 2.990438 & 2.999785\\\\\n",
       "\t 2.312962 & 2.459529 & 2.594481 & 2.714406 & 2.816273 & 2.897507 & 2.956056 & 2.990438 & 2.999785 & 2.983860\\\\\n",
       "\t 2.459529 & 2.594481 & 2.714406 & 2.816273 & 2.897507 & 2.956056 & 2.990438 & 2.999785 & 2.983860 & 2.943067\\\\\n",
       "\t 2.594481 & 2.714406 & 2.816273 & 2.897507 & 2.956056 & 2.990438 & 2.999785 & 2.983860 & 2.943067 & 2.878436\\\\\n",
       "\t 2.714406 & 2.816273 & 2.897507 & 2.956056 & 2.990438 & 2.999785 & 2.983860 & 2.943067 & 2.878436 & 2.791600\\\\\n",
       "\t 2.816273 & 2.897507 & 2.956056 & 2.990438 & 2.999785 & 2.983860 & 2.943067 & 2.878436 & 2.791600 & 2.684756\\\\\n",
       "\\end{tabular}\n"
      ],
      "text/markdown": [
       "\n",
       "A ts_data: 6 × 10 of type dbl\n",
       "\n",
       "| t9 | t8 | t7 | t6 | t5 | t4 | t3 | t2 | t1 | t0 |\n",
       "|---|---|---|---|---|---|---|---|---|---|\n",
       "| 2.158484 | 2.312962 | 2.459529 | 2.594481 | 2.714406 | 2.816273 | 2.897507 | 2.956056 | 2.990438 | 2.999785 |\n",
       "| 2.312962 | 2.459529 | 2.594481 | 2.714406 | 2.816273 | 2.897507 | 2.956056 | 2.990438 | 2.999785 | 2.983860 |\n",
       "| 2.459529 | 2.594481 | 2.714406 | 2.816273 | 2.897507 | 2.956056 | 2.990438 | 2.999785 | 2.983860 | 2.943067 |\n",
       "| 2.594481 | 2.714406 | 2.816273 | 2.897507 | 2.956056 | 2.990438 | 2.999785 | 2.983860 | 2.943067 | 2.878436 |\n",
       "| 2.714406 | 2.816273 | 2.897507 | 2.956056 | 2.990438 | 2.999785 | 2.983860 | 2.943067 | 2.878436 | 2.791600 |\n",
       "| 2.816273 | 2.897507 | 2.956056 | 2.990438 | 2.999785 | 2.983860 | 2.943067 | 2.878436 | 2.791600 | 2.684756 |\n",
       "\n"
      ],
      "text/plain": [
       "     t9       t8       t7       t6       t5       t4       t3       t2      \n",
       "[1,] 2.158484 2.312962 2.459529 2.594481 2.714406 2.816273 2.897507 2.956056\n",
       "[2,] 2.312962 2.459529 2.594481 2.714406 2.816273 2.897507 2.956056 2.990438\n",
       "[3,] 2.459529 2.594481 2.714406 2.816273 2.897507 2.956056 2.990438 2.999785\n",
       "[4,] 2.594481 2.714406 2.816273 2.897507 2.956056 2.990438 2.999785 2.983860\n",
       "[5,] 2.714406 2.816273 2.897507 2.956056 2.990438 2.999785 2.983860 2.943067\n",
       "[6,] 2.816273 2.897507 2.956056 2.990438 2.999785 2.983860 2.943067 2.878436\n",
       "     t1       t0      \n",
       "[1,] 2.990438 2.999785\n",
       "[2,] 2.999785 2.983860\n",
       "[3,] 2.983860 2.943067\n",
       "[4,] 2.943067 2.878436\n",
       "[5,] 2.878436 2.791600\n",
       "[6,] 2.791600 2.684756"
      ]
     },
     "metadata": {},
     "output_type": "display_data"
    }
   ],
   "source": [
    "data10 <- ts_data(x, 10)\n",
    "head(data10)"
   ]
  },
  {
   "cell_type": "code",
   "execution_count": 7,
   "id": "d5cdf422",
   "metadata": {},
   "outputs": [
    {
     "data": {
      "text/html": [
       "<table class=\"dataframe\">\n",
       "<caption>A ts_data: 1 × 10 of type dbl</caption>\n",
       "<tbody>\n",
       "\t<tr><td>2.943067</td><td>2.878436</td><td>2.7916</td><td>2.684756</td><td>2.560603</td><td>2.42228</td><td>2.273282</td><td>2.117378</td><td>1.958506</td><td>1.800683</td></tr>\n",
       "</tbody>\n",
       "</table>\n"
      ],
      "text/latex": [
       "A ts\\_data: 1 × 10 of type dbl\n",
       "\\begin{tabular}{llllllllll}\n",
       "\t 2.943067 & 2.878436 & 2.7916 & 2.684756 & 2.560603 & 2.42228 & 2.273282 & 2.117378 & 1.958506 & 1.800683\\\\\n",
       "\\end{tabular}\n"
      ],
      "text/markdown": [
       "\n",
       "A ts_data: 1 × 10 of type dbl\n",
       "\n",
       "| 2.943067 | 2.878436 | 2.7916 | 2.684756 | 2.560603 | 2.42228 | 2.273282 | 2.117378 | 1.958506 | 1.800683 |\n",
       "\n"
      ],
      "text/plain": [
       "     [,1]     [,2]     [,3]   [,4]     [,5]     [,6]    [,7]     [,8]    \n",
       "[1,] 2.943067 2.878436 2.7916 2.684756 2.560603 2.42228 2.273282 2.117378\n",
       "     [,9]     [,10]   \n",
       "[1,] 1.958506 1.800683"
      ]
     },
     "metadata": {},
     "output_type": "display_data"
    }
   ],
   "source": [
    "r1 <- data10[12,]\n",
    "r1"
   ]
  },
  {
   "cell_type": "code",
   "execution_count": 8,
   "id": "cfb03b2b",
   "metadata": {},
   "outputs": [
    {
     "data": {
      "text/html": [
       "<table class=\"dataframe\">\n",
       "<caption>A ts_data: 2 × 10 of type dbl</caption>\n",
       "<thead>\n",
       "\t<tr><th scope=col>t9</th><th scope=col>t8</th><th scope=col>t7</th><th scope=col>t6</th><th scope=col>t5</th><th scope=col>t4</th><th scope=col>t3</th><th scope=col>t2</th><th scope=col>t1</th><th scope=col>t0</th></tr>\n",
       "</thead>\n",
       "<tbody>\n",
       "\t<tr><td>2.943067</td><td>2.878436</td><td>2.791600</td><td>2.684756</td><td>2.560603</td><td>2.422280</td><td>2.273282</td><td>2.117378</td><td>1.958506</td><td>1.800683</td></tr>\n",
       "\t<tr><td>2.878436</td><td>2.791600</td><td>2.684756</td><td>2.560603</td><td>2.422280</td><td>2.273282</td><td>2.117378</td><td>1.958506</td><td>1.800683</td><td>1.647898</td></tr>\n",
       "</tbody>\n",
       "</table>\n"
      ],
      "text/latex": [
       "A ts\\_data: 2 × 10 of type dbl\n",
       "\\begin{tabular}{llllllllll}\n",
       " t9 & t8 & t7 & t6 & t5 & t4 & t3 & t2 & t1 & t0\\\\\n",
       "\\hline\n",
       "\t 2.943067 & 2.878436 & 2.791600 & 2.684756 & 2.560603 & 2.422280 & 2.273282 & 2.117378 & 1.958506 & 1.800683\\\\\n",
       "\t 2.878436 & 2.791600 & 2.684756 & 2.560603 & 2.422280 & 2.273282 & 2.117378 & 1.958506 & 1.800683 & 1.647898\\\\\n",
       "\\end{tabular}\n"
      ],
      "text/markdown": [
       "\n",
       "A ts_data: 2 × 10 of type dbl\n",
       "\n",
       "| t9 | t8 | t7 | t6 | t5 | t4 | t3 | t2 | t1 | t0 |\n",
       "|---|---|---|---|---|---|---|---|---|---|\n",
       "| 2.943067 | 2.878436 | 2.791600 | 2.684756 | 2.560603 | 2.422280 | 2.273282 | 2.117378 | 1.958506 | 1.800683 |\n",
       "| 2.878436 | 2.791600 | 2.684756 | 2.560603 | 2.422280 | 2.273282 | 2.117378 | 1.958506 | 1.800683 | 1.647898 |\n",
       "\n"
      ],
      "text/plain": [
       "     t9       t8       t7       t6       t5       t4       t3       t2      \n",
       "[1,] 2.943067 2.878436 2.791600 2.684756 2.560603 2.422280 2.273282 2.117378\n",
       "[2,] 2.878436 2.791600 2.684756 2.560603 2.422280 2.273282 2.117378 1.958506\n",
       "     t1       t0      \n",
       "[1,] 1.958506 1.800683\n",
       "[2,] 1.800683 1.647898"
      ]
     },
     "metadata": {},
     "output_type": "display_data"
    }
   ],
   "source": [
    "r2 <- data10[12:13,]\n",
    "r2"
   ]
  },
  {
   "cell_type": "code",
   "execution_count": 9,
   "id": "259cb4a1",
   "metadata": {},
   "outputs": [
    {
     "data": {
      "text/html": [
       "<table class=\"dataframe\">\n",
       "<caption>A ts_data: 6 × 1 of type dbl</caption>\n",
       "<tbody>\n",
       "\t<tr><td>2.158484</td></tr>\n",
       "\t<tr><td>2.312962</td></tr>\n",
       "\t<tr><td>2.459529</td></tr>\n",
       "\t<tr><td>2.594481</td></tr>\n",
       "\t<tr><td>2.714406</td></tr>\n",
       "\t<tr><td>2.816273</td></tr>\n",
       "</tbody>\n",
       "</table>\n"
      ],
      "text/latex": [
       "A ts\\_data: 6 × 1 of type dbl\n",
       "\\begin{tabular}{l}\n",
       "\t 2.158484\\\\\n",
       "\t 2.312962\\\\\n",
       "\t 2.459529\\\\\n",
       "\t 2.594481\\\\\n",
       "\t 2.714406\\\\\n",
       "\t 2.816273\\\\\n",
       "\\end{tabular}\n"
      ],
      "text/markdown": [
       "\n",
       "A ts_data: 6 × 1 of type dbl\n",
       "\n",
       "| 2.158484 |\n",
       "| 2.312962 |\n",
       "| 2.459529 |\n",
       "| 2.594481 |\n",
       "| 2.714406 |\n",
       "| 2.816273 |\n",
       "\n"
      ],
      "text/plain": [
       "     [,1]    \n",
       "[1,] 2.158484\n",
       "[2,] 2.312962\n",
       "[3,] 2.459529\n",
       "[4,] 2.594481\n",
       "[5,] 2.714406\n",
       "[6,] 2.816273"
      ]
     },
     "metadata": {},
     "output_type": "display_data"
    }
   ],
   "source": [
    "c1 <- data10[,1]\n",
    "head(c1)"
   ]
  },
  {
   "cell_type": "code",
   "execution_count": 10,
   "id": "212bef1e",
   "metadata": {},
   "outputs": [
    {
     "data": {
      "text/html": [
       "<table class=\"dataframe\">\n",
       "<caption>A ts_data: 6 × 2 of type dbl</caption>\n",
       "<thead>\n",
       "\t<tr><th scope=col>t9</th><th scope=col>t8</th></tr>\n",
       "</thead>\n",
       "<tbody>\n",
       "\t<tr><td>2.158484</td><td>2.312962</td></tr>\n",
       "\t<tr><td>2.312962</td><td>2.459529</td></tr>\n",
       "\t<tr><td>2.459529</td><td>2.594481</td></tr>\n",
       "\t<tr><td>2.594481</td><td>2.714406</td></tr>\n",
       "\t<tr><td>2.714406</td><td>2.816273</td></tr>\n",
       "\t<tr><td>2.816273</td><td>2.897507</td></tr>\n",
       "</tbody>\n",
       "</table>\n"
      ],
      "text/latex": [
       "A ts\\_data: 6 × 2 of type dbl\n",
       "\\begin{tabular}{ll}\n",
       " t9 & t8\\\\\n",
       "\\hline\n",
       "\t 2.158484 & 2.312962\\\\\n",
       "\t 2.312962 & 2.459529\\\\\n",
       "\t 2.459529 & 2.594481\\\\\n",
       "\t 2.594481 & 2.714406\\\\\n",
       "\t 2.714406 & 2.816273\\\\\n",
       "\t 2.816273 & 2.897507\\\\\n",
       "\\end{tabular}\n"
      ],
      "text/markdown": [
       "\n",
       "A ts_data: 6 × 2 of type dbl\n",
       "\n",
       "| t9 | t8 |\n",
       "|---|---|\n",
       "| 2.158484 | 2.312962 |\n",
       "| 2.312962 | 2.459529 |\n",
       "| 2.459529 | 2.594481 |\n",
       "| 2.594481 | 2.714406 |\n",
       "| 2.714406 | 2.816273 |\n",
       "| 2.816273 | 2.897507 |\n",
       "\n"
      ],
      "text/plain": [
       "     t9       t8      \n",
       "[1,] 2.158484 2.312962\n",
       "[2,] 2.312962 2.459529\n",
       "[3,] 2.459529 2.594481\n",
       "[4,] 2.594481 2.714406\n",
       "[5,] 2.714406 2.816273\n",
       "[6,] 2.816273 2.897507"
      ]
     },
     "metadata": {},
     "output_type": "display_data"
    }
   ],
   "source": [
    "c2 <- data10[,1:2]\n",
    "head(c2)"
   ]
  },
  {
   "cell_type": "code",
   "execution_count": 11,
   "id": "94ce22c5",
   "metadata": {},
   "outputs": [
    {
     "data": {
      "text/html": [
       "<table class=\"dataframe\">\n",
       "<caption>A ts_data: 2 × 2 of type dbl</caption>\n",
       "<thead>\n",
       "\t<tr><th scope=col>t9</th><th scope=col>t8</th></tr>\n",
       "</thead>\n",
       "<tbody>\n",
       "\t<tr><td>2.943067</td><td>2.878436</td></tr>\n",
       "\t<tr><td>2.878436</td><td>2.791600</td></tr>\n",
       "</tbody>\n",
       "</table>\n"
      ],
      "text/latex": [
       "A ts\\_data: 2 × 2 of type dbl\n",
       "\\begin{tabular}{ll}\n",
       " t9 & t8\\\\\n",
       "\\hline\n",
       "\t 2.943067 & 2.878436\\\\\n",
       "\t 2.878436 & 2.791600\\\\\n",
       "\\end{tabular}\n"
      ],
      "text/markdown": [
       "\n",
       "A ts_data: 2 × 2 of type dbl\n",
       "\n",
       "| t9 | t8 |\n",
       "|---|---|\n",
       "| 2.943067 | 2.878436 |\n",
       "| 2.878436 | 2.791600 |\n",
       "\n"
      ],
      "text/plain": [
       "     t9       t8      \n",
       "[1,] 2.943067 2.878436\n",
       "[2,] 2.878436 2.791600"
      ]
     },
     "metadata": {},
     "output_type": "display_data"
    }
   ],
   "source": [
    "rc1 <- data10[12:13,1:2]\n",
    "rc1"
   ]
  },
  {
   "cell_type": "code",
   "execution_count": 12,
   "id": "10a3d139",
   "metadata": {},
   "outputs": [
    {
     "data": {
      "text/html": [
       "<table class=\"dataframe\">\n",
       "<caption>A ts_data: 1 × 2 of type dbl</caption>\n",
       "<tbody>\n",
       "\t<tr><td>2.943067</td><td>2.878436</td></tr>\n",
       "</tbody>\n",
       "</table>\n"
      ],
      "text/latex": [
       "A ts\\_data: 1 × 2 of type dbl\n",
       "\\begin{tabular}{ll}\n",
       "\t 2.943067 & 2.878436\\\\\n",
       "\\end{tabular}\n"
      ],
      "text/markdown": [
       "\n",
       "A ts_data: 1 × 2 of type dbl\n",
       "\n",
       "| 2.943067 | 2.878436 |\n",
       "\n"
      ],
      "text/plain": [
       "     [,1]     [,2]    \n",
       "[1,] 2.943067 2.878436"
      ]
     },
     "metadata": {},
     "output_type": "display_data"
    }
   ],
   "source": [
    "rc2 <- data10[12,1:2]\n",
    "rc2"
   ]
  },
  {
   "cell_type": "code",
   "execution_count": 13,
   "id": "ad0049a5",
   "metadata": {},
   "outputs": [
    {
     "data": {
      "text/html": [
       "<table class=\"dataframe\">\n",
       "<caption>A ts_data: 2 × 1 of type dbl</caption>\n",
       "<tbody>\n",
       "\t<tr><td>2.943067</td></tr>\n",
       "\t<tr><td>2.878436</td></tr>\n",
       "</tbody>\n",
       "</table>\n"
      ],
      "text/latex": [
       "A ts\\_data: 2 × 1 of type dbl\n",
       "\\begin{tabular}{l}\n",
       "\t 2.943067\\\\\n",
       "\t 2.878436\\\\\n",
       "\\end{tabular}\n"
      ],
      "text/markdown": [
       "\n",
       "A ts_data: 2 × 1 of type dbl\n",
       "\n",
       "| 2.943067 |\n",
       "| 2.878436 |\n",
       "\n"
      ],
      "text/plain": [
       "     [,1]    \n",
       "[1,] 2.943067\n",
       "[2,] 2.878436"
      ]
     },
     "metadata": {},
     "output_type": "display_data"
    }
   ],
   "source": [
    "rc3 <- data10[12:13,1]\n",
    "rc3"
   ]
  },
  {
   "cell_type": "code",
   "execution_count": 14,
   "id": "19a5c12a",
   "metadata": {},
   "outputs": [
    {
     "data": {
      "text/html": [
       "<strong>t9:</strong> 2.94306673225695"
      ],
      "text/latex": [
       "\\textbf{t9:} 2.94306673225695"
      ],
      "text/markdown": [
       "**t9:** 2.94306673225695"
      ],
      "text/plain": [
       "      t9 \n",
       "2.943067 "
      ]
     },
     "metadata": {},
     "output_type": "display_data"
    }
   ],
   "source": [
    "rc4 <- data10[12,1]\n",
    "rc4"
   ]
  },
  {
   "cell_type": "code",
   "execution_count": null,
   "id": "1e5d9847",
   "metadata": {},
   "outputs": [],
   "source": []
  }
 ],
 "metadata": {
  "kernelspec": {
   "display_name": "R",
   "language": "R",
   "name": "ir"
  },
  "language_info": {
   "codemirror_mode": "r",
   "file_extension": ".r",
   "mimetype": "text/x-r-source",
   "name": "R",
   "pygments_lexer": "r",
   "version": "4.0.5"
  }
 },
 "nbformat": 4,
 "nbformat_minor": 5
}
