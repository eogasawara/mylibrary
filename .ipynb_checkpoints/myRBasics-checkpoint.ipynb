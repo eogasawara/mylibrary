{
 "cells": [
  {
   "cell_type": "markdown",
   "metadata": {},
   "source": [
    "## Package installation\n",
    "Loading basic graphics functions. \n",
    "\n",
    "Installation of R packages.\n",
    "\n",
    "Setting up the size for graphics. "
   ]
  },
  {
   "cell_type": "code",
   "execution_count": 36,
   "metadata": {},
   "outputs": [],
   "source": [
    "source(\"https://raw.githubusercontent.com/eogasawara/mylibrary/master/myGraphics.R\")\n",
    "plot_size(4,3)"
   ]
  },
  {
   "cell_type": "code",
   "execution_count": 37,
   "metadata": {},
   "outputs": [],
   "source": [
    "loadlibrary(\"TSPred\")\n",
    "loadlibrary(\"STMotif\")"
   ]
  },
  {
   "cell_type": "markdown",
   "metadata": {},
   "source": [
    "### Basic R concepts\n",
    "Variable assignment\n",
    "\n",
    "Functions for data evaluation\n",
    "\n",
    "Vector definition\n",
    "\n",
    "Calculations\n",
    "\n",
    "Printing values"
   ]
  },
  {
   "cell_type": "code",
   "execution_count": 38,
   "metadata": {},
   "outputs": [
    {
     "data": {
      "text/html": [
       "2"
      ],
      "text/latex": [
       "2"
      ],
      "text/markdown": [
       "2"
      ],
      "text/plain": [
       "[1] 2"
      ]
     },
     "metadata": {},
     "output_type": "display_data"
    },
    {
     "data": {
      "text/html": [
       "TRUE"
      ],
      "text/latex": [
       "TRUE"
      ],
      "text/markdown": [
       "TRUE"
      ],
      "text/plain": [
       "[1] TRUE"
      ]
     },
     "metadata": {},
     "output_type": "display_data"
    },
    {
     "name": "stdout",
     "output_type": "stream",
     "text": [
      "[1] 19.59184 22.22222 20.93664 24.93075 31.37799 19.73630\n",
      "[1] \"23.13 +/- 4.49\"\n"
     ]
    }
   ],
   "source": [
    "x <- 2 # variable assignment\n",
    "\n",
    "x # variable evaluation\n",
    "\n",
    "is.numeric(x) # variable \n",
    "\n",
    "weight <- c(60, 72, 57, 90, 95, 72) # vector with six observations\n",
    "\n",
    "height <- c(1.75, 1.80, 1.65, 1.90, 1.74, 1.91)\n",
    "\n",
    "bmi <- weight/height^2\n",
    "\n",
    "print(bmi)\n",
    "\n",
    "print(sprintf(\"%.2f +/- %.2f\", mean(bmi), sd(bmi)))"
   ]
  },
  {
   "cell_type": "markdown",
   "metadata": {},
   "source": [
    "### Plotting graphics\n",
    "Lines are drawn on last active canvas."
   ]
  },
  {
   "cell_type": "code",
   "execution_count": 39,
   "metadata": {},
   "outputs": [
    {
     "data": {
      "image/png": "[encoded data removed]",
      "text/plain": [
       "plot without title"
      ]
     },
     "metadata": {},
     "output_type": "display_data"
    }
   ],
   "source": [
    "plot(height, weight)"
   ]
  },
  {
   "cell_type": "code",
   "execution_count": 40,
   "metadata": {},
   "outputs": [
    {
     "data": {
      "image/png": "[encoded data removed]",
      "text/plain": [
       "plot without title"
      ]
     },
     "metadata": {},
     "output_type": "display_data"
    }
   ],
   "source": [
    "plot(height, weight)\n",
    "hh <- c(1.65, 1.70, 1.75, 1.80, 1.85, 1.90)\n",
    "lines(hh, 22.5 * hh^2)"
   ]
  },
  {
   "cell_type": "markdown",
   "metadata": {},
   "source": [
    "### Statistical tests\n",
    "Check if the mean of observations is not different from a theoretical value."
   ]
  },
  {
   "cell_type": "code",
   "execution_count": 41,
   "metadata": {},
   "outputs": [
    {
     "data": {
      "text/plain": [
       "\n",
       "\tOne Sample t-test\n",
       "\n",
       "data:  bmi\n",
       "t = 0.34488, df = 5, p-value = 0.7442\n",
       "alternative hypothesis: true mean is not equal to 22.5\n",
       "95 percent confidence interval:\n",
       " 18.41734 27.84791\n",
       "sample estimates:\n",
       "mean of x \n",
       " 23.13262 \n"
      ]
     },
     "metadata": {},
     "output_type": "display_data"
    }
   ],
   "source": [
    "t.test(bmi, mu=22.5)"
   ]
  },
  {
   "cell_type": "markdown",
   "metadata": {},
   "source": [
    "### Properties of functions\n",
    "Functions have default values. \n",
    "\n",
    "It is possible to check parameters and see the documentation with examples."
   ]
  },
  {
   "cell_type": "code",
   "execution_count": 43,
   "metadata": {},
   "outputs": [
    {
     "data": {
      "text/html": [
       "<pre class=language-r><code>function (x, y = NULL, type = \"p\", xlim = NULL, ylim = NULL, \n",
       "<span style=white-space:pre-wrap>    log = \"\", main = NULL, sub = NULL, xlab = NULL, ylab = NULL, </span>\n",
       "<span style=white-space:pre-wrap>    ann = par(\"ann\"), axes = TRUE, frame.plot = axes, panel.first = NULL, </span>\n",
       "<span style=white-space:pre-wrap>    panel.last = NULL, asp = NA, xgap.axis = NA, ygap.axis = NA, </span>\n",
       "<span style=white-space:pre-wrap>    ...) </span>\n",
       "NULL</code></pre>"
      ],
      "text/latex": [
       "\\begin{minted}{r}\n",
       "function (x, y = NULL, type = \"p\", xlim = NULL, ylim = NULL, \n",
       "    log = \"\", main = NULL, sub = NULL, xlab = NULL, ylab = NULL, \n",
       "    ann = par(\"ann\"), axes = TRUE, frame.plot = axes, panel.first = NULL, \n",
       "    panel.last = NULL, asp = NA, xgap.axis = NA, ygap.axis = NA, \n",
       "    ...) \n",
       "NULL\n",
       "\\end{minted}"
      ],
      "text/markdown": [
       "```r\n",
       "function (x, y = NULL, type = \"p\", xlim = NULL, ylim = NULL, \n",
       "    log = \"\", main = NULL, sub = NULL, xlab = NULL, ylab = NULL, \n",
       "    ann = par(\"ann\"), axes = TRUE, frame.plot = axes, panel.first = NULL, \n",
       "    panel.last = NULL, asp = NA, xgap.axis = NA, ygap.axis = NA, \n",
       "    ...) \n",
       "NULL\n",
       "```"
      ],
      "text/plain": [
       "function (x, y = NULL, type = \"p\", xlim = NULL, ylim = NULL, \n",
       "    log = \"\", main = NULL, sub = NULL, xlab = NULL, ylab = NULL, \n",
       "    ann = par(\"ann\"), axes = TRUE, frame.plot = axes, panel.first = NULL, \n",
       "    panel.last = NULL, asp = NA, xgap.axis = NA, ygap.axis = NA, \n",
       "    ...) \n",
       "NULL"
      ]
     },
     "metadata": {},
     "output_type": "display_data"
    },
    {
     "data": {
      "image/png": "[encoded data removed]",
      "text/plain": [
       "plot without title"
      ]
     },
     "metadata": {},
     "output_type": "display_data"
    }
   ],
   "source": [
    "plot(height, weight, pch=2)\n",
    "\n",
    "args(plot.default)\n",
    "\n",
    "#?graphics::plot"
   ]
  },
  {
   "cell_type": "markdown",
   "metadata": {},
   "source": [
    "### Handling NA observations\n",
    "Operations with NA lead to NA. \n",
    "\n",
    "Observations may have an associated label."
   ]
  },
  {
   "cell_type": "code",
   "execution_count": 44,
   "metadata": {},
   "outputs": [
    {
     "data": {
      "text/html": [
       "&lt;NA&gt;"
      ],
      "text/latex": [
       "<NA>"
      ],
      "text/markdown": [
       "&lt;NA&gt;"
      ],
      "text/plain": [
       "[1] NA"
      ]
     },
     "metadata": {},
     "output_type": "display_data"
    },
    {
     "data": {
      "text/html": [
       "2"
      ],
      "text/latex": [
       "2"
      ],
      "text/markdown": [
       "2"
      ],
      "text/plain": [
       "[1] 2"
      ]
     },
     "metadata": {},
     "output_type": "display_data"
    },
    {
     "data": {
      "text/html": [
       "<ol class=list-inline>\n",
       "\t<li>'A'</li>\n",
       "\t<li>'B'</li>\n",
       "\t<li>'C'</li>\n",
       "</ol>\n"
      ],
      "text/latex": [
       "\\begin{enumerate*}\n",
       "\\item 'A'\n",
       "\\item 'B'\n",
       "\\item 'C'\n",
       "\\end{enumerate*}\n"
      ],
      "text/markdown": [
       "1. 'A'\n",
       "2. 'B'\n",
       "3. 'C'\n",
       "\n",
       "\n"
      ],
      "text/plain": [
       "[1] \"A\" \"B\" \"C\""
      ]
     },
     "metadata": {},
     "output_type": "display_data"
    },
    {
     "data": {
      "text/html": [
       "<dl class=dl-horizontal>\n",
       "\t<dt>A</dt>\n",
       "\t\t<dd>2</dd>\n",
       "\t<dt>B</dt>\n",
       "\t\t<dd>4</dd>\n",
       "\t<dt>C</dt>\n",
       "\t\t<dd>6</dd>\n",
       "</dl>\n"
      ],
      "text/latex": [
       "\\begin{description*}\n",
       "\\item[A] 2\n",
       "\\item[B] 4\n",
       "\\item[C] 6\n",
       "\\end{description*}\n"
      ],
      "text/markdown": [
       "A\n",
       ":   2B\n",
       ":   4C\n",
       ":   6\n",
       "\n"
      ],
      "text/plain": [
       "A B C \n",
       "2 4 6 "
      ]
     },
     "metadata": {},
     "output_type": "display_data"
    }
   ],
   "source": [
    "x <- c(A=1, B=NA, C=3)\n",
    "\n",
    "mean(x)\n",
    "\n",
    "mean(x, na.rm=TRUE)\n",
    "\n",
    "names(x)\n",
    "\n",
    "x[\"B\"] <- 2\n",
    "\n",
    "x[\"B\"]*x\n"
   ]
  },
  {
   "cell_type": "markdown",
   "metadata": {},
   "source": [
    "### Matrices\n",
    "\n",
    "Matrices can be filled from vectors or data frames. \n",
    "\n",
    "It is possible to associate names for rows and columns.\n",
    "\n",
    "Operations such as transpose, scalar product, matrix product ($\\%$*$\\%$), determinants are available.\n",
    "\n",
    "Additional documentation can be found at https://www.statmethods.net/advstats/matrix.html."
   ]
  },
  {
   "cell_type": "code",
   "execution_count": 45,
   "metadata": {},
   "outputs": [
    {
     "data": {
      "text/html": [
       "<table>\n",
       "<caption>A matrix: 3 × 3 of type int</caption>\n",
       "<tbody>\n",
       "\t<tr><td>1</td><td>4</td><td>7</td></tr>\n",
       "\t<tr><td>2</td><td>5</td><td>8</td></tr>\n",
       "\t<tr><td>3</td><td>6</td><td>9</td></tr>\n",
       "</tbody>\n",
       "</table>\n"
      ],
      "text/latex": [
       "A matrix: 3 × 3 of type int\n",
       "\\begin{tabular}{lll}\n",
       "\t 1 & 4 & 7\\\\\n",
       "\t 2 & 5 & 8\\\\\n",
       "\t 3 & 6 & 9\\\\\n",
       "\\end{tabular}\n"
      ],
      "text/markdown": [
       "\n",
       "A matrix: 3 × 3 of type int\n",
       "\n",
       "| 1 | 4 | 7 |\n",
       "| 2 | 5 | 8 |\n",
       "| 3 | 6 | 9 |\n",
       "\n"
      ],
      "text/plain": [
       "     [,1] [,2] [,3]\n",
       "[1,] 1    4    7   \n",
       "[2,] 2    5    8   \n",
       "[3,] 3    6    9   "
      ]
     },
     "metadata": {},
     "output_type": "display_data"
    },
    {
     "data": {
      "text/html": [
       "<table>\n",
       "<caption>A matrix: 3 × 3 of type int</caption>\n",
       "<tbody>\n",
       "\t<tr><th scope=row>A</th><td>1</td><td>2</td><td>3</td></tr>\n",
       "\t<tr><th scope=row>B</th><td>4</td><td>5</td><td>6</td></tr>\n",
       "\t<tr><th scope=row>C</th><td>7</td><td>8</td><td>9</td></tr>\n",
       "</tbody>\n",
       "</table>\n"
      ],
      "text/latex": [
       "A matrix: 3 × 3 of type int\n",
       "\\begin{tabular}{r|lll}\n",
       "\tA & 1 & 2 & 3\\\\\n",
       "\tB & 4 & 5 & 6\\\\\n",
       "\tC & 7 & 8 & 9\\\\\n",
       "\\end{tabular}\n"
      ],
      "text/markdown": [
       "\n",
       "A matrix: 3 × 3 of type int\n",
       "\n",
       "| A | 1 | 2 | 3 |\n",
       "| B | 4 | 5 | 6 |\n",
       "| C | 7 | 8 | 9 |\n",
       "\n"
      ],
      "text/plain": [
       "  [,1] [,2] [,3]\n",
       "A 1    2    3   \n",
       "B 4    5    6   \n",
       "C 7    8    9   "
      ]
     },
     "metadata": {},
     "output_type": "display_data"
    },
    {
     "data": {
      "text/html": [
       "<table>\n",
       "<caption>A matrix: 3 × 3 of type int</caption>\n",
       "<tbody>\n",
       "\t<tr><td>1</td><td>2</td><td>3</td></tr>\n",
       "\t<tr><td>4</td><td>5</td><td>6</td></tr>\n",
       "\t<tr><td>7</td><td>8</td><td>9</td></tr>\n",
       "</tbody>\n",
       "</table>\n"
      ],
      "text/latex": [
       "A matrix: 3 × 3 of type int\n",
       "\\begin{tabular}{lll}\n",
       "\t 1 & 2 & 3\\\\\n",
       "\t 4 & 5 & 6\\\\\n",
       "\t 7 & 8 & 9\\\\\n",
       "\\end{tabular}\n"
      ],
      "text/markdown": [
       "\n",
       "A matrix: 3 × 3 of type int\n",
       "\n",
       "| 1 | 2 | 3 |\n",
       "| 4 | 5 | 6 |\n",
       "| 7 | 8 | 9 |\n",
       "\n"
      ],
      "text/plain": [
       "     [,1] [,2] [,3]\n",
       "[1,] 1    2    3   \n",
       "[2,] 4    5    6   \n",
       "[3,] 7    8    9   "
      ]
     },
     "metadata": {},
     "output_type": "display_data"
    },
    {
     "data": {
      "text/html": [
       "<table>\n",
       "<caption>A matrix: 3 × 3 of type dbl</caption>\n",
       "<tbody>\n",
       "\t<tr><td>1</td><td> 4</td><td> 7</td></tr>\n",
       "\t<tr><td>4</td><td>10</td><td>16</td></tr>\n",
       "\t<tr><td>9</td><td>18</td><td>27</td></tr>\n",
       "</tbody>\n",
       "</table>\n"
      ],
      "text/latex": [
       "A matrix: 3 × 3 of type dbl\n",
       "\\begin{tabular}{lll}\n",
       "\t 1 &  4 &  7\\\\\n",
       "\t 4 & 10 & 16\\\\\n",
       "\t 9 & 18 & 27\\\\\n",
       "\\end{tabular}\n"
      ],
      "text/markdown": [
       "\n",
       "A matrix: 3 × 3 of type dbl\n",
       "\n",
       "| 1 |  4 |  7 |\n",
       "| 4 | 10 | 16 |\n",
       "| 9 | 18 | 27 |\n",
       "\n"
      ],
      "text/plain": [
       "     [,1] [,2] [,3]\n",
       "[1,] 1     4    7  \n",
       "[2,] 4    10   16  \n",
       "[3,] 9    18   27  "
      ]
     },
     "metadata": {},
     "output_type": "display_data"
    },
    {
     "data": {
      "text/html": [
       "0"
      ],
      "text/latex": [
       "0"
      ],
      "text/markdown": [
       "0"
      ],
      "text/plain": [
       "[1] 0"
      ]
     },
     "metadata": {},
     "output_type": "display_data"
    }
   ],
   "source": [
    "m <- 1:9\n",
    "dim(m) <- c(3,3)\n",
    "m\n",
    "\n",
    "mb <- matrix(1:9, nrow=3,byrow=TRUE)\n",
    "rownames(mb) = LETTERS[1:3]\n",
    "mb\n",
    "\n",
    "t(m)\n",
    "\n",
    "m*x\n",
    "\n",
    "det(m)"
   ]
  },
  {
   "cell_type": "markdown",
   "metadata": {},
   "source": [
    "### Factors\n",
    "Factors are used to handle categorical data."
   ]
  },
  {
   "cell_type": "code",
   "execution_count": 46,
   "metadata": {},
   "outputs": [
    {
     "data": {
      "text/html": [
       "<ol class=list-inline>\n",
       "\t<li>none</li>\n",
       "\t<li>severe</li>\n",
       "\t<li>medium</li>\n",
       "\t<li>medium</li>\n",
       "\t<li>mild</li>\n",
       "</ol>\n",
       "\n",
       "<details>\n",
       "\t<summary style=display:list-item;cursor:pointer>\n",
       "\t\t<strong>Levels</strong>:\n",
       "\t</summary>\n",
       "\t<ol class=list-inline>\n",
       "\t\t<li>'none'</li>\n",
       "\t\t<li>'mild'</li>\n",
       "\t\t<li>'medium'</li>\n",
       "\t\t<li>'severe'</li>\n",
       "\t</ol>\n",
       "</details>"
      ],
      "text/latex": [
       "\\begin{enumerate*}\n",
       "\\item none\n",
       "\\item severe\n",
       "\\item medium\n",
       "\\item medium\n",
       "\\item mild\n",
       "\\end{enumerate*}\n",
       "\n",
       "\\emph{Levels}: \\begin{enumerate*}\n",
       "\\item 'none'\n",
       "\\item 'mild'\n",
       "\\item 'medium'\n",
       "\\item 'severe'\n",
       "\\end{enumerate*}\n"
      ],
      "text/markdown": [
       "1. none\n",
       "2. severe\n",
       "3. medium\n",
       "4. medium\n",
       "5. mild\n",
       "\n",
       "\n",
       "\n",
       "**Levels**: 1. 'none'\n",
       "2. 'mild'\n",
       "3. 'medium'\n",
       "4. 'severe'\n",
       "\n",
       "\n"
      ],
      "text/plain": [
       "[1] none   severe medium medium mild  \n",
       "Levels: none mild medium severe"
      ]
     },
     "metadata": {},
     "output_type": "display_data"
    },
    {
     "data": {
      "text/html": [
       "<ol class=list-inline>\n",
       "\t<li>1</li>\n",
       "\t<li>4</li>\n",
       "\t<li>3</li>\n",
       "\t<li>3</li>\n",
       "\t<li>2</li>\n",
       "</ol>\n"
      ],
      "text/latex": [
       "\\begin{enumerate*}\n",
       "\\item 1\n",
       "\\item 4\n",
       "\\item 3\n",
       "\\item 3\n",
       "\\item 2\n",
       "\\end{enumerate*}\n"
      ],
      "text/markdown": [
       "1. 1\n",
       "2. 4\n",
       "3. 3\n",
       "4. 3\n",
       "5. 2\n",
       "\n",
       "\n"
      ],
      "text/plain": [
       "[1] 1 4 3 3 2"
      ]
     },
     "metadata": {},
     "output_type": "display_data"
    },
    {
     "data": {
      "text/html": [
       "<ol class=list-inline>\n",
       "\t<li>'none'</li>\n",
       "\t<li>'mild'</li>\n",
       "\t<li>'medium'</li>\n",
       "\t<li>'severe'</li>\n",
       "</ol>\n"
      ],
      "text/latex": [
       "\\begin{enumerate*}\n",
       "\\item 'none'\n",
       "\\item 'mild'\n",
       "\\item 'medium'\n",
       "\\item 'severe'\n",
       "\\end{enumerate*}\n"
      ],
      "text/markdown": [
       "1. 'none'\n",
       "2. 'mild'\n",
       "3. 'medium'\n",
       "4. 'severe'\n",
       "\n",
       "\n"
      ],
      "text/plain": [
       "[1] \"none\"   \"mild\"   \"medium\" \"severe\""
      ]
     },
     "metadata": {},
     "output_type": "display_data"
    }
   ],
   "source": [
    "pain = c(0,3,2,2,1)\n",
    "fpain = factor(pain,levels=0:3)\n",
    "levels(fpain) = c(\"none\",\"mild\",\"medium\",\"severe\")\n",
    "\n",
    "fpain\n",
    "\n",
    "as.numeric(fpain)\n",
    "\n",
    "levels(fpain)\n"
   ]
  },
  {
   "cell_type": "markdown",
   "metadata": {},
   "source": [
    "### Lists\n",
    "Lists are used to work with \"objects\". "
   ]
  },
  {
   "cell_type": "code",
   "execution_count": 47,
   "metadata": {},
   "outputs": [
    {
     "data": {
      "text/html": [
       "<dl>\n",
       "\t<dt>$A</dt>\n",
       "\t\t<dd><ol class=list-inline>\n",
       "\t<li>5260</li>\n",
       "\t<li>5470</li>\n",
       "\t<li>5640</li>\n",
       "\t<li>6180</li>\n",
       "\t<li>6390</li>\n",
       "\t<li>6515</li>\n",
       "\t<li>6805</li>\n",
       "\t<li>7515</li>\n",
       "\t<li>7515</li>\n",
       "\t<li>8230</li>\n",
       "\t<li>8770</li>\n",
       "</ol>\n",
       "</dd>\n",
       "\t<dt>$B</dt>\n",
       "\t\t<dd><ol class=list-inline>\n",
       "\t<li>3910</li>\n",
       "\t<li>4220</li>\n",
       "\t<li>3885</li>\n",
       "\t<li>5160</li>\n",
       "\t<li>5645</li>\n",
       "\t<li>4680</li>\n",
       "\t<li>5265</li>\n",
       "\t<li>5975</li>\n",
       "\t<li>6790</li>\n",
       "\t<li>6900</li>\n",
       "\t<li>7335</li>\n",
       "</ol>\n",
       "</dd>\n",
       "</dl>\n"
      ],
      "text/latex": [
       "\\begin{description}\n",
       "\\item[\\$A] \\begin{enumerate*}\n",
       "\\item 5260\n",
       "\\item 5470\n",
       "\\item 5640\n",
       "\\item 6180\n",
       "\\item 6390\n",
       "\\item 6515\n",
       "\\item 6805\n",
       "\\item 7515\n",
       "\\item 7515\n",
       "\\item 8230\n",
       "\\item 8770\n",
       "\\end{enumerate*}\n",
       "\n",
       "\\item[\\$B] \\begin{enumerate*}\n",
       "\\item 3910\n",
       "\\item 4220\n",
       "\\item 3885\n",
       "\\item 5160\n",
       "\\item 5645\n",
       "\\item 4680\n",
       "\\item 5265\n",
       "\\item 5975\n",
       "\\item 6790\n",
       "\\item 6900\n",
       "\\item 7335\n",
       "\\end{enumerate*}\n",
       "\n",
       "\\end{description}\n"
      ],
      "text/markdown": [
       "$A\n",
       ":   1. 5260\n",
       "2. 5470\n",
       "3. 5640\n",
       "4. 6180\n",
       "5. 6390\n",
       "6. 6515\n",
       "7. 6805\n",
       "8. 7515\n",
       "9. 7515\n",
       "10. 8230\n",
       "11. 8770\n",
       "\n",
       "\n",
       "\n",
       "$B\n",
       ":   1. 3910\n",
       "2. 4220\n",
       "3. 3885\n",
       "4. 5160\n",
       "5. 5645\n",
       "6. 4680\n",
       "7. 5265\n",
       "8. 5975\n",
       "9. 6790\n",
       "10. 6900\n",
       "11. 7335\n",
       "\n",
       "\n",
       "\n",
       "\n",
       "\n"
      ],
      "text/plain": [
       "$A\n",
       " [1] 5260 5470 5640 6180 6390 6515 6805 7515 7515 8230 8770\n",
       "\n",
       "$B\n",
       " [1] 3910 4220 3885 5160 5645 4680 5265 5975 6790 6900 7335\n"
      ]
     },
     "metadata": {},
     "output_type": "display_data"
    },
    {
     "data": {
      "text/html": [
       "<ol class=list-inline>\n",
       "\t<li>5260</li>\n",
       "\t<li>5470</li>\n",
       "\t<li>5640</li>\n",
       "\t<li>6180</li>\n",
       "\t<li>6390</li>\n",
       "\t<li>6515</li>\n",
       "\t<li>6805</li>\n",
       "\t<li>7515</li>\n",
       "\t<li>7515</li>\n",
       "\t<li>8230</li>\n",
       "\t<li>8770</li>\n",
       "</ol>\n"
      ],
      "text/latex": [
       "\\begin{enumerate*}\n",
       "\\item 5260\n",
       "\\item 5470\n",
       "\\item 5640\n",
       "\\item 6180\n",
       "\\item 6390\n",
       "\\item 6515\n",
       "\\item 6805\n",
       "\\item 7515\n",
       "\\item 7515\n",
       "\\item 8230\n",
       "\\item 8770\n",
       "\\end{enumerate*}\n"
      ],
      "text/markdown": [
       "1. 5260\n",
       "2. 5470\n",
       "3. 5640\n",
       "4. 6180\n",
       "5. 6390\n",
       "6. 6515\n",
       "7. 6805\n",
       "8. 7515\n",
       "9. 7515\n",
       "10. 8230\n",
       "11. 8770\n",
       "\n",
       "\n"
      ],
      "text/plain": [
       " [1] 5260 5470 5640 6180 6390 6515 6805 7515 7515 8230 8770"
      ]
     },
     "metadata": {},
     "output_type": "display_data"
    }
   ],
   "source": [
    "x = c(5260,5470,5640,6180,6390,\n",
    "      6515,6805,7515,7515,8230,8770)\n",
    "y = c(3910,4220,3885,5160,5645,\n",
    "      4680,5265,5975,6790,6900,7335)\n",
    "\n",
    "lst <- list(A=x, B=y)\n",
    "\n",
    "lst\n",
    "\n",
    "lst$A\n"
   ]
  },
  {
   "cell_type": "markdown",
   "metadata": {},
   "source": [
    "### Data frames\n",
    "Data frames (tables) provide support for structured data. "
   ]
  },
  {
   "cell_type": "code",
   "execution_count": 48,
   "metadata": {},
   "outputs": [
    {
     "data": {
      "text/html": [
       "<table>\n",
       "<caption>A data.frame: 11 × 2</caption>\n",
       "<thead>\n",
       "\t<tr><th scope=col>A</th><th scope=col>B</th></tr>\n",
       "\t<tr><th scope=col>&lt;dbl&gt;</th><th scope=col>&lt;dbl&gt;</th></tr>\n",
       "</thead>\n",
       "<tbody>\n",
       "\t<tr><td>5260</td><td>3910</td></tr>\n",
       "\t<tr><td>5470</td><td>4220</td></tr>\n",
       "\t<tr><td>5640</td><td>3885</td></tr>\n",
       "\t<tr><td>6180</td><td>5160</td></tr>\n",
       "\t<tr><td>6390</td><td>5645</td></tr>\n",
       "\t<tr><td>6515</td><td>4680</td></tr>\n",
       "\t<tr><td>6805</td><td>5265</td></tr>\n",
       "\t<tr><td>7515</td><td>5975</td></tr>\n",
       "\t<tr><td>7515</td><td>6790</td></tr>\n",
       "\t<tr><td>8230</td><td>6900</td></tr>\n",
       "\t<tr><td>8770</td><td>7335</td></tr>\n",
       "</tbody>\n",
       "</table>\n"
      ],
      "text/latex": [
       "A data.frame: 11 × 2\n",
       "\\begin{tabular}{r|ll}\n",
       " A & B\\\\\n",
       " <dbl> & <dbl>\\\\\n",
       "\\hline\n",
       "\t 5260 & 3910\\\\\n",
       "\t 5470 & 4220\\\\\n",
       "\t 5640 & 3885\\\\\n",
       "\t 6180 & 5160\\\\\n",
       "\t 6390 & 5645\\\\\n",
       "\t 6515 & 4680\\\\\n",
       "\t 6805 & 5265\\\\\n",
       "\t 7515 & 5975\\\\\n",
       "\t 7515 & 6790\\\\\n",
       "\t 8230 & 6900\\\\\n",
       "\t 8770 & 7335\\\\\n",
       "\\end{tabular}\n"
      ],
      "text/markdown": [
       "\n",
       "A data.frame: 11 × 2\n",
       "\n",
       "| A &lt;dbl&gt; | B &lt;dbl&gt; |\n",
       "|---|---|\n",
       "| 5260 | 3910 |\n",
       "| 5470 | 4220 |\n",
       "| 5640 | 3885 |\n",
       "| 6180 | 5160 |\n",
       "| 6390 | 5645 |\n",
       "| 6515 | 4680 |\n",
       "| 6805 | 5265 |\n",
       "| 7515 | 5975 |\n",
       "| 7515 | 6790 |\n",
       "| 8230 | 6900 |\n",
       "| 8770 | 7335 |\n",
       "\n"
      ],
      "text/plain": [
       "   A    B   \n",
       "1  5260 3910\n",
       "2  5470 4220\n",
       "3  5640 3885\n",
       "4  6180 5160\n",
       "5  6390 5645\n",
       "6  6515 4680\n",
       "7  6805 5265\n",
       "8  7515 5975\n",
       "9  7515 6790\n",
       "10 8230 6900\n",
       "11 8770 7335"
      ]
     },
     "metadata": {},
     "output_type": "display_data"
    },
    {
     "data": {
      "text/html": [
       "<table>\n",
       "<caption>A data.frame: 7 × 2</caption>\n",
       "<thead>\n",
       "\t<tr><th></th><th scope=col>A</th><th scope=col>B</th></tr>\n",
       "\t<tr><th></th><th scope=col>&lt;dbl&gt;</th><th scope=col>&lt;dbl&gt;</th></tr>\n",
       "</thead>\n",
       "<tbody>\n",
       "\t<tr><th scope=row>1</th><td>5260</td><td>3910</td></tr>\n",
       "\t<tr><th scope=row>2</th><td>5470</td><td>4220</td></tr>\n",
       "\t<tr><th scope=row>3</th><td>5640</td><td>3885</td></tr>\n",
       "\t<tr><th scope=row>8</th><td>7515</td><td>5975</td></tr>\n",
       "\t<tr><th scope=row>9</th><td>7515</td><td>6790</td></tr>\n",
       "\t<tr><th scope=row>10</th><td>8230</td><td>6900</td></tr>\n",
       "\t<tr><th scope=row>11</th><td>8770</td><td>7335</td></tr>\n",
       "</tbody>\n",
       "</table>\n"
      ],
      "text/latex": [
       "A data.frame: 7 × 2\n",
       "\\begin{tabular}{r|ll}\n",
       "  & A & B\\\\\n",
       "  & <dbl> & <dbl>\\\\\n",
       "\\hline\n",
       "\t1 & 5260 & 3910\\\\\n",
       "\t2 & 5470 & 4220\\\\\n",
       "\t3 & 5640 & 3885\\\\\n",
       "\t8 & 7515 & 5975\\\\\n",
       "\t9 & 7515 & 6790\\\\\n",
       "\t10 & 8230 & 6900\\\\\n",
       "\t11 & 8770 & 7335\\\\\n",
       "\\end{tabular}\n"
      ],
      "text/markdown": [
       "\n",
       "A data.frame: 7 × 2\n",
       "\n",
       "| <!--/--> | A &lt;dbl&gt; | B &lt;dbl&gt; |\n",
       "|---|---|---|\n",
       "| 1 | 5260 | 3910 |\n",
       "| 2 | 5470 | 4220 |\n",
       "| 3 | 5640 | 3885 |\n",
       "| 8 | 7515 | 5975 |\n",
       "| 9 | 7515 | 6790 |\n",
       "| 10 | 8230 | 6900 |\n",
       "| 11 | 8770 | 7335 |\n",
       "\n"
      ],
      "text/plain": [
       "   A    B   \n",
       "1  5260 3910\n",
       "2  5470 4220\n",
       "3  5640 3885\n",
       "8  7515 5975\n",
       "9  7515 6790\n",
       "10 8230 6900\n",
       "11 8770 7335"
      ]
     },
     "metadata": {},
     "output_type": "display_data"
    }
   ],
   "source": [
    "d <- data.frame(A=lst$A,B=lst$B)\n",
    "d\n",
    "\n",
    "df <- d[d$A > 7000 | d$A < 6000,]\n",
    "df\n"
   ]
  },
  {
   "cell_type": "markdown",
   "metadata": {},
   "source": [
    "### Maps\n",
    "Apply functions can be applied for all rows or columns. \n",
    "\n",
    "The first character of the function name establishes the return type (s: simple, l: list)."
   ]
  },
  {
   "cell_type": "code",
   "execution_count": 49,
   "metadata": {},
   "outputs": [
    {
     "data": {
      "text/html": [
       "<dl>\n",
       "\t<dt>$A</dt>\n",
       "\t\t<dd>5260</dd>\n",
       "\t<dt>$B</dt>\n",
       "\t\t<dd>3885</dd>\n",
       "</dl>\n"
      ],
      "text/latex": [
       "\\begin{description}\n",
       "\\item[\\$A] 5260\n",
       "\\item[\\$B] 3885\n",
       "\\end{description}\n"
      ],
      "text/markdown": [
       "$A\n",
       ":   5260\n",
       "$B\n",
       ":   3885\n",
       "\n",
       "\n"
      ],
      "text/plain": [
       "$A\n",
       "[1] 5260\n",
       "\n",
       "$B\n",
       "[1] 3885\n"
      ]
     },
     "metadata": {},
     "output_type": "display_data"
    },
    {
     "data": {
      "text/html": [
       "<dl class=dl-horizontal>\n",
       "\t<dt>A</dt>\n",
       "\t\t<dd>5260</dd>\n",
       "\t<dt>B</dt>\n",
       "\t\t<dd>3885</dd>\n",
       "</dl>\n"
      ],
      "text/latex": [
       "\\begin{description*}\n",
       "\\item[A] 5260\n",
       "\\item[B] 3885\n",
       "\\end{description*}\n"
      ],
      "text/markdown": [
       "A\n",
       ":   5260B\n",
       ":   3885\n",
       "\n"
      ],
      "text/plain": [
       "   A    B \n",
       "5260 3885 "
      ]
     },
     "metadata": {},
     "output_type": "display_data"
    },
    {
     "data": {
      "text/html": [
       "<ol class=list-inline>\n",
       "\t<li>3910</li>\n",
       "\t<li>4220</li>\n",
       "\t<li>3885</li>\n",
       "\t<li>5160</li>\n",
       "\t<li>5645</li>\n",
       "\t<li>4680</li>\n",
       "\t<li>5265</li>\n",
       "\t<li>5975</li>\n",
       "\t<li>6790</li>\n",
       "\t<li>6900</li>\n",
       "\t<li>7335</li>\n",
       "</ol>\n"
      ],
      "text/latex": [
       "\\begin{enumerate*}\n",
       "\\item 3910\n",
       "\\item 4220\n",
       "\\item 3885\n",
       "\\item 5160\n",
       "\\item 5645\n",
       "\\item 4680\n",
       "\\item 5265\n",
       "\\item 5975\n",
       "\\item 6790\n",
       "\\item 6900\n",
       "\\item 7335\n",
       "\\end{enumerate*}\n"
      ],
      "text/markdown": [
       "1. 3910\n",
       "2. 4220\n",
       "3. 3885\n",
       "4. 5160\n",
       "5. 5645\n",
       "6. 4680\n",
       "7. 5265\n",
       "8. 5975\n",
       "9. 6790\n",
       "10. 6900\n",
       "11. 7335\n",
       "\n",
       "\n"
      ],
      "text/plain": [
       " [1] 3910 4220 3885 5160 5645 4680 5265 5975 6790 6900 7335"
      ]
     },
     "metadata": {},
     "output_type": "display_data"
    },
    {
     "data": {
      "text/html": [
       "<dl class=dl-horizontal>\n",
       "\t<dt>A</dt>\n",
       "\t\t<dd>5260</dd>\n",
       "\t<dt>B</dt>\n",
       "\t\t<dd>3885</dd>\n",
       "</dl>\n"
      ],
      "text/latex": [
       "\\begin{description*}\n",
       "\\item[A] 5260\n",
       "\\item[B] 3885\n",
       "\\end{description*}\n"
      ],
      "text/markdown": [
       "A\n",
       ":   5260B\n",
       ":   3885\n",
       "\n"
      ],
      "text/plain": [
       "   A    B \n",
       "5260 3885 "
      ]
     },
     "metadata": {},
     "output_type": "display_data"
    }
   ],
   "source": [
    "lapply(d, min, na.rm=TRUE)\n",
    "\n",
    "sapply(d, min, na.rm=TRUE)\n",
    "\n",
    "apply(d, 1, min)\n",
    "\n",
    "apply(d, 2, min)"
   ]
  },
  {
   "cell_type": "markdown",
   "metadata": {},
   "source": [
    "### Sort and Order"
   ]
  },
  {
   "cell_type": "code",
   "execution_count": 50,
   "metadata": {},
   "outputs": [
    {
     "data": {
      "text/html": [
       "<ol class=list-inline>\n",
       "\t<li>3885</li>\n",
       "\t<li>3910</li>\n",
       "\t<li>4220</li>\n",
       "\t<li>4680</li>\n",
       "\t<li>5160</li>\n",
       "\t<li>5265</li>\n",
       "\t<li>5645</li>\n",
       "\t<li>5975</li>\n",
       "\t<li>6790</li>\n",
       "\t<li>6900</li>\n",
       "\t<li>7335</li>\n",
       "</ol>\n"
      ],
      "text/latex": [
       "\\begin{enumerate*}\n",
       "\\item 3885\n",
       "\\item 3910\n",
       "\\item 4220\n",
       "\\item 4680\n",
       "\\item 5160\n",
       "\\item 5265\n",
       "\\item 5645\n",
       "\\item 5975\n",
       "\\item 6790\n",
       "\\item 6900\n",
       "\\item 7335\n",
       "\\end{enumerate*}\n"
      ],
      "text/markdown": [
       "1. 3885\n",
       "2. 3910\n",
       "3. 4220\n",
       "4. 4680\n",
       "5. 5160\n",
       "6. 5265\n",
       "7. 5645\n",
       "8. 5975\n",
       "9. 6790\n",
       "10. 6900\n",
       "11. 7335\n",
       "\n",
       "\n"
      ],
      "text/plain": [
       " [1] 3885 3910 4220 4680 5160 5265 5645 5975 6790 6900 7335"
      ]
     },
     "metadata": {},
     "output_type": "display_data"
    },
    {
     "data": {
      "text/html": [
       "<ol class=list-inline>\n",
       "\t<li>3</li>\n",
       "\t<li>1</li>\n",
       "\t<li>2</li>\n",
       "\t<li>6</li>\n",
       "\t<li>4</li>\n",
       "\t<li>7</li>\n",
       "\t<li>5</li>\n",
       "\t<li>8</li>\n",
       "\t<li>9</li>\n",
       "\t<li>10</li>\n",
       "\t<li>11</li>\n",
       "</ol>\n"
      ],
      "text/latex": [
       "\\begin{enumerate*}\n",
       "\\item 3\n",
       "\\item 1\n",
       "\\item 2\n",
       "\\item 6\n",
       "\\item 4\n",
       "\\item 7\n",
       "\\item 5\n",
       "\\item 8\n",
       "\\item 9\n",
       "\\item 10\n",
       "\\item 11\n",
       "\\end{enumerate*}\n"
      ],
      "text/markdown": [
       "1. 3\n",
       "2. 1\n",
       "3. 2\n",
       "4. 6\n",
       "5. 4\n",
       "6. 7\n",
       "7. 5\n",
       "8. 8\n",
       "9. 9\n",
       "10. 10\n",
       "11. 11\n",
       "\n",
       "\n"
      ],
      "text/plain": [
       " [1]  3  1  2  6  4  7  5  8  9 10 11"
      ]
     },
     "metadata": {},
     "output_type": "display_data"
    },
    {
     "data": {
      "text/html": [
       "<table>\n",
       "<caption>A data.frame: 11 × 2</caption>\n",
       "<thead>\n",
       "\t<tr><th></th><th scope=col>A</th><th scope=col>B</th></tr>\n",
       "\t<tr><th></th><th scope=col>&lt;dbl&gt;</th><th scope=col>&lt;dbl&gt;</th></tr>\n",
       "</thead>\n",
       "<tbody>\n",
       "\t<tr><th scope=row>3</th><td>5640</td><td>3885</td></tr>\n",
       "\t<tr><th scope=row>1</th><td>5260</td><td>3910</td></tr>\n",
       "\t<tr><th scope=row>2</th><td>5470</td><td>4220</td></tr>\n",
       "\t<tr><th scope=row>6</th><td>6515</td><td>4680</td></tr>\n",
       "\t<tr><th scope=row>4</th><td>6180</td><td>5160</td></tr>\n",
       "\t<tr><th scope=row>7</th><td>6805</td><td>5265</td></tr>\n",
       "\t<tr><th scope=row>5</th><td>6390</td><td>5645</td></tr>\n",
       "\t<tr><th scope=row>8</th><td>7515</td><td>5975</td></tr>\n",
       "\t<tr><th scope=row>9</th><td>7515</td><td>6790</td></tr>\n",
       "\t<tr><th scope=row>10</th><td>8230</td><td>6900</td></tr>\n",
       "\t<tr><th scope=row>11</th><td>8770</td><td>7335</td></tr>\n",
       "</tbody>\n",
       "</table>\n"
      ],
      "text/latex": [
       "A data.frame: 11 × 2\n",
       "\\begin{tabular}{r|ll}\n",
       "  & A & B\\\\\n",
       "  & <dbl> & <dbl>\\\\\n",
       "\\hline\n",
       "\t3 & 5640 & 3885\\\\\n",
       "\t1 & 5260 & 3910\\\\\n",
       "\t2 & 5470 & 4220\\\\\n",
       "\t6 & 6515 & 4680\\\\\n",
       "\t4 & 6180 & 5160\\\\\n",
       "\t7 & 6805 & 5265\\\\\n",
       "\t5 & 6390 & 5645\\\\\n",
       "\t8 & 7515 & 5975\\\\\n",
       "\t9 & 7515 & 6790\\\\\n",
       "\t10 & 8230 & 6900\\\\\n",
       "\t11 & 8770 & 7335\\\\\n",
       "\\end{tabular}\n"
      ],
      "text/markdown": [
       "\n",
       "A data.frame: 11 × 2\n",
       "\n",
       "| <!--/--> | A &lt;dbl&gt; | B &lt;dbl&gt; |\n",
       "|---|---|---|\n",
       "| 3 | 5640 | 3885 |\n",
       "| 1 | 5260 | 3910 |\n",
       "| 2 | 5470 | 4220 |\n",
       "| 6 | 6515 | 4680 |\n",
       "| 4 | 6180 | 5160 |\n",
       "| 7 | 6805 | 5265 |\n",
       "| 5 | 6390 | 5645 |\n",
       "| 8 | 7515 | 5975 |\n",
       "| 9 | 7515 | 6790 |\n",
       "| 10 | 8230 | 6900 |\n",
       "| 11 | 8770 | 7335 |\n",
       "\n"
      ],
      "text/plain": [
       "   A    B   \n",
       "3  5640 3885\n",
       "1  5260 3910\n",
       "2  5470 4220\n",
       "6  6515 4680\n",
       "4  6180 5160\n",
       "7  6805 5265\n",
       "5  6390 5645\n",
       "8  7515 5975\n",
       "9  7515 6790\n",
       "10 8230 6900\n",
       "11 8770 7335"
      ]
     },
     "metadata": {},
     "output_type": "display_data"
    }
   ],
   "source": [
    "sort(d$B)\n",
    "o <- order(d$B)\n",
    "o\n",
    "ds <- d[o,]\n",
    "ds"
   ]
  },
  {
   "cell_type": "markdown",
   "metadata": {},
   "source": [
    "### Loading and Saving data\n",
    "There are many functions for reading CSV, Excel, and RData formats."
   ]
  },
  {
   "cell_type": "code",
   "execution_count": 51,
   "metadata": {},
   "outputs": [
    {
     "data": {
      "text/html": [
       "<table>\n",
       "<caption>A data.frame: 6 × 14</caption>\n",
       "<thead>\n",
       "\t<tr><th scope=col>X1</th><th scope=col>X14.23</th><th scope=col>X1.71</th><th scope=col>X2.43</th><th scope=col>X15.6</th><th scope=col>X127</th><th scope=col>X2.8</th><th scope=col>X3.06</th><th scope=col>X.28</th><th scope=col>X2.29</th><th scope=col>X5.64</th><th scope=col>X1.04</th><th scope=col>X3.92</th><th scope=col>X1065</th></tr>\n",
       "\t<tr><th scope=col>&lt;int&gt;</th><th scope=col>&lt;dbl&gt;</th><th scope=col>&lt;dbl&gt;</th><th scope=col>&lt;dbl&gt;</th><th scope=col>&lt;dbl&gt;</th><th scope=col>&lt;int&gt;</th><th scope=col>&lt;dbl&gt;</th><th scope=col>&lt;dbl&gt;</th><th scope=col>&lt;dbl&gt;</th><th scope=col>&lt;dbl&gt;</th><th scope=col>&lt;dbl&gt;</th><th scope=col>&lt;dbl&gt;</th><th scope=col>&lt;dbl&gt;</th><th scope=col>&lt;int&gt;</th></tr>\n",
       "</thead>\n",
       "<tbody>\n",
       "\t<tr><td>1</td><td>13.20</td><td>1.78</td><td>2.14</td><td>11.2</td><td>100</td><td>2.65</td><td>2.76</td><td>0.26</td><td>1.28</td><td>4.38</td><td>1.05</td><td>3.40</td><td>1050</td></tr>\n",
       "\t<tr><td>1</td><td>13.16</td><td>2.36</td><td>2.67</td><td>18.6</td><td>101</td><td>2.80</td><td>3.24</td><td>0.30</td><td>2.81</td><td>5.68</td><td>1.03</td><td>3.17</td><td>1185</td></tr>\n",
       "\t<tr><td>1</td><td>14.37</td><td>1.95</td><td>2.50</td><td>16.8</td><td>113</td><td>3.85</td><td>3.49</td><td>0.24</td><td>2.18</td><td>7.80</td><td>0.86</td><td>3.45</td><td>1480</td></tr>\n",
       "\t<tr><td>1</td><td>13.24</td><td>2.59</td><td>2.87</td><td>21.0</td><td>118</td><td>2.80</td><td>2.69</td><td>0.39</td><td>1.82</td><td>4.32</td><td>1.04</td><td>2.93</td><td> 735</td></tr>\n",
       "\t<tr><td>1</td><td>14.20</td><td>1.76</td><td>2.45</td><td>15.2</td><td>112</td><td>3.27</td><td>3.39</td><td>0.34</td><td>1.97</td><td>6.75</td><td>1.05</td><td>2.85</td><td>1450</td></tr>\n",
       "\t<tr><td>1</td><td>14.39</td><td>1.87</td><td>2.45</td><td>14.6</td><td> 96</td><td>2.50</td><td>2.52</td><td>0.30</td><td>1.98</td><td>5.25</td><td>1.02</td><td>3.58</td><td>1290</td></tr>\n",
       "</tbody>\n",
       "</table>\n"
      ],
      "text/latex": [
       "A data.frame: 6 × 14\n",
       "\\begin{tabular}{r|llllllllllllll}\n",
       " X1 & X14.23 & X1.71 & X2.43 & X15.6 & X127 & X2.8 & X3.06 & X.28 & X2.29 & X5.64 & X1.04 & X3.92 & X1065\\\\\n",
       " <int> & <dbl> & <dbl> & <dbl> & <dbl> & <int> & <dbl> & <dbl> & <dbl> & <dbl> & <dbl> & <dbl> & <dbl> & <int>\\\\\n",
       "\\hline\n",
       "\t 1 & 13.20 & 1.78 & 2.14 & 11.2 & 100 & 2.65 & 2.76 & 0.26 & 1.28 & 4.38 & 1.05 & 3.40 & 1050\\\\\n",
       "\t 1 & 13.16 & 2.36 & 2.67 & 18.6 & 101 & 2.80 & 3.24 & 0.30 & 2.81 & 5.68 & 1.03 & 3.17 & 1185\\\\\n",
       "\t 1 & 14.37 & 1.95 & 2.50 & 16.8 & 113 & 3.85 & 3.49 & 0.24 & 2.18 & 7.80 & 0.86 & 3.45 & 1480\\\\\n",
       "\t 1 & 13.24 & 2.59 & 2.87 & 21.0 & 118 & 2.80 & 2.69 & 0.39 & 1.82 & 4.32 & 1.04 & 2.93 &  735\\\\\n",
       "\t 1 & 14.20 & 1.76 & 2.45 & 15.2 & 112 & 3.27 & 3.39 & 0.34 & 1.97 & 6.75 & 1.05 & 2.85 & 1450\\\\\n",
       "\t 1 & 14.39 & 1.87 & 2.45 & 14.6 &  96 & 2.50 & 2.52 & 0.30 & 1.98 & 5.25 & 1.02 & 3.58 & 1290\\\\\n",
       "\\end{tabular}\n"
      ],
      "text/markdown": [
       "\n",
       "A data.frame: 6 × 14\n",
       "\n",
       "| X1 &lt;int&gt; | X14.23 &lt;dbl&gt; | X1.71 &lt;dbl&gt; | X2.43 &lt;dbl&gt; | X15.6 &lt;dbl&gt; | X127 &lt;int&gt; | X2.8 &lt;dbl&gt; | X3.06 &lt;dbl&gt; | X.28 &lt;dbl&gt; | X2.29 &lt;dbl&gt; | X5.64 &lt;dbl&gt; | X1.04 &lt;dbl&gt; | X3.92 &lt;dbl&gt; | X1065 &lt;int&gt; |\n",
       "|---|---|---|---|---|---|---|---|---|---|---|---|---|---|\n",
       "| 1 | 13.20 | 1.78 | 2.14 | 11.2 | 100 | 2.65 | 2.76 | 0.26 | 1.28 | 4.38 | 1.05 | 3.40 | 1050 |\n",
       "| 1 | 13.16 | 2.36 | 2.67 | 18.6 | 101 | 2.80 | 3.24 | 0.30 | 2.81 | 5.68 | 1.03 | 3.17 | 1185 |\n",
       "| 1 | 14.37 | 1.95 | 2.50 | 16.8 | 113 | 3.85 | 3.49 | 0.24 | 2.18 | 7.80 | 0.86 | 3.45 | 1480 |\n",
       "| 1 | 13.24 | 2.59 | 2.87 | 21.0 | 118 | 2.80 | 2.69 | 0.39 | 1.82 | 4.32 | 1.04 | 2.93 |  735 |\n",
       "| 1 | 14.20 | 1.76 | 2.45 | 15.2 | 112 | 3.27 | 3.39 | 0.34 | 1.97 | 6.75 | 1.05 | 2.85 | 1450 |\n",
       "| 1 | 14.39 | 1.87 | 2.45 | 14.6 |  96 | 2.50 | 2.52 | 0.30 | 1.98 | 5.25 | 1.02 | 3.58 | 1290 |\n",
       "\n"
      ],
      "text/plain": [
       "  X1 X14.23 X1.71 X2.43 X15.6 X127 X2.8 X3.06 X.28 X2.29 X5.64 X1.04 X3.92\n",
       "1 1  13.20  1.78  2.14  11.2  100  2.65 2.76  0.26 1.28  4.38  1.05  3.40 \n",
       "2 1  13.16  2.36  2.67  18.6  101  2.80 3.24  0.30 2.81  5.68  1.03  3.17 \n",
       "3 1  14.37  1.95  2.50  16.8  113  3.85 3.49  0.24 2.18  7.80  0.86  3.45 \n",
       "4 1  13.24  2.59  2.87  21.0  118  2.80 2.69  0.39 1.82  4.32  1.04  2.93 \n",
       "5 1  14.20  1.76  2.45  15.2  112  3.27 3.39  0.34 1.97  6.75  1.05  2.85 \n",
       "6 1  14.39  1.87  2.45  14.6   96  2.50 2.52  0.30 1.98  5.25  1.02  3.58 \n",
       "  X1065\n",
       "1 1050 \n",
       "2 1185 \n",
       "3 1480 \n",
       "4  735 \n",
       "5 1450 \n",
       "6 1290 "
      ]
     },
     "metadata": {},
     "output_type": "display_data"
    }
   ],
   "source": [
    "wine = read.table(\"http://archive.ics.uci.edu/ml/machine-learning-databases/wine/wine.data\", header = TRUE, sep = \",\")\n",
    "head(wine)\n",
    "\n",
    "save(wine, file=\"wine.RData\")\n",
    "\n",
    "rm(wine)\n",
    "\n",
    "load(\"wine.RData\")\n",
    "write.table(wine, file=\"wine.csv\", row.names=FALSE, quote = FALSE)\n"
   ]
  },
  {
   "cell_type": "markdown",
   "metadata": {},
   "source": [
    "### Functions\n",
    "Functions may have parameters and can return an object. "
   ]
  },
  {
   "cell_type": "code",
   "execution_count": 52,
   "metadata": {},
   "outputs": [
    {
     "data": {
      "text/html": [
       "<table>\n",
       "<caption>A data.frame: 6 × 6</caption>\n",
       "<thead>\n",
       "\t<tr><th scope=col>Year</th><th scope=col>Months</th><th scope=col>Flights</th><th scope=col>Delays</th><th scope=col>OnTime</th><th scope=col>Perc</th></tr>\n",
       "\t<tr><th scope=col>&lt;int&gt;</th><th scope=col>&lt;fct&gt;</th><th scope=col>&lt;int&gt;</th><th scope=col>&lt;int&gt;</th><th scope=col>&lt;int&gt;</th><th scope=col>&lt;dbl&gt;</th></tr>\n",
       "</thead>\n",
       "<tbody>\n",
       "\t<tr><td>2016</td><td>Jan-Mar</td><td>11</td><td>6</td><td> 5</td><td>55</td></tr>\n",
       "\t<tr><td>2016</td><td>Apr-Jun</td><td>12</td><td>5</td><td> 7</td><td>42</td></tr>\n",
       "\t<tr><td>2016</td><td>Jul-Sep</td><td>13</td><td>3</td><td>10</td><td>23</td></tr>\n",
       "\t<tr><td>2016</td><td>Oct-Dec</td><td>12</td><td>5</td><td> 7</td><td>42</td></tr>\n",
       "\t<tr><td>2017</td><td>Jan-Mar</td><td>10</td><td>4</td><td> 6</td><td>40</td></tr>\n",
       "\t<tr><td>2017</td><td>Apr-Jun</td><td> 9</td><td>3</td><td> 6</td><td>33</td></tr>\n",
       "</tbody>\n",
       "</table>\n"
      ],
      "text/latex": [
       "A data.frame: 6 × 6\n",
       "\\begin{tabular}{r|llllll}\n",
       " Year & Months & Flights & Delays & OnTime & Perc\\\\\n",
       " <int> & <fct> & <int> & <int> & <int> & <dbl>\\\\\n",
       "\\hline\n",
       "\t 2016 & Jan-Mar & 11 & 6 &  5 & 55\\\\\n",
       "\t 2016 & Apr-Jun & 12 & 5 &  7 & 42\\\\\n",
       "\t 2016 & Jul-Sep & 13 & 3 & 10 & 23\\\\\n",
       "\t 2016 & Oct-Dec & 12 & 5 &  7 & 42\\\\\n",
       "\t 2017 & Jan-Mar & 10 & 4 &  6 & 40\\\\\n",
       "\t 2017 & Apr-Jun &  9 & 3 &  6 & 33\\\\\n",
       "\\end{tabular}\n"
      ],
      "text/markdown": [
       "\n",
       "A data.frame: 6 × 6\n",
       "\n",
       "| Year &lt;int&gt; | Months &lt;fct&gt; | Flights &lt;int&gt; | Delays &lt;int&gt; | OnTime &lt;int&gt; | Perc &lt;dbl&gt; |\n",
       "|---|---|---|---|---|---|\n",
       "| 2016 | Jan-Mar | 11 | 6 |  5 | 55 |\n",
       "| 2016 | Apr-Jun | 12 | 5 |  7 | 42 |\n",
       "| 2016 | Jul-Sep | 13 | 3 | 10 | 23 |\n",
       "| 2016 | Oct-Dec | 12 | 5 |  7 | 42 |\n",
       "| 2017 | Jan-Mar | 10 | 4 |  6 | 40 |\n",
       "| 2017 | Apr-Jun |  9 | 3 |  6 | 33 |\n",
       "\n"
      ],
      "text/plain": [
       "  Year Months  Flights Delays OnTime Perc\n",
       "1 2016 Jan-Mar 11      6       5     55  \n",
       "2 2016 Apr-Jun 12      5       7     42  \n",
       "3 2016 Jul-Sep 13      3      10     23  \n",
       "4 2016 Oct-Dec 12      5       7     42  \n",
       "5 2017 Jan-Mar 10      4       6     40  \n",
       "6 2017 Apr-Jun  9      3       6     33  "
      ]
     },
     "metadata": {},
     "output_type": "display_data"
    }
   ],
   "source": [
    "create_dataset <- function() {\n",
    "  data <- read.table(text = \"Year Months Flights Delays\n",
    "                     2016 Jan-Mar 11 6\n",
    "                     2016 Apr-Jun 12 5\n",
    "                     2016 Jul-Sep 13 3\n",
    "                     2016 Oct-Dec 12 5\n",
    "                     2017 Jan-Mar 10 4\n",
    "                     2017 Apr-Jun 9 3\n",
    "                     2017 Jul-Sep 11 4\n",
    "                     2017 Oct-Dec 25 15\n",
    "                     2018 Jan-Mar 14 3\n",
    "                     2018 Apr-Jun 12 5\n",
    "                     2018 Jul-Sep 13 3\n",
    "                     2018 Oct-Dec 15 4\",\n",
    "                     header = TRUE,sep = \"\")  \n",
    "  data$OnTime <- data$Flights - data$Delays \n",
    "  data$Perc <- round(100 * data$Delays / data$Flights)\n",
    "  return(data)\n",
    "}\n",
    "\n",
    "data <- create_dataset()\n",
    "head(data)"
   ]
  },
  {
   "cell_type": "markdown",
   "metadata": {},
   "source": [
    "### Pipelines\n",
    "The operator $\\%$>$\\%$ creates a pipeline. \n",
    "\n",
    "The first parameter of the next invoked function receives the data from the pipeline. \n",
    "\n",
    "Library $dplyr$ contains a set of functions that support relational algebra operations."
   ]
  },
  {
   "cell_type": "code",
   "execution_count": 53,
   "metadata": {},
   "outputs": [
    {
     "data": {
      "text/html": [
       "<table>\n",
       "<caption>A tibble: 4 × 3</caption>\n",
       "<thead>\n",
       "\t<tr><th scope=col>variable</th><th scope=col>sd</th><th scope=col>value</th></tr>\n",
       "\t<tr><th scope=col>&lt;fct&gt;</th><th scope=col>&lt;dbl&gt;</th><th scope=col>&lt;dbl&gt;</th></tr>\n",
       "</thead>\n",
       "<tbody>\n",
       "\t<tr><td>Apr-Jun</td><td>1.1547005</td><td>4.333333</td></tr>\n",
       "\t<tr><td>Jan-Mar</td><td>1.5275252</td><td>4.333333</td></tr>\n",
       "\t<tr><td>Jul-Sep</td><td>0.5773503</td><td>3.333333</td></tr>\n",
       "\t<tr><td>Oct-Dec</td><td>6.0827625</td><td>8.000000</td></tr>\n",
       "</tbody>\n",
       "</table>\n"
      ],
      "text/latex": [
       "A tibble: 4 × 3\n",
       "\\begin{tabular}{r|lll}\n",
       " variable & sd & value\\\\\n",
       " <fct> & <dbl> & <dbl>\\\\\n",
       "\\hline\n",
       "\t Apr-Jun & 1.1547005 & 4.333333\\\\\n",
       "\t Jan-Mar & 1.5275252 & 4.333333\\\\\n",
       "\t Jul-Sep & 0.5773503 & 3.333333\\\\\n",
       "\t Oct-Dec & 6.0827625 & 8.000000\\\\\n",
       "\\end{tabular}\n"
      ],
      "text/markdown": [
       "\n",
       "A tibble: 4 × 3\n",
       "\n",
       "| variable &lt;fct&gt; | sd &lt;dbl&gt; | value &lt;dbl&gt; |\n",
       "|---|---|---|\n",
       "| Apr-Jun | 1.1547005 | 4.333333 |\n",
       "| Jan-Mar | 1.5275252 | 4.333333 |\n",
       "| Jul-Sep | 0.5773503 | 3.333333 |\n",
       "| Oct-Dec | 6.0827625 | 8.000000 |\n",
       "\n"
      ],
      "text/plain": [
       "  variable sd        value   \n",
       "1 Apr-Jun  1.1547005 4.333333\n",
       "2 Jan-Mar  1.5275252 4.333333\n",
       "3 Jul-Sep  0.5773503 3.333333\n",
       "4 Oct-Dec  6.0827625 8.000000"
      ]
     },
     "metadata": {},
     "output_type": "display_data"
    }
   ],
   "source": [
    "loadlibrary(\"dplyr\")\n",
    "\n",
    "data_sd <- create_dataset() %>% \n",
    "  select(variable=Months, value=Delays) %>% \n",
    "  group_by(variable) %>% \n",
    "  summarize(sd = sd(value), value = mean(value))\n",
    "\n",
    "data_sd$variable <- factor(data_sd$variable,\n",
    "    levels = c('Jan-Mar','Apr-Jun','Jul-Sep','Oct-Dec'))\n",
    "\n",
    "head(data_sd)"
   ]
  },
  {
   "cell_type": "markdown",
   "metadata": {},
   "source": [
    "### Advanced graphics\n",
    "Library $ggplot$ contains advanced graphics.\n",
    "\n",
    "The $myGraphics.ipynb$ notebook has some examples of creating nice graphics using $ggplot$. Additional information can be found at https://nbviewer.jupyter.org/github/eogasawara/mylibrary/blob/master/myGraphics.ipynb.\n"
   ]
  },
  {
   "cell_type": "code",
   "execution_count": 54,
   "metadata": {},
   "outputs": [
    {
     "data": {
      "image/png": "[encoded data removed]",
      "text/plain": [
       "plot without title"
      ]
     },
     "metadata": {},
     "output_type": "display_data"
    }
   ],
   "source": [
    "loadlibrary(\"RColorBrewer\")\n",
    "\n",
    "col_set <- brewer.pal(11, 'Spectral')\n",
    "\n",
    "grf <- plot.bar(data_sd, colors=col_set[2], alpha=0.5)\n",
    "grf <- grf + geom_errorbar(\n",
    "    aes(x=variable, ymin=value-sd, ymax=value+sd), \n",
    "    width=0.2, colour=col_set[2], alpha=0.9, size=1.1) \n",
    "\n",
    "plot(grf)\n"
   ]
  },
  {
   "cell_type": "markdown",
   "metadata": {},
   "source": [
    "### Melt library\n",
    "The $melt$ function transforms columns values into rows grouped by $id.vars$. \n",
    "\n",
    "The name of columns is used to fill the $variable$ attribute created during $melt$."
   ]
  },
  {
   "cell_type": "code",
   "execution_count": 55,
   "metadata": {},
   "outputs": [
    {
     "data": {
      "text/html": [
       "<table>\n",
       "<caption>A data.frame: 6 × 6</caption>\n",
       "<thead>\n",
       "\t<tr><th scope=col>Year</th><th scope=col>Months</th><th scope=col>Flights</th><th scope=col>Delays</th><th scope=col>OnTime</th><th scope=col>Perc</th></tr>\n",
       "\t<tr><th scope=col>&lt;int&gt;</th><th scope=col>&lt;fct&gt;</th><th scope=col>&lt;int&gt;</th><th scope=col>&lt;int&gt;</th><th scope=col>&lt;int&gt;</th><th scope=col>&lt;dbl&gt;</th></tr>\n",
       "</thead>\n",
       "<tbody>\n",
       "\t<tr><td>2016</td><td>Jan-Mar</td><td>11</td><td>6</td><td> 5</td><td>55</td></tr>\n",
       "\t<tr><td>2016</td><td>Apr-Jun</td><td>12</td><td>5</td><td> 7</td><td>42</td></tr>\n",
       "\t<tr><td>2016</td><td>Jul-Sep</td><td>13</td><td>3</td><td>10</td><td>23</td></tr>\n",
       "\t<tr><td>2016</td><td>Oct-Dec</td><td>12</td><td>5</td><td> 7</td><td>42</td></tr>\n",
       "\t<tr><td>2017</td><td>Jan-Mar</td><td>10</td><td>4</td><td> 6</td><td>40</td></tr>\n",
       "\t<tr><td>2017</td><td>Apr-Jun</td><td> 9</td><td>3</td><td> 6</td><td>33</td></tr>\n",
       "</tbody>\n",
       "</table>\n"
      ],
      "text/latex": [
       "A data.frame: 6 × 6\n",
       "\\begin{tabular}{r|llllll}\n",
       " Year & Months & Flights & Delays & OnTime & Perc\\\\\n",
       " <int> & <fct> & <int> & <int> & <int> & <dbl>\\\\\n",
       "\\hline\n",
       "\t 2016 & Jan-Mar & 11 & 6 &  5 & 55\\\\\n",
       "\t 2016 & Apr-Jun & 12 & 5 &  7 & 42\\\\\n",
       "\t 2016 & Jul-Sep & 13 & 3 & 10 & 23\\\\\n",
       "\t 2016 & Oct-Dec & 12 & 5 &  7 & 42\\\\\n",
       "\t 2017 & Jan-Mar & 10 & 4 &  6 & 40\\\\\n",
       "\t 2017 & Apr-Jun &  9 & 3 &  6 & 33\\\\\n",
       "\\end{tabular}\n"
      ],
      "text/markdown": [
       "\n",
       "A data.frame: 6 × 6\n",
       "\n",
       "| Year &lt;int&gt; | Months &lt;fct&gt; | Flights &lt;int&gt; | Delays &lt;int&gt; | OnTime &lt;int&gt; | Perc &lt;dbl&gt; |\n",
       "|---|---|---|---|---|---|\n",
       "| 2016 | Jan-Mar | 11 | 6 |  5 | 55 |\n",
       "| 2016 | Apr-Jun | 12 | 5 |  7 | 42 |\n",
       "| 2016 | Jul-Sep | 13 | 3 | 10 | 23 |\n",
       "| 2016 | Oct-Dec | 12 | 5 |  7 | 42 |\n",
       "| 2017 | Jan-Mar | 10 | 4 |  6 | 40 |\n",
       "| 2017 | Apr-Jun |  9 | 3 |  6 | 33 |\n",
       "\n"
      ],
      "text/plain": [
       "  Year Months  Flights Delays OnTime Perc\n",
       "1 2016 Jan-Mar 11      6       5     55  \n",
       "2 2016 Apr-Jun 12      5       7     42  \n",
       "3 2016 Jul-Sep 13      3      10     23  \n",
       "4 2016 Oct-Dec 12      5       7     42  \n",
       "5 2017 Jan-Mar 10      4       6     40  \n",
       "6 2017 Apr-Jun  9      3       6     33  "
      ]
     },
     "metadata": {},
     "output_type": "display_data"
    },
    {
     "data": {
      "text/html": [
       "<table>\n",
       "<caption>A data.frame: 6 × 4</caption>\n",
       "<thead>\n",
       "\t<tr><th scope=col>Year</th><th scope=col>Months</th><th scope=col>variable</th><th scope=col>value</th></tr>\n",
       "\t<tr><th scope=col>&lt;int&gt;</th><th scope=col>&lt;fct&gt;</th><th scope=col>&lt;fct&gt;</th><th scope=col>&lt;dbl&gt;</th></tr>\n",
       "</thead>\n",
       "<tbody>\n",
       "\t<tr><td>2016</td><td>Jan-Mar</td><td>Flights</td><td>11</td></tr>\n",
       "\t<tr><td>2016</td><td>Apr-Jun</td><td>Flights</td><td>12</td></tr>\n",
       "\t<tr><td>2016</td><td>Jul-Sep</td><td>Flights</td><td>13</td></tr>\n",
       "\t<tr><td>2016</td><td>Oct-Dec</td><td>Flights</td><td>12</td></tr>\n",
       "\t<tr><td>2017</td><td>Jan-Mar</td><td>Flights</td><td>10</td></tr>\n",
       "\t<tr><td>2017</td><td>Apr-Jun</td><td>Flights</td><td> 9</td></tr>\n",
       "</tbody>\n",
       "</table>\n"
      ],
      "text/latex": [
       "A data.frame: 6 × 4\n",
       "\\begin{tabular}{r|llll}\n",
       " Year & Months & variable & value\\\\\n",
       " <int> & <fct> & <fct> & <dbl>\\\\\n",
       "\\hline\n",
       "\t 2016 & Jan-Mar & Flights & 11\\\\\n",
       "\t 2016 & Apr-Jun & Flights & 12\\\\\n",
       "\t 2016 & Jul-Sep & Flights & 13\\\\\n",
       "\t 2016 & Oct-Dec & Flights & 12\\\\\n",
       "\t 2017 & Jan-Mar & Flights & 10\\\\\n",
       "\t 2017 & Apr-Jun & Flights &  9\\\\\n",
       "\\end{tabular}\n"
      ],
      "text/markdown": [
       "\n",
       "A data.frame: 6 × 4\n",
       "\n",
       "| Year &lt;int&gt; | Months &lt;fct&gt; | variable &lt;fct&gt; | value &lt;dbl&gt; |\n",
       "|---|---|---|---|\n",
       "| 2016 | Jan-Mar | Flights | 11 |\n",
       "| 2016 | Apr-Jun | Flights | 12 |\n",
       "| 2016 | Jul-Sep | Flights | 13 |\n",
       "| 2016 | Oct-Dec | Flights | 12 |\n",
       "| 2017 | Jan-Mar | Flights | 10 |\n",
       "| 2017 | Apr-Jun | Flights |  9 |\n",
       "\n"
      ],
      "text/plain": [
       "  Year Months  variable value\n",
       "1 2016 Jan-Mar Flights  11   \n",
       "2 2016 Apr-Jun Flights  12   \n",
       "3 2016 Jul-Sep Flights  13   \n",
       "4 2016 Oct-Dec Flights  12   \n",
       "5 2017 Jan-Mar Flights  10   \n",
       "6 2017 Apr-Jun Flights   9   "
      ]
     },
     "metadata": {},
     "output_type": "display_data"
    }
   ],
   "source": [
    "loadlibrary(\"reshape\")\n",
    "data <- create_dataset()\n",
    "head(data)\n",
    "data <- melt(data[,c('Year', 'Months', 'Flights', 'Delays', 'OnTime', 'Perc')], \n",
    "               id.vars = c(1,2))\n",
    "head(data)"
   ]
  },
  {
   "cell_type": "code",
   "execution_count": 56,
   "metadata": {},
   "outputs": [
    {
     "data": {
      "image/png": "[encoded data removed]",
      "text/plain": [
       "plot without title"
      ]
     },
     "metadata": {},
     "output_type": "display_data"
    }
   ],
   "source": [
    "data$x <- sprintf(\"%d-%s\", data$Year, data$Months)\n",
    "data$x <- factor(data$x,levels = data$x[1:12])\n",
    "\n",
    "grf <- plot.series(data %>% filter(variable %in% c('Flights', 'Delays')),\n",
    "                   colors=col_set[c(4,2)]) \n",
    "grf <- grf + theme(axis.text.x = element_text(angle=45, hjust=1))\n",
    "\n",
    "plot(grf)"
   ]
  },
  {
   "cell_type": "markdown",
   "metadata": {},
   "source": [
    "### Merge\n",
    "The function $merge$ can be used to join data frames. It can be used to produce inner, left, right, and outer joins. "
   ]
  },
  {
   "cell_type": "code",
   "execution_count": 57,
   "metadata": {},
   "outputs": [
    {
     "data": {
      "text/html": [
       "<table>\n",
       "<caption>A data.frame: 5 × 2</caption>\n",
       "<thead>\n",
       "\t<tr><th scope=col>city</th><th scope=col>value</th></tr>\n",
       "\t<tr><th scope=col>&lt;fct&gt;</th><th scope=col>&lt;dbl&gt;</th></tr>\n",
       "</thead>\n",
       "<tbody>\n",
       "\t<tr><td>Rio de Janeiro</td><td>10</td></tr>\n",
       "\t<tr><td>Sao Paulo     </td><td>12</td></tr>\n",
       "\t<tr><td>Paris         </td><td>20</td></tr>\n",
       "\t<tr><td>New York      </td><td>25</td></tr>\n",
       "\t<tr><td>Tokyo         </td><td>18</td></tr>\n",
       "</tbody>\n",
       "</table>\n"
      ],
      "text/latex": [
       "A data.frame: 5 × 2\n",
       "\\begin{tabular}{r|ll}\n",
       " city & value\\\\\n",
       " <fct> & <dbl>\\\\\n",
       "\\hline\n",
       "\t Rio de Janeiro & 10\\\\\n",
       "\t Sao Paulo      & 12\\\\\n",
       "\t Paris          & 20\\\\\n",
       "\t New York       & 25\\\\\n",
       "\t Tokyo          & 18\\\\\n",
       "\\end{tabular}\n"
      ],
      "text/markdown": [
       "\n",
       "A data.frame: 5 × 2\n",
       "\n",
       "| city &lt;fct&gt; | value &lt;dbl&gt; |\n",
       "|---|---|\n",
       "| Rio de Janeiro | 10 |\n",
       "| Sao Paulo      | 12 |\n",
       "| Paris          | 20 |\n",
       "| New York       | 25 |\n",
       "| Tokyo          | 18 |\n",
       "\n"
      ],
      "text/plain": [
       "  city           value\n",
       "1 Rio de Janeiro 10   \n",
       "2 Sao Paulo      12   \n",
       "3 Paris          20   \n",
       "4 New York       25   \n",
       "5 Tokyo          18   "
      ]
     },
     "metadata": {},
     "output_type": "display_data"
    },
    {
     "data": {
      "text/html": [
       "<table>\n",
       "<caption>A data.frame: 5 × 2</caption>\n",
       "<thead>\n",
       "\t<tr><th scope=col>city</th><th scope=col>country</th></tr>\n",
       "\t<tr><th scope=col>&lt;fct&gt;</th><th scope=col>&lt;fct&gt;</th></tr>\n",
       "</thead>\n",
       "<tbody>\n",
       "\t<tr><td>Rio de Janeiro</td><td>Brazil</td></tr>\n",
       "\t<tr><td>Sao Paulo     </td><td>Brazil</td></tr>\n",
       "\t<tr><td>Paris         </td><td>France</td></tr>\n",
       "\t<tr><td>New York      </td><td>US    </td></tr>\n",
       "\t<tr><td>Tokyo         </td><td>Japan </td></tr>\n",
       "</tbody>\n",
       "</table>\n"
      ],
      "text/latex": [
       "A data.frame: 5 × 2\n",
       "\\begin{tabular}{r|ll}\n",
       " city & country\\\\\n",
       " <fct> & <fct>\\\\\n",
       "\\hline\n",
       "\t Rio de Janeiro & Brazil\\\\\n",
       "\t Sao Paulo      & Brazil\\\\\n",
       "\t Paris          & France\\\\\n",
       "\t New York       & US    \\\\\n",
       "\t Tokyo          & Japan \\\\\n",
       "\\end{tabular}\n"
      ],
      "text/markdown": [
       "\n",
       "A data.frame: 5 × 2\n",
       "\n",
       "| city &lt;fct&gt; | country &lt;fct&gt; |\n",
       "|---|---|\n",
       "| Rio de Janeiro | Brazil |\n",
       "| Sao Paulo      | Brazil |\n",
       "| Paris          | France |\n",
       "| New York       | US     |\n",
       "| Tokyo          | Japan  |\n",
       "\n"
      ],
      "text/plain": [
       "  city           country\n",
       "1 Rio de Janeiro Brazil \n",
       "2 Sao Paulo      Brazil \n",
       "3 Paris          France \n",
       "4 New York       US     \n",
       "5 Tokyo          Japan  "
      ]
     },
     "metadata": {},
     "output_type": "display_data"
    },
    {
     "data": {
      "text/html": [
       "<table>\n",
       "<caption>A data.frame: 5 × 3</caption>\n",
       "<thead>\n",
       "\t<tr><th scope=col>city</th><th scope=col>value</th><th scope=col>country</th></tr>\n",
       "\t<tr><th scope=col>&lt;fct&gt;</th><th scope=col>&lt;dbl&gt;</th><th scope=col>&lt;fct&gt;</th></tr>\n",
       "</thead>\n",
       "<tbody>\n",
       "\t<tr><td>New York      </td><td>25</td><td>US    </td></tr>\n",
       "\t<tr><td>Paris         </td><td>20</td><td>France</td></tr>\n",
       "\t<tr><td>Rio de Janeiro</td><td>10</td><td>Brazil</td></tr>\n",
       "\t<tr><td>Sao Paulo     </td><td>12</td><td>Brazil</td></tr>\n",
       "\t<tr><td>Tokyo         </td><td>18</td><td>Japan </td></tr>\n",
       "</tbody>\n",
       "</table>\n"
      ],
      "text/latex": [
       "A data.frame: 5 × 3\n",
       "\\begin{tabular}{r|lll}\n",
       " city & value & country\\\\\n",
       " <fct> & <dbl> & <fct>\\\\\n",
       "\\hline\n",
       "\t New York       & 25 & US    \\\\\n",
       "\t Paris          & 20 & France\\\\\n",
       "\t Rio de Janeiro & 10 & Brazil\\\\\n",
       "\t Sao Paulo      & 12 & Brazil\\\\\n",
       "\t Tokyo          & 18 & Japan \\\\\n",
       "\\end{tabular}\n"
      ],
      "text/markdown": [
       "\n",
       "A data.frame: 5 × 3\n",
       "\n",
       "| city &lt;fct&gt; | value &lt;dbl&gt; | country &lt;fct&gt; |\n",
       "|---|---|---|\n",
       "| New York       | 25 | US     |\n",
       "| Paris          | 20 | France |\n",
       "| Rio de Janeiro | 10 | Brazil |\n",
       "| Sao Paulo      | 12 | Brazil |\n",
       "| Tokyo          | 18 | Japan  |\n",
       "\n"
      ],
      "text/plain": [
       "  city           value country\n",
       "1 New York       25    US     \n",
       "2 Paris          20    France \n",
       "3 Rio de Janeiro 10    Brazil \n",
       "4 Sao Paulo      12    Brazil \n",
       "5 Tokyo          18    Japan  "
      ]
     },
     "metadata": {},
     "output_type": "display_data"
    },
    {
     "data": {
      "text/html": [
       "<table>\n",
       "<caption>A tibble: 4 × 3</caption>\n",
       "<thead>\n",
       "\t<tr><th scope=col>country</th><th scope=col>count</th><th scope=col>amount</th></tr>\n",
       "\t<tr><th scope=col>&lt;fct&gt;</th><th scope=col>&lt;int&gt;</th><th scope=col>&lt;dbl&gt;</th></tr>\n",
       "</thead>\n",
       "<tbody>\n",
       "\t<tr><td>Brazil</td><td>2</td><td>22</td></tr>\n",
       "\t<tr><td>France</td><td>1</td><td>20</td></tr>\n",
       "\t<tr><td>Japan </td><td>1</td><td>18</td></tr>\n",
       "\t<tr><td>US    </td><td>1</td><td>25</td></tr>\n",
       "</tbody>\n",
       "</table>\n"
      ],
      "text/latex": [
       "A tibble: 4 × 3\n",
       "\\begin{tabular}{r|lll}\n",
       " country & count & amount\\\\\n",
       " <fct> & <int> & <dbl>\\\\\n",
       "\\hline\n",
       "\t Brazil & 2 & 22\\\\\n",
       "\t France & 1 & 20\\\\\n",
       "\t Japan  & 1 & 18\\\\\n",
       "\t US     & 1 & 25\\\\\n",
       "\\end{tabular}\n"
      ],
      "text/markdown": [
       "\n",
       "A tibble: 4 × 3\n",
       "\n",
       "| country &lt;fct&gt; | count &lt;int&gt; | amount &lt;dbl&gt; |\n",
       "|---|---|---|\n",
       "| Brazil | 2 | 22 |\n",
       "| France | 1 | 20 |\n",
       "| Japan  | 1 | 18 |\n",
       "| US     | 1 | 25 |\n",
       "\n"
      ],
      "text/plain": [
       "  country count amount\n",
       "1 Brazil  2     22    \n",
       "2 France  1     20    \n",
       "3 Japan   1     18    \n",
       "4 US      1     25    "
      ]
     },
     "metadata": {},
     "output_type": "display_data"
    }
   ],
   "source": [
    "stores <- data.frame(\n",
    "    city = c(\"Rio de Janeiro\", \"Sao Paulo\", \"Paris\", \"New York\", \"Tokyo\"),\n",
    "    value = c(10, 12, 20, 25, 18))\n",
    "head(stores)\n",
    "\n",
    "\n",
    "divisions <- data.frame(\n",
    "    city = c(\"Rio de Janeiro\", \"Sao Paulo\", \"Paris\", \"New York\", \"Tokyo\"),\n",
    "    country = c(\"Brazil\", \"Brazil\", \"France\", \"US\", \"Japan\"))\n",
    "head(divisions)\n",
    "\n",
    "data <- merge(stores, divisions, by.x=\"city\", by.y=\"city\")\n",
    "head(data)\n",
    "\n",
    "result <- data %>% group_by(country) %>% summarize(count = n(), amount = sum(value))\n",
    "head(result)"
   ]
  },
  {
   "cell_type": "markdown",
   "metadata": {},
   "source": [
    "### Loops"
   ]
  },
  {
   "cell_type": "code",
   "execution_count": 58,
   "metadata": {},
   "outputs": [
    {
     "name": "stdout",
     "output_type": "stream",
     "text": [
      "[1] \"Brazil - 17.6\"\n",
      "[1] \"France - 20.0\"\n",
      "[1] \" Japan - 18.0\"\n",
      "[1] \"    US - 25.0\"\n"
     ]
    }
   ],
   "source": [
    "for (i in 1:nrow(result)) {\n",
    "  value <- result$amount[i]\n",
    "  if (result$count[i] > 1) {\n",
    "      value <- 0.8*value\n",
    "  }\n",
    "  print(sprintf(\"%6s - %.1f\", result$country[i], value))\n",
    "}"
   ]
  },
  {
   "cell_type": "code",
   "execution_count": null,
   "metadata": {},
   "outputs": [],
   "source": []
  }
 ],
 "metadata": {
  "kernelspec": {
   "display_name": "R",
   "language": "R",
   "name": "ir"
  },
  "language_info": {
   "codemirror_mode": "r",
   "file_extension": ".r",
   "mimetype": "text/x-r-source",
   "name": "R",
   "pygments_lexer": "r",
   "version": "3.6.0"
  }
 },
 "nbformat": 4,
 "nbformat_minor": 2
}
