{
 "cells": [
  {
   "cell_type": "markdown",
   "id": "d40a848e",
   "metadata": {},
   "source": [
    "### Exercise #11"
   ]
  },
  {
   "cell_type": "code",
   "execution_count": 11,
   "id": "235533cc",
   "metadata": {},
   "outputs": [],
   "source": [
    "source(\"https://raw.githubusercontent.com/eogasawara/mylibrary/master/myGraphic.R\")\n",
    "library(dplyr)\n",
    "\n",
    "paired_colors <- brewer.pal(11, 'Paired')"
   ]
  },
  {
   "cell_type": "code",
   "execution_count": 19,
   "id": "759b6b49",
   "metadata": {},
   "outputs": [
    {
     "data": {
      "text/html": [
       "<table class=\"dataframe\">\n",
       "<caption>A data.frame: 6 × 2</caption>\n",
       "<thead>\n",
       "\t<tr><th></th><th scope=col>hp</th><th scope=col>qsec</th></tr>\n",
       "\t<tr><th></th><th scope=col>&lt;dbl&gt;</th><th scope=col>&lt;dbl&gt;</th></tr>\n",
       "</thead>\n",
       "<tbody>\n",
       "\t<tr><th scope=row>Mazda RX4</th><td>110</td><td>16.46</td></tr>\n",
       "\t<tr><th scope=row>Mazda RX4 Wag</th><td>110</td><td>17.02</td></tr>\n",
       "\t<tr><th scope=row>Datsun 710</th><td> 93</td><td>18.61</td></tr>\n",
       "\t<tr><th scope=row>Hornet 4 Drive</th><td>110</td><td>19.44</td></tr>\n",
       "\t<tr><th scope=row>Hornet Sportabout</th><td>175</td><td>17.02</td></tr>\n",
       "\t<tr><th scope=row>Valiant</th><td>105</td><td>20.22</td></tr>\n",
       "</tbody>\n",
       "</table>\n"
      ],
      "text/latex": [
       "A data.frame: 6 × 2\n",
       "\\begin{tabular}{r|ll}\n",
       "  & hp & qsec\\\\\n",
       "  & <dbl> & <dbl>\\\\\n",
       "\\hline\n",
       "\tMazda RX4 & 110 & 16.46\\\\\n",
       "\tMazda RX4 Wag & 110 & 17.02\\\\\n",
       "\tDatsun 710 &  93 & 18.61\\\\\n",
       "\tHornet 4 Drive & 110 & 19.44\\\\\n",
       "\tHornet Sportabout & 175 & 17.02\\\\\n",
       "\tValiant & 105 & 20.22\\\\\n",
       "\\end{tabular}\n"
      ],
      "text/markdown": [
       "\n",
       "A data.frame: 6 × 2\n",
       "\n",
       "| <!--/--> | hp &lt;dbl&gt; | qsec &lt;dbl&gt; |\n",
       "|---|---|---|\n",
       "| Mazda RX4 | 110 | 16.46 |\n",
       "| Mazda RX4 Wag | 110 | 17.02 |\n",
       "| Datsun 710 |  93 | 18.61 |\n",
       "| Hornet 4 Drive | 110 | 19.44 |\n",
       "| Hornet Sportabout | 175 | 17.02 |\n",
       "| Valiant | 105 | 20.22 |\n",
       "\n"
      ],
      "text/plain": [
       "                  hp  qsec \n",
       "Mazda RX4         110 16.46\n",
       "Mazda RX4 Wag     110 17.02\n",
       "Datsun 710         93 18.61\n",
       "Hornet 4 Drive    110 19.44\n",
       "Hornet Sportabout 175 17.02\n",
       "Valiant           105 20.22"
      ]
     },
     "metadata": {},
     "output_type": "display_data"
    }
   ],
   "source": [
    "exercise11 <- mtcars %>% dplyr::select(hp, qsec)\n",
    "head(exercise11)"
   ]
  },
  {
   "cell_type": "code",
   "execution_count": 20,
   "id": "da718f72",
   "metadata": {},
   "outputs": [
    {
     "data": {
      "image/png": "[encoded data removed]",
      "text/plain": [
       "plot without title"
      ]
     },
     "metadata": {
      "image/png": {
       "height": 420,
       "width": 420
      }
     },
     "output_type": "display_data"
    }
   ],
   "source": [
    "exercise11s <- exercise11 %>% dplyr::select(x=hp, value=qsec)\n",
    "exercise11s$variable <- as.factor(0)\n",
    "\n",
    "grf <- plot.scatter(exercise11s, label_x = \"hp\", label_y=\"qsec\", \n",
    "                    colors=paired_colors[2])\n",
    "grf <- grf + theme(legend.position = \"none\")\n",
    "plot(grf)"
   ]
  },
  {
   "cell_type": "markdown",
   "id": "1cc04f78",
   "metadata": {},
   "source": [
    "### Exercise #12"
   ]
  },
  {
   "cell_type": "code",
   "execution_count": 21,
   "id": "927985f7",
   "metadata": {},
   "outputs": [
    {
     "data": {
      "image/png": "[encoded data removed]",
      "text/plain": [
       "plot without title"
      ]
     },
     "metadata": {
      "image/png": {
       "height": 420,
       "width": 420
      }
     },
     "output_type": "display_data"
    }
   ],
   "source": [
    "grf <- plot.series(exercise11, label_x = \"hp\", label_y=\"qsec\", \n",
    "                   colors=paired_colors[1:2])\n",
    "grf <- grf + theme(legend.position = \"none\")\n",
    "plot(grf)"
   ]
  },
  {
   "cell_type": "code",
   "execution_count": 22,
   "id": "af795d1c",
   "metadata": {},
   "outputs": [
    {
     "data": {
      "text/html": [
       "<table class=\"dataframe\">\n",
       "<caption>A tibble: 2 × 2</caption>\n",
       "<thead>\n",
       "\t<tr><th scope=col>am</th><th scope=col>mean</th></tr>\n",
       "\t<tr><th scope=col>&lt;dbl&gt;</th><th scope=col>&lt;dbl&gt;</th></tr>\n",
       "</thead>\n",
       "<tbody>\n",
       "\t<tr><td>0</td><td>160.2632</td></tr>\n",
       "\t<tr><td>1</td><td>126.8462</td></tr>\n",
       "</tbody>\n",
       "</table>\n"
      ],
      "text/latex": [
       "A tibble: 2 × 2\n",
       "\\begin{tabular}{ll}\n",
       " am & mean\\\\\n",
       " <dbl> & <dbl>\\\\\n",
       "\\hline\n",
       "\t 0 & 160.2632\\\\\n",
       "\t 1 & 126.8462\\\\\n",
       "\\end{tabular}\n"
      ],
      "text/markdown": [
       "\n",
       "A tibble: 2 × 2\n",
       "\n",
       "| am &lt;dbl&gt; | mean &lt;dbl&gt; |\n",
       "|---|---|\n",
       "| 0 | 160.2632 |\n",
       "| 1 | 126.8462 |\n",
       "\n"
      ],
      "text/plain": [
       "  am mean    \n",
       "1 0  160.2632\n",
       "2 1  126.8462"
      ]
     },
     "metadata": {},
     "output_type": "display_data"
    }
   ],
   "source": [
    "exercise12 <- mtcars %>% \n",
    "  dplyr::select(am, hp) %>% \n",
    "  group_by(am) %>% \n",
    "  summarize(mean=mean(hp))\n",
    "head(exercise12)"
   ]
  },
  {
   "cell_type": "code",
   "execution_count": 23,
   "id": "3ccef0d9",
   "metadata": {},
   "outputs": [
    {
     "data": {
      "image/png": "[encoded data removed]",
      "text/plain": [
       "plot without title"
      ]
     },
     "metadata": {
      "image/png": {
       "height": 420,
       "width": 420
      }
     },
     "output_type": "display_data"
    }
   ],
   "source": [
    "grf <- plot.bar(exercise12, colors=paired_colors[1])\n",
    "plot(grf)"
   ]
  },
  {
   "cell_type": "code",
   "execution_count": 24,
   "id": "51d854c3",
   "metadata": {},
   "outputs": [
    {
     "data": {
      "image/png": "[encoded data removed]",
      "text/plain": [
       "plot without title"
      ]
     },
     "metadata": {
      "image/png": {
       "height": 420,
       "width": 420
      }
     },
     "output_type": "display_data"
    }
   ],
   "source": [
    "grf <- plot.lollipop(exercise12, colors=paired_colors[1])\n",
    "plot(grf)"
   ]
  },
  {
   "cell_type": "code",
   "execution_count": 25,
   "id": "3e799c72",
   "metadata": {},
   "outputs": [
    {
     "data": {
      "image/png": "[encoded data removed]",
      "text/plain": [
       "plot without title"
      ]
     },
     "metadata": {
      "image/png": {
       "height": 420,
       "width": 420
      }
     },
     "output_type": "display_data"
    }
   ],
   "source": [
    "grf <- plot.pieplot(exercise12, colors=paired_colors[1:nrow(exercise12)])\n",
    "plot(grf)"
   ]
  },
  {
   "cell_type": "code",
   "execution_count": 26,
   "id": "3394a315",
   "metadata": {},
   "outputs": [],
   "source": [
    "### Exercise #13"
   ]
  },
  {
   "cell_type": "code",
   "execution_count": 27,
   "id": "ccc900d9",
   "metadata": {},
   "outputs": [
    {
     "data": {
      "text/html": [
       "<table class=\"dataframe\">\n",
       "<caption>A tibble: 2 × 3</caption>\n",
       "<thead>\n",
       "\t<tr><th scope=col>am</th><th scope=col>mean</th><th scope=col>sd</th></tr>\n",
       "\t<tr><th scope=col>&lt;dbl&gt;</th><th scope=col>&lt;dbl&gt;</th><th scope=col>&lt;dbl&gt;</th></tr>\n",
       "</thead>\n",
       "<tbody>\n",
       "\t<tr><td>0</td><td>160.2632</td><td>53.90820</td></tr>\n",
       "\t<tr><td>1</td><td>126.8462</td><td>84.06232</td></tr>\n",
       "</tbody>\n",
       "</table>\n"
      ],
      "text/latex": [
       "A tibble: 2 × 3\n",
       "\\begin{tabular}{lll}\n",
       " am & mean & sd\\\\\n",
       " <dbl> & <dbl> & <dbl>\\\\\n",
       "\\hline\n",
       "\t 0 & 160.2632 & 53.90820\\\\\n",
       "\t 1 & 126.8462 & 84.06232\\\\\n",
       "\\end{tabular}\n"
      ],
      "text/markdown": [
       "\n",
       "A tibble: 2 × 3\n",
       "\n",
       "| am &lt;dbl&gt; | mean &lt;dbl&gt; | sd &lt;dbl&gt; |\n",
       "|---|---|---|\n",
       "| 0 | 160.2632 | 53.90820 |\n",
       "| 1 | 126.8462 | 84.06232 |\n",
       "\n"
      ],
      "text/plain": [
       "  am mean     sd      \n",
       "1 0  160.2632 53.90820\n",
       "2 1  126.8462 84.06232"
      ]
     },
     "metadata": {},
     "output_type": "display_data"
    }
   ],
   "source": [
    "exercise13 <- mtcars %>% \n",
    "dplyr::select(am, hp) %>% \n",
    "group_by(am) %>% \n",
    "summarize(mean=mean(hp), sd=sd(hp))\n",
    "head(exercise13)"
   ]
  },
  {
   "cell_type": "code",
   "execution_count": 28,
   "id": "888c3c75",
   "metadata": {},
   "outputs": [
    {
     "data": {
      "image/png": "[encoded data removed]",
      "text/plain": [
       "plot without title"
      ]
     },
     "metadata": {
      "image/png": {
       "height": 420,
       "width": 420
      }
     },
     "output_type": "display_data"
    }
   ],
   "source": [
    "grf <- plot.bar(exercise13, colors=paired_colors[1], alpha=0.8)\n",
    "grf <- grf + geom_errorbar(aes(x=am, ymin=mean-sd, ymax=mean+sd), \n",
    "                           width=0.2, colour=paired_colors[1], size=1.1) \n",
    "plot(grf)"
   ]
  },
  {
   "cell_type": "code",
   "execution_count": 29,
   "id": "b7bac3ef",
   "metadata": {},
   "outputs": [
    {
     "data": {
      "image/png": "[encoded data removed]",
      "text/plain": [
       "plot without title"
      ]
     },
     "metadata": {
      "image/png": {
       "height": 420,
       "width": 420
      }
     },
     "output_type": "display_data"
    }
   ],
   "source": [
    "grf <- plot.groupedbar(exercise13, colors=paired_colors[1:2])\n",
    "plot(grf)"
   ]
  },
  {
   "cell_type": "code",
   "execution_count": 30,
   "id": "cf45acb9",
   "metadata": {},
   "outputs": [
    {
     "data": {
      "image/png": "[encoded data removed]",
      "text/plain": [
       "plot without title"
      ]
     },
     "metadata": {
      "image/png": {
       "height": 420,
       "width": 420
      }
     },
     "output_type": "display_data"
    }
   ],
   "source": [
    "grf <- plot.stackedbar(exercise13, colors=paired_colors[1:2])\n",
    "plot(grf)"
   ]
  },
  {
   "cell_type": "code",
   "execution_count": 31,
   "id": "244448aa",
   "metadata": {},
   "outputs": [
    {
     "name": "stderr",
     "output_type": "stream",
     "text": [
      "Carregando pacotes exigidos: ggpubr\n",
      "\n"
     ]
    },
    {
     "data": {
      "image/png": "[encoded data removed]",
      "text/plain": [
       "plot without title"
      ]
     },
     "metadata": {
      "image/png": {
       "height": 420,
       "width": 420
      }
     },
     "output_type": "display_data"
    }
   ],
   "source": [
    "grf <- plot.dotchar(exercise13, colors=paired_colors[1:2])\n",
    "grf <- grf + theme(axis.text.x = element_text(angle=0, hjust=1))\n",
    "plot(grf)"
   ]
  },
  {
   "cell_type": "markdown",
   "id": "87ef989f",
   "metadata": {},
   "source": [
    "### Exercise #14"
   ]
  },
  {
   "cell_type": "code",
   "execution_count": 32,
   "id": "d6839fdc",
   "metadata": {},
   "outputs": [
    {
     "name": "stderr",
     "output_type": "stream",
     "text": [
      "Using  as id variables\n",
      "\n"
     ]
    },
    {
     "data": {
      "image/png": "[encoded data removed]",
      "text/plain": [
       "plot without title"
      ]
     },
     "metadata": {
      "image/png": {
       "height": 420,
       "width": 420
      }
     },
     "output_type": "display_data"
    }
   ],
   "source": [
    "plot.hist(mtcars %>% dplyr::select(hp), color=paired_colors[1])"
   ]
  },
  {
   "cell_type": "code",
   "execution_count": 33,
   "id": "3545a624",
   "metadata": {},
   "outputs": [
    {
     "name": "stderr",
     "output_type": "stream",
     "text": [
      "Using  as id variables\n",
      "\n"
     ]
    },
    {
     "data": {
      "image/png": "[encoded data removed]",
      "text/plain": [
       "plot without title"
      ]
     },
     "metadata": {
      "image/png": {
       "height": 420,
       "width": 420
      }
     },
     "output_type": "display_data"
    }
   ],
   "source": [
    "plot.density(mtcars %>% dplyr::select(hp), color=paired_colors[1])"
   ]
  },
  {
   "cell_type": "code",
   "execution_count": 34,
   "id": "795845fb",
   "metadata": {},
   "outputs": [
    {
     "name": "stderr",
     "output_type": "stream",
     "text": [
      "Using  as id variables\n",
      "\n"
     ]
    },
    {
     "data": {
      "image/png": "[encoded data removed]",
      "text/plain": [
       "plot without title"
      ]
     },
     "metadata": {
      "image/png": {
       "height": 420,
       "width": 420
      }
     },
     "output_type": "display_data"
    }
   ],
   "source": [
    "plot.boxplot(mtcars %>% dplyr::select(hp), color=paired_colors[1])"
   ]
  },
  {
   "cell_type": "code",
   "execution_count": null,
   "id": "3972096c",
   "metadata": {},
   "outputs": [],
   "source": []
  }
 ],
 "metadata": {
  "kernelspec": {
   "display_name": "R",
   "language": "R",
   "name": "ir"
  },
  "language_info": {
   "codemirror_mode": "r",
   "file_extension": ".r",
   "mimetype": "text/x-r-source",
   "name": "R",
   "pygments_lexer": "r",
   "version": "4.1.2"
  }
 },
 "nbformat": 4,
 "nbformat_minor": 5
}
