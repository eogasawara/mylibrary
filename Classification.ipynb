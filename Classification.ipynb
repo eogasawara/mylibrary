{
 "cells": [
  {
   "cell_type": "code",
   "execution_count": 1,
   "metadata": {},
   "outputs": [],
   "source": [
    "# version 1.0\n",
    "source(\"https://raw.githubusercontent.com/eogasawara/mylibrary/master/myClassification.R\")\n",
    "source(\"https://raw.githubusercontent.com/eogasawara/mylibrary/master/mySample.R\")\n"
   ]
  },
  {
   "cell_type": "markdown",
   "metadata": {},
   "source": [
    "## Classification\n"
   ]
  },
  {
   "cell_type": "code",
   "execution_count": 2,
   "metadata": {},
   "outputs": [
    {
     "data": {
      "text/html": [
       "<table>\n",
       "<caption>A data.frame: 6 × 5</caption>\n",
       "<thead>\n",
       "\t<tr><th></th><th scope=col>Sepal.Length</th><th scope=col>Sepal.Width</th><th scope=col>Petal.Length</th><th scope=col>Petal.Width</th><th scope=col>Species</th></tr>\n",
       "\t<tr><th></th><th scope=col>&lt;dbl&gt;</th><th scope=col>&lt;dbl&gt;</th><th scope=col>&lt;dbl&gt;</th><th scope=col>&lt;dbl&gt;</th><th scope=col>&lt;fct&gt;</th></tr>\n",
       "</thead>\n",
       "<tbody>\n",
       "\t<tr><th scope=row>1</th><td>5.1</td><td>3.5</td><td>1.4</td><td>0.2</td><td>setosa</td></tr>\n",
       "\t<tr><th scope=row>2</th><td>4.9</td><td>3.0</td><td>1.4</td><td>0.2</td><td>setosa</td></tr>\n",
       "\t<tr><th scope=row>3</th><td>4.7</td><td>3.2</td><td>1.3</td><td>0.2</td><td>setosa</td></tr>\n",
       "\t<tr><th scope=row>4</th><td>4.6</td><td>3.1</td><td>1.5</td><td>0.2</td><td>setosa</td></tr>\n",
       "\t<tr><th scope=row>5</th><td>5.0</td><td>3.6</td><td>1.4</td><td>0.2</td><td>setosa</td></tr>\n",
       "\t<tr><th scope=row>6</th><td>5.4</td><td>3.9</td><td>1.7</td><td>0.4</td><td>setosa</td></tr>\n",
       "</tbody>\n",
       "</table>\n"
      ],
      "text/latex": [
       "A data.frame: 6 × 5\n",
       "\\begin{tabular}{r|lllll}\n",
       "  & Sepal.Length & Sepal.Width & Petal.Length & Petal.Width & Species\\\\\n",
       "  & <dbl> & <dbl> & <dbl> & <dbl> & <fct>\\\\\n",
       "\\hline\n",
       "\t1 & 5.1 & 3.5 & 1.4 & 0.2 & setosa\\\\\n",
       "\t2 & 4.9 & 3.0 & 1.4 & 0.2 & setosa\\\\\n",
       "\t3 & 4.7 & 3.2 & 1.3 & 0.2 & setosa\\\\\n",
       "\t4 & 4.6 & 3.1 & 1.5 & 0.2 & setosa\\\\\n",
       "\t5 & 5.0 & 3.6 & 1.4 & 0.2 & setosa\\\\\n",
       "\t6 & 5.4 & 3.9 & 1.7 & 0.4 & setosa\\\\\n",
       "\\end{tabular}\n"
      ],
      "text/markdown": [
       "\n",
       "A data.frame: 6 × 5\n",
       "\n",
       "| <!--/--> | Sepal.Length &lt;dbl&gt; | Sepal.Width &lt;dbl&gt; | Petal.Length &lt;dbl&gt; | Petal.Width &lt;dbl&gt; | Species &lt;fct&gt; |\n",
       "|---|---|---|---|---|---|\n",
       "| 1 | 5.1 | 3.5 | 1.4 | 0.2 | setosa |\n",
       "| 2 | 4.9 | 3.0 | 1.4 | 0.2 | setosa |\n",
       "| 3 | 4.7 | 3.2 | 1.3 | 0.2 | setosa |\n",
       "| 4 | 4.6 | 3.1 | 1.5 | 0.2 | setosa |\n",
       "| 5 | 5.0 | 3.6 | 1.4 | 0.2 | setosa |\n",
       "| 6 | 5.4 | 3.9 | 1.7 | 0.4 | setosa |\n",
       "\n"
      ],
      "text/plain": [
       "  Sepal.Length Sepal.Width Petal.Length Petal.Width Species\n",
       "1 5.1          3.5         1.4          0.2         setosa \n",
       "2 4.9          3.0         1.4          0.2         setosa \n",
       "3 4.7          3.2         1.3          0.2         setosa \n",
       "4 4.6          3.1         1.5          0.2         setosa \n",
       "5 5.0          3.6         1.4          0.2         setosa \n",
       "6 5.4          3.9         1.7          0.4         setosa "
      ]
     },
     "metadata": {},
     "output_type": "display_data"
    }
   ],
   "source": [
    "data(iris)\n",
    "head(iris)"
   ]
  },
  {
   "cell_type": "markdown",
   "metadata": {},
   "source": [
    "## Building samples (training and testing)"
   ]
  },
  {
   "cell_type": "code",
   "execution_count": 3,
   "metadata": {},
   "outputs": [],
   "source": [
    "# preparing dataset for random sampling\n",
    "set.seed(1)\n",
    "sr <- sample_random()\n",
    "sr <- train_test(sr, iris)\n",
    "iris_train = sr$train\n",
    "iris_test = sr$test"
   ]
  },
  {
   "cell_type": "code",
   "execution_count": 4,
   "metadata": {},
   "outputs": [
    {
     "data": {
      "text/html": [
       "<table>\n",
       "<caption>A matrix: 3 × 3 of type int</caption>\n",
       "<thead>\n",
       "\t<tr><th></th><th scope=col>setosa</th><th scope=col>versicolor</th><th scope=col>virginica</th></tr>\n",
       "</thead>\n",
       "<tbody>\n",
       "\t<tr><th scope=row>dataset</th><td>50</td><td>50</td><td>50</td></tr>\n",
       "\t<tr><th scope=row>training</th><td>39</td><td>38</td><td>43</td></tr>\n",
       "\t<tr><th scope=row>test</th><td>11</td><td>12</td><td> 7</td></tr>\n",
       "</tbody>\n",
       "</table>\n"
      ],
      "text/latex": [
       "A matrix: 3 × 3 of type int\n",
       "\\begin{tabular}{r|lll}\n",
       "  & setosa & versicolor & virginica\\\\\n",
       "\\hline\n",
       "\tdataset & 50 & 50 & 50\\\\\n",
       "\ttraining & 39 & 38 & 43\\\\\n",
       "\ttest & 11 & 12 &  7\\\\\n",
       "\\end{tabular}\n"
      ],
      "text/markdown": [
       "\n",
       "A matrix: 3 × 3 of type int\n",
       "\n",
       "| <!--/--> | setosa | versicolor | virginica |\n",
       "|---|---|---|---|\n",
       "| dataset | 50 | 50 | 50 |\n",
       "| training | 39 | 38 | 43 |\n",
       "| test | 11 | 12 |  7 |\n",
       "\n"
      ],
      "text/plain": [
       "         setosa versicolor virginica\n",
       "dataset  50     50         50       \n",
       "training 39     38         43       \n",
       "test     11     12          7       "
      ]
     },
     "metadata": {},
     "output_type": "display_data"
    }
   ],
   "source": [
    "tbl <- rbind(table(iris$Species), table(iris_train$Species), table(iris_test$Species))\n",
    "rownames(tbl) <- c(\"dataset\", \"training\", \"test\")\n",
    "head(tbl)\n"
   ]
  },
  {
   "cell_type": "markdown",
   "metadata": {},
   "source": [
    "## General function for testing classification methods"
   ]
  },
  {
   "cell_type": "code",
   "execution_count": 5,
   "metadata": {},
   "outputs": [],
   "source": [
    "train_test <- function(model, iris_train, iris_test) {\n",
    "  print(class(model)[1])\n",
    "  \n",
    "  loadlibrary(\"RSNNS\")\n",
    "  \n",
    "  model <- prepare(model, iris_train)\n",
    "  train_prediction <- action(model, iris_train)\n",
    "  \n",
    "  iris_train_predictand = decodeClassLabels(iris_train[,\"Species\"])\n",
    "  train_eval <- classif_evaluation(iris_train_predictand, train_prediction)\n",
    "  print(train_eval$metrics)\n",
    "  plot(roc_curve(train_eval))\n",
    "  \n",
    "  test_prediction <- action(model, iris_test)\n",
    "  \n",
    "  iris_test_predictand = decodeClassLabels(iris_test[,\"Species\"])\n",
    "  test_eval <- classif_evaluation(iris_test_predictand, test_prediction)\n",
    "  print(test_eval$metrics)\n",
    "  plot(roc_curve(test_eval))\n",
    "}\n"
   ]
  },
  {
   "cell_type": "markdown",
   "metadata": {},
   "source": [
    "## Majority class baseline prediction (Zero Rule)\n",
    "\n",
    "Model creating and level of adjustment during training"
   ]
  },
  {
   "cell_type": "code",
   "execution_count": 6,
   "metadata": {},
   "outputs": [
    {
     "name": "stdout",
     "output_type": "stream",
     "text": [
      "[1] \"class_majority\"\n"
     ]
    },
    {
     "name": "stderr",
     "output_type": "stream",
     "text": [
      "Loading required package: RSNNS\n",
      "\n",
      "Warning message:\n",
      "\"package 'RSNNS' was built under R version 3.6.3\"\n",
      "Loading required package: Rcpp\n",
      "\n",
      "Warning message:\n",
      "\"package 'Rcpp' was built under R version 3.6.3\"\n",
      "class_majority,prepare.class_majority,0.000,\n",
      "\n",
      "Loading required package: Matrix\n",
      "\n",
      "Warning message:\n",
      "\"package 'Matrix' was built under R version 3.6.3\"\n",
      "Loading required package: nnet\n",
      "\n",
      "Warning message:\n",
      "\"package 'nnet' was built under R version 3.6.3\"\n",
      "Loading required package: MLmetrics\n",
      "\n",
      "\n",
      "Attaching package: 'MLmetrics'\n",
      "\n",
      "\n",
      "The following object is masked from 'package:base':\n",
      "\n",
      "    Recall\n",
      "\n",
      "\n"
     ]
    },
    {
     "name": "stdout",
     "output_type": "stream",
     "text": [
      "   accuracy        f1 sensitivity specificity precision    recall\n",
      "1 0.5722222 0.3583333   0.3583333   0.6791667 0.3583333 0.3583333\n"
     ]
    },
    {
     "name": "stderr",
     "output_type": "stream",
     "text": [
      "Loading required package: ROCR\n",
      "\n",
      "Warning message:\n",
      "\"package 'ROCR' was built under R version 3.6.3\"\n"
     ]
    },
    {
     "name": "stdout",
     "output_type": "stream",
     "text": [
      "   accuracy        f1 sensitivity specificity precision    recall\n",
      "1 0.4888889 0.2333333   0.2333333   0.6166667 0.2333333 0.2333333\n"
     ]
    },
    {
     "data": {
      "image/png": "[encoded data removed]",
      "text/plain": [
       "plot without title"
      ]
     },
     "metadata": {
      "image/png": {
       "height": 420,
       "width": 420
      }
     },
     "output_type": "display_data"
    }
   ],
   "source": [
    "train_test(class_majority(\"Species\"), iris_train, iris_test)"
   ]
  },
  {
   "cell_type": "markdown",
   "metadata": {},
   "source": [
    "## Decision Tree\n",
    "Training the model, presenting the level of adjustment, quality of prediction, and confusion matrix."
   ]
  },
  {
   "cell_type": "code",
   "execution_count": 7,
   "metadata": {},
   "outputs": [
    {
     "name": "stdout",
     "output_type": "stream",
     "text": [
      "[1] \"class_dtree\"\n"
     ]
    },
    {
     "name": "stderr",
     "output_type": "stream",
     "text": [
      "Loading required package: tree\n",
      "\n",
      "class_dtree,prepare.class_dtree,0.001,\n",
      "\n"
     ]
    },
    {
     "name": "stdout",
     "output_type": "stream",
     "text": [
      "   accuracy    f1 sensitivity specificity precision recall\n",
      "1 0.9833333 0.975       0.975      0.9875     0.975  0.975\n",
      "   accuracy        f1 sensitivity specificity precision    recall\n",
      "1 0.9777778 0.9666667   0.9666667   0.9833333 0.9666667 0.9666667\n"
     ]
    },
    {
     "data": {
      "image/png": "[encoded data removed]",
      "text/plain": [
       "plot without title"
      ]
     },
     "metadata": {
      "image/png": {
       "height": 420,
       "width": 420
      }
     },
     "output_type": "display_data"
    },
    {
     "data": {
      "image/png": "[encoded data removed]",
      "text/plain": [
       "plot without title"
      ]
     },
     "metadata": {
      "image/png": {
       "height": 420,
       "width": 420
      }
     },
     "output_type": "display_data"
    }
   ],
   "source": [
    "train_test(class_dtree(\"Species\"), iris_train, iris_test)"
   ]
  },
  {
   "cell_type": "markdown",
   "metadata": {},
   "source": [
    "## Naive Bayes"
   ]
  },
  {
   "cell_type": "code",
   "execution_count": 8,
   "metadata": {},
   "outputs": [
    {
     "name": "stdout",
     "output_type": "stream",
     "text": [
      "[1] \"class_nb\"\n"
     ]
    },
    {
     "name": "stderr",
     "output_type": "stream",
     "text": [
      "Loading required package: e1071\n",
      "\n",
      "Warning message:\n",
      "\"package 'e1071' was built under R version 3.6.3\"\n",
      "class_nb,prepare.class_nb,0.001,\n",
      "\n"
     ]
    },
    {
     "name": "stdout",
     "output_type": "stream",
     "text": [
      "   accuracy        f1 sensitivity specificity precision    recall\n",
      "1 0.9722222 0.9583333   0.9583333   0.9791667 0.9583333 0.9583333\n",
      "   accuracy        f1 sensitivity specificity precision    recall\n",
      "1 0.9777778 0.9666667   0.9666667   0.9833333 0.9666667 0.9666667\n"
     ]
    },
    {
     "data": {
      "image/png": "[encoded data removed]",
      "text/plain": [
       "plot without title"
      ]
     },
     "metadata": {
      "image/png": {
       "height": 420,
       "width": 420
      }
     },
     "output_type": "display_data"
    },
    {
     "data": {
      "image/png": "[encoded data removed]",
      "text/plain": [
       "plot without title"
      ]
     },
     "metadata": {
      "image/png": {
       "height": 420,
       "width": 420
      }
     },
     "output_type": "display_data"
    }
   ],
   "source": [
    "train_test(class_nb(\"Species\"), iris_train, iris_test)"
   ]
  },
  {
   "cell_type": "markdown",
   "metadata": {},
   "source": [
    "## Random Forest"
   ]
  },
  {
   "cell_type": "code",
   "execution_count": 9,
   "metadata": {},
   "outputs": [
    {
     "ename": "ERROR",
     "evalue": "Error in train_test(class_rf(\"Species\"), iris_train, iris_test, mtry = 2, : unused arguments (mtry = 2, ntree = 50)\n",
     "output_type": "error",
     "traceback": [
      "Error in train_test(class_rf(\"Species\"), iris_train, iris_test, mtry = 2, : unused arguments (mtry = 2, ntree = 50)\nTraceback:\n"
     ]
    }
   ],
   "source": [
    "#do not set mtry and ntree for automatic hyperparameter optimization\n",
    "train_test(class_rf(\"Species\"), iris_train, iris_test, mtry=2, ntree=50)"
   ]
  },
  {
   "cell_type": "markdown",
   "metadata": {},
   "source": [
    "## Neural Networks - MLP using nnet\n"
   ]
  },
  {
   "cell_type": "code",
   "execution_count": 10,
   "metadata": {},
   "outputs": [
    {
     "name": "stdout",
     "output_type": "stream",
     "text": [
      "[1] \"class_mlp\"\n"
     ]
    },
    {
     "name": "stderr",
     "output_type": "stream",
     "text": [
      "class_mlp,prepare.class_mlp,0.013,neurons=2,decay=0.04\n",
      "\n"
     ]
    },
    {
     "name": "stdout",
     "output_type": "stream",
     "text": [
      "   accuracy    f1 sensitivity specificity precision recall\n",
      "1 0.9833333 0.975       0.975      0.9875     0.975  0.975\n",
      "  accuracy f1 sensitivity specificity precision recall\n",
      "1        1  1           1           1         1      1\n"
     ]
    },
    {
     "data": {
      "image/png": "[encoded data removed]",
      "text/plain": [
       "plot without title"
      ]
     },
     "metadata": {
      "image/png": {
       "height": 420,
       "width": 420
      }
     },
     "output_type": "display_data"
    },
    {
     "data": {
      "image/png": "[encoded data removed]",
      "text/plain": [
       "plot without title"
      ]
     },
     "metadata": {
      "image/png": {
       "height": 420,
       "width": 420
      }
     },
     "output_type": "display_data"
    }
   ],
   "source": [
    "#do not set neurons and decay for automatic hyperparameter optimization\n",
    "train_test(class_mlp(\"Species\", neurons=2,decay=0.04), iris_train, iris_test)"
   ]
  },
  {
   "cell_type": "markdown",
   "metadata": {},
   "source": [
    "## Creating a SVM with RBF kernel"
   ]
  },
  {
   "cell_type": "code",
   "execution_count": 11,
   "metadata": {},
   "outputs": [
    {
     "name": "stdout",
     "output_type": "stream",
     "text": [
      "[1] \"class_svm\"\n"
     ]
    },
    {
     "name": "stderr",
     "output_type": "stream",
     "text": [
      "class_svm,prepare.class_svm,0.003,epsilon=0.0,cost=5.000\n",
      "\n"
     ]
    },
    {
     "name": "stdout",
     "output_type": "stream",
     "text": [
      "  accuracy    f1 sensitivity specificity precision recall\n",
      "1     0.35 0.025       0.025      0.5125     0.025  0.025\n",
      "   accuracy  f1 sensitivity specificity precision recall\n",
      "1 0.3333333 NaN           0         0.5         0      0\n"
     ]
    },
    {
     "data": {
      "image/png": "[encoded data removed]",
      "text/plain": [
       "plot without title"
      ]
     },
     "metadata": {
      "image/png": {
       "height": 420,
       "width": 420
      }
     },
     "output_type": "display_data"
    },
    {
     "data": {
      "image/png": "[encoded data removed]",
      "text/plain": [
       "plot without title"
      ]
     },
     "metadata": {
      "image/png": {
       "height": 420,
       "width": 420
      }
     },
     "output_type": "display_data"
    }
   ],
   "source": [
    "#do not set epsilon and cost for automatic hyperparameter optimization\n",
    "train_test(class_svm(\"Species\", epsilon=0.0,cost=5.000), iris_train, iris_test)"
   ]
  },
  {
   "cell_type": "markdown",
   "metadata": {},
   "source": [
    "## knn prediction"
   ]
  },
  {
   "cell_type": "code",
   "execution_count": 12,
   "metadata": {},
   "outputs": [
    {
     "name": "stdout",
     "output_type": "stream",
     "text": [
      "[1] \"class_knn\"\n"
     ]
    },
    {
     "name": "stderr",
     "output_type": "stream",
     "text": [
      "Loading required package: class\n",
      "\n",
      "Warning message:\n",
      "\"package 'class' was built under R version 3.6.3\"\n",
      "class_knn,prepare.class_knn,0.004,\n",
      "\n"
     ]
    },
    {
     "name": "stdout",
     "output_type": "stream",
     "text": [
      "  accuracy f1 sensitivity specificity precision recall\n",
      "1        1  1           1           1         1      1\n",
      "   accuracy        f1 sensitivity specificity precision    recall\n",
      "1 0.9555556 0.9333333   0.9333333   0.9666667 0.9333333 0.9333333\n"
     ]
    },
    {
     "data": {
      "image/png": "[encoded data removed]",
      "text/plain": [
       "plot without title"
      ]
     },
     "metadata": {
      "image/png": {
       "height": 420,
       "width": 420
      }
     },
     "output_type": "display_data"
    },
    {
     "data": {
      "image/png": "[encoded data removed]",
      "text/plain": [
       "plot without title"
      ]
     },
     "metadata": {
      "image/png": {
       "height": 420,
       "width": 420
      }
     },
     "output_type": "display_data"
    }
   ],
   "source": [
    "train_test(class_knn(\"Species\"), iris_train, iris_test)"
   ]
  },
  {
   "cell_type": "markdown",
   "metadata": {},
   "source": [
    "## Convolutional neural networks (CNN)"
   ]
  },
  {
   "cell_type": "code",
   "execution_count": 13,
   "metadata": {},
   "outputs": [
    {
     "name": "stdout",
     "output_type": "stream",
     "text": [
      "[1] \"class_cnn\"\n"
     ]
    },
    {
     "name": "stderr",
     "output_type": "stream",
     "text": [
      "Loading required package: dplyr\n",
      "\n",
      "Warning message:\n",
      "\"package 'dplyr' was built under R version 3.6.3\"\n",
      "\n",
      "Attaching package: 'dplyr'\n",
      "\n",
      "\n",
      "The following objects are masked from 'package:stats':\n",
      "\n",
      "    filter, lag\n",
      "\n",
      "\n",
      "The following objects are masked from 'package:base':\n",
      "\n",
      "    intersect, setdiff, setequal, union\n",
      "\n",
      "\n",
      "Loading required package: tfdatasets\n",
      "\n",
      "Warning message:\n",
      "\"package 'tfdatasets' was built under R version 3.6.3\"\n",
      "Loading required package: tensorflow\n",
      "\n",
      "Warning message:\n",
      "\"package 'tensorflow' was built under R version 3.6.3\"\n",
      "\n",
      "Attaching package: 'tensorflow'\n",
      "\n",
      "\n",
      "The following object is masked from 'package:RSNNS':\n",
      "\n",
      "    train\n",
      "\n",
      "\n",
      "Loading required package: keras\n",
      "\n",
      "Warning message:\n",
      "\"package 'keras' was built under R version 3.6.3\"\n"
     ]
    },
    {
     "name": "stdout",
     "output_type": "stream",
     "text": [
      "Model: \"sequential\"\n",
      "________________________________________________________________________________\n",
      "Layer (type)                        Output Shape                    Param #     \n",
      "================================================================================\n",
      "dense (Dense)                       (None, 3)                       15          \n",
      "================================================================================\n",
      "Total params: 15\n",
      "Trainable params: 15\n",
      "Non-trainable params: 0\n",
      "________________________________________________________________________________\n"
     ]
    },
    {
     "name": "stderr",
     "output_type": "stream",
     "text": [
      "class_cnn,prepare.class_cnn,0.359,\n",
      "\n"
     ]
    },
    {
     "name": "stdout",
     "output_type": "stream",
     "text": [
      "   accuracy        f1 sensitivity specificity precision    recall\n",
      "1 0.9777778 0.9666667   0.9666667   0.9833333 0.9666667 0.9666667\n",
      "   accuracy  f1 sensitivity specificity precision recall\n",
      "1 0.9333333 0.9         0.9        0.95       0.9    0.9\n"
     ]
    },
    {
     "data": {
      "image/png": "[encoded data removed]",
      "text/plain": [
       "plot without title"
      ]
     },
     "metadata": {
      "image/png": {
       "height": 420,
       "width": 420
      }
     },
     "output_type": "display_data"
    },
    {
     "data": {
      "image/png": "[encoded data removed]",
      "text/plain": [
       "plot without title"
      ]
     },
     "metadata": {
      "image/png": {
       "height": 420,
       "width": 420
      }
     },
     "output_type": "display_data"
    }
   ],
   "source": [
    "train_test(class_cnn(\"Species\", epochs = 100), iris_train, iris_test)"
   ]
  },
  {
   "cell_type": "code",
   "execution_count": null,
   "metadata": {},
   "outputs": [],
   "source": []
  }
 ],
 "metadata": {
  "kernelspec": {
   "display_name": "R",
   "language": "R",
   "name": "ir"
  },
  "language_info": {
   "codemirror_mode": "r",
   "file_extension": ".r",
   "mimetype": "text/x-r-source",
   "name": "R",
   "pygments_lexer": "r",
   "version": "3.6.0"
  }
 },
 "nbformat": 4,
 "nbformat_minor": 2
}
