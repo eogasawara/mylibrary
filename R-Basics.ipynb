{
 "cells": [
  {
   "attachments": {},
   "cell_type": "markdown",
   "id": "86cb3eef",
   "metadata": {},
   "source": [
    "### Part #1"
   ]
  },
  {
   "attachments": {},
   "cell_type": "markdown",
   "id": "18abe7f8",
   "metadata": {},
   "source": [
    "#### Package Installation"
   ]
  },
  {
   "cell_type": "code",
   "execution_count": 36,
   "id": "2594254a",
   "metadata": {},
   "outputs": [],
   "source": [
    "available <- require(ISwR)\n",
    "if (!available) \n",
    "    install.packages(\"ISwR\")"
   ]
  },
  {
   "attachments": {},
   "cell_type": "markdown",
   "id": "d74de6a1",
   "metadata": {},
   "source": [
    "#### Package loading"
   ]
  },
  {
   "cell_type": "code",
   "execution_count": 35,
   "id": "5993fb4d",
   "metadata": {},
   "outputs": [],
   "source": [
    "library(ISwR)"
   ]
  },
  {
   "attachments": {},
   "cell_type": "markdown",
   "id": "b1e99325",
   "metadata": {},
   "source": [
    "#### Variable definitions"
   ]
  },
  {
   "cell_type": "code",
   "execution_count": 12,
   "id": "d1bcff51",
   "metadata": {},
   "outputs": [],
   "source": [
    "weight <- 60\n",
    "height = 1.75\n",
    "subject <- \"A\"\n",
    "healthy <- TRUE"
   ]
  },
  {
   "attachments": {},
   "cell_type": "markdown",
   "id": "97c4999c",
   "metadata": {},
   "source": [
    "#### Variable evaluation"
   ]
  },
  {
   "cell_type": "code",
   "execution_count": 13,
   "id": "e938b410",
   "metadata": {},
   "outputs": [
    {
     "data": {
      "text/html": [
       "60"
      ],
      "text/latex": [
       "60"
      ],
      "text/markdown": [
       "60"
      ],
      "text/plain": [
       "[1] 60"
      ]
     },
     "metadata": {},
     "output_type": "display_data"
    }
   ],
   "source": [
    "weight"
   ]
  },
  {
   "attachments": {},
   "cell_type": "markdown",
   "id": "e3d64b7d",
   "metadata": {},
   "source": [
    "#### Variable type checking"
   ]
  },
  {
   "cell_type": "code",
   "execution_count": 14,
   "id": "5c24eebe",
   "metadata": {},
   "outputs": [
    {
     "data": {
      "text/html": [
       "TRUE"
      ],
      "text/latex": [
       "TRUE"
      ],
      "text/markdown": [
       "TRUE"
      ],
      "text/plain": [
       "[1] TRUE"
      ]
     },
     "metadata": {},
     "output_type": "display_data"
    },
    {
     "data": {
      "text/html": [
       "TRUE"
      ],
      "text/latex": [
       "TRUE"
      ],
      "text/markdown": [
       "TRUE"
      ],
      "text/plain": [
       "[1] TRUE"
      ]
     },
     "metadata": {},
     "output_type": "display_data"
    },
    {
     "data": {
      "text/html": [
       "FALSE"
      ],
      "text/latex": [
       "FALSE"
      ],
      "text/markdown": [
       "FALSE"
      ],
      "text/plain": [
       "[1] FALSE"
      ]
     },
     "metadata": {},
     "output_type": "display_data"
    },
    {
     "data": {
      "text/html": [
       "TRUE"
      ],
      "text/latex": [
       "TRUE"
      ],
      "text/markdown": [
       "TRUE"
      ],
      "text/plain": [
       "[1] TRUE"
      ]
     },
     "metadata": {},
     "output_type": "display_data"
    }
   ],
   "source": [
    "is.numeric(weight) # variable \n",
    "is.double(weight)\n",
    "is.integer(weight)\n",
    "is.character(subject)"
   ]
  },
  {
   "cell_type": "markdown",
   "id": "ce00806e",
   "metadata": {},
   "source": [
    "#### Variable conversion"
   ]
  },
  {
   "cell_type": "code",
   "execution_count": 16,
   "id": "6345fc9f",
   "metadata": {},
   "outputs": [
    {
     "data": {
      "text/html": [
       "TRUE"
      ],
      "text/latex": [
       "TRUE"
      ],
      "text/markdown": [
       "TRUE"
      ],
      "text/plain": [
       "[1] TRUE"
      ]
     },
     "metadata": {},
     "output_type": "display_data"
    }
   ],
   "source": [
    "weight <- as.integer(weight)\n",
    "is.integer(weight)"
   ]
  },
  {
   "cell_type": "markdown",
   "id": "6bf53549",
   "metadata": {},
   "source": [
    "#### Formulas"
   ]
  },
  {
   "cell_type": "code",
   "execution_count": 19,
   "id": "8af64448",
   "metadata": {},
   "outputs": [
    {
     "data": {
      "text/html": [
       "19.5918367346939"
      ],
      "text/latex": [
       "19.5918367346939"
      ],
      "text/markdown": [
       "19.5918367346939"
      ],
      "text/plain": [
       "[1] 19.59184"
      ]
     },
     "metadata": {},
     "output_type": "display_data"
    }
   ],
   "source": [
    "#Body mass index (BMI)\n",
    "bmi <- weight/height^2 \n",
    "bmi "
   ]
  },
  {
   "cell_type": "markdown",
   "id": "28cf7c7e",
   "metadata": {},
   "source": [
    "#### String formatting"
   ]
  },
  {
   "cell_type": "code",
   "execution_count": 20,
   "id": "b2713226",
   "metadata": {},
   "outputs": [
    {
     "name": "stdout",
     "output_type": "stream",
     "text": [
      "[1] \"19.6\"\n"
     ]
    }
   ],
   "source": [
    "message <- sprintf(\"%.1f\", bmi)\n",
    "print(message)"
   ]
  },
  {
   "cell_type": "markdown",
   "id": "9c206623",
   "metadata": {},
   "source": [
    "#### Vector definition"
   ]
  },
  {
   "cell_type": "code",
   "execution_count": 21,
   "id": "e716e1a5",
   "metadata": {},
   "outputs": [],
   "source": [
    "weight <- c(60, 72, 57, 90, 95, 72) \n",
    "height <- c(1.75, 1.80, 1.65, 1.90, 1.74, 1.91)\n",
    "subject <- c(\"A\", \"B\", \"C\", \"D\", \"E\", \"F\")"
   ]
  },
  {
   "cell_type": "markdown",
   "id": "94096a1a",
   "metadata": {},
   "source": [
    "#### Vector evaluation"
   ]
  },
  {
   "cell_type": "code",
   "execution_count": 24,
   "id": "893d46e3",
   "metadata": {},
   "outputs": [
    {
     "data": {
      "text/html": [
       "<style>\n",
       ".list-inline {list-style: none; margin:0; padding: 0}\n",
       ".list-inline>li {display: inline-block}\n",
       ".list-inline>li:not(:last-child)::after {content: \"\\00b7\"; padding: 0 .5ex}\n",
       "</style>\n",
       "<ol class=list-inline><li>60</li><li>72</li><li>57</li><li>90</li><li>95</li><li>72</li></ol>\n"
      ],
      "text/latex": [
       "\\begin{enumerate*}\n",
       "\\item 60\n",
       "\\item 72\n",
       "\\item 57\n",
       "\\item 90\n",
       "\\item 95\n",
       "\\item 72\n",
       "\\end{enumerate*}\n"
      ],
      "text/markdown": [
       "1. 60\n",
       "2. 72\n",
       "3. 57\n",
       "4. 90\n",
       "5. 95\n",
       "6. 72\n",
       "\n",
       "\n"
      ],
      "text/plain": [
       "[1] 60 72 57 90 95 72"
      ]
     },
     "metadata": {},
     "output_type": "display_data"
    },
    {
     "data": {
      "text/html": [
       "<style>\n",
       ".list-inline {list-style: none; margin:0; padding: 0}\n",
       ".list-inline>li {display: inline-block}\n",
       ".list-inline>li:not(:last-child)::after {content: \"\\00b7\"; padding: 0 .5ex}\n",
       "</style>\n",
       "<ol class=list-inline><li>1.75</li><li>1.8</li><li>1.65</li><li>1.9</li><li>1.74</li><li>1.91</li></ol>\n"
      ],
      "text/latex": [
       "\\begin{enumerate*}\n",
       "\\item 1.75\n",
       "\\item 1.8\n",
       "\\item 1.65\n",
       "\\item 1.9\n",
       "\\item 1.74\n",
       "\\item 1.91\n",
       "\\end{enumerate*}\n"
      ],
      "text/markdown": [
       "1. 1.75\n",
       "2. 1.8\n",
       "3. 1.65\n",
       "4. 1.9\n",
       "5. 1.74\n",
       "6. 1.91\n",
       "\n",
       "\n"
      ],
      "text/plain": [
       "[1] 1.75 1.80 1.65 1.90 1.74 1.91"
      ]
     },
     "metadata": {},
     "output_type": "display_data"
    },
    {
     "data": {
      "text/html": [
       "<style>\n",
       ".list-inline {list-style: none; margin:0; padding: 0}\n",
       ".list-inline>li {display: inline-block}\n",
       ".list-inline>li:not(:last-child)::after {content: \"\\00b7\"; padding: 0 .5ex}\n",
       "</style>\n",
       "<ol class=list-inline><li>'A'</li><li>'B'</li><li>'C'</li><li>'D'</li><li>'E'</li><li>'F'</li></ol>\n"
      ],
      "text/latex": [
       "\\begin{enumerate*}\n",
       "\\item 'A'\n",
       "\\item 'B'\n",
       "\\item 'C'\n",
       "\\item 'D'\n",
       "\\item 'E'\n",
       "\\item 'F'\n",
       "\\end{enumerate*}\n"
      ],
      "text/markdown": [
       "1. 'A'\n",
       "2. 'B'\n",
       "3. 'C'\n",
       "4. 'D'\n",
       "5. 'E'\n",
       "6. 'F'\n",
       "\n",
       "\n"
      ],
      "text/plain": [
       "[1] \"A\" \"B\" \"C\" \"D\" \"E\" \"F\""
      ]
     },
     "metadata": {},
     "output_type": "display_data"
    }
   ],
   "source": [
    "weight\n",
    "height\n",
    "subject"
   ]
  },
  {
   "cell_type": "markdown",
   "id": "f8ac3ded",
   "metadata": {},
   "source": [
    "#### Creating a vector with a particular size"
   ]
  },
  {
   "cell_type": "code",
   "execution_count": 25,
   "id": "52a07eb9",
   "metadata": {},
   "outputs": [
    {
     "data": {
      "text/html": [
       "<style>\n",
       ".list-inline {list-style: none; margin:0; padding: 0}\n",
       ".list-inline>li {display: inline-block}\n",
       ".list-inline>li:not(:last-child)::after {content: \"\\00b7\"; padding: 0 .5ex}\n",
       "</style>\n",
       "<ol class=list-inline><li>0</li><li>0</li><li>0</li><li>0</li><li>0</li><li>0</li><li>0</li><li>0</li><li>0</li><li>0</li></ol>\n"
      ],
      "text/latex": [
       "\\begin{enumerate*}\n",
       "\\item 0\n",
       "\\item 0\n",
       "\\item 0\n",
       "\\item 0\n",
       "\\item 0\n",
       "\\item 0\n",
       "\\item 0\n",
       "\\item 0\n",
       "\\item 0\n",
       "\\item 0\n",
       "\\end{enumerate*}\n"
      ],
      "text/markdown": [
       "1. 0\n",
       "2. 0\n",
       "3. 0\n",
       "4. 0\n",
       "5. 0\n",
       "6. 0\n",
       "7. 0\n",
       "8. 0\n",
       "9. 0\n",
       "10. 0\n",
       "\n",
       "\n"
      ],
      "text/plain": [
       " [1] 0 0 0 0 0 0 0 0 0 0"
      ]
     },
     "metadata": {},
     "output_type": "display_data"
    }
   ],
   "source": [
    "vec <- rep(0, 10)\n",
    "vec"
   ]
  },
  {
   "cell_type": "markdown",
   "id": "c1d507cd",
   "metadata": {},
   "source": [
    "#### Vector length"
   ]
  },
  {
   "cell_type": "code",
   "execution_count": 26,
   "id": "0d4a1d7e",
   "metadata": {},
   "outputs": [
    {
     "data": {
      "text/html": [
       "6"
      ],
      "text/latex": [
       "6"
      ],
      "text/markdown": [
       "6"
      ],
      "text/plain": [
       "[1] 6"
      ]
     },
     "metadata": {},
     "output_type": "display_data"
    }
   ],
   "source": [
    "length(weight)"
   ]
  },
  {
   "cell_type": "markdown",
   "id": "68590aee",
   "metadata": {},
   "source": [
    "#### Vector indexes"
   ]
  },
  {
   "cell_type": "code",
   "execution_count": 27,
   "id": "27445b46",
   "metadata": {},
   "outputs": [
    {
     "data": {
      "text/html": [
       "60"
      ],
      "text/latex": [
       "60"
      ],
      "text/markdown": [
       "60"
      ],
      "text/plain": [
       "[1] 60"
      ]
     },
     "metadata": {},
     "output_type": "display_data"
    },
    {
     "data": {
      "text/html": [
       "72"
      ],
      "text/latex": [
       "72"
      ],
      "text/markdown": [
       "72"
      ],
      "text/plain": [
       "[1] 72"
      ]
     },
     "metadata": {},
     "output_type": "display_data"
    }
   ],
   "source": [
    "weight[1]\n",
    "weight[length(weight)]"
   ]
  },
  {
   "cell_type": "markdown",
   "id": "989787f0",
   "metadata": {},
   "source": [
    "#### for loop"
   ]
  },
  {
   "cell_type": "code",
   "execution_count": 40,
   "id": "86eaecfd",
   "metadata": {},
   "outputs": [],
   "source": [
    "bmi <- 0\n",
    "for (i in 1:length(weight)) {\n",
    "  bmi[i] <- weight[i]/height[i]^2\n",
    "}"
   ]
  },
  {
   "cell_type": "code",
   "execution_count": 41,
   "id": "d958bb5e",
   "metadata": {},
   "outputs": [
    {
     "data": {
      "text/html": [
       "<style>\n",
       ".list-inline {list-style: none; margin:0; padding: 0}\n",
       ".list-inline>li {display: inline-block}\n",
       ".list-inline>li:not(:last-child)::after {content: \"\\00b7\"; padding: 0 .5ex}\n",
       "</style>\n",
       "<ol class=list-inline><li>19.5918367346939</li><li>22.2222222222222</li><li>20.9366391184573</li><li>24.9307479224377</li><li>31.3779891663364</li><li>19.7363010882377</li></ol>\n"
      ],
      "text/latex": [
       "\\begin{enumerate*}\n",
       "\\item 19.5918367346939\n",
       "\\item 22.2222222222222\n",
       "\\item 20.9366391184573\n",
       "\\item 24.9307479224377\n",
       "\\item 31.3779891663364\n",
       "\\item 19.7363010882377\n",
       "\\end{enumerate*}\n"
      ],
      "text/markdown": [
       "1. 19.5918367346939\n",
       "2. 22.2222222222222\n",
       "3. 20.9366391184573\n",
       "4. 24.9307479224377\n",
       "5. 31.3779891663364\n",
       "6. 19.7363010882377\n",
       "\n",
       "\n"
      ],
      "text/plain": [
       "[1] 19.59184 22.22222 20.93664 24.93075 31.37799 19.73630"
      ]
     },
     "metadata": {},
     "output_type": "display_data"
    }
   ],
   "source": [
    "bmi"
   ]
  },
  {
   "cell_type": "markdown",
   "id": "405feef7",
   "metadata": {},
   "source": [
    "#### while loop"
   ]
  },
  {
   "cell_type": "code",
   "execution_count": 42,
   "id": "e9e1ca15",
   "metadata": {},
   "outputs": [],
   "source": [
    "i <- 1\n",
    "while (i <= length(weight)) {\n",
    "  bmi[i] <- weight[i]/height[i]^2\n",
    "  i <- i + 1\n",
    "}"
   ]
  },
  {
   "cell_type": "code",
   "execution_count": 43,
   "id": "12c00cca",
   "metadata": {},
   "outputs": [
    {
     "data": {
      "text/html": [
       "<style>\n",
       ".list-inline {list-style: none; margin:0; padding: 0}\n",
       ".list-inline>li {display: inline-block}\n",
       ".list-inline>li:not(:last-child)::after {content: \"\\00b7\"; padding: 0 .5ex}\n",
       "</style>\n",
       "<ol class=list-inline><li>19.5918367346939</li><li>22.2222222222222</li><li>20.9366391184573</li><li>24.9307479224377</li><li>31.3779891663364</li><li>19.7363010882377</li></ol>\n"
      ],
      "text/latex": [
       "\\begin{enumerate*}\n",
       "\\item 19.5918367346939\n",
       "\\item 22.2222222222222\n",
       "\\item 20.9366391184573\n",
       "\\item 24.9307479224377\n",
       "\\item 31.3779891663364\n",
       "\\item 19.7363010882377\n",
       "\\end{enumerate*}\n"
      ],
      "text/markdown": [
       "1. 19.5918367346939\n",
       "2. 22.2222222222222\n",
       "3. 20.9366391184573\n",
       "4. 24.9307479224377\n",
       "5. 31.3779891663364\n",
       "6. 19.7363010882377\n",
       "\n",
       "\n"
      ],
      "text/plain": [
       "[1] 19.59184 22.22222 20.93664 24.93075 31.37799 19.73630"
      ]
     },
     "metadata": {},
     "output_type": "display_data"
    }
   ],
   "source": [
    "bmi"
   ]
  },
  {
   "cell_type": "markdown",
   "id": "afa140c4",
   "metadata": {},
   "source": [
    "#### Removing variable"
   ]
  },
  {
   "cell_type": "code",
   "execution_count": 44,
   "id": "de97ee75",
   "metadata": {},
   "outputs": [
    {
     "data": {
      "text/html": [
       "FALSE"
      ],
      "text/latex": [
       "FALSE"
      ],
      "text/markdown": [
       "FALSE"
      ],
      "text/plain": [
       "[1] FALSE"
      ]
     },
     "metadata": {},
     "output_type": "display_data"
    }
   ],
   "source": [
    "rm(bmi)\n",
    "exists(\"bmi\")"
   ]
  },
  {
   "cell_type": "markdown",
   "id": "e7e8ddb5",
   "metadata": {},
   "source": [
    "#### Manipulating vectors efficiently"
   ]
  },
  {
   "cell_type": "code",
   "execution_count": 45,
   "id": "ca93259e",
   "metadata": {},
   "outputs": [
    {
     "data": {
      "text/html": [
       "<style>\n",
       ".list-inline {list-style: none; margin:0; padding: 0}\n",
       ".list-inline>li {display: inline-block}\n",
       ".list-inline>li:not(:last-child)::after {content: \"\\00b7\"; padding: 0 .5ex}\n",
       "</style>\n",
       "<ol class=list-inline><li>19.5918367346939</li><li>22.2222222222222</li><li>20.9366391184573</li><li>24.9307479224377</li><li>31.3779891663364</li><li>19.7363010882377</li></ol>\n"
      ],
      "text/latex": [
       "\\begin{enumerate*}\n",
       "\\item 19.5918367346939\n",
       "\\item 22.2222222222222\n",
       "\\item 20.9366391184573\n",
       "\\item 24.9307479224377\n",
       "\\item 31.3779891663364\n",
       "\\item 19.7363010882377\n",
       "\\end{enumerate*}\n"
      ],
      "text/markdown": [
       "1. 19.5918367346939\n",
       "2. 22.2222222222222\n",
       "3. 20.9366391184573\n",
       "4. 24.9307479224377\n",
       "5. 31.3779891663364\n",
       "6. 19.7363010882377\n",
       "\n",
       "\n"
      ],
      "text/plain": [
       "[1] 19.59184 22.22222 20.93664 24.93075 31.37799 19.73630"
      ]
     },
     "metadata": {},
     "output_type": "display_data"
    }
   ],
   "source": [
    "bmi <- weight/height^2 \n",
    "bmi "
   ]
  },
  {
   "cell_type": "markdown",
   "id": "d2316fbe",
   "metadata": {},
   "source": [
    "#### Function definition"
   ]
  },
  {
   "cell_type": "code",
   "execution_count": 48,
   "id": "0783b05d",
   "metadata": {},
   "outputs": [],
   "source": [
    "compute_bmi <- function(weight, height) {\n",
    "  bmi <- weight/height^2 \n",
    "  return(bmi)\n",
    "}"
   ]
  },
  {
   "cell_type": "markdown",
   "id": "fee2443c",
   "metadata": {},
   "source": [
    "#### Using with scalar"
   ]
  },
  {
   "cell_type": "code",
   "execution_count": 49,
   "id": "855c723c",
   "metadata": {},
   "outputs": [
    {
     "data": {
      "text/html": [
       "19.5918367346939"
      ],
      "text/latex": [
       "19.5918367346939"
      ],
      "text/markdown": [
       "19.5918367346939"
      ],
      "text/plain": [
       "[1] 19.59184"
      ]
     },
     "metadata": {},
     "output_type": "display_data"
    }
   ],
   "source": [
    "bmi <- compute_bmi(60, 1.75)\n",
    "bmi"
   ]
  },
  {
   "cell_type": "markdown",
   "id": "24778077",
   "metadata": {},
   "source": [
    "#### Using with vectors"
   ]
  },
  {
   "cell_type": "code",
   "execution_count": 50,
   "id": "2709e2c9",
   "metadata": {},
   "outputs": [
    {
     "data": {
      "text/html": [
       "<style>\n",
       ".list-inline {list-style: none; margin:0; padding: 0}\n",
       ".list-inline>li {display: inline-block}\n",
       ".list-inline>li:not(:last-child)::after {content: \"\\00b7\"; padding: 0 .5ex}\n",
       "</style>\n",
       "<ol class=list-inline><li>19.5918367346939</li><li>22.2222222222222</li><li>20.9366391184573</li><li>24.9307479224377</li><li>31.3779891663364</li><li>19.7363010882377</li></ol>\n"
      ],
      "text/latex": [
       "\\begin{enumerate*}\n",
       "\\item 19.5918367346939\n",
       "\\item 22.2222222222222\n",
       "\\item 20.9366391184573\n",
       "\\item 24.9307479224377\n",
       "\\item 31.3779891663364\n",
       "\\item 19.7363010882377\n",
       "\\end{enumerate*}\n"
      ],
      "text/markdown": [
       "1. 19.5918367346939\n",
       "2. 22.2222222222222\n",
       "3. 20.9366391184573\n",
       "4. 24.9307479224377\n",
       "5. 31.3779891663364\n",
       "6. 19.7363010882377\n",
       "\n",
       "\n"
      ],
      "text/plain": [
       "[1] 19.59184 22.22222 20.93664 24.93075 31.37799 19.73630"
      ]
     },
     "metadata": {},
     "output_type": "display_data"
    }
   ],
   "source": [
    "bmi <- compute_bmi(weight, height)\n",
    "bmi"
   ]
  },
  {
   "cell_type": "markdown",
   "id": "296b3b25",
   "metadata": {},
   "source": [
    "#### Average function"
   ]
  },
  {
   "cell_type": "code",
   "execution_count": 51,
   "id": "60fb746c",
   "metadata": {},
   "outputs": [],
   "source": [
    "average <- function(vec) {\n",
    "    s <- 0\n",
    "    n <- length(vec)\n",
    "    for (x in vec) {\n",
    "      s <- s + x  \n",
    "    }\n",
    "    return(s/n)\n",
    "}"
   ]
  },
  {
   "cell_type": "code",
   "execution_count": 52,
   "id": "6ae20520",
   "metadata": {},
   "outputs": [
    {
     "data": {
      "text/html": [
       "23.1326227087309"
      ],
      "text/latex": [
       "23.1326227087309"
      ],
      "text/markdown": [
       "23.1326227087309"
      ],
      "text/plain": [
       "[1] 23.13262"
      ]
     },
     "metadata": {},
     "output_type": "display_data"
    }
   ],
   "source": [
    "avg_bmi <- average(bmi)\n",
    "avg_bmi"
   ]
  },
  {
   "cell_type": "markdown",
   "id": "e65833ea",
   "metadata": {},
   "source": [
    "#### Average function: improved version"
   ]
  },
  {
   "cell_type": "code",
   "execution_count": 53,
   "id": "2d489ede",
   "metadata": {},
   "outputs": [],
   "source": [
    "average <- function(vec) {\n",
    "    s <- sum(vec)\n",
    "    n <- length(vec)\n",
    "    return(s/n)\n",
    "}"
   ]
  },
  {
   "cell_type": "code",
   "execution_count": 54,
   "id": "311dfdb2",
   "metadata": {},
   "outputs": [
    {
     "data": {
      "text/html": [
       "23.1326227087309"
      ],
      "text/latex": [
       "23.1326227087309"
      ],
      "text/markdown": [
       "23.1326227087309"
      ],
      "text/plain": [
       "[1] 23.13262"
      ]
     },
     "metadata": {},
     "output_type": "display_data"
    }
   ],
   "source": [
    "avg_bmi <- average(bmi)\n",
    "avg_bmi"
   ]
  },
  {
   "cell_type": "markdown",
   "id": "f779dacd",
   "metadata": {},
   "source": [
    "#### Average function: major statistical functions already exists"
   ]
  },
  {
   "cell_type": "code",
   "execution_count": 65,
   "id": "1b423a44",
   "metadata": {},
   "outputs": [],
   "source": [
    "average <- function(vec) {\n",
    "    return(mean(vec))\n",
    "}"
   ]
  },
  {
   "cell_type": "code",
   "execution_count": 66,
   "id": "4b9a6808",
   "metadata": {},
   "outputs": [
    {
     "data": {
      "text/html": [
       "23.1326227087309"
      ],
      "text/latex": [
       "23.1326227087309"
      ],
      "text/markdown": [
       "23.1326227087309"
      ],
      "text/plain": [
       "[1] 23.13262"
      ]
     },
     "metadata": {},
     "output_type": "display_data"
    }
   ],
   "source": [
    "avg_bmi <- average(bmi)\n",
    "avg_bmi"
   ]
  },
  {
   "cell_type": "markdown",
   "id": "20a5d7a4",
   "metadata": {},
   "source": [
    "#### NA definition"
   ]
  },
  {
   "cell_type": "code",
   "execution_count": 67,
   "id": "9e15acaf",
   "metadata": {},
   "outputs": [
    {
     "data": {
      "text/html": [
       "<style>\n",
       ".list-inline {list-style: none; margin:0; padding: 0}\n",
       ".list-inline>li {display: inline-block}\n",
       ".list-inline>li:not(:last-child)::after {content: \"\\00b7\"; padding: 0 .5ex}\n",
       "</style>\n",
       "<ol class=list-inline><li>10</li><li>&lt;NA&gt;</li><li>13</li></ol>\n"
      ],
      "text/latex": [
       "\\begin{enumerate*}\n",
       "\\item 10\n",
       "\\item <NA>\n",
       "\\item 13\n",
       "\\end{enumerate*}\n"
      ],
      "text/markdown": [
       "1. 10\n",
       "2. &lt;NA&gt;\n",
       "3. 13\n",
       "\n",
       "\n"
      ],
      "text/plain": [
       "[1] 10 NA 13"
      ]
     },
     "metadata": {},
     "output_type": "display_data"
    }
   ],
   "source": [
    "x <- c(10, NA, 13)\n",
    "x"
   ]
  },
  {
   "cell_type": "markdown",
   "id": "1dd7639a",
   "metadata": {},
   "source": [
    "#### Evaluation with NA leads to NA"
   ]
  },
  {
   "cell_type": "code",
   "execution_count": 68,
   "id": "209b7f61",
   "metadata": {},
   "outputs": [
    {
     "data": {
      "text/html": [
       "&lt;NA&gt;"
      ],
      "text/latex": [
       "<NA>"
      ],
      "text/markdown": [
       "&lt;NA&gt;"
      ],
      "text/plain": [
       "[1] NA"
      ]
     },
     "metadata": {},
     "output_type": "display_data"
    }
   ],
   "source": [
    "average(x)"
   ]
  },
  {
   "cell_type": "markdown",
   "id": "4f41c4c3",
   "metadata": {},
   "source": [
    "#### Addressing NA"
   ]
  },
  {
   "cell_type": "code",
   "execution_count": 69,
   "id": "2f740bb2",
   "metadata": {},
   "outputs": [],
   "source": [
    "average <- function(vec) {\n",
    "    return(mean(vec, na.rm=TRUE))\n",
    "}"
   ]
  },
  {
   "cell_type": "code",
   "execution_count": 70,
   "id": "3bda1524",
   "metadata": {},
   "outputs": [
    {
     "data": {
      "text/html": [
       "11.5"
      ],
      "text/latex": [
       "11.5"
      ],
      "text/markdown": [
       "11.5"
      ],
      "text/plain": [
       "[1] 11.5"
      ]
     },
     "metadata": {},
     "output_type": "display_data"
    }
   ],
   "source": [
    "average(x)"
   ]
  },
  {
   "attachments": {},
   "cell_type": "markdown",
   "id": "602bf2e2",
   "metadata": {},
   "source": [
    "### Part #2"
   ]
  },
  {
   "cell_type": "code",
   "execution_count": null,
   "id": "6f41fcb4",
   "metadata": {},
   "outputs": [],
   "source": []
  }
 ],
 "metadata": {
  "kernelspec": {
   "display_name": "R",
   "language": "R",
   "name": "ir"
  },
  "language_info": {
   "codemirror_mode": "r",
   "file_extension": ".r",
   "mimetype": "text/x-r-source",
   "name": "R",
   "pygments_lexer": "r",
   "version": "4.1.2"
  }
 },
 "nbformat": 4,
 "nbformat_minor": 5
}
