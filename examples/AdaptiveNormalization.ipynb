{
 "cells": [
  {
   "cell_type": "markdown",
   "metadata": {},
   "source": [
    "# Adaptive normalization\n",
    "\n",
    "This Jupyter notebook presents the entire code to use the adaptive normalization technique.\n",
    "\n",
    "First, we describe the preliminary code that is used by the technique. \n",
    "\n",
    "Then, the actual adaptive normalization code is presented.\n",
    "\n",
    "Finally, a complete example is presented."
   ]
  },
  {
   "cell_type": "markdown",
   "metadata": {},
   "source": [
    "\n",
    "## Preliminary code\n",
    "\n",
    "This section contains some preliminary code used by Adaptive normalization."
   ]
  },
  {
   "cell_type": "markdown",
   "metadata": {},
   "source": [
    "Function $ts\\_sw$ converts a time series into a overlapped sliding windows of size $sw\\_size$."
   ]
  },
  {
   "cell_type": "code",
   "execution_count": 77,
   "metadata": {},
   "outputs": [],
   "source": [
    "ts_sw <- function(x, sw_size) {\n",
    "  ts_lag <- function(x, k) \n",
    "  {\n",
    "    c(rep(NA, k), x)[1 : length(x)] \n",
    "  }\n",
    "  n <- length(x)-sw_size+1\n",
    "  sw <- NULL\n",
    "  for(c in (sw_size-1):0){\n",
    "    t  <- ts_lag(x,c)\n",
    "    t <- t[sw_size:length(t)]\n",
    "    sw <- cbind(sw,t,deparse.level = 0)\n",
    "  }\n",
    "  col <- paste(\"t\",c((sw_size-1):0), sep=\"\")\n",
    "  #rownames(sw) <- NULL\n",
    "  colnames(sw) <- col\n",
    "  return(sw)  \n",
    "}"
   ]
  },
  {
   "cell_type": "markdown",
   "metadata": {},
   "source": [
    "Function $ts\\_as\\_matrix$ projects sliding window $sw$. If $sw$ contains more lagged elements than $size$, older lags are removed."
   ]
  },
  {
   "cell_type": "code",
   "execution_count": 78,
   "metadata": {},
   "outputs": [],
   "source": [
    "ts_as_matrix <- function(sw, size) {\n",
    "  sw <- data.frame(sw)\n",
    "  sw <- sw[, (ncol(sw)-size+1):ncol(sw)]\n",
    "  sw <- as.matrix(sw)\n",
    "  return(sw)\n",
    "}"
   ]
  },
  {
   "cell_type": "markdown",
   "metadata": {},
   "source": [
    "Function $ts\\_train\\_test$ converts sliding window $sw$ into training and testing. "
   ]
  },
  {
   "cell_type": "code",
   "execution_count": 79,
   "metadata": {},
   "outputs": [],
   "source": [
    "ts_train_test <- function(x, test_size, sw_size = 0, offset=0) {\n",
    "  if (offset == 0) {\n",
    "    offset <- length(x)-test_size\n",
    "  }\n",
    "  if (sw_size == 0) {\n",
    "    train <- x[1:offset]\n",
    "    test <- x[(offset+1):(offset+test_size)]\n",
    "  }\n",
    "  else {\n",
    "    train <- x[1:offset]\n",
    "    test <- x[(offset-(sw_size-1)+1):(offset+test_size)]\n",
    "    train <- ts_sw(train, sw_size)\n",
    "    test <- ts_sw(test, sw_size)\n",
    "  }\n",
    "  return(list(train=train, test=test))\n",
    "}"
   ]
  },
  {
   "cell_type": "markdown",
   "metadata": {},
   "source": [
    "Function $ts\\_sw\\_project$ splits sliding window $sw$ into input ($t_n$ to $t_2$) and output ($t_1$). "
   ]
  },
  {
   "cell_type": "code",
   "execution_count": 80,
   "metadata": {},
   "outputs": [],
   "source": [
    "ts_sw_project <- function(sw) \n",
    "{\n",
    "  if (is.vector(sw)) {\n",
    "    input <- sw\n",
    "    output <- sw\n",
    "  }\n",
    "  else {\n",
    "    input <- sw[,1:ncol(sw)-1]\n",
    "    output <- sw[,ncol(sw)]\n",
    "  }\n",
    "  return (list(input=input, output=output))\n",
    "} \n"
   ]
  },
  {
   "cell_type": "markdown",
   "metadata": {},
   "source": [
    "Functions $outliers$ and $outliers\\_remove$ are, respectively, used to identify and remove sliding windows that are outliers."
   ]
  },
  {
   "cell_type": "code",
   "execution_count": 81,
   "metadata": {},
   "outputs": [],
   "source": [
    "outliers <- function(data, alpha=1.5) {\n",
    "  if(is.matrix(data) || is.data.frame(data)) {\n",
    "    idx = rep(FALSE, nrow(data))\n",
    "    org <- nrow(data)\n",
    "    data <- as.data.frame(data)\n",
    "    if (org >= 30) {\n",
    "      isnumeric = (ifelse(sapply(data, is.numeric), TRUE, FALSE))\n",
    "      data <- data[,as.vector(isnumeric)]\n",
    "      q <- sapply(data, quantile, na.rm=TRUE)\n",
    "      n <- ncol(data)\n",
    "      for (i in 1:n)\n",
    "      {\n",
    "        IQR <- q[4,i] - q[2,i]\n",
    "        lq1 <- q[2,i] - alpha*IQR\n",
    "        hq3 <- q[4,i] + alpha*IQR\n",
    "        idx = idx | (!is.na(data[,i]) & (data[,i] < lq1 | data[,i] > hq3))\n",
    "      }\n",
    "    }\n",
    "    return(idx)\n",
    "  }\n",
    "  else {\n",
    "    idx <- rep(FALSE, length(data))\n",
    "    if (length(data) >= 30) {\n",
    "      q <- quantile(data)\n",
    "      IQR <- q[4] - q[2]\n",
    "      lq1 <- q[2] - obj$alpha*IQR\n",
    "      hq3 <- q[4] + obj$alpha*IQR\n",
    "      idx <- data < lq1 | data > hq3\n",
    "    }\n",
    "    return (idx) \n",
    "  } \n",
    "}"
   ]
  },
  {
   "cell_type": "code",
   "execution_count": 82,
   "metadata": {},
   "outputs": [],
   "source": [
    "outliers_remove <- function(data)\n",
    "{\n",
    "  idx <- outliers(data)\n",
    "  if(is.matrix(data) || is.data.frame(data)) {\n",
    "    return(data[!idx,])\n",
    "  }\n",
    "  else {\n",
    "    return(data[!idx])\n",
    "  } \n",
    "}"
   ]
  },
  {
   "cell_type": "markdown",
   "metadata": {},
   "source": [
    "## Adaptive normalization main code"
   ]
  },
  {
   "cell_type": "markdown",
   "metadata": {},
   "source": [
    "Functions $ts\\_inertia$, $ts\\_remove\\_inertia$, and $ts\\_add\\_inertia$ respectively compute, remove, and add inertia into the sliding windows $x$. "
   ]
  },
  {
   "cell_type": "code",
   "execution_count": 83,
   "metadata": {},
   "outputs": [],
   "source": [
    "an_inertia <- function(x) {\n",
    "  an <- apply(x, 1, mean)\n",
    "  return(an)\n",
    "}\n",
    "\n",
    "an_remove_inertia <- function(x, an) {\n",
    "  return(x / an)\n",
    "}\n",
    "\n",
    "an_add_inertia <- function(x, an) {\n",
    "  return(x * an)\n",
    "}"
   ]
  },
  {
   "cell_type": "markdown",
   "metadata": {},
   "source": [
    "Function $AN\\_setup$ extracts parameters from sliding window $x$ using training data. \n",
    "It computes the inertia $an$, removes the inertia of the sliding windows. \n",
    "Then, it removes the outliers. \n",
    "It computes global min/max on the adaptive normalization space. \n",
    "\n",
    "If $rescale$ is set, it adjusts the $scale$ and $offset$ considering the ratio of change from input data to output so that output data fits in the normalized range $0$ to $1$. \n",
    "\n",
    "Function $AN\\_setup$ returns object $obj$ with normalized parameters. "
   ]
  },
  {
   "cell_type": "code",
   "execution_count": 84,
   "metadata": {},
   "outputs": [],
   "source": [
    "AN_setup <- function(x, rescale=TRUE) {\n",
    "  obj <- list(sw_size <- ncol(x), rescale=rescale, offset=0, scale=1)\n",
    "  \n",
    "  an <- an_inertia(ts_sw_project(x)$input)\n",
    "  x <- an_remove_inertia(x, an)\n",
    "  x <- cbind(x, an)\n",
    "  x <- outliers_remove(x)    \n",
    "  x <- x[,1:(ncol(x)-1)]\n",
    "  \n",
    "  io <- ts_sw_project(x)\n",
    "  \n",
    "  obj$gmin <- min(io$input)\n",
    "  obj$gmax <- max(io$input)\n",
    "  \n",
    "  if (obj$rescale) {\n",
    "    ratio <- (obj$gmax-obj$gmin)/(max(x)-min(x))\n",
    "    \n",
    "    obj$offset <- obj$offset + (1 - ratio) * obj$scale / 2\n",
    "    obj$scale <- obj$scale * ratio\n",
    "  }\n",
    "  return(obj)\n",
    "}"
   ]
  },
  {
   "cell_type": "markdown",
   "metadata": {},
   "source": [
    "Function $AN\\_normalize$. It takes into account the previous normalized parameters $obj$. \n",
    "If $x$ corresponds to the input normalized sliding windows, it computes the inertia $an$ and returns both inertia and normalized sliding windows. \n",
    "If $x$ corresponds to the output vector, it uses previous saved inertia $an$ and computed parameters $obj$ to normalize $x$. "
   ]
  },
  {
   "cell_type": "code",
   "execution_count": 85,
   "metadata": {},
   "outputs": [],
   "source": [
    "AN_normalize <- function(obj, x, arguments=NULL) {\n",
    "  # x can be either input matrix or output vector\n",
    "  if (is.vector(x)) {\n",
    "    an <- arguments$an\n",
    "    x <- an_remove_inertia(x, an)\n",
    "  }\n",
    "  else {\n",
    "    an <- an_inertia(x)\n",
    "    x <- an_remove_inertia(x, an)\n",
    "  }\n",
    "  return (list(x=obj$scale*(x - obj$gmin)/(obj$gmax - obj$gmin) + obj$offset, arguments=list(an=an)))\n",
    "}\n"
   ]
  },
  {
   "cell_type": "markdown",
   "metadata": {},
   "source": [
    "Function $AN\\_denormalize$ denormize $x$. Variable $x$ can be either a sliding window or a vector. It uses previously computed inertia $an$ and normalized parameters $obj$. "
   ]
  },
  {
   "cell_type": "code",
   "execution_count": 86,
   "metadata": {},
   "outputs": [],
   "source": [
    "AN_denormalize <- function(obj, x, arguments=NULL) {\n",
    "  # x can be either input matrix or output vector\n",
    "  x <- (x - obj$offset) * (obj$gmax - obj$gmin) / (obj$scale) + obj$gmin\n",
    "  x <- an_add_inertia(x, arguments$an)\n",
    "  return (list(x=x, arguments=arguments))\n",
    "}\n"
   ]
  },
  {
   "cell_type": "markdown",
   "metadata": {},
   "source": [
    "## Step by step "
   ]
  },
  {
   "cell_type": "code",
   "execution_count": 87,
   "metadata": {},
   "outputs": [
    {
     "data": {
      "image/png": "[encoded data removed]",
      "text/plain": [
       "plot without title"
      ]
     },
     "metadata": {
      "image/png": {
       "height": 420,
       "width": 420
      }
     },
     "output_type": "display_data"
    }
   ],
   "source": [
    "# load time series \n",
    "load_series <- function(name) {\n",
    "  link <- url(sprintf(\"https://raw.githubusercontent.com/eogasawara/mylibrary/master/data/time-series/%s.RData\", name))\n",
    "  x <- get(load(link))\n",
    "  return(x)  \n",
    "}\n",
    "\n",
    "x <- load_series(\"sin\")\n",
    "plot(x)"
   ]
  },
  {
   "cell_type": "code",
   "execution_count": 88,
   "metadata": {},
   "outputs": [
    {
     "data": {
      "text/html": [
       "<table>\n",
       "<caption>A matrix: 6 × 10 of type dbl</caption>\n",
       "<thead>\n",
       "\t<tr><th scope=col>t9</th><th scope=col>t8</th><th scope=col>t7</th><th scope=col>t6</th><th scope=col>t5</th><th scope=col>t4</th><th scope=col>t3</th><th scope=col>t2</th><th scope=col>t1</th><th scope=col>t0</th></tr>\n",
       "</thead>\n",
       "<tbody>\n",
       "\t<tr><td>2.158484</td><td>2.312962</td><td>2.459529</td><td>2.594481</td><td>2.714406</td><td>2.816273</td><td>2.897507</td><td>2.956056</td><td>2.990438</td><td>2.999785</td></tr>\n",
       "\t<tr><td>2.312962</td><td>2.459529</td><td>2.594481</td><td>2.714406</td><td>2.816273</td><td>2.897507</td><td>2.956056</td><td>2.990438</td><td>2.999785</td><td>2.983860</td></tr>\n",
       "\t<tr><td>2.459529</td><td>2.594481</td><td>2.714406</td><td>2.816273</td><td>2.897507</td><td>2.956056</td><td>2.990438</td><td>2.999785</td><td>2.983860</td><td>2.943067</td></tr>\n",
       "\t<tr><td>2.594481</td><td>2.714406</td><td>2.816273</td><td>2.897507</td><td>2.956056</td><td>2.990438</td><td>2.999785</td><td>2.983860</td><td>2.943067</td><td>2.878436</td></tr>\n",
       "\t<tr><td>2.714406</td><td>2.816273</td><td>2.897507</td><td>2.956056</td><td>2.990438</td><td>2.999785</td><td>2.983860</td><td>2.943067</td><td>2.878436</td><td>2.791600</td></tr>\n",
       "\t<tr><td>2.816273</td><td>2.897507</td><td>2.956056</td><td>2.990438</td><td>2.999785</td><td>2.983860</td><td>2.943067</td><td>2.878436</td><td>2.791600</td><td>2.684756</td></tr>\n",
       "</tbody>\n",
       "</table>\n"
      ],
      "text/latex": [
       "A matrix: 6 × 10 of type dbl\n",
       "\\begin{tabular}{llllllllll}\n",
       " t9 & t8 & t7 & t6 & t5 & t4 & t3 & t2 & t1 & t0\\\\\n",
       "\\hline\n",
       "\t 2.158484 & 2.312962 & 2.459529 & 2.594481 & 2.714406 & 2.816273 & 2.897507 & 2.956056 & 2.990438 & 2.999785\\\\\n",
       "\t 2.312962 & 2.459529 & 2.594481 & 2.714406 & 2.816273 & 2.897507 & 2.956056 & 2.990438 & 2.999785 & 2.983860\\\\\n",
       "\t 2.459529 & 2.594481 & 2.714406 & 2.816273 & 2.897507 & 2.956056 & 2.990438 & 2.999785 & 2.983860 & 2.943067\\\\\n",
       "\t 2.594481 & 2.714406 & 2.816273 & 2.897507 & 2.956056 & 2.990438 & 2.999785 & 2.983860 & 2.943067 & 2.878436\\\\\n",
       "\t 2.714406 & 2.816273 & 2.897507 & 2.956056 & 2.990438 & 2.999785 & 2.983860 & 2.943067 & 2.878436 & 2.791600\\\\\n",
       "\t 2.816273 & 2.897507 & 2.956056 & 2.990438 & 2.999785 & 2.983860 & 2.943067 & 2.878436 & 2.791600 & 2.684756\\\\\n",
       "\\end{tabular}\n"
      ],
      "text/markdown": [
       "\n",
       "A matrix: 6 × 10 of type dbl\n",
       "\n",
       "| t9 | t8 | t7 | t6 | t5 | t4 | t3 | t2 | t1 | t0 |\n",
       "|---|---|---|---|---|---|---|---|---|---|\n",
       "| 2.158484 | 2.312962 | 2.459529 | 2.594481 | 2.714406 | 2.816273 | 2.897507 | 2.956056 | 2.990438 | 2.999785 |\n",
       "| 2.312962 | 2.459529 | 2.594481 | 2.714406 | 2.816273 | 2.897507 | 2.956056 | 2.990438 | 2.999785 | 2.983860 |\n",
       "| 2.459529 | 2.594481 | 2.714406 | 2.816273 | 2.897507 | 2.956056 | 2.990438 | 2.999785 | 2.983860 | 2.943067 |\n",
       "| 2.594481 | 2.714406 | 2.816273 | 2.897507 | 2.956056 | 2.990438 | 2.999785 | 2.983860 | 2.943067 | 2.878436 |\n",
       "| 2.714406 | 2.816273 | 2.897507 | 2.956056 | 2.990438 | 2.999785 | 2.983860 | 2.943067 | 2.878436 | 2.791600 |\n",
       "| 2.816273 | 2.897507 | 2.956056 | 2.990438 | 2.999785 | 2.983860 | 2.943067 | 2.878436 | 2.791600 | 2.684756 |\n",
       "\n"
      ],
      "text/plain": [
       "     t9       t8       t7       t6       t5       t4       t3       t2      \n",
       "[1,] 2.158484 2.312962 2.459529 2.594481 2.714406 2.816273 2.897507 2.956056\n",
       "[2,] 2.312962 2.459529 2.594481 2.714406 2.816273 2.897507 2.956056 2.990438\n",
       "[3,] 2.459529 2.594481 2.714406 2.816273 2.897507 2.956056 2.990438 2.999785\n",
       "[4,] 2.594481 2.714406 2.816273 2.897507 2.956056 2.990438 2.999785 2.983860\n",
       "[5,] 2.714406 2.816273 2.897507 2.956056 2.990438 2.999785 2.983860 2.943067\n",
       "[6,] 2.816273 2.897507 2.956056 2.990438 2.999785 2.983860 2.943067 2.878436\n",
       "     t1       t0      \n",
       "[1,] 2.990438 2.999785\n",
       "[2,] 2.999785 2.983860\n",
       "[3,] 2.983860 2.943067\n",
       "[4,] 2.943067 2.878436\n",
       "[5,] 2.878436 2.791600\n",
       "[6,] 2.791600 2.684756"
      ]
     },
     "metadata": {},
     "output_type": "display_data"
    },
    {
     "data": {
      "text/html": [
       "<table>\n",
       "<caption>A matrix: 6 × 10 of type dbl</caption>\n",
       "<thead>\n",
       "\t<tr><th scope=col>t9</th><th scope=col>t8</th><th scope=col>t7</th><th scope=col>t6</th><th scope=col>t5</th><th scope=col>t4</th><th scope=col>t3</th><th scope=col>t2</th><th scope=col>t1</th><th scope=col>t0</th></tr>\n",
       "</thead>\n",
       "<tbody>\n",
       "\t<tr><td>2.165263</td><td>2.319479</td><td>2.465620</td><td>2.599991</td><td>2.719196</td><td>2.820222</td><td>2.900516</td><td>2.958047</td><td>2.991362</td><td>2.999619</td></tr>\n",
       "\t<tr><td>2.319479</td><td>2.465620</td><td>2.599991</td><td>2.719196</td><td>2.820222</td><td>2.900516</td><td>2.958047</td><td>2.991362</td><td>2.999619</td><td>2.982608</td></tr>\n",
       "\t<tr><td>2.465620</td><td>2.599991</td><td>2.719196</td><td>2.820222</td><td>2.900516</td><td>2.958047</td><td>2.991362</td><td>2.999619</td><td>2.982608</td><td>2.940760</td></tr>\n",
       "\t<tr><td>2.599991</td><td>2.719196</td><td>2.820222</td><td>2.900516</td><td>2.958047</td><td>2.991362</td><td>2.999619</td><td>2.982608</td><td>2.940760</td><td>2.875132</td></tr>\n",
       "\t<tr><td>2.719196</td><td>2.820222</td><td>2.900516</td><td>2.958047</td><td>2.991362</td><td>2.999619</td><td>2.982608</td><td>2.940760</td><td>2.875132</td><td>2.787384</td></tr>\n",
       "\t<tr><td>2.820222</td><td>2.900516</td><td>2.958047</td><td>2.991362</td><td>2.999619</td><td>2.982608</td><td>2.940760</td><td>2.875132</td><td>2.787384</td><td>2.679733</td></tr>\n",
       "</tbody>\n",
       "</table>\n"
      ],
      "text/latex": [
       "A matrix: 6 × 10 of type dbl\n",
       "\\begin{tabular}{llllllllll}\n",
       " t9 & t8 & t7 & t6 & t5 & t4 & t3 & t2 & t1 & t0\\\\\n",
       "\\hline\n",
       "\t 2.165263 & 2.319479 & 2.465620 & 2.599991 & 2.719196 & 2.820222 & 2.900516 & 2.958047 & 2.991362 & 2.999619\\\\\n",
       "\t 2.319479 & 2.465620 & 2.599991 & 2.719196 & 2.820222 & 2.900516 & 2.958047 & 2.991362 & 2.999619 & 2.982608\\\\\n",
       "\t 2.465620 & 2.599991 & 2.719196 & 2.820222 & 2.900516 & 2.958047 & 2.991362 & 2.999619 & 2.982608 & 2.940760\\\\\n",
       "\t 2.599991 & 2.719196 & 2.820222 & 2.900516 & 2.958047 & 2.991362 & 2.999619 & 2.982608 & 2.940760 & 2.875132\\\\\n",
       "\t 2.719196 & 2.820222 & 2.900516 & 2.958047 & 2.991362 & 2.999619 & 2.982608 & 2.940760 & 2.875132 & 2.787384\\\\\n",
       "\t 2.820222 & 2.900516 & 2.958047 & 2.991362 & 2.999619 & 2.982608 & 2.940760 & 2.875132 & 2.787384 & 2.679733\\\\\n",
       "\\end{tabular}\n"
      ],
      "text/markdown": [
       "\n",
       "A matrix: 6 × 10 of type dbl\n",
       "\n",
       "| t9 | t8 | t7 | t6 | t5 | t4 | t3 | t2 | t1 | t0 |\n",
       "|---|---|---|---|---|---|---|---|---|---|\n",
       "| 2.165263 | 2.319479 | 2.465620 | 2.599991 | 2.719196 | 2.820222 | 2.900516 | 2.958047 | 2.991362 | 2.999619 |\n",
       "| 2.319479 | 2.465620 | 2.599991 | 2.719196 | 2.820222 | 2.900516 | 2.958047 | 2.991362 | 2.999619 | 2.982608 |\n",
       "| 2.465620 | 2.599991 | 2.719196 | 2.820222 | 2.900516 | 2.958047 | 2.991362 | 2.999619 | 2.982608 | 2.940760 |\n",
       "| 2.599991 | 2.719196 | 2.820222 | 2.900516 | 2.958047 | 2.991362 | 2.999619 | 2.982608 | 2.940760 | 2.875132 |\n",
       "| 2.719196 | 2.820222 | 2.900516 | 2.958047 | 2.991362 | 2.999619 | 2.982608 | 2.940760 | 2.875132 | 2.787384 |\n",
       "| 2.820222 | 2.900516 | 2.958047 | 2.991362 | 2.999619 | 2.982608 | 2.940760 | 2.875132 | 2.787384 | 2.679733 |\n",
       "\n"
      ],
      "text/plain": [
       "     t9       t8       t7       t6       t5       t4       t3       t2      \n",
       "[1,] 2.165263 2.319479 2.465620 2.599991 2.719196 2.820222 2.900516 2.958047\n",
       "[2,] 2.319479 2.465620 2.599991 2.719196 2.820222 2.900516 2.958047 2.991362\n",
       "[3,] 2.465620 2.599991 2.719196 2.820222 2.900516 2.958047 2.991362 2.999619\n",
       "[4,] 2.599991 2.719196 2.820222 2.900516 2.958047 2.991362 2.999619 2.982608\n",
       "[5,] 2.719196 2.820222 2.900516 2.958047 2.991362 2.999619 2.982608 2.940760\n",
       "[6,] 2.820222 2.900516 2.958047 2.991362 2.999619 2.982608 2.940760 2.875132\n",
       "     t1       t0      \n",
       "[1,] 2.991362 2.999619\n",
       "[2,] 2.999619 2.982608\n",
       "[3,] 2.982608 2.940760\n",
       "[4,] 2.940760 2.875132\n",
       "[5,] 2.875132 2.787384\n",
       "[6,] 2.787384 2.679733"
      ]
     },
     "metadata": {},
     "output_type": "display_data"
    }
   ],
   "source": [
    "# splits dataset into train and test\n",
    "tt <- ts_train_test(x, test_size=12, sw_size=10)\n",
    "head(tt$train)\n",
    "head(tt$test)"
   ]
  },
  {
   "cell_type": "code",
   "execution_count": 89,
   "metadata": {},
   "outputs": [
    {
     "data": {
      "text/html": [
       "<dl>\n",
       "\t<dt>[[1]]</dt>\n",
       "\t\t<dd>10</dd>\n",
       "\t<dt>$rescale</dt>\n",
       "\t\t<dd>TRUE</dd>\n",
       "\t<dt>$offset</dt>\n",
       "\t\t<dd>0.0972279102177847</dd>\n",
       "\t<dt>$scale</dt>\n",
       "\t\t<dd>0.805544179564431</dd>\n",
       "\t<dt>$gmin</dt>\n",
       "\t\t<dd>0.690823978836833</dd>\n",
       "\t<dt>$gmax</dt>\n",
       "\t\t<dd>1.37503668701702</dd>\n",
       "</dl>\n"
      ],
      "text/latex": [
       "\\begin{description}\n",
       "\\item[{[[1]]}] 10\n",
       "\\item[\\$rescale] TRUE\n",
       "\\item[\\$offset] 0.0972279102177847\n",
       "\\item[\\$scale] 0.805544179564431\n",
       "\\item[\\$gmin] 0.690823978836833\n",
       "\\item[\\$gmax] 1.37503668701702\n",
       "\\end{description}\n"
      ],
      "text/markdown": [
       "[[1]]\n",
       ":   10\n",
       "$rescale\n",
       ":   TRUE\n",
       "$offset\n",
       ":   0.0972279102177847\n",
       "$scale\n",
       ":   0.805544179564431\n",
       "$gmin\n",
       ":   0.690823978836833\n",
       "$gmax\n",
       ":   1.37503668701702\n",
       "\n",
       "\n"
      ],
      "text/plain": [
       "[[1]]\n",
       "[1] 10\n",
       "\n",
       "$rescale\n",
       "[1] TRUE\n",
       "\n",
       "$offset\n",
       "[1] 0.09722791\n",
       "\n",
       "$scale\n",
       "[1] 0.8055442\n",
       "\n",
       "$gmin\n",
       "[1] 0.690824\n",
       "\n",
       "$gmax\n",
       "[1] 1.375037\n"
      ]
     },
     "metadata": {},
     "output_type": "display_data"
    }
   ],
   "source": [
    "# AN_setup extracts AN parameters\n",
    "AN <- AN_setup(tt$train)\n",
    "AN"
   ]
  },
  {
   "cell_type": "code",
   "execution_count": 90,
   "metadata": {},
   "outputs": [
    {
     "data": {
      "text/html": [
       "<table>\n",
       "<caption>A matrix: 6 × 9 of type dbl</caption>\n",
       "<thead>\n",
       "\t<tr><th scope=col>t9</th><th scope=col>t8</th><th scope=col>t7</th><th scope=col>t6</th><th scope=col>t5</th><th scope=col>t4</th><th scope=col>t3</th><th scope=col>t2</th><th scope=col>t1</th></tr>\n",
       "</thead>\n",
       "<tbody>\n",
       "\t<tr><td>2.158484</td><td>2.312962</td><td>2.459529</td><td>2.594481</td><td>2.714406</td><td>2.816273</td><td>2.897507</td><td>2.956056</td><td>2.990438</td></tr>\n",
       "\t<tr><td>2.312962</td><td>2.459529</td><td>2.594481</td><td>2.714406</td><td>2.816273</td><td>2.897507</td><td>2.956056</td><td>2.990438</td><td>2.999785</td></tr>\n",
       "\t<tr><td>2.459529</td><td>2.594481</td><td>2.714406</td><td>2.816273</td><td>2.897507</td><td>2.956056</td><td>2.990438</td><td>2.999785</td><td>2.983860</td></tr>\n",
       "\t<tr><td>2.594481</td><td>2.714406</td><td>2.816273</td><td>2.897507</td><td>2.956056</td><td>2.990438</td><td>2.999785</td><td>2.983860</td><td>2.943067</td></tr>\n",
       "\t<tr><td>2.714406</td><td>2.816273</td><td>2.897507</td><td>2.956056</td><td>2.990438</td><td>2.999785</td><td>2.983860</td><td>2.943067</td><td>2.878436</td></tr>\n",
       "\t<tr><td>2.816273</td><td>2.897507</td><td>2.956056</td><td>2.990438</td><td>2.999785</td><td>2.983860</td><td>2.943067</td><td>2.878436</td><td>2.791600</td></tr>\n",
       "</tbody>\n",
       "</table>\n"
      ],
      "text/latex": [
       "A matrix: 6 × 9 of type dbl\n",
       "\\begin{tabular}{lllllllll}\n",
       " t9 & t8 & t7 & t6 & t5 & t4 & t3 & t2 & t1\\\\\n",
       "\\hline\n",
       "\t 2.158484 & 2.312962 & 2.459529 & 2.594481 & 2.714406 & 2.816273 & 2.897507 & 2.956056 & 2.990438\\\\\n",
       "\t 2.312962 & 2.459529 & 2.594481 & 2.714406 & 2.816273 & 2.897507 & 2.956056 & 2.990438 & 2.999785\\\\\n",
       "\t 2.459529 & 2.594481 & 2.714406 & 2.816273 & 2.897507 & 2.956056 & 2.990438 & 2.999785 & 2.983860\\\\\n",
       "\t 2.594481 & 2.714406 & 2.816273 & 2.897507 & 2.956056 & 2.990438 & 2.999785 & 2.983860 & 2.943067\\\\\n",
       "\t 2.714406 & 2.816273 & 2.897507 & 2.956056 & 2.990438 & 2.999785 & 2.983860 & 2.943067 & 2.878436\\\\\n",
       "\t 2.816273 & 2.897507 & 2.956056 & 2.990438 & 2.999785 & 2.983860 & 2.943067 & 2.878436 & 2.791600\\\\\n",
       "\\end{tabular}\n"
      ],
      "text/markdown": [
       "\n",
       "A matrix: 6 × 9 of type dbl\n",
       "\n",
       "| t9 | t8 | t7 | t6 | t5 | t4 | t3 | t2 | t1 |\n",
       "|---|---|---|---|---|---|---|---|---|\n",
       "| 2.158484 | 2.312962 | 2.459529 | 2.594481 | 2.714406 | 2.816273 | 2.897507 | 2.956056 | 2.990438 |\n",
       "| 2.312962 | 2.459529 | 2.594481 | 2.714406 | 2.816273 | 2.897507 | 2.956056 | 2.990438 | 2.999785 |\n",
       "| 2.459529 | 2.594481 | 2.714406 | 2.816273 | 2.897507 | 2.956056 | 2.990438 | 2.999785 | 2.983860 |\n",
       "| 2.594481 | 2.714406 | 2.816273 | 2.897507 | 2.956056 | 2.990438 | 2.999785 | 2.983860 | 2.943067 |\n",
       "| 2.714406 | 2.816273 | 2.897507 | 2.956056 | 2.990438 | 2.999785 | 2.983860 | 2.943067 | 2.878436 |\n",
       "| 2.816273 | 2.897507 | 2.956056 | 2.990438 | 2.999785 | 2.983860 | 2.943067 | 2.878436 | 2.791600 |\n",
       "\n"
      ],
      "text/plain": [
       "     t9       t8       t7       t6       t5       t4       t3       t2      \n",
       "[1,] 2.158484 2.312962 2.459529 2.594481 2.714406 2.816273 2.897507 2.956056\n",
       "[2,] 2.312962 2.459529 2.594481 2.714406 2.816273 2.897507 2.956056 2.990438\n",
       "[3,] 2.459529 2.594481 2.714406 2.816273 2.897507 2.956056 2.990438 2.999785\n",
       "[4,] 2.594481 2.714406 2.816273 2.897507 2.956056 2.990438 2.999785 2.983860\n",
       "[5,] 2.714406 2.816273 2.897507 2.956056 2.990438 2.999785 2.983860 2.943067\n",
       "[6,] 2.816273 2.897507 2.956056 2.990438 2.999785 2.983860 2.943067 2.878436\n",
       "     t1      \n",
       "[1,] 2.990438\n",
       "[2,] 2.999785\n",
       "[3,] 2.983860\n",
       "[4,] 2.943067\n",
       "[5,] 2.878436\n",
       "[6,] 2.791600"
      ]
     },
     "metadata": {},
     "output_type": "display_data"
    },
    {
     "data": {
      "text/html": [
       "<style>\n",
       ".list-inline {list-style: none; margin:0; padding: 0}\n",
       ".list-inline>li {display: inline-block}\n",
       ".list-inline>li:not(:last-child)::after {content: \"\\00b7\"; padding: 0 .5ex}\n",
       "</style>\n",
       "<ol class=list-inline><li>2.99978466206346</li><li>2.98386015089645</li><li>2.94306673225695</li><li>2.87843553618179</li><li>2.79160023716583</li><li>2.68475575998025</li></ol>\n"
      ],
      "text/latex": [
       "\\begin{enumerate*}\n",
       "\\item 2.99978466206346\n",
       "\\item 2.98386015089645\n",
       "\\item 2.94306673225695\n",
       "\\item 2.87843553618179\n",
       "\\item 2.79160023716583\n",
       "\\item 2.68475575998025\n",
       "\\end{enumerate*}\n"
      ],
      "text/markdown": [
       "1. 2.99978466206346\n",
       "2. 2.98386015089645\n",
       "3. 2.94306673225695\n",
       "4. 2.87843553618179\n",
       "5. 2.79160023716583\n",
       "6. 2.68475575998025\n",
       "\n",
       "\n"
      ],
      "text/plain": [
       "[1] 2.999785 2.983860 2.943067 2.878436 2.791600 2.684756"
      ]
     },
     "metadata": {},
     "output_type": "display_data"
    }
   ],
   "source": [
    "# split sliding training data into input and output\n",
    "io <- ts_sw_project(tt$train)\n",
    "head(io$input)\n",
    "head(io$output)"
   ]
  },
  {
   "cell_type": "code",
   "execution_count": 91,
   "metadata": {},
   "outputs": [
    {
     "data": {
      "text/html": [
       "<table>\n",
       "<caption>A matrix: 6 × 9 of type dbl</caption>\n",
       "<thead>\n",
       "\t<tr><th scope=col>t9</th><th scope=col>t8</th><th scope=col>t7</th><th scope=col>t6</th><th scope=col>t5</th><th scope=col>t4</th><th scope=col>t3</th><th scope=col>t2</th><th scope=col>t1</th></tr>\n",
       "</thead>\n",
       "<tbody>\n",
       "\t<tr><td>0.2408500</td><td>0.3093367</td><td>0.3743164</td><td>0.4341464</td><td>0.4873144</td><td>0.5324765</td><td>0.5684913</td><td>0.5944482</td><td>0.6096913</td></tr>\n",
       "\t<tr><td>0.2744681</td><td>0.3372382</td><td>0.3950337</td><td>0.4463938</td><td>0.4900203</td><td>0.5248104</td><td>0.5498847</td><td>0.5646095</td><td>0.5686125</td></tr>\n",
       "\t<tr><td>0.3094295</td><td>0.3656992</td><td>0.4157034</td><td>0.4581781</td><td>0.4920498</td><td>0.5164621</td><td>0.5307981</td><td>0.5346954</td><td>0.5280555</td></tr>\n",
       "\t<tr><td>0.3454994</td><td>0.3945699</td><td>0.4362516</td><td>0.4694907</td><td>0.4934472</td><td>0.5075156</td><td>0.5113401</td><td>0.5048242</td><td>0.4881325</td></tr>\n",
       "\t<tr><td>0.3825233</td><td>0.4237528</td><td>0.4566314</td><td>0.4803281</td><td>0.4942438</td><td>0.4980269</td><td>0.4915816</td><td>0.4750710</td><td>0.4489123</td></tr>\n",
       "\t<tr><td>0.4204017</td><td>0.4531836</td><td>0.4768107</td><td>0.4906855</td><td>0.4944574</td><td>0.4880311</td><td>0.4715690</td><td>0.4454872</td><td>0.4104450</td></tr>\n",
       "</tbody>\n",
       "</table>\n"
      ],
      "text/latex": [
       "A matrix: 6 × 9 of type dbl\n",
       "\\begin{tabular}{lllllllll}\n",
       " t9 & t8 & t7 & t6 & t5 & t4 & t3 & t2 & t1\\\\\n",
       "\\hline\n",
       "\t 0.2408500 & 0.3093367 & 0.3743164 & 0.4341464 & 0.4873144 & 0.5324765 & 0.5684913 & 0.5944482 & 0.6096913\\\\\n",
       "\t 0.2744681 & 0.3372382 & 0.3950337 & 0.4463938 & 0.4900203 & 0.5248104 & 0.5498847 & 0.5646095 & 0.5686125\\\\\n",
       "\t 0.3094295 & 0.3656992 & 0.4157034 & 0.4581781 & 0.4920498 & 0.5164621 & 0.5307981 & 0.5346954 & 0.5280555\\\\\n",
       "\t 0.3454994 & 0.3945699 & 0.4362516 & 0.4694907 & 0.4934472 & 0.5075156 & 0.5113401 & 0.5048242 & 0.4881325\\\\\n",
       "\t 0.3825233 & 0.4237528 & 0.4566314 & 0.4803281 & 0.4942438 & 0.4980269 & 0.4915816 & 0.4750710 & 0.4489123\\\\\n",
       "\t 0.4204017 & 0.4531836 & 0.4768107 & 0.4906855 & 0.4944574 & 0.4880311 & 0.4715690 & 0.4454872 & 0.4104450\\\\\n",
       "\\end{tabular}\n"
      ],
      "text/markdown": [
       "\n",
       "A matrix: 6 × 9 of type dbl\n",
       "\n",
       "| t9 | t8 | t7 | t6 | t5 | t4 | t3 | t2 | t1 |\n",
       "|---|---|---|---|---|---|---|---|---|\n",
       "| 0.2408500 | 0.3093367 | 0.3743164 | 0.4341464 | 0.4873144 | 0.5324765 | 0.5684913 | 0.5944482 | 0.6096913 |\n",
       "| 0.2744681 | 0.3372382 | 0.3950337 | 0.4463938 | 0.4900203 | 0.5248104 | 0.5498847 | 0.5646095 | 0.5686125 |\n",
       "| 0.3094295 | 0.3656992 | 0.4157034 | 0.4581781 | 0.4920498 | 0.5164621 | 0.5307981 | 0.5346954 | 0.5280555 |\n",
       "| 0.3454994 | 0.3945699 | 0.4362516 | 0.4694907 | 0.4934472 | 0.5075156 | 0.5113401 | 0.5048242 | 0.4881325 |\n",
       "| 0.3825233 | 0.4237528 | 0.4566314 | 0.4803281 | 0.4942438 | 0.4980269 | 0.4915816 | 0.4750710 | 0.4489123 |\n",
       "| 0.4204017 | 0.4531836 | 0.4768107 | 0.4906855 | 0.4944574 | 0.4880311 | 0.4715690 | 0.4454872 | 0.4104450 |\n",
       "\n"
      ],
      "text/plain": [
       "     t9        t8        t7        t6        t5        t4        t3       \n",
       "[1,] 0.2408500 0.3093367 0.3743164 0.4341464 0.4873144 0.5324765 0.5684913\n",
       "[2,] 0.2744681 0.3372382 0.3950337 0.4463938 0.4900203 0.5248104 0.5498847\n",
       "[3,] 0.3094295 0.3656992 0.4157034 0.4581781 0.4920498 0.5164621 0.5307981\n",
       "[4,] 0.3454994 0.3945699 0.4362516 0.4694907 0.4934472 0.5075156 0.5113401\n",
       "[5,] 0.3825233 0.4237528 0.4566314 0.4803281 0.4942438 0.4980269 0.4915816\n",
       "[6,] 0.4204017 0.4531836 0.4768107 0.4906855 0.4944574 0.4880311 0.4715690\n",
       "     t2        t1       \n",
       "[1,] 0.5944482 0.6096913\n",
       "[2,] 0.5646095 0.5686125\n",
       "[3,] 0.5346954 0.5280555\n",
       "[4,] 0.5048242 0.4881325\n",
       "[5,] 0.4750710 0.4489123\n",
       "[6,] 0.4454872 0.4104450"
      ]
     },
     "metadata": {},
     "output_type": "display_data"
    }
   ],
   "source": [
    "# normalize input data for training. \n",
    "input <- AN_normalize(AN,io$input)\n",
    "head(input$x)"
   ]
  },
  {
   "cell_type": "code",
   "execution_count": 92,
   "metadata": {},
   "outputs": [
    {
     "data": {
      "text/html": [
       "<style>\n",
       ".list-inline {list-style: none; margin:0; padding: 0}\n",
       ".list-inline>li {display: inline-block}\n",
       ".list-inline>li:not(:last-child)::after {content: \"\\00b7\"; padding: 0 .5ex}\n",
       "</style>\n",
       "<ol class=list-inline><li>0.613835209646513</li><li>0.561792511087832</li><li>0.511046217580632</li><li>0.461686934463157</li><li>0.413766738026592</li><li>0.367328103594569</li></ol>\n"
      ],
      "text/latex": [
       "\\begin{enumerate*}\n",
       "\\item 0.613835209646513\n",
       "\\item 0.561792511087832\n",
       "\\item 0.511046217580632\n",
       "\\item 0.461686934463157\n",
       "\\item 0.413766738026592\n",
       "\\item 0.367328103594569\n",
       "\\end{enumerate*}\n"
      ],
      "text/markdown": [
       "1. 0.613835209646513\n",
       "2. 0.561792511087832\n",
       "3. 0.511046217580632\n",
       "4. 0.461686934463157\n",
       "5. 0.413766738026592\n",
       "6. 0.367328103594569\n",
       "\n",
       "\n"
      ],
      "text/plain": [
       "[1] 0.6138352 0.5617925 0.5110462 0.4616869 0.4137667 0.3673281"
      ]
     },
     "metadata": {},
     "output_type": "display_data"
    }
   ],
   "source": [
    "# normalize output data for training - see that input$arguments is passing the inertia an. \n",
    "output <- AN_normalize(AN, io$output, arguments=input$arguments)\n",
    "head(output$x)"
   ]
  },
  {
   "cell_type": "code",
   "execution_count": 93,
   "metadata": {},
   "outputs": [
    {
     "name": "stdout",
     "output_type": "stream",
     "text": [
      "[1] \"i=[0.097,0.903] - o=[0.036,1.036]\"\n"
     ]
    }
   ],
   "source": [
    "# check the scale of input to output\n",
    "print(sprintf(\"i=[%.3f,%.3f] - o=[%.3f,%.3f]\", min(input$x), max(input$x), min(output$x), max(output$x)))"
   ]
  },
  {
   "cell_type": "code",
   "execution_count": 94,
   "metadata": {},
   "outputs": [
    {
     "data": {
      "image/png": "[encoded data removed]",
      "text/plain": [
       "Plot with title \"AN: output during training\""
      ]
     },
     "metadata": {
      "image/png": {
       "height": 420,
       "width": 420
      }
     },
     "output_type": "display_data"
    }
   ],
   "source": [
    "# check normalization of output used during training. Later try to increase sw_size in the beginning to see the effect. \n",
    "plot(output$x, main=\"AN: output during training\")"
   ]
  },
  {
   "cell_type": "code",
   "execution_count": 95,
   "metadata": {},
   "outputs": [
    {
     "name": "stdout",
     "output_type": "stream",
     "text": [
      "[1] \"i=0.000 - o=0.000\"\n"
     ]
    }
   ],
   "source": [
    "# denormilize training data just to see if it is working. \n",
    "input_org <- AN_denormalize(AN, input$x, arguments=input$arguments)\n",
    "output_org <- AN_denormalize(AN, output$x, arguments=input$arguments)\n",
    "print(sprintf(\"i=%.3f - o=%.3f\", abs(mean(input_org$x-io$input)), abs(mean(output_org$x-io$output))))"
   ]
  },
  {
   "cell_type": "code",
   "execution_count": 96,
   "metadata": {},
   "outputs": [
    {
     "name": "stdout",
     "output_type": "stream",
     "text": [
      "# weights:  36\n",
      "initial  value 9.723328 \n",
      "iter  10 value 0.704392\n",
      "iter  20 value 0.129457\n",
      "iter  30 value 0.102619\n",
      "iter  40 value 0.054747\n",
      "iter  50 value 0.040267\n",
      "iter  60 value 0.028969\n",
      "iter  70 value 0.027597\n",
      "iter  80 value 0.027092\n",
      "iter  90 value 0.024049\n",
      "iter 100 value 0.016828\n",
      "final  value 0.016828 \n",
      "stopped after 100 iterations\n"
     ]
    }
   ],
   "source": [
    "#train a neural network model using last five lags\n",
    "library(nnet)\n",
    "mdl <- nnet(ts_as_matrix(input$x, 5), output$x, size=5)"
   ]
  },
  {
   "cell_type": "code",
   "execution_count": 97,
   "metadata": {},
   "outputs": [
    {
     "data": {
      "text/html": [
       "<table>\n",
       "<caption>A matrix: 6 × 9 of type dbl</caption>\n",
       "<thead>\n",
       "\t<tr><th scope=col>t9</th><th scope=col>t8</th><th scope=col>t7</th><th scope=col>t6</th><th scope=col>t5</th><th scope=col>t4</th><th scope=col>t3</th><th scope=col>t2</th><th scope=col>t1</th></tr>\n",
       "</thead>\n",
       "<tbody>\n",
       "\t<tr><td>2.165263</td><td>2.319479</td><td>2.465620</td><td>2.599991</td><td>2.719196</td><td>2.820222</td><td>2.900516</td><td>2.958047</td><td>2.991362</td></tr>\n",
       "\t<tr><td>2.319479</td><td>2.465620</td><td>2.599991</td><td>2.719196</td><td>2.820222</td><td>2.900516</td><td>2.958047</td><td>2.991362</td><td>2.999619</td></tr>\n",
       "\t<tr><td>2.465620</td><td>2.599991</td><td>2.719196</td><td>2.820222</td><td>2.900516</td><td>2.958047</td><td>2.991362</td><td>2.999619</td><td>2.982608</td></tr>\n",
       "\t<tr><td>2.599991</td><td>2.719196</td><td>2.820222</td><td>2.900516</td><td>2.958047</td><td>2.991362</td><td>2.999619</td><td>2.982608</td><td>2.940760</td></tr>\n",
       "\t<tr><td>2.719196</td><td>2.820222</td><td>2.900516</td><td>2.958047</td><td>2.991362</td><td>2.999619</td><td>2.982608</td><td>2.940760</td><td>2.875132</td></tr>\n",
       "\t<tr><td>2.820222</td><td>2.900516</td><td>2.958047</td><td>2.991362</td><td>2.999619</td><td>2.982608</td><td>2.940760</td><td>2.875132</td><td>2.787384</td></tr>\n",
       "</tbody>\n",
       "</table>\n"
      ],
      "text/latex": [
       "A matrix: 6 × 9 of type dbl\n",
       "\\begin{tabular}{lllllllll}\n",
       " t9 & t8 & t7 & t6 & t5 & t4 & t3 & t2 & t1\\\\\n",
       "\\hline\n",
       "\t 2.165263 & 2.319479 & 2.465620 & 2.599991 & 2.719196 & 2.820222 & 2.900516 & 2.958047 & 2.991362\\\\\n",
       "\t 2.319479 & 2.465620 & 2.599991 & 2.719196 & 2.820222 & 2.900516 & 2.958047 & 2.991362 & 2.999619\\\\\n",
       "\t 2.465620 & 2.599991 & 2.719196 & 2.820222 & 2.900516 & 2.958047 & 2.991362 & 2.999619 & 2.982608\\\\\n",
       "\t 2.599991 & 2.719196 & 2.820222 & 2.900516 & 2.958047 & 2.991362 & 2.999619 & 2.982608 & 2.940760\\\\\n",
       "\t 2.719196 & 2.820222 & 2.900516 & 2.958047 & 2.991362 & 2.999619 & 2.982608 & 2.940760 & 2.875132\\\\\n",
       "\t 2.820222 & 2.900516 & 2.958047 & 2.991362 & 2.999619 & 2.982608 & 2.940760 & 2.875132 & 2.787384\\\\\n",
       "\\end{tabular}\n"
      ],
      "text/markdown": [
       "\n",
       "A matrix: 6 × 9 of type dbl\n",
       "\n",
       "| t9 | t8 | t7 | t6 | t5 | t4 | t3 | t2 | t1 |\n",
       "|---|---|---|---|---|---|---|---|---|\n",
       "| 2.165263 | 2.319479 | 2.465620 | 2.599991 | 2.719196 | 2.820222 | 2.900516 | 2.958047 | 2.991362 |\n",
       "| 2.319479 | 2.465620 | 2.599991 | 2.719196 | 2.820222 | 2.900516 | 2.958047 | 2.991362 | 2.999619 |\n",
       "| 2.465620 | 2.599991 | 2.719196 | 2.820222 | 2.900516 | 2.958047 | 2.991362 | 2.999619 | 2.982608 |\n",
       "| 2.599991 | 2.719196 | 2.820222 | 2.900516 | 2.958047 | 2.991362 | 2.999619 | 2.982608 | 2.940760 |\n",
       "| 2.719196 | 2.820222 | 2.900516 | 2.958047 | 2.991362 | 2.999619 | 2.982608 | 2.940760 | 2.875132 |\n",
       "| 2.820222 | 2.900516 | 2.958047 | 2.991362 | 2.999619 | 2.982608 | 2.940760 | 2.875132 | 2.787384 |\n",
       "\n"
      ],
      "text/plain": [
       "     t9       t8       t7       t6       t5       t4       t3       t2      \n",
       "[1,] 2.165263 2.319479 2.465620 2.599991 2.719196 2.820222 2.900516 2.958047\n",
       "[2,] 2.319479 2.465620 2.599991 2.719196 2.820222 2.900516 2.958047 2.991362\n",
       "[3,] 2.465620 2.599991 2.719196 2.820222 2.900516 2.958047 2.991362 2.999619\n",
       "[4,] 2.599991 2.719196 2.820222 2.900516 2.958047 2.991362 2.999619 2.982608\n",
       "[5,] 2.719196 2.820222 2.900516 2.958047 2.991362 2.999619 2.982608 2.940760\n",
       "[6,] 2.820222 2.900516 2.958047 2.991362 2.999619 2.982608 2.940760 2.875132\n",
       "     t1      \n",
       "[1,] 2.991362\n",
       "[2,] 2.999619\n",
       "[3,] 2.982608\n",
       "[4,] 2.940760\n",
       "[5,] 2.875132\n",
       "[6,] 2.787384"
      ]
     },
     "metadata": {},
     "output_type": "display_data"
    },
    {
     "data": {
      "text/html": [
       "<style>\n",
       ".list-inline {list-style: none; margin:0; padding: 0}\n",
       ".list-inline>li {display: inline-block}\n",
       ".list-inline>li:not(:last-child)::after {content: \"\\00b7\"; padding: 0 .5ex}\n",
       "</style>\n",
       "<ol class=list-inline><li>2.99961850935888</li><li>2.98260765187311</li><li>2.94075954617281</li><li>2.87513198148506</li><li>2.78738381738697</li><li>2.6797330530239</li></ol>\n"
      ],
      "text/latex": [
       "\\begin{enumerate*}\n",
       "\\item 2.99961850935888\n",
       "\\item 2.98260765187311\n",
       "\\item 2.94075954617281\n",
       "\\item 2.87513198148506\n",
       "\\item 2.78738381738697\n",
       "\\item 2.6797330530239\n",
       "\\end{enumerate*}\n"
      ],
      "text/markdown": [
       "1. 2.99961850935888\n",
       "2. 2.98260765187311\n",
       "3. 2.94075954617281\n",
       "4. 2.87513198148506\n",
       "5. 2.78738381738697\n",
       "6. 2.6797330530239\n",
       "\n",
       "\n"
      ],
      "text/plain": [
       "[1] 2.999619 2.982608 2.940760 2.875132 2.787384 2.679733"
      ]
     },
     "metadata": {},
     "output_type": "display_data"
    }
   ],
   "source": [
    "#separate test data into input and output\n",
    "io <- ts_sw_project(tt$test)\n",
    "head(io$input)\n",
    "head(io$output)"
   ]
  },
  {
   "cell_type": "code",
   "execution_count": 98,
   "metadata": {},
   "outputs": [
    {
     "data": {
      "text/html": [
       "<table>\n",
       "<caption>A matrix: 6 × 9 of type dbl</caption>\n",
       "<thead>\n",
       "\t<tr><th scope=col>t9</th><th scope=col>t8</th><th scope=col>t7</th><th scope=col>t6</th><th scope=col>t5</th><th scope=col>t4</th><th scope=col>t3</th><th scope=col>t2</th><th scope=col>t1</th></tr>\n",
       "</thead>\n",
       "<tbody>\n",
       "\t<tr><td>0.2422691</td><td>0.3105268</td><td>0.3752102</td><td>0.4346843</td><td>0.4874459</td><td>0.5321612</td><td>0.5677000</td><td>0.5931640</td><td>0.6079095</td></tr>\n",
       "\t<tr><td>0.2759515</td><td>0.3384564</td><td>0.3959275</td><td>0.4469122</td><td>0.4901215</td><td>0.5244634</td><td>0.5490698</td><td>0.5633188</td><td>0.5668500</td></tr>\n",
       "\t<tr><td>0.3109649</td><td>0.3669378</td><td>0.4165933</td><td>0.4586762</td><td>0.4921229</td><td>0.5160878</td><td>0.5299653</td><td>0.5334045</td><td>0.5263185</td></tr>\n",
       "\t<tr><td>0.3470787</td><td>0.3958237</td><td>0.4371350</td><td>0.4699683</td><td>0.4934938</td><td>0.5071169</td><td>0.5104930</td><td>0.5035370</td><td>0.4864246</td></tr>\n",
       "\t<tr><td>0.3841412</td><td>0.4250184</td><td>0.4575068</td><td>0.4807851</td><td>0.4942650</td><td>0.4976057</td><td>0.4907228</td><td>0.4737902</td><td>0.4472360</td></tr>\n",
       "\t<tr><td>0.4220549</td><td>0.4544589</td><td>0.4776767</td><td>0.4911216</td><td>0.4944536</td><td>0.4875886</td><td>0.4707000</td><td>0.4442147</td><td>0.4088022</td></tr>\n",
       "</tbody>\n",
       "</table>\n"
      ],
      "text/latex": [
       "A matrix: 6 × 9 of type dbl\n",
       "\\begin{tabular}{lllllllll}\n",
       " t9 & t8 & t7 & t6 & t5 & t4 & t3 & t2 & t1\\\\\n",
       "\\hline\n",
       "\t 0.2422691 & 0.3105268 & 0.3752102 & 0.4346843 & 0.4874459 & 0.5321612 & 0.5677000 & 0.5931640 & 0.6079095\\\\\n",
       "\t 0.2759515 & 0.3384564 & 0.3959275 & 0.4469122 & 0.4901215 & 0.5244634 & 0.5490698 & 0.5633188 & 0.5668500\\\\\n",
       "\t 0.3109649 & 0.3669378 & 0.4165933 & 0.4586762 & 0.4921229 & 0.5160878 & 0.5299653 & 0.5334045 & 0.5263185\\\\\n",
       "\t 0.3470787 & 0.3958237 & 0.4371350 & 0.4699683 & 0.4934938 & 0.5071169 & 0.5104930 & 0.5035370 & 0.4864246\\\\\n",
       "\t 0.3841412 & 0.4250184 & 0.4575068 & 0.4807851 & 0.4942650 & 0.4976057 & 0.4907228 & 0.4737902 & 0.4472360\\\\\n",
       "\t 0.4220549 & 0.4544589 & 0.4776767 & 0.4911216 & 0.4944536 & 0.4875886 & 0.4707000 & 0.4442147 & 0.4088022\\\\\n",
       "\\end{tabular}\n"
      ],
      "text/markdown": [
       "\n",
       "A matrix: 6 × 9 of type dbl\n",
       "\n",
       "| t9 | t8 | t7 | t6 | t5 | t4 | t3 | t2 | t1 |\n",
       "|---|---|---|---|---|---|---|---|---|\n",
       "| 0.2422691 | 0.3105268 | 0.3752102 | 0.4346843 | 0.4874459 | 0.5321612 | 0.5677000 | 0.5931640 | 0.6079095 |\n",
       "| 0.2759515 | 0.3384564 | 0.3959275 | 0.4469122 | 0.4901215 | 0.5244634 | 0.5490698 | 0.5633188 | 0.5668500 |\n",
       "| 0.3109649 | 0.3669378 | 0.4165933 | 0.4586762 | 0.4921229 | 0.5160878 | 0.5299653 | 0.5334045 | 0.5263185 |\n",
       "| 0.3470787 | 0.3958237 | 0.4371350 | 0.4699683 | 0.4934938 | 0.5071169 | 0.5104930 | 0.5035370 | 0.4864246 |\n",
       "| 0.3841412 | 0.4250184 | 0.4575068 | 0.4807851 | 0.4942650 | 0.4976057 | 0.4907228 | 0.4737902 | 0.4472360 |\n",
       "| 0.4220549 | 0.4544589 | 0.4776767 | 0.4911216 | 0.4944536 | 0.4875886 | 0.4707000 | 0.4442147 | 0.4088022 |\n",
       "\n"
      ],
      "text/plain": [
       "     t9        t8        t7        t6        t5        t4        t3       \n",
       "[1,] 0.2422691 0.3105268 0.3752102 0.4346843 0.4874459 0.5321612 0.5677000\n",
       "[2,] 0.2759515 0.3384564 0.3959275 0.4469122 0.4901215 0.5244634 0.5490698\n",
       "[3,] 0.3109649 0.3669378 0.4165933 0.4586762 0.4921229 0.5160878 0.5299653\n",
       "[4,] 0.3470787 0.3958237 0.4371350 0.4699683 0.4934938 0.5071169 0.5104930\n",
       "[5,] 0.3841412 0.4250184 0.4575068 0.4807851 0.4942650 0.4976057 0.4907228\n",
       "[6,] 0.4220549 0.4544589 0.4776767 0.4911216 0.4944536 0.4875886 0.4707000\n",
       "     t2        t1       \n",
       "[1,] 0.5931640 0.6079095\n",
       "[2,] 0.5633188 0.5668500\n",
       "[3,] 0.5334045 0.5263185\n",
       "[4,] 0.5035370 0.4864246\n",
       "[5,] 0.4737902 0.4472360\n",
       "[6,] 0.4442147 0.4088022"
      ]
     },
     "metadata": {},
     "output_type": "display_data"
    }
   ],
   "source": [
    "# normalize test data. \n",
    "input <- AN_normalize(AN, io$input)\n",
    "head(input$x)"
   ]
  },
  {
   "cell_type": "code",
   "execution_count": 99,
   "metadata": {},
   "outputs": [
    {
     "data": {
      "text/html": [
       "<table>\n",
       "<caption>A matrix: 6 × 1 of type dbl</caption>\n",
       "<tbody>\n",
       "\t<tr><td>0.6160758</td></tr>\n",
       "\t<tr><td>0.5619682</td></tr>\n",
       "\t<tr><td>0.5072663</td></tr>\n",
       "\t<tr><td>0.4532633</td></tr>\n",
       "\t<tr><td>0.4012487</td></tr>\n",
       "\t<tr><td>0.3523170</td></tr>\n",
       "</tbody>\n",
       "</table>\n"
      ],
      "text/latex": [
       "A matrix: 6 × 1 of type dbl\n",
       "\\begin{tabular}{l}\n",
       "\t 0.6160758\\\\\n",
       "\t 0.5619682\\\\\n",
       "\t 0.5072663\\\\\n",
       "\t 0.4532633\\\\\n",
       "\t 0.4012487\\\\\n",
       "\t 0.3523170\\\\\n",
       "\\end{tabular}\n"
      ],
      "text/markdown": [
       "\n",
       "A matrix: 6 × 1 of type dbl\n",
       "\n",
       "| 0.6160758 |\n",
       "| 0.5619682 |\n",
       "| 0.5072663 |\n",
       "| 0.4532633 |\n",
       "| 0.4012487 |\n",
       "| 0.3523170 |\n",
       "\n"
      ],
      "text/plain": [
       "     [,1]     \n",
       "[1,] 0.6160758\n",
       "[2,] 0.5619682\n",
       "[3,] 0.5072663\n",
       "[4,] 0.4532633\n",
       "[5,] 0.4012487\n",
       "[6,] 0.3523170"
      ]
     },
     "metadata": {},
     "output_type": "display_data"
    }
   ],
   "source": [
    "pred_norm <- predict(mdl, ts_as_matrix(input$x, 5))\n",
    "head(pred_norm)"
   ]
  },
  {
   "cell_type": "code",
   "execution_count": 100,
   "metadata": {},
   "outputs": [
    {
     "data": {
      "text/html": [
       "<table>\n",
       "<caption>A matrix: 6 × 1 of type dbl</caption>\n",
       "<tbody>\n",
       "\t<tr><td>3.009812</td></tr>\n",
       "\t<tr><td>2.988204</td></tr>\n",
       "\t<tr><td>2.936870</td></tr>\n",
       "\t<tr><td>2.859664</td></tr>\n",
       "\t<tr><td>2.761477</td></tr>\n",
       "\t<tr><td>2.647420</td></tr>\n",
       "</tbody>\n",
       "</table>\n"
      ],
      "text/latex": [
       "A matrix: 6 × 1 of type dbl\n",
       "\\begin{tabular}{l}\n",
       "\t 3.009812\\\\\n",
       "\t 2.988204\\\\\n",
       "\t 2.936870\\\\\n",
       "\t 2.859664\\\\\n",
       "\t 2.761477\\\\\n",
       "\t 2.647420\\\\\n",
       "\\end{tabular}\n"
      ],
      "text/markdown": [
       "\n",
       "A matrix: 6 × 1 of type dbl\n",
       "\n",
       "| 3.009812 |\n",
       "| 2.988204 |\n",
       "| 2.936870 |\n",
       "| 2.859664 |\n",
       "| 2.761477 |\n",
       "| 2.647420 |\n",
       "\n"
      ],
      "text/plain": [
       "     [,1]    \n",
       "[1,] 3.009812\n",
       "[2,] 2.988204\n",
       "[3,] 2.936870\n",
       "[4,] 2.859664\n",
       "[5,] 2.761477\n",
       "[6,] 2.647420"
      ]
     },
     "metadata": {},
     "output_type": "display_data"
    }
   ],
   "source": [
    "#denormalize predicted output\n",
    "pred <- AN_denormalize(AN, pred_norm, arguments=input$arguments)\n",
    "head(pred$x)\n"
   ]
  },
  {
   "cell_type": "code",
   "execution_count": 101,
   "metadata": {},
   "outputs": [
    {
     "data": {
      "image/png": "[encoded data removed]",
      "text/plain": [
       "Plot with title \"prediction\""
      ]
     },
     "metadata": {
      "image/png": {
       "height": 420,
       "width": 420
      }
     },
     "output_type": "display_data"
    }
   ],
   "source": [
    "#plot ouput and predicted output \n",
    "plot(io$output, main=\"prediction\")\n",
    "lines(pred$x, col=\"red\")"
   ]
  },
  {
   "cell_type": "code",
   "execution_count": null,
   "metadata": {},
   "outputs": [],
   "source": []
  }
 ],
 "metadata": {
  "kernelspec": {
   "display_name": "R",
   "language": "R",
   "name": "ir"
  },
  "language_info": {
   "codemirror_mode": "r",
   "file_extension": ".r",
   "mimetype": "text/x-r-source",
   "name": "R",
   "pygments_lexer": "r",
   "version": "3.6.0"
  }
 },
 "nbformat": 4,
 "nbformat_minor": 2
}
