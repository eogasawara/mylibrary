{
 "cells": [
  {
   "cell_type": "markdown",
   "metadata": {},
   "source": [
    "# Data Preprocessing\n",
    "## Library and dataset loading\n"
   ]
  },
  {
   "cell_type": "markdown",
   "metadata": {},
   "source": [
    "## Sampling\n",
    "Comparing random sampling with stratified sampling.\n"
   ]
  },
  {
   "cell_type": "code",
   "execution_count": 17,
   "metadata": {},
   "outputs": [
    {
     "data": {
      "text/html": [
       "<table>\n",
       "<thead><tr><th></th><th scope=col>Sepal.Length</th><th scope=col>Sepal.Width</th><th scope=col>Petal.Length</th><th scope=col>Petal.Width</th><th scope=col>Species</th></tr></thead>\n",
       "<tbody>\n",
       "\t<tr><th scope=row>51</th><td>7.0       </td><td>3.2       </td><td>4.7       </td><td>1.4       </td><td>versicolor</td></tr>\n",
       "\t<tr><th scope=row>88</th><td>6.3       </td><td>2.3       </td><td>4.4       </td><td>1.3       </td><td>versicolor</td></tr>\n",
       "\t<tr><th scope=row>139</th><td>6.0       </td><td>3.0       </td><td>4.8       </td><td>1.8       </td><td>virginica </td></tr>\n",
       "\t<tr><th scope=row>82</th><td>5.5       </td><td>2.4       </td><td>3.7       </td><td>1.0       </td><td>versicolor</td></tr>\n",
       "\t<tr><th scope=row>86</th><td>6.0       </td><td>3.4       </td><td>4.5       </td><td>1.6       </td><td>versicolor</td></tr>\n",
       "\t<tr><th scope=row>69</th><td>6.2       </td><td>2.2       </td><td>4.5       </td><td>1.5       </td><td>versicolor</td></tr>\n",
       "</tbody>\n",
       "</table>\n"
      ],
      "text/latex": [
       "\\begin{tabular}{r|lllll}\n",
       "  & Sepal.Length & Sepal.Width & Petal.Length & Petal.Width & Species\\\\\n",
       "\\hline\n",
       "\t51 & 7.0        & 3.2        & 4.7        & 1.4        & versicolor\\\\\n",
       "\t88 & 6.3        & 2.3        & 4.4        & 1.3        & versicolor\\\\\n",
       "\t139 & 6.0        & 3.0        & 4.8        & 1.8        & virginica \\\\\n",
       "\t82 & 5.5        & 2.4        & 3.7        & 1.0        & versicolor\\\\\n",
       "\t86 & 6.0        & 3.4        & 4.5        & 1.6        & versicolor\\\\\n",
       "\t69 & 6.2        & 2.2        & 4.5        & 1.5        & versicolor\\\\\n",
       "\\end{tabular}\n"
      ],
      "text/markdown": [
       "\n",
       "| <!--/--> | Sepal.Length | Sepal.Width | Petal.Length | Petal.Width | Species |\n",
       "|---|---|---|---|---|---|\n",
       "| 51 | 7.0        | 3.2        | 4.7        | 1.4        | versicolor |\n",
       "| 88 | 6.3        | 2.3        | 4.4        | 1.3        | versicolor |\n",
       "| 139 | 6.0        | 3.0        | 4.8        | 1.8        | virginica  |\n",
       "| 82 | 5.5        | 2.4        | 3.7        | 1.0        | versicolor |\n",
       "| 86 | 6.0        | 3.4        | 4.5        | 1.6        | versicolor |\n",
       "| 69 | 6.2        | 2.2        | 4.5        | 1.5        | versicolor |\n",
       "\n"
      ],
      "text/plain": [
       "    Sepal.Length Sepal.Width Petal.Length Petal.Width Species   \n",
       "51  7.0          3.2         4.7          1.4         versicolor\n",
       "88  6.3          2.3         4.4          1.3         versicolor\n",
       "139 6.0          3.0         4.8          1.8         virginica \n",
       "82  5.5          2.4         3.7          1.0         versicolor\n",
       "86  6.0          3.4         4.5          1.6         versicolor\n",
       "69  6.2          2.2         4.5          1.5         versicolor"
      ]
     },
     "metadata": {},
     "output_type": "display_data"
    },
    {
     "data": {
      "text/html": [
       "<table>\n",
       "<thead><tr><th></th><th scope=col>setosa</th><th scope=col>versicolor</th><th scope=col>virginica</th></tr></thead>\n",
       "<tbody>\n",
       "\t<tr><th scope=row>dataset</th><td>50</td><td>50</td><td>50</td></tr>\n",
       "\t<tr><th scope=row>random sample</th><td>38</td><td>43</td><td>39</td></tr>\n",
       "\t<tr><th scope=row>stratified sample</th><td>40</td><td>40</td><td>40</td></tr>\n",
       "</tbody>\n",
       "</table>\n"
      ],
      "text/latex": [
       "\\begin{tabular}{r|lll}\n",
       "  & setosa & versicolor & virginica\\\\\n",
       "\\hline\n",
       "\tdataset & 50 & 50 & 50\\\\\n",
       "\trandom sample & 38 & 43 & 39\\\\\n",
       "\tstratified sample & 40 & 40 & 40\\\\\n",
       "\\end{tabular}\n"
      ],
      "text/markdown": [
       "\n",
       "| <!--/--> | setosa | versicolor | virginica |\n",
       "|---|---|---|---|\n",
       "| dataset | 50 | 50 | 50 |\n",
       "| random sample | 38 | 43 | 39 |\n",
       "| stratified sample | 40 | 40 | 40 |\n",
       "\n"
      ],
      "text/plain": [
       "                  setosa versicolor virginica\n",
       "dataset           50     50         50       \n",
       "random sample     38     43         39       \n",
       "stratified sample 40     40         40       "
      ]
     },
     "metadata": {},
     "output_type": "display_data"
    },
    {
     "data": {
      "text/html": [
       "<table>\n",
       "<thead><tr><th></th><th scope=col>setosa</th><th scope=col>versicolor</th><th scope=col>virginica</th></tr></thead>\n",
       "<tbody>\n",
       "\t<tr><th scope=row>random sample</th><td>12</td><td> 7</td><td>11</td></tr>\n",
       "\t<tr><th scope=row>stratified sample</th><td>10</td><td>10</td><td>10</td></tr>\n",
       "</tbody>\n",
       "</table>\n"
      ],
      "text/latex": [
       "\\begin{tabular}{r|lll}\n",
       "  & setosa & versicolor & virginica\\\\\n",
       "\\hline\n",
       "\trandom sample & 12 &  7 & 11\\\\\n",
       "\tstratified sample & 10 & 10 & 10\\\\\n",
       "\\end{tabular}\n"
      ],
      "text/markdown": [
       "\n",
       "| <!--/--> | setosa | versicolor | virginica |\n",
       "|---|---|---|---|\n",
       "| random sample | 12 |  7 | 11 |\n",
       "| stratified sample | 10 | 10 | 10 |\n",
       "\n"
      ],
      "text/plain": [
       "                  setosa versicolor virginica\n",
       "random sample     12      7         11       \n",
       "stratified sample 10     10         10       "
      ]
     },
     "metadata": {},
     "output_type": "display_data"
    }
   ],
   "source": [
    "sampler <- sample.random(iris)\n",
    "head(sampler$sample)\n",
    "\n",
    "samples <- sample.stratified(iris, \"Species\")\n",
    "\n",
    "tbl <- rbind(table(iris$Species), table(sampler$sample$Species), table(samples$sample$Species))\n",
    "rownames(tbl) <- c(\"dataset\", \"random sample\", \"stratified sample\")\n",
    "head(tbl)\n",
    "\n",
    "tbl <- tbl[1,]-tbl\n",
    "\n",
    "tbl <- tbl[2:3,]\n",
    "\n",
    "head(tbl)"
   ]
  },
  {
   "cell_type": "markdown",
   "metadata": {},
   "source": [
    "## Sampling data into folds\n",
    "Sampling k-folds with random and stratified techniques. \n"
   ]
  },
  {
   "cell_type": "code",
   "execution_count": 18,
   "metadata": {},
   "outputs": [
    {
     "data": {
      "text/html": [
       "<table>\n",
       "<thead><tr><th></th><th scope=col>setosa</th><th scope=col>versicolor</th><th scope=col>virginica</th></tr></thead>\n",
       "<tbody>\n",
       "\t<tr><th scope=row>random sampling</th><td>12</td><td>12</td><td>13</td></tr>\n",
       "\t<tr><th scope=row>random sampling</th><td>15</td><td> 9</td><td>13</td></tr>\n",
       "\t<tr><th scope=row>random sampling</th><td>12</td><td>11</td><td>15</td></tr>\n",
       "\t<tr><th scope=row>random sampling</th><td>11</td><td>18</td><td> 9</td></tr>\n",
       "</tbody>\n",
       "</table>\n"
      ],
      "text/latex": [
       "\\begin{tabular}{r|lll}\n",
       "  & setosa & versicolor & virginica\\\\\n",
       "\\hline\n",
       "\trandom sampling & 12 & 12 & 13\\\\\n",
       "\trandom sampling & 15 &  9 & 13\\\\\n",
       "\trandom sampling & 12 & 11 & 15\\\\\n",
       "\trandom sampling & 11 & 18 &  9\\\\\n",
       "\\end{tabular}\n"
      ],
      "text/markdown": [
       "\n",
       "| <!--/--> | setosa | versicolor | virginica |\n",
       "|---|---|---|---|\n",
       "| random sampling | 12 | 12 | 13 |\n",
       "| random sampling | 15 |  9 | 13 |\n",
       "| random sampling | 12 | 11 | 15 |\n",
       "| random sampling | 11 | 18 |  9 |\n",
       "\n"
      ],
      "text/plain": [
       "                setosa versicolor virginica\n",
       "random sampling 12     12         13       \n",
       "random sampling 15      9         13       \n",
       "random sampling 12     11         15       \n",
       "random sampling 11     18          9       "
      ]
     },
     "metadata": {},
     "output_type": "display_data"
    },
    {
     "data": {
      "text/html": [
       "<table>\n",
       "<thead><tr><th></th><th scope=col>setosa</th><th scope=col>versicolor</th><th scope=col>virginica</th></tr></thead>\n",
       "<tbody>\n",
       "\t<tr><th scope=row>stratified sampling</th><td>13</td><td>13</td><td>13</td></tr>\n",
       "\t<tr><th scope=row>stratified sampling</th><td>13</td><td>13</td><td>13</td></tr>\n",
       "\t<tr><th scope=row>stratified sampling</th><td>12</td><td>12</td><td>12</td></tr>\n",
       "\t<tr><th scope=row>stratified sampling</th><td>12</td><td>12</td><td>12</td></tr>\n",
       "</tbody>\n",
       "</table>\n"
      ],
      "text/latex": [
       "\\begin{tabular}{r|lll}\n",
       "  & setosa & versicolor & virginica\\\\\n",
       "\\hline\n",
       "\tstratified sampling & 13 & 13 & 13\\\\\n",
       "\tstratified sampling & 13 & 13 & 13\\\\\n",
       "\tstratified sampling & 12 & 12 & 12\\\\\n",
       "\tstratified sampling & 12 & 12 & 12\\\\\n",
       "\\end{tabular}\n"
      ],
      "text/markdown": [
       "\n",
       "| <!--/--> | setosa | versicolor | virginica |\n",
       "|---|---|---|---|\n",
       "| stratified sampling | 13 | 13 | 13 |\n",
       "| stratified sampling | 13 | 13 | 13 |\n",
       "| stratified sampling | 12 | 12 | 12 |\n",
       "| stratified sampling | 12 | 12 | 12 |\n",
       "\n"
      ],
      "text/plain": [
       "                    setosa versicolor virginica\n",
       "stratified sampling 13     13         13       \n",
       "stratified sampling 13     13         13       \n",
       "stratified sampling 12     12         12       \n",
       "stratified sampling 12     12         12       "
      ]
     },
     "metadata": {},
     "output_type": "display_data"
    }
   ],
   "source": [
    "foldsr <- sample.random_kfold(iris, k=4)\n",
    "foldss <- sample.stratified_kfold(iris, \"Species\", k=4)\n",
    "\n",
    "tbls <- tblr <- NULL\n",
    "for (i in (1:4)) {\n",
    "    tblr <- rbind(tblr, table(foldsr[[i]]$Species))\n",
    "}\n",
    "rownames(tblr) <- rep(\"random sampling\", 4)\n",
    "head(tblr)\n",
    "\n",
    "for (i in (1:4)) {\n",
    "    tbls <- rbind(tbls, table(foldss[[i]]$Species))\n",
    "}\n",
    "rownames(tbls) <- rep(\"stratified sampling\", 4)\n",
    "head(tbls)\n"
   ]
  },
  {
   "cell_type": "code",
   "execution_count": null,
   "metadata": {},
   "outputs": [],
   "source": []
  }
 ],
 "metadata": {
  "kernelspec": {
   "display_name": "R",
   "language": "R",
   "name": "ir"
  },
  "language_info": {
   "codemirror_mode": "r",
   "file_extension": ".r",
   "mimetype": "text/x-r-source",
   "name": "R",
   "pygments_lexer": "r",
   "version": "3.6.0"
  }
 },
 "nbformat": 4,
 "nbformat_minor": 2
}
