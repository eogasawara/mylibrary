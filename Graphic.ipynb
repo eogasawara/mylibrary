{
 "cells": [
  {
   "cell_type": "markdown",
   "metadata": {},
   "source": [
    "#  ggplot2\n",
    "The ggplot2 is one of the most powerful packages for plotting chars.\n",
    "Although very powerful, the learning curve for ggplot2 is high, as it is established on a grammar of graphics (https://www.amazon.com/Grammar-Graphics-Statistics-Computing/dp/0387245448) approach."
   ]
  },
  {
   "cell_type": "code",
   "execution_count": 25,
   "metadata": {},
   "outputs": [],
   "source": [
    "# The easiest way to get ggplot2 is to install the whole tidyverse:\n",
    "# install.packages(\"tidyverse\")\n",
    "# Alternatively, install just ggplot2:\n",
    "# install.packages(\"ggplot2\")"
   ]
  },
  {
   "cell_type": "markdown",
   "metadata": {},
   "source": [
    "## mygraphic.R\n",
    "\n",
    "The $myGraphics.R$ enables plotting charts encapsulating ggplot2.\n",
    "It enables an easy startup while learning how to use ggplot2. \n",
    "\n",
    "The majority of functions require a $data.frame$ with two attributes or more attributes. In most cases, the first attribute is associated with the x-axis. In contrast, the second is related to the y-axis.\n",
    "\n",
    "## Library\n",
    "The library $myGraphics.R$ is loaded using the source function. "
   ]
  },
  {
   "cell_type": "code",
   "execution_count": 26,
   "metadata": {},
   "outputs": [],
   "source": [
    "source(\"https://raw.githubusercontent.com/eogasawara/mylibrary/master/myGraphic.R\")\n",
    "#Use suppressPackageStartupMessages(source(filename)) to avoid warning messages"
   ]
  },
  {
   "cell_type": "markdown",
   "metadata": {},
   "source": [
    "## Color palette\n",
    "\n",
    "One thing very relevant while plotting charts is to preserve visual identity. \n",
    "For that, the color brewer is an excellent tool to set up colors for your graphics using appropriate colors.\n",
    "More information: https://colorbrewer2.org\n",
    "\n",
    "Take some time to look at how to use it in R: https://rdrr.io/cran/RColorBrewer/man/ColorBrewer.html."
   ]
  },
  {
   "cell_type": "code",
   "execution_count": 27,
   "metadata": {},
   "outputs": [],
   "source": [
    "col_set <- brewer.pal(11, 'Spectral')\n",
    "colors <- col_set[c(11,10,9,8)]"
   ]
  },
  {
   "cell_type": "code",
   "execution_count": 28,
   "metadata": {},
   "outputs": [],
   "source": [
    "# This function is used only to set graphics size in this notebook. Ignore it for the moment.\n",
    "plot.size(10, 5)\n",
    "\n",
    "# setting the font size for all charts\n",
    "font <- theme(text = element_text(size=16))"
   ]
  },
  {
   "cell_type": "markdown",
   "metadata": {},
   "source": [
    "### Dataset #1\n",
    "#### Motor Trend Car Road Tests\n",
    "The data was extracted from the 1974 Motor Trend US magazine and comprises fuel consumption and ten aspects of automobile design and performance for 32 automobiles (1973–74 models).\n",
    "It is contained in the datasets package."
   ]
  },
  {
   "cell_type": "code",
   "execution_count": 29,
   "metadata": {},
   "outputs": [
    {
     "data": {
      "text/html": [
       "<table class=\"dataframe\">\n",
       "<caption>A data.frame: 6 × 11</caption>\n",
       "<thead>\n",
       "\t<tr><th></th><th scope=col>mpg</th><th scope=col>cyl</th><th scope=col>disp</th><th scope=col>hp</th><th scope=col>drat</th><th scope=col>wt</th><th scope=col>qsec</th><th scope=col>vs</th><th scope=col>am</th><th scope=col>gear</th><th scope=col>carb</th></tr>\n",
       "\t<tr><th></th><th scope=col>&lt;dbl&gt;</th><th scope=col>&lt;dbl&gt;</th><th scope=col>&lt;dbl&gt;</th><th scope=col>&lt;dbl&gt;</th><th scope=col>&lt;dbl&gt;</th><th scope=col>&lt;dbl&gt;</th><th scope=col>&lt;dbl&gt;</th><th scope=col>&lt;dbl&gt;</th><th scope=col>&lt;dbl&gt;</th><th scope=col>&lt;dbl&gt;</th><th scope=col>&lt;dbl&gt;</th></tr>\n",
       "</thead>\n",
       "<tbody>\n",
       "\t<tr><th scope=row>Mazda RX4</th><td>21.0</td><td>6</td><td>160</td><td>110</td><td>3.90</td><td>2.620</td><td>16.46</td><td>0</td><td>1</td><td>4</td><td>4</td></tr>\n",
       "\t<tr><th scope=row>Mazda RX4 Wag</th><td>21.0</td><td>6</td><td>160</td><td>110</td><td>3.90</td><td>2.875</td><td>17.02</td><td>0</td><td>1</td><td>4</td><td>4</td></tr>\n",
       "\t<tr><th scope=row>Datsun 710</th><td>22.8</td><td>4</td><td>108</td><td> 93</td><td>3.85</td><td>2.320</td><td>18.61</td><td>1</td><td>1</td><td>4</td><td>1</td></tr>\n",
       "\t<tr><th scope=row>Hornet 4 Drive</th><td>21.4</td><td>6</td><td>258</td><td>110</td><td>3.08</td><td>3.215</td><td>19.44</td><td>1</td><td>0</td><td>3</td><td>1</td></tr>\n",
       "\t<tr><th scope=row>Hornet Sportabout</th><td>18.7</td><td>8</td><td>360</td><td>175</td><td>3.15</td><td>3.440</td><td>17.02</td><td>0</td><td>0</td><td>3</td><td>2</td></tr>\n",
       "\t<tr><th scope=row>Valiant</th><td>18.1</td><td>6</td><td>225</td><td>105</td><td>2.76</td><td>3.460</td><td>20.22</td><td>1</td><td>0</td><td>3</td><td>1</td></tr>\n",
       "</tbody>\n",
       "</table>\n"
      ],
      "text/latex": [
       "A data.frame: 6 × 11\n",
       "\\begin{tabular}{r|lllllllllll}\n",
       "  & mpg & cyl & disp & hp & drat & wt & qsec & vs & am & gear & carb\\\\\n",
       "  & <dbl> & <dbl> & <dbl> & <dbl> & <dbl> & <dbl> & <dbl> & <dbl> & <dbl> & <dbl> & <dbl>\\\\\n",
       "\\hline\n",
       "\tMazda RX4 & 21.0 & 6 & 160 & 110 & 3.90 & 2.620 & 16.46 & 0 & 1 & 4 & 4\\\\\n",
       "\tMazda RX4 Wag & 21.0 & 6 & 160 & 110 & 3.90 & 2.875 & 17.02 & 0 & 1 & 4 & 4\\\\\n",
       "\tDatsun 710 & 22.8 & 4 & 108 &  93 & 3.85 & 2.320 & 18.61 & 1 & 1 & 4 & 1\\\\\n",
       "\tHornet 4 Drive & 21.4 & 6 & 258 & 110 & 3.08 & 3.215 & 19.44 & 1 & 0 & 3 & 1\\\\\n",
       "\tHornet Sportabout & 18.7 & 8 & 360 & 175 & 3.15 & 3.440 & 17.02 & 0 & 0 & 3 & 2\\\\\n",
       "\tValiant & 18.1 & 6 & 225 & 105 & 2.76 & 3.460 & 20.22 & 1 & 0 & 3 & 1\\\\\n",
       "\\end{tabular}\n"
      ],
      "text/markdown": [
       "\n",
       "A data.frame: 6 × 11\n",
       "\n",
       "| <!--/--> | mpg &lt;dbl&gt; | cyl &lt;dbl&gt; | disp &lt;dbl&gt; | hp &lt;dbl&gt; | drat &lt;dbl&gt; | wt &lt;dbl&gt; | qsec &lt;dbl&gt; | vs &lt;dbl&gt; | am &lt;dbl&gt; | gear &lt;dbl&gt; | carb &lt;dbl&gt; |\n",
       "|---|---|---|---|---|---|---|---|---|---|---|---|\n",
       "| Mazda RX4 | 21.0 | 6 | 160 | 110 | 3.90 | 2.620 | 16.46 | 0 | 1 | 4 | 4 |\n",
       "| Mazda RX4 Wag | 21.0 | 6 | 160 | 110 | 3.90 | 2.875 | 17.02 | 0 | 1 | 4 | 4 |\n",
       "| Datsun 710 | 22.8 | 4 | 108 |  93 | 3.85 | 2.320 | 18.61 | 1 | 1 | 4 | 1 |\n",
       "| Hornet 4 Drive | 21.4 | 6 | 258 | 110 | 3.08 | 3.215 | 19.44 | 1 | 0 | 3 | 1 |\n",
       "| Hornet Sportabout | 18.7 | 8 | 360 | 175 | 3.15 | 3.440 | 17.02 | 0 | 0 | 3 | 2 |\n",
       "| Valiant | 18.1 | 6 | 225 | 105 | 2.76 | 3.460 | 20.22 | 1 | 0 | 3 | 1 |\n",
       "\n"
      ],
      "text/plain": [
       "                  mpg  cyl disp hp  drat wt    qsec  vs am gear carb\n",
       "Mazda RX4         21.0 6   160  110 3.90 2.620 16.46 0  1  4    4   \n",
       "Mazda RX4 Wag     21.0 6   160  110 3.90 2.875 17.02 0  1  4    4   \n",
       "Datsun 710        22.8 4   108   93 3.85 2.320 18.61 1  1  4    1   \n",
       "Hornet 4 Drive    21.4 6   258  110 3.08 3.215 19.44 1  0  3    1   \n",
       "Hornet Sportabout 18.7 8   360  175 3.15 3.440 17.02 0  0  3    2   \n",
       "Valiant           18.1 6   225  105 2.76 3.460 20.22 1  0  3    1   "
      ]
     },
     "metadata": {},
     "output_type": "display_data"
    }
   ],
   "source": [
    "head(mtcars)"
   ]
  },
  {
   "cell_type": "code",
   "execution_count": 124,
   "metadata": {},
   "outputs": [],
   "source": [
    "?mtcars"
   ]
  },
  {
   "cell_type": "markdown",
   "metadata": {},
   "source": [
    "## Example #1\n",
    "\n",
    "Example #1 is a query on $mtcars$ that is used for scatter and line plots"
   ]
  },
  {
   "cell_type": "code",
   "execution_count": 56,
   "metadata": {},
   "outputs": [
    {
     "data": {
      "text/html": [
       "<table class=\"dataframe\">\n",
       "<caption>A data.frame: 6 × 3</caption>\n",
       "<thead>\n",
       "\t<tr><th></th><th scope=col>wt</th><th scope=col>mpg</th><th scope=col>disp</th></tr>\n",
       "\t<tr><th></th><th scope=col>&lt;dbl&gt;</th><th scope=col>&lt;dbl&gt;</th><th scope=col>&lt;dbl&gt;</th></tr>\n",
       "</thead>\n",
       "<tbody>\n",
       "\t<tr><th scope=row>Mazda RX4</th><td>2.620</td><td>21.0</td><td>160</td></tr>\n",
       "\t<tr><th scope=row>Mazda RX4 Wag</th><td>2.875</td><td>21.0</td><td>160</td></tr>\n",
       "\t<tr><th scope=row>Datsun 710</th><td>2.320</td><td>22.8</td><td>108</td></tr>\n",
       "\t<tr><th scope=row>Hornet 4 Drive</th><td>3.215</td><td>21.4</td><td>258</td></tr>\n",
       "\t<tr><th scope=row>Hornet Sportabout</th><td>3.440</td><td>18.7</td><td>360</td></tr>\n",
       "\t<tr><th scope=row>Valiant</th><td>3.460</td><td>18.1</td><td>225</td></tr>\n",
       "</tbody>\n",
       "</table>\n"
      ],
      "text/latex": [
       "A data.frame: 6 × 3\n",
       "\\begin{tabular}{r|lll}\n",
       "  & wt & mpg & disp\\\\\n",
       "  & <dbl> & <dbl> & <dbl>\\\\\n",
       "\\hline\n",
       "\tMazda RX4 & 2.620 & 21.0 & 160\\\\\n",
       "\tMazda RX4 Wag & 2.875 & 21.0 & 160\\\\\n",
       "\tDatsun 710 & 2.320 & 22.8 & 108\\\\\n",
       "\tHornet 4 Drive & 3.215 & 21.4 & 258\\\\\n",
       "\tHornet Sportabout & 3.440 & 18.7 & 360\\\\\n",
       "\tValiant & 3.460 & 18.1 & 225\\\\\n",
       "\\end{tabular}\n"
      ],
      "text/markdown": [
       "\n",
       "A data.frame: 6 × 3\n",
       "\n",
       "| <!--/--> | wt &lt;dbl&gt; | mpg &lt;dbl&gt; | disp &lt;dbl&gt; |\n",
       "|---|---|---|---|\n",
       "| Mazda RX4 | 2.620 | 21.0 | 160 |\n",
       "| Mazda RX4 Wag | 2.875 | 21.0 | 160 |\n",
       "| Datsun 710 | 2.320 | 22.8 | 108 |\n",
       "| Hornet 4 Drive | 3.215 | 21.4 | 258 |\n",
       "| Hornet Sportabout | 3.440 | 18.7 | 360 |\n",
       "| Valiant | 3.460 | 18.1 | 225 |\n",
       "\n"
      ],
      "text/plain": [
       "                  wt    mpg  disp\n",
       "Mazda RX4         2.620 21.0 160 \n",
       "Mazda RX4 Wag     2.875 21.0 160 \n",
       "Datsun 710        2.320 22.8 108 \n",
       "Hornet 4 Drive    3.215 21.4 258 \n",
       "Hornet Sportabout 3.440 18.7 360 \n",
       "Valiant           3.460 18.1 225 "
      ]
     },
     "metadata": {},
     "output_type": "display_data"
    }
   ],
   "source": [
    "# example1: dataset to be plotted   \n",
    "example1 <- mtcars %>% select(wt, mpg, disp)\n",
    "head(example1)"
   ]
  },
  {
   "cell_type": "markdown",
   "metadata": {},
   "source": [
    "## Scatter plot\n",
    "\n",
    "A Scatter plot is used to display values for the typical relationship between independent and dependent variables. The first column of the dataset is the independent variable, whereas the following variables are the dependent ones. \n",
    "\n",
    "The colors vectors should have the same size as the number of dependent columns. \n",
    "\n",
    "More information: https://en.wikipedia.org/wiki/Scatter_plot"
   ]
  },
  {
   "cell_type": "code",
   "execution_count": 31,
   "metadata": {},
   "outputs": [
    {
     "data": {
      "image/png": "[encoded data removed]",
      "text/plain": [
       "plot without title"
      ]
     },
     "metadata": {
      "image/png": {
       "height": 300,
       "width": 600
      }
     },
     "output_type": "display_data"
    }
   ],
   "source": [
    "# The function returns a preset graphic that can be enhanced. \n",
    "grf <- plot.scatter(example1, label_x = \"wt\", colors=colors[1:2])\n",
    "# Increasing the font size of the graphics\n",
    "grf <- grf + font\n",
    "# Actual plot\n",
    "plot(grf)"
   ]
  },
  {
   "cell_type": "markdown",
   "metadata": {},
   "source": [
    "## Line plot\n",
    "\n",
    "A line plot is a type of chart that displays information as a series of data points connected by straight line segments. \n",
    "\n",
    "It is similar to a scatter plot except that their x-axis value orders the measurement points.\n",
    "\n",
    "More information: https://en.wikipedia.org/wiki/Line_chart"
   ]
  },
  {
   "cell_type": "code",
   "execution_count": 32,
   "metadata": {},
   "outputs": [
    {
     "data": {
      "image/png": "[encoded data removed]",
      "text/plain": [
       "plot without title"
      ]
     },
     "metadata": {
      "image/png": {
       "height": 300,
       "width": 600
      }
     },
     "output_type": "display_data"
    }
   ],
   "source": [
    "grf <- plot.series(example1, label_x = \"wt\", colors=colors[1:2]) + font\n",
    "plot(grf)"
   ]
  },
  {
   "cell_type": "markdown",
   "metadata": {},
   "source": [
    "## Line plot with a second y-axis\n",
    "\n",
    "A line plot with a second y-axis is a particular case of a line plot with two different independent variables. The first one is associated with the first y-axis. In contrast, the second one is associated with the second y-axis. "
   ]
  },
  {
   "cell_type": "code",
   "execution_count": 33,
   "metadata": {},
   "outputs": [
    {
     "data": {
      "image/png": "[encoded data removed]",
      "text/plain": [
       "plot without title"
      ]
     },
     "metadata": {
      "image/png": {
       "height": 300,
       "width": 600
      }
     },
     "output_type": "display_data"
    }
   ],
   "source": [
    "grf <- plot.series2nd(example1, label_x = \"wt\", colors=colors[1:2]) + font\n",
    "plot(grf)"
   ]
  },
  {
   "cell_type": "markdown",
   "metadata": {},
   "source": [
    "## Example #2\n",
    "\n",
    "Example #2 is a query on $mtcars$ that is used for bar graphs, vertical bars, lollipop, pie charts, and radar plots"
   ]
  },
  {
   "cell_type": "code",
   "execution_count": 88,
   "metadata": {},
   "outputs": [
    {
     "data": {
      "text/html": [
       "<table class=\"dataframe\">\n",
       "<caption>A tibble: 3 × 2</caption>\n",
       "<thead>\n",
       "\t<tr><th scope=col>cyl</th><th scope=col>hp</th></tr>\n",
       "\t<tr><th scope=col>&lt;dbl&gt;</th><th scope=col>&lt;dbl&gt;</th></tr>\n",
       "</thead>\n",
       "<tbody>\n",
       "\t<tr><td>4</td><td> 82.63636</td></tr>\n",
       "\t<tr><td>6</td><td>122.28571</td></tr>\n",
       "\t<tr><td>8</td><td>209.21429</td></tr>\n",
       "</tbody>\n",
       "</table>\n"
      ],
      "text/latex": [
       "A tibble: 3 × 2\n",
       "\\begin{tabular}{ll}\n",
       " cyl & hp\\\\\n",
       " <dbl> & <dbl>\\\\\n",
       "\\hline\n",
       "\t 4 &  82.63636\\\\\n",
       "\t 6 & 122.28571\\\\\n",
       "\t 8 & 209.21429\\\\\n",
       "\\end{tabular}\n"
      ],
      "text/markdown": [
       "\n",
       "A tibble: 3 × 2\n",
       "\n",
       "| cyl &lt;dbl&gt; | hp &lt;dbl&gt; |\n",
       "|---|---|\n",
       "| 4 |  82.63636 |\n",
       "| 6 | 122.28571 |\n",
       "| 8 | 209.21429 |\n",
       "\n"
      ],
      "text/plain": [
       "  cyl hp       \n",
       "1 4    82.63636\n",
       "2 6   122.28571\n",
       "3 8   209.21429"
      ]
     },
     "metadata": {},
     "output_type": "display_data"
    }
   ],
   "source": [
    "# example2: dataset to be plotted  \n",
    "example2 <- mtcars %>% group_by(cyl) %>% summarize(hp = mean(hp))\n",
    "head(example2)"
   ]
  },
  {
   "cell_type": "markdown",
   "metadata": {},
   "source": [
    "## Bar graph\n",
    "\n",
    "A bar graph is used to presents categorical data with rectangular bars with heights or lengths proportional to the values that they represent. \n",
    "\n",
    "More information: https://en.wikipedia.org/wiki/Bar_chart"
   ]
  },
  {
   "cell_type": "code",
   "execution_count": 62,
   "metadata": {},
   "outputs": [
    {
     "data": {
      "image/png": "[encoded data removed]",
      "text/plain": [
       "plot without title"
      ]
     },
     "metadata": {
      "image/png": {
       "height": 300,
       "width": 600
      }
     },
     "output_type": "display_data"
    }
   ],
   "source": [
    "grf <- plot.bar(example2, colors=colors[1]) + font\n",
    "plot(grf)"
   ]
  },
  {
   "cell_type": "code",
   "execution_count": 63,
   "metadata": {},
   "outputs": [
    {
     "data": {
      "image/png": "[encoded data removed]",
      "text/plain": [
       "plot without title"
      ]
     },
     "metadata": {
      "image/png": {
       "height": 300,
       "width": 600
      }
     },
     "output_type": "display_data"
    }
   ],
   "source": [
    "# Sometimes the bars can be plotted vertically. \n",
    "#Use function coord_flip() for that.\n",
    "grf <- grf + coord_flip()\n",
    "plot(grf)"
   ]
  },
  {
   "cell_type": "markdown",
   "metadata": {},
   "source": [
    "## Lollipop plot\n",
    "\n",
    "The lollipop graph has the same goal as a vertical bar graph."
   ]
  },
  {
   "cell_type": "code",
   "execution_count": 89,
   "metadata": {},
   "outputs": [
    {
     "data": {
      "image/png": "[encoded data removed]",
      "text/plain": [
       "plot without title"
      ]
     },
     "metadata": {
      "image/png": {
       "height": 300,
       "width": 600
      }
     },
     "output_type": "display_data"
    }
   ],
   "source": [
    "grf <- plot.lollipop(example2, colors=colors[1]) + font\n",
    "plot(grf)"
   ]
  },
  {
   "cell_type": "markdown",
   "metadata": {},
   "source": [
    "## Pie chart\n",
    "A pie chart is a circular statistical graphic, which is divided into slices to illustrate numerical proportion. \n",
    "\n",
    "More information: https://en.wikipedia.org/wiki/Pie_chart"
   ]
  },
  {
   "cell_type": "code",
   "execution_count": 93,
   "metadata": {},
   "outputs": [
    {
     "data": {
      "image/png": "[encoded data removed]",
      "text/plain": [
       "plot without title"
      ]
     },
     "metadata": {
      "image/png": {
       "height": 300,
       "width": 600
      }
     },
     "output_type": "display_data"
    }
   ],
   "source": [
    "grf <- plot.pieplot(example2, colors=colors[1:nrow(example2)]) + font\n",
    "plot(grf)"
   ]
  },
  {
   "cell_type": "markdown",
   "metadata": {},
   "source": [
    "## Radar plot\n",
    "\n",
    "A radar chart is a graphical method of displaying multivariate data containing three or more quantitative variables represented on axes starting from the same point. \n",
    "\n",
    "More information: https://en.wikipedia.org/wiki/Radar_chart"
   ]
  },
  {
   "cell_type": "code",
   "execution_count": 94,
   "metadata": {},
   "outputs": [
    {
     "data": {
      "image/png": "[encoded data removed]",
      "text/plain": [
       "plot without title"
      ]
     },
     "metadata": {
      "image/png": {
       "height": 300,
       "width": 600
      }
     },
     "output_type": "display_data"
    }
   ],
   "source": [
    "grf <- plot.radar(example2, colors=colors[1]) + font\n",
    "grf <- grf + ylim(0, NA)\n",
    "plot(grf)"
   ]
  },
  {
   "cell_type": "markdown",
   "metadata": {},
   "source": [
    "## Example #3\n",
    "\n",
    "Example #3 is a query on $mtcars$ that is used for bar graphs with error bars, stacked bars, grouped bars, and dot plots"
   ]
  },
  {
   "cell_type": "code",
   "execution_count": 95,
   "metadata": {},
   "outputs": [
    {
     "data": {
      "text/html": [
       "<table class=\"dataframe\">\n",
       "<caption>A tibble: 3 × 3</caption>\n",
       "<thead>\n",
       "\t<tr><th scope=col>cyl</th><th scope=col>mean</th><th scope=col>sd</th></tr>\n",
       "\t<tr><th scope=col>&lt;dbl&gt;</th><th scope=col>&lt;dbl&gt;</th><th scope=col>&lt;dbl&gt;</th></tr>\n",
       "</thead>\n",
       "<tbody>\n",
       "\t<tr><td>4</td><td> 82.63636</td><td>20.93453</td></tr>\n",
       "\t<tr><td>6</td><td>122.28571</td><td>24.26049</td></tr>\n",
       "\t<tr><td>8</td><td>209.21429</td><td>50.97689</td></tr>\n",
       "</tbody>\n",
       "</table>\n"
      ],
      "text/latex": [
       "A tibble: 3 × 3\n",
       "\\begin{tabular}{lll}\n",
       " cyl & mean & sd\\\\\n",
       " <dbl> & <dbl> & <dbl>\\\\\n",
       "\\hline\n",
       "\t 4 &  82.63636 & 20.93453\\\\\n",
       "\t 6 & 122.28571 & 24.26049\\\\\n",
       "\t 8 & 209.21429 & 50.97689\\\\\n",
       "\\end{tabular}\n"
      ],
      "text/markdown": [
       "\n",
       "A tibble: 3 × 3\n",
       "\n",
       "| cyl &lt;dbl&gt; | mean &lt;dbl&gt; | sd &lt;dbl&gt; |\n",
       "|---|---|---|\n",
       "| 4 |  82.63636 | 20.93453 |\n",
       "| 6 | 122.28571 | 24.26049 |\n",
       "| 8 | 209.21429 | 50.97689 |\n",
       "\n"
      ],
      "text/plain": [
       "  cyl mean      sd      \n",
       "1 4    82.63636 20.93453\n",
       "2 6   122.28571 24.26049\n",
       "3 8   209.21429 50.97689"
      ]
     },
     "metadata": {},
     "output_type": "display_data"
    }
   ],
   "source": [
    "# example3: dataset to be plotted  \n",
    "example3 <- mtcars %>% group_by(cyl) %>% summarize(mean = mean(hp), sd=sd(hp))\n",
    "head(example3)"
   ]
  },
  {
   "cell_type": "markdown",
   "metadata": {},
   "source": [
    "## Bar graph with error bars\n",
    "When bar graphs present an average behavior, it is possible to plot a dispersion around it using an error bar.\n",
    "\n",
    "The error bar is added using $geom\\_errorbar()$ function to a previously defined bar graph. "
   ]
  },
  {
   "cell_type": "code",
   "execution_count": 96,
   "metadata": {},
   "outputs": [
    {
     "data": {
      "image/png": "[encoded data removed]",
      "text/plain": [
       "plot without title"
      ]
     },
     "metadata": {
      "image/png": {
       "height": 300,
       "width": 600
      }
     },
     "output_type": "display_data"
    }
   ],
   "source": [
    "grf <- plot.bar(example3, colors=colors[1], alpha=1) + font\n",
    "grf <- grf + geom_errorbar(aes(x=cyl, ymin=mean-sd, ymax=mean+sd), \n",
    "                           width=0.2, colour=\"darkgray\", alpha=0.8, size=1.1) \n",
    "plot(grf)"
   ]
  },
  {
   "cell_type": "markdown",
   "metadata": {},
   "source": [
    "## Grouped bar & Stacked-bar\n",
    "\n",
    "Grouped bar charts and stacked bar charts are used to organize data into groups for each category.\n",
    "\n",
    "In a grouped bar chart, for each categorical group, there are two or more bars. These bars are color-coded to represent a particular grouping. Alternatively, a stacked bar chart stacks bars that represent different groups on top of each other. The height of the resulting bar shows the combined result of the groups. \n",
    "\n",
    "More information: https://en.wikipedia.org/wiki/Bar_chart#Grouped_or_stacked"
   ]
  },
  {
   "cell_type": "code",
   "execution_count": 97,
   "metadata": {},
   "outputs": [
    {
     "data": {
      "image/png": "[encoded data removed]",
      "text/plain": [
       "plot without title"
      ]
     },
     "metadata": {
      "image/png": {
       "height": 300,
       "width": 600
      }
     },
     "output_type": "display_data"
    }
   ],
   "source": [
    "grf <- plot.groupedbar(example3, colors=colors[1:2]) + font\n",
    "plot(grf)"
   ]
  },
  {
   "cell_type": "code",
   "execution_count": 98,
   "metadata": {},
   "outputs": [
    {
     "data": {
      "image/png": "[encoded data removed]",
      "text/plain": [
       "plot without title"
      ]
     },
     "metadata": {
      "image/png": {
       "height": 300,
       "width": 600
      }
     },
     "output_type": "display_data"
    }
   ],
   "source": [
    "  grf <- plot.stackedbar(example3, colors=colors[1:2]) + font\n",
    "  grf <- grf + theme(axis.text.x = element_text(angle=90, hjust=1))\n",
    "  plot(grf)"
   ]
  },
  {
   "cell_type": "markdown",
   "metadata": {},
   "source": [
    "## Dot plot\n",
    "\n",
    "The dot plot has the same goal as a grouped bar graph.\n",
    "\n",
    "It is also important to observe that the function $plot.dotchar$ internally uses $ggdotchart$, which is not compatible with other $ggplot$ methods. Customizations should be done using the $ggpar$ function, such as introducing a legend title. "
   ]
  },
  {
   "cell_type": "code",
   "execution_count": 99,
   "metadata": {},
   "outputs": [
    {
     "data": {
      "image/png": "[encoded data removed]",
      "text/plain": [
       "plot without title"
      ]
     },
     "metadata": {
      "image/png": {
       "height": 300,
       "width": 600
      }
     },
     "output_type": "display_data"
    }
   ],
   "source": [
    "  grf <- plot.dotchar(example3, colors=colors[1:2]) + font\n",
    "  grf <- grf + theme(axis.text.x = element_text(angle=90, hjust=1))\n",
    "  plot(grf)"
   ]
  },
  {
   "cell_type": "markdown",
   "metadata": {},
   "source": [
    "## Correlation plot\n",
    "\n",
    "The correlation plots are used to display the pairwise correlation among all numerical attributes of a dataset."
   ]
  },
  {
   "cell_type": "code",
   "execution_count": 100,
   "metadata": {},
   "outputs": [
    {
     "data": {
      "text/html": [
       "<table class=\"dataframe\">\n",
       "<caption>A matrix: 11 × 11 of type dbl</caption>\n",
       "<thead>\n",
       "\t<tr><th></th><th scope=col>mpg</th><th scope=col>cyl</th><th scope=col>disp</th><th scope=col>hp</th><th scope=col>drat</th><th scope=col>wt</th><th scope=col>qsec</th><th scope=col>vs</th><th scope=col>am</th><th scope=col>gear</th><th scope=col>carb</th></tr>\n",
       "</thead>\n",
       "<tbody>\n",
       "\t<tr><th scope=row>mpg</th><td> 1.0000000</td><td>-0.8521620</td><td>-0.8475514</td><td>-0.7761684</td><td> 0.68117191</td><td>-0.8676594</td><td> 0.41868403</td><td> 0.6640389</td><td> 0.59983243</td><td> 0.4802848</td><td>-0.55092507</td></tr>\n",
       "\t<tr><th scope=row>cyl</th><td>-0.8521620</td><td> 1.0000000</td><td> 0.9020329</td><td> 0.8324475</td><td>-0.69993811</td><td> 0.7824958</td><td>-0.59124207</td><td>-0.8108118</td><td>-0.52260705</td><td>-0.4926866</td><td> 0.52698829</td></tr>\n",
       "\t<tr><th scope=row>disp</th><td>-0.8475514</td><td> 0.9020329</td><td> 1.0000000</td><td> 0.7909486</td><td>-0.71021393</td><td> 0.8879799</td><td>-0.43369788</td><td>-0.7104159</td><td>-0.59122704</td><td>-0.5555692</td><td> 0.39497686</td></tr>\n",
       "\t<tr><th scope=row>hp</th><td>-0.7761684</td><td> 0.8324475</td><td> 0.7909486</td><td> 1.0000000</td><td>-0.44875912</td><td> 0.6587479</td><td>-0.70822339</td><td>-0.7230967</td><td>-0.24320426</td><td>-0.1257043</td><td> 0.74981247</td></tr>\n",
       "\t<tr><th scope=row>drat</th><td> 0.6811719</td><td>-0.6999381</td><td>-0.7102139</td><td>-0.4487591</td><td> 1.00000000</td><td>-0.7124406</td><td> 0.09120476</td><td> 0.4402785</td><td> 0.71271113</td><td> 0.6996101</td><td>-0.09078980</td></tr>\n",
       "\t<tr><th scope=row>wt</th><td>-0.8676594</td><td> 0.7824958</td><td> 0.8879799</td><td> 0.6587479</td><td>-0.71244065</td><td> 1.0000000</td><td>-0.17471588</td><td>-0.5549157</td><td>-0.69249526</td><td>-0.5832870</td><td> 0.42760594</td></tr>\n",
       "\t<tr><th scope=row>qsec</th><td> 0.4186840</td><td>-0.5912421</td><td>-0.4336979</td><td>-0.7082234</td><td> 0.09120476</td><td>-0.1747159</td><td> 1.00000000</td><td> 0.7445354</td><td>-0.22986086</td><td>-0.2126822</td><td>-0.65624923</td></tr>\n",
       "\t<tr><th scope=row>vs</th><td> 0.6640389</td><td>-0.8108118</td><td>-0.7104159</td><td>-0.7230967</td><td> 0.44027846</td><td>-0.5549157</td><td> 0.74453544</td><td> 1.0000000</td><td> 0.16834512</td><td> 0.2060233</td><td>-0.56960714</td></tr>\n",
       "\t<tr><th scope=row>am</th><td> 0.5998324</td><td>-0.5226070</td><td>-0.5912270</td><td>-0.2432043</td><td> 0.71271113</td><td>-0.6924953</td><td>-0.22986086</td><td> 0.1683451</td><td> 1.00000000</td><td> 0.7940588</td><td> 0.05753435</td></tr>\n",
       "\t<tr><th scope=row>gear</th><td> 0.4802848</td><td>-0.4926866</td><td>-0.5555692</td><td>-0.1257043</td><td> 0.69961013</td><td>-0.5832870</td><td>-0.21268223</td><td> 0.2060233</td><td> 0.79405876</td><td> 1.0000000</td><td> 0.27407284</td></tr>\n",
       "\t<tr><th scope=row>carb</th><td>-0.5509251</td><td> 0.5269883</td><td> 0.3949769</td><td> 0.7498125</td><td>-0.09078980</td><td> 0.4276059</td><td>-0.65624923</td><td>-0.5696071</td><td> 0.05753435</td><td> 0.2740728</td><td> 1.00000000</td></tr>\n",
       "</tbody>\n",
       "</table>\n"
      ],
      "text/latex": [
       "A matrix: 11 × 11 of type dbl\n",
       "\\begin{tabular}{r|lllllllllll}\n",
       "  & mpg & cyl & disp & hp & drat & wt & qsec & vs & am & gear & carb\\\\\n",
       "\\hline\n",
       "\tmpg &  1.0000000 & -0.8521620 & -0.8475514 & -0.7761684 &  0.68117191 & -0.8676594 &  0.41868403 &  0.6640389 &  0.59983243 &  0.4802848 & -0.55092507\\\\\n",
       "\tcyl & -0.8521620 &  1.0000000 &  0.9020329 &  0.8324475 & -0.69993811 &  0.7824958 & -0.59124207 & -0.8108118 & -0.52260705 & -0.4926866 &  0.52698829\\\\\n",
       "\tdisp & -0.8475514 &  0.9020329 &  1.0000000 &  0.7909486 & -0.71021393 &  0.8879799 & -0.43369788 & -0.7104159 & -0.59122704 & -0.5555692 &  0.39497686\\\\\n",
       "\thp & -0.7761684 &  0.8324475 &  0.7909486 &  1.0000000 & -0.44875912 &  0.6587479 & -0.70822339 & -0.7230967 & -0.24320426 & -0.1257043 &  0.74981247\\\\\n",
       "\tdrat &  0.6811719 & -0.6999381 & -0.7102139 & -0.4487591 &  1.00000000 & -0.7124406 &  0.09120476 &  0.4402785 &  0.71271113 &  0.6996101 & -0.09078980\\\\\n",
       "\twt & -0.8676594 &  0.7824958 &  0.8879799 &  0.6587479 & -0.71244065 &  1.0000000 & -0.17471588 & -0.5549157 & -0.69249526 & -0.5832870 &  0.42760594\\\\\n",
       "\tqsec &  0.4186840 & -0.5912421 & -0.4336979 & -0.7082234 &  0.09120476 & -0.1747159 &  1.00000000 &  0.7445354 & -0.22986086 & -0.2126822 & -0.65624923\\\\\n",
       "\tvs &  0.6640389 & -0.8108118 & -0.7104159 & -0.7230967 &  0.44027846 & -0.5549157 &  0.74453544 &  1.0000000 &  0.16834512 &  0.2060233 & -0.56960714\\\\\n",
       "\tam &  0.5998324 & -0.5226070 & -0.5912270 & -0.2432043 &  0.71271113 & -0.6924953 & -0.22986086 &  0.1683451 &  1.00000000 &  0.7940588 &  0.05753435\\\\\n",
       "\tgear &  0.4802848 & -0.4926866 & -0.5555692 & -0.1257043 &  0.69961013 & -0.5832870 & -0.21268223 &  0.2060233 &  0.79405876 &  1.0000000 &  0.27407284\\\\\n",
       "\tcarb & -0.5509251 &  0.5269883 &  0.3949769 &  0.7498125 & -0.09078980 &  0.4276059 & -0.65624923 & -0.5696071 &  0.05753435 &  0.2740728 &  1.00000000\\\\\n",
       "\\end{tabular}\n"
      ],
      "text/markdown": [
       "\n",
       "A matrix: 11 × 11 of type dbl\n",
       "\n",
       "| <!--/--> | mpg | cyl | disp | hp | drat | wt | qsec | vs | am | gear | carb |\n",
       "|---|---|---|---|---|---|---|---|---|---|---|---|\n",
       "| mpg |  1.0000000 | -0.8521620 | -0.8475514 | -0.7761684 |  0.68117191 | -0.8676594 |  0.41868403 |  0.6640389 |  0.59983243 |  0.4802848 | -0.55092507 |\n",
       "| cyl | -0.8521620 |  1.0000000 |  0.9020329 |  0.8324475 | -0.69993811 |  0.7824958 | -0.59124207 | -0.8108118 | -0.52260705 | -0.4926866 |  0.52698829 |\n",
       "| disp | -0.8475514 |  0.9020329 |  1.0000000 |  0.7909486 | -0.71021393 |  0.8879799 | -0.43369788 | -0.7104159 | -0.59122704 | -0.5555692 |  0.39497686 |\n",
       "| hp | -0.7761684 |  0.8324475 |  0.7909486 |  1.0000000 | -0.44875912 |  0.6587479 | -0.70822339 | -0.7230967 | -0.24320426 | -0.1257043 |  0.74981247 |\n",
       "| drat |  0.6811719 | -0.6999381 | -0.7102139 | -0.4487591 |  1.00000000 | -0.7124406 |  0.09120476 |  0.4402785 |  0.71271113 |  0.6996101 | -0.09078980 |\n",
       "| wt | -0.8676594 |  0.7824958 |  0.8879799 |  0.6587479 | -0.71244065 |  1.0000000 | -0.17471588 | -0.5549157 | -0.69249526 | -0.5832870 |  0.42760594 |\n",
       "| qsec |  0.4186840 | -0.5912421 | -0.4336979 | -0.7082234 |  0.09120476 | -0.1747159 |  1.00000000 |  0.7445354 | -0.22986086 | -0.2126822 | -0.65624923 |\n",
       "| vs |  0.6640389 | -0.8108118 | -0.7104159 | -0.7230967 |  0.44027846 | -0.5549157 |  0.74453544 |  1.0000000 |  0.16834512 |  0.2060233 | -0.56960714 |\n",
       "| am |  0.5998324 | -0.5226070 | -0.5912270 | -0.2432043 |  0.71271113 | -0.6924953 | -0.22986086 |  0.1683451 |  1.00000000 |  0.7940588 |  0.05753435 |\n",
       "| gear |  0.4802848 | -0.4926866 | -0.5555692 | -0.1257043 |  0.69961013 | -0.5832870 | -0.21268223 |  0.2060233 |  0.79405876 |  1.0000000 |  0.27407284 |\n",
       "| carb | -0.5509251 |  0.5269883 |  0.3949769 |  0.7498125 | -0.09078980 |  0.4276059 | -0.65624923 | -0.5696071 |  0.05753435 |  0.2740728 |  1.00000000 |\n",
       "\n"
      ],
      "text/plain": [
       "     mpg        cyl        disp       hp         drat        wt        \n",
       "mpg   1.0000000 -0.8521620 -0.8475514 -0.7761684  0.68117191 -0.8676594\n",
       "cyl  -0.8521620  1.0000000  0.9020329  0.8324475 -0.69993811  0.7824958\n",
       "disp -0.8475514  0.9020329  1.0000000  0.7909486 -0.71021393  0.8879799\n",
       "hp   -0.7761684  0.8324475  0.7909486  1.0000000 -0.44875912  0.6587479\n",
       "drat  0.6811719 -0.6999381 -0.7102139 -0.4487591  1.00000000 -0.7124406\n",
       "wt   -0.8676594  0.7824958  0.8879799  0.6587479 -0.71244065  1.0000000\n",
       "qsec  0.4186840 -0.5912421 -0.4336979 -0.7082234  0.09120476 -0.1747159\n",
       "vs    0.6640389 -0.8108118 -0.7104159 -0.7230967  0.44027846 -0.5549157\n",
       "am    0.5998324 -0.5226070 -0.5912270 -0.2432043  0.71271113 -0.6924953\n",
       "gear  0.4802848 -0.4926866 -0.5555692 -0.1257043  0.69961013 -0.5832870\n",
       "carb -0.5509251  0.5269883  0.3949769  0.7498125 -0.09078980  0.4276059\n",
       "     qsec        vs         am          gear       carb       \n",
       "mpg   0.41868403  0.6640389  0.59983243  0.4802848 -0.55092507\n",
       "cyl  -0.59124207 -0.8108118 -0.52260705 -0.4926866  0.52698829\n",
       "disp -0.43369788 -0.7104159 -0.59122704 -0.5555692  0.39497686\n",
       "hp   -0.70822339 -0.7230967 -0.24320426 -0.1257043  0.74981247\n",
       "drat  0.09120476  0.4402785  0.71271113  0.6996101 -0.09078980\n",
       "wt   -0.17471588 -0.5549157 -0.69249526 -0.5832870  0.42760594\n",
       "qsec  1.00000000  0.7445354 -0.22986086 -0.2126822 -0.65624923\n",
       "vs    0.74453544  1.0000000  0.16834512  0.2060233 -0.56960714\n",
       "am   -0.22986086  0.1683451  1.00000000  0.7940588  0.05753435\n",
       "gear -0.21268223  0.2060233  0.79405876  1.0000000  0.27407284\n",
       "carb -0.65624923 -0.5696071  0.05753435  0.2740728  1.00000000"
      ]
     },
     "metadata": {},
     "output_type": "display_data"
    }
   ],
   "source": [
    "# Correlation matrix\n",
    "cor(mtcars)"
   ]
  },
  {
   "cell_type": "code",
   "execution_count": 101,
   "metadata": {},
   "outputs": [
    {
     "data": {
      "image/png": "[encoded data removed]",
      "text/plain": [
       "Plot with title \"\""
      ]
     },
     "metadata": {
      "image/png": {
       "height": 300,
       "width": 600
      }
     },
     "output_type": "display_data"
    }
   ],
   "source": [
    "  plot.correlation(mtcars)"
   ]
  },
  {
   "cell_type": "markdown",
   "metadata": {},
   "source": [
    "## Examples using data distribution\n",
    "The following examples use random variables so that different data distribution can be better viewed."
   ]
  },
  {
   "cell_type": "code",
   "execution_count": 106,
   "metadata": {},
   "outputs": [
    {
     "data": {
      "text/html": [
       "<table class=\"dataframe\">\n",
       "<caption>A data.frame: 6 × 4</caption>\n",
       "<thead>\n",
       "\t<tr><th></th><th scope=col>exponential</th><th scope=col>uniform</th><th scope=col>normal</th><th scope=col>poisson</th></tr>\n",
       "\t<tr><th></th><th scope=col>&lt;dbl&gt;</th><th scope=col>&lt;dbl&gt;</th><th scope=col>&lt;dbl&gt;</th><th scope=col>&lt;int&gt;</th></tr>\n",
       "</thead>\n",
       "<tbody>\n",
       "\t<tr><th scope=row>1</th><td>0.3429564</td><td>2.843245</td><td>5.097225</td><td>2</td></tr>\n",
       "\t<tr><th scope=row>2</th><td>2.3828309</td><td>2.776758</td><td>5.509352</td><td>2</td></tr>\n",
       "\t<tr><th scope=row>3</th><td>0.2767864</td><td>3.229315</td><td>6.075921</td><td>1</td></tr>\n",
       "\t<tr><th scope=row>4</th><td>1.0343190</td><td>3.102492</td><td>3.777051</td><td>0</td></tr>\n",
       "\t<tr><th scope=row>5</th><td>1.8493627</td><td>2.678662</td><td>6.574714</td><td>1</td></tr>\n",
       "\t<tr><th scope=row>6</th><td>0.7040310</td><td>2.738392</td><td>4.814784</td><td>2</td></tr>\n",
       "</tbody>\n",
       "</table>\n"
      ],
      "text/latex": [
       "A data.frame: 6 × 4\n",
       "\\begin{tabular}{r|llll}\n",
       "  & exponential & uniform & normal & poisson\\\\\n",
       "  & <dbl> & <dbl> & <dbl> & <int>\\\\\n",
       "\\hline\n",
       "\t1 & 0.3429564 & 2.843245 & 5.097225 & 2\\\\\n",
       "\t2 & 2.3828309 & 2.776758 & 5.509352 & 2\\\\\n",
       "\t3 & 0.2767864 & 3.229315 & 6.075921 & 1\\\\\n",
       "\t4 & 1.0343190 & 3.102492 & 3.777051 & 0\\\\\n",
       "\t5 & 1.8493627 & 2.678662 & 6.574714 & 1\\\\\n",
       "\t6 & 0.7040310 & 2.738392 & 4.814784 & 2\\\\\n",
       "\\end{tabular}\n"
      ],
      "text/markdown": [
       "\n",
       "A data.frame: 6 × 4\n",
       "\n",
       "| <!--/--> | exponential &lt;dbl&gt; | uniform &lt;dbl&gt; | normal &lt;dbl&gt; | poisson &lt;int&gt; |\n",
       "|---|---|---|---|---|\n",
       "| 1 | 0.3429564 | 2.843245 | 5.097225 | 2 |\n",
       "| 2 | 2.3828309 | 2.776758 | 5.509352 | 2 |\n",
       "| 3 | 0.2767864 | 3.229315 | 6.075921 | 1 |\n",
       "| 4 | 1.0343190 | 3.102492 | 3.777051 | 0 |\n",
       "| 5 | 1.8493627 | 2.678662 | 6.574714 | 1 |\n",
       "| 6 | 0.7040310 | 2.738392 | 4.814784 | 2 |\n",
       "\n"
      ],
      "text/plain": [
       "  exponential uniform  normal   poisson\n",
       "1 0.3429564   2.843245 5.097225 2      \n",
       "2 2.3828309   2.776758 5.509352 2      \n",
       "3 0.2767864   3.229315 6.075921 1      \n",
       "4 1.0343190   3.102492 3.777051 0      \n",
       "5 1.8493627   2.678662 6.574714 1      \n",
       "6 0.7040310   2.738392 4.814784 2      "
      ]
     },
     "metadata": {},
     "output_type": "display_data"
    }
   ],
   "source": [
    "# example4: dataset to be plotted  \n",
    "example4 <- data.frame(exponential = rexp(100000, rate = 1), \n",
    "                     uniform = runif(100000, min = 2.5, max = 3.5), \n",
    "                     normal = rnorm(100000, mean=5), \n",
    "                     poisson = rpois(100000, lambda = 2))\n",
    "head(example4)"
   ]
  },
  {
   "cell_type": "markdown",
   "metadata": {},
   "source": [
    "## Histogram\n",
    "\n",
    "Visualize the distribution of a single continuous variable by dividing the x axis into bins and counting the number of observations in each bin. Histograms (geom_histogram()) display the counts with bars.\n",
    "More information: ?geom_histogram (R documentation)"
   ]
  },
  {
   "cell_type": "code",
   "execution_count": 114,
   "metadata": {},
   "outputs": [
    {
     "name": "stderr",
     "output_type": "stream",
     "text": [
      "Using  as id variables\n",
      "\n"
     ]
    },
    {
     "data": {
      "image/png": "[encoded data removed]",
      "text/plain": [
       "plot without title"
      ]
     },
     "metadata": {
      "image/png": {
       "height": 300,
       "width": 600
      }
     },
     "output_type": "display_data"
    }
   ],
   "source": [
    "grf <- plot.hist(example4 %>% select(exponential), \n",
    "                  label_x = \"exponential\", color=colors[1]) + font\n",
    "plot(grf)"
   ]
  },
  {
   "cell_type": "markdown",
   "metadata": {},
   "source": [
    "## Arrangement of graphs\n",
    "\n",
    "Function $grid.arrange$ is used to position previously computed charts"
   ]
  },
  {
   "cell_type": "code",
   "execution_count": 116,
   "metadata": {},
   "outputs": [
    {
     "name": "stderr",
     "output_type": "stream",
     "text": [
      "Using  as id variables\n",
      "\n",
      "Using  as id variables\n",
      "\n",
      "Using  as id variables\n",
      "\n",
      "Using  as id variables\n",
      "\n"
     ]
    }
   ],
   "source": [
    "grfe <- plot.hist(example4 %>% select(exponential), \n",
    "                  label_x = \"exponential\", color=colors[1]) + font\n",
    "grfu <- plot.hist(example4 %>% select(uniform), \n",
    "                  label_x = \"uniform\", color=colors[1]) + font  \n",
    "grfn <- plot.hist(example4 %>% select(normal), \n",
    "                  label_x = \"normal\", color=colors[1]) + font \n",
    "grfp <- plot.hist(example4 %>% select(poisson), \n",
    "                  label_x = \"poisson\", color=colors[1]) + font"
   ]
  },
  {
   "cell_type": "code",
   "execution_count": 117,
   "metadata": {},
   "outputs": [
    {
     "data": {
      "image/png": "[encoded data removed]",
      "text/plain": [
       "plot without title"
      ]
     },
     "metadata": {
      "image/png": {
       "height": 300,
       "width": 600
      }
     },
     "output_type": "display_data"
    }
   ],
   "source": [
    "loadlibrary(\"gridExtra\") \n",
    "grid.arrange(grfe, grfu, grfn, grfp, ncol=2)"
   ]
  },
  {
   "cell_type": "markdown",
   "metadata": {},
   "source": [
    "## Density plot\n",
    "\n",
    "Computes and draws kernel density estimate, which is a smoothed version of the histogram. This is a useful alternative to the histogram for continuous data that comes from an underlying smooth distribution.\n",
    "\n",
    "More information: ?geom_density (R documentation)"
   ]
  },
  {
   "cell_type": "code",
   "execution_count": 118,
   "metadata": {
    "scrolled": true
   },
   "outputs": [
    {
     "name": "stderr",
     "output_type": "stream",
     "text": [
      "Using  as id variables\n",
      "\n",
      "Using  as id variables\n",
      "\n",
      "Using  as id variables\n",
      "\n"
     ]
    }
   ],
   "source": [
    "grfe <- plot.density(example4 %>% select(exponential), \n",
    "                     label_x = \"exponential\", color=colors[1]) + font  \n",
    "grfu <- plot.density(example4 %>% select(uniform), \n",
    "                     label_x = \"uniform\", color=colors[2]) + font  \n",
    "grfn <- plot.density(example4 %>% select(normal), \n",
    "                     label_x = \"normal\", color=colors[3]) + font  "
   ]
  },
  {
   "cell_type": "code",
   "execution_count": 119,
   "metadata": {},
   "outputs": [
    {
     "data": {
      "image/png": "[encoded data removed]",
      "text/plain": [
       "plot without title"
      ]
     },
     "metadata": {
      "image/png": {
       "height": 300,
       "width": 600
      }
     },
     "output_type": "display_data"
    }
   ],
   "source": [
    "loadlibrary(\"gridExtra\") \n",
    "grid.arrange(grfe, grfu, grfn, ncol=3)"
   ]
  },
  {
   "cell_type": "code",
   "execution_count": 120,
   "metadata": {},
   "outputs": [
    {
     "name": "stderr",
     "output_type": "stream",
     "text": [
      "Using  as id variables\n",
      "\n"
     ]
    },
    {
     "data": {
      "image/png": "[encoded data removed]",
      "text/plain": [
       "plot without title"
      ]
     },
     "metadata": {
      "image/png": {
       "height": 300,
       "width": 600
      }
     },
     "output_type": "display_data"
    }
   ],
   "source": [
    "grf <- plot.density(example4 %>% select(exponential, uniform, normal), \n",
    "                    colors=colors[1:3]) + font\n",
    "plot(grf)"
   ]
  },
  {
   "cell_type": "markdown",
   "metadata": {},
   "source": [
    "## Box-plot\n",
    "In descriptive statistics, a box plot is a method for graphically depicting groups of numerical data through their quartiles. Box plots may also have lines extending from the boxes (whiskers), indicating variability outside the upper and lower quartiles (outliers). \n",
    "\n",
    "More information: https://en.wikipedia.org/wiki/Box_plot"
   ]
  },
  {
   "cell_type": "code",
   "execution_count": 121,
   "metadata": {},
   "outputs": [
    {
     "name": "stderr",
     "output_type": "stream",
     "text": [
      "Using  as id variables\n",
      "\n"
     ]
    },
    {
     "data": {
      "image/png": "[encoded data removed]",
      "text/plain": [
       "plot without title"
      ]
     },
     "metadata": {
      "image/png": {
       "height": 300,
       "width": 600
      }
     },
     "output_type": "display_data"
    }
   ],
   "source": [
    "grf <- plot.boxplot(example4, colors=colors[1:4]) + font\n",
    "plot(grf)  "
   ]
  },
  {
   "cell_type": "markdown",
   "metadata": {},
   "source": [
    "## Comparing distribution with normal distribution\n",
    "\n",
    "$stat\\_qq()$ produce quantile-quantile plots comparing sample distributions with standard normal distribution.\n",
    "\n",
    "More information: ?stat_qq (R documentation)"
   ]
  },
  {
   "cell_type": "code",
   "execution_count": 122,
   "metadata": {},
   "outputs": [
    {
     "data": {
      "image/png": "[encoded data removed]",
      "text/plain": [
       "plot without title"
      ]
     },
     "metadata": {
      "image/png": {
       "height": 300,
       "width": 600
      }
     },
     "output_type": "display_data"
    }
   ],
   "source": [
    "  grf <- plot.norm_dist(rexp(1000, rate=1), colors=colors[1]) + font\n",
    "  plot(grf)"
   ]
  },
  {
   "cell_type": "markdown",
   "metadata": {},
   "source": [
    "## Building PDF from graphics"
   ]
  },
  {
   "cell_type": "code",
   "execution_count": 55,
   "metadata": {
    "scrolled": true
   },
   "outputs": [
    {
     "data": {
      "text/html": [
       "<strong>png:</strong> 2"
      ],
      "text/latex": [
       "\\textbf{png:} 2"
      ],
      "text/markdown": [
       "**png:** 2"
      ],
      "text/plain": [
       "png \n",
       "  2 "
      ]
     },
     "metadata": {},
     "output_type": "display_data"
    }
   ],
   "source": [
    "pdf(\"examples/plot.pdf\", width=4, height=3)\n",
    "plot(grf)\n",
    "dev.off()"
   ]
  },
  {
   "cell_type": "code",
   "execution_count": null,
   "metadata": {},
   "outputs": [],
   "source": []
  }
 ],
 "metadata": {
  "kernelspec": {
   "display_name": "R",
   "language": "R",
   "name": "ir"
  },
  "language_info": {
   "codemirror_mode": "r",
   "file_extension": ".r",
   "mimetype": "text/x-r-source",
   "name": "R",
   "pygments_lexer": "r",
   "version": "4.0.5"
  }
 },
 "nbformat": 4,
 "nbformat_minor": 2
}
