{
 "cells": [
  {
   "cell_type": "markdown",
   "metadata": {},
   "source": [
    "# Plotting charts with visual identity\n",
    "\n",
    "The $myGraphics.R$ enables plotting charts preserving visual identity, commonly change the type of chart transparently.  \n",
    "The majority of functions requires a $data.frame$ with two attributes ($x$, $atr$) or more ($x$, $atr_1$, ..., $atr_n$). \n",
    "\n",
    "## Library\n",
    "The library $myGraphics.R$ has a function named loadlibrary that is responsible for checking installed packages. \n",
    "Once the package is installed, it is loaded.\n",
    "\n",
    "Take some time looking at the parameters of functions available at https://raw.githubusercontent.com/eogasawara/mylibrary/master/myGraphic.R. They can help set up your graphics. "
   ]
  },
  {
   "cell_type": "code",
   "execution_count": 19,
   "metadata": {},
   "outputs": [],
   "source": [
    "source(\"https://raw.githubusercontent.com/eogasawara/mylibrary/master/myGraphic.R\")"
   ]
  },
  {
   "cell_type": "markdown",
   "metadata": {},
   "source": [
    "## Color palette\n",
    "\n",
    "Color brewer is a nice tool to set up color for your graphics. "
   ]
  },
  {
   "cell_type": "code",
   "execution_count": 2,
   "metadata": {},
   "outputs": [],
   "source": [
    "col_set <- brewer.pal(11, 'Spectral')\n",
    "colors <- col_set[c(3,5,7,9)]   "
   ]
  },
  {
   "cell_type": "code",
   "execution_count": 3,
   "metadata": {},
   "outputs": [],
   "source": [
    "# This function is used only to set graphics size in this notebook. Ignore it for the moment.\n",
    "plot.size(10, 5)"
   ]
  },
  {
   "cell_type": "markdown",
   "metadata": {},
   "source": [
    "## Datasets for the examples\n",
    "\n",
    "This function creates the basic dataset used in the examples."
   ]
  },
  {
   "cell_type": "markdown",
   "metadata": {},
   "source": [
    "### flight dataset\n",
    "It is a synthetic dataset containing the number of flights and delays in an airport every quarter."
   ]
  },
  {
   "cell_type": "code",
   "execution_count": 4,
   "metadata": {},
   "outputs": [
    {
     "data": {
      "text/html": [
       "<table class=\"dataframe\">\n",
       "<caption>A data.frame: 6 × 6</caption>\n",
       "<thead>\n",
       "\t<tr><th></th><th scope=col>Year</th><th scope=col>Quarters</th><th scope=col>Flights</th><th scope=col>Delays</th><th scope=col>OnTime</th><th scope=col>Perc</th></tr>\n",
       "\t<tr><th></th><th scope=col>&lt;int&gt;</th><th scope=col>&lt;ord&gt;</th><th scope=col>&lt;int&gt;</th><th scope=col>&lt;int&gt;</th><th scope=col>&lt;int&gt;</th><th scope=col>&lt;dbl&gt;</th></tr>\n",
       "</thead>\n",
       "<tbody>\n",
       "\t<tr><th scope=row>1</th><td>2016</td><td>Q1</td><td>11</td><td>6</td><td> 5</td><td>55</td></tr>\n",
       "\t<tr><th scope=row>2</th><td>2016</td><td>Q2</td><td>12</td><td>5</td><td> 7</td><td>42</td></tr>\n",
       "\t<tr><th scope=row>3</th><td>2016</td><td>Q3</td><td>13</td><td>3</td><td>10</td><td>23</td></tr>\n",
       "\t<tr><th scope=row>4</th><td>2016</td><td>Q4</td><td>12</td><td>5</td><td> 7</td><td>42</td></tr>\n",
       "\t<tr><th scope=row>5</th><td>2017</td><td>Q1</td><td>10</td><td>4</td><td> 6</td><td>40</td></tr>\n",
       "\t<tr><th scope=row>6</th><td>2017</td><td>Q2</td><td> 9</td><td>3</td><td> 6</td><td>33</td></tr>\n",
       "</tbody>\n",
       "</table>\n"
      ],
      "text/latex": [
       "A data.frame: 6 × 6\n",
       "\\begin{tabular}{r|llllll}\n",
       "  & Year & Quarters & Flights & Delays & OnTime & Perc\\\\\n",
       "  & <int> & <ord> & <int> & <int> & <int> & <dbl>\\\\\n",
       "\\hline\n",
       "\t1 & 2016 & Q1 & 11 & 6 &  5 & 55\\\\\n",
       "\t2 & 2016 & Q2 & 12 & 5 &  7 & 42\\\\\n",
       "\t3 & 2016 & Q3 & 13 & 3 & 10 & 23\\\\\n",
       "\t4 & 2016 & Q4 & 12 & 5 &  7 & 42\\\\\n",
       "\t5 & 2017 & Q1 & 10 & 4 &  6 & 40\\\\\n",
       "\t6 & 2017 & Q2 &  9 & 3 &  6 & 33\\\\\n",
       "\\end{tabular}\n"
      ],
      "text/markdown": [
       "\n",
       "A data.frame: 6 × 6\n",
       "\n",
       "| <!--/--> | Year &lt;int&gt; | Quarters &lt;ord&gt; | Flights &lt;int&gt; | Delays &lt;int&gt; | OnTime &lt;int&gt; | Perc &lt;dbl&gt; |\n",
       "|---|---|---|---|---|---|---|\n",
       "| 1 | 2016 | Q1 | 11 | 6 |  5 | 55 |\n",
       "| 2 | 2016 | Q2 | 12 | 5 |  7 | 42 |\n",
       "| 3 | 2016 | Q3 | 13 | 3 | 10 | 23 |\n",
       "| 4 | 2016 | Q4 | 12 | 5 |  7 | 42 |\n",
       "| 5 | 2017 | Q1 | 10 | 4 |  6 | 40 |\n",
       "| 6 | 2017 | Q2 |  9 | 3 |  6 | 33 |\n",
       "\n"
      ],
      "text/plain": [
       "  Year Quarters Flights Delays OnTime Perc\n",
       "1 2016 Q1       11      6       5     55  \n",
       "2 2016 Q2       12      5       7     42  \n",
       "3 2016 Q3       13      3      10     23  \n",
       "4 2016 Q4       12      5       7     42  \n",
       "5 2017 Q1       10      4       6     40  \n",
       "6 2017 Q2        9      3       6     33  "
      ]
     },
     "metadata": {},
     "output_type": "display_data"
    }
   ],
   "source": [
    "create_dataset <- function() {\n",
    "  data <- read.table(text = \"Year Quarters Flights Delays\n",
    "                     2016 Q1 11 6\n",
    "                     2016 Q2 12 5\n",
    "                     2016 Q3 13 3\n",
    "                     2016 Q4 12 5\n",
    "                     2017 Q1 10 4\n",
    "                     2017 Q2 9 3\n",
    "                     2017 Q3 11 4\n",
    "                     2017 Q4 25 15\n",
    "                     2018 Q1 14 3\n",
    "                     2018 Q2 12 5\n",
    "                     2018 Q3 13 3\n",
    "                     2018 Q4 15 4\",\n",
    "                     header = TRUE,sep = \"\")  \n",
    "  data$OnTime <- data$Flights - data$Delays \n",
    "  data$Perc <- round(100 * data$Delays / data$Flights)\n",
    "  data$Quarters <- factor(data$Quarters, levels=c(\"Q1\", \"Q2\", \"Q3\", \"Q4\"), ordered = TRUE)\n",
    "  return(data)\n",
    "}\n",
    "flightdata <- create_dataset()\n",
    "head(flightdata)"
   ]
  },
  {
   "cell_type": "markdown",
   "metadata": {},
   "source": [
    "### Motor Trend Car Road Tests\n",
    "The data was extracted from the 1974 Motor Trend US magazine and comprises fuel consumption and ten aspects of automobile design and performance for 32 automobiles (1973–74 models).\n",
    "It is contained in the datasets package."
   ]
  },
  {
   "cell_type": "code",
   "execution_count": 5,
   "metadata": {},
   "outputs": [
    {
     "data": {
      "text/html": [
       "<table class=\"dataframe\">\n",
       "<caption>A data.frame: 6 × 11</caption>\n",
       "<thead>\n",
       "\t<tr><th></th><th scope=col>mpg</th><th scope=col>cyl</th><th scope=col>disp</th><th scope=col>hp</th><th scope=col>drat</th><th scope=col>wt</th><th scope=col>qsec</th><th scope=col>vs</th><th scope=col>am</th><th scope=col>gear</th><th scope=col>carb</th></tr>\n",
       "\t<tr><th></th><th scope=col>&lt;dbl&gt;</th><th scope=col>&lt;dbl&gt;</th><th scope=col>&lt;dbl&gt;</th><th scope=col>&lt;dbl&gt;</th><th scope=col>&lt;dbl&gt;</th><th scope=col>&lt;dbl&gt;</th><th scope=col>&lt;dbl&gt;</th><th scope=col>&lt;dbl&gt;</th><th scope=col>&lt;dbl&gt;</th><th scope=col>&lt;dbl&gt;</th><th scope=col>&lt;dbl&gt;</th></tr>\n",
       "</thead>\n",
       "<tbody>\n",
       "\t<tr><th scope=row>Mazda RX4</th><td>21.0</td><td>6</td><td>160</td><td>110</td><td>3.90</td><td>2.620</td><td>16.46</td><td>0</td><td>1</td><td>4</td><td>4</td></tr>\n",
       "\t<tr><th scope=row>Mazda RX4 Wag</th><td>21.0</td><td>6</td><td>160</td><td>110</td><td>3.90</td><td>2.875</td><td>17.02</td><td>0</td><td>1</td><td>4</td><td>4</td></tr>\n",
       "\t<tr><th scope=row>Datsun 710</th><td>22.8</td><td>4</td><td>108</td><td> 93</td><td>3.85</td><td>2.320</td><td>18.61</td><td>1</td><td>1</td><td>4</td><td>1</td></tr>\n",
       "\t<tr><th scope=row>Hornet 4 Drive</th><td>21.4</td><td>6</td><td>258</td><td>110</td><td>3.08</td><td>3.215</td><td>19.44</td><td>1</td><td>0</td><td>3</td><td>1</td></tr>\n",
       "\t<tr><th scope=row>Hornet Sportabout</th><td>18.7</td><td>8</td><td>360</td><td>175</td><td>3.15</td><td>3.440</td><td>17.02</td><td>0</td><td>0</td><td>3</td><td>2</td></tr>\n",
       "\t<tr><th scope=row>Valiant</th><td>18.1</td><td>6</td><td>225</td><td>105</td><td>2.76</td><td>3.460</td><td>20.22</td><td>1</td><td>0</td><td>3</td><td>1</td></tr>\n",
       "</tbody>\n",
       "</table>\n"
      ],
      "text/latex": [
       "A data.frame: 6 × 11\n",
       "\\begin{tabular}{r|lllllllllll}\n",
       "  & mpg & cyl & disp & hp & drat & wt & qsec & vs & am & gear & carb\\\\\n",
       "  & <dbl> & <dbl> & <dbl> & <dbl> & <dbl> & <dbl> & <dbl> & <dbl> & <dbl> & <dbl> & <dbl>\\\\\n",
       "\\hline\n",
       "\tMazda RX4 & 21.0 & 6 & 160 & 110 & 3.90 & 2.620 & 16.46 & 0 & 1 & 4 & 4\\\\\n",
       "\tMazda RX4 Wag & 21.0 & 6 & 160 & 110 & 3.90 & 2.875 & 17.02 & 0 & 1 & 4 & 4\\\\\n",
       "\tDatsun 710 & 22.8 & 4 & 108 &  93 & 3.85 & 2.320 & 18.61 & 1 & 1 & 4 & 1\\\\\n",
       "\tHornet 4 Drive & 21.4 & 6 & 258 & 110 & 3.08 & 3.215 & 19.44 & 1 & 0 & 3 & 1\\\\\n",
       "\tHornet Sportabout & 18.7 & 8 & 360 & 175 & 3.15 & 3.440 & 17.02 & 0 & 0 & 3 & 2\\\\\n",
       "\tValiant & 18.1 & 6 & 225 & 105 & 2.76 & 3.460 & 20.22 & 1 & 0 & 3 & 1\\\\\n",
       "\\end{tabular}\n"
      ],
      "text/markdown": [
       "\n",
       "A data.frame: 6 × 11\n",
       "\n",
       "| <!--/--> | mpg &lt;dbl&gt; | cyl &lt;dbl&gt; | disp &lt;dbl&gt; | hp &lt;dbl&gt; | drat &lt;dbl&gt; | wt &lt;dbl&gt; | qsec &lt;dbl&gt; | vs &lt;dbl&gt; | am &lt;dbl&gt; | gear &lt;dbl&gt; | carb &lt;dbl&gt; |\n",
       "|---|---|---|---|---|---|---|---|---|---|---|---|\n",
       "| Mazda RX4 | 21.0 | 6 | 160 | 110 | 3.90 | 2.620 | 16.46 | 0 | 1 | 4 | 4 |\n",
       "| Mazda RX4 Wag | 21.0 | 6 | 160 | 110 | 3.90 | 2.875 | 17.02 | 0 | 1 | 4 | 4 |\n",
       "| Datsun 710 | 22.8 | 4 | 108 |  93 | 3.85 | 2.320 | 18.61 | 1 | 1 | 4 | 1 |\n",
       "| Hornet 4 Drive | 21.4 | 6 | 258 | 110 | 3.08 | 3.215 | 19.44 | 1 | 0 | 3 | 1 |\n",
       "| Hornet Sportabout | 18.7 | 8 | 360 | 175 | 3.15 | 3.440 | 17.02 | 0 | 0 | 3 | 2 |\n",
       "| Valiant | 18.1 | 6 | 225 | 105 | 2.76 | 3.460 | 20.22 | 1 | 0 | 3 | 1 |\n",
       "\n"
      ],
      "text/plain": [
       "                  mpg  cyl disp hp  drat wt    qsec  vs am gear carb\n",
       "Mazda RX4         21.0 6   160  110 3.90 2.620 16.46 0  1  4    4   \n",
       "Mazda RX4 Wag     21.0 6   160  110 3.90 2.875 17.02 0  1  4    4   \n",
       "Datsun 710        22.8 4   108   93 3.85 2.320 18.61 1  1  4    1   \n",
       "Hornet 4 Drive    21.4 6   258  110 3.08 3.215 19.44 1  0  3    1   \n",
       "Hornet Sportabout 18.7 8   360  175 3.15 3.440 17.02 0  0  3    2   \n",
       "Valiant           18.1 6   225  105 2.76 3.460 20.22 1  0  3    1   "
      ]
     },
     "metadata": {},
     "output_type": "display_data"
    }
   ],
   "source": [
    "head(mtcars)"
   ]
  },
  {
   "cell_type": "markdown",
   "metadata": {},
   "source": [
    "## Scatter plot\n",
    "\n",
    "This example filters data for flights and delays. It uses two colors and setup $x$ and $y$ labels. \n",
    "\n",
    "The function returns a preset graphic that can be enhanced. In this case, we change the $x$ labels orientations and add a centered title."
   ]
  },
  {
   "cell_type": "code",
   "execution_count": 6,
   "metadata": {},
   "outputs": [
    {
     "data": {
      "text/html": [
       "<table class=\"dataframe\">\n",
       "<caption>A data.frame: 6 × 3</caption>\n",
       "<thead>\n",
       "\t<tr><th></th><th scope=col>wt</th><th scope=col>mpg</th><th scope=col>disp</th></tr>\n",
       "\t<tr><th></th><th scope=col>&lt;dbl&gt;</th><th scope=col>&lt;dbl&gt;</th><th scope=col>&lt;dbl&gt;</th></tr>\n",
       "</thead>\n",
       "<tbody>\n",
       "\t<tr><th scope=row>Mazda RX4</th><td>2.620</td><td>21.0</td><td>160</td></tr>\n",
       "\t<tr><th scope=row>Mazda RX4 Wag</th><td>2.875</td><td>21.0</td><td>160</td></tr>\n",
       "\t<tr><th scope=row>Datsun 710</th><td>2.320</td><td>22.8</td><td>108</td></tr>\n",
       "\t<tr><th scope=row>Hornet 4 Drive</th><td>3.215</td><td>21.4</td><td>258</td></tr>\n",
       "\t<tr><th scope=row>Hornet Sportabout</th><td>3.440</td><td>18.7</td><td>360</td></tr>\n",
       "\t<tr><th scope=row>Valiant</th><td>3.460</td><td>18.1</td><td>225</td></tr>\n",
       "</tbody>\n",
       "</table>\n"
      ],
      "text/latex": [
       "A data.frame: 6 × 3\n",
       "\\begin{tabular}{r|lll}\n",
       "  & wt & mpg & disp\\\\\n",
       "  & <dbl> & <dbl> & <dbl>\\\\\n",
       "\\hline\n",
       "\tMazda RX4 & 2.620 & 21.0 & 160\\\\\n",
       "\tMazda RX4 Wag & 2.875 & 21.0 & 160\\\\\n",
       "\tDatsun 710 & 2.320 & 22.8 & 108\\\\\n",
       "\tHornet 4 Drive & 3.215 & 21.4 & 258\\\\\n",
       "\tHornet Sportabout & 3.440 & 18.7 & 360\\\\\n",
       "\tValiant & 3.460 & 18.1 & 225\\\\\n",
       "\\end{tabular}\n"
      ],
      "text/markdown": [
       "\n",
       "A data.frame: 6 × 3\n",
       "\n",
       "| <!--/--> | wt &lt;dbl&gt; | mpg &lt;dbl&gt; | disp &lt;dbl&gt; |\n",
       "|---|---|---|---|\n",
       "| Mazda RX4 | 2.620 | 21.0 | 160 |\n",
       "| Mazda RX4 Wag | 2.875 | 21.0 | 160 |\n",
       "| Datsun 710 | 2.320 | 22.8 | 108 |\n",
       "| Hornet 4 Drive | 3.215 | 21.4 | 258 |\n",
       "| Hornet Sportabout | 3.440 | 18.7 | 360 |\n",
       "| Valiant | 3.460 | 18.1 | 225 |\n",
       "\n"
      ],
      "text/plain": [
       "                  wt    mpg  disp\n",
       "Mazda RX4         2.620 21.0 160 \n",
       "Mazda RX4 Wag     2.875 21.0 160 \n",
       "Datsun 710        2.320 22.8 108 \n",
       "Hornet 4 Drive    3.215 21.4 258 \n",
       "Hornet Sportabout 3.440 18.7 360 \n",
       "Valiant           3.460 18.1 225 "
      ]
     },
     "metadata": {},
     "output_type": "display_data"
    }
   ],
   "source": [
    "  series <- mtcars %>% select(wt, mpg, disp)\n",
    "  head(series)"
   ]
  },
  {
   "cell_type": "code",
   "execution_count": 7,
   "metadata": {},
   "outputs": [
    {
     "data": {
      "image/png": "[encoded data removed]",
      "text/plain": [
       "plot without title"
      ]
     },
     "metadata": {
      "image/png": {
       "height": 300,
       "width": 600
      }
     },
     "output_type": "display_data"
    }
   ],
   "source": [
    "  grf <- plot.scatter(series, label_x = \"wt\", colors=colors[1:2])\n",
    "  grf <- grf + theme(text = element_text(size=16))\n",
    "  plot(grf)"
   ]
  },
  {
   "cell_type": "markdown",
   "metadata": {},
   "source": [
    "## Line plot\n",
    "This example filters data for flights and delays. It uses the default configuration and extends the $x$ labels orientation to 45 degrees. \n",
    "\n",
    "It is very important to try to associate the same color for a certain data/method. In this case, delays and flights are presented in the same color as in the previous graphic. "
   ]
  },
  {
   "cell_type": "code",
   "execution_count": 8,
   "metadata": {},
   "outputs": [
    {
     "data": {
      "image/png": "[encoded data removed]",
      "text/plain": [
       "plot without title"
      ]
     },
     "metadata": {
      "image/png": {
       "height": 300,
       "width": 600
      }
     },
     "output_type": "display_data"
    }
   ],
   "source": [
    "  grf <- plot.series(series, label_x = \"wt\", colors=colors[1:2])\n",
    "  grf <- grf + theme(text = element_text(size=16))\n",
    "  plot(grf)"
   ]
  },
  {
   "cell_type": "markdown",
   "metadata": {},
   "source": [
    "## Line plot with second y axis\n",
    "\n",
    "This examples uses mtcars dataset. \n",
    "\n",
    "It does a line plot \n",
    "\n",
    "It is very important to try to associate the same color for a certain data/method. In this case, delays and flights are presented in the same color as in the previous graphic. "
   ]
  },
  {
   "cell_type": "code",
   "execution_count": 9,
   "metadata": {},
   "outputs": [
    {
     "name": "stderr",
     "output_type": "stream",
     "text": [
      "Loading required package: scales\n",
      "\n"
     ]
    },
    {
     "data": {
      "image/png": "[encoded data removed]",
      "text/plain": [
       "plot without title"
      ]
     },
     "metadata": {
      "image/png": {
       "height": 300,
       "width": 600
      }
     },
     "output_type": "display_data"
    }
   ],
   "source": [
    "  series <- mtcars %>% select(wt, mpg, disp)\n",
    "  grf <- plot.series2nd(series, label_x = \"wt\", colors=colors[1:2])\n",
    "  grf <- grf + theme(text = element_text(size=16))\n",
    "  plot(grf)"
   ]
  },
  {
   "cell_type": "markdown",
   "metadata": {},
   "source": [
    "## Bar graph\n",
    "This graphic filters data for flights and presents the first 11 quarters. Each quarter is presented in a specific color. \n",
    "The function $coord\\_flip()$ enables horizontal bar plot.\n",
    "The function $grid.arrange()$ can put graphics side by side."
   ]
  },
  {
   "cell_type": "code",
   "execution_count": 10,
   "metadata": {},
   "outputs": [
    {
     "data": {
      "text/html": [
       "<table class=\"dataframe\">\n",
       "<caption>A tibble: 3 × 2</caption>\n",
       "<thead>\n",
       "\t<tr><th scope=col>cyl</th><th scope=col>hp</th></tr>\n",
       "\t<tr><th scope=col>&lt;dbl&gt;</th><th scope=col>&lt;dbl&gt;</th></tr>\n",
       "</thead>\n",
       "<tbody>\n",
       "\t<tr><td>4</td><td> 82.63636</td></tr>\n",
       "\t<tr><td>6</td><td>122.28571</td></tr>\n",
       "\t<tr><td>8</td><td>209.21429</td></tr>\n",
       "</tbody>\n",
       "</table>\n"
      ],
      "text/latex": [
       "A tibble: 3 × 2\n",
       "\\begin{tabular}{ll}\n",
       " cyl & hp\\\\\n",
       " <dbl> & <dbl>\\\\\n",
       "\\hline\n",
       "\t 4 &  82.63636\\\\\n",
       "\t 6 & 122.28571\\\\\n",
       "\t 8 & 209.21429\\\\\n",
       "\\end{tabular}\n"
      ],
      "text/markdown": [
       "\n",
       "A tibble: 3 × 2\n",
       "\n",
       "| cyl &lt;dbl&gt; | hp &lt;dbl&gt; |\n",
       "|---|---|\n",
       "| 4 |  82.63636 |\n",
       "| 6 | 122.28571 |\n",
       "| 8 | 209.21429 |\n",
       "\n"
      ],
      "text/plain": [
       "  cyl hp       \n",
       "1 4    82.63636\n",
       "2 6   122.28571\n",
       "3 8   209.21429"
      ]
     },
     "metadata": {},
     "output_type": "display_data"
    }
   ],
   "source": [
    "series <- mtcars %>% group_by(cyl) %>% summarize(hp = mean(hp))\n",
    "head(series)"
   ]
  },
  {
   "cell_type": "code",
   "execution_count": 11,
   "metadata": {},
   "outputs": [
    {
     "data": {
      "image/png": "[encoded data removed]",
      "text/plain": [
       "plot without title"
      ]
     },
     "metadata": {
      "image/png": {
       "height": 300,
       "width": 600
      }
     },
     "output_type": "display_data"
    }
   ],
   "source": [
    "grf <- plot.bar(series, colors=col_set[1])\n",
    "grf <- grf + theme(text = element_text(size=16))\n",
    "plot(grf)"
   ]
  },
  {
   "cell_type": "code",
   "execution_count": 12,
   "metadata": {},
   "outputs": [
    {
     "data": {
      "image/png": "[encoded data removed]",
      "text/plain": [
       "plot without title"
      ]
     },
     "metadata": {
      "image/png": {
       "height": 300,
       "width": 600
      }
     },
     "output_type": "display_data"
    }
   ],
   "source": [
    "grf <- grf + coord_flip()\n",
    "plot(grf)"
   ]
  },
  {
   "cell_type": "markdown",
   "metadata": {},
   "source": [
    "## Bar graph with error bars\n",
    "This presents the average and the standard deviation of delays per quarters through the years. \n",
    "For that, it aggregates mean and sd values according to quarters. \n",
    "The conversion of the variable to factor is to sort it according to quarter semantics, instead of alphabetical order. \n",
    "The error bar is added using $geom\\_errorbar()$ function. "
   ]
  },
  {
   "cell_type": "code",
   "execution_count": 16,
   "metadata": {},
   "outputs": [
    {
     "data": {
      "text/html": [
       "<table class=\"dataframe\">\n",
       "<caption>A tibble: 4 × 3</caption>\n",
       "<thead>\n",
       "\t<tr><th scope=col>variable</th><th scope=col>mean</th><th scope=col>sd</th></tr>\n",
       "\t<tr><th scope=col>&lt;ord&gt;</th><th scope=col>&lt;dbl&gt;</th><th scope=col>&lt;dbl&gt;</th></tr>\n",
       "</thead>\n",
       "<tbody>\n",
       "\t<tr><td>Q1</td><td>4.333333</td><td>1.5275252</td></tr>\n",
       "\t<tr><td>Q2</td><td>4.333333</td><td>1.1547005</td></tr>\n",
       "\t<tr><td>Q3</td><td>3.333333</td><td>0.5773503</td></tr>\n",
       "\t<tr><td>Q4</td><td>8.000000</td><td>6.0827625</td></tr>\n",
       "</tbody>\n",
       "</table>\n"
      ],
      "text/latex": [
       "A tibble: 4 × 3\n",
       "\\begin{tabular}{lll}\n",
       " variable & mean & sd\\\\\n",
       " <ord> & <dbl> & <dbl>\\\\\n",
       "\\hline\n",
       "\t Q1 & 4.333333 & 1.5275252\\\\\n",
       "\t Q2 & 4.333333 & 1.1547005\\\\\n",
       "\t Q3 & 3.333333 & 0.5773503\\\\\n",
       "\t Q4 & 8.000000 & 6.0827625\\\\\n",
       "\\end{tabular}\n"
      ],
      "text/markdown": [
       "\n",
       "A tibble: 4 × 3\n",
       "\n",
       "| variable &lt;ord&gt; | mean &lt;dbl&gt; | sd &lt;dbl&gt; |\n",
       "|---|---|---|\n",
       "| Q1 | 4.333333 | 1.5275252 |\n",
       "| Q2 | 4.333333 | 1.1547005 |\n",
       "| Q3 | 3.333333 | 0.5773503 |\n",
       "| Q4 | 8.000000 | 6.0827625 |\n",
       "\n"
      ],
      "text/plain": [
       "  variable mean     sd       \n",
       "1 Q1       4.333333 1.5275252\n",
       "2 Q2       4.333333 1.1547005\n",
       "3 Q3       3.333333 0.5773503\n",
       "4 Q4       8.000000 6.0827625"
      ]
     },
     "metadata": {},
     "output_type": "display_data"
    }
   ],
   "source": [
    "data_sd <- flightdata %>% \n",
    "  select(variable=Quarters, value=Delays) %>% \n",
    "  group_by(variable) %>% \n",
    "  summarize(mean = mean(value), sd = sd(value))\n",
    "head(data_sd)"
   ]
  },
  {
   "cell_type": "code",
   "execution_count": 18,
   "metadata": {},
   "outputs": [
    {
     "data": {
      "image/png": "[encoded data removed]",
      "text/plain": [
       "plot without title"
      ]
     },
     "metadata": {
      "image/png": {
       "height": 300,
       "width": 600
      }
     },
     "output_type": "display_data"
    }
   ],
   "source": [
    "grf <- plot.bar(data_sd, colors=colors[1], alpha=0.5)\n",
    "grf <- grf + geom_errorbar(aes(x=variable, ymin=mean-sd, ymax=mean+sd), width=0.2, colour=colors[2], alpha=0.9, size=1.1) \n",
    "grf <- grf + theme(text = element_text(size=16))\n",
    "plot(grf)"
   ]
  },
  {
   "cell_type": "markdown",
   "metadata": {},
   "source": [
    "## Grouped bar & Stacked-bar\n",
    "\n",
    "Grouped bar or stacked bars can present different perspectives for the same data.\n"
   ]
  },
  {
   "cell_type": "code",
   "execution_count": 20,
   "metadata": {},
   "outputs": [
    {
     "data": {
      "text/html": [
       "<table class=\"dataframe\">\n",
       "<caption>A tibble: 3 × 3</caption>\n",
       "<thead>\n",
       "\t<tr><th scope=col>cyl</th><th scope=col>hp</th><th scope=col>mpg</th></tr>\n",
       "\t<tr><th scope=col>&lt;dbl&gt;</th><th scope=col>&lt;dbl&gt;</th><th scope=col>&lt;dbl&gt;</th></tr>\n",
       "</thead>\n",
       "<tbody>\n",
       "\t<tr><td>4</td><td> 82.63636</td><td>26.66364</td></tr>\n",
       "\t<tr><td>6</td><td>122.28571</td><td>19.74286</td></tr>\n",
       "\t<tr><td>8</td><td>209.21429</td><td>15.10000</td></tr>\n",
       "</tbody>\n",
       "</table>\n"
      ],
      "text/latex": [
       "A tibble: 3 × 3\n",
       "\\begin{tabular}{lll}\n",
       " cyl & hp & mpg\\\\\n",
       " <dbl> & <dbl> & <dbl>\\\\\n",
       "\\hline\n",
       "\t 4 &  82.63636 & 26.66364\\\\\n",
       "\t 6 & 122.28571 & 19.74286\\\\\n",
       "\t 8 & 209.21429 & 15.10000\\\\\n",
       "\\end{tabular}\n"
      ],
      "text/markdown": [
       "\n",
       "A tibble: 3 × 3\n",
       "\n",
       "| cyl &lt;dbl&gt; | hp &lt;dbl&gt; | mpg &lt;dbl&gt; |\n",
       "|---|---|---|\n",
       "| 4 |  82.63636 | 26.66364 |\n",
       "| 6 | 122.28571 | 19.74286 |\n",
       "| 8 | 209.21429 | 15.10000 |\n",
       "\n"
      ],
      "text/plain": [
       "  cyl hp        mpg     \n",
       "1 4    82.63636 26.66364\n",
       "2 6   122.28571 19.74286\n",
       "3 8   209.21429 15.10000"
      ]
     },
     "metadata": {},
     "output_type": "display_data"
    }
   ],
   "source": [
    "series <- mtcars %>% group_by(cyl) %>% summarize(hp = mean(hp), mpg = mean(mpg))\n",
    "head(series)"
   ]
  },
  {
   "cell_type": "code",
   "execution_count": 23,
   "metadata": {},
   "outputs": [
    {
     "data": {
      "image/png": "[encoded data removed]",
      "text/plain": [
       "plot without title"
      ]
     },
     "metadata": {
      "image/png": {
       "height": 300,
       "width": 600
      }
     },
     "output_type": "display_data"
    }
   ],
   "source": [
    "grf <- plot.groupedbar(series, colors=colors[1:2])\n",
    "grf <- grf + theme(text = element_text(size=16))\n",
    "plot(grf)"
   ]
  },
  {
   "cell_type": "code",
   "execution_count": 24,
   "metadata": {},
   "outputs": [
    {
     "data": {
      "image/png": "[encoded data removed]",
      "text/plain": [
       "plot without title"
      ]
     },
     "metadata": {
      "image/png": {
       "height": 300,
       "width": 600
      }
     },
     "output_type": "display_data"
    }
   ],
   "source": [
    "  grf <- plot.stackedbar(series, colors=colors[1:2])\n",
    "  grf <- grf + theme(axis.text.x = element_text(angle=90, hjust=1))\n",
    "  grf <- grf + theme(text = element_text(size=16))\n",
    "  plot(grf)"
   ]
  },
  {
   "cell_type": "markdown",
   "metadata": {},
   "source": [
    "## Faced grouped bar\n",
    "This graphic uses a facing column to group data. \n",
    "It filters data for on-time and delayed flights. \n",
    "\n",
    "In this graphic, labels are set for $x$ and $y$ axis and legend."
   ]
  },
  {
   "cell_type": "code",
   "execution_count": 42,
   "metadata": {},
   "outputs": [
    {
     "data": {
      "image/png": "[encoded data removed]",
      "text/plain": [
       "plot without title"
      ]
     },
     "metadata": {
      "image/png": {
       "height": 300,
       "width": 1440
      }
     },
     "output_type": "display_data"
    }
   ],
   "source": [
    "grf <- plot.bar(data %>% filter(variable %in% c('OnTime', 'Delays')) %>% \n",
    "                select(x=Months, face=Year, variable=variable, value=value), group=TRUE, colors=col_2)\n",
    "grf <- grf + theme(axis.text.x = element_text(angle=90, hjust=1))\n",
    "grf <- grf + facet_wrap(~face, ncol = 3) \n",
    "grf <- grf + xlab(\"data\")\n",
    "grf <- grf + guides(fill=guide_legend(title=\"faced graphics:\"))\n",
    "grf <- grf + ylab(\"amount\")\n",
    "\n",
    "plot_size(24, 5)\n",
    "plot(grf)\n",
    "plot_size(12, 5)"
   ]
  },
  {
   "cell_type": "markdown",
   "metadata": {},
   "source": [
    "## Pie chart\n",
    "In this graphic data is filtered for the year 2016 and only include flights. \n",
    "For each quarter it is associated with a pie-slice with a color. \n",
    "The conversion of the variable to factor enables ordering the legend according to the semantics of the data instead of alphabetical sort. "
   ]
  },
  {
   "cell_type": "code",
   "execution_count": 26,
   "metadata": {},
   "outputs": [
    {
     "data": {
      "image/png": "[encoded data removed]",
      "text/plain": [
       "plot without title"
      ]
     },
     "metadata": {
      "image/png": {
       "height": 300,
       "width": 600
      }
     },
     "output_type": "display_data"
    }
   ],
   "source": [
    "grf <- plot.pieplot(flightdata %>% group_by(Quarters) %>% summarize(Flights=mean(Flights)), colors=col_4)\n",
    "grf <- grf + theme(text = element_text(size=16))\n",
    "plot(grf)"
   ]
  },
  {
   "cell_type": "markdown",
   "metadata": {},
   "source": [
    "## Radar plot\n",
    "In this graphic data is filtered for the year 2016 and only include delays. \n",
    "For each quarter it is associated with an axis. \n",
    "The conversion of the variable to factor enables ordering the legend according to the semantics of the data instead of alphabetical sort. \n",
    "The $ylim$ function is used to force minimum value to be equal to 0."
   ]
  },
  {
   "cell_type": "code",
   "execution_count": 35,
   "metadata": {},
   "outputs": [
    {
     "data": {
      "text/html": [
       "<table class=\"dataframe\">\n",
       "<caption>A tibble: 3 × 2</caption>\n",
       "<thead>\n",
       "\t<tr><th scope=col>cyl</th><th scope=col>hp</th></tr>\n",
       "\t<tr><th scope=col>&lt;dbl&gt;</th><th scope=col>&lt;dbl&gt;</th></tr>\n",
       "</thead>\n",
       "<tbody>\n",
       "\t<tr><td>4</td><td> 82.63636</td></tr>\n",
       "\t<tr><td>6</td><td>122.28571</td></tr>\n",
       "\t<tr><td>8</td><td>209.21429</td></tr>\n",
       "</tbody>\n",
       "</table>\n"
      ],
      "text/latex": [
       "A tibble: 3 × 2\n",
       "\\begin{tabular}{ll}\n",
       " cyl & hp\\\\\n",
       " <dbl> & <dbl>\\\\\n",
       "\\hline\n",
       "\t 4 &  82.63636\\\\\n",
       "\t 6 & 122.28571\\\\\n",
       "\t 8 & 209.21429\\\\\n",
       "\\end{tabular}\n"
      ],
      "text/markdown": [
       "\n",
       "A tibble: 3 × 2\n",
       "\n",
       "| cyl &lt;dbl&gt; | hp &lt;dbl&gt; |\n",
       "|---|---|\n",
       "| 4 |  82.63636 |\n",
       "| 6 | 122.28571 |\n",
       "| 8 | 209.21429 |\n",
       "\n"
      ],
      "text/plain": [
       "  cyl hp       \n",
       "1 4    82.63636\n",
       "2 6   122.28571\n",
       "3 8   209.21429"
      ]
     },
     "metadata": {},
     "output_type": "display_data"
    },
    {
     "data": {
      "image/png": "[encoded data removed]",
      "text/plain": [
       "plot without title"
      ]
     },
     "metadata": {
      "image/png": {
       "height": 300,
       "width": 600
      }
     },
     "output_type": "display_data"
    }
   ],
   "source": [
    "  series <- mtcars %>% group_by(cyl) %>% summarize(hp = mean(hp))\n",
    "head(series)\n",
    "  grf <- plot.radar(series, colors=col_set[1])\n",
    "#grf <- grf + ylim(0, 200)\n",
    "  plot(grf)\n"
   ]
  },
  {
   "cell_type": "markdown",
   "metadata": {},
   "source": [
    "## Lollipop plot\n",
    "\n",
    "In this graphic, only the percentage of delayed flights is presented. \n",
    "This is a nice way to avoid using bar plots or pie charts."
   ]
  },
  {
   "cell_type": "code",
   "execution_count": 45,
   "metadata": {},
   "outputs": [
    {
     "data": {
      "image/png": "[encoded data removed]",
      "text/plain": [
       "plot without title"
      ]
     },
     "metadata": {
      "image/png": {
       "height": 300,
       "width": 720
      }
     },
     "output_type": "display_data"
    }
   ],
   "source": [
    "grf <- plot_lollipop(data %>% filter(variable ==\"Perc\") %>% select(variable=x,value=value), col_2[1], max_value_gap=2.25)\n",
    "\n",
    "plot(grf)"
   ]
  },
  {
   "cell_type": "markdown",
   "metadata": {},
   "source": [
    "## Dot plot\n",
    "In this graphic data is filtered for the year 2016 and the goal is to compare the number of delays with respect to on time flights. \n",
    "\n",
    "Data is plotted in ascending order of the values of the first variable in the dataset (Delays, displayed in orange). \n",
    "\n",
    "It is also important to observe that the function $plot\\_dotchar$ internally uses $ggdotchart$, which is not compatible with other $ggplot$ methods. Customizations should be done using $ggpar$ function, such as introducing a legend title. \n"
   ]
  },
  {
   "cell_type": "code",
   "execution_count": 46,
   "metadata": {},
   "outputs": [
    {
     "data": {
      "text/html": [
       "<table>\n",
       "<caption>A data.frame: 6 × 3</caption>\n",
       "<thead>\n",
       "\t<tr><th></th><th scope=col>variable</th><th scope=col>x</th><th scope=col>value</th></tr>\n",
       "\t<tr><th></th><th scope=col>&lt;fct&gt;</th><th scope=col>&lt;fct&gt;</th><th scope=col>&lt;dbl&gt;</th></tr>\n",
       "</thead>\n",
       "<tbody>\n",
       "\t<tr><th scope=row>1</th><td>Delays</td><td>Jan-Mar</td><td>6</td></tr>\n",
       "\t<tr><th scope=row>2</th><td>Delays</td><td>Apr-Jun</td><td>5</td></tr>\n",
       "\t<tr><th scope=row>3</th><td>Delays</td><td>Jul-Sep</td><td>3</td></tr>\n",
       "\t<tr><th scope=row>4</th><td>Delays</td><td>Oct-Dec</td><td>5</td></tr>\n",
       "\t<tr><th scope=row>5</th><td>OnTime</td><td>Jan-Mar</td><td>5</td></tr>\n",
       "\t<tr><th scope=row>6</th><td>OnTime</td><td>Apr-Jun</td><td>7</td></tr>\n",
       "</tbody>\n",
       "</table>\n"
      ],
      "text/latex": [
       "A data.frame: 6 × 3\n",
       "\\begin{tabular}{r|lll}\n",
       "  & variable & x & value\\\\\n",
       "  & <fct> & <fct> & <dbl>\\\\\n",
       "\\hline\n",
       "\t1 & Delays & Jan-Mar & 6\\\\\n",
       "\t2 & Delays & Apr-Jun & 5\\\\\n",
       "\t3 & Delays & Jul-Sep & 3\\\\\n",
       "\t4 & Delays & Oct-Dec & 5\\\\\n",
       "\t5 & OnTime & Jan-Mar & 5\\\\\n",
       "\t6 & OnTime & Apr-Jun & 7\\\\\n",
       "\\end{tabular}\n"
      ],
      "text/markdown": [
       "\n",
       "A data.frame: 6 × 3\n",
       "\n",
       "| <!--/--> | variable &lt;fct&gt; | x &lt;fct&gt; | value &lt;dbl&gt; |\n",
       "|---|---|---|---|\n",
       "| 1 | Delays | Jan-Mar | 6 |\n",
       "| 2 | Delays | Apr-Jun | 5 |\n",
       "| 3 | Delays | Jul-Sep | 3 |\n",
       "| 4 | Delays | Oct-Dec | 5 |\n",
       "| 5 | OnTime | Jan-Mar | 5 |\n",
       "| 6 | OnTime | Apr-Jun | 7 |\n",
       "\n"
      ],
      "text/plain": [
       "  variable x       value\n",
       "1 Delays   Jan-Mar 6    \n",
       "2 Delays   Apr-Jun 5    \n",
       "3 Delays   Jul-Sep 3    \n",
       "4 Delays   Oct-Dec 5    \n",
       "5 OnTime   Jan-Mar 5    \n",
       "6 OnTime   Apr-Jun 7    "
      ]
     },
     "metadata": {},
     "output_type": "display_data"
    },
    {
     "data": {
      "image/png": "[encoded data removed]",
      "text/plain": [
       "plot without title"
      ]
     },
     "metadata": {
      "image/png": {
       "height": 300,
       "width": 720
      }
     },
     "output_type": "display_data"
    }
   ],
   "source": [
    "dotdata <- data %>% filter(variable %in% c(\"Delays\", \"OnTime\") & Year==2016) %>% select(variable = variable, x = Months, value = value)\n",
    "head(dotdata)\n",
    "\n",
    "grf <- plot_dotchar(dotdata, color=col_2)\n",
    "grf <- ggpar(grf,legend.title = 'Flights')\n",
    "\n",
    "plot(grf)"
   ]
  },
  {
   "cell_type": "markdown",
   "metadata": {},
   "source": [
    "## Ballon plot\n",
    "This graph is able to combine two variables pair-wise. The intensity of this combination can be explored both by circle radius and color scale. It can be used to plot the correlation between all pairs of variables in a dataset, for example.\n",
    "\n",
    "To present the $x$ and $y$ axis according a desired order, data need to be converted into factors. "
   ]
  },
  {
   "cell_type": "code",
   "execution_count": 47,
   "metadata": {},
   "outputs": [
    {
     "data": {
      "image/png": "[encoded data removed]",
      "text/plain": [
       "plot without title"
      ]
     },
     "metadata": {
      "image/png": {
       "height": 300,
       "width": 720
      }
     },
     "output_type": "display_data"
    }
   ],
   "source": [
    "data_ballon <- data %>%  filter(variable == \"Flights\") %>% select(variable=Year, x=Months, value=value)\n",
    "data_ballon$variable <- factor(data_ballon$variable,levels = sort(unique(data_ballon$variable)))\n",
    "data_ballon$x <- factor(data_ballon$x,levels = c('Jan-Mar','Apr-Jun','Jul-Sep','Oct-Dec'))\n",
    "data_ballon$radius <- data_ballon$value\n",
    "\n",
    "grf <- plot_ballon(data_ballon, color = col_set[c(6,3)])\n",
    "\n",
    "plot(grf)"
   ]
  },
  {
   "cell_type": "markdown",
   "metadata": {},
   "source": [
    "## Examples using data distribution\n",
    "The following examples use random variables so that different data distribution can be better viewed."
   ]
  },
  {
   "cell_type": "code",
   "execution_count": 48,
   "metadata": {},
   "outputs": [
    {
     "data": {
      "text/html": [
       "<table>\n",
       "<caption>A data.frame: 6 × 4</caption>\n",
       "<thead>\n",
       "\t<tr><th></th><th scope=col>exponential</th><th scope=col>uniform</th><th scope=col>normal</th><th scope=col>poisson</th></tr>\n",
       "\t<tr><th></th><th scope=col>&lt;dbl&gt;</th><th scope=col>&lt;dbl&gt;</th><th scope=col>&lt;dbl&gt;</th><th scope=col>&lt;int&gt;</th></tr>\n",
       "</thead>\n",
       "<tbody>\n",
       "\t<tr><th scope=row>1</th><td>1.40659204</td><td>6.484961</td><td>3.313828</td><td>1</td></tr>\n",
       "\t<tr><th scope=row>2</th><td>0.08266335</td><td>5.964915</td><td>4.417647</td><td>2</td></tr>\n",
       "\t<tr><th scope=row>3</th><td>0.71010592</td><td>6.274179</td><td>5.440798</td><td>3</td></tr>\n",
       "\t<tr><th scope=row>4</th><td>0.56282430</td><td>6.076701</td><td>3.385869</td><td>3</td></tr>\n",
       "\t<tr><th scope=row>5</th><td>2.60758578</td><td>6.216331</td><td>4.849411</td><td>5</td></tr>\n",
       "\t<tr><th scope=row>6</th><td>0.44729568</td><td>5.632223</td><td>6.768948</td><td>1</td></tr>\n",
       "</tbody>\n",
       "</table>\n"
      ],
      "text/latex": [
       "A data.frame: 6 × 4\n",
       "\\begin{tabular}{r|llll}\n",
       "  & exponential & uniform & normal & poisson\\\\\n",
       "  & <dbl> & <dbl> & <dbl> & <int>\\\\\n",
       "\\hline\n",
       "\t1 & 1.40659204 & 6.484961 & 3.313828 & 1\\\\\n",
       "\t2 & 0.08266335 & 5.964915 & 4.417647 & 2\\\\\n",
       "\t3 & 0.71010592 & 6.274179 & 5.440798 & 3\\\\\n",
       "\t4 & 0.56282430 & 6.076701 & 3.385869 & 3\\\\\n",
       "\t5 & 2.60758578 & 6.216331 & 4.849411 & 5\\\\\n",
       "\t6 & 0.44729568 & 5.632223 & 6.768948 & 1\\\\\n",
       "\\end{tabular}\n"
      ],
      "text/markdown": [
       "\n",
       "A data.frame: 6 × 4\n",
       "\n",
       "| <!--/--> | exponential &lt;dbl&gt; | uniform &lt;dbl&gt; | normal &lt;dbl&gt; | poisson &lt;int&gt; |\n",
       "|---|---|---|---|---|\n",
       "| 1 | 1.40659204 | 6.484961 | 3.313828 | 1 |\n",
       "| 2 | 0.08266335 | 5.964915 | 4.417647 | 2 |\n",
       "| 3 | 0.71010592 | 6.274179 | 5.440798 | 3 |\n",
       "| 4 | 0.56282430 | 6.076701 | 3.385869 | 3 |\n",
       "| 5 | 2.60758578 | 6.216331 | 4.849411 | 5 |\n",
       "| 6 | 0.44729568 | 5.632223 | 6.768948 | 1 |\n",
       "\n"
      ],
      "text/plain": [
       "  exponential uniform  normal   poisson\n",
       "1 1.40659204  6.484961 3.313828 1      \n",
       "2 0.08266335  5.964915 4.417647 2      \n",
       "3 0.71010592  6.274179 5.440798 3      \n",
       "4 0.56282430  6.076701 3.385869 3      \n",
       "5 2.60758578  6.216331 4.849411 5      \n",
       "6 0.44729568  5.632223 6.768948 1      "
      ]
     },
     "metadata": {},
     "output_type": "display_data"
    },
    {
     "name": "stderr",
     "output_type": "stream",
     "text": [
      "Using  as id variables\n",
      "\n"
     ]
    },
    {
     "data": {
      "text/html": [
       "<table>\n",
       "<caption>A data.frame: 6 × 2</caption>\n",
       "<thead>\n",
       "\t<tr><th></th><th scope=col>variable</th><th scope=col>value</th></tr>\n",
       "\t<tr><th></th><th scope=col>&lt;fct&gt;</th><th scope=col>&lt;dbl&gt;</th></tr>\n",
       "</thead>\n",
       "<tbody>\n",
       "\t<tr><th scope=row>1</th><td>exponential</td><td>1.40659204</td></tr>\n",
       "\t<tr><th scope=row>2</th><td>exponential</td><td>0.08266335</td></tr>\n",
       "\t<tr><th scope=row>3</th><td>exponential</td><td>0.71010592</td></tr>\n",
       "\t<tr><th scope=row>4</th><td>exponential</td><td>0.56282430</td></tr>\n",
       "\t<tr><th scope=row>5</th><td>exponential</td><td>2.60758578</td></tr>\n",
       "\t<tr><th scope=row>6</th><td>exponential</td><td>0.44729568</td></tr>\n",
       "</tbody>\n",
       "</table>\n"
      ],
      "text/latex": [
       "A data.frame: 6 × 2\n",
       "\\begin{tabular}{r|ll}\n",
       "  & variable & value\\\\\n",
       "  & <fct> & <dbl>\\\\\n",
       "\\hline\n",
       "\t1 & exponential & 1.40659204\\\\\n",
       "\t2 & exponential & 0.08266335\\\\\n",
       "\t3 & exponential & 0.71010592\\\\\n",
       "\t4 & exponential & 0.56282430\\\\\n",
       "\t5 & exponential & 2.60758578\\\\\n",
       "\t6 & exponential & 0.44729568\\\\\n",
       "\\end{tabular}\n"
      ],
      "text/markdown": [
       "\n",
       "A data.frame: 6 × 2\n",
       "\n",
       "| <!--/--> | variable &lt;fct&gt; | value &lt;dbl&gt; |\n",
       "|---|---|---|\n",
       "| 1 | exponential | 1.40659204 |\n",
       "| 2 | exponential | 0.08266335 |\n",
       "| 3 | exponential | 0.71010592 |\n",
       "| 4 | exponential | 0.56282430 |\n",
       "| 5 | exponential | 2.60758578 |\n",
       "| 6 | exponential | 0.44729568 |\n",
       "\n"
      ],
      "text/plain": [
       "  variable    value     \n",
       "1 exponential 1.40659204\n",
       "2 exponential 0.08266335\n",
       "3 exponential 0.71010592\n",
       "4 exponential 0.56282430\n",
       "5 exponential 2.60758578\n",
       "6 exponential 0.44729568"
      ]
     },
     "metadata": {},
     "output_type": "display_data"
    }
   ],
   "source": [
    "stdata <- data.frame(exponential = rexp(100000, rate = 1), \n",
    "                     uniform = runif(100000, min = 5.5, max = 6.5), \n",
    "                     normal = rnorm(100000, mean=5), \n",
    "                     poisson = rpois(100000, lambda = 2))\n",
    "head(stdata)\n",
    "stdata <- melt(stdata[,c('exponential', 'uniform', 'normal', 'poisson')])\n",
    "head(stdata)"
   ]
  },
  {
   "cell_type": "markdown",
   "metadata": {},
   "source": [
    "## Histogram\n",
    "Histograms are used to plot a single variable."
   ]
  },
  {
   "cell_type": "code",
   "execution_count": 51,
   "metadata": {},
   "outputs": [
    {
     "data": {
      "image/png": "[encoded data removed]",
      "text/plain": [
       "plot without title"
      ]
     },
     "metadata": {
      "image/png": {
       "height": 600,
       "width": 1440
      }
     },
     "output_type": "display_data"
    }
   ],
   "source": [
    "grfe <- plot.hist(stdata %>% filter(variable=='exponential'), label_x = \"exponential\", color=col_4[1])\n",
    "grfu <- plot.hist(stdata %>% filter(variable=='uniform'), label_x = \"uniform\", color=col_4[2])\n",
    "grfn <- plot.hist(stdata %>% filter(variable=='normal'), label_x = \"normal\", color=col_4[3])\n",
    "grfp <- plot.hist(stdata %>% filter(variable=='poisson'), label_x = \"poisson\", color=col_4[4])\n",
    "\n",
    "plot_size(24, 10)\n",
    "grid.arrange(grfe, grfu, grfn, grfp,ncol=2)\n",
    "plot_size(12, 5)"
   ]
  },
  {
   "cell_type": "markdown",
   "metadata": {},
   "source": [
    "## Density plot\n",
    "This graphic presents the on-time and delayed flights density distribution."
   ]
  },
  {
   "cell_type": "code",
   "execution_count": 52,
   "metadata": {
    "scrolled": true
   },
   "outputs": [
    {
     "data": {
      "image/png": "[encoded data removed]",
      "text/plain": [
       "plot without title"
      ]
     },
     "metadata": {
      "image/png": {
       "height": 300,
       "width": 720
      }
     },
     "output_type": "display_data"
    }
   ],
   "source": [
    "grf <- plot.density(stdata, label_series = \"\", colors=col_4)\n",
    "\n",
    "plot(grf)"
   ]
  },
  {
   "cell_type": "markdown",
   "metadata": {},
   "source": [
    "## Box-plot\n",
    "This graphic presents the on-time and delayed flights boxplot."
   ]
  },
  {
   "cell_type": "code",
   "execution_count": 53,
   "metadata": {},
   "outputs": [
    {
     "data": {
      "image/png": "[encoded data removed]",
      "text/plain": [
       "plot without title"
      ]
     },
     "metadata": {
      "image/png": {
       "height": 300,
       "width": 720
      }
     },
     "output_type": "display_data"
    }
   ],
   "source": [
    "grf <- plot.boxplot(stdata, colors=col_4)\n",
    "plot(grf)"
   ]
  },
  {
   "cell_type": "markdown",
   "metadata": {},
   "source": [
    "## Building PDF from graphics"
   ]
  },
  {
   "cell_type": "code",
   "execution_count": 54,
   "metadata": {
    "scrolled": true
   },
   "outputs": [
    {
     "data": {
      "text/html": [
       "<strong>png:</strong> 2"
      ],
      "text/latex": [
       "\\textbf{png:} 2"
      ],
      "text/markdown": [
       "**png:** 2"
      ],
      "text/plain": [
       "png \n",
       "  2 "
      ]
     },
     "metadata": {},
     "output_type": "display_data"
    }
   ],
   "source": [
    "pdf(\"examples/plot.pdf\", width=4, height=3)\n",
    "plot(grf)\n",
    "dev.off()"
   ]
  },
  {
   "cell_type": "code",
   "execution_count": null,
   "metadata": {},
   "outputs": [],
   "source": []
  }
 ],
 "metadata": {
  "kernelspec": {
   "display_name": "R",
   "language": "R",
   "name": "ir"
  },
  "language_info": {
   "codemirror_mode": "r",
   "file_extension": ".r",
   "mimetype": "text/x-r-source",
   "name": "R",
   "pygments_lexer": "r",
   "version": "4.0.5"
  }
 },
 "nbformat": 4,
 "nbformat_minor": 2
}
