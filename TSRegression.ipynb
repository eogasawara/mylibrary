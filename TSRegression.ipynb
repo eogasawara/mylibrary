{
 "cells": [
  {
   "cell_type": "markdown",
   "metadata": {},
   "source": [
    "## Time Series Regression\n"
   ]
  },
  {
   "cell_type": "code",
   "execution_count": 42,
   "metadata": {},
   "outputs": [],
   "source": [
    "# version 1.0\n",
    "source(\"https://raw.githubusercontent.com/eogasawara/mylibrary/master/myTSRegression.R\")"
   ]
  },
  {
   "cell_type": "markdown",
   "metadata": {},
   "source": [
    "## Dataset for exploring\n",
    "Some parameters are fixed but can be explored. \n",
    "TSNormalization used is ts_gminmax(), but other normalizations are available."
   ]
  },
  {
   "cell_type": "code",
   "execution_count": 43,
   "metadata": {},
   "outputs": [],
   "source": [
    "load_series <- function(name) {\n",
    "  link <- url(sprintf(\"https://raw.githubusercontent.com/eogasawara/mylibrary/master/data/time-series/%s.RData\", name))\n",
    "  x <- get(load(link))\n",
    "  return(x)  \n",
    "}\n",
    "x <- load_series(\"sin\")\n",
    "sahead <- 1\n",
    "tsize <- 1\n",
    "swsize <- 10\n",
    "preproc <- ts_gminmax()\n"
   ]
  },
  {
   "cell_type": "markdown",
   "metadata": {},
   "source": [
    "## General function for testing regression methods"
   ]
  },
  {
   "cell_type": "code",
   "execution_count": 44,
   "metadata": {},
   "outputs": [],
   "source": [
    "train_test <- function(x, model, sw, test_size, steps_ahead) {\n",
    "  ts <- ts_data(x, sw)\n",
    "  \n",
    "  samp <- ts_sample(ts, test_size)\n",
    "\n",
    "  io_train <- ts_projection(samp$train)\n",
    "\n",
    "  model <- prepare(model, x=io_train$input, y=io_train$output)\n",
    "  \n",
    "  adjust <- action(model, io_train$input)\n",
    "  ev_adjust <- tsregression_evaluation(io_train$output, adjust)\n",
    "  print(head(ev_adjust$metrics))\n",
    "\n",
    "  io_test <- ts_projection(samp$test)\n",
    "  \n",
    "  prediction <- action(model, io_test$input)\n",
    "  ev_prediction <- tsregression_evaluation(io_test$output, prediction)\n",
    "  print(head(ev_prediction$metrics))\n",
    "  \n",
    "  print(sprintf(\"%s %.2f\", class(model)[1], 100*ev_prediction$metrics$smape))\n",
    "  \n",
    "  plot(model, y=c(io_train$output, io_test$output), yadj=adjust, ypre=prediction)\n",
    "  \n",
    "  return(model)\n",
    "}\n"
   ]
  },
  {
   "cell_type": "markdown",
   "metadata": {},
   "source": [
    "## ARIMA (baseline)"
   ]
  },
  {
   "cell_type": "code",
   "execution_count": 45,
   "metadata": {},
   "outputs": [
    {
     "name": "stderr",
     "output_type": "stream",
     "text": [
      "tsreg_arima,prepare.tsreg_arima,0.006,\n",
      "\n"
     ]
    },
    {
     "name": "stdout",
     "output_type": "stream",
     "text": [
      "        mse      smape\n",
      "1 0.0123684 0.05188252\n",
      "        mse      smape\n",
      "1 0.0257263 0.08558225\n",
      "[1] \"tsreg_arima 8.56\"\n"
     ]
    },
    {
     "data": {
      "text/plain": [
       "$log_time\n",
       "[1] 0.006076332\n",
       "\n",
       "$mdl\n",
       "Series: x \n",
       "ARIMA(1,0,0) with non-zero mean \n",
       "\n",
       "Coefficients:\n",
       "         ar1    mean\n",
       "      0.9807  2.0922\n",
       "s.e.  0.0138  0.4076\n",
       "\n",
       "sigma^2 estimated as 0.01262:  log likelihood=75.33\n",
       "AIC=-144.65   AICc=-144.4   BIC=-136.87\n",
       "\n",
       "$log_msg\n",
       "[1] \"tsreg_arima,prepare.tsreg_arima,0.006,\"\n",
       "\n",
       "attr(,\"class\")\n",
       "[1] \"tsreg_arima\"   \"tsregression\"  \"dal_transform\""
      ]
     },
     "metadata": {},
     "output_type": "display_data"
    },
    {
     "data": {
      "image/png": "[encoded data removed]",
      "text/plain": [
       "Plot with title \"tsreg_arima\""
      ]
     },
     "metadata": {
      "image/png": {
       "height": 420,
       "width": 420
      }
     },
     "output_type": "display_data"
    }
   ],
   "source": [
    "train_test(x, model=tsreg_arima(), 0, test_size = tsize, steps_ahead = sahead)"
   ]
  },
  {
   "cell_type": "markdown",
   "metadata": {},
   "source": [
    "## Neural Networks - MLP"
   ]
  },
  {
   "cell_type": "code",
   "execution_count": 46,
   "metadata": {},
   "outputs": [
    {
     "name": "stderr",
     "output_type": "stream",
     "text": [
      "tsreg_mlp,prepare.tsreg_sw,0.003,\n",
      "\n"
     ]
    },
    {
     "name": "stdout",
     "output_type": "stream",
     "text": [
      "          mse      smape\n",
      "1 0.002790585 0.02494837\n",
      "          mse      smape\n",
      "1 0.006242033 0.04309153\n",
      "[1] \"tsreg_mlp 4.31\"\n"
     ]
    },
    {
     "data": {
      "text/plain": [
       "$preprocess\n",
       "$gmin\n",
       "[1] 1.000096\n",
       "\n",
       "$gmax\n",
       "[1] 2.999785\n",
       "\n",
       "attr(,\"class\")\n",
       "[1] \"ts_gminmax\"    \"ts_normalize\"  \"normalize\"     \"dal_transform\"\n",
       "\n",
       "$input_size\n",
       "[1] 4\n",
       "\n",
       "$neurons\n",
       "[1] 5\n",
       "\n",
       "$decay\n",
       "[1] 0.08\n",
       "\n",
       "$maxit\n",
       "[1] 1000\n",
       "\n",
       "$log_time\n",
       "[1] 0.002517116\n",
       "\n",
       "$mdl\n",
       "a 4-5-1 network with 31 weights\n",
       "options were - linear output units  decay=0.08\n",
       "\n",
       "$log_msg\n",
       "[1] \"tsreg_mlp,prepare.tsreg_sw,0.003,\"\n",
       "\n",
       "attr(,\"class\")\n",
       "[1] \"tsreg_mlp\"     \"tsreg_sw\"      \"tsregression\"  \"dal_transform\""
      ]
     },
     "metadata": {},
     "output_type": "display_data"
    },
    {
     "data": {
      "image/png": "[encoded data removed]",
      "text/plain": [
       "Plot with title \"tsreg_mlp\""
      ]
     },
     "metadata": {
      "image/png": {
       "height": 420,
       "width": 420
      }
     },
     "output_type": "display_data"
    }
   ],
   "source": [
    "#do not set neurons and decay for automatic hyperparameter optimization\n",
    "train_test(x, model=tsreg_mlp(preproc, input_size=4, neurons=5, decay=0.08), sw = swsize, test_size = tsize, steps_ahead = sahead)"
   ]
  },
  {
   "cell_type": "markdown",
   "metadata": {},
   "source": [
    "## SVM\n"
   ]
  },
  {
   "cell_type": "code",
   "execution_count": null,
   "metadata": {},
   "outputs": [],
   "source": [
    "#do not set epsilon and cost for automatic hyperparameter optimization\n",
    "train_test(x, model=tsreg_svm(preproc, input_size=4, epsilon=0.1, cost=20.000), sw = swsize, test_size = tsize, steps_ahead = sahead)"
   ]
  },
  {
   "cell_type": "markdown",
   "metadata": {},
   "source": [
    "## Random Forest"
   ]
  },
  {
   "cell_type": "code",
   "execution_count": null,
   "metadata": {},
   "outputs": [],
   "source": [
    "#do not set mtry and ntree for automatic hyperparameter optimization\n",
    "train_test(x, model=tsreg_rf(preproc, input_size=4, mtry=5, ntree=375), sw = swsize, test_size = tsize, steps_ahead = sahead)"
   ]
  },
  {
   "cell_type": "markdown",
   "metadata": {},
   "source": [
    "## ELM"
   ]
  },
  {
   "cell_type": "code",
   "execution_count": null,
   "metadata": {},
   "outputs": [],
   "source": [
    "train_test(x, model=tsreg_elm(preproc, input_size=4), sw = swsize, test_size = tsize, steps_ahead = sahead)"
   ]
  },
  {
   "cell_type": "markdown",
   "metadata": {},
   "source": [
    "## Convolutional neural networks (CNN)"
   ]
  },
  {
   "cell_type": "code",
   "execution_count": null,
   "metadata": {},
   "outputs": [],
   "source": [
    "train_test(x, model=tsreg_cnn(preproc, input_size=4, epochs = 100), sw = swsize, test_size = tsize, steps_ahead = sahead)"
   ]
  },
  {
   "cell_type": "markdown",
   "metadata": {},
   "source": [
    "## Long short-term memory (LSTM)"
   ]
  },
  {
   "cell_type": "code",
   "execution_count": null,
   "metadata": {},
   "outputs": [],
   "source": [
    "train_test(x, model=tsreg_lstm(preproc, input_size=4, epochs = 100), sw = swsize, test_size = tsize, steps_ahead = sahead)"
   ]
  },
  {
   "cell_type": "code",
   "execution_count": null,
   "metadata": {},
   "outputs": [],
   "source": []
  }
 ],
 "metadata": {
  "kernelspec": {
   "display_name": "R",
   "language": "R",
   "name": "ir"
  },
  "language_info": {
   "codemirror_mode": "r",
   "file_extension": ".r",
   "mimetype": "text/x-r-source",
   "name": "R",
   "pygments_lexer": "r",
   "version": "3.6.0"
  }
 },
 "nbformat": 4,
 "nbformat_minor": 2
}
