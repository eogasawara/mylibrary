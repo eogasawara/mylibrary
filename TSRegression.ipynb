{
 "cells": [
  {
   "cell_type": "markdown",
   "metadata": {},
   "source": [
    "## Time Series Regression\n"
   ]
  },
  {
   "cell_type": "code",
   "execution_count": 1,
   "metadata": {},
   "outputs": [],
   "source": [
    "# version 1.2\n",
    "source(\"https://raw.githubusercontent.com/eogasawara/mylibrary/master/myBasic.R\")\n",
    "source(\"https://raw.githubusercontent.com/eogasawara/mylibrary/master/myPreprocessing.R\")\n",
    "source(\"https://raw.githubusercontent.com/eogasawara/mylibrary/master/myTSRegression.R\")"
   ]
  },
  {
   "cell_type": "markdown",
   "metadata": {},
   "source": [
    "## Dataset for exploring\n",
    "Some parameters are fixed but can be explored. \n",
    "TSNormalization used is ts_gminmax(), but other normalizations are available."
   ]
  },
  {
   "cell_type": "code",
   "execution_count": 2,
   "metadata": {},
   "outputs": [
    {
     "data": {
      "image/png": "[encoded data removed]",
      "text/plain": [
       "plot without title"
      ]
     },
     "metadata": {
      "image/png": {
       "height": 420,
       "width": 420
      }
     },
     "output_type": "display_data"
    }
   ],
   "source": [
    "load_series <- function(name) {\n",
    "  link <- url(sprintf(\"https://raw.githubusercontent.com/eogasawara/mylibrary/master/data/time-series/%s.RData\", name))\n",
    "  x <- get(load(link))\n",
    "  return(x)  \n",
    "}\n",
    "x <- load_series(\"sin\")\n",
    "sahead <- 1\n",
    "tsize <- 1\n",
    "swsize <- 10\n",
    "preproc <- ts_gminmax()\n",
    "plot(x)\n"
   ]
  },
  {
   "cell_type": "markdown",
   "metadata": {},
   "source": [
    "## General function for testing regression methods"
   ]
  },
  {
   "cell_type": "code",
   "execution_count": 3,
   "metadata": {},
   "outputs": [],
   "source": [
    "train_test <- function(x, model, sw_size, test_size, steps_ahead) {\n",
    "  ts <- ts_data(x, sw_size)\n",
    "  \n",
    "  samp <- ts_sample(ts, test_size)\n",
    "  \n",
    "  io_train <- ts_projection(samp$train)\n",
    "  \n",
    "  model <- train(model, x=io_train$input, y=io_train$output)\n",
    "  \n",
    "  adjust <- predict(model, io_train$input)\n",
    "  ev_adjust <- evaluation.tsreg(io_train$output, adjust)\n",
    "  print(head(ev_adjust$metrics))\n",
    "  \n",
    "  io_test <- ts_projection(samp$test)\n",
    "  \n",
    "  prediction <- predict(model, x=io_test$input, steps_ahead=steps_ahead)\n",
    "  output <- as.vector(io_test$output)\n",
    "  if (steps_ahead > 1)\n",
    "    output <- output[1:steps_ahead]\n",
    "  ev_prediction <- evaluation.tsreg(output, prediction)\n",
    "  print(head(ev_prediction$metrics))\n",
    "  \n",
    "  prep <- \"\"\n",
    "  if (!is.null(model$preprocess))\n",
    "    prep <- sprintf(\"-%s\", class(model$preprocess)[1])    \n",
    "  \n",
    "  print(sprintf(\"%s%s %.2f\", class(model)[1], prep, 100*ev_prediction$metrics$smape))\n",
    "  \n",
    "  yvalues <- c(io_train$output, io_test$output)\n",
    "  plot(model, y=yvalues, yadj=adjust, ypre=prediction)\n",
    "  return(model)\n",
    "}"
   ]
  },
  {
   "cell_type": "markdown",
   "metadata": {},
   "source": [
    "## ARIMA (baseline)"
   ]
  },
  {
   "cell_type": "code",
   "execution_count": 4,
   "metadata": {},
   "outputs": [
    {
     "name": "stderr",
     "output_type": "stream",
     "text": [
      "Loading required package: forecast\n",
      "\n",
      "Registered S3 method overwritten by 'quantmod':\n",
      "  method            from\n",
      "  as.zoo.data.frame zoo \n",
      "\n",
      "tsreg_arima,train.tsreg_arima,0.096,\n",
      "\n"
     ]
    },
    {
     "name": "stdout",
     "output_type": "stream",
     "text": [
      "        mse      smape\n",
      "1 0.0123684 0.05188252\n",
      "        mse      smape\n",
      "1 0.0257263 0.08558225\n",
      "[1] \"tsreg_arima 8.56\"\n"
     ]
    },
    {
     "name": "stderr",
     "output_type": "stream",
     "text": [
      "Loading required package: TSPred\n",
      "\n",
      "\n",
      "Attaching package: 'TSPred'\n",
      "\n",
      "\n",
      "The following objects are masked _by_ '.GlobalEnv':\n",
      "\n",
      "    minmax, train\n",
      "\n",
      "\n",
      "The following object is masked from 'package:base':\n",
      "\n",
      "    subset\n",
      "\n",
      "\n"
     ]
    },
    {
     "data": {
      "image/png": "[encoded data removed]",
      "text/plain": [
       "Plot with title \"tsreg_arima\""
      ]
     },
     "metadata": {
      "image/png": {
       "height": 420,
       "width": 420
      }
     },
     "output_type": "display_data"
    }
   ],
   "source": [
    "model <- train_test(x, model=tsreg_arima(), 0, \n",
    "           test_size = tsize, steps_ahead = sahead)"
   ]
  },
  {
   "cell_type": "markdown",
   "metadata": {},
   "source": [
    "## Random Forest"
   ]
  },
  {
   "cell_type": "code",
   "execution_count": 5,
   "metadata": {},
   "outputs": [
    {
     "name": "stderr",
     "output_type": "stream",
     "text": [
      "Loading required package: randomForest\n",
      "\n",
      "randomForest 4.6-14\n",
      "\n",
      "Type rfNews() to see new features/changes/bug fixes.\n",
      "\n",
      "Warning message in rfout$mse/(var(y) * (n - 1)/n):\n",
      "\"Recycling array of length 1 in vector-array arithmetic is deprecated.\n",
      "  Use c() or as.vector() instead.\n",
      "\"\n",
      "tsreg_rf,train.tsreg_sw,0.003,mtry=3,ntree=50\n",
      "\n"
     ]
    },
    {
     "name": "stdout",
     "output_type": "stream",
     "text": [
      "         mse      smape\n",
      "1 0.00217001 0.02093969\n",
      "          mse      smape\n",
      "1 0.005588891 0.04082207\n",
      "[1] \"tsreg_rf-ts_gminmax 4.08\"\n"
     ]
    },
    {
     "data": {
      "image/png": "[encoded data removed]",
      "text/plain": [
       "Plot with title \"tsreg_rf-ts_gminmax\""
      ]
     },
     "metadata": {
      "image/png": {
       "height": 420,
       "width": 420
      }
     },
     "output_type": "display_data"
    }
   ],
   "source": [
    "# do not set mtry and ntree for hyperparameter optimization\n",
    "# you can also set a range for them\n",
    "model <- train_test(x, model=tsreg_rf(preproc, input_size=4, mtry=3, ntree=50), \n",
    "                    sw = swsize, test_size = tsize, steps_ahead = sahead)"
   ]
  },
  {
   "cell_type": "markdown",
   "metadata": {},
   "source": [
    "## Neural Networks - MLP"
   ]
  },
  {
   "cell_type": "code",
   "execution_count": 9,
   "metadata": {},
   "outputs": [
    {
     "name": "stderr",
     "output_type": "stream",
     "text": [
      "tsreg_mlp,train.tsreg_sw,0.000,size=4,decay=0.00\n",
      "\n"
     ]
    },
    {
     "name": "stdout",
     "output_type": "stream",
     "text": [
      "           mse       smape\n",
      "1 4.142749e-06 0.001087659\n",
      "           mse       smape\n",
      "1 4.907576e-06 0.001235635\n",
      "[1] \"tsreg_mlp-ts_gminmax 0.12\"\n"
     ]
    },
    {
     "data": {
      "image/png": "[encoded data removed]",
      "text/plain": [
       "Plot with title \"tsreg_mlp-ts_gminmax\""
      ]
     },
     "metadata": {
      "image/png": {
       "height": 420,
       "width": 420
      }
     },
     "output_type": "display_data"
    }
   ],
   "source": [
    "# do not set decay and set a range for neurons for hyperparameter optimization\n",
    "# you can also set a range for them\n",
    "  model <- train_test(x, model=tsreg_mlp(preproc, input_size=4, size=4, decay=0), \n",
    "             sw = swsize, test_size = tsize, steps_ahead = sahead)"
   ]
  },
  {
   "cell_type": "markdown",
   "metadata": {},
   "source": [
    "## SVM\n"
   ]
  },
  {
   "cell_type": "code",
   "execution_count": null,
   "metadata": {},
   "outputs": [],
   "source": [
    "#do not set epsilon, cost, and  kernel for hyperparameter optimization\n",
    "# you can also set a range for them\n",
    "model <- train_test(x, model=tsreg_svm(preproc, input_size=4, epsilon=0.0, cost=80.00), \n",
    "           sw = swsize, test_size = tsize, steps_ahead = sahead)"
   ]
  },
  {
   "cell_type": "markdown",
   "metadata": {},
   "source": [
    "## ELM"
   ]
  },
  {
   "cell_type": "code",
   "execution_count": null,
   "metadata": {},
   "outputs": [],
   "source": [
    "#do not set nhid and actfun for hyperparameter optimization\n",
    "# you can also set a range for them\n",
    "model <- train_test(x, model=tsreg_elm(preproc, input_size=4, nhid=3,actfun=\"purelin\"), \n",
    "           sw = swsize, test_size = tsize, steps_ahead = sahead)"
   ]
  },
  {
   "cell_type": "markdown",
   "metadata": {},
   "source": [
    "## Convolutional neural networks (CNN)"
   ]
  },
  {
   "cell_type": "code",
   "execution_count": null,
   "metadata": {},
   "outputs": [],
   "source": [
    "# do not set neurons and epochs for hyperparameter optimization\n",
    "# you can also set a range for them\n",
    "model <- train_test(x, model=tsreg_cnn(preproc, input_size=4, neurons=16,epochs=200), \n",
    "           sw = swsize, test_size = tsize, steps_ahead = sahead)"
   ]
  },
  {
   "cell_type": "markdown",
   "metadata": {},
   "source": [
    "## Long short-term memory (LSTM)"
   ]
  },
  {
   "cell_type": "code",
   "execution_count": null,
   "metadata": {},
   "outputs": [],
   "source": [
    "# do not set neurons and epochs for hyperparameter optimization\n",
    "# you can also set a range for them\n",
    "model <- train_test(x, model=tsreg_lstm(preproc, input_size=4, neurons=32, epochs=200), \n",
    "                    sw = swsize, test_size = tsize, steps_ahead = sahead)"
   ]
  },
  {
   "cell_type": "code",
   "execution_count": null,
   "metadata": {},
   "outputs": [],
   "source": []
  }
 ],
 "metadata": {
  "kernelspec": {
   "display_name": "R",
   "language": "R",
   "name": "ir"
  },
  "language_info": {
   "codemirror_mode": "r",
   "file_extension": ".r",
   "mimetype": "text/x-r-source",
   "name": "R",
   "pygments_lexer": "r",
   "version": "4.0.5"
  }
 },
 "nbformat": 4,
 "nbformat_minor": 2
}
