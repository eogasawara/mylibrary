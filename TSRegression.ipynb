{
 "cells": [
  {
   "cell_type": "markdown",
   "metadata": {},
   "source": [
    "## Time Series Regression\n"
   ]
  },
  {
   "cell_type": "code",
   "execution_count": 42,
   "metadata": {},
   "outputs": [],
   "source": [
    "# version 1.0\n",
    "source(\"https://raw.githubusercontent.com/eogasawara/mylibrary/master/myTSRegression.R\")"
   ]
  },
  {
   "cell_type": "markdown",
   "metadata": {},
   "source": [
    "## Dataset for exploring\n",
    "Some parameters are fixed but can be explored. \n",
    "TSNormalization used is ts_gminmax(), but other normalizations are available."
   ]
  },
  {
   "cell_type": "code",
   "execution_count": 43,
   "metadata": {},
   "outputs": [],
   "source": [
    "load_series <- function(name) {\n",
    "  link <- url(sprintf(\"https://raw.githubusercontent.com/eogasawara/mylibrary/master/data/time-series/%s.RData\", name))\n",
    "  x <- get(load(link))\n",
    "  return(x)  \n",
    "}\n",
    "x <- load_series(\"sin\")\n",
    "sahead <- 1\n",
    "tsize <- 1\n",
    "swsize <- 10\n",
    "preproc <- ts_gminmax()\n"
   ]
  },
  {
   "cell_type": "markdown",
   "metadata": {},
   "source": [
    "## General function for testing regression methods"
   ]
  },
  {
   "cell_type": "code",
   "execution_count": 44,
   "metadata": {},
   "outputs": [],
   "source": [
    "train_test <- function(x, model, sw, test_size, steps_ahead) {\n",
    "  ts <- ts_data(x, sw)\n",
    "  \n",
    "  samp <- ts_sample(ts, test_size)\n",
    "\n",
    "  io_train <- ts_projection(samp$train)\n",
    "\n",
    "  model <- prepare(model, x=io_train$input, y=io_train$output)\n",
    "  \n",
    "  adjust <- action(model, io_train$input)\n",
    "  ev_adjust <- tsregression_evaluation(io_train$output, adjust)\n",
    "  print(head(ev_adjust$metrics))\n",
    "\n",
    "  io_test <- ts_projection(samp$test)\n",
    "  \n",
    "  prediction <- action(model, io_test$input)\n",
    "  ev_prediction <- tsregression_evaluation(io_test$output, prediction)\n",
    "  print(head(ev_prediction$metrics))\n",
    "  \n",
    "  print(sprintf(\"%s %.2f\", class(model)[1], 100*ev_prediction$metrics$smape))\n",
    "  \n",
    "  plot(model, y=c(io_train$output, io_test$output), yadj=adjust, ypre=prediction)\n",
    "  \n",
    "  return(model)\n",
    "}\n"
   ]
  },
  {
   "cell_type": "markdown",
   "metadata": {},
   "source": [
    "## ARIMA (baseline)"
   ]
  },
  {
   "cell_type": "code",
   "execution_count": 45,
   "metadata": {},
   "outputs": [
    {
     "name": "stderr",
     "output_type": "stream",
     "text": [
      "tsreg_arima,prepare.tsreg_arima,0.006,\n",
      "\n"
     ]
    },
    {
     "name": "stdout",
     "output_type": "stream",
     "text": [
      "        mse      smape\n",
      "1 0.0123684 0.05188252\n",
      "        mse      smape\n",
      "1 0.0257263 0.08558225\n",
      "[1] \"tsreg_arima 8.56\"\n"
     ]
    },
    {
     "data": {
      "text/plain": [
       "$log_time\n",
       "[1] 0.006076332\n",
       "\n",
       "$mdl\n",
       "Series: x \n",
       "ARIMA(1,0,0) with non-zero mean \n",
       "\n",
       "Coefficients:\n",
       "         ar1    mean\n",
       "      0.9807  2.0922\n",
       "s.e.  0.0138  0.4076\n",
       "\n",
       "sigma^2 estimated as 0.01262:  log likelihood=75.33\n",
       "AIC=-144.65   AICc=-144.4   BIC=-136.87\n",
       "\n",
       "$log_msg\n",
       "[1] \"tsreg_arima,prepare.tsreg_arima,0.006,\"\n",
       "\n",
       "attr(,\"class\")\n",
       "[1] \"tsreg_arima\"   \"tsregression\"  \"dal_transform\""
      ]
     },
     "metadata": {},
     "output_type": "display_data"
    },
    {
     "data": {
      "image/png": "[encoded data removed]",
      "text/plain": [
       "Plot with title \"tsreg_arima\""
      ]
     },
     "metadata": {
      "image/png": {
       "height": 420,
       "width": 420
      }
     },
     "output_type": "display_data"
    }
   ],
   "source": [
    "train_test(x, model=tsreg_arima(), 0, test_size = tsize, steps_ahead = sahead)"
   ]
  },
  {
   "cell_type": "markdown",
   "metadata": {},
   "source": [
    "## Neural Networks - MLP"
   ]
  },
  {
   "cell_type": "code",
   "execution_count": 46,
   "metadata": {},
   "outputs": [
    {
     "name": "stderr",
     "output_type": "stream",
     "text": [
      "tsreg_mlp,prepare.tsreg_sw,0.003,\n",
      "\n"
     ]
    },
    {
     "name": "stdout",
     "output_type": "stream",
     "text": [
      "          mse      smape\n",
      "1 0.002790585 0.02494837\n",
      "          mse      smape\n",
      "1 0.006242033 0.04309153\n",
      "[1] \"tsreg_mlp 4.31\"\n"
     ]
    },
    {
     "data": {
      "text/plain": [
       "$preprocess\n",
       "$gmin\n",
       "[1] 1.000096\n",
       "\n",
       "$gmax\n",
       "[1] 2.999785\n",
       "\n",
       "attr(,\"class\")\n",
       "[1] \"ts_gminmax\"    \"ts_normalize\"  \"normalize\"     \"dal_transform\"\n",
       "\n",
       "$input_size\n",
       "[1] 4\n",
       "\n",
       "$neurons\n",
       "[1] 5\n",
       "\n",
       "$decay\n",
       "[1] 0.08\n",
       "\n",
       "$maxit\n",
       "[1] 1000\n",
       "\n",
       "$log_time\n",
       "[1] 0.002517116\n",
       "\n",
       "$mdl\n",
       "a 4-5-1 network with 31 weights\n",
       "options were - linear output units  decay=0.08\n",
       "\n",
       "$log_msg\n",
       "[1] \"tsreg_mlp,prepare.tsreg_sw,0.003,\"\n",
       "\n",
       "attr(,\"class\")\n",
       "[1] \"tsreg_mlp\"     \"tsreg_sw\"      \"tsregression\"  \"dal_transform\""
      ]
     },
     "metadata": {},
     "output_type": "display_data"
    },
    {
     "data": {
      "image/png": "[encoded data removed]",
      "text/plain": [
       "Plot with title \"tsreg_mlp\""
      ]
     },
     "metadata": {
      "image/png": {
       "height": 420,
       "width": 420
      }
     },
     "output_type": "display_data"
    }
   ],
   "source": [
    "#do not set neurons and decay for automatic hyperparameter optimization\n",
    "train_test(x, model=tsreg_mlp(preproc, input_size=4, neurons=5, decay=0.08), sw = swsize, test_size = tsize, steps_ahead = sahead)"
   ]
  },
  {
   "cell_type": "markdown",
   "metadata": {},
   "source": [
    "## SVM\n"
   ]
  },
  {
   "cell_type": "code",
   "execution_count": 47,
   "metadata": {},
   "outputs": [
    {
     "name": "stderr",
     "output_type": "stream",
     "text": [
      "tsreg_svm,prepare.tsreg_sw,2.840,\n",
      "\n"
     ]
    },
    {
     "name": "stdout",
     "output_type": "stream",
     "text": [
      "           mse        smape\n",
      "1 3.610375e-08 8.698386e-05\n",
      "           mse       smape\n",
      "1 4.785184e-08 0.000121945\n",
      "[1] \"tsreg_svm 0.01\"\n"
     ]
    },
    {
     "data": {
      "text/plain": [
       "$preprocess\n",
       "$gmin\n",
       "[1] 1.000096\n",
       "\n",
       "$gmax\n",
       "[1] 2.999785\n",
       "\n",
       "attr(,\"class\")\n",
       "[1] \"ts_gminmax\"    \"ts_normalize\"  \"normalize\"     \"dal_transform\"\n",
       "\n",
       "$input_size\n",
       "[1] 4\n",
       "\n",
       "$kernel\n",
       "[1] \"radial\"\n",
       "\n",
       "$epsilon\n",
       "[1] 0.1\n",
       "\n",
       "$cost\n",
       "[1] 20\n",
       "\n",
       "$log_time\n",
       "[1] 2.839901\n",
       "\n",
       "$mdl\n",
       "\n",
       "Call:\n",
       "best.tune(method = svm, train.x = x, train.y = y, ranges = list(epsilon = seq(0, \n",
       "    1, 0.1), cost = 1:100))\n",
       "\n",
       "\n",
       "Parameters:\n",
       "   SVM-Type:  eps-regression \n",
       " SVM-Kernel:  radial \n",
       "       cost:  84 \n",
       "      gamma:  0.25 \n",
       "    epsilon:  0 \n",
       "\n",
       "\n",
       "Number of Support Vectors:  87\n",
       "\n",
       "\n",
       "$log_msg\n",
       "[1] \"tsreg_svm,prepare.tsreg_sw,2.840,\"\n",
       "\n",
       "attr(,\"class\")\n",
       "[1] \"tsreg_svm\"     \"tsreg_sw\"      \"tsregression\"  \"dal_transform\""
      ]
     },
     "metadata": {},
     "output_type": "display_data"
    },
    {
     "data": {
      "image/png": "[encoded data removed]",
      "text/plain": [
       "Plot with title \"tsreg_svm\""
      ]
     },
     "metadata": {
      "image/png": {
       "height": 420,
       "width": 420
      }
     },
     "output_type": "display_data"
    }
   ],
   "source": [
    "#do not set epsilon and cost for automatic hyperparameter optimization\n",
    "train_test(x, model=tsreg_svm(preproc, input_size=4, epsilon=0.1, cost=20.000), sw = swsize, test_size = tsize, steps_ahead = sahead)"
   ]
  },
  {
   "cell_type": "markdown",
   "metadata": {},
   "source": [
    "## Random Forest"
   ]
  },
  {
   "cell_type": "code",
   "execution_count": 51,
   "metadata": {},
   "outputs": [
    {
     "name": "stderr",
     "output_type": "stream",
     "text": [
      "Warning message in randomForest.default(structure(c(0.080194346041647, 0.51734714222878, :\n",
      "\"invalid mtry: reset to within valid range\"\n",
      "Warning message in rfout$mse/(var(y) * (n - 1)/n):\n",
      "\"Recycling array of length 1 in vector-array arithmetic is deprecated.\n",
      "  Use c() or as.vector() instead.\n",
      "\"\n",
      "Warning message in randomForest.default(structure(c(0.0938237503401221, 0.829635169338222, :\n",
      "\"invalid mtry: reset to within valid range\"\n",
      "Warning message in rfout$mse/(var(y) * (n - 1)/n):\n",
      "\"Recycling array of length 1 in vector-array arithmetic is deprecated.\n",
      "  Use c() or as.vector() instead.\n",
      "\"\n",
      "Warning message in randomForest.default(structure(c(0.0938237503401221, 0.829635169338222, :\n",
      "\"invalid mtry: reset to within valid range\"\n",
      "Warning message in rfout$mse/(var(y) * (n - 1)/n):\n",
      "\"Recycling array of length 1 in vector-array arithmetic is deprecated.\n",
      "  Use c() or as.vector() instead.\n",
      "\"\n",
      "Warning message in randomForest.default(structure(c(0.0938237503401221, 0.829635169338222, :\n",
      "\"invalid mtry: reset to within valid range\"\n",
      "Warning message in rfout$mse/(var(y) * (n - 1)/n):\n",
      "\"Recycling array of length 1 in vector-array arithmetic is deprecated.\n",
      "  Use c() or as.vector() instead.\n",
      "\"\n",
      "Warning message in randomForest.default(structure(c(0.0938237503401221, 0.829635169338222, :\n",
      "\"invalid mtry: reset to within valid range\"\n",
      "Warning message in rfout$mse/(var(y) * (n - 1)/n):\n",
      "\"Recycling array of length 1 in vector-array arithmetic is deprecated.\n",
      "  Use c() or as.vector() instead.\n",
      "\"\n",
      "Warning message in randomForest.default(structure(c(0.0938237503401221, 0.829635169338222, :\n",
      "\"invalid mtry: reset to within valid range\"\n",
      "Warning message in rfout$mse/(var(y) * (n - 1)/n):\n",
      "\"Recycling array of length 1 in vector-array arithmetic is deprecated.\n",
      "  Use c() or as.vector() instead.\n",
      "\"\n",
      "Warning message in randomForest.default(structure(c(0.0938237503401221, 0.829635169338222, :\n",
      "\"invalid mtry: reset to within valid range\"\n",
      "Warning message in rfout$mse/(var(y) * (n - 1)/n):\n",
      "\"Recycling array of length 1 in vector-array arithmetic is deprecated.\n",
      "  Use c() or as.vector() instead.\n",
      "\"\n",
      "Warning message in randomForest.default(structure(c(0.0938237503401221, 0.829635169338222, :\n",
      "\"invalid mtry: reset to within valid range\"\n",
      "Warning message in rfout$mse/(var(y) * (n - 1)/n):\n",
      "\"Recycling array of length 1 in vector-array arithmetic is deprecated.\n",
      "  Use c() or as.vector() instead.\n",
      "\"\n",
      "Warning message in randomForest.default(structure(c(0.0938237503401221, 0.829635169338222, :\n",
      "\"invalid mtry: reset to within valid range\"\n",
      "Warning message in rfout$mse/(var(y) * (n - 1)/n):\n",
      "\"Recycling array of length 1 in vector-array arithmetic is deprecated.\n",
      "  Use c() or as.vector() instead.\n",
      "\"\n",
      "Warning message in randomForest.default(structure(c(0.0938237503401221, 0.829635169338222, :\n",
      "\"invalid mtry: reset to within valid range\"\n",
      "Warning message in rfout$mse/(var(y) * (n - 1)/n):\n",
      "\"Recycling array of length 1 in vector-array arithmetic is deprecated.\n",
      "  Use c() or as.vector() instead.\n",
      "\"\n",
      "Warning message in randomForest.default(x = structure(c(0.908229920519507, 0.948853434514525, :\n",
      "\"invalid mtry: reset to within valid range\"\n",
      "Warning message in rfout$mse/(var(y) * (n - 1)/n):\n",
      "\"Recycling array of length 1 in vector-array arithmetic is deprecated.\n",
      "  Use c() or as.vector() instead.\n",
      "\"\n",
      "tsreg_rf,prepare.tsreg_sw,0.013,\n",
      "\n"
     ]
    },
    {
     "name": "stdout",
     "output_type": "stream",
     "text": [
      "          mse      smape\n",
      "1 0.001975217 0.02042925\n",
      "          mse      smape\n",
      "1 0.004271032 0.03577794\n",
      "[1] \"tsreg_rf 3.58\"\n"
     ]
    },
    {
     "data": {
      "text/plain": [
       "$preprocess\n",
       "$gmin\n",
       "[1] 1.000096\n",
       "\n",
       "$gmax\n",
       "[1] 2.999785\n",
       "\n",
       "attr(,\"class\")\n",
       "[1] \"ts_gminmax\"    \"ts_normalize\"  \"normalize\"     \"dal_transform\"\n",
       "\n",
       "$input_size\n",
       "[1] 4\n",
       "\n",
       "$mtry\n",
       "[1] 5\n",
       "\n",
       "$ntree\n",
       "[1] 375\n",
       "\n",
       "$log_time\n",
       "[1] 0.01341688\n",
       "\n",
       "$mdl\n",
       "\n",
       "Call:\n",
       " best.tune(method = randomForest, train.x = x, train.y = y, ranges = list(mtry = obj$mtry,      ntree = obj$ntree)) \n",
       "               Type of random forest: regression\n",
       "                     Number of trees: 375\n",
       "No. of variables tried at each split: 4\n",
       "\n",
       "          Mean of squared residuals: 0.002676791\n",
       "                    % Var explained: 97.83\n",
       "\n",
       "$log_msg\n",
       "[1] \"tsreg_rf,prepare.tsreg_sw,0.013,\"\n",
       "\n",
       "attr(,\"class\")\n",
       "[1] \"tsreg_rf\"      \"tsreg_sw\"      \"tsregression\"  \"dal_transform\""
      ]
     },
     "metadata": {},
     "output_type": "display_data"
    },
    {
     "data": {
      "image/png": "[encoded data removed]",
      "text/plain": [
       "Plot with title \"tsreg_rf\""
      ]
     },
     "metadata": {
      "image/png": {
       "height": 420,
       "width": 420
      }
     },
     "output_type": "display_data"
    }
   ],
   "source": [
    "#do not set mtry and ntree for automatic hyperparameter optimization\n",
    "train_test(x, model=tsreg_rf(preproc, input_size=4, mtry=5, ntree=375), sw = swsize, test_size = tsize, steps_ahead = sahead)"
   ]
  },
  {
   "cell_type": "markdown",
   "metadata": {},
   "source": [
    "## ELM"
   ]
  },
  {
   "cell_type": "code",
   "execution_count": 49,
   "metadata": {},
   "outputs": [
    {
     "name": "stderr",
     "output_type": "stream",
     "text": [
      "tsreg_elm,prepare.tsreg_sw,0.000,\n",
      "\n"
     ]
    },
    {
     "name": "stdout",
     "output_type": "stream",
     "text": [
      "           mse       smape\n",
      "1 4.614911e-05 0.003869529\n",
      "           mse       smape\n",
      "1 1.622629e-05 0.002247946\n",
      "[1] \"tsreg_elm 0.22\"\n"
     ]
    },
    {
     "data": {
      "text/plain": [
       "$preprocess\n",
       "$gmin\n",
       "[1] 1.000096\n",
       "\n",
       "$gmax\n",
       "[1] 2.999785\n",
       "\n",
       "attr(,\"class\")\n",
       "[1] \"ts_gminmax\"    \"ts_normalize\"  \"normalize\"     \"dal_transform\"\n",
       "\n",
       "$input_size\n",
       "[1] 4\n",
       "\n",
       "$nhid\n",
       "[1] 1 2\n",
       "\n",
       "$log_time\n",
       "[1] 0.0003274163\n",
       "\n",
       "$mdl\n",
       "$mdl$inpweight\n",
       "          [,1]      [,2]      [,3]      [,4]\n",
       "[1,] 0.2655087 0.5728534 0.2016819 0.9446753\n",
       "[2,] 0.3721239 0.9082078 0.8983897 0.6607978\n",
       "\n",
       "$mdl$biashid\n",
       "     [,1]\n",
       "\n",
       "$mdl$outweight\n",
       "          [,1]\n",
       "[1,]  4.348511\n",
       "[2,] -2.688824\n",
       "\n",
       "$mdl$actfun\n",
       "[1] \"purelin\"\n",
       "\n",
       "$mdl$nhid\n",
       "[1] 2\n",
       "\n",
       "$mdl$predictions\n",
       "               [,1]\n",
       " [1,]  1.0017136167\n",
       " [2,]  0.9938474323\n",
       " [3,]  0.9734435251\n",
       " [4,]  0.9410176420\n",
       " [5,]  0.8973894081\n",
       " [6,]  0.8436616085\n",
       " [7,]  0.7811923140\n",
       " [8,]  0.7115605530\n",
       " [9,]  0.6365263986\n",
       "[10,]  0.5579864796\n",
       "[11,]  0.4779260395\n",
       "[12,]  0.3983687558\n",
       "[13,]  0.3213255878\n",
       "[14,]  0.2487439459\n",
       "[15,]  0.1824584669\n",
       "[16,]  0.1241446404\n",
       "[17,]  0.0752764576\n",
       "[18,]  0.0370891533\n",
       "[19,]  0.0105479831\n",
       "[20,] -0.0036761752\n",
       "[21,] -0.0052237793\n",
       "[22,]  0.0059442893\n",
       "[23,]  0.0295457367\n",
       "[24,]  0.0649839922\n",
       "[25,]  0.1113632876\n",
       "[26,]  0.1675112993\n",
       "[27,]  0.2320087812\n",
       "[28,]  0.3032254386\n",
       "[29,]  0.3793611372\n",
       "[30,]  0.4584914047\n",
       "[31,]  0.5386160754\n",
       "[32,]  0.6177098482\n",
       "[33,]  0.6937734799\n",
       "[34,]  0.7648843198\n",
       "[35,]  0.8292449083\n",
       "[36,]  0.8852284110\n",
       "[37,]  0.9314197400\n",
       "[38,]  0.9666513231\n",
       "[39,]  0.9900326159\n",
       "[40,]  1.0009726126\n",
       "[41,]  0.9991947842\n",
       "[42,]  0.9847440687\n",
       "[43,]  0.9579857349\n",
       "[44,]  0.9195961499\n",
       "[45,]  0.8705456823\n",
       "[46,]  0.8120741745\n",
       "[47,]  0.7456596033\n",
       "[48,]  0.6729807215\n",
       "[49,]  0.5958746237\n",
       "[50,]  0.5162903110\n",
       "[51,]  0.4362394259\n",
       "[52,]  0.3577454045\n",
       "[53,]  0.2827923300\n",
       "[54,]  0.2132747819\n",
       "[55,]  0.1509499461\n",
       "[56,]  0.0973931998\n",
       "[57,]  0.0539582899\n",
       "[58,]  0.0217431151\n",
       "[59,]  0.0015619743\n",
       "[60,] -0.0060750164\n",
       "[61,] -0.0009748178\n",
       "[62,]  0.0167336531\n",
       "[63,]  0.0466027814\n",
       "[64,]  0.0878775692\n",
       "[65,]  0.1395147187\n",
       "[66,]  0.2002090044\n",
       "[67,]  0.2684262646\n",
       "[68,]  0.3424421802\n",
       "[69,]  0.4203858605\n",
       "[70,]  0.5002871330\n",
       "[71,]  0.5801263433\n",
       "[72,]  0.6578854060\n",
       "[73,]  0.7315988152\n",
       "[74,]  0.7994033265\n",
       "[75,]  0.8595850537\n",
       "[76,]  0.9106227912\n",
       "[77,]  0.9512264645\n",
       "[78,]  0.9803697398\n",
       "[79,]  0.9973159662\n",
       "[80,]  1.0016367962\n",
       "[81,]  0.9932230125\n",
       "[82,]  0.9722872895\n",
       "[83,]  0.9393588166\n",
       "[84,]  0.8952699228\n",
       "[85,]  0.8411350372\n",
       "[86,]  0.7783225206\n",
       "[87,]  0.7084200769\n",
       "[88,]  0.6331946212\n",
       "[89,]  0.5545476178\n",
       "[90,]  0.4744670170\n",
       "\n",
       "$mdl$fitted_values\n",
       "               [,1]\n",
       " [1,]  1.0017136167\n",
       " [2,]  0.9938474323\n",
       " [3,]  0.9734435251\n",
       " [4,]  0.9410176420\n",
       " [5,]  0.8973894081\n",
       " [6,]  0.8436616085\n",
       " [7,]  0.7811923140\n",
       " [8,]  0.7115605530\n",
       " [9,]  0.6365263986\n",
       "[10,]  0.5579864796\n",
       "[11,]  0.4779260395\n",
       "[12,]  0.3983687558\n",
       "[13,]  0.3213255878\n",
       "[14,]  0.2487439459\n",
       "[15,]  0.1824584669\n",
       "[16,]  0.1241446404\n",
       "[17,]  0.0752764576\n",
       "[18,]  0.0370891533\n",
       "[19,]  0.0105479831\n",
       "[20,] -0.0036761752\n",
       "[21,] -0.0052237793\n",
       "[22,]  0.0059442893\n",
       "[23,]  0.0295457367\n",
       "[24,]  0.0649839922\n",
       "[25,]  0.1113632876\n",
       "[26,]  0.1675112993\n",
       "[27,]  0.2320087812\n",
       "[28,]  0.3032254386\n",
       "[29,]  0.3793611372\n",
       "[30,]  0.4584914047\n",
       "[31,]  0.5386160754\n",
       "[32,]  0.6177098482\n",
       "[33,]  0.6937734799\n",
       "[34,]  0.7648843198\n",
       "[35,]  0.8292449083\n",
       "[36,]  0.8852284110\n",
       "[37,]  0.9314197400\n",
       "[38,]  0.9666513231\n",
       "[39,]  0.9900326159\n",
       "[40,]  1.0009726126\n",
       "[41,]  0.9991947842\n",
       "[42,]  0.9847440687\n",
       "[43,]  0.9579857349\n",
       "[44,]  0.9195961499\n",
       "[45,]  0.8705456823\n",
       "[46,]  0.8120741745\n",
       "[47,]  0.7456596033\n",
       "[48,]  0.6729807215\n",
       "[49,]  0.5958746237\n",
       "[50,]  0.5162903110\n",
       "[51,]  0.4362394259\n",
       "[52,]  0.3577454045\n",
       "[53,]  0.2827923300\n",
       "[54,]  0.2132747819\n",
       "[55,]  0.1509499461\n",
       "[56,]  0.0973931998\n",
       "[57,]  0.0539582899\n",
       "[58,]  0.0217431151\n",
       "[59,]  0.0015619743\n",
       "[60,] -0.0060750164\n",
       "[61,] -0.0009748178\n",
       "[62,]  0.0167336531\n",
       "[63,]  0.0466027814\n",
       "[64,]  0.0878775692\n",
       "[65,]  0.1395147187\n",
       "[66,]  0.2002090044\n",
       "[67,]  0.2684262646\n",
       "[68,]  0.3424421802\n",
       "[69,]  0.4203858605\n",
       "[70,]  0.5002871330\n",
       "[71,]  0.5801263433\n",
       "[72,]  0.6578854060\n",
       "[73,]  0.7315988152\n",
       "[74,]  0.7994033265\n",
       "[75,]  0.8595850537\n",
       "[76,]  0.9106227912\n",
       "[77,]  0.9512264645\n",
       "[78,]  0.9803697398\n",
       "[79,]  0.9973159662\n",
       "[80,]  1.0016367962\n",
       "[81,]  0.9932230125\n",
       "[82,]  0.9722872895\n",
       "[83,]  0.9393588166\n",
       "[84,]  0.8952699228\n",
       "[85,]  0.8411350372\n",
       "[86,]  0.7783225206\n",
       "[87,]  0.7084200769\n",
       "[88,]  0.6331946212\n",
       "[89,]  0.5545476178\n",
       "[90,]  0.4744670170\n",
       "\n",
       "$mdl$residuals\n",
       "               [,1]\n",
       " [1,] -1.713617e-03\n",
       " [2,] -1.810929e-03\n",
       " [3,] -1.806911e-03\n",
       " [4,] -1.701663e-03\n",
       " [5,] -1.497846e-03\n",
       " [6,] -1.200613e-03\n",
       " [7,] -8.174751e-04\n",
       " [8,] -3.581182e-04\n",
       " [9,]  1.658470e-04\n",
       "[10,]  7.411763e-04\n",
       "[11,]  1.353327e-03\n",
       "[12,]  1.986826e-03\n",
       "[13,]  2.625661e-03\n",
       "[14,]  3.253683e-03\n",
       "[15,]  3.855019e-03\n",
       "[16,]  4.414467e-03\n",
       "[17,]  4.917888e-03\n",
       "[18,]  5.352557e-03\n",
       "[19,]  5.707486e-03\n",
       "[20,]  5.973703e-03\n",
       "[21,]  6.144480e-03\n",
       "[22,]  6.215500e-03\n",
       "[23,]  6.184968e-03\n",
       "[24,]  6.053655e-03\n",
       "[25,]  5.824881e-03\n",
       "[26,]  5.504429e-03\n",
       "[27,]  5.100398e-03\n",
       "[28,]  4.623001e-03\n",
       "[29,]  4.084305e-03\n",
       "[30,]  3.497927e-03\n",
       "[31,]  2.878688e-03\n",
       "[32,]  2.242241e-03\n",
       "[33,]  1.604674e-03\n",
       "[34,]  9.821016e-04\n",
       "[35,]  3.902610e-04\n",
       "[36,] -1.558880e-04\n",
       "[37,] -6.425405e-04\n",
       "[38,] -1.057395e-03\n",
       "[39,] -1.389966e-03\n",
       "[40,] -1.631847e-03\n",
       "[41,] -1.776924e-03\n",
       "[42,] -1.821530e-03\n",
       "[43,] -1.764536e-03\n",
       "[44,] -1.607385e-03\n",
       "[45,] -1.354048e-03\n",
       "[46,] -1.010928e-03\n",
       "[47,] -5.866993e-04\n",
       "[48,] -9.208444e-05\n",
       "[49,]  4.604142e-04\n",
       "[50,]  1.056831e-03\n",
       "[51,]  1.682091e-03\n",
       "[52,]  2.320389e-03\n",
       "[53,]  2.955591e-03\n",
       "[54,]  3.571641e-03\n",
       "[55,]  4.152967e-03\n",
       "[56,]  4.684876e-03\n",
       "[57,]  5.153921e-03\n",
       "[58,]  5.548248e-03\n",
       "[59,]  5.857889e-03\n",
       "[60,]  6.075016e-03\n",
       "[61,]  6.194143e-03\n",
       "[62,]  6.212257e-03\n",
       "[63,]  6.128901e-03\n",
       "[64,]  5.946181e-03\n",
       "[65,]  5.668717e-03\n",
       "[66,]  5.303522e-03\n",
       "[67,]  4.859826e-03\n",
       "[68,]  4.348845e-03\n",
       "[69,]  3.783495e-03\n",
       "[70,]  3.178067e-03\n",
       "[71,]  2.547863e-03\n",
       "[72,]  1.908813e-03\n",
       "[73,]  1.277071e-03\n",
       "[74,]  6.686043e-04\n",
       "[75,]  9.879363e-05\n",
       "[76,] -4.179580e-04\n",
       "[77,] -8.685889e-04\n",
       "[78,] -1.241708e-03\n",
       "[79,] -1.527885e-03\n",
       "[80,] -1.719885e-03\n",
       "[81,] -1.812856e-03\n",
       "[82,] -1.804448e-03\n",
       "[83,] -1.694872e-03\n",
       "[84,] -1.486899e-03\n",
       "[85,] -1.185786e-03\n",
       "[86,] -7.991440e-04\n",
       "[87,] -3.367457e-04\n",
       "[88,]  1.897207e-04\n",
       "[89,]  7.669477e-04\n",
       "[90,]  1.380345e-03\n",
       "\n",
       "\n",
       "$log_msg\n",
       "[1] \"tsreg_elm,prepare.tsreg_sw,0.000,\"\n",
       "\n",
       "attr(,\"class\")\n",
       "[1] \"tsreg_elm\"     \"tsreg_sw\"      \"tsregression\"  \"dal_transform\""
      ]
     },
     "metadata": {},
     "output_type": "display_data"
    },
    {
     "data": {
      "image/png": "[encoded data removed]",
      "text/plain": [
       "Plot with title \"tsreg_elm\""
      ]
     },
     "metadata": {
      "image/png": {
       "height": 420,
       "width": 420
      }
     },
     "output_type": "display_data"
    }
   ],
   "source": [
    "train_test(x, model=tsreg_elm(preproc, input_size=4), sw = swsize, test_size = tsize, steps_ahead = sahead)"
   ]
  },
  {
   "cell_type": "code",
   "execution_count": null,
   "metadata": {},
   "outputs": [],
   "source": []
  }
 ],
 "metadata": {
  "kernelspec": {
   "display_name": "R",
   "language": "R",
   "name": "ir"
  },
  "language_info": {
   "codemirror_mode": "r",
   "file_extension": ".r",
   "mimetype": "text/x-r-source",
   "name": "R",
   "pygments_lexer": "r",
   "version": "3.6.0"
  }
 },
 "nbformat": 4,
 "nbformat_minor": 2
}
