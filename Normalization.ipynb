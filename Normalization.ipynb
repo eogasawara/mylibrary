{
 "cells": [
  {
   "cell_type": "code",
   "execution_count": 7,
   "metadata": {},
   "outputs": [],
   "source": [
    "# version 1.0\n",
    "source(\"https://raw.githubusercontent.com/eogasawara/mylibrary/master/myNormalization.R\")"
   ]
  },
  {
   "cell_type": "markdown",
   "metadata": {},
   "source": [
    "## Normalization\n",
    "\n",
    "Normalization is a technique used to equal strength among variables. \n",
    "\n",
    "It is also important to apply it as an input for some machine learning methods. \n",
    "\n",
    "Min-Max: Adjust to 0 (minimum value) - 1 (maximum value).\n",
    "\n",
    "Z-Score: Adjust to 0 (mean), 1 (variance)."
   ]
  },
  {
   "cell_type": "markdown",
   "metadata": {},
   "source": [
    "General function for evaluating normalization techniques"
   ]
  },
  {
   "cell_type": "code",
   "execution_count": 8,
   "metadata": {},
   "outputs": [],
   "source": [
    "  test_norm <- function(data, norm) {\n",
    "    print(class(norm)[1])\n",
    "    norm <- prepare(norm, data)\n",
    "    ndata <- action(norm, data)\n",
    "    print(head(ndata))\n",
    "    \n",
    "    ddata <- deaction(norm, ndata)\n",
    "    print(head(ddata))\n",
    "  }"
   ]
  },
  {
   "cell_type": "code",
   "execution_count": 9,
   "metadata": {},
   "outputs": [
    {
     "name": "stdout",
     "output_type": "stream",
     "text": [
      "  Sepal.Length Sepal.Width Petal.Length Petal.Width Species\n",
      "1          5.1         3.5          1.4         0.2  setosa\n",
      "2          4.9         3.0          1.4         0.2  setosa\n",
      "3          4.7         3.2          1.3         0.2  setosa\n",
      "4          4.6         3.1          1.5         0.2  setosa\n",
      "5          5.0         3.6          1.4         0.2  setosa\n",
      "6          5.4         3.9          1.7         0.4  setosa\n"
     ]
    }
   ],
   "source": [
    "  print(head(iris))"
   ]
  },
  {
   "cell_type": "code",
   "execution_count": 10,
   "metadata": {},
   "outputs": [
    {
     "name": "stdout",
     "output_type": "stream",
     "text": [
      "[1] \"minmax\"\n",
      "  Sepal.Length Sepal.Width Petal.Length Petal.Width Species\n",
      "1   0.22222222   0.6250000   0.06779661  0.04166667  setosa\n",
      "2   0.16666667   0.4166667   0.06779661  0.04166667  setosa\n",
      "3   0.11111111   0.5000000   0.05084746  0.04166667  setosa\n",
      "4   0.08333333   0.4583333   0.08474576  0.04166667  setosa\n",
      "5   0.19444444   0.6666667   0.06779661  0.04166667  setosa\n",
      "6   0.30555556   0.7916667   0.11864407  0.12500000  setosa\n",
      "  Sepal.Length Sepal.Width Petal.Length Petal.Width Species\n",
      "1          5.1         3.5          1.4         0.2  setosa\n",
      "2          4.9         3.0          1.4         0.2  setosa\n",
      "3          4.7         3.2          1.3         0.2  setosa\n",
      "4          4.6         3.1          1.5         0.2  setosa\n",
      "5          5.0         3.6          1.4         0.2  setosa\n",
      "6          5.4         3.9          1.7         0.4  setosa\n"
     ]
    }
   ],
   "source": [
    "  test_norm(iris, minmax())"
   ]
  },
  {
   "cell_type": "code",
   "execution_count": 11,
   "metadata": {},
   "outputs": [
    {
     "name": "stdout",
     "output_type": "stream",
     "text": [
      "[1] \"zscore\"\n",
      "  Sepal.Length Sepal.Width Petal.Length Petal.Width Species\n",
      "1   -0.8976739  1.01560199    -1.335752   -1.311052  setosa\n",
      "2   -1.1392005 -0.13153881    -1.335752   -1.311052  setosa\n",
      "3   -1.3807271  0.32731751    -1.392399   -1.311052  setosa\n",
      "4   -1.5014904  0.09788935    -1.279104   -1.311052  setosa\n",
      "5   -1.0184372  1.24503015    -1.335752   -1.311052  setosa\n",
      "6   -0.5353840  1.93331463    -1.165809   -1.048667  setosa\n",
      "  Sepal.Length Sepal.Width Petal.Length Petal.Width Species\n",
      "1          5.1         3.5          1.4         0.2  setosa\n",
      "2          4.9         3.0          1.4         0.2  setosa\n",
      "3          4.7         3.2          1.3         0.2  setosa\n",
      "4          4.6         3.1          1.5         0.2  setosa\n",
      "5          5.0         3.6          1.4         0.2  setosa\n",
      "6          5.4         3.9          1.7         0.4  setosa\n"
     ]
    }
   ],
   "source": [
    "  test_norm(iris, zscore())"
   ]
  },
  {
   "cell_type": "code",
   "execution_count": 12,
   "metadata": {},
   "outputs": [
    {
     "name": "stdout",
     "output_type": "stream",
     "text": [
      "[1] \"zscore\"\n",
      "  Sepal.Length Sepal.Width Petal.Length Petal.Width Species\n",
      "1    0.3336409   0.6882139    0.2524552   0.2570326  setosa\n",
      "2    0.2888806   0.4756229    0.2524552   0.2570326  setosa\n",
      "3    0.2441203   0.5606593    0.2419571   0.2570326  setosa\n",
      "4    0.2217401   0.5181411    0.2629533   0.2570326  setosa\n",
      "5    0.3112607   0.7307321    0.2524552   0.2570326  setosa\n",
      "6    0.4007813   0.8582866    0.2839495   0.3056585  setosa\n",
      "  Sepal.Length Sepal.Width Petal.Length Petal.Width Species\n",
      "1          5.1         3.5          1.4         0.2  setosa\n",
      "2          4.9         3.0          1.4         0.2  setosa\n",
      "3          4.7         3.2          1.3         0.2  setosa\n",
      "4          4.6         3.1          1.5         0.2  setosa\n",
      "5          5.0         3.6          1.4         0.2  setosa\n",
      "6          5.4         3.9          1.7         0.4  setosa\n"
     ]
    }
   ],
   "source": [
    "  test_norm(iris, zscore(nmean=0.5, nsd=0.5/2.698))"
   ]
  },
  {
   "cell_type": "code",
   "execution_count": null,
   "metadata": {},
   "outputs": [],
   "source": []
  }
 ],
 "metadata": {
  "kernelspec": {
   "display_name": "R",
   "language": "R",
   "name": "ir"
  },
  "language_info": {
   "codemirror_mode": "r",
   "file_extension": ".r",
   "mimetype": "text/x-r-source",
   "name": "R",
   "pygments_lexer": "r",
   "version": "3.6.0"
  }
 },
 "nbformat": 4,
 "nbformat_minor": 2
}
