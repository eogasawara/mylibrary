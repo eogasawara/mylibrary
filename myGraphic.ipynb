{
 "cells": [
  {
   "cell_type": "markdown",
   "metadata": {},
   "source": [
    "# Plotting charts with visual identity\n",
    "\n",
    "Mygraphics library enable plotting charts preserving visual identity, commonly change the type of chart transparently.  \n",
    "Functions usually require a $data.frame$ with three attributes: $x$, $variable$, $value$. \n",
    "The variable is a required parameter for all examples. \n",
    "\n",
    "## Library\n",
    "The library $myGraphics.R$ has a function named loadlibrary that is responsible for checking installed packages. \n",
    "Once the package is installed, it is loaded.\n",
    "\n",
    "Take some time looking at the parameters of functions available at https://raw.githubusercontent.com/eogasawara/mylibrary/master/myGraphics.R. They can can help set up your graphics. "
   ]
  },
  {
   "cell_type": "code",
   "execution_count": 1,
   "metadata": {},
   "outputs": [
    {
     "name": "stderr",
     "output_type": "stream",
     "text": [
      "Loading required package: ggplot2\n",
      "\n",
      "Warning message:\n",
      "\"package 'ggplot2' was built under R version 3.6.3\"\n",
      "Loading required package: scales\n",
      "\n",
      "Warning message:\n",
      "\"package 'scales' was built under R version 3.6.3\"\n",
      "Loading required package: ggpubr\n",
      "\n",
      "Warning message:\n",
      "\"package 'ggpubr' was built under R version 3.6.3\"\n",
      "Loading required package: reshape\n",
      "\n",
      "Loading required package: dplyr\n",
      "\n",
      "Warning message:\n",
      "\"package 'dplyr' was built under R version 3.6.3\"\n",
      "\n",
      "Attaching package: 'dplyr'\n",
      "\n",
      "\n",
      "The following object is masked from 'package:reshape':\n",
      "\n",
      "    rename\n",
      "\n",
      "\n",
      "The following objects are masked from 'package:stats':\n",
      "\n",
      "    filter, lag\n",
      "\n",
      "\n",
      "The following objects are masked from 'package:base':\n",
      "\n",
      "    intersect, setdiff, setequal, union\n",
      "\n",
      "\n",
      "Loading required package: RColorBrewer\n",
      "\n",
      "Loading required package: gridExtra\n",
      "\n",
      "\n",
      "Attaching package: 'gridExtra'\n",
      "\n",
      "\n",
      "The following object is masked from 'package:dplyr':\n",
      "\n",
      "    combine\n",
      "\n",
      "\n"
     ]
    }
   ],
   "source": [
    "source(\"https://raw.githubusercontent.com/eogasawara/mylibrary/master/myGraphic.R\")\n",
    "loadlibrary(\"reshape\")\n",
    "loadlibrary(\"dplyr\")\n",
    "loadlibrary(\"RColorBrewer\")\n",
    "loadlibrary(\"gridExtra\")"
   ]
  },
  {
   "cell_type": "markdown",
   "metadata": {},
   "source": [
    "## Color palette\n",
    "\n",
    "Color brewer is a nice toll to setup color for your graphics. "
   ]
  },
  {
   "cell_type": "code",
   "execution_count": 2,
   "metadata": {},
   "outputs": [],
   "source": [
    "col_set <- brewer.pal(11, 'Spectral')\n",
    "col_2 <- col_set[c(4,9)]\n",
    "col_2b <- col_set[c(9,3)]    \n",
    "col_3 <- col_set[c(4,9,11)]\n",
    "col_4 <- col_set[c(3,5,7,9)]   \n",
    "\n",
    "plot_size(4, 3)"
   ]
  },
  {
   "cell_type": "markdown",
   "metadata": {},
   "source": [
    "## Datasets for the examples\n",
    "\n",
    "This function creates the basic dataset used in the examples."
   ]
  },
  {
   "cell_type": "code",
   "execution_count": 3,
   "metadata": {},
   "outputs": [
    {
     "data": {
      "text/html": [
       "<table>\n",
       "<caption>A data.frame: 6 × 6</caption>\n",
       "<thead>\n",
       "\t<tr><th></th><th scope=col>Year</th><th scope=col>Months</th><th scope=col>Flights</th><th scope=col>Delays</th><th scope=col>OnTime</th><th scope=col>Perc</th></tr>\n",
       "\t<tr><th></th><th scope=col>&lt;int&gt;</th><th scope=col>&lt;fct&gt;</th><th scope=col>&lt;int&gt;</th><th scope=col>&lt;int&gt;</th><th scope=col>&lt;int&gt;</th><th scope=col>&lt;dbl&gt;</th></tr>\n",
       "</thead>\n",
       "<tbody>\n",
       "\t<tr><th scope=row>1</th><td>2016</td><td>Jan-Mar</td><td>11</td><td>6</td><td> 5</td><td>55</td></tr>\n",
       "\t<tr><th scope=row>2</th><td>2016</td><td>Apr-Jun</td><td>12</td><td>5</td><td> 7</td><td>42</td></tr>\n",
       "\t<tr><th scope=row>3</th><td>2016</td><td>Jul-Sep</td><td>13</td><td>3</td><td>10</td><td>23</td></tr>\n",
       "\t<tr><th scope=row>4</th><td>2016</td><td>Oct-Dec</td><td>12</td><td>5</td><td> 7</td><td>42</td></tr>\n",
       "\t<tr><th scope=row>5</th><td>2017</td><td>Jan-Mar</td><td>10</td><td>4</td><td> 6</td><td>40</td></tr>\n",
       "\t<tr><th scope=row>6</th><td>2017</td><td>Apr-Jun</td><td> 9</td><td>3</td><td> 6</td><td>33</td></tr>\n",
       "</tbody>\n",
       "</table>\n"
      ],
      "text/latex": [
       "A data.frame: 6 × 6\n",
       "\\begin{tabular}{r|llllll}\n",
       "  & Year & Months & Flights & Delays & OnTime & Perc\\\\\n",
       "  & <int> & <fct> & <int> & <int> & <int> & <dbl>\\\\\n",
       "\\hline\n",
       "\t1 & 2016 & Jan-Mar & 11 & 6 &  5 & 55\\\\\n",
       "\t2 & 2016 & Apr-Jun & 12 & 5 &  7 & 42\\\\\n",
       "\t3 & 2016 & Jul-Sep & 13 & 3 & 10 & 23\\\\\n",
       "\t4 & 2016 & Oct-Dec & 12 & 5 &  7 & 42\\\\\n",
       "\t5 & 2017 & Jan-Mar & 10 & 4 &  6 & 40\\\\\n",
       "\t6 & 2017 & Apr-Jun &  9 & 3 &  6 & 33\\\\\n",
       "\\end{tabular}\n"
      ],
      "text/markdown": [
       "\n",
       "A data.frame: 6 × 6\n",
       "\n",
       "| <!--/--> | Year &lt;int&gt; | Months &lt;fct&gt; | Flights &lt;int&gt; | Delays &lt;int&gt; | OnTime &lt;int&gt; | Perc &lt;dbl&gt; |\n",
       "|---|---|---|---|---|---|---|\n",
       "| 1 | 2016 | Jan-Mar | 11 | 6 |  5 | 55 |\n",
       "| 2 | 2016 | Apr-Jun | 12 | 5 |  7 | 42 |\n",
       "| 3 | 2016 | Jul-Sep | 13 | 3 | 10 | 23 |\n",
       "| 4 | 2016 | Oct-Dec | 12 | 5 |  7 | 42 |\n",
       "| 5 | 2017 | Jan-Mar | 10 | 4 |  6 | 40 |\n",
       "| 6 | 2017 | Apr-Jun |  9 | 3 |  6 | 33 |\n",
       "\n"
      ],
      "text/plain": [
       "  Year Months  Flights Delays OnTime Perc\n",
       "1 2016 Jan-Mar 11      6       5     55  \n",
       "2 2016 Apr-Jun 12      5       7     42  \n",
       "3 2016 Jul-Sep 13      3      10     23  \n",
       "4 2016 Oct-Dec 12      5       7     42  \n",
       "5 2017 Jan-Mar 10      4       6     40  \n",
       "6 2017 Apr-Jun  9      3       6     33  "
      ]
     },
     "metadata": {},
     "output_type": "display_data"
    }
   ],
   "source": [
    "create_dataset <- function() {\n",
    "  data <- read.table(text = \"Year Months Flights Delays\n",
    "                     2016 Jan-Mar 11 6\n",
    "                     2016 Apr-Jun 12 5\n",
    "                     2016 Jul-Sep 13 3\n",
    "                     2016 Oct-Dec 12 5\n",
    "                     2017 Jan-Mar 10 4\n",
    "                     2017 Apr-Jun 9 3\n",
    "                     2017 Jul-Sep 11 4\n",
    "                     2017 Oct-Dec 25 15\n",
    "                     2018 Jan-Mar 14 3\n",
    "                     2018 Apr-Jun 12 5\n",
    "                     2018 Jul-Sep 13 3\n",
    "                     2018 Oct-Dec 15 4\",\n",
    "                     header = TRUE,sep = \"\")  \n",
    "  data$OnTime <- data$Flights - data$Delays \n",
    "  data$Perc <- round(100 * data$Delays / data$Flights)\n",
    "  return(data)\n",
    "}\n",
    "\n",
    "data <- create_dataset()\n",
    "head(data)"
   ]
  },
  {
   "cell_type": "markdown",
   "metadata": {},
   "source": [
    "Data adjustment for ggplot usage:"
   ]
  },
  {
   "cell_type": "code",
   "execution_count": 4,
   "metadata": {},
   "outputs": [
    {
     "data": {
      "text/html": [
       "<table>\n",
       "<caption>A data.frame: 6 × 5</caption>\n",
       "<thead>\n",
       "\t<tr><th></th><th scope=col>Year</th><th scope=col>Months</th><th scope=col>variable</th><th scope=col>value</th><th scope=col>x</th></tr>\n",
       "\t<tr><th></th><th scope=col>&lt;int&gt;</th><th scope=col>&lt;fct&gt;</th><th scope=col>&lt;fct&gt;</th><th scope=col>&lt;dbl&gt;</th><th scope=col>&lt;fct&gt;</th></tr>\n",
       "</thead>\n",
       "<tbody>\n",
       "\t<tr><th scope=row>1</th><td>2016</td><td>Jan-Mar</td><td>Flights</td><td>11</td><td>2016-Jan-Mar</td></tr>\n",
       "\t<tr><th scope=row>2</th><td>2016</td><td>Apr-Jun</td><td>Flights</td><td>12</td><td>2016-Apr-Jun</td></tr>\n",
       "\t<tr><th scope=row>3</th><td>2016</td><td>Jul-Sep</td><td>Flights</td><td>13</td><td>2016-Jul-Sep</td></tr>\n",
       "\t<tr><th scope=row>4</th><td>2016</td><td>Oct-Dec</td><td>Flights</td><td>12</td><td>2016-Oct-Dec</td></tr>\n",
       "\t<tr><th scope=row>5</th><td>2017</td><td>Jan-Mar</td><td>Flights</td><td>10</td><td>2017-Jan-Mar</td></tr>\n",
       "\t<tr><th scope=row>6</th><td>2017</td><td>Apr-Jun</td><td>Flights</td><td> 9</td><td>2017-Apr-Jun</td></tr>\n",
       "</tbody>\n",
       "</table>\n"
      ],
      "text/latex": [
       "A data.frame: 6 × 5\n",
       "\\begin{tabular}{r|lllll}\n",
       "  & Year & Months & variable & value & x\\\\\n",
       "  & <int> & <fct> & <fct> & <dbl> & <fct>\\\\\n",
       "\\hline\n",
       "\t1 & 2016 & Jan-Mar & Flights & 11 & 2016-Jan-Mar\\\\\n",
       "\t2 & 2016 & Apr-Jun & Flights & 12 & 2016-Apr-Jun\\\\\n",
       "\t3 & 2016 & Jul-Sep & Flights & 13 & 2016-Jul-Sep\\\\\n",
       "\t4 & 2016 & Oct-Dec & Flights & 12 & 2016-Oct-Dec\\\\\n",
       "\t5 & 2017 & Jan-Mar & Flights & 10 & 2017-Jan-Mar\\\\\n",
       "\t6 & 2017 & Apr-Jun & Flights &  9 & 2017-Apr-Jun\\\\\n",
       "\\end{tabular}\n"
      ],
      "text/markdown": [
       "\n",
       "A data.frame: 6 × 5\n",
       "\n",
       "| <!--/--> | Year &lt;int&gt; | Months &lt;fct&gt; | variable &lt;fct&gt; | value &lt;dbl&gt; | x &lt;fct&gt; |\n",
       "|---|---|---|---|---|---|\n",
       "| 1 | 2016 | Jan-Mar | Flights | 11 | 2016-Jan-Mar |\n",
       "| 2 | 2016 | Apr-Jun | Flights | 12 | 2016-Apr-Jun |\n",
       "| 3 | 2016 | Jul-Sep | Flights | 13 | 2016-Jul-Sep |\n",
       "| 4 | 2016 | Oct-Dec | Flights | 12 | 2016-Oct-Dec |\n",
       "| 5 | 2017 | Jan-Mar | Flights | 10 | 2017-Jan-Mar |\n",
       "| 6 | 2017 | Apr-Jun | Flights |  9 | 2017-Apr-Jun |\n",
       "\n"
      ],
      "text/plain": [
       "  Year Months  variable value x           \n",
       "1 2016 Jan-Mar Flights  11    2016-Jan-Mar\n",
       "2 2016 Apr-Jun Flights  12    2016-Apr-Jun\n",
       "3 2016 Jul-Sep Flights  13    2016-Jul-Sep\n",
       "4 2016 Oct-Dec Flights  12    2016-Oct-Dec\n",
       "5 2017 Jan-Mar Flights  10    2017-Jan-Mar\n",
       "6 2017 Apr-Jun Flights   9    2017-Apr-Jun"
      ]
     },
     "metadata": {},
     "output_type": "display_data"
    }
   ],
   "source": [
    "adjust_dataset <- function(data) {\n",
    "  data <- melt(data[,c('Year', 'Months', 'Flights', 'Delays', 'OnTime', 'Perc')], id.vars = c(1,2))\n",
    "  data$x <- sprintf(\"%d-%s\", data$Year, data$Months)\n",
    "  data$x <- factor(data$x,levels = data$x[1:12])\n",
    "  return(data)\n",
    "}\n",
    "data <- adjust_dataset(data)\n",
    "head(data)"
   ]
  },
  {
   "cell_type": "markdown",
   "metadata": {},
   "source": [
    "## Scatter plot\n",
    "\n",
    "This example filters data for flights and delays. It uses two colors and setup $x$ and $y$ labels. \n",
    "\n",
    "The function returns a preset graphic that can be enhanced. In this case, we change the $x$ labels orientations and add a centered title."
   ]
  },
  {
   "cell_type": "code",
   "execution_count": 5,
   "metadata": {},
   "outputs": [
    {
     "data": {
      "image/png": "[encoded data removed]",
      "text/plain": [
       "plot without title"
      ]
     },
     "metadata": {
      "image/png": {
       "height": 180,
       "width": 240
      }
     },
     "output_type": "display_data"
    }
   ],
   "source": [
    "grf <- plot.scatter(data %>% filter(variable %in% c('Flights', 'Delays')), \n",
    "                     colors=col_2, label_x = \"Quarters\", label_y = \"Amount\") \n",
    "grf <- grf + theme(axis.text.x = element_text(angle=90, hjust=1))\n",
    "grf <- grf + ggtitle(\"Air system\") + theme(plot.title = element_text(hjust = 0.5))\n",
    "\n",
    "plot(grf)"
   ]
  },
  {
   "cell_type": "markdown",
   "metadata": {},
   "source": [
    "## Line plot\n",
    "This example filters data for flights and delays. It uses the default configuration and extends the $x$ labels orientation to 45 degrees. \n",
    "\n",
    "It is very important to try to associate the same color for a certain data/method. In this case, delays and flights are presented in the same color as in the previous graphic. "
   ]
  },
  {
   "cell_type": "code",
   "execution_count": 6,
   "metadata": {},
   "outputs": [
    {
     "data": {
      "image/png": "[encoded data removed]",
      "text/plain": [
       "plot without title"
      ]
     },
     "metadata": {
      "image/png": {
       "height": 180,
       "width": 240
      }
     },
     "output_type": "display_data"
    }
   ],
   "source": [
    "grf <- plot.series(data %>% filter(variable %in% c('Flights', 'Delays')),colors=col_2) \n",
    "grf <- grf + theme(axis.text.x = element_text(angle=45, hjust=1))\n",
    "\n",
    "plot(grf)"
   ]
  },
  {
   "cell_type": "markdown",
   "metadata": {},
   "source": [
    "## Bar graph\n",
    "This graphic filters data for flights and presents the first 11 quarters. Each quarter is presented in a specific color. \n",
    "The function $coord\\_flip()$ enables horizontal bar plot.\n",
    "The function $grid.arrange()$ can put graphics side by side."
   ]
  },
  {
   "cell_type": "code",
   "execution_count": 7,
   "metadata": {},
   "outputs": [
    {
     "data": {
      "image/png": "[encoded data removed]",
      "text/plain": [
       "plot without title"
      ]
     },
     "metadata": {
      "image/png": {
       "height": 180,
       "width": 480
      }
     },
     "output_type": "display_data"
    }
   ],
   "source": [
    "grf <- plot.bar(data[1:11,] %>% filter(variable=='Flights') %>% select(variable=x, value=value), colors=col_set)\n",
    "grfA <- grf + theme(axis.text.x = element_text(angle=90, hjust=1))\n",
    "grfB <- grf + coord_flip()\n",
    "\n",
    "plot_size(8, 3)\n",
    "grid.arrange(grfA, grfB, ncol=2)\n",
    "plot_size(4, 3)"
   ]
  },
  {
   "cell_type": "markdown",
   "metadata": {},
   "source": [
    "## Bar graph with error bars\n",
    "This presents the average and the standard deviation of delays per quarters through the years. \n",
    "For that, it aggregates mean and sd values according to quarters. \n",
    "The conversion of the variable to factor is to sort it according to quarter semantics, instead of alphabetical order. \n",
    "The error bar is added using $geom\\_errorbar()$ function. "
   ]
  },
  {
   "cell_type": "code",
   "execution_count": 8,
   "metadata": {},
   "outputs": [
    {
     "name": "stderr",
     "output_type": "stream",
     "text": [
      "`summarise()` ungrouping output (override with `.groups` argument)\n",
      "\n"
     ]
    },
    {
     "data": {
      "image/png": "[encoded data removed]",
      "text/plain": [
       "plot without title"
      ]
     },
     "metadata": {
      "image/png": {
       "height": 180,
       "width": 240
      }
     },
     "output_type": "display_data"
    }
   ],
   "source": [
    "data_sd <- create_dataset() %>% \n",
    "  select(variable=Months, value=Delays) %>% \n",
    "  group_by(variable) %>% \n",
    "  summarize(sd = sd(value), value = mean(value))\n",
    "\n",
    "data_sd$variable <- factor(data_sd$variable,levels = c('Jan-Mar','Apr-Jun','Jul-Sep','Oct-Dec'))\n",
    "\n",
    "grf <- plot.bar(data_sd, colors=col_2[2], alpha=0.5)\n",
    "grf <- grf + geom_errorbar(aes(x=variable, ymin=value-sd, ymax=value+sd), width=0.2, colour=col_2[2], alpha=0.9, size=1.1) \n",
    "\n",
    "plot(grf)\n"
   ]
  },
  {
   "cell_type": "markdown",
   "metadata": {},
   "source": [
    "## Grouped bar & Stacked-bar\n",
    "\n",
    "Grouped bar or stacked bars can present different perspectives for the same data.\n"
   ]
  },
  {
   "cell_type": "code",
   "execution_count": 9,
   "metadata": {},
   "outputs": [
    {
     "data": {
      "image/png": "[encoded data removed]",
      "text/plain": [
       "plot without title"
      ]
     },
     "metadata": {
      "image/png": {
       "height": 180,
       "width": 480
      }
     },
     "output_type": "display_data"
    }
   ],
   "source": [
    "grfA <- plot.bar(data %>% filter(variable %in% c('OnTime', 'Delays')), colors=col_2b, group=TRUE)\n",
    "grfA <- grfA + theme(axis.text.x = element_text(angle=90, hjust=1))\n",
    "grfB <- plot.stackedbar(data %>% filter(variable %in% c('OnTime', 'Delays')), colors=col_2b) \n",
    "grfB <- grfB + theme(axis.text.x = element_text(angle=90, hjust=1))\n",
    "\n",
    "plot_size(8, 3)\n",
    "grid.arrange(grfA, grfB, ncol=2)\n",
    "plot_size(4, 3)"
   ]
  },
  {
   "cell_type": "markdown",
   "metadata": {},
   "source": [
    "## Faced grouped bar\n",
    "This graphic uses a facing column to group data. \n",
    "It filters data for on-time and delayed flights. \n",
    "\n",
    "In this graphic, labels are set for $x$ and $y$ axis and legend."
   ]
  },
  {
   "cell_type": "code",
   "execution_count": 10,
   "metadata": {},
   "outputs": [
    {
     "data": {
      "image/png": "[encoded data removed]",
      "text/plain": [
       "plot without title"
      ]
     },
     "metadata": {
      "image/png": {
       "height": 180,
       "width": 480
      }
     },
     "output_type": "display_data"
    }
   ],
   "source": [
    "grf <- plot.bar(data %>% filter(variable %in% c('OnTime', 'Delays')) %>% \n",
    "                select(x=Months, face=Year, variable=variable, value=value), group=TRUE, colors=col_2)\n",
    "grf <- grf + theme(axis.text.x = element_text(angle=90, hjust=1))\n",
    "grf <- grf + facet_wrap(~face, ncol = 3) \n",
    "grf <- grf + xlab(\"data\")\n",
    "grf <- grf + guides(fill=guide_legend(title=\"faced graphics:\"))\n",
    "grf <- grf + ylab(\"amount\")\n",
    "\n",
    "plot_size(8, 3)\n",
    "plot(grf)\n",
    "plot_size(4, 3)"
   ]
  },
  {
   "cell_type": "markdown",
   "metadata": {},
   "source": [
    "## Pie chart\n",
    "In this graphic data is filtered for the year 2016 and only include flights. \n",
    "For each quarter it is associated with a pie-slice with a color. \n",
    "The conversion of the variable to factor enables ordering the legend according to the semantics of the data instead of alphabetical sort. "
   ]
  },
  {
   "cell_type": "code",
   "execution_count": 11,
   "metadata": {},
   "outputs": [
    {
     "data": {
      "image/png": "[encoded data removed]",
      "text/plain": [
       "plot without title"
      ]
     },
     "metadata": {
      "image/png": {
       "height": 180,
       "width": 240
      }
     },
     "output_type": "display_data"
    }
   ],
   "source": [
    "mypiedata <- data %>% filter(Year == 2016 & variable ==\"Flights\") %>% select(variable=Months, value=value)\n",
    "mypiedata$variable <- factor(mypiedata$variable,levels = c('Oct-Dec', 'Jul-Sep', 'Apr-Jun', 'Jan-Mar'))\n",
    "mypiedata$colors <- col_4\n",
    "mypiedata <- prepare.pieplot(mypiedata)\n",
    "\n",
    "grf <- plot.pieplot(mypiedata, colors=as.character(mypiedata$colors))\n",
    "\n",
    "plot(grf)"
   ]
  },
  {
   "cell_type": "markdown",
   "metadata": {},
   "source": [
    "## Radar plot\n",
    "In this graphic data is filtered for the year 2016 and only include delays. \n",
    "For each quarter it is associated with an axis. \n",
    "The conversion of the variable to factor enables ordering the legend according to the semantics of the data instead of alphabetical sort. \n",
    "The $ylim$ function is used to force minimum value to be equal to 0."
   ]
  },
  {
   "cell_type": "code",
   "execution_count": 12,
   "metadata": {},
   "outputs": [
    {
     "data": {
      "image/png": "[encoded data removed]",
      "text/plain": [
       "plot without title"
      ]
     },
     "metadata": {
      "image/png": {
       "height": 180,
       "width": 240
      }
     },
     "output_type": "display_data"
    }
   ],
   "source": [
    "radar_data <- data %>% filter(Year==2016 & variable=='Delays') %>% select(x = Months, value=value)\n",
    "radar_data$x <- factor(radar_data$x,levels = c('Jan-Mar','Apr-Jun','Jul-Sep','Oct-Dec'))\n",
    "\n",
    "grf <- plot.radar(series=radar_data, color=col_2[1])\n",
    "grf <- grf + ylim(0, round(max(radar_data$value)))\n",
    "\n",
    "plot(grf)"
   ]
  },
  {
   "cell_type": "markdown",
   "metadata": {},
   "source": [
    "## Lollipop plot\n",
    "\n",
    "In this graphic, only the percentage of delayed flights is presented. \n",
    "This is a nice way to avoid using bar plots or pie charts."
   ]
  },
  {
   "cell_type": "code",
   "execution_count": 13,
   "metadata": {},
   "outputs": [
    {
     "data": {
      "image/png": "[encoded data removed]",
      "text/plain": [
       "plot without title"
      ]
     },
     "metadata": {
      "image/png": {
       "height": 180,
       "width": 240
      }
     },
     "output_type": "display_data"
    }
   ],
   "source": [
    "grf <- plot_lollipop(data %>% filter(variable ==\"Perc\") %>% select(variable=x,value=value), col_2[1], max_value_gap=2.25)\n",
    "\n",
    "plot(grf)"
   ]
  },
  {
   "cell_type": "markdown",
   "metadata": {},
   "source": [
    "## Dot plot\n",
    "In this graphic data is filtered for the year 2016 and the goal is to compare the number of delays with respect to on time flights. \n",
    "\n",
    "Data is plotted in ascending order of the values of the first variable in the dataset (Delays, displayed in orange). \n",
    "\n",
    "It is also important to observe that the function $plot\\_dotchar$ internally uses $ggdotchart$, which is not compatible with other $ggplot$ methods. Customizations should be done using $ggpar$ function, such as introducing a legend title. \n"
   ]
  },
  {
   "cell_type": "code",
   "execution_count": 14,
   "metadata": {},
   "outputs": [
    {
     "data": {
      "text/html": [
       "<table>\n",
       "<caption>A data.frame: 6 × 3</caption>\n",
       "<thead>\n",
       "\t<tr><th></th><th scope=col>variable</th><th scope=col>x</th><th scope=col>value</th></tr>\n",
       "\t<tr><th></th><th scope=col>&lt;fct&gt;</th><th scope=col>&lt;fct&gt;</th><th scope=col>&lt;dbl&gt;</th></tr>\n",
       "</thead>\n",
       "<tbody>\n",
       "\t<tr><th scope=row>1</th><td>Delays</td><td>Jan-Mar</td><td>6</td></tr>\n",
       "\t<tr><th scope=row>2</th><td>Delays</td><td>Apr-Jun</td><td>5</td></tr>\n",
       "\t<tr><th scope=row>3</th><td>Delays</td><td>Jul-Sep</td><td>3</td></tr>\n",
       "\t<tr><th scope=row>4</th><td>Delays</td><td>Oct-Dec</td><td>5</td></tr>\n",
       "\t<tr><th scope=row>5</th><td>OnTime</td><td>Jan-Mar</td><td>5</td></tr>\n",
       "\t<tr><th scope=row>6</th><td>OnTime</td><td>Apr-Jun</td><td>7</td></tr>\n",
       "</tbody>\n",
       "</table>\n"
      ],
      "text/latex": [
       "A data.frame: 6 × 3\n",
       "\\begin{tabular}{r|lll}\n",
       "  & variable & x & value\\\\\n",
       "  & <fct> & <fct> & <dbl>\\\\\n",
       "\\hline\n",
       "\t1 & Delays & Jan-Mar & 6\\\\\n",
       "\t2 & Delays & Apr-Jun & 5\\\\\n",
       "\t3 & Delays & Jul-Sep & 3\\\\\n",
       "\t4 & Delays & Oct-Dec & 5\\\\\n",
       "\t5 & OnTime & Jan-Mar & 5\\\\\n",
       "\t6 & OnTime & Apr-Jun & 7\\\\\n",
       "\\end{tabular}\n"
      ],
      "text/markdown": [
       "\n",
       "A data.frame: 6 × 3\n",
       "\n",
       "| <!--/--> | variable &lt;fct&gt; | x &lt;fct&gt; | value &lt;dbl&gt; |\n",
       "|---|---|---|---|\n",
       "| 1 | Delays | Jan-Mar | 6 |\n",
       "| 2 | Delays | Apr-Jun | 5 |\n",
       "| 3 | Delays | Jul-Sep | 3 |\n",
       "| 4 | Delays | Oct-Dec | 5 |\n",
       "| 5 | OnTime | Jan-Mar | 5 |\n",
       "| 6 | OnTime | Apr-Jun | 7 |\n",
       "\n"
      ],
      "text/plain": [
       "  variable x       value\n",
       "1 Delays   Jan-Mar 6    \n",
       "2 Delays   Apr-Jun 5    \n",
       "3 Delays   Jul-Sep 3    \n",
       "4 Delays   Oct-Dec 5    \n",
       "5 OnTime   Jan-Mar 5    \n",
       "6 OnTime   Apr-Jun 7    "
      ]
     },
     "metadata": {},
     "output_type": "display_data"
    },
    {
     "data": {
      "image/png": "[encoded data removed]",
      "text/plain": [
       "plot without title"
      ]
     },
     "metadata": {
      "image/png": {
       "height": 180,
       "width": 240
      }
     },
     "output_type": "display_data"
    }
   ],
   "source": [
    "dotdata <- data %>% filter(variable %in% c(\"Delays\", \"OnTime\") & Year==2016) %>% select(variable = variable, x = Months, value = value)\n",
    "head(dotdata)\n",
    "\n",
    "grf <- plot_dotchar(dotdata, color=col_2)\n",
    "grf <- ggpar(grf,legend.title = 'Flights')\n",
    "\n",
    "plot(grf)"
   ]
  },
  {
   "cell_type": "markdown",
   "metadata": {},
   "source": [
    "## Ballon plot\n",
    "This graph is able to combine two variables pair-wise. The intensity of this combination can be explored both by circle radius and color scale. It can be used to plot the correlation between all pairs of variables in a dataset, for example.\n",
    "\n",
    "To present the $x$ and $y$ axis according a desired order, data need to be converted into factors. "
   ]
  },
  {
   "cell_type": "code",
   "execution_count": 15,
   "metadata": {},
   "outputs": [
    {
     "data": {
      "image/png": "[encoded data removed]",
      "text/plain": [
       "plot without title"
      ]
     },
     "metadata": {
      "image/png": {
       "height": 180,
       "width": 240
      }
     },
     "output_type": "display_data"
    }
   ],
   "source": [
    "data_ballon <- data %>%  filter(variable == \"Flights\") %>% select(variable=Year, x=Months, value=value)\n",
    "data_ballon$variable <- factor(data_ballon$variable,levels = sort(unique(data_ballon$variable)))\n",
    "data_ballon$x <- factor(data_ballon$x,levels = c('Jan-Mar','Apr-Jun','Jul-Sep','Oct-Dec'))\n",
    "data_ballon$radius <- data_ballon$value\n",
    "\n",
    "grf <- plot_ballon(data_ballon, color = col_set[c(6,3)])\n",
    "\n",
    "plot(grf)"
   ]
  },
  {
   "cell_type": "markdown",
   "metadata": {},
   "source": [
    "## Examples using data distribution\n",
    "The following examples use random variables so that different data distribution can be better viewed."
   ]
  },
  {
   "cell_type": "code",
   "execution_count": 16,
   "metadata": {},
   "outputs": [
    {
     "data": {
      "text/html": [
       "<table>\n",
       "<caption>A data.frame: 6 × 4</caption>\n",
       "<thead>\n",
       "\t<tr><th></th><th scope=col>exponential</th><th scope=col>uniform</th><th scope=col>normal</th><th scope=col>poisson</th></tr>\n",
       "\t<tr><th></th><th scope=col>&lt;dbl&gt;</th><th scope=col>&lt;dbl&gt;</th><th scope=col>&lt;dbl&gt;</th><th scope=col>&lt;int&gt;</th></tr>\n",
       "</thead>\n",
       "<tbody>\n",
       "\t<tr><th scope=row>1</th><td>0.1223072</td><td>5.964802</td><td>5.324346</td><td>5</td></tr>\n",
       "\t<tr><th scope=row>2</th><td>0.3523281</td><td>5.630452</td><td>4.204511</td><td>4</td></tr>\n",
       "\t<tr><th scope=row>3</th><td>0.7703223</td><td>6.495852</td><td>5.280945</td><td>2</td></tr>\n",
       "\t<tr><th scope=row>4</th><td>0.8122299</td><td>6.492713</td><td>5.941604</td><td>3</td></tr>\n",
       "\t<tr><th scope=row>5</th><td>0.4508105</td><td>5.542513</td><td>4.592419</td><td>1</td></tr>\n",
       "\t<tr><th scope=row>6</th><td>0.7373717</td><td>5.728148</td><td>4.095738</td><td>2</td></tr>\n",
       "</tbody>\n",
       "</table>\n"
      ],
      "text/latex": [
       "A data.frame: 6 × 4\n",
       "\\begin{tabular}{r|llll}\n",
       "  & exponential & uniform & normal & poisson\\\\\n",
       "  & <dbl> & <dbl> & <dbl> & <int>\\\\\n",
       "\\hline\n",
       "\t1 & 0.1223072 & 5.964802 & 5.324346 & 5\\\\\n",
       "\t2 & 0.3523281 & 5.630452 & 4.204511 & 4\\\\\n",
       "\t3 & 0.7703223 & 6.495852 & 5.280945 & 2\\\\\n",
       "\t4 & 0.8122299 & 6.492713 & 5.941604 & 3\\\\\n",
       "\t5 & 0.4508105 & 5.542513 & 4.592419 & 1\\\\\n",
       "\t6 & 0.7373717 & 5.728148 & 4.095738 & 2\\\\\n",
       "\\end{tabular}\n"
      ],
      "text/markdown": [
       "\n",
       "A data.frame: 6 × 4\n",
       "\n",
       "| <!--/--> | exponential &lt;dbl&gt; | uniform &lt;dbl&gt; | normal &lt;dbl&gt; | poisson &lt;int&gt; |\n",
       "|---|---|---|---|---|\n",
       "| 1 | 0.1223072 | 5.964802 | 5.324346 | 5 |\n",
       "| 2 | 0.3523281 | 5.630452 | 4.204511 | 4 |\n",
       "| 3 | 0.7703223 | 6.495852 | 5.280945 | 2 |\n",
       "| 4 | 0.8122299 | 6.492713 | 5.941604 | 3 |\n",
       "| 5 | 0.4508105 | 5.542513 | 4.592419 | 1 |\n",
       "| 6 | 0.7373717 | 5.728148 | 4.095738 | 2 |\n",
       "\n"
      ],
      "text/plain": [
       "  exponential uniform  normal   poisson\n",
       "1 0.1223072   5.964802 5.324346 5      \n",
       "2 0.3523281   5.630452 4.204511 4      \n",
       "3 0.7703223   6.495852 5.280945 2      \n",
       "4 0.8122299   6.492713 5.941604 3      \n",
       "5 0.4508105   5.542513 4.592419 1      \n",
       "6 0.7373717   5.728148 4.095738 2      "
      ]
     },
     "metadata": {},
     "output_type": "display_data"
    },
    {
     "name": "stderr",
     "output_type": "stream",
     "text": [
      "Using  as id variables\n",
      "\n"
     ]
    },
    {
     "data": {
      "text/html": [
       "<table>\n",
       "<caption>A data.frame: 6 × 2</caption>\n",
       "<thead>\n",
       "\t<tr><th></th><th scope=col>variable</th><th scope=col>value</th></tr>\n",
       "\t<tr><th></th><th scope=col>&lt;fct&gt;</th><th scope=col>&lt;dbl&gt;</th></tr>\n",
       "</thead>\n",
       "<tbody>\n",
       "\t<tr><th scope=row>1</th><td>exponential</td><td>0.1223072</td></tr>\n",
       "\t<tr><th scope=row>2</th><td>exponential</td><td>0.3523281</td></tr>\n",
       "\t<tr><th scope=row>3</th><td>exponential</td><td>0.7703223</td></tr>\n",
       "\t<tr><th scope=row>4</th><td>exponential</td><td>0.8122299</td></tr>\n",
       "\t<tr><th scope=row>5</th><td>exponential</td><td>0.4508105</td></tr>\n",
       "\t<tr><th scope=row>6</th><td>exponential</td><td>0.7373717</td></tr>\n",
       "</tbody>\n",
       "</table>\n"
      ],
      "text/latex": [
       "A data.frame: 6 × 2\n",
       "\\begin{tabular}{r|ll}\n",
       "  & variable & value\\\\\n",
       "  & <fct> & <dbl>\\\\\n",
       "\\hline\n",
       "\t1 & exponential & 0.1223072\\\\\n",
       "\t2 & exponential & 0.3523281\\\\\n",
       "\t3 & exponential & 0.7703223\\\\\n",
       "\t4 & exponential & 0.8122299\\\\\n",
       "\t5 & exponential & 0.4508105\\\\\n",
       "\t6 & exponential & 0.7373717\\\\\n",
       "\\end{tabular}\n"
      ],
      "text/markdown": [
       "\n",
       "A data.frame: 6 × 2\n",
       "\n",
       "| <!--/--> | variable &lt;fct&gt; | value &lt;dbl&gt; |\n",
       "|---|---|---|\n",
       "| 1 | exponential | 0.1223072 |\n",
       "| 2 | exponential | 0.3523281 |\n",
       "| 3 | exponential | 0.7703223 |\n",
       "| 4 | exponential | 0.8122299 |\n",
       "| 5 | exponential | 0.4508105 |\n",
       "| 6 | exponential | 0.7373717 |\n",
       "\n"
      ],
      "text/plain": [
       "  variable    value    \n",
       "1 exponential 0.1223072\n",
       "2 exponential 0.3523281\n",
       "3 exponential 0.7703223\n",
       "4 exponential 0.8122299\n",
       "5 exponential 0.4508105\n",
       "6 exponential 0.7373717"
      ]
     },
     "metadata": {},
     "output_type": "display_data"
    }
   ],
   "source": [
    "stdata <- data.frame(exponential = rexp(100000, rate = 1), \n",
    "                     uniform = runif(100000, min = 5.5, max = 6.5), \n",
    "                     normal = rnorm(100000, mean=5), \n",
    "                     poisson = rpois(100000, lambda = 2))\n",
    "head(stdata)\n",
    "stdata <- melt(stdata[,c('exponential', 'uniform', 'normal', 'poisson')])\n",
    "head(stdata)"
   ]
  },
  {
   "cell_type": "markdown",
   "metadata": {},
   "source": [
    "## Histogram\n",
    "Histograms are used to plot a single variable."
   ]
  },
  {
   "cell_type": "code",
   "execution_count": 17,
   "metadata": {},
   "outputs": [
    {
     "data": {
      "image/png": "[encoded data removed]",
      "text/plain": [
       "plot without title"
      ]
     },
     "metadata": {
      "image/png": {
       "height": 300,
       "width": 420
      }
     },
     "output_type": "display_data"
    }
   ],
   "source": [
    "grfe <- plot.hist(stdata %>% filter(variable=='exponential'), label_x = \"exponential\", color=col_4[1])\n",
    "grfu <- plot.hist(stdata %>% filter(variable=='uniform'), label_x = \"uniform\", color=col_4[2])\n",
    "grfn <- plot.hist(stdata %>% filter(variable=='normal'), label_x = \"normal\", color=col_4[3])\n",
    "grfp <- plot.hist(stdata %>% filter(variable=='poisson'), label_x = \"poisson\", color=col_4[4])\n",
    "\n",
    "plot_size(7, 5)\n",
    "grid.arrange(grfe, grfu, grfn, grfp,ncol=2)\n",
    "plot_size(4, 3)"
   ]
  },
  {
   "cell_type": "markdown",
   "metadata": {},
   "source": [
    "## Density plot\n",
    "This graphic presents the on-time and delayed flights density distribution."
   ]
  },
  {
   "cell_type": "code",
   "execution_count": 18,
   "metadata": {
    "scrolled": true
   },
   "outputs": [
    {
     "data": {
      "image/png": "[encoded data removed]",
      "text/plain": [
       "plot without title"
      ]
     },
     "metadata": {
      "image/png": {
       "height": 180,
       "width": 240
      }
     },
     "output_type": "display_data"
    }
   ],
   "source": [
    "grf <- plot.density(stdata, label_series = \"\", colors=col_4)\n",
    "\n",
    "plot(grf)"
   ]
  },
  {
   "cell_type": "markdown",
   "metadata": {},
   "source": [
    "## Box-plot\n",
    "This graphic presents the on-time and delayed flights boxplot."
   ]
  },
  {
   "cell_type": "code",
   "execution_count": 19,
   "metadata": {},
   "outputs": [
    {
     "data": {
      "image/png": "[encoded data removed]",
      "text/plain": [
       "plot without title"
      ]
     },
     "metadata": {
      "image/png": {
       "height": 180,
       "width": 240
      }
     },
     "output_type": "display_data"
    }
   ],
   "source": [
    "grf <- plot.boxplot(stdata, colors=col_4)\n",
    "plot(grf)"
   ]
  },
  {
   "cell_type": "markdown",
   "metadata": {},
   "source": [
    "## Building PDF from graphics"
   ]
  },
  {
   "cell_type": "code",
   "execution_count": 21,
   "metadata": {
    "scrolled": true
   },
   "outputs": [
    {
     "data": {
      "text/html": [
       "<strong>png:</strong> 2"
      ],
      "text/latex": [
       "\\textbf{png:} 2"
      ],
      "text/markdown": [
       "**png:** 2"
      ],
      "text/plain": [
       "png \n",
       "  2 "
      ]
     },
     "metadata": {},
     "output_type": "display_data"
    }
   ],
   "source": [
    "pdf(\"examples/plot.pdf\", width=4, height=3)\n",
    "plot(grf)\n",
    "dev.off()"
   ]
  },
  {
   "cell_type": "code",
   "execution_count": null,
   "metadata": {},
   "outputs": [],
   "source": []
  }
 ],
 "metadata": {
  "kernelspec": {
   "display_name": "R",
   "language": "R",
   "name": "ir"
  },
  "language_info": {
   "codemirror_mode": "r",
   "file_extension": ".r",
   "mimetype": "text/x-r-source",
   "name": "R",
   "pygments_lexer": "r",
   "version": "3.6.0"
  }
 },
 "nbformat": 4,
 "nbformat_minor": 2
}
