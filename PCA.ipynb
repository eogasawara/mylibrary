{
 "cells": [
  {
   "cell_type": "code",
   "execution_count": 19,
   "metadata": {},
   "outputs": [],
   "source": [
    "# version 1.5\n",
    "source(\"https://raw.githubusercontent.com/eogasawara/mylibrary/master/myBasic.R\")\n",
    "source(\"https://raw.githubusercontent.com/eogasawara/mylibrary/master/myPreprocessing.R\")\n",
    "source(\"https://raw.githubusercontent.com/eogasawara/mylibrary/master/myGraphic.R\")"
   ]
  },
  {
   "cell_type": "markdown",
   "metadata": {},
   "source": [
    "## PCA\n",
    "PCA is a technique that finds a projection that captures the largest amount of variation in data."
   ]
  },
  {
   "cell_type": "code",
   "execution_count": 23,
   "metadata": {},
   "outputs": [],
   "source": [
    "mypca <- dt_pca(\"Species\")\n",
    "iris <- datasets::iris\n",
    "mypca <- fit(mypca, datasets::iris)\n",
    "iris.pca <- transform(mypca, iris)"
   ]
  },
  {
   "cell_type": "markdown",
   "metadata": {},
   "source": [
    "## Properties of PCA"
   ]
  },
  {
   "cell_type": "code",
   "execution_count": 24,
   "metadata": {},
   "outputs": [
    {
     "name": "stdout",
     "output_type": "stream",
     "text": [
      "       PC1       PC2 Species\n",
      "1 2.640270 -5.204041  setosa\n",
      "2 2.670730 -4.666910  setosa\n",
      "3 2.454606 -4.773636  setosa\n",
      "4 2.545517 -4.648463  setosa\n",
      "5 2.561228 -5.258629  setosa\n",
      "6 2.975946 -5.707321  setosa\n",
      "                    PC1         PC2\n",
      "Sepal.Length  0.5210659 -0.37741762\n",
      "Sepal.Width  -0.2693474 -0.92329566\n",
      "Petal.Length  0.5804131 -0.02449161\n",
      "Petal.Width   0.5648565 -0.06694199\n"
     ]
    }
   ],
   "source": [
    "print(head(iris.pca))\n",
    "print(head(mypca$pca.transf))"
   ]
  },
  {
   "cell_type": "markdown",
   "metadata": {},
   "source": [
    "## Visual analysis of PCA"
   ]
  },
  {
   "cell_type": "code",
   "execution_count": 25,
   "metadata": {},
   "outputs": [],
   "source": [
    "loadlibrary(\"RColorBrewer\")\n",
    "loadlibrary(\"dplyr\")\n",
    "col.set <- brewer.pal(11, 'Spectral')\n",
    "mycolors <- col.set[c(1,3,5,7,9)]\n"
   ]
  },
  {
   "cell_type": "code",
   "execution_count": 29,
   "metadata": {},
   "outputs": [
    {
     "data": {
      "text/html": [
       "<table class=\"dataframe\">\n",
       "<caption>A data.frame: 6 × 3</caption>\n",
       "<thead>\n",
       "\t<tr><th></th><th scope=col>x</th><th scope=col>value</th><th scope=col>variable</th></tr>\n",
       "\t<tr><th></th><th scope=col>&lt;dbl&gt;</th><th scope=col>&lt;dbl&gt;</th><th scope=col>&lt;fct&gt;</th></tr>\n",
       "</thead>\n",
       "<tbody>\n",
       "\t<tr><th scope=row>1</th><td>2.640270</td><td>-5.204041</td><td>setosa</td></tr>\n",
       "\t<tr><th scope=row>2</th><td>2.670730</td><td>-4.666910</td><td>setosa</td></tr>\n",
       "\t<tr><th scope=row>3</th><td>2.454606</td><td>-4.773636</td><td>setosa</td></tr>\n",
       "\t<tr><th scope=row>4</th><td>2.545517</td><td>-4.648463</td><td>setosa</td></tr>\n",
       "\t<tr><th scope=row>5</th><td>2.561228</td><td>-5.258629</td><td>setosa</td></tr>\n",
       "\t<tr><th scope=row>6</th><td>2.975946</td><td>-5.707321</td><td>setosa</td></tr>\n",
       "</tbody>\n",
       "</table>\n"
      ],
      "text/latex": [
       "A data.frame: 6 × 3\n",
       "\\begin{tabular}{r|lll}\n",
       "  & x & value & variable\\\\\n",
       "  & <dbl> & <dbl> & <fct>\\\\\n",
       "\\hline\n",
       "\t1 & 2.640270 & -5.204041 & setosa\\\\\n",
       "\t2 & 2.670730 & -4.666910 & setosa\\\\\n",
       "\t3 & 2.454606 & -4.773636 & setosa\\\\\n",
       "\t4 & 2.545517 & -4.648463 & setosa\\\\\n",
       "\t5 & 2.561228 & -5.258629 & setosa\\\\\n",
       "\t6 & 2.975946 & -5.707321 & setosa\\\\\n",
       "\\end{tabular}\n"
      ],
      "text/markdown": [
       "\n",
       "A data.frame: 6 × 3\n",
       "\n",
       "| <!--/--> | x &lt;dbl&gt; | value &lt;dbl&gt; | variable &lt;fct&gt; |\n",
       "|---|---|---|---|\n",
       "| 1 | 2.640270 | -5.204041 | setosa |\n",
       "| 2 | 2.670730 | -4.666910 | setosa |\n",
       "| 3 | 2.454606 | -4.773636 | setosa |\n",
       "| 4 | 2.545517 | -4.648463 | setosa |\n",
       "| 5 | 2.561228 | -5.258629 | setosa |\n",
       "| 6 | 2.975946 | -5.707321 | setosa |\n",
       "\n"
      ],
      "text/plain": [
       "  x        value     variable\n",
       "1 2.640270 -5.204041 setosa  \n",
       "2 2.670730 -4.666910 setosa  \n",
       "3 2.454606 -4.773636 setosa  \n",
       "4 2.545517 -4.648463 setosa  \n",
       "5 2.561228 -5.258629 setosa  \n",
       "6 2.975946 -5.707321 setosa  "
      ]
     },
     "metadata": {},
     "output_type": "display_data"
    },
    {
     "data": {
      "image/png": "[encoded data removed]",
      "text/plain": [
       "plot without title"
      ]
     },
     "metadata": {
      "image/png": {
       "height": 420,
       "width": 420
      }
     },
     "output_type": "display_data"
    }
   ],
   "source": [
    "data <- iris.pca %>% dplyr::select(x=PC1, value=PC2, variable=Species)\n",
    "head(data)\n",
    "grf <- plot.scatter(iris.pca %>% dplyr::select(x=PC1, value=PC2, variable=Species), colors=mycolors[1:3])\n",
    "plot(grf)"
   ]
  },
  {
   "cell_type": "code",
   "execution_count": null,
   "metadata": {},
   "outputs": [],
   "source": []
  }
 ],
 "metadata": {
  "kernelspec": {
   "display_name": "R",
   "language": "R",
   "name": "ir"
  },
  "language_info": {
   "codemirror_mode": "r",
   "file_extension": ".r",
   "mimetype": "text/x-r-source",
   "name": "R",
   "pygments_lexer": "r",
   "version": "4.0.5"
  }
 },
 "nbformat": 4,
 "nbformat_minor": 2
}
