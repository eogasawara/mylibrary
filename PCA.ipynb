{
 "cells": [
  {
   "cell_type": "code",
   "execution_count": 1,
   "metadata": {},
   "outputs": [
    {
     "name": "stderr",
     "output_type": "stream",
     "text": [
      "Loading required package: ggplot2\n",
      "\n",
      "Loading required package: dplyr\n",
      "\n",
      "\n",
      "Attaching package: 'dplyr'\n",
      "\n",
      "\n",
      "The following objects are masked from 'package:stats':\n",
      "\n",
      "    filter, lag\n",
      "\n",
      "\n",
      "The following objects are masked from 'package:base':\n",
      "\n",
      "    intersect, setdiff, setequal, union\n",
      "\n",
      "\n",
      "Loading required package: reshape\n",
      "\n",
      "\n",
      "Attaching package: 'reshape'\n",
      "\n",
      "\n",
      "The following object is masked from 'package:dplyr':\n",
      "\n",
      "    rename\n",
      "\n",
      "\n",
      "Loading required package: RColorBrewer\n",
      "\n"
     ]
    }
   ],
   "source": [
    "# version 1.5\n",
    "source(\"https://raw.githubusercontent.com/eogasawara/mylibrary/master/myBasic.R\")\n",
    "source(\"https://raw.githubusercontent.com/eogasawara/mylibrary/master/myPreprocessing.R\")\n",
    "source(\"https://raw.githubusercontent.com/eogasawara/mylibrary/master/myGraphic.R\")"
   ]
  },
  {
   "cell_type": "markdown",
   "metadata": {},
   "source": [
    "## PCA\n",
    "PCA is a technique that finds a projection that captures the largest amount of variation in data."
   ]
  },
  {
   "cell_type": "code",
   "execution_count": 2,
   "metadata": {},
   "outputs": [],
   "source": [
    "mypca <- dt_pca(\"Species\")\n",
    "mypca <- fit(mypca, iris)\n",
    "iris.pca <- transform(mypca, iris)"
   ]
  },
  {
   "cell_type": "markdown",
   "metadata": {},
   "source": [
    "## Properties of PCA"
   ]
  },
  {
   "cell_type": "code",
   "execution_count": 3,
   "metadata": {},
   "outputs": [
    {
     "name": "stdout",
     "output_type": "stream",
     "text": [
      "       PC1       PC2 Species\n",
      "1 2.640270 -5.204041       1\n",
      "2 2.670730 -4.666910       1\n",
      "3 2.454606 -4.773636       1\n",
      "4 2.545517 -4.648463       1\n",
      "5 2.561228 -5.258629       1\n",
      "6 2.975946 -5.707321       1\n",
      "                    PC1         PC2\n",
      "Sepal.Length  0.5210659 -0.37741762\n",
      "Sepal.Width  -0.2693474 -0.92329566\n",
      "Petal.Length  0.5804131 -0.02449161\n",
      "Petal.Width   0.5648565 -0.06694199\n"
     ]
    }
   ],
   "source": [
    "print(head(iris.pca))\n",
    "print(head(mypca$pca.transf))"
   ]
  },
  {
   "cell_type": "markdown",
   "metadata": {},
   "source": [
    "## Visual analysis of PCA"
   ]
  },
  {
   "cell_type": "code",
   "execution_count": 4,
   "metadata": {},
   "outputs": [],
   "source": [
    "loadlibrary(\"RColorBrewer\")\n",
    "loadlibrary(\"dplyr\")\n",
    "col.set <- brewer.pal(11, 'Spectral')\n",
    "mycolors <- col.set[c(1,3,5,7,9)]\n"
   ]
  },
  {
   "cell_type": "code",
   "execution_count": 5,
   "metadata": {},
   "outputs": [
    {
     "data": {
      "image/png": "[encoded data removed]",
      "text/plain": [
       "plot without title"
      ]
     },
     "metadata": {
      "image/png": {
       "height": 420,
       "width": 420
      }
     },
     "output_type": "display_data"
    }
   ],
   "source": [
    "grf <- plot.scatter(iris.pca %>% dplyr::select(x=PC1, value=PC2, variable=Species), colors=mycolors[1:3])\n",
    "plot(grf)"
   ]
  },
  {
   "cell_type": "code",
   "execution_count": null,
   "metadata": {},
   "outputs": [],
   "source": []
  }
 ],
 "metadata": {
  "kernelspec": {
   "display_name": "R",
   "language": "R",
   "name": "ir"
  },
  "language_info": {
   "codemirror_mode": "r",
   "file_extension": ".r",
   "mimetype": "text/x-r-source",
   "name": "R",
   "pygments_lexer": "r",
   "version": "4.0.5"
  }
 },
 "nbformat": 4,
 "nbformat_minor": 2
}
