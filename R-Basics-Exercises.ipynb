{
 "cells": [
  {
   "cell_type": "markdown",
   "id": "5451357f",
   "metadata": {},
   "source": [
    "### Exercise #1"
   ]
  },
  {
   "cell_type": "code",
   "execution_count": 1,
   "id": "1b652038",
   "metadata": {},
   "outputs": [
    {
     "data": {
      "text/html": [
       "4.49316505689979"
      ],
      "text/latex": [
       "4.49316505689979"
      ],
      "text/markdown": [
       "4.49316505689979"
      ],
      "text/plain": [
       "[1] 4.493165"
      ]
     },
     "metadata": {},
     "output_type": "display_data"
    },
    {
     "data": {
      "text/html": [
       "4.49316505689979"
      ],
      "text/latex": [
       "4.49316505689979"
      ],
      "text/markdown": [
       "4.49316505689979"
      ],
      "text/plain": [
       "[1] 4.493165"
      ]
     },
     "metadata": {},
     "output_type": "display_data"
    },
    {
     "data": {
      "text/html": [
       "4.49316505689979"
      ],
      "text/latex": [
       "4.49316505689979"
      ],
      "text/markdown": [
       "4.49316505689979"
      ],
      "text/plain": [
       "[1] 4.493165"
      ]
     },
     "metadata": {},
     "output_type": "display_data"
    }
   ],
   "source": [
    "weight <- c(60, 72, 57, 90, 95, 72) \n",
    "height <- c(1.75, 1.80, 1.65, 1.90, 1.74, 1.91)\n",
    "bmi <- weight/height^2 \n",
    "standard_deviation <- function(x) {\n",
    "  s <- 0\n",
    "  avg <- mean(x)\n",
    "  n <- length(x)\n",
    "  for (i in 1:n) {\n",
    "    s <- s + (x[i] - avg)^2\n",
    "  }\n",
    "  s <- s/(n-1)\n",
    "  s <- s^(1/2)\n",
    "  return(s)\n",
    "}\n",
    "\n",
    "standard_deviation(bmi)\n",
    "\n",
    "standard_deviation <- function(x) {\n",
    "  avg <- mean(x)  \n",
    "  s <- (x - avg)^2\n",
    "  n <- length(x)\n",
    "  s <- sum(s) / (n-1)\n",
    "  s <- s^(1/2)\n",
    "  return(s)\n",
    "}\n",
    "\n",
    "standard_deviation(bmi)\n",
    "\n",
    "standard_deviation <- function(x) {\n",
    "  x <- sd(x)\n",
    "  return(x)\n",
    "}\n",
    "\n",
    "standard_deviation(bmi)"
   ]
  },
  {
   "cell_type": "markdown",
   "id": "757fe2b9",
   "metadata": {},
   "source": [
    "### exercise #2"
   ]
  },
  {
   "cell_type": "code",
   "execution_count": 2,
   "id": "a2e4bcce",
   "metadata": {},
   "outputs": [
    {
     "data": {
      "text/html": [
       "<style>\n",
       ".list-inline {list-style: none; margin:0; padding: 0}\n",
       ".list-inline>li {display: inline-block}\n",
       ".list-inline>li:not(:last-child)::after {content: \"\\00b7\"; padding: 0 .5ex}\n",
       "</style>\n",
       "<ol class=list-inline><li>small</li><li>medium</li><li>medium</li><li>medium</li><li>large</li><li>small</li></ol>\n",
       "\n",
       "<details>\n",
       "\t<summary style=display:list-item;cursor:pointer>\n",
       "\t\t<strong>Levels</strong>:\n",
       "\t</summary>\n",
       "\t<style>\n",
       "\t.list-inline {list-style: none; margin:0; padding: 0}\n",
       "\t.list-inline>li {display: inline-block}\n",
       "\t.list-inline>li:not(:last-child)::after {content: \"\\00b7\"; padding: 0 .5ex}\n",
       "\t</style>\n",
       "\t<ol class=list-inline><li>'small'</li><li>'medium'</li><li>'large'</li></ol>\n",
       "</details>"
      ],
      "text/latex": [
       "\\begin{enumerate*}\n",
       "\\item small\n",
       "\\item medium\n",
       "\\item medium\n",
       "\\item medium\n",
       "\\item large\n",
       "\\item small\n",
       "\\end{enumerate*}\n",
       "\n",
       "\\emph{Levels}: \\begin{enumerate*}\n",
       "\\item 'small'\n",
       "\\item 'medium'\n",
       "\\item 'large'\n",
       "\\end{enumerate*}\n"
      ],
      "text/markdown": [
       "1. small\n",
       "2. medium\n",
       "3. medium\n",
       "4. medium\n",
       "5. large\n",
       "6. small\n",
       "\n",
       "\n",
       "\n",
       "**Levels**: 1. 'small'\n",
       "2. 'medium'\n",
       "3. 'large'\n",
       "\n",
       "\n"
      ],
      "text/plain": [
       "[1] small  medium medium medium large  small \n",
       "Levels: small < medium < large"
      ]
     },
     "metadata": {},
     "output_type": "display_data"
    }
   ],
   "source": [
    "bmi_factor <- function(bmi) {\n",
    "  bmi <- cut(bmi, breaks=c(0, 20, 25, .Machine$double.xmax), ordered=TRUE)\n",
    "  levels(bmi) <- c(\"small\", \"medium\", \"large\")\n",
    "  return(bmi)\n",
    "}\n",
    "\n",
    "bmi_fac <- bmi_factor(bmi)\n",
    "bmi_fac\n"
   ]
  },
  {
   "cell_type": "markdown",
   "id": "eeb61c63",
   "metadata": {},
   "source": [
    "### exercise #3"
   ]
  },
  {
   "cell_type": "code",
   "execution_count": 3,
   "id": "2e7ab8d9",
   "metadata": {},
   "outputs": [
    {
     "data": {
      "text/html": [
       "<table class=\"dataframe\">\n",
       "<caption>A matrix: 6 × 2 of type dbl</caption>\n",
       "<tbody>\n",
       "\t<tr><td>60</td><td>1.75</td></tr>\n",
       "\t<tr><td>72</td><td>1.80</td></tr>\n",
       "\t<tr><td>57</td><td>1.65</td></tr>\n",
       "\t<tr><td>90</td><td>1.90</td></tr>\n",
       "\t<tr><td>95</td><td>1.74</td></tr>\n",
       "\t<tr><td>72</td><td>1.91</td></tr>\n",
       "</tbody>\n",
       "</table>\n"
      ],
      "text/latex": [
       "A matrix: 6 × 2 of type dbl\n",
       "\\begin{tabular}{ll}\n",
       "\t 60 & 1.75\\\\\n",
       "\t 72 & 1.80\\\\\n",
       "\t 57 & 1.65\\\\\n",
       "\t 90 & 1.90\\\\\n",
       "\t 95 & 1.74\\\\\n",
       "\t 72 & 1.91\\\\\n",
       "\\end{tabular}\n"
      ],
      "text/markdown": [
       "\n",
       "A matrix: 6 × 2 of type dbl\n",
       "\n",
       "| 60 | 1.75 |\n",
       "| 72 | 1.80 |\n",
       "| 57 | 1.65 |\n",
       "| 90 | 1.90 |\n",
       "| 95 | 1.74 |\n",
       "| 72 | 1.91 |\n",
       "\n"
      ],
      "text/plain": [
       "     [,1] [,2]\n",
       "[1,] 60   1.75\n",
       "[2,] 72   1.80\n",
       "[3,] 57   1.65\n",
       "[4,] 90   1.90\n",
       "[5,] 95   1.74\n",
       "[6,] 72   1.91"
      ]
     },
     "metadata": {},
     "output_type": "display_data"
    }
   ],
   "source": [
    "wh <- matrix(c(weight, height),nrow=length(weight))\n",
    "wh"
   ]
  },
  {
   "cell_type": "markdown",
   "id": "170e06b5",
   "metadata": {},
   "source": [
    "### exercise #4"
   ]
  },
  {
   "cell_type": "code",
   "execution_count": 4,
   "id": "a7f2a916",
   "metadata": {},
   "outputs": [
    {
     "data": {
      "text/html": [
       "<table class=\"dataframe\">\n",
       "<caption>A matrix: 3 × 3 of type dbl</caption>\n",
       "<tbody>\n",
       "\t<tr><td> 1</td><td>9</td><td>5</td></tr>\n",
       "\t<tr><td> 3</td><td>7</td><td>8</td></tr>\n",
       "\t<tr><td>10</td><td>4</td><td>2</td></tr>\n",
       "</tbody>\n",
       "</table>\n"
      ],
      "text/latex": [
       "A matrix: 3 × 3 of type dbl\n",
       "\\begin{tabular}{lll}\n",
       "\t  1 & 9 & 5\\\\\n",
       "\t  3 & 7 & 8\\\\\n",
       "\t 10 & 4 & 2\\\\\n",
       "\\end{tabular}\n"
      ],
      "text/markdown": [
       "\n",
       "A matrix: 3 × 3 of type dbl\n",
       "\n",
       "|  1 | 9 | 5 |\n",
       "|  3 | 7 | 8 |\n",
       "| 10 | 4 | 2 |\n",
       "\n"
      ],
      "text/plain": [
       "     [,1] [,2] [,3]\n",
       "[1,]  1   9    5   \n",
       "[2,]  3   7    8   \n",
       "[3,] 10   4    2   "
      ]
     },
     "metadata": {},
     "output_type": "display_data"
    },
    {
     "data": {
      "text/html": [
       "358"
      ],
      "text/latex": [
       "358"
      ],
      "text/markdown": [
       "358"
      ],
      "text/plain": [
       "[1] 358"
      ]
     },
     "metadata": {},
     "output_type": "display_data"
    }
   ],
   "source": [
    "A <- matrix(c(1,9,5,3,7,8,10,4,2), nrow=3, byrow=TRUE)\n",
    "A\n",
    "det(A)"
   ]
  },
  {
   "cell_type": "code",
   "execution_count": 5,
   "id": "51842250",
   "metadata": {},
   "outputs": [
    {
     "data": {
      "text/html": [
       "<table class=\"dataframe\">\n",
       "<caption>A matrix: 3 × 3 of type dbl</caption>\n",
       "<tbody>\n",
       "\t<tr><td> 2</td><td>18</td><td>10</td></tr>\n",
       "\t<tr><td> 3</td><td> 7</td><td> 8</td></tr>\n",
       "\t<tr><td>30</td><td>12</td><td> 6</td></tr>\n",
       "</tbody>\n",
       "</table>\n"
      ],
      "text/latex": [
       "A matrix: 3 × 3 of type dbl\n",
       "\\begin{tabular}{lll}\n",
       "\t  2 & 18 & 10\\\\\n",
       "\t  3 &  7 &  8\\\\\n",
       "\t 30 & 12 &  6\\\\\n",
       "\\end{tabular}\n"
      ],
      "text/markdown": [
       "\n",
       "A matrix: 3 × 3 of type dbl\n",
       "\n",
       "|  2 | 18 | 10 |\n",
       "|  3 |  7 |  8 |\n",
       "| 30 | 12 |  6 |\n",
       "\n"
      ],
      "text/plain": [
       "     [,1] [,2] [,3]\n",
       "[1,]  2   18   10  \n",
       "[2,]  3    7    8  \n",
       "[3,] 30   12    6  "
      ]
     },
     "metadata": {},
     "output_type": "display_data"
    }
   ],
   "source": [
    "y <- c(2,1,3)\n",
    "Ay <- A * y\n",
    "Ay"
   ]
  },
  {
   "cell_type": "code",
   "execution_count": 6,
   "id": "dfad0dca",
   "metadata": {},
   "outputs": [
    {
     "data": {
      "text/html": [
       "<table class=\"dataframe\">\n",
       "<caption>A matrix: 3 × 1 of type dbl</caption>\n",
       "<tbody>\n",
       "\t<tr><td>26</td></tr>\n",
       "\t<tr><td>37</td></tr>\n",
       "\t<tr><td>30</td></tr>\n",
       "</tbody>\n",
       "</table>\n"
      ],
      "text/latex": [
       "A matrix: 3 × 1 of type dbl\n",
       "\\begin{tabular}{l}\n",
       "\t 26\\\\\n",
       "\t 37\\\\\n",
       "\t 30\\\\\n",
       "\\end{tabular}\n"
      ],
      "text/markdown": [
       "\n",
       "A matrix: 3 × 1 of type dbl\n",
       "\n",
       "| 26 |\n",
       "| 37 |\n",
       "| 30 |\n",
       "\n"
      ],
      "text/plain": [
       "     [,1]\n",
       "[1,] 26  \n",
       "[2,] 37  \n",
       "[3,] 30  "
      ]
     },
     "metadata": {},
     "output_type": "display_data"
    }
   ],
   "source": [
    "y <- c(2,1,3)\n",
    "Ay <- A %*% y\n",
    "Ay"
   ]
  },
  {
   "cell_type": "markdown",
   "id": "d828292c",
   "metadata": {},
   "source": [
    "### exercise #5"
   ]
  },
  {
   "cell_type": "code",
   "execution_count": 7,
   "id": "84cce574",
   "metadata": {},
   "outputs": [
    {
     "data": {
      "text/html": [
       "<dl>\n",
       "\t<dt>$weight</dt>\n",
       "\t\t<dd><style>\n",
       ".list-inline {list-style: none; margin:0; padding: 0}\n",
       ".list-inline>li {display: inline-block}\n",
       ".list-inline>li:not(:last-child)::after {content: \"\\00b7\"; padding: 0 .5ex}\n",
       "</style>\n",
       "<ol class=list-inline><li>60</li><li>72</li><li>57</li><li>90</li><li>95</li><li>72</li></ol>\n",
       "</dd>\n",
       "\t<dt>$height</dt>\n",
       "\t\t<dd><style>\n",
       ".list-inline {list-style: none; margin:0; padding: 0}\n",
       ".list-inline>li {display: inline-block}\n",
       ".list-inline>li:not(:last-child)::after {content: \"\\00b7\"; padding: 0 .5ex}\n",
       "</style>\n",
       "<ol class=list-inline><li>1.75</li><li>1.8</li><li>1.65</li><li>1.9</li><li>1.74</li><li>1.91</li></ol>\n",
       "</dd>\n",
       "\t<dt>$bmi</dt>\n",
       "\t\t<dd><style>\n",
       ".list-inline {list-style: none; margin:0; padding: 0}\n",
       ".list-inline>li {display: inline-block}\n",
       ".list-inline>li:not(:last-child)::after {content: \"\\00b7\"; padding: 0 .5ex}\n",
       "</style>\n",
       "<ol class=list-inline><li>19.5918367346939</li><li>22.2222222222222</li><li>20.9366391184573</li><li>24.9307479224377</li><li>31.3779891663364</li><li>19.7363010882377</li></ol>\n",
       "</dd>\n",
       "</dl>\n"
      ],
      "text/latex": [
       "\\begin{description}\n",
       "\\item[\\$weight] \\begin{enumerate*}\n",
       "\\item 60\n",
       "\\item 72\n",
       "\\item 57\n",
       "\\item 90\n",
       "\\item 95\n",
       "\\item 72\n",
       "\\end{enumerate*}\n",
       "\n",
       "\\item[\\$height] \\begin{enumerate*}\n",
       "\\item 1.75\n",
       "\\item 1.8\n",
       "\\item 1.65\n",
       "\\item 1.9\n",
       "\\item 1.74\n",
       "\\item 1.91\n",
       "\\end{enumerate*}\n",
       "\n",
       "\\item[\\$bmi] \\begin{enumerate*}\n",
       "\\item 19.5918367346939\n",
       "\\item 22.2222222222222\n",
       "\\item 20.9366391184573\n",
       "\\item 24.9307479224377\n",
       "\\item 31.3779891663364\n",
       "\\item 19.7363010882377\n",
       "\\end{enumerate*}\n",
       "\n",
       "\\end{description}\n"
      ],
      "text/markdown": [
       "$weight\n",
       ":   1. 60\n",
       "2. 72\n",
       "3. 57\n",
       "4. 90\n",
       "5. 95\n",
       "6. 72\n",
       "\n",
       "\n",
       "\n",
       "$height\n",
       ":   1. 1.75\n",
       "2. 1.8\n",
       "3. 1.65\n",
       "4. 1.9\n",
       "5. 1.74\n",
       "6. 1.91\n",
       "\n",
       "\n",
       "\n",
       "$bmi\n",
       ":   1. 19.5918367346939\n",
       "2. 22.2222222222222\n",
       "3. 20.9366391184573\n",
       "4. 24.9307479224377\n",
       "5. 31.3779891663364\n",
       "6. 19.7363010882377\n",
       "\n",
       "\n",
       "\n",
       "\n",
       "\n"
      ],
      "text/plain": [
       "$weight\n",
       "[1] 60 72 57 90 95 72\n",
       "\n",
       "$height\n",
       "[1] 1.75 1.80 1.65 1.90 1.74 1.91\n",
       "\n",
       "$bmi\n",
       "[1] 19.59184 22.22222 20.93664 24.93075 31.37799 19.73630\n"
      ]
     },
     "metadata": {},
     "output_type": "display_data"
    }
   ],
   "source": [
    "lbmi <- list(weight = weight, height = height, bmi = bmi)\n",
    "lbmi"
   ]
  },
  {
   "cell_type": "markdown",
   "id": "c8565ffb",
   "metadata": {},
   "source": [
    "### exercise 6"
   ]
  },
  {
   "cell_type": "code",
   "execution_count": 8,
   "id": "d5684bf8",
   "metadata": {},
   "outputs": [
    {
     "data": {
      "text/html": [
       "<table class=\"dataframe\">\n",
       "<caption>A data.frame: 3 × 3</caption>\n",
       "<thead>\n",
       "\t<tr><th></th><th scope=col>weight</th><th scope=col>height</th><th scope=col>bmi</th></tr>\n",
       "\t<tr><th></th><th scope=col>&lt;dbl&gt;</th><th scope=col>&lt;dbl&gt;</th><th scope=col>&lt;dbl&gt;</th></tr>\n",
       "</thead>\n",
       "<tbody>\n",
       "\t<tr><th scope=row>1</th><td>60</td><td>1.75</td><td>19.59184</td></tr>\n",
       "\t<tr><th scope=row>2</th><td>72</td><td>1.80</td><td>22.22222</td></tr>\n",
       "\t<tr><th scope=row>5</th><td>95</td><td>1.74</td><td>31.37799</td></tr>\n",
       "</tbody>\n",
       "</table>\n"
      ],
      "text/latex": [
       "A data.frame: 3 × 3\n",
       "\\begin{tabular}{r|lll}\n",
       "  & weight & height & bmi\\\\\n",
       "  & <dbl> & <dbl> & <dbl>\\\\\n",
       "\\hline\n",
       "\t1 & 60 & 1.75 & 19.59184\\\\\n",
       "\t2 & 72 & 1.80 & 22.22222\\\\\n",
       "\t5 & 95 & 1.74 & 31.37799\\\\\n",
       "\\end{tabular}\n"
      ],
      "text/markdown": [
       "\n",
       "A data.frame: 3 × 3\n",
       "\n",
       "| <!--/--> | weight &lt;dbl&gt; | height &lt;dbl&gt; | bmi &lt;dbl&gt; |\n",
       "|---|---|---|---|\n",
       "| 1 | 60 | 1.75 | 19.59184 |\n",
       "| 2 | 72 | 1.80 | 22.22222 |\n",
       "| 5 | 95 | 1.74 | 31.37799 |\n",
       "\n"
      ],
      "text/plain": [
       "  weight height bmi     \n",
       "1 60     1.75   19.59184\n",
       "2 72     1.80   22.22222\n",
       "5 95     1.74   31.37799"
      ]
     },
     "metadata": {},
     "output_type": "display_data"
    }
   ],
   "source": [
    "bmi.df <- data.frame(weight=weight, height=height)\n",
    "bmi.df$bmi <- bmi.df$weight/bmi.df$height^2 \n",
    "write.table(bmi.df, file=\"bmi.csv\", row.names=FALSE, quote = FALSE, sep = \",\")\n",
    "head(bmi.df[1.7 < bmi.df$height & bmi.df$height < 1.9,])"
   ]
  },
  {
   "cell_type": "markdown",
   "id": "da8ca97f",
   "metadata": {},
   "source": [
    "### Exercise #7"
   ]
  },
  {
   "cell_type": "code",
   "execution_count": 9,
   "id": "21c3f929",
   "metadata": {},
   "outputs": [
    {
     "data": {
      "text/plain": [
       "Time difference of 0.68577 secs"
      ]
     },
     "metadata": {},
     "output_type": "display_data"
    }
   ],
   "source": [
    "compute_bmi <- function(vec) {\n",
    "  bmi <- vec[2]/vec[1]^2 \n",
    "  return(bmi)\n",
    "}\n",
    "\n",
    "start_time <- Sys.time()\n",
    "hw <- data.frame(height=rnorm(100000, 1.8, sd=0.2), weight=rnorm(100000, 72, sd=15))\n",
    "hw$bmi <- apply(as.matrix(hw), 1, compute_bmi)\n",
    "end_time <- Sys.time()\n",
    "end_time - start_time"
   ]
  },
  {
   "cell_type": "markdown",
   "id": "3ca6c3ae",
   "metadata": {},
   "source": [
    "### Exercise #8"
   ]
  },
  {
   "cell_type": "code",
   "execution_count": 10,
   "id": "a945f2de",
   "metadata": {},
   "outputs": [
    {
     "data": {
      "text/html": [
       "<table class=\"dataframe\">\n",
       "<caption>A data.frame: 6 × 2</caption>\n",
       "<thead>\n",
       "\t<tr><th></th><th scope=col>height</th><th scope=col>weight</th></tr>\n",
       "\t<tr><th></th><th scope=col>&lt;dbl&gt;</th><th scope=col>&lt;dbl&gt;</th></tr>\n",
       "</thead>\n",
       "<tbody>\n",
       "\t<tr><th scope=row>33837</th><td>0.9065140</td><td>62.53133</td></tr>\n",
       "\t<tr><th scope=row>84812</th><td>0.9314868</td><td>75.88736</td></tr>\n",
       "\t<tr><th scope=row>6326</th><td>0.9431296</td><td>83.10379</td></tr>\n",
       "\t<tr><th scope=row>6116</th><td>0.9621238</td><td>68.96801</td></tr>\n",
       "\t<tr><th scope=row>58984</th><td>0.9871830</td><td>64.04676</td></tr>\n",
       "\t<tr><th scope=row>71692</th><td>0.9932242</td><td>52.99345</td></tr>\n",
       "</tbody>\n",
       "</table>\n"
      ],
      "text/latex": [
       "A data.frame: 6 × 2\n",
       "\\begin{tabular}{r|ll}\n",
       "  & height & weight\\\\\n",
       "  & <dbl> & <dbl>\\\\\n",
       "\\hline\n",
       "\t33837 & 0.9065140 & 62.53133\\\\\n",
       "\t84812 & 0.9314868 & 75.88736\\\\\n",
       "\t6326 & 0.9431296 & 83.10379\\\\\n",
       "\t6116 & 0.9621238 & 68.96801\\\\\n",
       "\t58984 & 0.9871830 & 64.04676\\\\\n",
       "\t71692 & 0.9932242 & 52.99345\\\\\n",
       "\\end{tabular}\n"
      ],
      "text/markdown": [
       "\n",
       "A data.frame: 6 × 2\n",
       "\n",
       "| <!--/--> | height &lt;dbl&gt; | weight &lt;dbl&gt; |\n",
       "|---|---|---|\n",
       "| 33837 | 0.9065140 | 62.53133 |\n",
       "| 84812 | 0.9314868 | 75.88736 |\n",
       "| 6326 | 0.9431296 | 83.10379 |\n",
       "| 6116 | 0.9621238 | 68.96801 |\n",
       "| 58984 | 0.9871830 | 64.04676 |\n",
       "| 71692 | 0.9932242 | 52.99345 |\n",
       "\n"
      ],
      "text/plain": [
       "      height    weight  \n",
       "33837 0.9065140 62.53133\n",
       "84812 0.9314868 75.88736\n",
       "6326  0.9431296 83.10379\n",
       "6116  0.9621238 68.96801\n",
       "58984 0.9871830 64.04676\n",
       "71692 0.9932242 52.99345"
      ]
     },
     "metadata": {},
     "output_type": "display_data"
    }
   ],
   "source": [
    "hw <- data.frame(height=rnorm(100000, 1.8, sd=0.2), weight=rnorm(100000, 72, sd=15))\n",
    "o <- order(hw$height)\n",
    "hw <- hw[o,]\n",
    "head(hw)"
   ]
  },
  {
   "cell_type": "markdown",
   "id": "4fcd1635",
   "metadata": {},
   "source": [
    "### Exercise #9"
   ]
  },
  {
   "cell_type": "code",
   "execution_count": 11,
   "id": "37689a35",
   "metadata": {},
   "outputs": [
    {
     "name": "stderr",
     "output_type": "stream",
     "text": [
      "\n",
      "Attaching package: 'dplyr'\n",
      "\n",
      "\n",
      "The following objects are masked from 'package:stats':\n",
      "\n",
      "    filter, lag\n",
      "\n",
      "\n",
      "The following objects are masked from 'package:base':\n",
      "\n",
      "    intersect, setdiff, setequal, union\n",
      "\n",
      "\n"
     ]
    },
    {
     "data": {
      "text/html": [
       "<table class=\"dataframe\">\n",
       "<caption>A data.frame: 1 × 1</caption>\n",
       "<thead>\n",
       "\t<tr><th></th><th scope=col>mean</th></tr>\n",
       "\t<tr><th></th><th scope=col>&lt;dbl&gt;</th></tr>\n",
       "</thead>\n",
       "<tbody>\n",
       "\t<tr><th scope=row>1</th><td>72.0243</td></tr>\n",
       "</tbody>\n",
       "</table>\n"
      ],
      "text/latex": [
       "A data.frame: 1 × 1\n",
       "\\begin{tabular}{r|l}\n",
       "  & mean\\\\\n",
       "  & <dbl>\\\\\n",
       "\\hline\n",
       "\t1 & 72.0243\\\\\n",
       "\\end{tabular}\n"
      ],
      "text/markdown": [
       "\n",
       "A data.frame: 1 × 1\n",
       "\n",
       "| <!--/--> | mean &lt;dbl&gt; |\n",
       "|---|---|\n",
       "| 1 | 72.0243 |\n",
       "\n"
      ],
      "text/plain": [
       "  mean   \n",
       "1 72.0243"
      ]
     },
     "metadata": {},
     "output_type": "display_data"
    }
   ],
   "source": [
    "library(dplyr)\n",
    "hw <- data.frame(height=rnorm(100000, 1.8, sd=0.2), weight=rnorm(100000, 72, sd=15))\n",
    "result <- hw %>% filter(height > 1.7 & height < 1.9) %>% summarize(mean=mean(weight))\n",
    "head(result)"
   ]
  },
  {
   "cell_type": "markdown",
   "id": "4da93388",
   "metadata": {},
   "source": [
    "### Exercise #10"
   ]
  },
  {
   "cell_type": "code",
   "execution_count": 12,
   "id": "0f718a59",
   "metadata": {},
   "outputs": [
    {
     "data": {
      "text/html": [
       "<table class=\"dataframe\">\n",
       "<caption>A data.frame: 6 × 5</caption>\n",
       "<thead>\n",
       "\t<tr><th></th><th scope=col>Date</th><th scope=col>DepTime</th><th scope=col>Departure</th><th scope=col>ArrTime</th><th scope=col>Arrival</th></tr>\n",
       "\t<tr><th></th><th scope=col>&lt;chr&gt;</th><th scope=col>&lt;chr&gt;</th><th scope=col>&lt;chr&gt;</th><th scope=col>&lt;chr&gt;</th><th scope=col>&lt;chr&gt;</th></tr>\n",
       "</thead>\n",
       "<tbody>\n",
       "\t<tr><th scope=row>1</th><td>06/01/2021</td><td>10:00</td><td>Lacey  </td><td>11:00</td><td>Seattle </td></tr>\n",
       "\t<tr><th scope=row>2</th><td>06/01/2021</td><td>10:00</td><td>Lacey  </td><td>11:00</td><td>Portland</td></tr>\n",
       "\t<tr><th scope=row>3</th><td>06/01/2021</td><td>11:00</td><td>Seattle</td><td>12:00</td><td>Lacey   </td></tr>\n",
       "\t<tr><th scope=row>4</th><td>06/01/2021</td><td>11:00</td><td>Seattle</td><td>12:00</td><td>Lacey   </td></tr>\n",
       "\t<tr><th scope=row>5</th><td>07/01/2021</td><td>10:00</td><td>Lacey  </td><td>11:00</td><td>Seattle </td></tr>\n",
       "\t<tr><th scope=row>6</th><td>07/01/2021</td><td>10:00</td><td>Lacey  </td><td>11:00</td><td>Portland</td></tr>\n",
       "</tbody>\n",
       "</table>\n"
      ],
      "text/latex": [
       "A data.frame: 6 × 5\n",
       "\\begin{tabular}{r|lllll}\n",
       "  & Date & DepTime & Departure & ArrTime & Arrival\\\\\n",
       "  & <chr> & <chr> & <chr> & <chr> & <chr>\\\\\n",
       "\\hline\n",
       "\t1 & 06/01/2021 & 10:00 & Lacey   & 11:00 & Seattle \\\\\n",
       "\t2 & 06/01/2021 & 10:00 & Lacey   & 11:00 & Portland\\\\\n",
       "\t3 & 06/01/2021 & 11:00 & Seattle & 12:00 & Lacey   \\\\\n",
       "\t4 & 06/01/2021 & 11:00 & Seattle & 12:00 & Lacey   \\\\\n",
       "\t5 & 07/01/2021 & 10:00 & Lacey   & 11:00 & Seattle \\\\\n",
       "\t6 & 07/01/2021 & 10:00 & Lacey   & 11:00 & Portland\\\\\n",
       "\\end{tabular}\n"
      ],
      "text/markdown": [
       "\n",
       "A data.frame: 6 × 5\n",
       "\n",
       "| <!--/--> | Date &lt;chr&gt; | DepTime &lt;chr&gt; | Departure &lt;chr&gt; | ArrTime &lt;chr&gt; | Arrival &lt;chr&gt; |\n",
       "|---|---|---|---|---|---|\n",
       "| 1 | 06/01/2021 | 10:00 | Lacey   | 11:00 | Seattle  |\n",
       "| 2 | 06/01/2021 | 10:00 | Lacey   | 11:00 | Portland |\n",
       "| 3 | 06/01/2021 | 11:00 | Seattle | 12:00 | Lacey    |\n",
       "| 4 | 06/01/2021 | 11:00 | Seattle | 12:00 | Lacey    |\n",
       "| 5 | 07/01/2021 | 10:00 | Lacey   | 11:00 | Seattle  |\n",
       "| 6 | 07/01/2021 | 10:00 | Lacey   | 11:00 | Portland |\n",
       "\n"
      ],
      "text/plain": [
       "  Date       DepTime Departure ArrTime Arrival \n",
       "1 06/01/2021 10:00   Lacey     11:00   Seattle \n",
       "2 06/01/2021 10:00   Lacey     11:00   Portland\n",
       "3 06/01/2021 11:00   Seattle   12:00   Lacey   \n",
       "4 06/01/2021 11:00   Seattle   12:00   Lacey   \n",
       "5 07/01/2021 10:00   Lacey     11:00   Seattle \n",
       "6 07/01/2021 10:00   Lacey     11:00   Portland"
      ]
     },
     "metadata": {},
     "output_type": "display_data"
    },
    {
     "data": {
      "text/html": [
       "<table class=\"dataframe\">\n",
       "<caption>A data.frame: 6 × 4</caption>\n",
       "<thead>\n",
       "\t<tr><th></th><th scope=col>Date</th><th scope=col>Time</th><th scope=col>City</th><th scope=col>Weather</th></tr>\n",
       "\t<tr><th></th><th scope=col>&lt;chr&gt;</th><th scope=col>&lt;chr&gt;</th><th scope=col>&lt;chr&gt;</th><th scope=col>&lt;chr&gt;</th></tr>\n",
       "</thead>\n",
       "<tbody>\n",
       "\t<tr><th scope=row>1</th><td>06/01/2021</td><td>10:00</td><td>Lacey   </td><td>Raining</td></tr>\n",
       "\t<tr><th scope=row>2</th><td>06/01/2021</td><td>10:00</td><td>Portland</td><td>Clouded</td></tr>\n",
       "\t<tr><th scope=row>3</th><td>06/01/2021</td><td>10:00</td><td>Seattle </td><td>Sunny  </td></tr>\n",
       "\t<tr><th scope=row>4</th><td>06/01/2021</td><td>11:00</td><td>Lacey   </td><td>Sunny  </td></tr>\n",
       "\t<tr><th scope=row>5</th><td>06/01/2021</td><td>11:00</td><td>Portland</td><td>Clouded</td></tr>\n",
       "\t<tr><th scope=row>6</th><td>06/01/2021</td><td>11:00</td><td>Seattle </td><td>Raining</td></tr>\n",
       "</tbody>\n",
       "</table>\n"
      ],
      "text/latex": [
       "A data.frame: 6 × 4\n",
       "\\begin{tabular}{r|llll}\n",
       "  & Date & Time & City & Weather\\\\\n",
       "  & <chr> & <chr> & <chr> & <chr>\\\\\n",
       "\\hline\n",
       "\t1 & 06/01/2021 & 10:00 & Lacey    & Raining\\\\\n",
       "\t2 & 06/01/2021 & 10:00 & Portland & Clouded\\\\\n",
       "\t3 & 06/01/2021 & 10:00 & Seattle  & Sunny  \\\\\n",
       "\t4 & 06/01/2021 & 11:00 & Lacey    & Sunny  \\\\\n",
       "\t5 & 06/01/2021 & 11:00 & Portland & Clouded\\\\\n",
       "\t6 & 06/01/2021 & 11:00 & Seattle  & Raining\\\\\n",
       "\\end{tabular}\n"
      ],
      "text/markdown": [
       "\n",
       "A data.frame: 6 × 4\n",
       "\n",
       "| <!--/--> | Date &lt;chr&gt; | Time &lt;chr&gt; | City &lt;chr&gt; | Weather &lt;chr&gt; |\n",
       "|---|---|---|---|---|\n",
       "| 1 | 06/01/2021 | 10:00 | Lacey    | Raining |\n",
       "| 2 | 06/01/2021 | 10:00 | Portland | Clouded |\n",
       "| 3 | 06/01/2021 | 10:00 | Seattle  | Sunny   |\n",
       "| 4 | 06/01/2021 | 11:00 | Lacey    | Sunny   |\n",
       "| 5 | 06/01/2021 | 11:00 | Portland | Clouded |\n",
       "| 6 | 06/01/2021 | 11:00 | Seattle  | Raining |\n",
       "\n"
      ],
      "text/plain": [
       "  Date       Time  City     Weather\n",
       "1 06/01/2021 10:00 Lacey    Raining\n",
       "2 06/01/2021 10:00 Portland Clouded\n",
       "3 06/01/2021 10:00 Seattle  Sunny  \n",
       "4 06/01/2021 11:00 Lacey    Sunny  \n",
       "5 06/01/2021 11:00 Portland Clouded\n",
       "6 06/01/2021 11:00 Seattle  Raining"
      ]
     },
     "metadata": {},
     "output_type": "display_data"
    },
    {
     "data": {
      "text/html": [
       "<table class=\"dataframe\">\n",
       "<caption>A data.frame: 6 × 7</caption>\n",
       "<thead>\n",
       "\t<tr><th></th><th scope=col>Date</th><th scope=col>ArrTime</th><th scope=col>Arrival</th><th scope=col>DepTime</th><th scope=col>Departure</th><th scope=col>DepWeather</th><th scope=col>ArrWeather</th></tr>\n",
       "\t<tr><th></th><th scope=col>&lt;chr&gt;</th><th scope=col>&lt;chr&gt;</th><th scope=col>&lt;chr&gt;</th><th scope=col>&lt;chr&gt;</th><th scope=col>&lt;chr&gt;</th><th scope=col>&lt;chr&gt;</th><th scope=col>&lt;chr&gt;</th></tr>\n",
       "</thead>\n",
       "<tbody>\n",
       "\t<tr><th scope=row>1</th><td>06/01/2021</td><td>11:00</td><td>Portland</td><td>10:00</td><td>Lacey  </td><td>Raining</td><td>Clouded</td></tr>\n",
       "\t<tr><th scope=row>2</th><td>06/01/2021</td><td>11:00</td><td>Seattle </td><td>10:00</td><td>Lacey  </td><td>Raining</td><td>Raining</td></tr>\n",
       "\t<tr><th scope=row>3</th><td>06/01/2021</td><td>12:00</td><td>Lacey   </td><td>11:00</td><td>Seattle</td><td>Raining</td><td>Raining</td></tr>\n",
       "\t<tr><th scope=row>4</th><td>06/01/2021</td><td>12:00</td><td>Lacey   </td><td>11:00</td><td>Seattle</td><td>Raining</td><td>Raining</td></tr>\n",
       "\t<tr><th scope=row>5</th><td>07/01/2021</td><td>11:00</td><td>Portland</td><td>10:00</td><td>Lacey  </td><td>Sunny  </td><td>Clouded</td></tr>\n",
       "\t<tr><th scope=row>6</th><td>07/01/2021</td><td>11:00</td><td>Seattle </td><td>10:00</td><td>Lacey  </td><td>Sunny  </td><td>Sunny  </td></tr>\n",
       "</tbody>\n",
       "</table>\n"
      ],
      "text/latex": [
       "A data.frame: 6 × 7\n",
       "\\begin{tabular}{r|lllllll}\n",
       "  & Date & ArrTime & Arrival & DepTime & Departure & DepWeather & ArrWeather\\\\\n",
       "  & <chr> & <chr> & <chr> & <chr> & <chr> & <chr> & <chr>\\\\\n",
       "\\hline\n",
       "\t1 & 06/01/2021 & 11:00 & Portland & 10:00 & Lacey   & Raining & Clouded\\\\\n",
       "\t2 & 06/01/2021 & 11:00 & Seattle  & 10:00 & Lacey   & Raining & Raining\\\\\n",
       "\t3 & 06/01/2021 & 12:00 & Lacey    & 11:00 & Seattle & Raining & Raining\\\\\n",
       "\t4 & 06/01/2021 & 12:00 & Lacey    & 11:00 & Seattle & Raining & Raining\\\\\n",
       "\t5 & 07/01/2021 & 11:00 & Portland & 10:00 & Lacey   & Sunny   & Clouded\\\\\n",
       "\t6 & 07/01/2021 & 11:00 & Seattle  & 10:00 & Lacey   & Sunny   & Sunny  \\\\\n",
       "\\end{tabular}\n"
      ],
      "text/markdown": [
       "\n",
       "A data.frame: 6 × 7\n",
       "\n",
       "| <!--/--> | Date &lt;chr&gt; | ArrTime &lt;chr&gt; | Arrival &lt;chr&gt; | DepTime &lt;chr&gt; | Departure &lt;chr&gt; | DepWeather &lt;chr&gt; | ArrWeather &lt;chr&gt; |\n",
       "|---|---|---|---|---|---|---|---|\n",
       "| 1 | 06/01/2021 | 11:00 | Portland | 10:00 | Lacey   | Raining | Clouded |\n",
       "| 2 | 06/01/2021 | 11:00 | Seattle  | 10:00 | Lacey   | Raining | Raining |\n",
       "| 3 | 06/01/2021 | 12:00 | Lacey    | 11:00 | Seattle | Raining | Raining |\n",
       "| 4 | 06/01/2021 | 12:00 | Lacey    | 11:00 | Seattle | Raining | Raining |\n",
       "| 5 | 07/01/2021 | 11:00 | Portland | 10:00 | Lacey   | Sunny   | Clouded |\n",
       "| 6 | 07/01/2021 | 11:00 | Seattle  | 10:00 | Lacey   | Sunny   | Sunny   |\n",
       "\n"
      ],
      "text/plain": [
       "  Date       ArrTime Arrival  DepTime Departure DepWeather ArrWeather\n",
       "1 06/01/2021 11:00   Portland 10:00   Lacey     Raining    Clouded   \n",
       "2 06/01/2021 11:00   Seattle  10:00   Lacey     Raining    Raining   \n",
       "3 06/01/2021 12:00   Lacey    11:00   Seattle   Raining    Raining   \n",
       "4 06/01/2021 12:00   Lacey    11:00   Seattle   Raining    Raining   \n",
       "5 07/01/2021 11:00   Portland 10:00   Lacey     Sunny      Clouded   \n",
       "6 07/01/2021 11:00   Seattle  10:00   Lacey     Sunny      Sunny     "
      ]
     },
     "metadata": {},
     "output_type": "display_data"
    }
   ],
   "source": [
    "timetable <- read.table(text = \"Date DepTime Departure ArrTime Arrival\n",
    "                     06/01/2021 10:00 Lacey 11:00 Seattle\n",
    "                     06/01/2021 10:00 Lacey 11:00 Portland\n",
    "                     06/01/2021 11:00 Seattle 12:00 Lacey\n",
    "                     06/01/2021 11:00 Seattle 12:00 Lacey\n",
    "                     07/01/2021 10:00 Lacey 11:00 Seattle\n",
    "                     07/01/2021 10:00 Lacey 11:00 Portland\n",
    "                     07/01/2021 11:00 Seattle 12:00 Lacey\n",
    "                     07/01/2021 11:00 Seattle 12:00 Lacey\",\n",
    "                          header = TRUE,sep = \"\")  \n",
    "head(timetable)\n",
    "\n",
    "weather <- read.table(text = \"Date Time City Weather\n",
    "                     06/01/2021 10:00 Lacey Raining\n",
    "                     06/01/2021 10:00 Portland Clouded\n",
    "                     06/01/2021 10:00 Seattle Sunny\n",
    "                     06/01/2021 11:00 Lacey Sunny\n",
    "                     06/01/2021 11:00 Portland Clouded\n",
    "                     06/01/2021 11:00 Seattle Raining\n",
    "                     06/01/2021 12:00 Lacey Raining\n",
    "                     06/01/2021 12:00 Portland Clouded\n",
    "                     06/01/2021 12:00 Seattle Sunny\n",
    "                     07/01/2021 10:00 Lacey Sunny\n",
    "                     07/01/2021 10:00 Portland Clouded\n",
    "                     07/01/2021 10:00 Seattle Raining\n",
    "                     07/01/2021 11:00 Lacey Raining\n",
    "                     07/01/2021 11:00 Portland Clouded\n",
    "                     07/01/2021 11:00 Seattle Sunny\n",
    "                     07/01/2021 12:00 Lacey Raining\n",
    "                     07/01/2021 12:00 Portland Clouded\n",
    "                     07/01/2021 12:00 Seattle Sunny\", header = TRUE,sep = \"\")        \n",
    "head(weather)\n",
    "\n",
    "timeweather <- merge(timetable, weather, by.x=c(\"Date\", \"DepTime\", \"Departure\"), by.y=c(\"Date\", \"Time\", \"City\"))\n",
    "\n",
    "timeweather <- merge(timeweather, weather, by.x=c(\"Date\", \"ArrTime\", \"Arrival\"), by.y=c(\"Date\", \"Time\", \"City\"))\n",
    "\n",
    "colnames(timeweather)[6:7] <- c(\"DepWeather\", \"ArrWeather\")\n",
    "\n",
    "head(timeweather)"
   ]
  },
  {
   "cell_type": "code",
   "execution_count": null,
   "id": "3972096c",
   "metadata": {},
   "outputs": [],
   "source": []
  }
 ],
 "metadata": {
  "kernelspec": {
   "display_name": "R",
   "language": "R",
   "name": "ir"
  },
  "language_info": {
   "codemirror_mode": "r",
   "file_extension": ".r",
   "mimetype": "text/x-r-source",
   "name": "R",
   "pygments_lexer": "r",
   "version": "4.1.2"
  }
 },
 "nbformat": 4,
 "nbformat_minor": 5
}
