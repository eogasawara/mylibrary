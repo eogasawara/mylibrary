{
 "cells": [
  {
   "cell_type": "markdown",
   "metadata": {},
   "source": [
    "# Prediction\n",
    "## Libraries and Datasets\n"
   ]
  },
  {
   "cell_type": "code",
   "execution_count": 4,
   "metadata": {},
   "outputs": [],
   "source": [
    "source(\"https://raw.githubusercontent.com/eogasawara/mylibrary/master/myPreprocessing.R\")\n",
    "source(\"https://raw.githubusercontent.com/eogasawara/mylibrary/master/myPrediction.R\")\n",
    "\n",
    "load(url(\"https://github.com/eogasawara/mylibrary/raw/master/data/wine.RData\"))\n"
   ]
  },
  {
   "cell_type": "markdown",
   "metadata": {},
   "source": [
    "## Building samples (training and testing)"
   ]
  },
  {
   "cell_type": "code",
   "execution_count": 5,
   "metadata": {},
   "outputs": [],
   "source": [
    "wine_tt = sample.random(wine)\n",
    "wine_train = wine_tt[[1]]\n",
    "wine_test = wine_tt[[2]]\n"
   ]
  },
  {
   "cell_type": "markdown",
   "metadata": {},
   "source": [
    "## Creating a Neural Network Model using NNet package\n",
    "In the first line, the model is created. Then, predictions for training data followed by the confusion matrix for model creation is displayed. At line four, predictions for the built model using test data is presented, followed by the predictions for training data is displayed. Finally, at line six, the confusion matrix for test data is displayed."
   ]
  },
  {
   "cell_type": "code",
   "execution_count": 6,
   "metadata": {},
   "outputs": [
    {
     "ename": "ERROR",
     "evalue": "Error in `[.data.frame`(data, , clabel): undefined columns selected\n",
     "output_type": "error",
     "traceback": [
      "Error in `[.data.frame`(data, , clabel): undefined columns selected\nTraceback:\n",
      "1. class_mlp_nnet(wine_train, \"X1\")",
      "2. decodeClassLabels(data[, clabel])",
      "3. data[, clabel]",
      "4. `[.data.frame`(data, , clabel)",
      "5. stop(\"undefined columns selected\")"
     ]
    }
   ],
   "source": [
    "mynnet = class_mlp_nnet(wine_train, \"X1\")\n",
    "head(mynnet$predictions)\n",
    "mynnet$cmTrain\n",
    "test <- class_test(mynnet$model, wine_test, \"X1\", predtype = mynnet$predtype)\n",
    "head(test$predictions)\n",
    "test$cmTest"
   ]
  },
  {
   "cell_type": "markdown",
   "metadata": {},
   "source": [
    "## Creating a SVM with RBF kernel"
   ]
  },
  {
   "cell_type": "code",
   "execution_count": 15,
   "metadata": {},
   "outputs": [
    {
     "data": {
      "text/html": [
       "<table>\n",
       "<thead><tr><th scope=col>X1</th><th scope=col>X2</th><th scope=col>X3</th><th scope=col>X1.1</th><th scope=col>X2.1</th><th scope=col>X3.1</th></tr></thead>\n",
       "<tbody>\n",
       "\t<tr><td>0.004237499</td><td>0.98058281 </td><td>0.015179687</td><td>0          </td><td>1          </td><td>0          </td></tr>\n",
       "\t<tr><td>0.969346776</td><td>0.01943440 </td><td>0.011218828</td><td>1          </td><td>0          </td><td>0          </td></tr>\n",
       "\t<tr><td>0.009669454</td><td>0.01534363 </td><td>0.974986915</td><td>0          </td><td>0          </td><td>1          </td></tr>\n",
       "\t<tr><td>0.002095613</td><td>0.99659143 </td><td>0.001312952</td><td>0          </td><td>1          </td><td>0          </td></tr>\n",
       "\t<tr><td>0.010879991</td><td>0.01541458 </td><td>0.973705434</td><td>0          </td><td>0          </td><td>1          </td></tr>\n",
       "\t<tr><td>0.970038887</td><td>0.01921173 </td><td>0.010749381</td><td>1          </td><td>0          </td><td>0          </td></tr>\n",
       "</tbody>\n",
       "</table>\n"
      ],
      "text/latex": [
       "\\begin{tabular}{r|llllll}\n",
       " X1 & X2 & X3 & X1.1 & X2.1 & X3.1\\\\\n",
       "\\hline\n",
       "\t 0.004237499 & 0.98058281  & 0.015179687 & 0           & 1           & 0          \\\\\n",
       "\t 0.969346776 & 0.01943440  & 0.011218828 & 1           & 0           & 0          \\\\\n",
       "\t 0.009669454 & 0.01534363  & 0.974986915 & 0           & 0           & 1          \\\\\n",
       "\t 0.002095613 & 0.99659143  & 0.001312952 & 0           & 1           & 0          \\\\\n",
       "\t 0.010879991 & 0.01541458  & 0.973705434 & 0           & 0           & 1          \\\\\n",
       "\t 0.970038887 & 0.01921173  & 0.010749381 & 1           & 0           & 0          \\\\\n",
       "\\end{tabular}\n"
      ],
      "text/markdown": [
       "\n",
       "X1 | X2 | X3 | X1.1 | X2.1 | X3.1 | \n",
       "|---|---|---|---|---|---|\n",
       "| 0.004237499 | 0.98058281  | 0.015179687 | 0           | 1           | 0           | \n",
       "| 0.969346776 | 0.01943440  | 0.011218828 | 1           | 0           | 0           | \n",
       "| 0.009669454 | 0.01534363  | 0.974986915 | 0           | 0           | 1           | \n",
       "| 0.002095613 | 0.99659143  | 0.001312952 | 0           | 1           | 0           | \n",
       "| 0.010879991 | 0.01541458  | 0.973705434 | 0           | 0           | 1           | \n",
       "| 0.970038887 | 0.01921173  | 0.010749381 | 1           | 0           | 0           | \n",
       "\n",
       "\n"
      ],
      "text/plain": [
       "  X1          X2         X3          X1.1 X2.1 X3.1\n",
       "1 0.004237499 0.98058281 0.015179687 0    1    0   \n",
       "2 0.969346776 0.01943440 0.011218828 1    0    0   \n",
       "3 0.009669454 0.01534363 0.974986915 0    0    1   \n",
       "4 0.002095613 0.99659143 0.001312952 0    1    0   \n",
       "5 0.010879991 0.01541458 0.973705434 0    0    1   \n",
       "6 0.970038887 0.01921173 0.010749381 1    0    0   "
      ]
     },
     "metadata": {},
     "output_type": "display_data"
    },
    {
     "data": {
      "text/html": [
       "<table>\n",
       "<tbody>\n",
       "\t<tr><td>282</td><td>  0</td></tr>\n",
       "\t<tr><td>  0</td><td>141</td></tr>\n",
       "</tbody>\n",
       "</table>\n"
      ],
      "text/latex": [
       "\\begin{tabular}{ll}\n",
       "\t 282 &   0\\\\\n",
       "\t   0 & 141\\\\\n",
       "\\end{tabular}\n"
      ],
      "text/markdown": [
       "\n",
       "| 282 |   0 | \n",
       "|   0 | 141 | \n",
       "\n",
       "\n"
      ],
      "text/plain": [
       "     [,1] [,2]\n",
       "[1,] 282    0 \n",
       "[2,]   0  141 "
      ]
     },
     "metadata": {},
     "output_type": "display_data"
    },
    {
     "data": {
      "text/html": [
       "<table>\n",
       "<thead><tr><th scope=col>X1</th><th scope=col>X2</th><th scope=col>X3</th><th scope=col>X1.1</th><th scope=col>X2.1</th><th scope=col>X3.1</th></tr></thead>\n",
       "<tbody>\n",
       "\t<tr><td>0.9917963  </td><td>0.001497194</td><td>0.006706478</td><td>1          </td><td>0          </td><td>0          </td></tr>\n",
       "\t<tr><td>0.9914116  </td><td>0.003207959</td><td>0.005380459</td><td>1          </td><td>0          </td><td>0          </td></tr>\n",
       "\t<tr><td>0.9951714  </td><td>0.001053220</td><td>0.003775391</td><td>1          </td><td>0          </td><td>0          </td></tr>\n",
       "\t<tr><td>0.9909415  </td><td>0.003173499</td><td>0.005884986</td><td>1          </td><td>0          </td><td>0          </td></tr>\n",
       "\t<tr><td>0.9847318  </td><td>0.011299716</td><td>0.003968482</td><td>1          </td><td>0          </td><td>0          </td></tr>\n",
       "\t<tr><td>0.9877453  </td><td>0.006737866</td><td>0.005516832</td><td>1          </td><td>0          </td><td>0          </td></tr>\n",
       "</tbody>\n",
       "</table>\n"
      ],
      "text/latex": [
       "\\begin{tabular}{r|llllll}\n",
       " X1 & X2 & X3 & X1.1 & X2.1 & X3.1\\\\\n",
       "\\hline\n",
       "\t 0.9917963   & 0.001497194 & 0.006706478 & 1           & 0           & 0          \\\\\n",
       "\t 0.9914116   & 0.003207959 & 0.005380459 & 1           & 0           & 0          \\\\\n",
       "\t 0.9951714   & 0.001053220 & 0.003775391 & 1           & 0           & 0          \\\\\n",
       "\t 0.9909415   & 0.003173499 & 0.005884986 & 1           & 0           & 0          \\\\\n",
       "\t 0.9847318   & 0.011299716 & 0.003968482 & 1           & 0           & 0          \\\\\n",
       "\t 0.9877453   & 0.006737866 & 0.005516832 & 1           & 0           & 0          \\\\\n",
       "\\end{tabular}\n"
      ],
      "text/markdown": [
       "\n",
       "X1 | X2 | X3 | X1.1 | X2.1 | X3.1 | \n",
       "|---|---|---|---|---|---|\n",
       "| 0.9917963   | 0.001497194 | 0.006706478 | 1           | 0           | 0           | \n",
       "| 0.9914116   | 0.003207959 | 0.005380459 | 1           | 0           | 0           | \n",
       "| 0.9951714   | 0.001053220 | 0.003775391 | 1           | 0           | 0           | \n",
       "| 0.9909415   | 0.003173499 | 0.005884986 | 1           | 0           | 0           | \n",
       "| 0.9847318   | 0.011299716 | 0.003968482 | 1           | 0           | 0           | \n",
       "| 0.9877453   | 0.006737866 | 0.005516832 | 1           | 0           | 0           | \n",
       "\n",
       "\n"
      ],
      "text/plain": [
       "  X1        X2          X3          X1.1 X2.1 X3.1\n",
       "1 0.9917963 0.001497194 0.006706478 1    0    0   \n",
       "2 0.9914116 0.003207959 0.005380459 1    0    0   \n",
       "3 0.9951714 0.001053220 0.003775391 1    0    0   \n",
       "4 0.9909415 0.003173499 0.005884986 1    0    0   \n",
       "5 0.9847318 0.011299716 0.003968482 1    0    0   \n",
       "6 0.9877453 0.006737866 0.005516832 1    0    0   "
      ]
     },
     "metadata": {},
     "output_type": "display_data"
    },
    {
     "data": {
      "text/html": [
       "<table>\n",
       "<tbody>\n",
       "\t<tr><td>71</td><td> 1</td></tr>\n",
       "\t<tr><td> 1</td><td>35</td></tr>\n",
       "</tbody>\n",
       "</table>\n"
      ],
      "text/latex": [
       "\\begin{tabular}{ll}\n",
       "\t 71 &  1\\\\\n",
       "\t  1 & 35\\\\\n",
       "\\end{tabular}\n"
      ],
      "text/markdown": [
       "\n",
       "| 71 |  1 | \n",
       "|  1 | 35 | \n",
       "\n",
       "\n"
      ],
      "text/plain": [
       "     [,1] [,2]\n",
       "[1,] 71    1  \n",
       "[2,]  1   35  "
      ]
     },
     "metadata": {},
     "output_type": "display_data"
    }
   ],
   "source": [
    "mysvm_rbf = class_svm_rbf(wine_train, \"X1\")\n",
    "head(mysvm_rbf$predictions)\n",
    "mysvm_rbf$cmTrain\n",
    "test <- class_test(mysvm_rbf$model, wine_test, \"X1\", predtype = mysvm_rbf$predtype)\n",
    "head(test$predictions)\n",
    "test$cmTest"
   ]
  },
  {
   "cell_type": "markdown",
   "metadata": {},
   "source": [
    "## Creating a SVM with polynomial kernel\n"
   ]
  },
  {
   "cell_type": "code",
   "execution_count": 16,
   "metadata": {},
   "outputs": [
    {
     "data": {
      "text/html": [
       "<table>\n",
       "<thead><tr><th scope=col>X1</th><th scope=col>X2</th><th scope=col>X3</th><th scope=col>X1.1</th><th scope=col>X2.1</th><th scope=col>X3.1</th></tr></thead>\n",
       "<tbody>\n",
       "\t<tr><td>0.002541771 </td><td>0.88895506  </td><td>0.1085031732</td><td>0           </td><td>1           </td><td>0           </td></tr>\n",
       "\t<tr><td>0.908667743 </td><td>0.07153740  </td><td>0.0197948568</td><td>1           </td><td>0           </td><td>0           </td></tr>\n",
       "\t<tr><td>0.021918607 </td><td>0.07358272  </td><td>0.9044986747</td><td>0           </td><td>0           </td><td>1           </td></tr>\n",
       "\t<tr><td>0.004317245 </td><td>0.99493561  </td><td>0.0007471415</td><td>0           </td><td>1           </td><td>0           </td></tr>\n",
       "\t<tr><td>0.001172395 </td><td>0.01392981  </td><td>0.9848977908</td><td>0           </td><td>0           </td><td>1           </td></tr>\n",
       "\t<tr><td>0.767263970 </td><td>0.21426102  </td><td>0.0184750097</td><td>1           </td><td>0           </td><td>0           </td></tr>\n",
       "</tbody>\n",
       "</table>\n"
      ],
      "text/latex": [
       "\\begin{tabular}{r|llllll}\n",
       " X1 & X2 & X3 & X1.1 & X2.1 & X3.1\\\\\n",
       "\\hline\n",
       "\t 0.002541771  & 0.88895506   & 0.1085031732 & 0            & 1            & 0           \\\\\n",
       "\t 0.908667743  & 0.07153740   & 0.0197948568 & 1            & 0            & 0           \\\\\n",
       "\t 0.021918607  & 0.07358272   & 0.9044986747 & 0            & 0            & 1           \\\\\n",
       "\t 0.004317245  & 0.99493561   & 0.0007471415 & 0            & 1            & 0           \\\\\n",
       "\t 0.001172395  & 0.01392981   & 0.9848977908 & 0            & 0            & 1           \\\\\n",
       "\t 0.767263970  & 0.21426102   & 0.0184750097 & 1            & 0            & 0           \\\\\n",
       "\\end{tabular}\n"
      ],
      "text/markdown": [
       "\n",
       "X1 | X2 | X3 | X1.1 | X2.1 | X3.1 | \n",
       "|---|---|---|---|---|---|\n",
       "| 0.002541771  | 0.88895506   | 0.1085031732 | 0            | 1            | 0            | \n",
       "| 0.908667743  | 0.07153740   | 0.0197948568 | 1            | 0            | 0            | \n",
       "| 0.021918607  | 0.07358272   | 0.9044986747 | 0            | 0            | 1            | \n",
       "| 0.004317245  | 0.99493561   | 0.0007471415 | 0            | 1            | 0            | \n",
       "| 0.001172395  | 0.01392981   | 0.9848977908 | 0            | 0            | 1            | \n",
       "| 0.767263970  | 0.21426102   | 0.0184750097 | 1            | 0            | 0            | \n",
       "\n",
       "\n"
      ],
      "text/plain": [
       "  X1          X2         X3           X1.1 X2.1 X3.1\n",
       "1 0.002541771 0.88895506 0.1085031732 0    1    0   \n",
       "2 0.908667743 0.07153740 0.0197948568 1    0    0   \n",
       "3 0.021918607 0.07358272 0.9044986747 0    0    1   \n",
       "4 0.004317245 0.99493561 0.0007471415 0    1    0   \n",
       "5 0.001172395 0.01392981 0.9848977908 0    0    1   \n",
       "6 0.767263970 0.21426102 0.0184750097 1    0    0   "
      ]
     },
     "metadata": {},
     "output_type": "display_data"
    },
    {
     "data": {
      "text/html": [
       "<table>\n",
       "<tbody>\n",
       "\t<tr><td>282</td><td>  0</td></tr>\n",
       "\t<tr><td>  0</td><td>141</td></tr>\n",
       "</tbody>\n",
       "</table>\n"
      ],
      "text/latex": [
       "\\begin{tabular}{ll}\n",
       "\t 282 &   0\\\\\n",
       "\t   0 & 141\\\\\n",
       "\\end{tabular}\n"
      ],
      "text/markdown": [
       "\n",
       "| 282 |   0 | \n",
       "|   0 | 141 | \n",
       "\n",
       "\n"
      ],
      "text/plain": [
       "     [,1] [,2]\n",
       "[1,] 282    0 \n",
       "[2,]   0  141 "
      ]
     },
     "metadata": {},
     "output_type": "display_data"
    },
    {
     "data": {
      "text/html": [
       "<table>\n",
       "<thead><tr><th scope=col>X1</th><th scope=col>X2</th><th scope=col>X3</th><th scope=col>X1.1</th><th scope=col>X2.1</th><th scope=col>X3.1</th></tr></thead>\n",
       "<tbody>\n",
       "\t<tr><td>0.9877798  </td><td>0.002328285</td><td>0.009891931</td><td>1          </td><td>0          </td><td>0          </td></tr>\n",
       "\t<tr><td>0.9641787  </td><td>0.010558639</td><td>0.025262654</td><td>1          </td><td>0          </td><td>0          </td></tr>\n",
       "\t<tr><td>0.9875326  </td><td>0.010218595</td><td>0.002248768</td><td>1          </td><td>0          </td><td>0          </td></tr>\n",
       "\t<tr><td>0.9925944  </td><td>0.001747844</td><td>0.005657801</td><td>1          </td><td>0          </td><td>0          </td></tr>\n",
       "\t<tr><td>0.8730278  </td><td>0.115712624</td><td>0.011259576</td><td>1          </td><td>0          </td><td>0          </td></tr>\n",
       "\t<tr><td>0.9528562  </td><td>0.041695232</td><td>0.005448602</td><td>1          </td><td>0          </td><td>0          </td></tr>\n",
       "</tbody>\n",
       "</table>\n"
      ],
      "text/latex": [
       "\\begin{tabular}{r|llllll}\n",
       " X1 & X2 & X3 & X1.1 & X2.1 & X3.1\\\\\n",
       "\\hline\n",
       "\t 0.9877798   & 0.002328285 & 0.009891931 & 1           & 0           & 0          \\\\\n",
       "\t 0.9641787   & 0.010558639 & 0.025262654 & 1           & 0           & 0          \\\\\n",
       "\t 0.9875326   & 0.010218595 & 0.002248768 & 1           & 0           & 0          \\\\\n",
       "\t 0.9925944   & 0.001747844 & 0.005657801 & 1           & 0           & 0          \\\\\n",
       "\t 0.8730278   & 0.115712624 & 0.011259576 & 1           & 0           & 0          \\\\\n",
       "\t 0.9528562   & 0.041695232 & 0.005448602 & 1           & 0           & 0          \\\\\n",
       "\\end{tabular}\n"
      ],
      "text/markdown": [
       "\n",
       "X1 | X2 | X3 | X1.1 | X2.1 | X3.1 | \n",
       "|---|---|---|---|---|---|\n",
       "| 0.9877798   | 0.002328285 | 0.009891931 | 1           | 0           | 0           | \n",
       "| 0.9641787   | 0.010558639 | 0.025262654 | 1           | 0           | 0           | \n",
       "| 0.9875326   | 0.010218595 | 0.002248768 | 1           | 0           | 0           | \n",
       "| 0.9925944   | 0.001747844 | 0.005657801 | 1           | 0           | 0           | \n",
       "| 0.8730278   | 0.115712624 | 0.011259576 | 1           | 0           | 0           | \n",
       "| 0.9528562   | 0.041695232 | 0.005448602 | 1           | 0           | 0           | \n",
       "\n",
       "\n"
      ],
      "text/plain": [
       "  X1        X2          X3          X1.1 X2.1 X3.1\n",
       "1 0.9877798 0.002328285 0.009891931 1    0    0   \n",
       "2 0.9641787 0.010558639 0.025262654 1    0    0   \n",
       "3 0.9875326 0.010218595 0.002248768 1    0    0   \n",
       "4 0.9925944 0.001747844 0.005657801 1    0    0   \n",
       "5 0.8730278 0.115712624 0.011259576 1    0    0   \n",
       "6 0.9528562 0.041695232 0.005448602 1    0    0   "
      ]
     },
     "metadata": {},
     "output_type": "display_data"
    },
    {
     "data": {
      "text/html": [
       "<table>\n",
       "<tbody>\n",
       "\t<tr><td>70</td><td> 2</td></tr>\n",
       "\t<tr><td> 2</td><td>34</td></tr>\n",
       "</tbody>\n",
       "</table>\n"
      ],
      "text/latex": [
       "\\begin{tabular}{ll}\n",
       "\t 70 &  2\\\\\n",
       "\t  2 & 34\\\\\n",
       "\\end{tabular}\n"
      ],
      "text/markdown": [
       "\n",
       "| 70 |  2 | \n",
       "|  2 | 34 | \n",
       "\n",
       "\n"
      ],
      "text/plain": [
       "     [,1] [,2]\n",
       "[1,] 70    2  \n",
       "[2,]  2   34  "
      ]
     },
     "metadata": {},
     "output_type": "display_data"
    }
   ],
   "source": [
    "mysvm_poly = class_svm_poly(wine_train, \"X1\")\n",
    "head(mysvm_poly$predictions)\n",
    "mysvm_poly$cmTrain\n",
    "test <- class_test(mysvm_poly$model, wine_test, \"X1\", predtype = mysvm_poly$predtype)\n",
    "head(test$predictions)\n",
    "test$cmTest\n"
   ]
  },
  {
   "cell_type": "markdown",
   "metadata": {},
   "source": [
    "## Creating a SVM with sigmoid kernel"
   ]
  },
  {
   "cell_type": "code",
   "execution_count": 17,
   "metadata": {
    "scrolled": true
   },
   "outputs": [
    {
     "data": {
      "text/html": [
       "<table>\n",
       "<thead><tr><th scope=col>X1</th><th scope=col>X2</th><th scope=col>X3</th><th scope=col>X1.1</th><th scope=col>X2.1</th><th scope=col>X3.1</th></tr></thead>\n",
       "<tbody>\n",
       "\t<tr><td>0.01009216 </td><td>0.4127439  </td><td>0.577163977</td><td>0          </td><td>1          </td><td>0          </td></tr>\n",
       "\t<tr><td>0.78971265 </td><td>0.1678582  </td><td>0.042429149</td><td>1          </td><td>0          </td><td>0          </td></tr>\n",
       "\t<tr><td>0.01134566 </td><td>0.4015780  </td><td>0.587076366</td><td>0          </td><td>0          </td><td>1          </td></tr>\n",
       "\t<tr><td>0.82784944 </td><td>0.1640344  </td><td>0.008116201</td><td>0          </td><td>1          </td><td>0          </td></tr>\n",
       "\t<tr><td>0.02901901 </td><td>0.3261364  </td><td>0.644844555</td><td>0          </td><td>0          </td><td>1          </td></tr>\n",
       "\t<tr><td>0.69416404 </td><td>0.2933834  </td><td>0.012452575</td><td>1          </td><td>0          </td><td>0          </td></tr>\n",
       "</tbody>\n",
       "</table>\n"
      ],
      "text/latex": [
       "\\begin{tabular}{r|llllll}\n",
       " X1 & X2 & X3 & X1.1 & X2.1 & X3.1\\\\\n",
       "\\hline\n",
       "\t 0.01009216  & 0.4127439   & 0.577163977 & 0           & 1           & 0          \\\\\n",
       "\t 0.78971265  & 0.1678582   & 0.042429149 & 1           & 0           & 0          \\\\\n",
       "\t 0.01134566  & 0.4015780   & 0.587076366 & 0           & 0           & 1          \\\\\n",
       "\t 0.82784944  & 0.1640344   & 0.008116201 & 0           & 1           & 0          \\\\\n",
       "\t 0.02901901  & 0.3261364   & 0.644844555 & 0           & 0           & 1          \\\\\n",
       "\t 0.69416404  & 0.2933834   & 0.012452575 & 1           & 0           & 0          \\\\\n",
       "\\end{tabular}\n"
      ],
      "text/markdown": [
       "\n",
       "X1 | X2 | X3 | X1.1 | X2.1 | X3.1 | \n",
       "|---|---|---|---|---|---|\n",
       "| 0.01009216  | 0.4127439   | 0.577163977 | 0           | 1           | 0           | \n",
       "| 0.78971265  | 0.1678582   | 0.042429149 | 1           | 0           | 0           | \n",
       "| 0.01134566  | 0.4015780   | 0.587076366 | 0           | 0           | 1           | \n",
       "| 0.82784944  | 0.1640344   | 0.008116201 | 0           | 1           | 0           | \n",
       "| 0.02901901  | 0.3261364   | 0.644844555 | 0           | 0           | 1           | \n",
       "| 0.69416404  | 0.2933834   | 0.012452575 | 1           | 0           | 0           | \n",
       "\n",
       "\n"
      ],
      "text/plain": [
       "  X1         X2        X3          X1.1 X2.1 X3.1\n",
       "1 0.01009216 0.4127439 0.577163977 0    1    0   \n",
       "2 0.78971265 0.1678582 0.042429149 1    0    0   \n",
       "3 0.01134566 0.4015780 0.587076366 0    0    1   \n",
       "4 0.82784944 0.1640344 0.008116201 0    1    0   \n",
       "5 0.02901901 0.3261364 0.644844555 0    0    1   \n",
       "6 0.69416404 0.2933834 0.012452575 1    0    0   "
      ]
     },
     "metadata": {},
     "output_type": "display_data"
    },
    {
     "data": {
      "text/html": [
       "<table>\n",
       "<tbody>\n",
       "\t<tr><td>259</td><td> 30</td></tr>\n",
       "\t<tr><td> 23</td><td>111</td></tr>\n",
       "</tbody>\n",
       "</table>\n"
      ],
      "text/latex": [
       "\\begin{tabular}{ll}\n",
       "\t 259 &  30\\\\\n",
       "\t  23 & 111\\\\\n",
       "\\end{tabular}\n"
      ],
      "text/markdown": [
       "\n",
       "| 259 |  30 | \n",
       "|  23 | 111 | \n",
       "\n",
       "\n"
      ],
      "text/plain": [
       "     [,1] [,2]\n",
       "[1,] 259   30 \n",
       "[2,]  23  111 "
      ]
     },
     "metadata": {},
     "output_type": "display_data"
    },
    {
     "data": {
      "text/html": [
       "<table>\n",
       "<thead><tr><th scope=col>X1</th><th scope=col>X2</th><th scope=col>X3</th><th scope=col>X1.1</th><th scope=col>X2.1</th><th scope=col>X3.1</th></tr></thead>\n",
       "<tbody>\n",
       "\t<tr><td>0.9834512  </td><td>0.01235524 </td><td>0.004193553</td><td>1          </td><td>0          </td><td>0          </td></tr>\n",
       "\t<tr><td>0.9841907  </td><td>0.01188041 </td><td>0.003928875</td><td>1          </td><td>0          </td><td>0          </td></tr>\n",
       "\t<tr><td>0.3357444  </td><td>0.62278238 </td><td>0.041473169</td><td>1          </td><td>0          </td><td>0          </td></tr>\n",
       "\t<tr><td>0.8202850  </td><td>0.16758235 </td><td>0.012132633</td><td>1          </td><td>0          </td><td>0          </td></tr>\n",
       "\t<tr><td>0.4066994  </td><td>0.55913476 </td><td>0.034165827</td><td>1          </td><td>0          </td><td>0          </td></tr>\n",
       "\t<tr><td>0.8249539  </td><td>0.16396445 </td><td>0.011081652</td><td>1          </td><td>0          </td><td>0          </td></tr>\n",
       "</tbody>\n",
       "</table>\n"
      ],
      "text/latex": [
       "\\begin{tabular}{r|llllll}\n",
       " X1 & X2 & X3 & X1.1 & X2.1 & X3.1\\\\\n",
       "\\hline\n",
       "\t 0.9834512   & 0.01235524  & 0.004193553 & 1           & 0           & 0          \\\\\n",
       "\t 0.9841907   & 0.01188041  & 0.003928875 & 1           & 0           & 0          \\\\\n",
       "\t 0.3357444   & 0.62278238  & 0.041473169 & 1           & 0           & 0          \\\\\n",
       "\t 0.8202850   & 0.16758235  & 0.012132633 & 1           & 0           & 0          \\\\\n",
       "\t 0.4066994   & 0.55913476  & 0.034165827 & 1           & 0           & 0          \\\\\n",
       "\t 0.8249539   & 0.16396445  & 0.011081652 & 1           & 0           & 0          \\\\\n",
       "\\end{tabular}\n"
      ],
      "text/markdown": [
       "\n",
       "X1 | X2 | X3 | X1.1 | X2.1 | X3.1 | \n",
       "|---|---|---|---|---|---|\n",
       "| 0.9834512   | 0.01235524  | 0.004193553 | 1           | 0           | 0           | \n",
       "| 0.9841907   | 0.01188041  | 0.003928875 | 1           | 0           | 0           | \n",
       "| 0.3357444   | 0.62278238  | 0.041473169 | 1           | 0           | 0           | \n",
       "| 0.8202850   | 0.16758235  | 0.012132633 | 1           | 0           | 0           | \n",
       "| 0.4066994   | 0.55913476  | 0.034165827 | 1           | 0           | 0           | \n",
       "| 0.8249539   | 0.16396445  | 0.011081652 | 1           | 0           | 0           | \n",
       "\n",
       "\n"
      ],
      "text/plain": [
       "  X1        X2         X3          X1.1 X2.1 X3.1\n",
       "1 0.9834512 0.01235524 0.004193553 1    0    0   \n",
       "2 0.9841907 0.01188041 0.003928875 1    0    0   \n",
       "3 0.3357444 0.62278238 0.041473169 1    0    0   \n",
       "4 0.8202850 0.16758235 0.012132633 1    0    0   \n",
       "5 0.4066994 0.55913476 0.034165827 1    0    0   \n",
       "6 0.8249539 0.16396445 0.011081652 1    0    0   "
      ]
     },
     "metadata": {},
     "output_type": "display_data"
    },
    {
     "data": {
      "text/html": [
       "<table>\n",
       "<tbody>\n",
       "\t<tr><td>65</td><td> 7</td></tr>\n",
       "\t<tr><td> 7</td><td>29</td></tr>\n",
       "</tbody>\n",
       "</table>\n"
      ],
      "text/latex": [
       "\\begin{tabular}{ll}\n",
       "\t 65 &  7\\\\\n",
       "\t  7 & 29\\\\\n",
       "\\end{tabular}\n"
      ],
      "text/markdown": [
       "\n",
       "| 65 |  7 | \n",
       "|  7 | 29 | \n",
       "\n",
       "\n"
      ],
      "text/plain": [
       "     [,1] [,2]\n",
       "[1,] 65    7  \n",
       "[2,]  7   29  "
      ]
     },
     "metadata": {},
     "output_type": "display_data"
    }
   ],
   "source": [
    "mysvm_sig = class_svm_sigmoid(wine_train, \"X1\")\n",
    "head(mysvm_sig$predictions)\n",
    "mysvm_sig$cmTrain\n",
    "test <- class_test(mysvm_sig$model, wine_test, \"X1\", predtype = mysvm_sig$predtype)\n",
    "head(test$predictions)\n",
    "test$cmTest"
   ]
  },
  {
   "cell_type": "markdown",
   "metadata": {},
   "source": [
    "## Creating a Neural Network Model using RSNNS package\n",
    "\n",
    "Data normalization: This package requires prior normalization. All other packages work better if data is normalized beforehand. "
   ]
  },
  {
   "cell_type": "code",
   "execution_count": 18,
   "metadata": {
    "collapsed": true
   },
   "outputs": [],
   "source": [
    "wine_train_n <- normalize.minmax(wine_train)\n",
    "wine_train_n$data$X1 <- wine_train$X1\n",
    "wine_test_n  <- normalize.minmax(wine_test, wine_train_n$norm.set)\n",
    "wine_test_n$data$X1 <- wine_test$X1"
   ]
  },
  {
   "cell_type": "markdown",
   "metadata": {},
   "source": [
    "### MPL Neural Network"
   ]
  },
  {
   "cell_type": "code",
   "execution_count": 19,
   "metadata": {},
   "outputs": [
    {
     "data": {
      "text/html": [
       "<table>\n",
       "<thead><tr><th></th><th scope=col>X1</th><th scope=col>X2</th><th scope=col>X3</th><th scope=col>X1.1</th><th scope=col>X2.1</th><th scope=col>X3.1</th></tr></thead>\n",
       "<tbody>\n",
       "\t<tr><th scope=row>61</th><td>4.234361e-05</td><td>9.881172e-01</td><td>0.0316259079</td><td>0           </td><td>1           </td><td>0           </td></tr>\n",
       "\t<tr><th scope=row>21</th><td>9.893628e-01</td><td>4.175612e-03</td><td>0.0029229841</td><td>1           </td><td>0           </td><td>0           </td></tr>\n",
       "\t<tr><th scope=row>133</th><td>1.152874e-04</td><td>2.739386e-04</td><td>0.9980408549</td><td>0           </td><td>0           </td><td>1           </td></tr>\n",
       "\t<tr><th scope=row>97</th><td>3.840588e-03</td><td>9.992307e-01</td><td>0.0002741388</td><td>0           </td><td>1           </td><td>0           </td></tr>\n",
       "\t<tr><th scope=row>146</th><td>2.010040e-03</td><td>3.142471e-06</td><td>0.9995172024</td><td>0           </td><td>0           </td><td>1           </td></tr>\n",
       "\t<tr><th scope=row>38</th><td>9.560473e-01</td><td>5.169263e-02</td><td>0.0012776844</td><td>1           </td><td>0           </td><td>0           </td></tr>\n",
       "</tbody>\n",
       "</table>\n"
      ],
      "text/latex": [
       "\\begin{tabular}{r|llllll}\n",
       "  & X1 & X2 & X3 & X1.1 & X2.1 & X3.1\\\\\n",
       "\\hline\n",
       "\t61 & 4.234361e-05 & 9.881172e-01 & 0.0316259079 & 0            & 1            & 0           \\\\\n",
       "\t21 & 9.893628e-01 & 4.175612e-03 & 0.0029229841 & 1            & 0            & 0           \\\\\n",
       "\t133 & 1.152874e-04 & 2.739386e-04 & 0.9980408549 & 0            & 0            & 1           \\\\\n",
       "\t97 & 3.840588e-03 & 9.992307e-01 & 0.0002741388 & 0            & 1            & 0           \\\\\n",
       "\t146 & 2.010040e-03 & 3.142471e-06 & 0.9995172024 & 0            & 0            & 1           \\\\\n",
       "\t38 & 9.560473e-01 & 5.169263e-02 & 0.0012776844 & 1            & 0            & 0           \\\\\n",
       "\\end{tabular}\n"
      ],
      "text/markdown": [
       "\n",
       "| <!--/--> | X1 | X2 | X3 | X1.1 | X2.1 | X3.1 | \n",
       "|---|---|---|---|---|---|\n",
       "| 61 | 4.234361e-05 | 9.881172e-01 | 0.0316259079 | 0            | 1            | 0            | \n",
       "| 21 | 9.893628e-01 | 4.175612e-03 | 0.0029229841 | 1            | 0            | 0            | \n",
       "| 133 | 1.152874e-04 | 2.739386e-04 | 0.9980408549 | 0            | 0            | 1            | \n",
       "| 97 | 3.840588e-03 | 9.992307e-01 | 0.0002741388 | 0            | 1            | 0            | \n",
       "| 146 | 2.010040e-03 | 3.142471e-06 | 0.9995172024 | 0            | 0            | 1            | \n",
       "| 38 | 9.560473e-01 | 5.169263e-02 | 0.0012776844 | 1            | 0            | 0            | \n",
       "\n",
       "\n"
      ],
      "text/plain": [
       "    X1           X2           X3           X1.1 X2.1 X3.1\n",
       "61  4.234361e-05 9.881172e-01 0.0316259079 0    1    0   \n",
       "21  9.893628e-01 4.175612e-03 0.0029229841 1    0    0   \n",
       "133 1.152874e-04 2.739386e-04 0.9980408549 0    0    1   \n",
       "97  3.840588e-03 9.992307e-01 0.0002741388 0    1    0   \n",
       "146 2.010040e-03 3.142471e-06 0.9995172024 0    0    1   \n",
       "38  9.560473e-01 5.169263e-02 0.0012776844 1    0    0   "
      ]
     },
     "metadata": {},
     "output_type": "display_data"
    },
    {
     "data": {
      "text/html": [
       "<table>\n",
       "<tbody>\n",
       "\t<tr><td>282</td><td>  0</td></tr>\n",
       "\t<tr><td>  0</td><td>141</td></tr>\n",
       "</tbody>\n",
       "</table>\n"
      ],
      "text/latex": [
       "\\begin{tabular}{ll}\n",
       "\t 282 &   0\\\\\n",
       "\t   0 & 141\\\\\n",
       "\\end{tabular}\n"
      ],
      "text/markdown": [
       "\n",
       "| 282 |   0 | \n",
       "|   0 | 141 | \n",
       "\n",
       "\n"
      ],
      "text/plain": [
       "     [,1] [,2]\n",
       "[1,] 282    0 \n",
       "[2,]   0  141 "
      ]
     },
     "metadata": {},
     "output_type": "display_data"
    },
    {
     "data": {
      "text/html": [
       "<table>\n",
       "<thead><tr><th></th><th scope=col>X1</th><th scope=col>X2</th><th scope=col>X3</th><th scope=col>X1.1</th><th scope=col>X2.1</th><th scope=col>X3.1</th></tr></thead>\n",
       "<tbody>\n",
       "\t<tr><th scope=row>7</th><td>0.9969739  </td><td>0.002185957</td><td>0.002238590</td><td>1          </td><td>0          </td><td>0          </td></tr>\n",
       "\t<tr><th scope=row>17</th><td>0.9952298  </td><td>0.001886797</td><td>0.003427362</td><td>1          </td><td>0          </td><td>0          </td></tr>\n",
       "\t<tr><th scope=row>22</th><td>0.9966394  </td><td>0.003794135</td><td>0.001591082</td><td>1          </td><td>0          </td><td>0          </td></tr>\n",
       "\t<tr><th scope=row>31</th><td>0.9955511  </td><td>0.001648691</td><td>0.003618806</td><td>1          </td><td>0          </td><td>0          </td></tr>\n",
       "\t<tr><th scope=row>35</th><td>0.9908155  </td><td>0.006645524</td><td>0.001964760</td><td>1          </td><td>0          </td><td>0          </td></tr>\n",
       "\t<tr><th scope=row>40</th><td>0.9942133  </td><td>0.005560274</td><td>0.001697617</td><td>1          </td><td>0          </td><td>0          </td></tr>\n",
       "</tbody>\n",
       "</table>\n"
      ],
      "text/latex": [
       "\\begin{tabular}{r|llllll}\n",
       "  & X1 & X2 & X3 & X1.1 & X2.1 & X3.1\\\\\n",
       "\\hline\n",
       "\t7 & 0.9969739   & 0.002185957 & 0.002238590 & 1           & 0           & 0          \\\\\n",
       "\t17 & 0.9952298   & 0.001886797 & 0.003427362 & 1           & 0           & 0          \\\\\n",
       "\t22 & 0.9966394   & 0.003794135 & 0.001591082 & 1           & 0           & 0          \\\\\n",
       "\t31 & 0.9955511   & 0.001648691 & 0.003618806 & 1           & 0           & 0          \\\\\n",
       "\t35 & 0.9908155   & 0.006645524 & 0.001964760 & 1           & 0           & 0          \\\\\n",
       "\t40 & 0.9942133   & 0.005560274 & 0.001697617 & 1           & 0           & 0          \\\\\n",
       "\\end{tabular}\n"
      ],
      "text/markdown": [
       "\n",
       "| <!--/--> | X1 | X2 | X3 | X1.1 | X2.1 | X3.1 | \n",
       "|---|---|---|---|---|---|\n",
       "| 7 | 0.9969739   | 0.002185957 | 0.002238590 | 1           | 0           | 0           | \n",
       "| 17 | 0.9952298   | 0.001886797 | 0.003427362 | 1           | 0           | 0           | \n",
       "| 22 | 0.9966394   | 0.003794135 | 0.001591082 | 1           | 0           | 0           | \n",
       "| 31 | 0.9955511   | 0.001648691 | 0.003618806 | 1           | 0           | 0           | \n",
       "| 35 | 0.9908155   | 0.006645524 | 0.001964760 | 1           | 0           | 0           | \n",
       "| 40 | 0.9942133   | 0.005560274 | 0.001697617 | 1           | 0           | 0           | \n",
       "\n",
       "\n"
      ],
      "text/plain": [
       "   X1        X2          X3          X1.1 X2.1 X3.1\n",
       "7  0.9969739 0.002185957 0.002238590 1    0    0   \n",
       "17 0.9952298 0.001886797 0.003427362 1    0    0   \n",
       "22 0.9966394 0.003794135 0.001591082 1    0    0   \n",
       "31 0.9955511 0.001648691 0.003618806 1    0    0   \n",
       "35 0.9908155 0.006645524 0.001964760 1    0    0   \n",
       "40 0.9942133 0.005560274 0.001697617 1    0    0   "
      ]
     },
     "metadata": {},
     "output_type": "display_data"
    },
    {
     "data": {
      "text/html": [
       "<table>\n",
       "<tbody>\n",
       "\t<tr><td>70</td><td> 2</td></tr>\n",
       "\t<tr><td> 2</td><td>34</td></tr>\n",
       "</tbody>\n",
       "</table>\n"
      ],
      "text/latex": [
       "\\begin{tabular}{ll}\n",
       "\t 70 &  2\\\\\n",
       "\t  2 & 34\\\\\n",
       "\\end{tabular}\n"
      ],
      "text/markdown": [
       "\n",
       "| 70 |  2 | \n",
       "|  2 | 34 | \n",
       "\n",
       "\n"
      ],
      "text/plain": [
       "     [,1] [,2]\n",
       "[1,] 70    2  \n",
       "[2,]  2   34  "
      ]
     },
     "metadata": {},
     "output_type": "display_data"
    }
   ],
   "source": [
    "myrsnns_mlp = class_mlp_RSNNS(wine_train_n$data, \"X1\")\n",
    "head(myrsnns_mlp$predictions)\n",
    "myrsnns_mlp$cmTrain\n",
    "test <- class_test(myrsnns_mlp$model, wine_test_n$data, \"X1\", predtype = myrsnns_mlp$predtype)\n",
    "head(test$predictions)\n",
    "test$cmTest"
   ]
  },
  {
   "cell_type": "markdown",
   "metadata": {},
   "source": [
    "### RBF Neural Network"
   ]
  },
  {
   "cell_type": "code",
   "execution_count": 21,
   "metadata": {},
   "outputs": [
    {
     "data": {
      "text/html": [
       "<table>\n",
       "<thead><tr><th></th><th scope=col>X1</th><th scope=col>X2</th><th scope=col>X3</th><th scope=col>X1.1</th><th scope=col>X2.1</th><th scope=col>X3.1</th></tr></thead>\n",
       "<tbody>\n",
       "\t<tr><th scope=row>61</th><td> 1.426575</td><td>1.808441 </td><td>1.8671875</td><td>0        </td><td>1        </td><td>0        </td></tr>\n",
       "\t<tr><th scope=row>21</th><td> 2.793884</td><td>1.269379 </td><td>0.8978882</td><td>1        </td><td>0        </td><td>0        </td></tr>\n",
       "\t<tr><th scope=row>133</th><td> 1.433655</td><td>1.475037 </td><td>2.1138458</td><td>0        </td><td>0        </td><td>1        </td></tr>\n",
       "\t<tr><th scope=row>97</th><td> 1.916016</td><td>2.140503 </td><td>0.9703979</td><td>0        </td><td>1        </td><td>0        </td></tr>\n",
       "\t<tr><th scope=row>146</th><td>-1.082825</td><td>2.517990 </td><td>3.5754395</td><td>0        </td><td>0        </td><td>1        </td></tr>\n",
       "\t<tr><th scope=row>38</th><td> 2.965118</td><td>1.235214 </td><td>0.8477325</td><td>1        </td><td>0        </td><td>0        </td></tr>\n",
       "</tbody>\n",
       "</table>\n"
      ],
      "text/latex": [
       "\\begin{tabular}{r|llllll}\n",
       "  & X1 & X2 & X3 & X1.1 & X2.1 & X3.1\\\\\n",
       "\\hline\n",
       "\t61 &  1.426575 & 1.808441  & 1.8671875 & 0         & 1         & 0        \\\\\n",
       "\t21 &  2.793884 & 1.269379  & 0.8978882 & 1         & 0         & 0        \\\\\n",
       "\t133 &  1.433655 & 1.475037  & 2.1138458 & 0         & 0         & 1        \\\\\n",
       "\t97 &  1.916016 & 2.140503  & 0.9703979 & 0         & 1         & 0        \\\\\n",
       "\t146 & -1.082825 & 2.517990  & 3.5754395 & 0         & 0         & 1        \\\\\n",
       "\t38 &  2.965118 & 1.235214  & 0.8477325 & 1         & 0         & 0        \\\\\n",
       "\\end{tabular}\n"
      ],
      "text/markdown": [
       "\n",
       "| <!--/--> | X1 | X2 | X3 | X1.1 | X2.1 | X3.1 | \n",
       "|---|---|---|---|---|---|\n",
       "| 61 |  1.426575 | 1.808441  | 1.8671875 | 0         | 1         | 0         | \n",
       "| 21 |  2.793884 | 1.269379  | 0.8978882 | 1         | 0         | 0         | \n",
       "| 133 |  1.433655 | 1.475037  | 2.1138458 | 0         | 0         | 1         | \n",
       "| 97 |  1.916016 | 2.140503  | 0.9703979 | 0         | 1         | 0         | \n",
       "| 146 | -1.082825 | 2.517990  | 3.5754395 | 0         | 0         | 1         | \n",
       "| 38 |  2.965118 | 1.235214  | 0.8477325 | 1         | 0         | 0         | \n",
       "\n",
       "\n"
      ],
      "text/plain": [
       "    X1        X2       X3        X1.1 X2.1 X3.1\n",
       "61   1.426575 1.808441 1.8671875 0    1    0   \n",
       "21   2.793884 1.269379 0.8978882 1    0    0   \n",
       "133  1.433655 1.475037 2.1138458 0    0    1   \n",
       "97   1.916016 2.140503 0.9703979 0    1    0   \n",
       "146 -1.082825 2.517990 3.5754395 0    0    1   \n",
       "38   2.965118 1.235214 0.8477325 1    0    0   "
      ]
     },
     "metadata": {},
     "output_type": "display_data"
    },
    {
     "data": {
      "text/html": [
       "<table>\n",
       "<tbody>\n",
       "\t<tr><td> 11</td><td>  0</td></tr>\n",
       "\t<tr><td>271</td><td>141</td></tr>\n",
       "</tbody>\n",
       "</table>\n"
      ],
      "text/latex": [
       "\\begin{tabular}{ll}\n",
       "\t  11 &   0\\\\\n",
       "\t 271 & 141\\\\\n",
       "\\end{tabular}\n"
      ],
      "text/markdown": [
       "\n",
       "|  11 |   0 | \n",
       "| 271 | 141 | \n",
       "\n",
       "\n"
      ],
      "text/plain": [
       "     [,1] [,2]\n",
       "[1,]  11    0 \n",
       "[2,] 271  141 "
      ]
     },
     "metadata": {},
     "output_type": "display_data"
    },
    {
     "data": {
      "text/html": [
       "<table>\n",
       "<thead><tr><th></th><th scope=col>X1</th><th scope=col>X2</th><th scope=col>X3</th><th scope=col>X1.1</th><th scope=col>X2.1</th><th scope=col>X3.1</th></tr></thead>\n",
       "<tbody>\n",
       "\t<tr><th scope=row>7</th><td>1.934967 </td><td>1.461365 </td><td>1.6593628</td><td>1        </td><td>0        </td><td>0        </td></tr>\n",
       "\t<tr><th scope=row>17</th><td>3.445068 </td><td>0.692215 </td><td>0.9113159</td><td>1        </td><td>0        </td><td>0        </td></tr>\n",
       "\t<tr><th scope=row>22</th><td>1.519104 </td><td>2.019058 </td><td>1.4886780</td><td>1        </td><td>0        </td><td>0        </td></tr>\n",
       "\t<tr><th scope=row>31</th><td>2.722046 </td><td>1.037201 </td><td>1.2508545</td><td>1        </td><td>0        </td><td>0        </td></tr>\n",
       "\t<tr><th scope=row>35</th><td>2.860779 </td><td>1.229004 </td><td>0.9251251</td><td>1        </td><td>0        </td><td>0        </td></tr>\n",
       "\t<tr><th scope=row>40</th><td>2.834900 </td><td>1.229126 </td><td>0.9572144</td><td>1        </td><td>0        </td><td>0        </td></tr>\n",
       "</tbody>\n",
       "</table>\n"
      ],
      "text/latex": [
       "\\begin{tabular}{r|llllll}\n",
       "  & X1 & X2 & X3 & X1.1 & X2.1 & X3.1\\\\\n",
       "\\hline\n",
       "\t7 & 1.934967  & 1.461365  & 1.6593628 & 1         & 0         & 0        \\\\\n",
       "\t17 & 3.445068  & 0.692215  & 0.9113159 & 1         & 0         & 0        \\\\\n",
       "\t22 & 1.519104  & 2.019058  & 1.4886780 & 1         & 0         & 0        \\\\\n",
       "\t31 & 2.722046  & 1.037201  & 1.2508545 & 1         & 0         & 0        \\\\\n",
       "\t35 & 2.860779  & 1.229004  & 0.9251251 & 1         & 0         & 0        \\\\\n",
       "\t40 & 2.834900  & 1.229126  & 0.9572144 & 1         & 0         & 0        \\\\\n",
       "\\end{tabular}\n"
      ],
      "text/markdown": [
       "\n",
       "| <!--/--> | X1 | X2 | X3 | X1.1 | X2.1 | X3.1 | \n",
       "|---|---|---|---|---|---|\n",
       "| 7 | 1.934967  | 1.461365  | 1.6593628 | 1         | 0         | 0         | \n",
       "| 17 | 3.445068  | 0.692215  | 0.9113159 | 1         | 0         | 0         | \n",
       "| 22 | 1.519104  | 2.019058  | 1.4886780 | 1         | 0         | 0         | \n",
       "| 31 | 2.722046  | 1.037201  | 1.2508545 | 1         | 0         | 0         | \n",
       "| 35 | 2.860779  | 1.229004  | 0.9251251 | 1         | 0         | 0         | \n",
       "| 40 | 2.834900  | 1.229126  | 0.9572144 | 1         | 0         | 0         | \n",
       "\n",
       "\n"
      ],
      "text/plain": [
       "   X1       X2       X3        X1.1 X2.1 X3.1\n",
       "7  1.934967 1.461365 1.6593628 1    0    0   \n",
       "17 3.445068 0.692215 0.9113159 1    0    0   \n",
       "22 1.519104 2.019058 1.4886780 1    0    0   \n",
       "31 2.722046 1.037201 1.2508545 1    0    0   \n",
       "35 2.860779 1.229004 0.9251251 1    0    0   \n",
       "40 2.834900 1.229126 0.9572144 1    0    0   "
      ]
     },
     "metadata": {},
     "output_type": "display_data"
    },
    {
     "data": {
      "text/html": [
       "<table>\n",
       "<tbody>\n",
       "\t<tr><td> 2</td><td> 0</td></tr>\n",
       "\t<tr><td>70</td><td>36</td></tr>\n",
       "</tbody>\n",
       "</table>\n"
      ],
      "text/latex": [
       "\\begin{tabular}{ll}\n",
       "\t  2 &  0\\\\\n",
       "\t 70 & 36\\\\\n",
       "\\end{tabular}\n"
      ],
      "text/markdown": [
       "\n",
       "|  2 |  0 | \n",
       "| 70 | 36 | \n",
       "\n",
       "\n"
      ],
      "text/plain": [
       "     [,1] [,2]\n",
       "[1,]  2    0  \n",
       "[2,] 70   36  "
      ]
     },
     "metadata": {},
     "output_type": "display_data"
    }
   ],
   "source": [
    "myrsnns_rbf = class_rbf_RSNNS(wine_train_n$data, \"X1\")\n",
    "head(myrsnns_rbf$predictions)\n",
    "myrsnns_rbf$cmTrain\n",
    "test <- class_test(myrsnns_rbf$model, wine_test_n$data, \"X1\", predtype = myrsnns_rbf$predtype)\n",
    "head(test$predictions)\n",
    "test$cmTest\n"
   ]
  },
  {
   "cell_type": "markdown",
   "metadata": {},
   "source": [
    "## Naive Bayes"
   ]
  },
  {
   "cell_type": "code",
   "execution_count": 22,
   "metadata": {},
   "outputs": [
    {
     "data": {
      "text/html": [
       "<table>\n",
       "<thead><tr><th scope=col>X1</th><th scope=col>X2</th><th scope=col>X3</th><th scope=col>X1.1</th><th scope=col>X2.1</th><th scope=col>X3.1</th></tr></thead>\n",
       "<tbody>\n",
       "\t<tr><td>2.219216e-11</td><td>5.615794e-01</td><td>4.384206e-01</td><td>0           </td><td>1           </td><td>0           </td></tr>\n",
       "\t<tr><td>9.654823e-01</td><td>3.451769e-02</td><td>3.218011e-19</td><td>1           </td><td>0           </td><td>0           </td></tr>\n",
       "\t<tr><td>6.158664e-17</td><td>1.290722e-05</td><td>9.999871e-01</td><td>0           </td><td>0           </td><td>1           </td></tr>\n",
       "\t<tr><td>5.301774e-06</td><td>9.999947e-01</td><td>1.262515e-21</td><td>0           </td><td>1           </td><td>0           </td></tr>\n",
       "\t<tr><td>1.827374e-28</td><td>2.767770e-09</td><td>1.000000e+00</td><td>0           </td><td>0           </td><td>1           </td></tr>\n",
       "\t<tr><td>9.869690e-01</td><td>1.303098e-02</td><td>1.070926e-20</td><td>1           </td><td>0           </td><td>0           </td></tr>\n",
       "</tbody>\n",
       "</table>\n"
      ],
      "text/latex": [
       "\\begin{tabular}{r|llllll}\n",
       " X1 & X2 & X3 & X1.1 & X2.1 & X3.1\\\\\n",
       "\\hline\n",
       "\t 2.219216e-11 & 5.615794e-01 & 4.384206e-01 & 0            & 1            & 0           \\\\\n",
       "\t 9.654823e-01 & 3.451769e-02 & 3.218011e-19 & 1            & 0            & 0           \\\\\n",
       "\t 6.158664e-17 & 1.290722e-05 & 9.999871e-01 & 0            & 0            & 1           \\\\\n",
       "\t 5.301774e-06 & 9.999947e-01 & 1.262515e-21 & 0            & 1            & 0           \\\\\n",
       "\t 1.827374e-28 & 2.767770e-09 & 1.000000e+00 & 0            & 0            & 1           \\\\\n",
       "\t 9.869690e-01 & 1.303098e-02 & 1.070926e-20 & 1            & 0            & 0           \\\\\n",
       "\\end{tabular}\n"
      ],
      "text/markdown": [
       "\n",
       "X1 | X2 | X3 | X1.1 | X2.1 | X3.1 | \n",
       "|---|---|---|---|---|---|\n",
       "| 2.219216e-11 | 5.615794e-01 | 4.384206e-01 | 0            | 1            | 0            | \n",
       "| 9.654823e-01 | 3.451769e-02 | 3.218011e-19 | 1            | 0            | 0            | \n",
       "| 6.158664e-17 | 1.290722e-05 | 9.999871e-01 | 0            | 0            | 1            | \n",
       "| 5.301774e-06 | 9.999947e-01 | 1.262515e-21 | 0            | 1            | 0            | \n",
       "| 1.827374e-28 | 2.767770e-09 | 1.000000e+00 | 0            | 0            | 1            | \n",
       "| 9.869690e-01 | 1.303098e-02 | 1.070926e-20 | 1            | 0            | 0            | \n",
       "\n",
       "\n"
      ],
      "text/plain": [
       "  X1           X2           X3           X1.1 X2.1 X3.1\n",
       "1 2.219216e-11 5.615794e-01 4.384206e-01 0    1    0   \n",
       "2 9.654823e-01 3.451769e-02 3.218011e-19 1    0    0   \n",
       "3 6.158664e-17 1.290722e-05 9.999871e-01 0    0    1   \n",
       "4 5.301774e-06 9.999947e-01 1.262515e-21 0    1    0   \n",
       "5 1.827374e-28 2.767770e-09 1.000000e+00 0    0    1   \n",
       "6 9.869690e-01 1.303098e-02 1.070926e-20 1    0    0   "
      ]
     },
     "metadata": {},
     "output_type": "display_data"
    },
    {
     "data": {
      "text/html": [
       "<table>\n",
       "<tbody>\n",
       "\t<tr><td>281</td><td>  1</td></tr>\n",
       "\t<tr><td>  1</td><td>140</td></tr>\n",
       "</tbody>\n",
       "</table>\n"
      ],
      "text/latex": [
       "\\begin{tabular}{ll}\n",
       "\t 281 &   1\\\\\n",
       "\t   1 & 140\\\\\n",
       "\\end{tabular}\n"
      ],
      "text/markdown": [
       "\n",
       "| 281 |   1 | \n",
       "|   1 | 140 | \n",
       "\n",
       "\n"
      ],
      "text/plain": [
       "     [,1] [,2]\n",
       "[1,] 281    1 \n",
       "[2,]   1  140 "
      ]
     },
     "metadata": {},
     "output_type": "display_data"
    },
    {
     "data": {
      "text/html": [
       "<table>\n",
       "<thead><tr><th scope=col>X1</th><th scope=col>X2</th><th scope=col>X3</th><th scope=col>X1.1</th><th scope=col>X2.1</th><th scope=col>X3.1</th></tr></thead>\n",
       "<tbody>\n",
       "\t<tr><td>1.0000000   </td><td>5.556842e-10</td><td>1.435790e-30</td><td>1           </td><td>0           </td><td>0           </td></tr>\n",
       "\t<tr><td>1.0000000   </td><td>2.654804e-09</td><td>3.226162e-30</td><td>1           </td><td>0           </td><td>0           </td></tr>\n",
       "\t<tr><td>0.9999925   </td><td>7.460315e-06</td><td>3.498122e-35</td><td>1           </td><td>0           </td><td>0           </td></tr>\n",
       "\t<tr><td>1.0000000   </td><td>1.766856e-14</td><td>5.645836e-38</td><td>1           </td><td>0           </td><td>0           </td></tr>\n",
       "\t<tr><td>0.9999860   </td><td>1.402948e-05</td><td>3.909034e-28</td><td>1           </td><td>0           </td><td>0           </td></tr>\n",
       "\t<tr><td>0.9999988   </td><td>1.153566e-06</td><td>1.857600e-32</td><td>1           </td><td>0           </td><td>0           </td></tr>\n",
       "</tbody>\n",
       "</table>\n"
      ],
      "text/latex": [
       "\\begin{tabular}{r|llllll}\n",
       " X1 & X2 & X3 & X1.1 & X2.1 & X3.1\\\\\n",
       "\\hline\n",
       "\t 1.0000000    & 5.556842e-10 & 1.435790e-30 & 1            & 0            & 0           \\\\\n",
       "\t 1.0000000    & 2.654804e-09 & 3.226162e-30 & 1            & 0            & 0           \\\\\n",
       "\t 0.9999925    & 7.460315e-06 & 3.498122e-35 & 1            & 0            & 0           \\\\\n",
       "\t 1.0000000    & 1.766856e-14 & 5.645836e-38 & 1            & 0            & 0           \\\\\n",
       "\t 0.9999860    & 1.402948e-05 & 3.909034e-28 & 1            & 0            & 0           \\\\\n",
       "\t 0.9999988    & 1.153566e-06 & 1.857600e-32 & 1            & 0            & 0           \\\\\n",
       "\\end{tabular}\n"
      ],
      "text/markdown": [
       "\n",
       "X1 | X2 | X3 | X1.1 | X2.1 | X3.1 | \n",
       "|---|---|---|---|---|---|\n",
       "| 1.0000000    | 5.556842e-10 | 1.435790e-30 | 1            | 0            | 0            | \n",
       "| 1.0000000    | 2.654804e-09 | 3.226162e-30 | 1            | 0            | 0            | \n",
       "| 0.9999925    | 7.460315e-06 | 3.498122e-35 | 1            | 0            | 0            | \n",
       "| 1.0000000    | 1.766856e-14 | 5.645836e-38 | 1            | 0            | 0            | \n",
       "| 0.9999860    | 1.402948e-05 | 3.909034e-28 | 1            | 0            | 0            | \n",
       "| 0.9999988    | 1.153566e-06 | 1.857600e-32 | 1            | 0            | 0            | \n",
       "\n",
       "\n"
      ],
      "text/plain": [
       "  X1        X2           X3           X1.1 X2.1 X3.1\n",
       "1 1.0000000 5.556842e-10 1.435790e-30 1    0    0   \n",
       "2 1.0000000 2.654804e-09 3.226162e-30 1    0    0   \n",
       "3 0.9999925 7.460315e-06 3.498122e-35 1    0    0   \n",
       "4 1.0000000 1.766856e-14 5.645836e-38 1    0    0   \n",
       "5 0.9999860 1.402948e-05 3.909034e-28 1    0    0   \n",
       "6 0.9999988 1.153566e-06 1.857600e-32 1    0    0   "
      ]
     },
     "metadata": {},
     "output_type": "display_data"
    },
    {
     "data": {
      "text/html": [
       "<table>\n",
       "<tbody>\n",
       "\t<tr><td>70</td><td> 2</td></tr>\n",
       "\t<tr><td> 2</td><td>34</td></tr>\n",
       "</tbody>\n",
       "</table>\n"
      ],
      "text/latex": [
       "\\begin{tabular}{ll}\n",
       "\t 70 &  2\\\\\n",
       "\t  2 & 34\\\\\n",
       "\\end{tabular}\n"
      ],
      "text/markdown": [
       "\n",
       "| 70 |  2 | \n",
       "|  2 | 34 | \n",
       "\n",
       "\n"
      ],
      "text/plain": [
       "     [,1] [,2]\n",
       "[1,] 70    2  \n",
       "[2,]  2   34  "
      ]
     },
     "metadata": {},
     "output_type": "display_data"
    }
   ],
   "source": [
    "mynb = class_naiveBayes(wine_train, \"X1\")\n",
    "head(mynb$predictions)\n",
    "mynb$cmTrain\n",
    "test <- class_test(mynb$model, wine_test, \"X1\", predtype = mynb$predtype)\n",
    "head(test$predictions)\n",
    "test$cmTest\n",
    "\n"
   ]
  },
  {
   "cell_type": "markdown",
   "metadata": {},
   "source": [
    "## Random Forest"
   ]
  },
  {
   "cell_type": "code",
   "execution_count": 22,
   "metadata": {},
   "outputs": [
    {
     "data": {
      "text/html": [
       "<table>\n",
       "<thead><tr><th scope=col>X1</th><th scope=col>X2</th><th scope=col>X3</th><th scope=col>X1.1</th><th scope=col>X2.1</th><th scope=col>X3.1</th></tr></thead>\n",
       "<tbody>\n",
       "\t<tr><td>2.219216e-11</td><td>5.615794e-01</td><td>4.384206e-01</td><td>0           </td><td>1           </td><td>0           </td></tr>\n",
       "\t<tr><td>9.654823e-01</td><td>3.451769e-02</td><td>3.218011e-19</td><td>1           </td><td>0           </td><td>0           </td></tr>\n",
       "\t<tr><td>6.158664e-17</td><td>1.290722e-05</td><td>9.999871e-01</td><td>0           </td><td>0           </td><td>1           </td></tr>\n",
       "\t<tr><td>5.301774e-06</td><td>9.999947e-01</td><td>1.262515e-21</td><td>0           </td><td>1           </td><td>0           </td></tr>\n",
       "\t<tr><td>1.827374e-28</td><td>2.767770e-09</td><td>1.000000e+00</td><td>0           </td><td>0           </td><td>1           </td></tr>\n",
       "\t<tr><td>9.869690e-01</td><td>1.303098e-02</td><td>1.070926e-20</td><td>1           </td><td>0           </td><td>0           </td></tr>\n",
       "</tbody>\n",
       "</table>\n"
      ],
      "text/latex": [
       "\\begin{tabular}{r|llllll}\n",
       " X1 & X2 & X3 & X1.1 & X2.1 & X3.1\\\\\n",
       "\\hline\n",
       "\t 2.219216e-11 & 5.615794e-01 & 4.384206e-01 & 0            & 1            & 0           \\\\\n",
       "\t 9.654823e-01 & 3.451769e-02 & 3.218011e-19 & 1            & 0            & 0           \\\\\n",
       "\t 6.158664e-17 & 1.290722e-05 & 9.999871e-01 & 0            & 0            & 1           \\\\\n",
       "\t 5.301774e-06 & 9.999947e-01 & 1.262515e-21 & 0            & 1            & 0           \\\\\n",
       "\t 1.827374e-28 & 2.767770e-09 & 1.000000e+00 & 0            & 0            & 1           \\\\\n",
       "\t 9.869690e-01 & 1.303098e-02 & 1.070926e-20 & 1            & 0            & 0           \\\\\n",
       "\\end{tabular}\n"
      ],
      "text/markdown": [
       "\n",
       "X1 | X2 | X3 | X1.1 | X2.1 | X3.1 | \n",
       "|---|---|---|---|---|---|\n",
       "| 2.219216e-11 | 5.615794e-01 | 4.384206e-01 | 0            | 1            | 0            | \n",
       "| 9.654823e-01 | 3.451769e-02 | 3.218011e-19 | 1            | 0            | 0            | \n",
       "| 6.158664e-17 | 1.290722e-05 | 9.999871e-01 | 0            | 0            | 1            | \n",
       "| 5.301774e-06 | 9.999947e-01 | 1.262515e-21 | 0            | 1            | 0            | \n",
       "| 1.827374e-28 | 2.767770e-09 | 1.000000e+00 | 0            | 0            | 1            | \n",
       "| 9.869690e-01 | 1.303098e-02 | 1.070926e-20 | 1            | 0            | 0            | \n",
       "\n",
       "\n"
      ],
      "text/plain": [
       "  X1           X2           X3           X1.1 X2.1 X3.1\n",
       "1 2.219216e-11 5.615794e-01 4.384206e-01 0    1    0   \n",
       "2 9.654823e-01 3.451769e-02 3.218011e-19 1    0    0   \n",
       "3 6.158664e-17 1.290722e-05 9.999871e-01 0    0    1   \n",
       "4 5.301774e-06 9.999947e-01 1.262515e-21 0    1    0   \n",
       "5 1.827374e-28 2.767770e-09 1.000000e+00 0    0    1   \n",
       "6 9.869690e-01 1.303098e-02 1.070926e-20 1    0    0   "
      ]
     },
     "metadata": {},
     "output_type": "display_data"
    },
    {
     "data": {
      "text/html": [
       "<table>\n",
       "<tbody>\n",
       "\t<tr><td>281</td><td>  1</td></tr>\n",
       "\t<tr><td>  1</td><td>140</td></tr>\n",
       "</tbody>\n",
       "</table>\n"
      ],
      "text/latex": [
       "\\begin{tabular}{ll}\n",
       "\t 281 &   1\\\\\n",
       "\t   1 & 140\\\\\n",
       "\\end{tabular}\n"
      ],
      "text/markdown": [
       "\n",
       "| 281 |   1 | \n",
       "|   1 | 140 | \n",
       "\n",
       "\n"
      ],
      "text/plain": [
       "     [,1] [,2]\n",
       "[1,] 281    1 \n",
       "[2,]   1  140 "
      ]
     },
     "metadata": {},
     "output_type": "display_data"
    },
    {
     "data": {
      "text/html": [
       "<table>\n",
       "<thead><tr><th scope=col>X1</th><th scope=col>X2</th><th scope=col>X3</th><th scope=col>X1.1</th><th scope=col>X2.1</th><th scope=col>X3.1</th></tr></thead>\n",
       "<tbody>\n",
       "\t<tr><td>1.0000000   </td><td>5.556842e-10</td><td>1.435790e-30</td><td>1           </td><td>0           </td><td>0           </td></tr>\n",
       "\t<tr><td>1.0000000   </td><td>2.654804e-09</td><td>3.226162e-30</td><td>1           </td><td>0           </td><td>0           </td></tr>\n",
       "\t<tr><td>0.9999925   </td><td>7.460315e-06</td><td>3.498122e-35</td><td>1           </td><td>0           </td><td>0           </td></tr>\n",
       "\t<tr><td>1.0000000   </td><td>1.766856e-14</td><td>5.645836e-38</td><td>1           </td><td>0           </td><td>0           </td></tr>\n",
       "\t<tr><td>0.9999860   </td><td>1.402948e-05</td><td>3.909034e-28</td><td>1           </td><td>0           </td><td>0           </td></tr>\n",
       "\t<tr><td>0.9999988   </td><td>1.153566e-06</td><td>1.857600e-32</td><td>1           </td><td>0           </td><td>0           </td></tr>\n",
       "</tbody>\n",
       "</table>\n"
      ],
      "text/latex": [
       "\\begin{tabular}{r|llllll}\n",
       " X1 & X2 & X3 & X1.1 & X2.1 & X3.1\\\\\n",
       "\\hline\n",
       "\t 1.0000000    & 5.556842e-10 & 1.435790e-30 & 1            & 0            & 0           \\\\\n",
       "\t 1.0000000    & 2.654804e-09 & 3.226162e-30 & 1            & 0            & 0           \\\\\n",
       "\t 0.9999925    & 7.460315e-06 & 3.498122e-35 & 1            & 0            & 0           \\\\\n",
       "\t 1.0000000    & 1.766856e-14 & 5.645836e-38 & 1            & 0            & 0           \\\\\n",
       "\t 0.9999860    & 1.402948e-05 & 3.909034e-28 & 1            & 0            & 0           \\\\\n",
       "\t 0.9999988    & 1.153566e-06 & 1.857600e-32 & 1            & 0            & 0           \\\\\n",
       "\\end{tabular}\n"
      ],
      "text/markdown": [
       "\n",
       "X1 | X2 | X3 | X1.1 | X2.1 | X3.1 | \n",
       "|---|---|---|---|---|---|\n",
       "| 1.0000000    | 5.556842e-10 | 1.435790e-30 | 1            | 0            | 0            | \n",
       "| 1.0000000    | 2.654804e-09 | 3.226162e-30 | 1            | 0            | 0            | \n",
       "| 0.9999925    | 7.460315e-06 | 3.498122e-35 | 1            | 0            | 0            | \n",
       "| 1.0000000    | 1.766856e-14 | 5.645836e-38 | 1            | 0            | 0            | \n",
       "| 0.9999860    | 1.402948e-05 | 3.909034e-28 | 1            | 0            | 0            | \n",
       "| 0.9999988    | 1.153566e-06 | 1.857600e-32 | 1            | 0            | 0            | \n",
       "\n",
       "\n"
      ],
      "text/plain": [
       "  X1        X2           X3           X1.1 X2.1 X3.1\n",
       "1 1.0000000 5.556842e-10 1.435790e-30 1    0    0   \n",
       "2 1.0000000 2.654804e-09 3.226162e-30 1    0    0   \n",
       "3 0.9999925 7.460315e-06 3.498122e-35 1    0    0   \n",
       "4 1.0000000 1.766856e-14 5.645836e-38 1    0    0   \n",
       "5 0.9999860 1.402948e-05 3.909034e-28 1    0    0   \n",
       "6 0.9999988 1.153566e-06 1.857600e-32 1    0    0   "
      ]
     },
     "metadata": {},
     "output_type": "display_data"
    },
    {
     "data": {
      "text/html": [
       "<table>\n",
       "<tbody>\n",
       "\t<tr><td>70</td><td> 2</td></tr>\n",
       "\t<tr><td> 2</td><td>34</td></tr>\n",
       "</tbody>\n",
       "</table>\n"
      ],
      "text/latex": [
       "\\begin{tabular}{ll}\n",
       "\t 70 &  2\\\\\n",
       "\t  2 & 34\\\\\n",
       "\\end{tabular}\n"
      ],
      "text/markdown": [
       "\n",
       "| 70 |  2 | \n",
       "|  2 | 34 | \n",
       "\n",
       "\n"
      ],
      "text/plain": [
       "     [,1] [,2]\n",
       "[1,] 70    2  \n",
       "[2,]  2   34  "
      ]
     },
     "metadata": {},
     "output_type": "display_data"
    }
   ],
   "source": [
    "myrf = class_randomForest(wine_train, \"X1\")\n",
    "head(myrf$predictions)\n",
    "myrf$cmTrain\n",
    "test <- class_test(myrf$model, wine_test, \"X1\", predtype = myrf$predtype)\n",
    "head(test$predictions)\n",
    "test$cmTest\n",
    "\n",
    "\n"
   ]
  },
  {
   "cell_type": "markdown",
   "metadata": {},
   "source": [
    "## knn prediction"
   ]
  },
  {
   "cell_type": "code",
   "execution_count": 27,
   "metadata": {},
   "outputs": [
    {
     "data": {
      "text/html": [
       "<table>\n",
       "<tbody>\n",
       "\t<tr><td>67</td><td> 5</td></tr>\n",
       "\t<tr><td> 5</td><td>31</td></tr>\n",
       "</tbody>\n",
       "</table>\n"
      ],
      "text/latex": [
       "\\begin{tabular}{ll}\n",
       "\t 67 &  5\\\\\n",
       "\t  5 & 31\\\\\n",
       "\\end{tabular}\n"
      ],
      "text/markdown": [
       "\n",
       "| 67 |  5 | \n",
       "|  5 | 31 | \n",
       "\n",
       "\n"
      ],
      "text/plain": [
       "     [,1] [,2]\n",
       "[1,] 67    5  \n",
       "[2,]  5   31  "
      ]
     },
     "metadata": {},
     "output_type": "display_data"
    }
   ],
   "source": [
    "myknn = knn_predict(wine_train, wine_test, \"X1\", k=3)\n",
    "myknn$cmTest"
   ]
  },
  {
   "cell_type": "markdown",
   "metadata": {},
   "source": [
    "## R0 baseline prediction"
   ]
  },
  {
   "cell_type": "code",
   "execution_count": 28,
   "metadata": {},
   "outputs": [
    {
     "data": {
      "text/html": [
       "<table>\n",
       "<tbody>\n",
       "\t<tr><td>54</td><td>18</td></tr>\n",
       "\t<tr><td>18</td><td>18</td></tr>\n",
       "</tbody>\n",
       "</table>\n"
      ],
      "text/latex": [
       "\\begin{tabular}{ll}\n",
       "\t 54 & 18\\\\\n",
       "\t 18 & 18\\\\\n",
       "\\end{tabular}\n"
      ],
      "text/markdown": [
       "\n",
       "| 54 | 18 | \n",
       "| 18 | 18 | \n",
       "\n",
       "\n"
      ],
      "text/plain": [
       "     [,1] [,2]\n",
       "[1,] 54   18  \n",
       "[2,] 18   18  "
      ]
     },
     "metadata": {},
     "output_type": "display_data"
    }
   ],
   "source": [
    "myr0 = R0_predict(wine_train, wine_test, \"X1\")\n",
    "myr0$cmTest\n",
    "\n"
   ]
  },
  {
   "cell_type": "markdown",
   "metadata": {},
   "source": [
    "# Measuring the quality of predictions"
   ]
  },
  {
   "cell_type": "code",
   "execution_count": 31,
   "metadata": {},
   "outputs": [
    {
     "data": {
      "image/png": "[encoded data removed]",
      "text/plain": [
       "plot without title"
      ]
     },
     "metadata": {},
     "output_type": "display_data"
    }
   ],
   "source": [
    "my.pred <- mynnet$predictions$X1\n",
    "my.pred.class <- as.integer(mynnet$predictions$X1 > mynnet$predictions$X2 & mynnet$predictions$X1 > mynnet$predictions$X3)\n",
    "my.true <- mynnet$predictions$X1.1\n",
    "\n",
    "my.acc <- Accuracy(y_pred = my.pred.class, y_true = my.true)\n",
    "my.f1 <- F1_Score(y_pred = my.pred.class, y_true = my.true, positive = \"1\")\n",
    "my.sens <- Sensitivity(y_pred = my.pred.class, y_true = my.true, positive = \"1\")\n",
    "my.spec <- Specificity(y_pred = my.pred.class, y_true = my.true, positive = \"1\")\n",
    "my.prec <- Precision(y_pred = my.pred.class, y_true = my.true, positive = \"1\")\n",
    "my.rec <- Recall(y_pred = my.pred.class, y_true = my.true, positive = \"1\")\n",
    "\n",
    "my.roc.pred <- prediction(my.pred, my.true)\n",
    "my.roc.perf <- performance(my.roc.pred, \"tpr\", \"fpr\")\n",
    "options(repr.plot.width=4, repr.plot.height=4)\n",
    "plot(my.roc.perf)\n",
    "my.auc <- performance(my.roc.pred, \"auc\")@y.values[[1]]\n"
   ]
  },
  {
   "cell_type": "code",
   "execution_count": null,
   "metadata": {
    "collapsed": true
   },
   "outputs": [],
   "source": []
  }
 ],
 "metadata": {
  "kernelspec": {
   "display_name": "R",
   "language": "R",
   "name": "ir"
  },
  "language_info": {
   "codemirror_mode": "r",
   "file_extension": ".r",
   "mimetype": "text/x-r-source",
   "name": "R",
   "pygments_lexer": "r",
   "version": "3.5.1"
  }
 },
 "nbformat": 4,
 "nbformat_minor": 2
}
