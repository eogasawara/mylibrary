{
 "cells": [
  {
   "cell_type": "markdown",
   "metadata": {},
   "source": [
    "# Prediction\n",
    "## Libraries and Datasets\n"
   ]
  },
  {
   "cell_type": "code",
   "execution_count": 135,
   "metadata": {},
   "outputs": [],
   "source": [
    "source(\"https://raw.githubusercontent.com/eogasawara/mylibrary/master/myPreprocessing.R\")\n",
    "source(\"https://raw.githubusercontent.com/eogasawara/mylibrary/master/myPrediction.R\")"
   ]
  },
  {
   "cell_type": "code",
   "execution_count": 136,
   "metadata": {},
   "outputs": [
    {
     "data": {
      "text/html": [
       "<table>\n",
       "<caption>A data.frame: 6 × 5</caption>\n",
       "<thead>\n",
       "\t<tr><th scope=col>Sepal.Length</th><th scope=col>Sepal.Width</th><th scope=col>Petal.Length</th><th scope=col>Petal.Width</th><th scope=col>Species</th></tr>\n",
       "\t<tr><th scope=col>&lt;dbl&gt;</th><th scope=col>&lt;dbl&gt;</th><th scope=col>&lt;dbl&gt;</th><th scope=col>&lt;dbl&gt;</th><th scope=col>&lt;fct&gt;</th></tr>\n",
       "</thead>\n",
       "<tbody>\n",
       "\t<tr><td>5.1</td><td>3.5</td><td>1.4</td><td>0.2</td><td>setosa</td></tr>\n",
       "\t<tr><td>4.9</td><td>3.0</td><td>1.4</td><td>0.2</td><td>setosa</td></tr>\n",
       "\t<tr><td>4.7</td><td>3.2</td><td>1.3</td><td>0.2</td><td>setosa</td></tr>\n",
       "\t<tr><td>4.6</td><td>3.1</td><td>1.5</td><td>0.2</td><td>setosa</td></tr>\n",
       "\t<tr><td>5.0</td><td>3.6</td><td>1.4</td><td>0.2</td><td>setosa</td></tr>\n",
       "\t<tr><td>5.4</td><td>3.9</td><td>1.7</td><td>0.4</td><td>setosa</td></tr>\n",
       "</tbody>\n",
       "</table>\n"
      ],
      "text/latex": [
       "A data.frame: 6 × 5\n",
       "\\begin{tabular}{r|lllll}\n",
       " Sepal.Length & Sepal.Width & Petal.Length & Petal.Width & Species\\\\\n",
       " <dbl> & <dbl> & <dbl> & <dbl> & <fct>\\\\\n",
       "\\hline\n",
       "\t 5.1 & 3.5 & 1.4 & 0.2 & setosa\\\\\n",
       "\t 4.9 & 3.0 & 1.4 & 0.2 & setosa\\\\\n",
       "\t 4.7 & 3.2 & 1.3 & 0.2 & setosa\\\\\n",
       "\t 4.6 & 3.1 & 1.5 & 0.2 & setosa\\\\\n",
       "\t 5.0 & 3.6 & 1.4 & 0.2 & setosa\\\\\n",
       "\t 5.4 & 3.9 & 1.7 & 0.4 & setosa\\\\\n",
       "\\end{tabular}\n"
      ],
      "text/markdown": [
       "\n",
       "A data.frame: 6 × 5\n",
       "\n",
       "| Sepal.Length &lt;dbl&gt; | Sepal.Width &lt;dbl&gt; | Petal.Length &lt;dbl&gt; | Petal.Width &lt;dbl&gt; | Species &lt;fct&gt; |\n",
       "|---|---|---|---|---|\n",
       "| 5.1 | 3.5 | 1.4 | 0.2 | setosa |\n",
       "| 4.9 | 3.0 | 1.4 | 0.2 | setosa |\n",
       "| 4.7 | 3.2 | 1.3 | 0.2 | setosa |\n",
       "| 4.6 | 3.1 | 1.5 | 0.2 | setosa |\n",
       "| 5.0 | 3.6 | 1.4 | 0.2 | setosa |\n",
       "| 5.4 | 3.9 | 1.7 | 0.4 | setosa |\n",
       "\n"
      ],
      "text/plain": [
       "  Sepal.Length Sepal.Width Petal.Length Petal.Width Species\n",
       "1 5.1          3.5         1.4          0.2         setosa \n",
       "2 4.9          3.0         1.4          0.2         setosa \n",
       "3 4.7          3.2         1.3          0.2         setosa \n",
       "4 4.6          3.1         1.5          0.2         setosa \n",
       "5 5.0          3.6         1.4          0.2         setosa \n",
       "6 5.4          3.9         1.7          0.4         setosa "
      ]
     },
     "metadata": {},
     "output_type": "display_data"
    }
   ],
   "source": [
    "load(url(\"https://github.com/eogasawara/mylibrary/raw/master/data/iris.RData\"))\n",
    "head(iris)"
   ]
  },
  {
   "cell_type": "markdown",
   "metadata": {},
   "source": [
    "## Building samples (training and testing)"
   ]
  },
  {
   "cell_type": "code",
   "execution_count": 137,
   "metadata": {},
   "outputs": [
    {
     "data": {
      "text/html": [
       "<table>\n",
       "<caption>A matrix: 3 × 3 of type int</caption>\n",
       "<thead>\n",
       "\t<tr><th></th><th scope=col>setosa</th><th scope=col>versicolor</th><th scope=col>virginica</th></tr>\n",
       "</thead>\n",
       "<tbody>\n",
       "\t<tr><th scope=row>dataset</th><td>50</td><td>50</td><td>50</td></tr>\n",
       "\t<tr><th scope=row>training</th><td>42</td><td>37</td><td>41</td></tr>\n",
       "\t<tr><th scope=row>test</th><td> 8</td><td>13</td><td> 9</td></tr>\n",
       "</tbody>\n",
       "</table>\n"
      ],
      "text/latex": [
       "A matrix: 3 × 3 of type int\n",
       "\\begin{tabular}{r|lll}\n",
       "  & setosa & versicolor & virginica\\\\\n",
       "\\hline\n",
       "\tdataset & 50 & 50 & 50\\\\\n",
       "\ttraining & 42 & 37 & 41\\\\\n",
       "\ttest &  8 & 13 &  9\\\\\n",
       "\\end{tabular}\n"
      ],
      "text/markdown": [
       "\n",
       "A matrix: 3 × 3 of type int\n",
       "\n",
       "| <!--/--> | setosa | versicolor | virginica |\n",
       "|---|---|---|---|\n",
       "| dataset | 50 | 50 | 50 |\n",
       "| training | 42 | 37 | 41 |\n",
       "| test |  8 | 13 |  9 |\n",
       "\n"
      ],
      "text/plain": [
       "         setosa versicolor virginica\n",
       "dataset  50     50         50       \n",
       "training 42     37         41       \n",
       "test      8     13          9       "
      ]
     },
     "metadata": {},
     "output_type": "display_data"
    }
   ],
   "source": [
    "iris_tt = sample.random(iris)\n",
    "iris_train = iris_tt[[1]]\n",
    "iris_test = iris_tt[[2]]\n",
    "\n",
    "tbl <- rbind(table(iris$Species), table(iris_train$Species), table(iris_test$Species))\n",
    "rownames(tbl) <- c(\"dataset\", \"training\", \"test\")\n",
    "head(tbl)"
   ]
  },
  {
   "cell_type": "markdown",
   "metadata": {},
   "source": [
    "## Majority class baseline prediction (Zero Rule)\n",
    "\n",
    "Model creating and level of adjustment during training"
   ]
  },
  {
   "cell_type": "code",
   "execution_count": 138,
   "metadata": {},
   "outputs": [
    {
     "data": {
      "text/html": [
       "<table>\n",
       "<caption>A data.frame: 1 × 6</caption>\n",
       "<thead>\n",
       "\t<tr><th scope=col>accuracy</th><th scope=col>f1</th><th scope=col>sensitivity</th><th scope=col>specificity</th><th scope=col>precision</th><th scope=col>recall</th></tr>\n",
       "\t<tr><th scope=col>&lt;dbl&gt;</th><th scope=col>&lt;dbl&gt;</th><th scope=col>&lt;dbl&gt;</th><th scope=col>&lt;dbl&gt;</th><th scope=col>&lt;dbl&gt;</th><th scope=col>&lt;dbl&gt;</th></tr>\n",
       "</thead>\n",
       "<tbody>\n",
       "\t<tr><td>0.5666667</td><td>0.35</td><td>0.35</td><td>0.675</td><td>0.35</td><td>0.35</td></tr>\n",
       "</tbody>\n",
       "</table>\n"
      ],
      "text/latex": [
       "A data.frame: 1 × 6\n",
       "\\begin{tabular}{r|llllll}\n",
       " accuracy & f1 & sensitivity & specificity & precision & recall\\\\\n",
       " <dbl> & <dbl> & <dbl> & <dbl> & <dbl> & <dbl>\\\\\n",
       "\\hline\n",
       "\t 0.5666667 & 0.35 & 0.35 & 0.675 & 0.35 & 0.35\\\\\n",
       "\\end{tabular}\n"
      ],
      "text/markdown": [
       "\n",
       "A data.frame: 1 × 6\n",
       "\n",
       "| accuracy &lt;dbl&gt; | f1 &lt;dbl&gt; | sensitivity &lt;dbl&gt; | specificity &lt;dbl&gt; | precision &lt;dbl&gt; | recall &lt;dbl&gt; |\n",
       "|---|---|---|---|---|---|\n",
       "| 0.5666667 | 0.35 | 0.35 | 0.675 | 0.35 | 0.35 |\n",
       "\n"
      ],
      "text/plain": [
       "  accuracy  f1   sensitivity specificity precision recall\n",
       "1 0.5666667 0.35 0.35        0.675       0.35      0.35  "
      ]
     },
     "metadata": {},
     "output_type": "display_data"
    }
   ],
   "source": [
    "model <- ZeroRule_model <- class_ZeroRule(iris_train, \"Species\")\n",
    "head(model$train$metrics)"
   ]
  },
  {
   "cell_type": "markdown",
   "metadata": {},
   "source": [
    "Prediction using Zero Rule"
   ]
  },
  {
   "cell_type": "code",
   "execution_count": 139,
   "metadata": {},
   "outputs": [
    {
     "data": {
      "text/html": [
       "<table>\n",
       "<caption>A matrix: 6 × 3 of type dbl</caption>\n",
       "<tbody>\n",
       "\t<tr><td>1</td><td>0</td><td>0</td></tr>\n",
       "\t<tr><td>1</td><td>0</td><td>0</td></tr>\n",
       "\t<tr><td>1</td><td>0</td><td>0</td></tr>\n",
       "\t<tr><td>1</td><td>0</td><td>0</td></tr>\n",
       "\t<tr><td>1</td><td>0</td><td>0</td></tr>\n",
       "\t<tr><td>1</td><td>0</td><td>0</td></tr>\n",
       "</tbody>\n",
       "</table>\n"
      ],
      "text/latex": [
       "A matrix: 6 × 3 of type dbl\n",
       "\\begin{tabular}{lll}\n",
       "\t 1 & 0 & 0\\\\\n",
       "\t 1 & 0 & 0\\\\\n",
       "\t 1 & 0 & 0\\\\\n",
       "\t 1 & 0 & 0\\\\\n",
       "\t 1 & 0 & 0\\\\\n",
       "\t 1 & 0 & 0\\\\\n",
       "\\end{tabular}\n"
      ],
      "text/markdown": [
       "\n",
       "A matrix: 6 × 3 of type dbl\n",
       "\n",
       "| 1 | 0 | 0 |\n",
       "| 1 | 0 | 0 |\n",
       "| 1 | 0 | 0 |\n",
       "| 1 | 0 | 0 |\n",
       "| 1 | 0 | 0 |\n",
       "| 1 | 0 | 0 |\n",
       "\n"
      ],
      "text/plain": [
       "     [,1] [,2] [,3]\n",
       "[1,] 1    0    0   \n",
       "[2,] 1    0    0   \n",
       "[3,] 1    0    0   \n",
       "[4,] 1    0    0   \n",
       "[5,] 1    0    0   \n",
       "[6,] 1    0    0   "
      ]
     },
     "metadata": {},
     "output_type": "display_data"
    }
   ],
   "source": [
    "test <- ZeroRule_test <- class_test(model, iris_test, \"Species\")\n",
    "head(test$predictions)"
   ]
  },
  {
   "cell_type": "markdown",
   "metadata": {},
   "source": [
    "Quality of prediction using Zero Rule"
   ]
  },
  {
   "cell_type": "code",
   "execution_count": 140,
   "metadata": {},
   "outputs": [
    {
     "data": {
      "text/html": [
       "<table>\n",
       "<caption>A data.frame: 1 × 6</caption>\n",
       "<thead>\n",
       "\t<tr><th scope=col>accuracy</th><th scope=col>f1</th><th scope=col>sensitivity</th><th scope=col>specificity</th><th scope=col>precision</th><th scope=col>recall</th></tr>\n",
       "\t<tr><th scope=col>&lt;dbl&gt;</th><th scope=col>&lt;dbl&gt;</th><th scope=col>&lt;dbl&gt;</th><th scope=col>&lt;dbl&gt;</th><th scope=col>&lt;dbl&gt;</th><th scope=col>&lt;dbl&gt;</th></tr>\n",
       "</thead>\n",
       "<tbody>\n",
       "\t<tr><td>0.5111111</td><td>0.2666667</td><td>0.2666667</td><td>0.6333333</td><td>0.2666667</td><td>0.2666667</td></tr>\n",
       "</tbody>\n",
       "</table>\n"
      ],
      "text/latex": [
       "A data.frame: 1 × 6\n",
       "\\begin{tabular}{r|llllll}\n",
       " accuracy & f1 & sensitivity & specificity & precision & recall\\\\\n",
       " <dbl> & <dbl> & <dbl> & <dbl> & <dbl> & <dbl>\\\\\n",
       "\\hline\n",
       "\t 0.5111111 & 0.2666667 & 0.2666667 & 0.6333333 & 0.2666667 & 0.2666667\\\\\n",
       "\\end{tabular}\n"
      ],
      "text/markdown": [
       "\n",
       "A data.frame: 1 × 6\n",
       "\n",
       "| accuracy &lt;dbl&gt; | f1 &lt;dbl&gt; | sensitivity &lt;dbl&gt; | specificity &lt;dbl&gt; | precision &lt;dbl&gt; | recall &lt;dbl&gt; |\n",
       "|---|---|---|---|---|---|\n",
       "| 0.5111111 | 0.2666667 | 0.2666667 | 0.6333333 | 0.2666667 | 0.2666667 |\n",
       "\n"
      ],
      "text/plain": [
       "  accuracy  f1        sensitivity specificity precision recall   \n",
       "1 0.5111111 0.2666667 0.2666667   0.6333333   0.2666667 0.2666667"
      ]
     },
     "metadata": {},
     "output_type": "display_data"
    }
   ],
   "source": [
    "head(test$metrics)"
   ]
  },
  {
   "cell_type": "markdown",
   "metadata": {},
   "source": [
    "Confusion matrix"
   ]
  },
  {
   "cell_type": "code",
   "execution_count": 141,
   "metadata": {},
   "outputs": [
    {
     "data": {
      "text/plain": [
       "       predictions\n",
       "targets  1\n",
       "      1  8\n",
       "      2 13\n",
       "      3  9"
      ]
     },
     "metadata": {},
     "output_type": "display_data"
    }
   ],
   "source": [
    "head(test$conf_mat)"
   ]
  },
  {
   "cell_type": "markdown",
   "metadata": {},
   "source": [
    "## Decision Tree\n",
    "Training the model, presenting the level of adjustment, quality of prediction, and confusion matrix."
   ]
  },
  {
   "cell_type": "code",
   "execution_count": 142,
   "metadata": {},
   "outputs": [
    {
     "data": {
      "text/html": [
       "<table>\n",
       "<caption>A data.frame: 1 × 6</caption>\n",
       "<thead>\n",
       "\t<tr><th scope=col>accuracy</th><th scope=col>f1</th><th scope=col>sensitivity</th><th scope=col>specificity</th><th scope=col>precision</th><th scope=col>recall</th></tr>\n",
       "\t<tr><th scope=col>&lt;dbl&gt;</th><th scope=col>&lt;dbl&gt;</th><th scope=col>&lt;dbl&gt;</th><th scope=col>&lt;dbl&gt;</th><th scope=col>&lt;dbl&gt;</th><th scope=col>&lt;dbl&gt;</th></tr>\n",
       "</thead>\n",
       "<tbody>\n",
       "\t<tr><td>0.9888889</td><td>0.9833333</td><td>0.9833333</td><td>0.9916667</td><td>0.9833333</td><td>0.9833333</td></tr>\n",
       "</tbody>\n",
       "</table>\n"
      ],
      "text/latex": [
       "A data.frame: 1 × 6\n",
       "\\begin{tabular}{r|llllll}\n",
       " accuracy & f1 & sensitivity & specificity & precision & recall\\\\\n",
       " <dbl> & <dbl> & <dbl> & <dbl> & <dbl> & <dbl>\\\\\n",
       "\\hline\n",
       "\t 0.9888889 & 0.9833333 & 0.9833333 & 0.9916667 & 0.9833333 & 0.9833333\\\\\n",
       "\\end{tabular}\n"
      ],
      "text/markdown": [
       "\n",
       "A data.frame: 1 × 6\n",
       "\n",
       "| accuracy &lt;dbl&gt; | f1 &lt;dbl&gt; | sensitivity &lt;dbl&gt; | specificity &lt;dbl&gt; | precision &lt;dbl&gt; | recall &lt;dbl&gt; |\n",
       "|---|---|---|---|---|---|\n",
       "| 0.9888889 | 0.9833333 | 0.9833333 | 0.9916667 | 0.9833333 | 0.9833333 |\n",
       "\n"
      ],
      "text/plain": [
       "  accuracy  f1        sensitivity specificity precision recall   \n",
       "1 0.9888889 0.9833333 0.9833333   0.9916667   0.9833333 0.9833333"
      ]
     },
     "metadata": {},
     "output_type": "display_data"
    },
    {
     "data": {
      "text/html": [
       "<table>\n",
       "<caption>A data.frame: 1 × 6</caption>\n",
       "<thead>\n",
       "\t<tr><th scope=col>accuracy</th><th scope=col>f1</th><th scope=col>sensitivity</th><th scope=col>specificity</th><th scope=col>precision</th><th scope=col>recall</th></tr>\n",
       "\t<tr><th scope=col>&lt;dbl&gt;</th><th scope=col>&lt;dbl&gt;</th><th scope=col>&lt;dbl&gt;</th><th scope=col>&lt;dbl&gt;</th><th scope=col>&lt;dbl&gt;</th><th scope=col>&lt;dbl&gt;</th></tr>\n",
       "</thead>\n",
       "<tbody>\n",
       "\t<tr><td>0.9111111</td><td>0.8666667</td><td>0.8666667</td><td>0.9333333</td><td>0.8666667</td><td>0.8666667</td></tr>\n",
       "</tbody>\n",
       "</table>\n"
      ],
      "text/latex": [
       "A data.frame: 1 × 6\n",
       "\\begin{tabular}{r|llllll}\n",
       " accuracy & f1 & sensitivity & specificity & precision & recall\\\\\n",
       " <dbl> & <dbl> & <dbl> & <dbl> & <dbl> & <dbl>\\\\\n",
       "\\hline\n",
       "\t 0.9111111 & 0.8666667 & 0.8666667 & 0.9333333 & 0.8666667 & 0.8666667\\\\\n",
       "\\end{tabular}\n"
      ],
      "text/markdown": [
       "\n",
       "A data.frame: 1 × 6\n",
       "\n",
       "| accuracy &lt;dbl&gt; | f1 &lt;dbl&gt; | sensitivity &lt;dbl&gt; | specificity &lt;dbl&gt; | precision &lt;dbl&gt; | recall &lt;dbl&gt; |\n",
       "|---|---|---|---|---|---|\n",
       "| 0.9111111 | 0.8666667 | 0.8666667 | 0.9333333 | 0.8666667 | 0.8666667 |\n",
       "\n"
      ],
      "text/plain": [
       "  accuracy  f1        sensitivity specificity precision recall   \n",
       "1 0.9111111 0.8666667 0.8666667   0.9333333   0.8666667 0.8666667"
      ]
     },
     "metadata": {},
     "output_type": "display_data"
    },
    {
     "data": {
      "text/plain": [
       "       predictions\n",
       "targets  1  2  3\n",
       "      1  8  0  0\n",
       "      2  0 11  2\n",
       "      3  0  2  7"
      ]
     },
     "metadata": {},
     "output_type": "display_data"
    }
   ],
   "source": [
    "model <- tree_model <- class_tree(iris_train, \"Species\")\n",
    "head(model$train$metrics)\n",
    "test <- class_test(model, iris_test, \"Species\")\n",
    "head(test$metrics)\n",
    "head(test$conf_mat)"
   ]
  },
  {
   "cell_type": "markdown",
   "metadata": {},
   "source": [
    "Understing the produced model. \n",
    "Take a time comparing with the exploratory analysis."
   ]
  },
  {
   "cell_type": "code",
   "execution_count": 143,
   "metadata": {},
   "outputs": [
    {
     "data": {
      "image/png": "[encoded data removed]",
      "text/plain": [
       "plot without title"
      ]
     },
     "metadata": {},
     "output_type": "display_data"
    }
   ],
   "source": [
    "plot_size(5, 4)\n",
    "plot(tree_model$model)\n",
    "text(tree_model$model)"
   ]
  },
  {
   "cell_type": "markdown",
   "metadata": {},
   "source": [
    "## Naive Bayes"
   ]
  },
  {
   "cell_type": "code",
   "execution_count": 144,
   "metadata": {},
   "outputs": [
    {
     "data": {
      "text/html": [
       "<table>\n",
       "<caption>A data.frame: 1 × 6</caption>\n",
       "<thead>\n",
       "\t<tr><th scope=col>accuracy</th><th scope=col>f1</th><th scope=col>sensitivity</th><th scope=col>specificity</th><th scope=col>precision</th><th scope=col>recall</th></tr>\n",
       "\t<tr><th scope=col>&lt;dbl&gt;</th><th scope=col>&lt;dbl&gt;</th><th scope=col>&lt;dbl&gt;</th><th scope=col>&lt;dbl&gt;</th><th scope=col>&lt;dbl&gt;</th><th scope=col>&lt;dbl&gt;</th></tr>\n",
       "</thead>\n",
       "<tbody>\n",
       "\t<tr><td>0.9888889</td><td>0.9833333</td><td>0.9833333</td><td>0.9916667</td><td>0.9833333</td><td>0.9833333</td></tr>\n",
       "</tbody>\n",
       "</table>\n"
      ],
      "text/latex": [
       "A data.frame: 1 × 6\n",
       "\\begin{tabular}{r|llllll}\n",
       " accuracy & f1 & sensitivity & specificity & precision & recall\\\\\n",
       " <dbl> & <dbl> & <dbl> & <dbl> & <dbl> & <dbl>\\\\\n",
       "\\hline\n",
       "\t 0.9888889 & 0.9833333 & 0.9833333 & 0.9916667 & 0.9833333 & 0.9833333\\\\\n",
       "\\end{tabular}\n"
      ],
      "text/markdown": [
       "\n",
       "A data.frame: 1 × 6\n",
       "\n",
       "| accuracy &lt;dbl&gt; | f1 &lt;dbl&gt; | sensitivity &lt;dbl&gt; | specificity &lt;dbl&gt; | precision &lt;dbl&gt; | recall &lt;dbl&gt; |\n",
       "|---|---|---|---|---|---|\n",
       "| 0.9888889 | 0.9833333 | 0.9833333 | 0.9916667 | 0.9833333 | 0.9833333 |\n",
       "\n"
      ],
      "text/plain": [
       "  accuracy  f1        sensitivity specificity precision recall   \n",
       "1 0.9888889 0.9833333 0.9833333   0.9916667   0.9833333 0.9833333"
      ]
     },
     "metadata": {},
     "output_type": "display_data"
    },
    {
     "data": {
      "text/html": [
       "<table>\n",
       "<caption>A data.frame: 1 × 6</caption>\n",
       "<thead>\n",
       "\t<tr><th scope=col>accuracy</th><th scope=col>f1</th><th scope=col>sensitivity</th><th scope=col>specificity</th><th scope=col>precision</th><th scope=col>recall</th></tr>\n",
       "\t<tr><th scope=col>&lt;dbl&gt;</th><th scope=col>&lt;dbl&gt;</th><th scope=col>&lt;dbl&gt;</th><th scope=col>&lt;dbl&gt;</th><th scope=col>&lt;dbl&gt;</th><th scope=col>&lt;dbl&gt;</th></tr>\n",
       "</thead>\n",
       "<tbody>\n",
       "\t<tr><td>0.8888889</td><td>0.8333333</td><td>0.8333333</td><td>0.9166667</td><td>0.8333333</td><td>0.8333333</td></tr>\n",
       "</tbody>\n",
       "</table>\n"
      ],
      "text/latex": [
       "A data.frame: 1 × 6\n",
       "\\begin{tabular}{r|llllll}\n",
       " accuracy & f1 & sensitivity & specificity & precision & recall\\\\\n",
       " <dbl> & <dbl> & <dbl> & <dbl> & <dbl> & <dbl>\\\\\n",
       "\\hline\n",
       "\t 0.8888889 & 0.8333333 & 0.8333333 & 0.9166667 & 0.8333333 & 0.8333333\\\\\n",
       "\\end{tabular}\n"
      ],
      "text/markdown": [
       "\n",
       "A data.frame: 1 × 6\n",
       "\n",
       "| accuracy &lt;dbl&gt; | f1 &lt;dbl&gt; | sensitivity &lt;dbl&gt; | specificity &lt;dbl&gt; | precision &lt;dbl&gt; | recall &lt;dbl&gt; |\n",
       "|---|---|---|---|---|---|\n",
       "| 0.8888889 | 0.8333333 | 0.8333333 | 0.9166667 | 0.8333333 | 0.8333333 |\n",
       "\n"
      ],
      "text/plain": [
       "  accuracy  f1        sensitivity specificity precision recall   \n",
       "1 0.8888889 0.8333333 0.8333333   0.9166667   0.8333333 0.8333333"
      ]
     },
     "metadata": {},
     "output_type": "display_data"
    },
    {
     "data": {
      "text/plain": [
       "       predictions\n",
       "targets  1  2  3\n",
       "      1  8  0  0\n",
       "      2  0 10  3\n",
       "      3  0  2  7"
      ]
     },
     "metadata": {},
     "output_type": "display_data"
    }
   ],
   "source": [
    "model <- nb_model <- class_naiveBayes(iris_train, \"Species\")\n",
    "head(model$train$metrics)\n",
    "test <- class_test(model, iris_test, \"Species\")\n",
    "head(test$metrics)\n",
    "head(test$conf_mat)"
   ]
  },
  {
   "cell_type": "code",
   "execution_count": 145,
   "metadata": {},
   "outputs": [
    {
     "name": "stdout",
     "output_type": "stream",
     "text": [
      "\n",
      "Naive Bayes Classifier for Discrete Predictors\n",
      "\n",
      "Call:\n",
      "naiveBayes.default(x = X, y = Y, laplace = laplace)\n",
      "\n",
      "A-priori probabilities:\n",
      "Y\n",
      "    setosa versicolor  virginica \n",
      " 0.3500000  0.3083333  0.3416667 \n",
      "\n",
      "Conditional probabilities:\n",
      "            Sepal.Length\n",
      "Y                [,1]      [,2]\n",
      "  setosa     5.007143 0.3557149\n",
      "  versicolor 5.945946 0.5118564\n",
      "  virginica  6.602439 0.5511297\n",
      "\n",
      "            Sepal.Width\n",
      "Y                [,1]      [,2]\n",
      "  setosa     3.454762 0.3603537\n",
      "  versicolor 2.735135 0.3284782\n",
      "  virginica  2.990244 0.3104874\n",
      "\n",
      "            Petal.Length\n",
      "Y                [,1]      [,2]\n",
      "  setosa     1.461905 0.1820646\n",
      "  versicolor 4.232432 0.4761268\n",
      "  virginica  5.524390 0.5146749\n",
      "\n",
      "            Petal.Width\n",
      "Y                 [,1]      [,2]\n",
      "  setosa     0.2452381 0.1130560\n",
      "  versicolor 1.3000000 0.1885618\n",
      "  virginica  2.0292683 0.2431501\n",
      "\n"
     ]
    }
   ],
   "source": [
    "print(nb_model$model)"
   ]
  },
  {
   "cell_type": "markdown",
   "metadata": {},
   "source": [
    "## Random Forest"
   ]
  },
  {
   "cell_type": "code",
   "execution_count": 146,
   "metadata": {},
   "outputs": [
    {
     "data": {
      "text/html": [
       "<table>\n",
       "<caption>A data.frame: 1 × 6</caption>\n",
       "<thead>\n",
       "\t<tr><th scope=col>accuracy</th><th scope=col>f1</th><th scope=col>sensitivity</th><th scope=col>specificity</th><th scope=col>precision</th><th scope=col>recall</th></tr>\n",
       "\t<tr><th scope=col>&lt;dbl&gt;</th><th scope=col>&lt;dbl&gt;</th><th scope=col>&lt;dbl&gt;</th><th scope=col>&lt;dbl&gt;</th><th scope=col>&lt;dbl&gt;</th><th scope=col>&lt;dbl&gt;</th></tr>\n",
       "</thead>\n",
       "<tbody>\n",
       "\t<tr><td>1</td><td>1</td><td>1</td><td>1</td><td>1</td><td>1</td></tr>\n",
       "</tbody>\n",
       "</table>\n"
      ],
      "text/latex": [
       "A data.frame: 1 × 6\n",
       "\\begin{tabular}{r|llllll}\n",
       " accuracy & f1 & sensitivity & specificity & precision & recall\\\\\n",
       " <dbl> & <dbl> & <dbl> & <dbl> & <dbl> & <dbl>\\\\\n",
       "\\hline\n",
       "\t 1 & 1 & 1 & 1 & 1 & 1\\\\\n",
       "\\end{tabular}\n"
      ],
      "text/markdown": [
       "\n",
       "A data.frame: 1 × 6\n",
       "\n",
       "| accuracy &lt;dbl&gt; | f1 &lt;dbl&gt; | sensitivity &lt;dbl&gt; | specificity &lt;dbl&gt; | precision &lt;dbl&gt; | recall &lt;dbl&gt; |\n",
       "|---|---|---|---|---|---|\n",
       "| 1 | 1 | 1 | 1 | 1 | 1 |\n",
       "\n"
      ],
      "text/plain": [
       "  accuracy f1 sensitivity specificity precision recall\n",
       "1 1        1  1           1           1         1     "
      ]
     },
     "metadata": {},
     "output_type": "display_data"
    },
    {
     "data": {
      "text/html": [
       "<table>\n",
       "<caption>A data.frame: 1 × 6</caption>\n",
       "<thead>\n",
       "\t<tr><th scope=col>accuracy</th><th scope=col>f1</th><th scope=col>sensitivity</th><th scope=col>specificity</th><th scope=col>precision</th><th scope=col>recall</th></tr>\n",
       "\t<tr><th scope=col>&lt;dbl&gt;</th><th scope=col>&lt;dbl&gt;</th><th scope=col>&lt;dbl&gt;</th><th scope=col>&lt;dbl&gt;</th><th scope=col>&lt;dbl&gt;</th><th scope=col>&lt;dbl&gt;</th></tr>\n",
       "</thead>\n",
       "<tbody>\n",
       "\t<tr><td>0.9111111</td><td>0.8666667</td><td>0.8666667</td><td>0.9333333</td><td>0.8666667</td><td>0.8666667</td></tr>\n",
       "</tbody>\n",
       "</table>\n"
      ],
      "text/latex": [
       "A data.frame: 1 × 6\n",
       "\\begin{tabular}{r|llllll}\n",
       " accuracy & f1 & sensitivity & specificity & precision & recall\\\\\n",
       " <dbl> & <dbl> & <dbl> & <dbl> & <dbl> & <dbl>\\\\\n",
       "\\hline\n",
       "\t 0.9111111 & 0.8666667 & 0.8666667 & 0.9333333 & 0.8666667 & 0.8666667\\\\\n",
       "\\end{tabular}\n"
      ],
      "text/markdown": [
       "\n",
       "A data.frame: 1 × 6\n",
       "\n",
       "| accuracy &lt;dbl&gt; | f1 &lt;dbl&gt; | sensitivity &lt;dbl&gt; | specificity &lt;dbl&gt; | precision &lt;dbl&gt; | recall &lt;dbl&gt; |\n",
       "|---|---|---|---|---|---|\n",
       "| 0.9111111 | 0.8666667 | 0.8666667 | 0.9333333 | 0.8666667 | 0.8666667 |\n",
       "\n"
      ],
      "text/plain": [
       "  accuracy  f1        sensitivity specificity precision recall   \n",
       "1 0.9111111 0.8666667 0.8666667   0.9333333   0.8666667 0.8666667"
      ]
     },
     "metadata": {},
     "output_type": "display_data"
    },
    {
     "data": {
      "text/plain": [
       "       predictions\n",
       "targets  1  2  3\n",
       "      1  8  0  0\n",
       "      2  0 11  2\n",
       "      3  0  2  7"
      ]
     },
     "metadata": {},
     "output_type": "display_data"
    }
   ],
   "source": [
    "model <- rf_model <- class_randomForest(iris_train, \"Species\")\n",
    "head(model$train$metrics)\n",
    "test <- class_test(model, iris_test, \"Species\")\n",
    "head(test$metrics)\n",
    "head(test$conf_mat)"
   ]
  },
  {
   "cell_type": "markdown",
   "metadata": {},
   "source": [
    "## Prepare dataset for Machine Learning"
   ]
  },
  {
   "cell_type": "code",
   "execution_count": 147,
   "metadata": {},
   "outputs": [],
   "source": [
    "iris_train_n <- normalize.minmax(iris_train)\n",
    "iris_train_n$data$Class <- iris_train$Class\n",
    "iris_test_n  <- normalize.minmax(iris_test, iris_train_n$norm.set)\n",
    "iris_test_n$data$Class <- iris_test$Class"
   ]
  },
  {
   "cell_type": "markdown",
   "metadata": {},
   "source": [
    "## Neural Networks - MLP using nnet\n"
   ]
  },
  {
   "cell_type": "code",
   "execution_count": 148,
   "metadata": {},
   "outputs": [
    {
     "name": "stdout",
     "output_type": "stream",
     "text": [
      "# weights:  27\n",
      "initial  value 101.348687 \n",
      "iter  10 value 28.894876\n",
      "iter  20 value 11.790441\n",
      "iter  30 value 10.362204\n",
      "iter  40 value 9.923474\n",
      "iter  50 value 9.768647\n",
      "iter  60 value 9.680004\n",
      "iter  70 value 9.622098\n",
      "iter  80 value 9.619029\n",
      "iter  90 value 9.618843\n",
      "iter 100 value 9.618835\n",
      "final  value 9.618835 \n",
      "converged\n"
     ]
    },
    {
     "data": {
      "text/html": [
       "<table>\n",
       "<caption>A data.frame: 1 × 6</caption>\n",
       "<thead>\n",
       "\t<tr><th scope=col>accuracy</th><th scope=col>f1</th><th scope=col>sensitivity</th><th scope=col>specificity</th><th scope=col>precision</th><th scope=col>recall</th></tr>\n",
       "\t<tr><th scope=col>&lt;dbl&gt;</th><th scope=col>&lt;dbl&gt;</th><th scope=col>&lt;dbl&gt;</th><th scope=col>&lt;dbl&gt;</th><th scope=col>&lt;dbl&gt;</th><th scope=col>&lt;dbl&gt;</th></tr>\n",
       "</thead>\n",
       "<tbody>\n",
       "\t<tr><td>0.9888889</td><td>0.9833333</td><td>0.9833333</td><td>0.9916667</td><td>0.9833333</td><td>0.9833333</td></tr>\n",
       "</tbody>\n",
       "</table>\n"
      ],
      "text/latex": [
       "A data.frame: 1 × 6\n",
       "\\begin{tabular}{r|llllll}\n",
       " accuracy & f1 & sensitivity & specificity & precision & recall\\\\\n",
       " <dbl> & <dbl> & <dbl> & <dbl> & <dbl> & <dbl>\\\\\n",
       "\\hline\n",
       "\t 0.9888889 & 0.9833333 & 0.9833333 & 0.9916667 & 0.9833333 & 0.9833333\\\\\n",
       "\\end{tabular}\n"
      ],
      "text/markdown": [
       "\n",
       "A data.frame: 1 × 6\n",
       "\n",
       "| accuracy &lt;dbl&gt; | f1 &lt;dbl&gt; | sensitivity &lt;dbl&gt; | specificity &lt;dbl&gt; | precision &lt;dbl&gt; | recall &lt;dbl&gt; |\n",
       "|---|---|---|---|---|---|\n",
       "| 0.9888889 | 0.9833333 | 0.9833333 | 0.9916667 | 0.9833333 | 0.9833333 |\n",
       "\n"
      ],
      "text/plain": [
       "  accuracy  f1        sensitivity specificity precision recall   \n",
       "1 0.9888889 0.9833333 0.9833333   0.9916667   0.9833333 0.9833333"
      ]
     },
     "metadata": {},
     "output_type": "display_data"
    },
    {
     "data": {
      "text/html": [
       "<table>\n",
       "<caption>A data.frame: 1 × 6</caption>\n",
       "<thead>\n",
       "\t<tr><th scope=col>accuracy</th><th scope=col>f1</th><th scope=col>sensitivity</th><th scope=col>specificity</th><th scope=col>precision</th><th scope=col>recall</th></tr>\n",
       "\t<tr><th scope=col>&lt;dbl&gt;</th><th scope=col>&lt;dbl&gt;</th><th scope=col>&lt;dbl&gt;</th><th scope=col>&lt;dbl&gt;</th><th scope=col>&lt;dbl&gt;</th><th scope=col>&lt;dbl&gt;</th></tr>\n",
       "</thead>\n",
       "<tbody>\n",
       "\t<tr><td>0.9555556</td><td>0.9333333</td><td>0.9333333</td><td>0.9666667</td><td>0.9333333</td><td>0.9333333</td></tr>\n",
       "</tbody>\n",
       "</table>\n"
      ],
      "text/latex": [
       "A data.frame: 1 × 6\n",
       "\\begin{tabular}{r|llllll}\n",
       " accuracy & f1 & sensitivity & specificity & precision & recall\\\\\n",
       " <dbl> & <dbl> & <dbl> & <dbl> & <dbl> & <dbl>\\\\\n",
       "\\hline\n",
       "\t 0.9555556 & 0.9333333 & 0.9333333 & 0.9666667 & 0.9333333 & 0.9333333\\\\\n",
       "\\end{tabular}\n"
      ],
      "text/markdown": [
       "\n",
       "A data.frame: 1 × 6\n",
       "\n",
       "| accuracy &lt;dbl&gt; | f1 &lt;dbl&gt; | sensitivity &lt;dbl&gt; | specificity &lt;dbl&gt; | precision &lt;dbl&gt; | recall &lt;dbl&gt; |\n",
       "|---|---|---|---|---|---|\n",
       "| 0.9555556 | 0.9333333 | 0.9333333 | 0.9666667 | 0.9333333 | 0.9333333 |\n",
       "\n"
      ],
      "text/plain": [
       "  accuracy  f1        sensitivity specificity precision recall   \n",
       "1 0.9555556 0.9333333 0.9333333   0.9666667   0.9333333 0.9333333"
      ]
     },
     "metadata": {},
     "output_type": "display_data"
    },
    {
     "data": {
      "text/plain": [
       "       predictions\n",
       "targets  1  2  3\n",
       "      1  8  0  0\n",
       "      2  0 11  2\n",
       "      3  0  0  9"
      ]
     },
     "metadata": {},
     "output_type": "display_data"
    }
   ],
   "source": [
    "model <- mlp_nnet_model <-  class_mlp_nnet(iris_train_n$data, \"Species\")\n",
    "head(model$train$metrics)\n",
    "test <- mlp_nnet_test <- class_test(model, iris_test_n$data, \"Species\")\n",
    "head(test$metrics)\n",
    "head(test$conf_mat)"
   ]
  },
  {
   "cell_type": "markdown",
   "metadata": {},
   "source": [
    "## Neural Networks - MLP using RSNNS"
   ]
  },
  {
   "cell_type": "code",
   "execution_count": 149,
   "metadata": {},
   "outputs": [
    {
     "data": {
      "text/html": [
       "<table>\n",
       "<caption>A data.frame: 1 × 6</caption>\n",
       "<thead>\n",
       "\t<tr><th scope=col>accuracy</th><th scope=col>f1</th><th scope=col>sensitivity</th><th scope=col>specificity</th><th scope=col>precision</th><th scope=col>recall</th></tr>\n",
       "\t<tr><th scope=col>&lt;dbl&gt;</th><th scope=col>&lt;dbl&gt;</th><th scope=col>&lt;dbl&gt;</th><th scope=col>&lt;dbl&gt;</th><th scope=col>&lt;dbl&gt;</th><th scope=col>&lt;dbl&gt;</th></tr>\n",
       "</thead>\n",
       "<tbody>\n",
       "\t<tr><td>0.9944444</td><td>0.9916667</td><td>0.9916667</td><td>0.9958333</td><td>0.9916667</td><td>0.9916667</td></tr>\n",
       "</tbody>\n",
       "</table>\n"
      ],
      "text/latex": [
       "A data.frame: 1 × 6\n",
       "\\begin{tabular}{r|llllll}\n",
       " accuracy & f1 & sensitivity & specificity & precision & recall\\\\\n",
       " <dbl> & <dbl> & <dbl> & <dbl> & <dbl> & <dbl>\\\\\n",
       "\\hline\n",
       "\t 0.9944444 & 0.9916667 & 0.9916667 & 0.9958333 & 0.9916667 & 0.9916667\\\\\n",
       "\\end{tabular}\n"
      ],
      "text/markdown": [
       "\n",
       "A data.frame: 1 × 6\n",
       "\n",
       "| accuracy &lt;dbl&gt; | f1 &lt;dbl&gt; | sensitivity &lt;dbl&gt; | specificity &lt;dbl&gt; | precision &lt;dbl&gt; | recall &lt;dbl&gt; |\n",
       "|---|---|---|---|---|---|\n",
       "| 0.9944444 | 0.9916667 | 0.9916667 | 0.9958333 | 0.9916667 | 0.9916667 |\n",
       "\n"
      ],
      "text/plain": [
       "  accuracy  f1        sensitivity specificity precision recall   \n",
       "1 0.9944444 0.9916667 0.9916667   0.9958333   0.9916667 0.9916667"
      ]
     },
     "metadata": {},
     "output_type": "display_data"
    },
    {
     "data": {
      "text/html": [
       "<table>\n",
       "<caption>A data.frame: 1 × 6</caption>\n",
       "<thead>\n",
       "\t<tr><th scope=col>accuracy</th><th scope=col>f1</th><th scope=col>sensitivity</th><th scope=col>specificity</th><th scope=col>precision</th><th scope=col>recall</th></tr>\n",
       "\t<tr><th scope=col>&lt;dbl&gt;</th><th scope=col>&lt;dbl&gt;</th><th scope=col>&lt;dbl&gt;</th><th scope=col>&lt;dbl&gt;</th><th scope=col>&lt;dbl&gt;</th><th scope=col>&lt;dbl&gt;</th></tr>\n",
       "</thead>\n",
       "<tbody>\n",
       "\t<tr><td>0.9555556</td><td>0.9333333</td><td>0.9333333</td><td>0.9666667</td><td>0.9333333</td><td>0.9333333</td></tr>\n",
       "</tbody>\n",
       "</table>\n"
      ],
      "text/latex": [
       "A data.frame: 1 × 6\n",
       "\\begin{tabular}{r|llllll}\n",
       " accuracy & f1 & sensitivity & specificity & precision & recall\\\\\n",
       " <dbl> & <dbl> & <dbl> & <dbl> & <dbl> & <dbl>\\\\\n",
       "\\hline\n",
       "\t 0.9555556 & 0.9333333 & 0.9333333 & 0.9666667 & 0.9333333 & 0.9333333\\\\\n",
       "\\end{tabular}\n"
      ],
      "text/markdown": [
       "\n",
       "A data.frame: 1 × 6\n",
       "\n",
       "| accuracy &lt;dbl&gt; | f1 &lt;dbl&gt; | sensitivity &lt;dbl&gt; | specificity &lt;dbl&gt; | precision &lt;dbl&gt; | recall &lt;dbl&gt; |\n",
       "|---|---|---|---|---|---|\n",
       "| 0.9555556 | 0.9333333 | 0.9333333 | 0.9666667 | 0.9333333 | 0.9333333 |\n",
       "\n"
      ],
      "text/plain": [
       "  accuracy  f1        sensitivity specificity precision recall   \n",
       "1 0.9555556 0.9333333 0.9333333   0.9666667   0.9333333 0.9333333"
      ]
     },
     "metadata": {},
     "output_type": "display_data"
    },
    {
     "data": {
      "text/plain": [
       "       predictions\n",
       "targets  1  2  3\n",
       "      1  8  0  0\n",
       "      2  0 11  2\n",
       "      3  0  0  9"
      ]
     },
     "metadata": {},
     "output_type": "display_data"
    }
   ],
   "source": [
    "model <- mlp_rsnns_model <- class_mlp_RSNNS(iris_train_n$data, \"Species\")\n",
    "head(model$train$metrics)\n",
    "test <- class_test(model, iris_test_n$data, \"Species\")\n",
    "head(test$metrics)\n",
    "head(test$conf_mat)"
   ]
  },
  {
   "cell_type": "markdown",
   "metadata": {},
   "source": [
    "## Neural Networks - RBF using RSNNS"
   ]
  },
  {
   "cell_type": "code",
   "execution_count": 150,
   "metadata": {},
   "outputs": [
    {
     "data": {
      "text/html": [
       "<table>\n",
       "<caption>A data.frame: 1 × 6</caption>\n",
       "<thead>\n",
       "\t<tr><th scope=col>accuracy</th><th scope=col>f1</th><th scope=col>sensitivity</th><th scope=col>specificity</th><th scope=col>precision</th><th scope=col>recall</th></tr>\n",
       "\t<tr><th scope=col>&lt;dbl&gt;</th><th scope=col>&lt;dbl&gt;</th><th scope=col>&lt;dbl&gt;</th><th scope=col>&lt;dbl&gt;</th><th scope=col>&lt;dbl&gt;</th><th scope=col>&lt;dbl&gt;</th></tr>\n",
       "</thead>\n",
       "<tbody>\n",
       "\t<tr><td>0.9833333</td><td>0.975</td><td>0.975</td><td>0.9875</td><td>0.975</td><td>0.975</td></tr>\n",
       "</tbody>\n",
       "</table>\n"
      ],
      "text/latex": [
       "A data.frame: 1 × 6\n",
       "\\begin{tabular}{r|llllll}\n",
       " accuracy & f1 & sensitivity & specificity & precision & recall\\\\\n",
       " <dbl> & <dbl> & <dbl> & <dbl> & <dbl> & <dbl>\\\\\n",
       "\\hline\n",
       "\t 0.9833333 & 0.975 & 0.975 & 0.9875 & 0.975 & 0.975\\\\\n",
       "\\end{tabular}\n"
      ],
      "text/markdown": [
       "\n",
       "A data.frame: 1 × 6\n",
       "\n",
       "| accuracy &lt;dbl&gt; | f1 &lt;dbl&gt; | sensitivity &lt;dbl&gt; | specificity &lt;dbl&gt; | precision &lt;dbl&gt; | recall &lt;dbl&gt; |\n",
       "|---|---|---|---|---|---|\n",
       "| 0.9833333 | 0.975 | 0.975 | 0.9875 | 0.975 | 0.975 |\n",
       "\n"
      ],
      "text/plain": [
       "  accuracy  f1    sensitivity specificity precision recall\n",
       "1 0.9833333 0.975 0.975       0.9875      0.975     0.975 "
      ]
     },
     "metadata": {},
     "output_type": "display_data"
    },
    {
     "data": {
      "text/html": [
       "<table>\n",
       "<caption>A data.frame: 1 × 6</caption>\n",
       "<thead>\n",
       "\t<tr><th scope=col>accuracy</th><th scope=col>f1</th><th scope=col>sensitivity</th><th scope=col>specificity</th><th scope=col>precision</th><th scope=col>recall</th></tr>\n",
       "\t<tr><th scope=col>&lt;dbl&gt;</th><th scope=col>&lt;dbl&gt;</th><th scope=col>&lt;dbl&gt;</th><th scope=col>&lt;dbl&gt;</th><th scope=col>&lt;dbl&gt;</th><th scope=col>&lt;dbl&gt;</th></tr>\n",
       "</thead>\n",
       "<tbody>\n",
       "\t<tr><td>0.9111111</td><td>0.8666667</td><td>0.8666667</td><td>0.9333333</td><td>0.8666667</td><td>0.8666667</td></tr>\n",
       "</tbody>\n",
       "</table>\n"
      ],
      "text/latex": [
       "A data.frame: 1 × 6\n",
       "\\begin{tabular}{r|llllll}\n",
       " accuracy & f1 & sensitivity & specificity & precision & recall\\\\\n",
       " <dbl> & <dbl> & <dbl> & <dbl> & <dbl> & <dbl>\\\\\n",
       "\\hline\n",
       "\t 0.9111111 & 0.8666667 & 0.8666667 & 0.9333333 & 0.8666667 & 0.8666667\\\\\n",
       "\\end{tabular}\n"
      ],
      "text/markdown": [
       "\n",
       "A data.frame: 1 × 6\n",
       "\n",
       "| accuracy &lt;dbl&gt; | f1 &lt;dbl&gt; | sensitivity &lt;dbl&gt; | specificity &lt;dbl&gt; | precision &lt;dbl&gt; | recall &lt;dbl&gt; |\n",
       "|---|---|---|---|---|---|\n",
       "| 0.9111111 | 0.8666667 | 0.8666667 | 0.9333333 | 0.8666667 | 0.8666667 |\n",
       "\n"
      ],
      "text/plain": [
       "  accuracy  f1        sensitivity specificity precision recall   \n",
       "1 0.9111111 0.8666667 0.8666667   0.9333333   0.8666667 0.8666667"
      ]
     },
     "metadata": {},
     "output_type": "display_data"
    },
    {
     "data": {
      "text/plain": [
       "       predictions\n",
       "targets  1  2  3\n",
       "      1  8  0  0\n",
       "      2  1 10  2\n",
       "      3  0  1  8"
      ]
     },
     "metadata": {},
     "output_type": "display_data"
    }
   ],
   "source": [
    "model <- rbf_rsnns_model <- class_rbf_RSNNS(iris_train_n$data, \"Species\")\n",
    "head(model$train$metrics)\n",
    "test <- class_test(model, iris_test_n$data, \"Species\")\n",
    "head(test$metrics)\n",
    "head(test$conf_mat)"
   ]
  },
  {
   "cell_type": "markdown",
   "metadata": {},
   "source": [
    "## Creating a SVM with RBF kernel"
   ]
  },
  {
   "cell_type": "code",
   "execution_count": 151,
   "metadata": {},
   "outputs": [
    {
     "data": {
      "text/html": [
       "<table>\n",
       "<caption>A data.frame: 1 × 6</caption>\n",
       "<thead>\n",
       "\t<tr><th scope=col>accuracy</th><th scope=col>f1</th><th scope=col>sensitivity</th><th scope=col>specificity</th><th scope=col>precision</th><th scope=col>recall</th></tr>\n",
       "\t<tr><th scope=col>&lt;dbl&gt;</th><th scope=col>&lt;dbl&gt;</th><th scope=col>&lt;dbl&gt;</th><th scope=col>&lt;dbl&gt;</th><th scope=col>&lt;dbl&gt;</th><th scope=col>&lt;dbl&gt;</th></tr>\n",
       "</thead>\n",
       "<tbody>\n",
       "\t<tr><td>0.9833333</td><td>0.975</td><td>0.975</td><td>0.9875</td><td>0.975</td><td>0.975</td></tr>\n",
       "</tbody>\n",
       "</table>\n"
      ],
      "text/latex": [
       "A data.frame: 1 × 6\n",
       "\\begin{tabular}{r|llllll}\n",
       " accuracy & f1 & sensitivity & specificity & precision & recall\\\\\n",
       " <dbl> & <dbl> & <dbl> & <dbl> & <dbl> & <dbl>\\\\\n",
       "\\hline\n",
       "\t 0.9833333 & 0.975 & 0.975 & 0.9875 & 0.975 & 0.975\\\\\n",
       "\\end{tabular}\n"
      ],
      "text/markdown": [
       "\n",
       "A data.frame: 1 × 6\n",
       "\n",
       "| accuracy &lt;dbl&gt; | f1 &lt;dbl&gt; | sensitivity &lt;dbl&gt; | specificity &lt;dbl&gt; | precision &lt;dbl&gt; | recall &lt;dbl&gt; |\n",
       "|---|---|---|---|---|---|\n",
       "| 0.9833333 | 0.975 | 0.975 | 0.9875 | 0.975 | 0.975 |\n",
       "\n"
      ],
      "text/plain": [
       "  accuracy  f1    sensitivity specificity precision recall\n",
       "1 0.9833333 0.975 0.975       0.9875      0.975     0.975 "
      ]
     },
     "metadata": {},
     "output_type": "display_data"
    },
    {
     "data": {
      "text/html": [
       "<table>\n",
       "<caption>A data.frame: 1 × 6</caption>\n",
       "<thead>\n",
       "\t<tr><th scope=col>accuracy</th><th scope=col>f1</th><th scope=col>sensitivity</th><th scope=col>specificity</th><th scope=col>precision</th><th scope=col>recall</th></tr>\n",
       "\t<tr><th scope=col>&lt;dbl&gt;</th><th scope=col>&lt;dbl&gt;</th><th scope=col>&lt;dbl&gt;</th><th scope=col>&lt;dbl&gt;</th><th scope=col>&lt;dbl&gt;</th><th scope=col>&lt;dbl&gt;</th></tr>\n",
       "</thead>\n",
       "<tbody>\n",
       "\t<tr><td>0.9555556</td><td>0.9333333</td><td>0.9333333</td><td>0.9666667</td><td>0.9333333</td><td>0.9333333</td></tr>\n",
       "</tbody>\n",
       "</table>\n"
      ],
      "text/latex": [
       "A data.frame: 1 × 6\n",
       "\\begin{tabular}{r|llllll}\n",
       " accuracy & f1 & sensitivity & specificity & precision & recall\\\\\n",
       " <dbl> & <dbl> & <dbl> & <dbl> & <dbl> & <dbl>\\\\\n",
       "\\hline\n",
       "\t 0.9555556 & 0.9333333 & 0.9333333 & 0.9666667 & 0.9333333 & 0.9333333\\\\\n",
       "\\end{tabular}\n"
      ],
      "text/markdown": [
       "\n",
       "A data.frame: 1 × 6\n",
       "\n",
       "| accuracy &lt;dbl&gt; | f1 &lt;dbl&gt; | sensitivity &lt;dbl&gt; | specificity &lt;dbl&gt; | precision &lt;dbl&gt; | recall &lt;dbl&gt; |\n",
       "|---|---|---|---|---|---|\n",
       "| 0.9555556 | 0.9333333 | 0.9333333 | 0.9666667 | 0.9333333 | 0.9333333 |\n",
       "\n"
      ],
      "text/plain": [
       "  accuracy  f1        sensitivity specificity precision recall   \n",
       "1 0.9555556 0.9333333 0.9333333   0.9666667   0.9333333 0.9333333"
      ]
     },
     "metadata": {},
     "output_type": "display_data"
    },
    {
     "data": {
      "text/plain": [
       "       predictions\n",
       "targets  1  2  3\n",
       "      1  8  0  0\n",
       "      2  0 11  2\n",
       "      3  0  0  9"
      ]
     },
     "metadata": {},
     "output_type": "display_data"
    }
   ],
   "source": [
    "model <- svm_rbf_model <- class_svm_rbf(iris_train_n$data, \"Species\")\n",
    "head(model$train$metrics)\n",
    "test <- class_test(model, iris_test_n$data, \"Species\")\n",
    "head(test$metrics)\n",
    "head(test$conf_mat)"
   ]
  },
  {
   "cell_type": "markdown",
   "metadata": {},
   "source": [
    "## Creating a SVM with polynomial kernel\n"
   ]
  },
  {
   "cell_type": "code",
   "execution_count": 152,
   "metadata": {},
   "outputs": [
    {
     "data": {
      "text/html": [
       "<table>\n",
       "<caption>A data.frame: 1 × 6</caption>\n",
       "<thead>\n",
       "\t<tr><th scope=col>accuracy</th><th scope=col>f1</th><th scope=col>sensitivity</th><th scope=col>specificity</th><th scope=col>precision</th><th scope=col>recall</th></tr>\n",
       "\t<tr><th scope=col>&lt;dbl&gt;</th><th scope=col>&lt;dbl&gt;</th><th scope=col>&lt;dbl&gt;</th><th scope=col>&lt;dbl&gt;</th><th scope=col>&lt;dbl&gt;</th><th scope=col>&lt;dbl&gt;</th></tr>\n",
       "</thead>\n",
       "<tbody>\n",
       "\t<tr><td>0.9888889</td><td>0.9833333</td><td>0.9833333</td><td>0.9916667</td><td>0.9833333</td><td>0.9833333</td></tr>\n",
       "</tbody>\n",
       "</table>\n"
      ],
      "text/latex": [
       "A data.frame: 1 × 6\n",
       "\\begin{tabular}{r|llllll}\n",
       " accuracy & f1 & sensitivity & specificity & precision & recall\\\\\n",
       " <dbl> & <dbl> & <dbl> & <dbl> & <dbl> & <dbl>\\\\\n",
       "\\hline\n",
       "\t 0.9888889 & 0.9833333 & 0.9833333 & 0.9916667 & 0.9833333 & 0.9833333\\\\\n",
       "\\end{tabular}\n"
      ],
      "text/markdown": [
       "\n",
       "A data.frame: 1 × 6\n",
       "\n",
       "| accuracy &lt;dbl&gt; | f1 &lt;dbl&gt; | sensitivity &lt;dbl&gt; | specificity &lt;dbl&gt; | precision &lt;dbl&gt; | recall &lt;dbl&gt; |\n",
       "|---|---|---|---|---|---|\n",
       "| 0.9888889 | 0.9833333 | 0.9833333 | 0.9916667 | 0.9833333 | 0.9833333 |\n",
       "\n"
      ],
      "text/plain": [
       "  accuracy  f1        sensitivity specificity precision recall   \n",
       "1 0.9888889 0.9833333 0.9833333   0.9916667   0.9833333 0.9833333"
      ]
     },
     "metadata": {},
     "output_type": "display_data"
    },
    {
     "data": {
      "text/html": [
       "<table>\n",
       "<caption>A data.frame: 1 × 6</caption>\n",
       "<thead>\n",
       "\t<tr><th scope=col>accuracy</th><th scope=col>f1</th><th scope=col>sensitivity</th><th scope=col>specificity</th><th scope=col>precision</th><th scope=col>recall</th></tr>\n",
       "\t<tr><th scope=col>&lt;dbl&gt;</th><th scope=col>&lt;dbl&gt;</th><th scope=col>&lt;dbl&gt;</th><th scope=col>&lt;dbl&gt;</th><th scope=col>&lt;dbl&gt;</th><th scope=col>&lt;dbl&gt;</th></tr>\n",
       "</thead>\n",
       "<tbody>\n",
       "\t<tr><td>0.9555556</td><td>0.9333333</td><td>0.9333333</td><td>0.9666667</td><td>0.9333333</td><td>0.9333333</td></tr>\n",
       "</tbody>\n",
       "</table>\n"
      ],
      "text/latex": [
       "A data.frame: 1 × 6\n",
       "\\begin{tabular}{r|llllll}\n",
       " accuracy & f1 & sensitivity & specificity & precision & recall\\\\\n",
       " <dbl> & <dbl> & <dbl> & <dbl> & <dbl> & <dbl>\\\\\n",
       "\\hline\n",
       "\t 0.9555556 & 0.9333333 & 0.9333333 & 0.9666667 & 0.9333333 & 0.9333333\\\\\n",
       "\\end{tabular}\n"
      ],
      "text/markdown": [
       "\n",
       "A data.frame: 1 × 6\n",
       "\n",
       "| accuracy &lt;dbl&gt; | f1 &lt;dbl&gt; | sensitivity &lt;dbl&gt; | specificity &lt;dbl&gt; | precision &lt;dbl&gt; | recall &lt;dbl&gt; |\n",
       "|---|---|---|---|---|---|\n",
       "| 0.9555556 | 0.9333333 | 0.9333333 | 0.9666667 | 0.9333333 | 0.9333333 |\n",
       "\n"
      ],
      "text/plain": [
       "  accuracy  f1        sensitivity specificity precision recall   \n",
       "1 0.9555556 0.9333333 0.9333333   0.9666667   0.9333333 0.9333333"
      ]
     },
     "metadata": {},
     "output_type": "display_data"
    },
    {
     "data": {
      "text/plain": [
       "       predictions\n",
       "targets  1  2  3\n",
       "      1  8  0  0\n",
       "      2  0 12  1\n",
       "      3  0  1  8"
      ]
     },
     "metadata": {},
     "output_type": "display_data"
    }
   ],
   "source": [
    "model <- svm_poly_model <- class_svm_poly(iris_train_n$data, \"Species\")\n",
    "head(model$train$metrics)\n",
    "test <- class_test(model, iris_test_n$data, \"Species\")\n",
    "head(test$metrics)\n",
    "head(test$conf_mat)"
   ]
  },
  {
   "cell_type": "markdown",
   "metadata": {},
   "source": [
    "## Creating a SVM with sigmoid kernel"
   ]
  },
  {
   "cell_type": "code",
   "execution_count": 153,
   "metadata": {
    "scrolled": true
   },
   "outputs": [
    {
     "data": {
      "text/html": [
       "<table>\n",
       "<caption>A data.frame: 1 × 6</caption>\n",
       "<thead>\n",
       "\t<tr><th scope=col>accuracy</th><th scope=col>f1</th><th scope=col>sensitivity</th><th scope=col>specificity</th><th scope=col>precision</th><th scope=col>recall</th></tr>\n",
       "\t<tr><th scope=col>&lt;dbl&gt;</th><th scope=col>&lt;dbl&gt;</th><th scope=col>&lt;dbl&gt;</th><th scope=col>&lt;dbl&gt;</th><th scope=col>&lt;dbl&gt;</th><th scope=col>&lt;dbl&gt;</th></tr>\n",
       "</thead>\n",
       "<tbody>\n",
       "\t<tr><td>0.85</td><td>0.775</td><td>0.775</td><td>0.8875</td><td>0.775</td><td>0.775</td></tr>\n",
       "</tbody>\n",
       "</table>\n"
      ],
      "text/latex": [
       "A data.frame: 1 × 6\n",
       "\\begin{tabular}{r|llllll}\n",
       " accuracy & f1 & sensitivity & specificity & precision & recall\\\\\n",
       " <dbl> & <dbl> & <dbl> & <dbl> & <dbl> & <dbl>\\\\\n",
       "\\hline\n",
       "\t 0.85 & 0.775 & 0.775 & 0.8875 & 0.775 & 0.775\\\\\n",
       "\\end{tabular}\n"
      ],
      "text/markdown": [
       "\n",
       "A data.frame: 1 × 6\n",
       "\n",
       "| accuracy &lt;dbl&gt; | f1 &lt;dbl&gt; | sensitivity &lt;dbl&gt; | specificity &lt;dbl&gt; | precision &lt;dbl&gt; | recall &lt;dbl&gt; |\n",
       "|---|---|---|---|---|---|\n",
       "| 0.85 | 0.775 | 0.775 | 0.8875 | 0.775 | 0.775 |\n",
       "\n"
      ],
      "text/plain": [
       "  accuracy f1    sensitivity specificity precision recall\n",
       "1 0.85     0.775 0.775       0.8875      0.775     0.775 "
      ]
     },
     "metadata": {},
     "output_type": "display_data"
    },
    {
     "data": {
      "text/html": [
       "<table>\n",
       "<caption>A data.frame: 1 × 6</caption>\n",
       "<thead>\n",
       "\t<tr><th scope=col>accuracy</th><th scope=col>f1</th><th scope=col>sensitivity</th><th scope=col>specificity</th><th scope=col>precision</th><th scope=col>recall</th></tr>\n",
       "\t<tr><th scope=col>&lt;dbl&gt;</th><th scope=col>&lt;dbl&gt;</th><th scope=col>&lt;dbl&gt;</th><th scope=col>&lt;dbl&gt;</th><th scope=col>&lt;dbl&gt;</th><th scope=col>&lt;dbl&gt;</th></tr>\n",
       "</thead>\n",
       "<tbody>\n",
       "\t<tr><td>0.8</td><td>0.7</td><td>0.7</td><td>0.85</td><td>0.7</td><td>0.7</td></tr>\n",
       "</tbody>\n",
       "</table>\n"
      ],
      "text/latex": [
       "A data.frame: 1 × 6\n",
       "\\begin{tabular}{r|llllll}\n",
       " accuracy & f1 & sensitivity & specificity & precision & recall\\\\\n",
       " <dbl> & <dbl> & <dbl> & <dbl> & <dbl> & <dbl>\\\\\n",
       "\\hline\n",
       "\t 0.8 & 0.7 & 0.7 & 0.85 & 0.7 & 0.7\\\\\n",
       "\\end{tabular}\n"
      ],
      "text/markdown": [
       "\n",
       "A data.frame: 1 × 6\n",
       "\n",
       "| accuracy &lt;dbl&gt; | f1 &lt;dbl&gt; | sensitivity &lt;dbl&gt; | specificity &lt;dbl&gt; | precision &lt;dbl&gt; | recall &lt;dbl&gt; |\n",
       "|---|---|---|---|---|---|\n",
       "| 0.8 | 0.7 | 0.7 | 0.85 | 0.7 | 0.7 |\n",
       "\n"
      ],
      "text/plain": [
       "  accuracy f1  sensitivity specificity precision recall\n",
       "1 0.8      0.7 0.7         0.85        0.7       0.7   "
      ]
     },
     "metadata": {},
     "output_type": "display_data"
    },
    {
     "data": {
      "text/plain": [
       "       predictions\n",
       "targets 1 2 3\n",
       "      1 7 1 0\n",
       "      2 1 8 4\n",
       "      3 0 3 6"
      ]
     },
     "metadata": {},
     "output_type": "display_data"
    }
   ],
   "source": [
    "model <- svm_sigmoid_model <-class_svm_sigmoid(iris_train_n$data, \"Species\")\n",
    "head(model$train$metrics)\n",
    "test <- class_test(model, iris_test_n$data, \"Species\")\n",
    "head(test$metrics)\n",
    "head(test$conf_mat)"
   ]
  },
  {
   "cell_type": "markdown",
   "metadata": {},
   "source": [
    "## knn prediction"
   ]
  },
  {
   "cell_type": "code",
   "execution_count": 154,
   "metadata": {},
   "outputs": [
    {
     "data": {
      "text/html": [
       "<table>\n",
       "<caption>A data.frame: 1 × 6</caption>\n",
       "<thead>\n",
       "\t<tr><th scope=col>accuracy</th><th scope=col>f1</th><th scope=col>sensitivity</th><th scope=col>specificity</th><th scope=col>precision</th><th scope=col>recall</th></tr>\n",
       "\t<tr><th scope=col>&lt;dbl&gt;</th><th scope=col>&lt;dbl&gt;</th><th scope=col>&lt;dbl&gt;</th><th scope=col>&lt;dbl&gt;</th><th scope=col>&lt;dbl&gt;</th><th scope=col>&lt;dbl&gt;</th></tr>\n",
       "</thead>\n",
       "<tbody>\n",
       "\t<tr><td>0.9833333</td><td>0.975</td><td>0.975</td><td>0.9875</td><td>0.975</td><td>0.975</td></tr>\n",
       "</tbody>\n",
       "</table>\n"
      ],
      "text/latex": [
       "A data.frame: 1 × 6\n",
       "\\begin{tabular}{r|llllll}\n",
       " accuracy & f1 & sensitivity & specificity & precision & recall\\\\\n",
       " <dbl> & <dbl> & <dbl> & <dbl> & <dbl> & <dbl>\\\\\n",
       "\\hline\n",
       "\t 0.9833333 & 0.975 & 0.975 & 0.9875 & 0.975 & 0.975\\\\\n",
       "\\end{tabular}\n"
      ],
      "text/markdown": [
       "\n",
       "A data.frame: 1 × 6\n",
       "\n",
       "| accuracy &lt;dbl&gt; | f1 &lt;dbl&gt; | sensitivity &lt;dbl&gt; | specificity &lt;dbl&gt; | precision &lt;dbl&gt; | recall &lt;dbl&gt; |\n",
       "|---|---|---|---|---|---|\n",
       "| 0.9833333 | 0.975 | 0.975 | 0.9875 | 0.975 | 0.975 |\n",
       "\n"
      ],
      "text/plain": [
       "  accuracy  f1    sensitivity specificity precision recall\n",
       "1 0.9833333 0.975 0.975       0.9875      0.975     0.975 "
      ]
     },
     "metadata": {},
     "output_type": "display_data"
    },
    {
     "data": {
      "text/html": [
       "<table>\n",
       "<caption>A data.frame: 1 × 6</caption>\n",
       "<thead>\n",
       "\t<tr><th scope=col>accuracy</th><th scope=col>f1</th><th scope=col>sensitivity</th><th scope=col>specificity</th><th scope=col>precision</th><th scope=col>recall</th></tr>\n",
       "\t<tr><th scope=col>&lt;dbl&gt;</th><th scope=col>&lt;dbl&gt;</th><th scope=col>&lt;dbl&gt;</th><th scope=col>&lt;dbl&gt;</th><th scope=col>&lt;dbl&gt;</th><th scope=col>&lt;dbl&gt;</th></tr>\n",
       "</thead>\n",
       "<tbody>\n",
       "\t<tr><td>0.9111111</td><td>0.8666667</td><td>0.8666667</td><td>0.9333333</td><td>0.8666667</td><td>0.8666667</td></tr>\n",
       "</tbody>\n",
       "</table>\n"
      ],
      "text/latex": [
       "A data.frame: 1 × 6\n",
       "\\begin{tabular}{r|llllll}\n",
       " accuracy & f1 & sensitivity & specificity & precision & recall\\\\\n",
       " <dbl> & <dbl> & <dbl> & <dbl> & <dbl> & <dbl>\\\\\n",
       "\\hline\n",
       "\t 0.9111111 & 0.8666667 & 0.8666667 & 0.9333333 & 0.8666667 & 0.8666667\\\\\n",
       "\\end{tabular}\n"
      ],
      "text/markdown": [
       "\n",
       "A data.frame: 1 × 6\n",
       "\n",
       "| accuracy &lt;dbl&gt; | f1 &lt;dbl&gt; | sensitivity &lt;dbl&gt; | specificity &lt;dbl&gt; | precision &lt;dbl&gt; | recall &lt;dbl&gt; |\n",
       "|---|---|---|---|---|---|\n",
       "| 0.9111111 | 0.8666667 | 0.8666667 | 0.9333333 | 0.8666667 | 0.8666667 |\n",
       "\n"
      ],
      "text/plain": [
       "  accuracy  f1        sensitivity specificity precision recall   \n",
       "1 0.9111111 0.8666667 0.8666667   0.9333333   0.8666667 0.8666667"
      ]
     },
     "metadata": {},
     "output_type": "display_data"
    },
    {
     "data": {
      "text/plain": [
       "       predictions\n",
       "targets  1  2  3\n",
       "      1  8  0  0\n",
       "      2  0 11  2\n",
       "      3  0  2  7"
      ]
     },
     "metadata": {},
     "output_type": "display_data"
    }
   ],
   "source": [
    "model <- knn_model <-class_knn(iris_train_n$data, \"Species\", k=3)\n",
    "head(model$train$metrics)\n",
    "test <- class_test(model, iris_test_n$data, \"Species\")\n",
    "head(test$metrics)\n",
    "head(test$conf_mat)"
   ]
  },
  {
   "cell_type": "markdown",
   "metadata": {},
   "source": [
    "# Measuring the quality of predictions"
   ]
  },
  {
   "cell_type": "code",
   "execution_count": 156,
   "metadata": {},
   "outputs": [
    {
     "data": {
      "image/png": "[encoded data removed]",
      "text/plain": [
       "plot without title"
      ]
     },
     "metadata": {},
     "output_type": "display_data"
    },
    {
     "data": {
      "image/png": "[encoded data removed]",
      "text/plain": [
       "plot without title"
      ]
     },
     "metadata": {},
     "output_type": "display_data"
    }
   ],
   "source": [
    "plot_size(4, 3)\n",
    "zr_rocr <- compute_rocr(ZeroRule_test$predictions, ZeroRule_test$values)\n",
    "plot(zr_rocr)\n",
    "\n",
    "mlp_nnet_rocr <- compute_rocr(mlp_nnet_test$predictions, ZeroRule_test$values)\n",
    "plot(mlp_nnet_rocr)"
   ]
  },
  {
   "cell_type": "code",
   "execution_count": null,
   "metadata": {
    "collapsed": true
   },
   "outputs": [],
   "source": []
  },
  {
   "cell_type": "code",
   "execution_count": null,
   "metadata": {},
   "outputs": [],
   "source": []
  }
 ],
 "metadata": {
  "kernelspec": {
   "display_name": "R",
   "language": "R",
   "name": "ir"
  },
  "language_info": {
   "codemirror_mode": "r",
   "file_extension": ".r",
   "mimetype": "text/x-r-source",
   "name": "R",
   "pygments_lexer": "r",
   "version": "3.6.0"
  }
 },
 "nbformat": 4,
 "nbformat_minor": 2
}
