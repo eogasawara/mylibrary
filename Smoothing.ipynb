{
 "cells": [
  {
   "cell_type": "code",
   "execution_count": 1,
   "metadata": {},
   "outputs": [],
   "source": [
    "# version 1.5\n",
    "source(\"https://raw.githubusercontent.com/eogasawara/mylibrary/master/myBasic.R\")\n",
    "source(\"https://raw.githubusercontent.com/eogasawara/mylibrary/master/myPreprocessing.R\")"
   ]
  },
  {
   "cell_type": "markdown",
   "metadata": {},
   "source": [
    "## Discretization & smoothing\n",
    "Discretization is the process of transferring continuous functions, models, variables, and equations into discrete counterparts. \n",
    "\n",
    "Smoothing is a technique that creates an approximating function that attempts to capture important patterns in the data while leaving out noise or other fine-scale structures/rapid phenomena.\n",
    "\n",
    "An important part of the discretization/smoothing is to set up bins for proceeding the approximation."
   ]
  },
  {
   "cell_type": "markdown",
   "metadata": {},
   "source": [
    "## general function to evaluate different smoothing technique"
   ]
  },
  {
   "cell_type": "code",
   "execution_count": 2,
   "metadata": {},
   "outputs": [],
   "source": [
    "explore_smoothing <- function(obj, data, attribute) {\n",
    "  obj <- fit(obj, data)\n",
    "  sl.bi <- transform(obj, data)\n",
    "  print(table(sl.bi))\n",
    "  \n",
    "  entro <- smoothing_evaluation(as.factor(names(sl.bi)), attribute)\n",
    "  print(entro$entropy)\n",
    "}"
   ]
  },
  {
   "cell_type": "code",
   "execution_count": 3,
   "metadata": {},
   "outputs": [],
   "source": [
    "iris <- datasets::iris"
   ]
  },
  {
   "cell_type": "code",
   "execution_count": 4,
   "metadata": {},
   "outputs": [
    {
     "name": "stdout",
     "output_type": "stream",
     "text": [
      "sl.bi\n",
      "5.32842105263158 6.73272727272727 \n",
      "              95               55 \n"
     ]
    },
    {
     "name": "stderr",
     "output_type": "stream",
     "text": [
      "Loading required package: dplyr\n",
      "\n",
      "\n",
      "Attaching package: 'dplyr'\n",
      "\n",
      "\n",
      "The following objects are masked from 'package:stats':\n",
      "\n",
      "    filter, lag\n",
      "\n",
      "\n",
      "The following objects are masked from 'package:base':\n",
      "\n",
      "    intersect, setdiff, setequal, union\n",
      "\n",
      "\n"
     ]
    },
    {
     "name": "stdout",
     "output_type": "stream",
     "text": [
      "[1] 1.191734\n"
     ]
    }
   ],
   "source": [
    "explore_smoothing(smoothing_inter(n=2), iris$Sepal.Length, iris$Species)"
   ]
  },
  {
   "cell_type": "code",
   "execution_count": 5,
   "metadata": {},
   "outputs": [
    {
     "name": "stdout",
     "output_type": "stream",
     "text": [
      "sl.bi\n",
      "5.19875    6.58 \n",
      "     80      70 \n",
      "[1] 1.097573\n"
     ]
    }
   ],
   "source": [
    "explore_smoothing(smoothing_freq(n=2), iris$Sepal.Length, iris$Species)"
   ]
  },
  {
   "cell_type": "code",
   "execution_count": 6,
   "metadata": {},
   "outputs": [
    {
     "name": "stdout",
     "output_type": "stream",
     "text": [
      "sl.bi\n",
      "5.22409638554217 6.61044776119403 \n",
      "              83               67 \n",
      "[1] 1.12088\n"
     ]
    }
   ],
   "source": [
    "explore_smoothing(smoothing_cluster(n=2), iris$Sepal.Length, iris$Species)"
   ]
  },
  {
   "cell_type": "markdown",
   "metadata": {},
   "source": [
    "## Optimizing the number of binnings"
   ]
  },
  {
   "cell_type": "code",
   "execution_count": 7,
   "metadata": {},
   "outputs": [],
   "source": [
    "optimize_smoothing <- function(obj, data, attribute) {\n",
    "  obj <- optimize(obj, data, do_plot=TRUE)\n",
    "  explore_smoothing(obj, data, attribute)\n",
    "}"
   ]
  },
  {
   "cell_type": "code",
   "execution_count": 8,
   "metadata": {},
   "outputs": [
    {
     "ename": "ERROR",
     "evalue": "Error in optimize.default(obj, data, do_plot = TRUE): unused arguments (data, do_plot = TRUE)\n",
     "output_type": "error",
     "traceback": [
      "Error in optimize.default(obj, data, do_plot = TRUE): unused arguments (data, do_plot = TRUE)\nTraceback:\n",
      "1. optimize_smoothing(smoothing_inter(n = 20), iris$Sepal.Length, \n .     iris$Species)",
      "2. optimize(obj, data, do_plot = TRUE)   # at line 2 of file <text>"
     ]
    }
   ],
   "source": [
    "optimize_smoothing(smoothing_inter(n=20), iris$Sepal.Length, iris$Species)"
   ]
  },
  {
   "cell_type": "code",
   "execution_count": null,
   "metadata": {},
   "outputs": [],
   "source": [
    "optimize_smoothing(smoothing_freq(n=20), iris$Sepal.Length, iris$Species)"
   ]
  },
  {
   "cell_type": "code",
   "execution_count": null,
   "metadata": {},
   "outputs": [],
   "source": []
  }
 ],
 "metadata": {
  "kernelspec": {
   "display_name": "R",
   "language": "R",
   "name": "ir"
  },
  "language_info": {
   "codemirror_mode": "r",
   "file_extension": ".r",
   "mimetype": "text/x-r-source",
   "name": "R",
   "pygments_lexer": "r",
   "version": "4.0.5"
  }
 },
 "nbformat": 4,
 "nbformat_minor": 2
}
