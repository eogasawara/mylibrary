{
 "cells": [
  {
   "cell_type": "markdown",
   "id": "6d799bb9",
   "metadata": {},
   "source": [
    "Considere dois métodos A e B, onde desejamos comparar os seus desempenhos."
   ]
  },
  {
   "cell_type": "code",
   "execution_count": 1,
   "id": "daa4665c",
   "metadata": {},
   "outputs": [],
   "source": [
    "#dado sintético \n",
    "set.seed(1)\n",
    "trials <- 30\n",
    "MethodA <- rnorm(trials, mean=10, sd = 2)\n",
    "MethodB <- rexp(trials, rate = 1/10)"
   ]
  },
  {
   "cell_type": "code",
   "execution_count": 2,
   "id": "b8ba0127",
   "metadata": {},
   "outputs": [
    {
     "data": {
      "text/html": [
       "<table class=\"dataframe\">\n",
       "<caption>A data.frame: 6 × 2</caption>\n",
       "<thead>\n",
       "\t<tr><th></th><th scope=col>MethodA</th><th scope=col>MethodB</th></tr>\n",
       "\t<tr><th></th><th scope=col>&lt;dbl&gt;</th><th scope=col>&lt;dbl&gt;</th></tr>\n",
       "</thead>\n",
       "<tbody>\n",
       "\t<tr><th scope=row>1</th><td> 8.747092</td><td> 2.035104</td></tr>\n",
       "\t<tr><th scope=row>2</th><td>10.367287</td><td>10.227259</td></tr>\n",
       "\t<tr><th scope=row>3</th><td> 8.328743</td><td> 3.017409</td></tr>\n",
       "\t<tr><th scope=row>4</th><td>13.190562</td><td> 7.252143</td></tr>\n",
       "\t<tr><th scope=row>5</th><td>10.659016</td><td> 7.515427</td></tr>\n",
       "\t<tr><th scope=row>6</th><td> 8.359063</td><td> 2.350275</td></tr>\n",
       "</tbody>\n",
       "</table>\n"
      ],
      "text/latex": [
       "A data.frame: 6 × 2\n",
       "\\begin{tabular}{r|ll}\n",
       "  & MethodA & MethodB\\\\\n",
       "  & <dbl> & <dbl>\\\\\n",
       "\\hline\n",
       "\t1 &  8.747092 &  2.035104\\\\\n",
       "\t2 & 10.367287 & 10.227259\\\\\n",
       "\t3 &  8.328743 &  3.017409\\\\\n",
       "\t4 & 13.190562 &  7.252143\\\\\n",
       "\t5 & 10.659016 &  7.515427\\\\\n",
       "\t6 &  8.359063 &  2.350275\\\\\n",
       "\\end{tabular}\n"
      ],
      "text/markdown": [
       "\n",
       "A data.frame: 6 × 2\n",
       "\n",
       "| <!--/--> | MethodA &lt;dbl&gt; | MethodB &lt;dbl&gt; |\n",
       "|---|---|---|\n",
       "| 1 |  8.747092 |  2.035104 |\n",
       "| 2 | 10.367287 | 10.227259 |\n",
       "| 3 |  8.328743 |  3.017409 |\n",
       "| 4 | 13.190562 |  7.252143 |\n",
       "| 5 | 10.659016 |  7.515427 |\n",
       "| 6 |  8.359063 |  2.350275 |\n",
       "\n"
      ],
      "text/plain": [
       "  MethodA   MethodB  \n",
       "1  8.747092  2.035104\n",
       "2 10.367287 10.227259\n",
       "3  8.328743  3.017409\n",
       "4 13.190562  7.252143\n",
       "5 10.659016  7.515427\n",
       "6  8.359063  2.350275"
      ]
     },
     "metadata": {},
     "output_type": "display_data"
    },
    {
     "data": {
      "image/png": "[encoded data removed]",
      "text/plain": [
       "plot without title"
      ]
     },
     "metadata": {
      "image/png": {
       "height": 420,
       "width": 420
      }
     },
     "output_type": "display_data"
    }
   ],
   "source": [
    "data <- data.frame(MethodA, MethodB)\n",
    "head(data)\n",
    "boxplot(data)"
   ]
  },
  {
   "cell_type": "markdown",
   "id": "57470965",
   "metadata": {},
   "source": [
    "Realizando teste de normalidade usando Shapiro-Wilk\n",
    "\n",
    "Hipotese nula: não há evidência que a distribuição não seja normal (p-value >= 0.05)\n",
    "\n",
    "Hipotese alternativa: a distribuição não é normal (p-value < 0.05)"
   ]
  },
  {
   "cell_type": "code",
   "execution_count": 3,
   "id": "3b687780",
   "metadata": {},
   "outputs": [
    {
     "data": {
      "text/plain": [
       "\n",
       "\tShapiro-Wilk normality test\n",
       "\n",
       "data:  MethodA\n",
       "W = 0.95011, p-value = 0.1703\n"
      ]
     },
     "metadata": {},
     "output_type": "display_data"
    }
   ],
   "source": [
    "shapiro.test(MethodA)"
   ]
  },
  {
   "cell_type": "code",
   "execution_count": 4,
   "id": "5027fa23",
   "metadata": {},
   "outputs": [
    {
     "data": {
      "text/plain": [
       "\n",
       "\tShapiro-Wilk normality test\n",
       "\n",
       "data:  MethodB\n",
       "W = 0.86506, p-value = 0.001303\n"
      ]
     },
     "metadata": {},
     "output_type": "display_data"
    }
   ],
   "source": [
    "shapiro.test(MethodB)"
   ]
  },
  {
   "cell_type": "markdown",
   "id": "0fea7850",
   "metadata": {},
   "source": [
    "Realizando um segundo teste de usando Anderson-Darling"
   ]
  },
  {
   "cell_type": "code",
   "execution_count": 5,
   "id": "8e6641ae",
   "metadata": {},
   "outputs": [],
   "source": [
    "library(nortest)"
   ]
  },
  {
   "cell_type": "code",
   "execution_count": 6,
   "id": "e89a9568",
   "metadata": {},
   "outputs": [
    {
     "data": {
      "text/plain": [
       "\n",
       "\tAnderson-Darling normality test\n",
       "\n",
       "data:  MethodA\n",
       "A = 0.48213, p-value = 0.2142\n"
      ]
     },
     "metadata": {},
     "output_type": "display_data"
    }
   ],
   "source": [
    "ad.test(MethodA)"
   ]
  },
  {
   "cell_type": "code",
   "execution_count": 7,
   "id": "ed92e946",
   "metadata": {},
   "outputs": [
    {
     "data": {
      "text/plain": [
       "\n",
       "\tAnderson-Darling normality test\n",
       "\n",
       "data:  MethodB\n",
       "A = 1.0281, p-value = 0.008948\n"
      ]
     },
     "metadata": {},
     "output_type": "display_data"
    }
   ],
   "source": [
    "ad.test(MethodB)"
   ]
  },
  {
   "cell_type": "markdown",
   "id": "b44a6545",
   "metadata": {},
   "source": [
    "Uma vez não sendo normal, deve-se aplicar o wilcox test.\n",
    "\n",
    "A hipótese nula é que não evidência de diferença entre A e B (p-value >= 0.05)\n",
    "\n",
    "A hipótese alternativa há diferença entre A e B (p-value < 0.05)\n",
    "\n",
    "\n",
    "Novamente há duas situações. \n",
    "\n",
    "Situação #1: A primeira é quando se quer comparar a média de A e B. Neste caso a comparação é das amostras. "
   ]
  },
  {
   "cell_type": "code",
   "execution_count": 8,
   "id": "7aa06cf9",
   "metadata": {},
   "outputs": [
    {
     "data": {
      "text/plain": [
       "\n",
       "\tWilcoxon rank sum test with continuity correction\n",
       "\n",
       "data:  MethodA and MethodB\n",
       "W = 580, p-value = 0.05555\n",
       "alternative hypothesis: true location shift is not equal to 0\n"
      ]
     },
     "metadata": {},
     "output_type": "display_data"
    }
   ],
   "source": [
    "res <- wilcox.test(MethodA, MethodB, paired=FALSE, exact=FALSE)\n",
    "res"
   ]
  },
  {
   "cell_type": "markdown",
   "id": "384ab3e3",
   "metadata": {},
   "source": [
    "Situação #2: Se quer comparar se as medidas individuais de A e B. Neste caso a comparação é pareada. "
   ]
  },
  {
   "cell_type": "code",
   "execution_count": 9,
   "id": "b17a641d",
   "metadata": {},
   "outputs": [
    {
     "data": {
      "text/plain": [
       "\n",
       "\tPaired t-test\n",
       "\n",
       "data:  MethodA and MethodB\n",
       "t = 0.976, df = 29, p-value = 0.3371\n",
       "alternative hypothesis: true mean difference is not equal to 0\n",
       "95 percent confidence interval:\n",
       " -1.303921  3.684384\n",
       "sample estimates:\n",
       "mean difference \n",
       "       1.190231 \n"
      ]
     },
     "metadata": {},
     "output_type": "display_data"
    }
   ],
   "source": [
    "res <- t.test(MethodA, MethodB, paired=TRUE)\n",
    "res"
   ]
  },
  {
   "cell_type": "markdown",
   "id": "f8d0fe8b",
   "metadata": {},
   "source": [
    "Execute este mesmo experimento com menos tentativas (trials) (5, 10)"
   ]
  },
  {
   "cell_type": "code",
   "execution_count": null,
   "id": "f33cc433",
   "metadata": {},
   "outputs": [],
   "source": []
  }
 ],
 "metadata": {
  "kernelspec": {
   "display_name": "R",
   "language": "R",
   "name": "ir"
  },
  "language_info": {
   "codemirror_mode": "r",
   "file_extension": ".r",
   "mimetype": "text/x-r-source",
   "name": "R",
   "pygments_lexer": "r",
   "version": "4.3.1"
  }
 },
 "nbformat": 4,
 "nbformat_minor": 5
}
