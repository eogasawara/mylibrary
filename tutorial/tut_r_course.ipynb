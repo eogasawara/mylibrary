{
 "cells": [
  {
   "cell_type": "markdown",
   "id": "8d42fc52",
   "metadata": {},
   "source": [
    "#### Installation of R packages"
   ]
  },
  {
   "cell_type": "code",
   "execution_count": 77,
   "id": "52ac0f54",
   "metadata": {},
   "outputs": [],
   "source": [
    "#install.packages(\"ISwR\")"
   ]
  },
  {
   "cell_type": "markdown",
   "id": "3a957ba3",
   "metadata": {},
   "source": [
    "#### Package loading"
   ]
  },
  {
   "cell_type": "code",
   "execution_count": 78,
   "id": "de33e724",
   "metadata": {},
   "outputs": [],
   "source": [
    "library(ISwR)"
   ]
  },
  {
   "cell_type": "markdown",
   "id": "99bcc6a7",
   "metadata": {},
   "source": [
    "#### Variable definition and assignment"
   ]
  },
  {
   "cell_type": "code",
   "execution_count": 79,
   "id": "1d0c4a11",
   "metadata": {},
   "outputs": [],
   "source": [
    "weight <- 60\n",
    "height = 1.75\n",
    "subject <- \"A\"\n",
    "healthy <- TRUE"
   ]
  },
  {
   "cell_type": "markdown",
   "id": "bcee452b",
   "metadata": {},
   "source": [
    "#### Variable evaluation"
   ]
  },
  {
   "cell_type": "code",
   "execution_count": 80,
   "id": "ad938581",
   "metadata": {},
   "outputs": [
    {
     "data": {
      "text/html": [
       "60"
      ],
      "text/latex": [
       "60"
      ],
      "text/markdown": [
       "60"
      ],
      "text/plain": [
       "[1] 60"
      ]
     },
     "metadata": {},
     "output_type": "display_data"
    }
   ],
   "source": [
    "weight"
   ]
  },
  {
   "cell_type": "markdown",
   "id": "57dd208e",
   "metadata": {},
   "source": [
    "#### Functions for type checking"
   ]
  },
  {
   "cell_type": "code",
   "execution_count": 81,
   "id": "1778ae3b",
   "metadata": {},
   "outputs": [
    {
     "data": {
      "text/html": [
       "TRUE"
      ],
      "text/latex": [
       "TRUE"
      ],
      "text/markdown": [
       "TRUE"
      ],
      "text/plain": [
       "[1] TRUE"
      ]
     },
     "metadata": {},
     "output_type": "display_data"
    },
    {
     "data": {
      "text/html": [
       "TRUE"
      ],
      "text/latex": [
       "TRUE"
      ],
      "text/markdown": [
       "TRUE"
      ],
      "text/plain": [
       "[1] TRUE"
      ]
     },
     "metadata": {},
     "output_type": "display_data"
    },
    {
     "data": {
      "text/html": [
       "FALSE"
      ],
      "text/latex": [
       "FALSE"
      ],
      "text/markdown": [
       "FALSE"
      ],
      "text/plain": [
       "[1] FALSE"
      ]
     },
     "metadata": {},
     "output_type": "display_data"
    },
    {
     "data": {
      "text/html": [
       "TRUE"
      ],
      "text/latex": [
       "TRUE"
      ],
      "text/markdown": [
       "TRUE"
      ],
      "text/plain": [
       "[1] TRUE"
      ]
     },
     "metadata": {},
     "output_type": "display_data"
    }
   ],
   "source": [
    "is.numeric(weight) # variable \n",
    "is.double(weight)\n",
    "is.integer(weight)\n",
    "is.character(subject)"
   ]
  },
  {
   "cell_type": "markdown",
   "id": "5dcfe56a",
   "metadata": {},
   "source": [
    "#### Functions for variable conversion"
   ]
  },
  {
   "cell_type": "code",
   "execution_count": 82,
   "id": "9de5f0fd",
   "metadata": {},
   "outputs": [
    {
     "data": {
      "text/html": [
       "TRUE"
      ],
      "text/latex": [
       "TRUE"
      ],
      "text/markdown": [
       "TRUE"
      ],
      "text/plain": [
       "[1] TRUE"
      ]
     },
     "metadata": {},
     "output_type": "display_data"
    }
   ],
   "source": [
    "weight <- as.integer(weight)\n",
    "is.integer(weight)"
   ]
  },
  {
   "cell_type": "markdown",
   "id": "ecb65b7e",
   "metadata": {},
   "source": [
    "#### Computing the body mass index (BMI) from the weight and height"
   ]
  },
  {
   "cell_type": "code",
   "execution_count": 83,
   "id": "5bb310e3",
   "metadata": {},
   "outputs": [
    {
     "data": {
      "text/html": [
       "19.5918367346939"
      ],
      "text/latex": [
       "19.5918367346939"
      ],
      "text/markdown": [
       "19.5918367346939"
      ],
      "text/plain": [
       "[1] 19.59184"
      ]
     },
     "metadata": {},
     "output_type": "display_data"
    }
   ],
   "source": [
    "#Body mass index (BMI)\n",
    "bmi <- weight/height^2 \n",
    "bmi "
   ]
  },
  {
   "cell_type": "markdown",
   "id": "1d6b02ea",
   "metadata": {},
   "source": [
    "#### Functions for string manipulation"
   ]
  },
  {
   "cell_type": "code",
   "execution_count": 84,
   "id": "2a5c0c64",
   "metadata": {},
   "outputs": [
    {
     "name": "stdout",
     "output_type": "stream",
     "text": [
      "[1] \"19.6\"\n"
     ]
    }
   ],
   "source": [
    "message <- sprintf(\"%.1f\", bmi)\n",
    "print(message)"
   ]
  },
  {
   "cell_type": "markdown",
   "id": "f465aa65",
   "metadata": {},
   "source": [
    "#### Vector definition"
   ]
  },
  {
   "cell_type": "code",
   "execution_count": 85,
   "id": "f5792a41",
   "metadata": {},
   "outputs": [],
   "source": [
    "weight <- c(60, 72, 57, 90, 95, 72) \n",
    "height <- c(1.75, 1.80, 1.65, 1.90, 1.74, 1.91)\n",
    "subject <- c(\"A\", \"B\", \"C\", \"D\", \"E\", \"F\")\n"
   ]
  },
  {
   "cell_type": "markdown",
   "id": "1c86ae38",
   "metadata": {},
   "source": [
    "#### Vector evaluation"
   ]
  },
  {
   "cell_type": "code",
   "execution_count": 86,
   "id": "ea73ae27",
   "metadata": {},
   "outputs": [
    {
     "data": {
      "text/html": [
       "<style>\n",
       ".list-inline {list-style: none; margin:0; padding: 0}\n",
       ".list-inline>li {display: inline-block}\n",
       ".list-inline>li:not(:last-child)::after {content: \"\\00b7\"; padding: 0 .5ex}\n",
       "</style>\n",
       "<ol class=list-inline><li>60</li><li>72</li><li>57</li><li>90</li><li>95</li><li>72</li></ol>\n"
      ],
      "text/latex": [
       "\\begin{enumerate*}\n",
       "\\item 60\n",
       "\\item 72\n",
       "\\item 57\n",
       "\\item 90\n",
       "\\item 95\n",
       "\\item 72\n",
       "\\end{enumerate*}\n"
      ],
      "text/markdown": [
       "1. 60\n",
       "2. 72\n",
       "3. 57\n",
       "4. 90\n",
       "5. 95\n",
       "6. 72\n",
       "\n",
       "\n"
      ],
      "text/plain": [
       "[1] 60 72 57 90 95 72"
      ]
     },
     "metadata": {},
     "output_type": "display_data"
    },
    {
     "data": {
      "text/html": [
       "<style>\n",
       ".list-inline {list-style: none; margin:0; padding: 0}\n",
       ".list-inline>li {display: inline-block}\n",
       ".list-inline>li:not(:last-child)::after {content: \"\\00b7\"; padding: 0 .5ex}\n",
       "</style>\n",
       "<ol class=list-inline><li>1.75</li><li>1.8</li><li>1.65</li><li>1.9</li><li>1.74</li><li>1.91</li></ol>\n"
      ],
      "text/latex": [
       "\\begin{enumerate*}\n",
       "\\item 1.75\n",
       "\\item 1.8\n",
       "\\item 1.65\n",
       "\\item 1.9\n",
       "\\item 1.74\n",
       "\\item 1.91\n",
       "\\end{enumerate*}\n"
      ],
      "text/markdown": [
       "1. 1.75\n",
       "2. 1.8\n",
       "3. 1.65\n",
       "4. 1.9\n",
       "5. 1.74\n",
       "6. 1.91\n",
       "\n",
       "\n"
      ],
      "text/plain": [
       "[1] 1.75 1.80 1.65 1.90 1.74 1.91"
      ]
     },
     "metadata": {},
     "output_type": "display_data"
    },
    {
     "data": {
      "text/html": [
       "<style>\n",
       ".list-inline {list-style: none; margin:0; padding: 0}\n",
       ".list-inline>li {display: inline-block}\n",
       ".list-inline>li:not(:last-child)::after {content: \"\\00b7\"; padding: 0 .5ex}\n",
       "</style>\n",
       "<ol class=list-inline><li>'A'</li><li>'B'</li><li>'C'</li><li>'D'</li><li>'E'</li><li>'F'</li></ol>\n"
      ],
      "text/latex": [
       "\\begin{enumerate*}\n",
       "\\item 'A'\n",
       "\\item 'B'\n",
       "\\item 'C'\n",
       "\\item 'D'\n",
       "\\item 'E'\n",
       "\\item 'F'\n",
       "\\end{enumerate*}\n"
      ],
      "text/markdown": [
       "1. 'A'\n",
       "2. 'B'\n",
       "3. 'C'\n",
       "4. 'D'\n",
       "5. 'E'\n",
       "6. 'F'\n",
       "\n",
       "\n"
      ],
      "text/plain": [
       "[1] \"A\" \"B\" \"C\" \"D\" \"E\" \"F\""
      ]
     },
     "metadata": {},
     "output_type": "display_data"
    }
   ],
   "source": [
    "weight\n",
    "height\n",
    "subject"
   ]
  },
  {
   "cell_type": "markdown",
   "id": "5502a330",
   "metadata": {},
   "source": [
    "#### Creating a vector with a particular size"
   ]
  },
  {
   "cell_type": "code",
   "execution_count": 87,
   "id": "4e59d217",
   "metadata": {},
   "outputs": [
    {
     "data": {
      "text/html": [
       "<style>\n",
       ".list-inline {list-style: none; margin:0; padding: 0}\n",
       ".list-inline>li {display: inline-block}\n",
       ".list-inline>li:not(:last-child)::after {content: \"\\00b7\"; padding: 0 .5ex}\n",
       "</style>\n",
       "<ol class=list-inline><li>0</li><li>0</li><li>0</li><li>0</li><li>0</li><li>0</li><li>0</li><li>0</li><li>0</li><li>0</li></ol>\n"
      ],
      "text/latex": [
       "\\begin{enumerate*}\n",
       "\\item 0\n",
       "\\item 0\n",
       "\\item 0\n",
       "\\item 0\n",
       "\\item 0\n",
       "\\item 0\n",
       "\\item 0\n",
       "\\item 0\n",
       "\\item 0\n",
       "\\item 0\n",
       "\\end{enumerate*}\n"
      ],
      "text/markdown": [
       "1. 0\n",
       "2. 0\n",
       "3. 0\n",
       "4. 0\n",
       "5. 0\n",
       "6. 0\n",
       "7. 0\n",
       "8. 0\n",
       "9. 0\n",
       "10. 0\n",
       "\n",
       "\n"
      ],
      "text/plain": [
       " [1] 0 0 0 0 0 0 0 0 0 0"
      ]
     },
     "metadata": {},
     "output_type": "display_data"
    }
   ],
   "source": [
    "vec <- rep(0, 10)\n",
    "vec"
   ]
  },
  {
   "cell_type": "markdown",
   "id": "6689bea8",
   "metadata": {},
   "source": [
    "#### Vector length"
   ]
  },
  {
   "cell_type": "code",
   "execution_count": 88,
   "id": "8b9a291b",
   "metadata": {},
   "outputs": [
    {
     "data": {
      "text/html": [
       "6"
      ],
      "text/latex": [
       "6"
      ],
      "text/markdown": [
       "6"
      ],
      "text/plain": [
       "[1] 6"
      ]
     },
     "metadata": {},
     "output_type": "display_data"
    }
   ],
   "source": [
    "length(weight)\n"
   ]
  },
  {
   "cell_type": "markdown",
   "id": "e2bfeacd",
   "metadata": {},
   "source": [
    "#### Vector indexes: from one to the length of the vector"
   ]
  },
  {
   "cell_type": "code",
   "execution_count": 89,
   "id": "be37ba67",
   "metadata": {},
   "outputs": [
    {
     "data": {
      "text/html": [
       "60"
      ],
      "text/latex": [
       "60"
      ],
      "text/markdown": [
       "60"
      ],
      "text/plain": [
       "[1] 60"
      ]
     },
     "metadata": {},
     "output_type": "display_data"
    },
    {
     "data": {
      "text/html": [
       "72"
      ],
      "text/latex": [
       "72"
      ],
      "text/markdown": [
       "72"
      ],
      "text/plain": [
       "[1] 72"
      ]
     },
     "metadata": {},
     "output_type": "display_data"
    }
   ],
   "source": [
    "weight[1]\n",
    "weight[length(weight)]"
   ]
  },
  {
   "cell_type": "markdown",
   "id": "8e052e4d",
   "metadata": {},
   "source": [
    "#### Iteration: for loop\n",
    "from one to the length of weight"
   ]
  },
  {
   "cell_type": "code",
   "execution_count": 90,
   "id": "d89d1ae9",
   "metadata": {},
   "outputs": [],
   "source": [
    "bmi <- 0\n",
    "for (i in 1:length(weight)) {\n",
    "  bmi[i] <- weight[i]/height[i]^2\n",
    "}\n"
   ]
  },
  {
   "cell_type": "markdown",
   "id": "44062e04",
   "metadata": {},
   "source": [
    "evaluation of the bmi vector"
   ]
  },
  {
   "cell_type": "code",
   "execution_count": 91,
   "id": "3bc6e592",
   "metadata": {},
   "outputs": [
    {
     "data": {
      "text/html": [
       "<style>\n",
       ".list-inline {list-style: none; margin:0; padding: 0}\n",
       ".list-inline>li {display: inline-block}\n",
       ".list-inline>li:not(:last-child)::after {content: \"\\00b7\"; padding: 0 .5ex}\n",
       "</style>\n",
       "<ol class=list-inline><li>19.5918367346939</li><li>22.2222222222222</li><li>20.9366391184573</li><li>24.9307479224377</li><li>31.3779891663364</li><li>19.7363010882377</li></ol>\n"
      ],
      "text/latex": [
       "\\begin{enumerate*}\n",
       "\\item 19.5918367346939\n",
       "\\item 22.2222222222222\n",
       "\\item 20.9366391184573\n",
       "\\item 24.9307479224377\n",
       "\\item 31.3779891663364\n",
       "\\item 19.7363010882377\n",
       "\\end{enumerate*}\n"
      ],
      "text/markdown": [
       "1. 19.5918367346939\n",
       "2. 22.2222222222222\n",
       "3. 20.9366391184573\n",
       "4. 24.9307479224377\n",
       "5. 31.3779891663364\n",
       "6. 19.7363010882377\n",
       "\n",
       "\n"
      ],
      "text/plain": [
       "[1] 19.59184 22.22222 20.93664 24.93075 31.37799 19.73630"
      ]
     },
     "metadata": {},
     "output_type": "display_data"
    }
   ],
   "source": [
    "bmi"
   ]
  },
  {
   "cell_type": "markdown",
   "id": "78af2d5a",
   "metadata": {},
   "source": [
    "#### Iteration: while loop\n",
    "run while i is below or equal to the length of weight"
   ]
  },
  {
   "cell_type": "code",
   "execution_count": 92,
   "id": "708de5df",
   "metadata": {},
   "outputs": [],
   "source": [
    "bmi <- 0\n",
    "i <- 1\n",
    "while (i <= length(weight)) {\n",
    "  bmi[i] <- weight[i]/height[i]^2\n",
    "  i <- i + 1\n",
    "}\n"
   ]
  },
  {
   "cell_type": "code",
   "execution_count": 93,
   "id": "7449e07e",
   "metadata": {},
   "outputs": [
    {
     "data": {
      "text/html": [
       "<style>\n",
       ".list-inline {list-style: none; margin:0; padding: 0}\n",
       ".list-inline>li {display: inline-block}\n",
       ".list-inline>li:not(:last-child)::after {content: \"\\00b7\"; padding: 0 .5ex}\n",
       "</style>\n",
       "<ol class=list-inline><li>19.5918367346939</li><li>22.2222222222222</li><li>20.9366391184573</li><li>24.9307479224377</li><li>31.3779891663364</li><li>19.7363010882377</li></ol>\n"
      ],
      "text/latex": [
       "\\begin{enumerate*}\n",
       "\\item 19.5918367346939\n",
       "\\item 22.2222222222222\n",
       "\\item 20.9366391184573\n",
       "\\item 24.9307479224377\n",
       "\\item 31.3779891663364\n",
       "\\item 19.7363010882377\n",
       "\\end{enumerate*}\n"
      ],
      "text/markdown": [
       "1. 19.5918367346939\n",
       "2. 22.2222222222222\n",
       "3. 20.9366391184573\n",
       "4. 24.9307479224377\n",
       "5. 31.3779891663364\n",
       "6. 19.7363010882377\n",
       "\n",
       "\n"
      ],
      "text/plain": [
       "[1] 19.59184 22.22222 20.93664 24.93075 31.37799 19.73630"
      ]
     },
     "metadata": {},
     "output_type": "display_data"
    }
   ],
   "source": [
    "bmi"
   ]
  },
  {
   "cell_type": "markdown",
   "id": "9394fcf5",
   "metadata": {},
   "source": [
    "#### Remove a variable"
   ]
  },
  {
   "cell_type": "code",
   "execution_count": 94,
   "id": "2c181a87",
   "metadata": {},
   "outputs": [
    {
     "data": {
      "text/html": [
       "FALSE"
      ],
      "text/latex": [
       "FALSE"
      ],
      "text/markdown": [
       "FALSE"
      ],
      "text/plain": [
       "[1] FALSE"
      ]
     },
     "metadata": {},
     "output_type": "display_data"
    }
   ],
   "source": [
    "rm(bmi)\n",
    "exists(\"bmi\")"
   ]
  },
  {
   "cell_type": "markdown",
   "id": "6203ac32",
   "metadata": {},
   "source": [
    "#### Right way of manipulating vectors: assigning at once"
   ]
  },
  {
   "cell_type": "code",
   "execution_count": 95,
   "id": "6e6712a2",
   "metadata": {},
   "outputs": [
    {
     "data": {
      "text/html": [
       "<style>\n",
       ".list-inline {list-style: none; margin:0; padding: 0}\n",
       ".list-inline>li {display: inline-block}\n",
       ".list-inline>li:not(:last-child)::after {content: \"\\00b7\"; padding: 0 .5ex}\n",
       "</style>\n",
       "<ol class=list-inline><li>19.5918367346939</li><li>22.2222222222222</li><li>20.9366391184573</li><li>24.9307479224377</li><li>31.3779891663364</li><li>19.7363010882377</li></ol>\n"
      ],
      "text/latex": [
       "\\begin{enumerate*}\n",
       "\\item 19.5918367346939\n",
       "\\item 22.2222222222222\n",
       "\\item 20.9366391184573\n",
       "\\item 24.9307479224377\n",
       "\\item 31.3779891663364\n",
       "\\item 19.7363010882377\n",
       "\\end{enumerate*}\n"
      ],
      "text/markdown": [
       "1. 19.5918367346939\n",
       "2. 22.2222222222222\n",
       "3. 20.9366391184573\n",
       "4. 24.9307479224377\n",
       "5. 31.3779891663364\n",
       "6. 19.7363010882377\n",
       "\n",
       "\n"
      ],
      "text/plain": [
       "[1] 19.59184 22.22222 20.93664 24.93075 31.37799 19.73630"
      ]
     },
     "metadata": {},
     "output_type": "display_data"
    }
   ],
   "source": [
    "bmi <- weight/height^2 \n",
    "bmi "
   ]
  },
  {
   "cell_type": "markdown",
   "id": "f654b0ff",
   "metadata": {},
   "source": [
    "#### Creating a function\n",
    "name <- function(parameters) { body }"
   ]
  },
  {
   "cell_type": "code",
   "execution_count": 96,
   "id": "682911c9",
   "metadata": {},
   "outputs": [],
   "source": [
    "compute_bmi <- function(weight, height) {\n",
    "  bmi <- weight/height^2 \n",
    "  return(bmi)\n",
    "}"
   ]
  },
  {
   "cell_type": "markdown",
   "id": "4cd72edd",
   "metadata": {},
   "source": [
    "#### Using a function with scalars"
   ]
  },
  {
   "cell_type": "code",
   "execution_count": 97,
   "id": "abd58d44",
   "metadata": {},
   "outputs": [
    {
     "data": {
      "text/html": [
       "19.5918367346939"
      ],
      "text/latex": [
       "19.5918367346939"
      ],
      "text/markdown": [
       "19.5918367346939"
      ],
      "text/plain": [
       "[1] 19.59184"
      ]
     },
     "metadata": {},
     "output_type": "display_data"
    }
   ],
   "source": [
    "\n",
    "bmi <- compute_bmi(60, 1.75)\n",
    "bmi\n"
   ]
  },
  {
   "cell_type": "markdown",
   "id": "9df8b472",
   "metadata": {},
   "source": [
    "#### Using the same function with vectors"
   ]
  },
  {
   "cell_type": "code",
   "execution_count": 98,
   "id": "90db70cb",
   "metadata": {},
   "outputs": [
    {
     "data": {
      "text/html": [
       "<style>\n",
       ".list-inline {list-style: none; margin:0; padding: 0}\n",
       ".list-inline>li {display: inline-block}\n",
       ".list-inline>li:not(:last-child)::after {content: \"\\00b7\"; padding: 0 .5ex}\n",
       "</style>\n",
       "<ol class=list-inline><li>19.5918367346939</li><li>22.2222222222222</li><li>20.9366391184573</li><li>24.9307479224377</li><li>31.3779891663364</li><li>19.7363010882377</li></ol>\n"
      ],
      "text/latex": [
       "\\begin{enumerate*}\n",
       "\\item 19.5918367346939\n",
       "\\item 22.2222222222222\n",
       "\\item 20.9366391184573\n",
       "\\item 24.9307479224377\n",
       "\\item 31.3779891663364\n",
       "\\item 19.7363010882377\n",
       "\\end{enumerate*}\n"
      ],
      "text/markdown": [
       "1. 19.5918367346939\n",
       "2. 22.2222222222222\n",
       "3. 20.9366391184573\n",
       "4. 24.9307479224377\n",
       "5. 31.3779891663364\n",
       "6. 19.7363010882377\n",
       "\n",
       "\n"
      ],
      "text/plain": [
       "[1] 19.59184 22.22222 20.93664 24.93075 31.37799 19.73630"
      ]
     },
     "metadata": {},
     "output_type": "display_data"
    }
   ],
   "source": [
    "bmi <- compute_bmi(weight, height)\n",
    "bmi"
   ]
  },
  {
   "cell_type": "markdown",
   "id": "c7e11f53",
   "metadata": {},
   "source": [
    "#### Example of a function to compute the average\n",
    "(iterating in all elements of the vector)"
   ]
  },
  {
   "cell_type": "code",
   "execution_count": 99,
   "id": "67374bc5",
   "metadata": {},
   "outputs": [],
   "source": [
    "average <- function(vec) {\n",
    "    s <- 0\n",
    "    n <- length(vec)\n",
    "    for (x in vec) {\n",
    "      s <- s + x  \n",
    "    }\n",
    "    return(s/n)\n",
    "}"
   ]
  },
  {
   "cell_type": "markdown",
   "id": "b683d41d",
   "metadata": {},
   "source": [
    "invoking the function"
   ]
  },
  {
   "cell_type": "code",
   "execution_count": 100,
   "id": "8af439bb",
   "metadata": {},
   "outputs": [
    {
     "data": {
      "text/html": [
       "23.1326227087309"
      ],
      "text/latex": [
       "23.1326227087309"
      ],
      "text/markdown": [
       "23.1326227087309"
      ],
      "text/plain": [
       "[1] 23.13262"
      ]
     },
     "metadata": {},
     "output_type": "display_data"
    }
   ],
   "source": [
    "avg_bmi <- average(bmi)\n",
    "avg_bmi"
   ]
  },
  {
   "cell_type": "markdown",
   "id": "7925f58c",
   "metadata": {},
   "source": [
    "#### Example of a function to compute the average\n",
    "(manipulating vectors at once)"
   ]
  },
  {
   "cell_type": "code",
   "execution_count": 101,
   "id": "d81ade80",
   "metadata": {},
   "outputs": [],
   "source": [
    "average <- function(vec) {\n",
    "    s <- sum(vec)\n",
    "    n <- length(vec)\n",
    "    return(s/n)\n",
    "}"
   ]
  },
  {
   "cell_type": "markdown",
   "id": "e85fe370",
   "metadata": {},
   "source": [
    "invoking the function"
   ]
  },
  {
   "cell_type": "code",
   "execution_count": 102,
   "id": "acd8835e",
   "metadata": {},
   "outputs": [
    {
     "data": {
      "text/html": [
       "23.1326227087309"
      ],
      "text/latex": [
       "23.1326227087309"
      ],
      "text/markdown": [
       "23.1326227087309"
      ],
      "text/plain": [
       "[1] 23.13262"
      ]
     },
     "metadata": {},
     "output_type": "display_data"
    }
   ],
   "source": [
    "avg_bmi <- average(bmi)\n",
    "avg_bmi"
   ]
  },
  {
   "cell_type": "markdown",
   "id": "29d0264b",
   "metadata": {},
   "source": [
    "#### Average function using mean function\n",
    "Major statistical functions are available in R"
   ]
  },
  {
   "cell_type": "code",
   "execution_count": 103,
   "id": "f46e574c",
   "metadata": {},
   "outputs": [],
   "source": [
    "average <- function(vec) {\n",
    "    return(mean(vec))\n",
    "}"
   ]
  },
  {
   "cell_type": "markdown",
   "id": "0a6609d2",
   "metadata": {},
   "source": [
    "invoking the function"
   ]
  },
  {
   "cell_type": "code",
   "execution_count": 104,
   "id": "82116583",
   "metadata": {},
   "outputs": [
    {
     "data": {
      "text/html": [
       "23.1326227087309"
      ],
      "text/latex": [
       "23.1326227087309"
      ],
      "text/markdown": [
       "23.1326227087309"
      ],
      "text/plain": [
       "[1] 23.13262"
      ]
     },
     "metadata": {},
     "output_type": "display_data"
    }
   ],
   "source": [
    "avg_bmi <- average(bmi)\n",
    "avg_bmi"
   ]
  },
  {
   "cell_type": "markdown",
   "id": "cd0eded4",
   "metadata": {},
   "source": [
    "#### Working with vectors with NA\n",
    "Operations with NA lead to NA."
   ]
  },
  {
   "cell_type": "code",
   "execution_count": 105,
   "id": "a76dcffa",
   "metadata": {},
   "outputs": [
    {
     "data": {
      "text/html": [
       "&lt;NA&gt;"
      ],
      "text/latex": [
       "<NA>"
      ],
      "text/markdown": [
       "&lt;NA&gt;"
      ],
      "text/plain": [
       "[1] NA"
      ]
     },
     "metadata": {},
     "output_type": "display_data"
    }
   ],
   "source": [
    "x <- c(10, NA, 13)\n",
    "y <- average(x)\n",
    "y"
   ]
  },
  {
   "cell_type": "markdown",
   "id": "ad2e1300",
   "metadata": {},
   "source": [
    "#### addressing NA with na.rm=TRUE"
   ]
  },
  {
   "cell_type": "code",
   "execution_count": 106,
   "id": "38a57461",
   "metadata": {},
   "outputs": [],
   "source": [
    "average <- function(vec) {\n",
    "    return(mean(vec, na.rm=TRUE))\n",
    "}"
   ]
  },
  {
   "cell_type": "code",
   "execution_count": 107,
   "id": "6fc66146",
   "metadata": {},
   "outputs": [
    {
     "data": {
      "text/html": [
       "11.5"
      ],
      "text/latex": [
       "11.5"
      ],
      "text/markdown": [
       "11.5"
      ],
      "text/plain": [
       "[1] 11.5"
      ]
     },
     "metadata": {},
     "output_type": "display_data"
    }
   ],
   "source": [
    "x <- c(10, NA, 13)\n",
    "y <- average(x)\n",
    "y"
   ]
  },
  {
   "cell_type": "markdown",
   "id": "5143eaa8",
   "metadata": {},
   "source": [
    "#### Plotting graphics\n",
    "scatter plots"
   ]
  },
  {
   "cell_type": "code",
   "execution_count": 108,
   "id": "5bc25389",
   "metadata": {},
   "outputs": [
    {
     "data": {
      "image/png": "[encoded data removed]",
      "text/plain": [
       "plot without title"
      ]
     },
     "metadata": {
      "image/png": {
       "height": 420,
       "width": 420
      }
     },
     "output_type": "display_data"
    }
   ],
   "source": [
    "plot(height, weight)"
   ]
  },
  {
   "cell_type": "markdown",
   "id": "f6c2f13d",
   "metadata": {},
   "source": [
    "#### Most functions contain many default parameters"
   ]
  },
  {
   "cell_type": "code",
   "execution_count": 109,
   "id": "de2fc532",
   "metadata": {},
   "outputs": [
    {
     "data": {
      "image/png": "[encoded data removed]",
      "text/plain": [
       "plot without title"
      ]
     },
     "metadata": {
      "image/png": {
       "height": 420,
       "width": 420
      }
     },
     "output_type": "display_data"
    }
   ],
   "source": [
    "plot(height, weight, pch=2)"
   ]
  },
  {
   "cell_type": "markdown",
   "id": "3beca799",
   "metadata": {},
   "source": [
    "#### Default function arguments can be shown with args"
   ]
  },
  {
   "cell_type": "code",
   "execution_count": 110,
   "id": "a03fe7dc",
   "metadata": {},
   "outputs": [
    {
     "data": {
      "text/html": [
       "<pre class=language-r><code>function (x, y = NULL, type = \"p\", xlim = NULL, ylim = NULL, \n",
       "<span style=white-space:pre-wrap>    log = \"\", main = NULL, sub = NULL, xlab = NULL, ylab = NULL, </span>\n",
       "<span style=white-space:pre-wrap>    ann = par(\"ann\"), axes = TRUE, frame.plot = axes, panel.first = NULL, </span>\n",
       "<span style=white-space:pre-wrap>    panel.last = NULL, asp = NA, xgap.axis = NA, ygap.axis = NA, </span>\n",
       "<span style=white-space:pre-wrap>    ...) </span>\n",
       "NULL</code></pre>"
      ],
      "text/latex": [
       "\\begin{minted}{r}\n",
       "function (x, y = NULL, type = \"p\", xlim = NULL, ylim = NULL, \n",
       "    log = \"\", main = NULL, sub = NULL, xlab = NULL, ylab = NULL, \n",
       "    ann = par(\"ann\"), axes = TRUE, frame.plot = axes, panel.first = NULL, \n",
       "    panel.last = NULL, asp = NA, xgap.axis = NA, ygap.axis = NA, \n",
       "    ...) \n",
       "NULL\n",
       "\\end{minted}"
      ],
      "text/markdown": [
       "```r\n",
       "function (x, y = NULL, type = \"p\", xlim = NULL, ylim = NULL, \n",
       "    log = \"\", main = NULL, sub = NULL, xlab = NULL, ylab = NULL, \n",
       "    ann = par(\"ann\"), axes = TRUE, frame.plot = axes, panel.first = NULL, \n",
       "    panel.last = NULL, asp = NA, xgap.axis = NA, ygap.axis = NA, \n",
       "    ...) \n",
       "NULL\n",
       "```"
      ],
      "text/plain": [
       "function (x, y = NULL, type = \"p\", xlim = NULL, ylim = NULL, \n",
       "    log = \"\", main = NULL, sub = NULL, xlab = NULL, ylab = NULL, \n",
       "    ann = par(\"ann\"), axes = TRUE, frame.plot = axes, panel.first = NULL, \n",
       "    panel.last = NULL, asp = NA, xgap.axis = NA, ygap.axis = NA, \n",
       "    ...) \n",
       "NULL"
      ]
     },
     "metadata": {},
     "output_type": "display_data"
    }
   ],
   "source": [
    "args(plot.default)"
   ]
  },
  {
   "cell_type": "markdown",
   "id": "87d4c7ee",
   "metadata": {},
   "source": [
    "#### All functions in R that belongs to packages have help with examples"
   ]
  },
  {
   "cell_type": "code",
   "execution_count": 111,
   "id": "6226b10f",
   "metadata": {},
   "outputs": [],
   "source": [
    "?base::plot"
   ]
  },
  {
   "cell_type": "markdown",
   "id": "8a6491dd",
   "metadata": {},
   "source": [
    "#### Canvas for plotting is still active until a new plot"
   ]
  },
  {
   "cell_type": "code",
   "execution_count": 112,
   "id": "c37b7038",
   "metadata": {},
   "outputs": [
    {
     "data": {
      "image/png": "[encoded data removed]",
      "text/plain": [
       "plot without title"
      ]
     },
     "metadata": {
      "image/png": {
       "height": 420,
       "width": 420
      }
     },
     "output_type": "display_data"
    }
   ],
   "source": [
    "plot(height, weight)\n",
    "hh = c(1.65, 1.70, 1.75, 1.80, 1.85, 1.90)\n",
    "lines(hh, 22.5 * hh^2)"
   ]
  },
  {
   "cell_type": "markdown",
   "id": "caf65b7c",
   "metadata": {},
   "source": [
    "#### Factors\n",
    "Factors are used to handle categorical data."
   ]
  },
  {
   "cell_type": "code",
   "execution_count": 113,
   "id": "38fa7999",
   "metadata": {},
   "outputs": [
    {
     "data": {
      "text/html": [
       "<style>\n",
       ".list-inline {list-style: none; margin:0; padding: 0}\n",
       ".list-inline>li {display: inline-block}\n",
       ".list-inline>li:not(:last-child)::after {content: \"\\00b7\"; padding: 0 .5ex}\n",
       "</style>\n",
       "<ol class=list-inline><li>0</li><li>3</li><li>2</li><li>2</li><li>1</li></ol>\n",
       "\n",
       "<details>\n",
       "\t<summary style=display:list-item;cursor:pointer>\n",
       "\t\t<strong>Levels</strong>:\n",
       "\t</summary>\n",
       "\t<style>\n",
       "\t.list-inline {list-style: none; margin:0; padding: 0}\n",
       "\t.list-inline>li {display: inline-block}\n",
       "\t.list-inline>li:not(:last-child)::after {content: \"\\00b7\"; padding: 0 .5ex}\n",
       "\t</style>\n",
       "\t<ol class=list-inline><li>'0'</li><li>'1'</li><li>'2'</li><li>'3'</li></ol>\n",
       "</details>"
      ],
      "text/latex": [
       "\\begin{enumerate*}\n",
       "\\item 0\n",
       "\\item 3\n",
       "\\item 2\n",
       "\\item 2\n",
       "\\item 1\n",
       "\\end{enumerate*}\n",
       "\n",
       "\\emph{Levels}: \\begin{enumerate*}\n",
       "\\item '0'\n",
       "\\item '1'\n",
       "\\item '2'\n",
       "\\item '3'\n",
       "\\end{enumerate*}\n"
      ],
      "text/markdown": [
       "1. 0\n",
       "2. 3\n",
       "3. 2\n",
       "4. 2\n",
       "5. 1\n",
       "\n",
       "\n",
       "\n",
       "**Levels**: 1. '0'\n",
       "2. '1'\n",
       "3. '2'\n",
       "4. '3'\n",
       "\n",
       "\n"
      ],
      "text/plain": [
       "[1] 0 3 2 2 1\n",
       "Levels: 0 < 1 < 2 < 3"
      ]
     },
     "metadata": {},
     "output_type": "display_data"
    }
   ],
   "source": [
    "pain <- c(0,3,2,2,1)\n",
    "fpain <- factor(pain,levels=0:3, ordered=TRUE)\n",
    "fpain"
   ]
  },
  {
   "cell_type": "markdown",
   "id": "300d0d78",
   "metadata": {},
   "source": [
    "#### Levels provide correspondence between numerical values and categorical labels"
   ]
  },
  {
   "cell_type": "code",
   "execution_count": 114,
   "id": "9a683e5e",
   "metadata": {},
   "outputs": [
    {
     "data": {
      "text/html": [
       "<style>\n",
       ".list-inline {list-style: none; margin:0; padding: 0}\n",
       ".list-inline>li {display: inline-block}\n",
       ".list-inline>li:not(:last-child)::after {content: \"\\00b7\"; padding: 0 .5ex}\n",
       "</style>\n",
       "<ol class=list-inline><li>none</li><li>severe</li><li>medium</li><li>medium</li><li>mild</li></ol>\n",
       "\n",
       "<details>\n",
       "\t<summary style=display:list-item;cursor:pointer>\n",
       "\t\t<strong>Levels</strong>:\n",
       "\t</summary>\n",
       "\t<style>\n",
       "\t.list-inline {list-style: none; margin:0; padding: 0}\n",
       "\t.list-inline>li {display: inline-block}\n",
       "\t.list-inline>li:not(:last-child)::after {content: \"\\00b7\"; padding: 0 .5ex}\n",
       "\t</style>\n",
       "\t<ol class=list-inline><li>'none'</li><li>'mild'</li><li>'medium'</li><li>'severe'</li></ol>\n",
       "</details>"
      ],
      "text/latex": [
       "\\begin{enumerate*}\n",
       "\\item none\n",
       "\\item severe\n",
       "\\item medium\n",
       "\\item medium\n",
       "\\item mild\n",
       "\\end{enumerate*}\n",
       "\n",
       "\\emph{Levels}: \\begin{enumerate*}\n",
       "\\item 'none'\n",
       "\\item 'mild'\n",
       "\\item 'medium'\n",
       "\\item 'severe'\n",
       "\\end{enumerate*}\n"
      ],
      "text/markdown": [
       "1. none\n",
       "2. severe\n",
       "3. medium\n",
       "4. medium\n",
       "5. mild\n",
       "\n",
       "\n",
       "\n",
       "**Levels**: 1. 'none'\n",
       "2. 'mild'\n",
       "3. 'medium'\n",
       "4. 'severe'\n",
       "\n",
       "\n"
      ],
      "text/plain": [
       "[1] none   severe medium medium mild  \n",
       "Levels: none < mild < medium < severe"
      ]
     },
     "metadata": {},
     "output_type": "display_data"
    }
   ],
   "source": [
    "levels(fpain) <- c(\"none\",\"mild\",\"medium\",\"severe\")\n",
    "fpain"
   ]
  },
  {
   "cell_type": "markdown",
   "id": "d019846e",
   "metadata": {},
   "source": [
    "#### Convert height to factor\n",
    "Levels: small, medium, high"
   ]
  },
  {
   "cell_type": "markdown",
   "id": "f1dfffae",
   "metadata": {},
   "source": [
    "#### coding setting element by element"
   ]
  },
  {
   "cell_type": "code",
   "execution_count": 115,
   "id": "07d36349",
   "metadata": {},
   "outputs": [
    {
     "data": {
      "text/html": [
       "<style>\n",
       ".list-inline {list-style: none; margin:0; padding: 0}\n",
       ".list-inline>li {display: inline-block}\n",
       ".list-inline>li:not(:last-child)::after {content: \"\\00b7\"; padding: 0 .5ex}\n",
       "</style>\n",
       "<ol class=list-inline><li>medium</li><li>medium</li><li>short</li><li>tall</li><li>medium</li><li>tall</li></ol>\n",
       "\n",
       "<details>\n",
       "\t<summary style=display:list-item;cursor:pointer>\n",
       "\t\t<strong>Levels</strong>:\n",
       "\t</summary>\n",
       "\t<style>\n",
       "\t.list-inline {list-style: none; margin:0; padding: 0}\n",
       "\t.list-inline>li {display: inline-block}\n",
       "\t.list-inline>li:not(:last-child)::after {content: \"\\00b7\"; padding: 0 .5ex}\n",
       "\t</style>\n",
       "\t<ol class=list-inline><li>'medium'</li><li>'short'</li><li>'tall'</li></ol>\n",
       "</details>"
      ],
      "text/latex": [
       "\\begin{enumerate*}\n",
       "\\item medium\n",
       "\\item medium\n",
       "\\item short\n",
       "\\item tall\n",
       "\\item medium\n",
       "\\item tall\n",
       "\\end{enumerate*}\n",
       "\n",
       "\\emph{Levels}: \\begin{enumerate*}\n",
       "\\item 'medium'\n",
       "\\item 'short'\n",
       "\\item 'tall'\n",
       "\\end{enumerate*}\n"
      ],
      "text/markdown": [
       "1. medium\n",
       "2. medium\n",
       "3. short\n",
       "4. tall\n",
       "5. medium\n",
       "6. tall\n",
       "\n",
       "\n",
       "\n",
       "**Levels**: 1. 'medium'\n",
       "2. 'short'\n",
       "3. 'tall'\n",
       "\n",
       "\n"
      ],
      "text/plain": [
       "[1] medium medium short  tall   medium tall  \n",
       "Levels: medium short tall"
      ]
     },
     "metadata": {},
     "output_type": "display_data"
    }
   ],
   "source": [
    "lev <- rep(\"\", length(height))\n",
    "\n",
    "for (i in 1:length(height)) {\n",
    "  if (height[i] < 1.7)\n",
    "    lev[i] <- \"short\"\n",
    "  else if (height[i] < 1.9)\n",
    "    lev[i] <- \"medium\"\n",
    "  else \n",
    "    lev[i] <- \"tall\"\n",
    "}\n",
    "lev <- as.factor(lev)\n",
    "lev"
   ]
  },
  {
   "cell_type": "markdown",
   "id": "569660bc",
   "metadata": {},
   "source": [
    "#### coding setting the vector at once\n",
    "It uses the cut function."
   ]
  },
  {
   "cell_type": "code",
   "execution_count": 116,
   "id": "d81b0ae6",
   "metadata": {},
   "outputs": [
    {
     "data": {
      "text/html": [
       "<style>\n",
       ".list-inline {list-style: none; margin:0; padding: 0}\n",
       ".list-inline>li {display: inline-block}\n",
       ".list-inline>li:not(:last-child)::after {content: \"\\00b7\"; padding: 0 .5ex}\n",
       "</style>\n",
       "<ol class=list-inline><li>(1.7,1.9]</li><li>(1.7,1.9]</li><li>(0,1.7]</li><li>(1.7,1.9]</li><li>(1.7,1.9]</li><li>(1.9,1.8e+308]</li></ol>\n",
       "\n",
       "<details>\n",
       "\t<summary style=display:list-item;cursor:pointer>\n",
       "\t\t<strong>Levels</strong>:\n",
       "\t</summary>\n",
       "\t<style>\n",
       "\t.list-inline {list-style: none; margin:0; padding: 0}\n",
       "\t.list-inline>li {display: inline-block}\n",
       "\t.list-inline>li:not(:last-child)::after {content: \"\\00b7\"; padding: 0 .5ex}\n",
       "\t</style>\n",
       "\t<ol class=list-inline><li>'(0,1.7]'</li><li>'(1.7,1.9]'</li><li>'(1.9,1.8e+308]'</li></ol>\n",
       "</details>"
      ],
      "text/latex": [
       "\\begin{enumerate*}\n",
       "\\item (1.7,1.9{]}\n",
       "\\item (1.7,1.9{]}\n",
       "\\item (0,1.7{]}\n",
       "\\item (1.7,1.9{]}\n",
       "\\item (1.7,1.9{]}\n",
       "\\item (1.9,1.8e+308{]}\n",
       "\\end{enumerate*}\n",
       "\n",
       "\\emph{Levels}: \\begin{enumerate*}\n",
       "\\item '(0,1.7{]}'\n",
       "\\item '(1.7,1.9{]}'\n",
       "\\item '(1.9,1.8e+308{]}'\n",
       "\\end{enumerate*}\n"
      ],
      "text/markdown": [
       "1. (1.7,1.9]\n",
       "2. (1.7,1.9]\n",
       "3. (0,1.7]\n",
       "4. (1.7,1.9]\n",
       "5. (1.7,1.9]\n",
       "6. (1.9,1.8e+308]\n",
       "\n",
       "\n",
       "\n",
       "**Levels**: 1. '(0,1.7]'\n",
       "2. '(1.7,1.9]'\n",
       "3. '(1.9,1.8e+308]'\n",
       "\n",
       "\n"
      ],
      "text/plain": [
       "[1] (1.7,1.9]      (1.7,1.9]      (0,1.7]        (1.7,1.9]      (1.7,1.9]     \n",
       "[6] (1.9,1.8e+308]\n",
       "Levels: (0,1.7] < (1.7,1.9] < (1.9,1.8e+308]"
      ]
     },
     "metadata": {},
     "output_type": "display_data"
    },
    {
     "data": {
      "text/html": [
       "<style>\n",
       ".list-inline {list-style: none; margin:0; padding: 0}\n",
       ".list-inline>li {display: inline-block}\n",
       ".list-inline>li:not(:last-child)::after {content: \"\\00b7\"; padding: 0 .5ex}\n",
       "</style>\n",
       "<ol class=list-inline><li>medium</li><li>medium</li><li>short</li><li>medium</li><li>medium</li><li>tall</li></ol>\n",
       "\n",
       "<details>\n",
       "\t<summary style=display:list-item;cursor:pointer>\n",
       "\t\t<strong>Levels</strong>:\n",
       "\t</summary>\n",
       "\t<style>\n",
       "\t.list-inline {list-style: none; margin:0; padding: 0}\n",
       "\t.list-inline>li {display: inline-block}\n",
       "\t.list-inline>li:not(:last-child)::after {content: \"\\00b7\"; padding: 0 .5ex}\n",
       "\t</style>\n",
       "\t<ol class=list-inline><li>'short'</li><li>'medium'</li><li>'tall'</li></ol>\n",
       "</details>"
      ],
      "text/latex": [
       "\\begin{enumerate*}\n",
       "\\item medium\n",
       "\\item medium\n",
       "\\item short\n",
       "\\item medium\n",
       "\\item medium\n",
       "\\item tall\n",
       "\\end{enumerate*}\n",
       "\n",
       "\\emph{Levels}: \\begin{enumerate*}\n",
       "\\item 'short'\n",
       "\\item 'medium'\n",
       "\\item 'tall'\n",
       "\\end{enumerate*}\n"
      ],
      "text/markdown": [
       "1. medium\n",
       "2. medium\n",
       "3. short\n",
       "4. medium\n",
       "5. medium\n",
       "6. tall\n",
       "\n",
       "\n",
       "\n",
       "**Levels**: 1. 'short'\n",
       "2. 'medium'\n",
       "3. 'tall'\n",
       "\n",
       "\n"
      ],
      "text/plain": [
       "[1] medium medium short  medium medium tall  \n",
       "Levels: short < medium < tall"
      ]
     },
     "metadata": {},
     "output_type": "display_data"
    }
   ],
   "source": [
    "lev <- cut(height, breaks=c(0, 1.7, 1.9, .Machine$double.xmax), ordered=TRUE)\n",
    "lev\n",
    "levels(lev) <- c(\"short\", \"medium\", \"tall\")\n",
    "lev"
   ]
  },
  {
   "cell_type": "markdown",
   "id": "a7b75411",
   "metadata": {},
   "source": [
    "#### Matrix\n",
    "Matrices can be filled from vectors or data frames. "
   ]
  },
  {
   "cell_type": "code",
   "execution_count": 117,
   "id": "d900a570",
   "metadata": {},
   "outputs": [
    {
     "data": {
      "text/html": [
       "<style>\n",
       ".list-inline {list-style: none; margin:0; padding: 0}\n",
       ".list-inline>li {display: inline-block}\n",
       ".list-inline>li:not(:last-child)::after {content: \"\\00b7\"; padding: 0 .5ex}\n",
       "</style>\n",
       "<ol class=list-inline><li>1</li><li>2</li><li>3</li><li>4</li><li>5</li><li>6</li><li>7</li><li>8</li><li>9</li></ol>\n"
      ],
      "text/latex": [
       "\\begin{enumerate*}\n",
       "\\item 1\n",
       "\\item 2\n",
       "\\item 3\n",
       "\\item 4\n",
       "\\item 5\n",
       "\\item 6\n",
       "\\item 7\n",
       "\\item 8\n",
       "\\item 9\n",
       "\\end{enumerate*}\n"
      ],
      "text/markdown": [
       "1. 1\n",
       "2. 2\n",
       "3. 3\n",
       "4. 4\n",
       "5. 5\n",
       "6. 6\n",
       "7. 7\n",
       "8. 8\n",
       "9. 9\n",
       "\n",
       "\n"
      ],
      "text/plain": [
       "[1] 1 2 3 4 5 6 7 8 9"
      ]
     },
     "metadata": {},
     "output_type": "display_data"
    }
   ],
   "source": [
    "x <- 1:9\n",
    "x"
   ]
  },
  {
   "cell_type": "markdown",
   "id": "fab3bf6e",
   "metadata": {},
   "source": [
    "#### Converting a vector to matrix"
   ]
  },
  {
   "cell_type": "code",
   "execution_count": 118,
   "id": "36dd40b8",
   "metadata": {},
   "outputs": [
    {
     "data": {
      "text/html": [
       "<table class=\"dataframe\">\n",
       "<caption>A matrix: 3 × 3 of type int</caption>\n",
       "<tbody>\n",
       "\t<tr><td>1</td><td>4</td><td>7</td></tr>\n",
       "\t<tr><td>2</td><td>5</td><td>8</td></tr>\n",
       "\t<tr><td>3</td><td>6</td><td>9</td></tr>\n",
       "</tbody>\n",
       "</table>\n"
      ],
      "text/latex": [
       "A matrix: 3 × 3 of type int\n",
       "\\begin{tabular}{lll}\n",
       "\t 1 & 4 & 7\\\\\n",
       "\t 2 & 5 & 8\\\\\n",
       "\t 3 & 6 & 9\\\\\n",
       "\\end{tabular}\n"
      ],
      "text/markdown": [
       "\n",
       "A matrix: 3 × 3 of type int\n",
       "\n",
       "| 1 | 4 | 7 |\n",
       "| 2 | 5 | 8 |\n",
       "| 3 | 6 | 9 |\n",
       "\n"
      ],
      "text/plain": [
       "     [,1] [,2] [,3]\n",
       "[1,] 1    4    7   \n",
       "[2,] 2    5    8   \n",
       "[3,] 3    6    9   "
      ]
     },
     "metadata": {},
     "output_type": "display_data"
    }
   ],
   "source": [
    "dim(x) <- c(3,3)\n",
    "x"
   ]
  },
  {
   "cell_type": "markdown",
   "id": "013a9fa5",
   "metadata": {},
   "source": [
    "#### accessing elements from a matrix"
   ]
  },
  {
   "cell_type": "code",
   "execution_count": 119,
   "id": "31aad9ff",
   "metadata": {},
   "outputs": [
    {
     "name": "stdout",
     "output_type": "stream",
     "text": [
      "[1] 1\n",
      "[1] 4\n",
      "[1] 7\n",
      "[1] 2\n",
      "[1] 5\n",
      "[1] 8\n",
      "[1] 3\n",
      "[1] 6\n",
      "[1] 9\n"
     ]
    }
   ],
   "source": [
    "for (i in 1:nrow(x)) \n",
    "    for (j in 1:ncol(x))\n",
    "        print(x[i,j])\n",
    "    \n"
   ]
  },
  {
   "cell_type": "markdown",
   "id": "582a8811",
   "metadata": {},
   "source": [
    "#### Iterating and assigning values to each element"
   ]
  },
  {
   "cell_type": "code",
   "execution_count": 120,
   "id": "ad2239bd",
   "metadata": {},
   "outputs": [
    {
     "data": {
      "text/html": [
       "<table class=\"dataframe\">\n",
       "<caption>A matrix: 3 × 3 of type dbl</caption>\n",
       "<tbody>\n",
       "\t<tr><td>3</td><td>12</td><td>21</td></tr>\n",
       "\t<tr><td>6</td><td>15</td><td>24</td></tr>\n",
       "\t<tr><td>9</td><td>18</td><td>27</td></tr>\n",
       "</tbody>\n",
       "</table>\n"
      ],
      "text/latex": [
       "A matrix: 3 × 3 of type dbl\n",
       "\\begin{tabular}{lll}\n",
       "\t 3 & 12 & 21\\\\\n",
       "\t 6 & 15 & 24\\\\\n",
       "\t 9 & 18 & 27\\\\\n",
       "\\end{tabular}\n"
      ],
      "text/markdown": [
       "\n",
       "A matrix: 3 × 3 of type dbl\n",
       "\n",
       "| 3 | 12 | 21 |\n",
       "| 6 | 15 | 24 |\n",
       "| 9 | 18 | 27 |\n",
       "\n"
      ],
      "text/plain": [
       "     [,1] [,2] [,3]\n",
       "[1,] 3    12   21  \n",
       "[2,] 6    15   24  \n",
       "[3,] 9    18   27  "
      ]
     },
     "metadata": {},
     "output_type": "display_data"
    }
   ],
   "source": [
    "y <- x\n",
    "for (i in 1:nrow(y)) \n",
    "    for (j in 1:ncol(y))\n",
    "        y[i,j] <- 3 * y[i, j]\n",
    "    \n",
    "y"
   ]
  },
  {
   "cell_type": "markdown",
   "id": "ea7e0255",
   "metadata": {},
   "source": [
    "#### Assigning the values of a matrix at once"
   ]
  },
  {
   "cell_type": "code",
   "execution_count": 121,
   "id": "a6c41f00",
   "metadata": {},
   "outputs": [
    {
     "data": {
      "text/html": [
       "<table class=\"dataframe\">\n",
       "<caption>A matrix: 3 × 3 of type dbl</caption>\n",
       "<tbody>\n",
       "\t<tr><td>3</td><td>12</td><td>21</td></tr>\n",
       "\t<tr><td>6</td><td>15</td><td>24</td></tr>\n",
       "\t<tr><td>9</td><td>18</td><td>27</td></tr>\n",
       "</tbody>\n",
       "</table>\n"
      ],
      "text/latex": [
       "A matrix: 3 × 3 of type dbl\n",
       "\\begin{tabular}{lll}\n",
       "\t 3 & 12 & 21\\\\\n",
       "\t 6 & 15 & 24\\\\\n",
       "\t 9 & 18 & 27\\\\\n",
       "\\end{tabular}\n"
      ],
      "text/markdown": [
       "\n",
       "A matrix: 3 × 3 of type dbl\n",
       "\n",
       "| 3 | 12 | 21 |\n",
       "| 6 | 15 | 24 |\n",
       "| 9 | 18 | 27 |\n",
       "\n"
      ],
      "text/plain": [
       "     [,1] [,2] [,3]\n",
       "[1,] 3    12   21  \n",
       "[2,] 6    15   24  \n",
       "[3,] 9    18   27  "
      ]
     },
     "metadata": {},
     "output_type": "display_data"
    }
   ],
   "source": [
    "y <- 3*x\n",
    "y"
   ]
  },
  {
   "cell_type": "markdown",
   "id": "e4503b07",
   "metadata": {},
   "source": [
    "#### Converting a vector to a matrix by row"
   ]
  },
  {
   "cell_type": "code",
   "execution_count": 122,
   "id": "6c1a2c28",
   "metadata": {},
   "outputs": [
    {
     "data": {
      "text/html": [
       "<table class=\"dataframe\">\n",
       "<caption>A matrix: 3 × 3 of type int</caption>\n",
       "<tbody>\n",
       "\t<tr><td>1</td><td>2</td><td>3</td></tr>\n",
       "\t<tr><td>4</td><td>5</td><td>6</td></tr>\n",
       "\t<tr><td>7</td><td>8</td><td>9</td></tr>\n",
       "</tbody>\n",
       "</table>\n"
      ],
      "text/latex": [
       "A matrix: 3 × 3 of type int\n",
       "\\begin{tabular}{lll}\n",
       "\t 1 & 2 & 3\\\\\n",
       "\t 4 & 5 & 6\\\\\n",
       "\t 7 & 8 & 9\\\\\n",
       "\\end{tabular}\n"
      ],
      "text/markdown": [
       "\n",
       "A matrix: 3 × 3 of type int\n",
       "\n",
       "| 1 | 2 | 3 |\n",
       "| 4 | 5 | 6 |\n",
       "| 7 | 8 | 9 |\n",
       "\n"
      ],
      "text/plain": [
       "     [,1] [,2] [,3]\n",
       "[1,] 1    2    3   \n",
       "[2,] 4    5    6   \n",
       "[3,] 7    8    9   "
      ]
     },
     "metadata": {},
     "output_type": "display_data"
    }
   ],
   "source": [
    "x <- matrix(1:9,nrow=3,byrow=T)\n",
    "x"
   ]
  },
  {
   "cell_type": "markdown",
   "id": "2f8b5706",
   "metadata": {},
   "source": [
    "#### transposing a matrix"
   ]
  },
  {
   "cell_type": "code",
   "execution_count": 123,
   "id": "2b2d54df",
   "metadata": {},
   "outputs": [
    {
     "data": {
      "text/html": [
       "<table class=\"dataframe\">\n",
       "<caption>A matrix: 3 × 3 of type int</caption>\n",
       "<tbody>\n",
       "\t<tr><td>1</td><td>4</td><td>7</td></tr>\n",
       "\t<tr><td>2</td><td>5</td><td>8</td></tr>\n",
       "\t<tr><td>3</td><td>6</td><td>9</td></tr>\n",
       "</tbody>\n",
       "</table>\n"
      ],
      "text/latex": [
       "A matrix: 3 × 3 of type int\n",
       "\\begin{tabular}{lll}\n",
       "\t 1 & 4 & 7\\\\\n",
       "\t 2 & 5 & 8\\\\\n",
       "\t 3 & 6 & 9\\\\\n",
       "\\end{tabular}\n"
      ],
      "text/markdown": [
       "\n",
       "A matrix: 3 × 3 of type int\n",
       "\n",
       "| 1 | 4 | 7 |\n",
       "| 2 | 5 | 8 |\n",
       "| 3 | 6 | 9 |\n",
       "\n"
      ],
      "text/plain": [
       "     [,1] [,2] [,3]\n",
       "[1,] 1    4    7   \n",
       "[2,] 2    5    8   \n",
       "[3,] 3    6    9   "
      ]
     },
     "metadata": {},
     "output_type": "display_data"
    }
   ],
   "source": [
    "x <- t(x)\n",
    "x"
   ]
  },
  {
   "cell_type": "markdown",
   "id": "4eb25f6b",
   "metadata": {},
   "source": [
    "#### computing the determinant of a matrix"
   ]
  },
  {
   "cell_type": "code",
   "execution_count": 124,
   "id": "10b6b6fa",
   "metadata": {},
   "outputs": [
    {
     "data": {
      "text/html": [
       "0"
      ],
      "text/latex": [
       "0"
      ],
      "text/markdown": [
       "0"
      ],
      "text/plain": [
       "[1] 0"
      ]
     },
     "metadata": {},
     "output_type": "display_data"
    }
   ],
   "source": [
    "det(x)"
   ]
  },
  {
   "cell_type": "markdown",
   "id": "a8dd0d35",
   "metadata": {},
   "source": [
    "#### Lists\n",
    "Lists are used to work with \"objects\""
   ]
  },
  {
   "cell_type": "code",
   "execution_count": 125,
   "id": "354a54cd",
   "metadata": {},
   "outputs": [
    {
     "data": {
      "text/html": [
       "<ol>\n",
       "\t<li><style>\n",
       ".list-inline {list-style: none; margin:0; padding: 0}\n",
       ".list-inline>li {display: inline-block}\n",
       ".list-inline>li:not(:last-child)::after {content: \"\\00b7\"; padding: 0 .5ex}\n",
       "</style>\n",
       "<ol class=list-inline><li>5260</li><li>5470</li><li>5640</li><li>6180</li><li>6390</li><li>6515</li><li>6805</li><li>7515</li><li>7515</li><li>8230</li><li>8770</li></ol>\n",
       "</li>\n",
       "\t<li><style>\n",
       ".list-inline {list-style: none; margin:0; padding: 0}\n",
       ".list-inline>li {display: inline-block}\n",
       ".list-inline>li:not(:last-child)::after {content: \"\\00b7\"; padding: 0 .5ex}\n",
       "</style>\n",
       "<ol class=list-inline><li>3910</li><li>4220</li><li>3885</li><li>5160</li><li>5645</li><li>4680</li><li>5265</li><li>5975</li><li>6790</li><li>6900</li><li>7335</li></ol>\n",
       "</li>\n",
       "\t<li>0</li>\n",
       "\t<li>'a'</li>\n",
       "</ol>\n"
      ],
      "text/latex": [
       "\\begin{enumerate}\n",
       "\\item \\begin{enumerate*}\n",
       "\\item 5260\n",
       "\\item 5470\n",
       "\\item 5640\n",
       "\\item 6180\n",
       "\\item 6390\n",
       "\\item 6515\n",
       "\\item 6805\n",
       "\\item 7515\n",
       "\\item 7515\n",
       "\\item 8230\n",
       "\\item 8770\n",
       "\\end{enumerate*}\n",
       "\n",
       "\\item \\begin{enumerate*}\n",
       "\\item 3910\n",
       "\\item 4220\n",
       "\\item 3885\n",
       "\\item 5160\n",
       "\\item 5645\n",
       "\\item 4680\n",
       "\\item 5265\n",
       "\\item 5975\n",
       "\\item 6790\n",
       "\\item 6900\n",
       "\\item 7335\n",
       "\\end{enumerate*}\n",
       "\n",
       "\\item 0\n",
       "\\item 'a'\n",
       "\\end{enumerate}\n"
      ],
      "text/markdown": [
       "1. 1. 5260\n",
       "2. 5470\n",
       "3. 5640\n",
       "4. 6180\n",
       "5. 6390\n",
       "6. 6515\n",
       "7. 6805\n",
       "8. 7515\n",
       "9. 7515\n",
       "10. 8230\n",
       "11. 8770\n",
       "\n",
       "\n",
       "\n",
       "2. 1. 3910\n",
       "2. 4220\n",
       "3. 3885\n",
       "4. 5160\n",
       "5. 5645\n",
       "6. 4680\n",
       "7. 5265\n",
       "8. 5975\n",
       "9. 6790\n",
       "10. 6900\n",
       "11. 7335\n",
       "\n",
       "\n",
       "\n",
       "3. 0\n",
       "4. 'a'\n",
       "\n",
       "\n"
      ],
      "text/plain": [
       "[[1]]\n",
       " [1] 5260 5470 5640 6180 6390 6515 6805 7515 7515 8230 8770\n",
       "\n",
       "[[2]]\n",
       " [1] 3910 4220 3885 5160 5645 4680 5265 5975 6790 6900 7335\n",
       "\n",
       "[[3]]\n",
       "[1] 0\n",
       "\n",
       "[[4]]\n",
       "[1] \"a\"\n"
      ]
     },
     "metadata": {},
     "output_type": "display_data"
    }
   ],
   "source": [
    "a <- c(5260,5470,5640,6180,6390,6515,6805,7515,7515,8230,8770)\n",
    "b <- c(3910,4220,3885,5160,5645,4680,5265,5975,6790,6900,7335)\n",
    "\n",
    "mybag <- list(a, b, 0, \"a\")\n",
    "mybag"
   ]
  },
  {
   "cell_type": "markdown",
   "id": "ff6d8a47",
   "metadata": {},
   "source": [
    "adding an element into a list"
   ]
  },
  {
   "cell_type": "code",
   "execution_count": 126,
   "id": "5c17f943",
   "metadata": {},
   "outputs": [
    {
     "data": {
      "text/html": [
       "<ol>\n",
       "\t<li><style>\n",
       ".list-inline {list-style: none; margin:0; padding: 0}\n",
       ".list-inline>li {display: inline-block}\n",
       ".list-inline>li:not(:last-child)::after {content: \"\\00b7\"; padding: 0 .5ex}\n",
       "</style>\n",
       "<ol class=list-inline><li>5260</li><li>5470</li><li>5640</li><li>6180</li><li>6390</li><li>6515</li><li>6805</li><li>7515</li><li>7515</li><li>8230</li><li>8770</li></ol>\n",
       "</li>\n",
       "\t<li><style>\n",
       ".list-inline {list-style: none; margin:0; padding: 0}\n",
       ".list-inline>li {display: inline-block}\n",
       ".list-inline>li:not(:last-child)::after {content: \"\\00b7\"; padding: 0 .5ex}\n",
       "</style>\n",
       "<ol class=list-inline><li>3910</li><li>4220</li><li>3885</li><li>5160</li><li>5645</li><li>4680</li><li>5265</li><li>5975</li><li>6790</li><li>6900</li><li>7335</li></ol>\n",
       "</li>\n",
       "\t<li>0</li>\n",
       "\t<li>'a'</li>\n",
       "\t<li>'b'</li>\n",
       "</ol>\n"
      ],
      "text/latex": [
       "\\begin{enumerate}\n",
       "\\item \\begin{enumerate*}\n",
       "\\item 5260\n",
       "\\item 5470\n",
       "\\item 5640\n",
       "\\item 6180\n",
       "\\item 6390\n",
       "\\item 6515\n",
       "\\item 6805\n",
       "\\item 7515\n",
       "\\item 7515\n",
       "\\item 8230\n",
       "\\item 8770\n",
       "\\end{enumerate*}\n",
       "\n",
       "\\item \\begin{enumerate*}\n",
       "\\item 3910\n",
       "\\item 4220\n",
       "\\item 3885\n",
       "\\item 5160\n",
       "\\item 5645\n",
       "\\item 4680\n",
       "\\item 5265\n",
       "\\item 5975\n",
       "\\item 6790\n",
       "\\item 6900\n",
       "\\item 7335\n",
       "\\end{enumerate*}\n",
       "\n",
       "\\item 0\n",
       "\\item 'a'\n",
       "\\item 'b'\n",
       "\\end{enumerate}\n"
      ],
      "text/markdown": [
       "1. 1. 5260\n",
       "2. 5470\n",
       "3. 5640\n",
       "4. 6180\n",
       "5. 6390\n",
       "6. 6515\n",
       "7. 6805\n",
       "8. 7515\n",
       "9. 7515\n",
       "10. 8230\n",
       "11. 8770\n",
       "\n",
       "\n",
       "\n",
       "2. 1. 3910\n",
       "2. 4220\n",
       "3. 3885\n",
       "4. 5160\n",
       "5. 5645\n",
       "6. 4680\n",
       "7. 5265\n",
       "8. 5975\n",
       "9. 6790\n",
       "10. 6900\n",
       "11. 7335\n",
       "\n",
       "\n",
       "\n",
       "3. 0\n",
       "4. 'a'\n",
       "5. 'b'\n",
       "\n",
       "\n"
      ],
      "text/plain": [
       "[[1]]\n",
       " [1] 5260 5470 5640 6180 6390 6515 6805 7515 7515 8230 8770\n",
       "\n",
       "[[2]]\n",
       " [1] 3910 4220 3885 5160 5645 4680 5265 5975 6790 6900 7335\n",
       "\n",
       "[[3]]\n",
       "[1] 0\n",
       "\n",
       "[[4]]\n",
       "[1] \"a\"\n",
       "\n",
       "[[5]]\n",
       "[1] \"b\"\n"
      ]
     },
     "metadata": {},
     "output_type": "display_data"
    }
   ],
   "source": [
    "n <- length(mybag)\n",
    "mybag[[n+1]] <- \"b\"\n",
    "mybag"
   ]
  },
  {
   "cell_type": "markdown",
   "id": "99098b73",
   "metadata": {},
   "source": [
    "#### List slicing"
   ]
  },
  {
   "cell_type": "code",
   "execution_count": 127,
   "id": "8fd47b0b",
   "metadata": {},
   "outputs": [
    {
     "data": {
      "text/html": [
       "<ol>\n",
       "\t<li><style>\n",
       ".list-inline {list-style: none; margin:0; padding: 0}\n",
       ".list-inline>li {display: inline-block}\n",
       ".list-inline>li:not(:last-child)::after {content: \"\\00b7\"; padding: 0 .5ex}\n",
       "</style>\n",
       "<ol class=list-inline><li>5260</li><li>5470</li><li>5640</li><li>6180</li><li>6390</li><li>6515</li><li>6805</li><li>7515</li><li>7515</li><li>8230</li><li>8770</li></ol>\n",
       "</li>\n",
       "</ol>\n"
      ],
      "text/latex": [
       "\\begin{enumerate}\n",
       "\\item \\begin{enumerate*}\n",
       "\\item 5260\n",
       "\\item 5470\n",
       "\\item 5640\n",
       "\\item 6180\n",
       "\\item 6390\n",
       "\\item 6515\n",
       "\\item 6805\n",
       "\\item 7515\n",
       "\\item 7515\n",
       "\\item 8230\n",
       "\\item 8770\n",
       "\\end{enumerate*}\n",
       "\n",
       "\\end{enumerate}\n"
      ],
      "text/markdown": [
       "1. 1. 5260\n",
       "2. 5470\n",
       "3. 5640\n",
       "4. 6180\n",
       "5. 6390\n",
       "6. 6515\n",
       "7. 6805\n",
       "8. 7515\n",
       "9. 7515\n",
       "10. 8230\n",
       "11. 8770\n",
       "\n",
       "\n",
       "\n",
       "\n",
       "\n"
      ],
      "text/plain": [
       "[[1]]\n",
       " [1] 5260 5470 5640 6180 6390 6515 6805 7515 7515 8230 8770\n"
      ]
     },
     "metadata": {},
     "output_type": "display_data"
    },
    {
     "data": {
      "text/html": [
       "TRUE"
      ],
      "text/latex": [
       "TRUE"
      ],
      "text/markdown": [
       "TRUE"
      ],
      "text/plain": [
       "[1] TRUE"
      ]
     },
     "metadata": {},
     "output_type": "display_data"
    }
   ],
   "source": [
    "slice <- mybag[1]\n",
    "slice\n",
    "is.list(slice)"
   ]
  },
  {
   "cell_type": "markdown",
   "id": "ec157ec8",
   "metadata": {},
   "source": [
    "#### Slicing is also a list"
   ]
  },
  {
   "cell_type": "code",
   "execution_count": 128,
   "id": "946d60f4",
   "metadata": {},
   "outputs": [
    {
     "data": {
      "text/html": [
       "<ol>\n",
       "\t<li><style>\n",
       ".list-inline {list-style: none; margin:0; padding: 0}\n",
       ".list-inline>li {display: inline-block}\n",
       ".list-inline>li:not(:last-child)::after {content: \"\\00b7\"; padding: 0 .5ex}\n",
       "</style>\n",
       "<ol class=list-inline><li>5260</li><li>5470</li><li>5640</li><li>6180</li><li>6390</li><li>6515</li><li>6805</li><li>7515</li><li>7515</li><li>8230</li><li>8770</li></ol>\n",
       "</li>\n",
       "\t<li>0</li>\n",
       "</ol>\n"
      ],
      "text/latex": [
       "\\begin{enumerate}\n",
       "\\item \\begin{enumerate*}\n",
       "\\item 5260\n",
       "\\item 5470\n",
       "\\item 5640\n",
       "\\item 6180\n",
       "\\item 6390\n",
       "\\item 6515\n",
       "\\item 6805\n",
       "\\item 7515\n",
       "\\item 7515\n",
       "\\item 8230\n",
       "\\item 8770\n",
       "\\end{enumerate*}\n",
       "\n",
       "\\item 0\n",
       "\\end{enumerate}\n"
      ],
      "text/markdown": [
       "1. 1. 5260\n",
       "2. 5470\n",
       "3. 5640\n",
       "4. 6180\n",
       "5. 6390\n",
       "6. 6515\n",
       "7. 6805\n",
       "8. 7515\n",
       "9. 7515\n",
       "10. 8230\n",
       "11. 8770\n",
       "\n",
       "\n",
       "\n",
       "2. 0\n",
       "\n",
       "\n"
      ],
      "text/plain": [
       "[[1]]\n",
       " [1] 5260 5470 5640 6180 6390 6515 6805 7515 7515 8230 8770\n",
       "\n",
       "[[2]]\n",
       "[1] 0\n"
      ]
     },
     "metadata": {},
     "output_type": "display_data"
    },
    {
     "data": {
      "text/html": [
       "TRUE"
      ],
      "text/latex": [
       "TRUE"
      ],
      "text/markdown": [
       "TRUE"
      ],
      "text/plain": [
       "[1] TRUE"
      ]
     },
     "metadata": {},
     "output_type": "display_data"
    }
   ],
   "source": [
    "slice <- mybag[c(1,3)]\n",
    "slice\n",
    "is.list(slice)"
   ]
  },
  {
   "cell_type": "markdown",
   "id": "125f81e9",
   "metadata": {},
   "source": [
    "#### A list is also a vector"
   ]
  },
  {
   "cell_type": "code",
   "execution_count": 129,
   "id": "090c69db",
   "metadata": {},
   "outputs": [
    {
     "data": {
      "text/html": [
       "TRUE"
      ],
      "text/latex": [
       "TRUE"
      ],
      "text/markdown": [
       "TRUE"
      ],
      "text/plain": [
       "[1] TRUE"
      ]
     },
     "metadata": {},
     "output_type": "display_data"
    }
   ],
   "source": [
    "#list is also a vector\n",
    "is.vector(slice)"
   ]
  },
  {
   "cell_type": "markdown",
   "id": "bdb0082f",
   "metadata": {},
   "source": [
    "#### Member reference\n",
    "It accesses the element"
   ]
  },
  {
   "cell_type": "code",
   "execution_count": 130,
   "id": "e7651d67",
   "metadata": {},
   "outputs": [
    {
     "data": {
      "text/html": [
       "<style>\n",
       ".list-inline {list-style: none; margin:0; padding: 0}\n",
       ".list-inline>li {display: inline-block}\n",
       ".list-inline>li:not(:last-child)::after {content: \"\\00b7\"; padding: 0 .5ex}\n",
       "</style>\n",
       "<ol class=list-inline><li>5260</li><li>5470</li><li>5640</li><li>6180</li><li>6390</li><li>6515</li><li>6805</li><li>7515</li><li>7515</li><li>8230</li><li>8770</li></ol>\n"
      ],
      "text/latex": [
       "\\begin{enumerate*}\n",
       "\\item 5260\n",
       "\\item 5470\n",
       "\\item 5640\n",
       "\\item 6180\n",
       "\\item 6390\n",
       "\\item 6515\n",
       "\\item 6805\n",
       "\\item 7515\n",
       "\\item 7515\n",
       "\\item 8230\n",
       "\\item 8770\n",
       "\\end{enumerate*}\n"
      ],
      "text/markdown": [
       "1. 5260\n",
       "2. 5470\n",
       "3. 5640\n",
       "4. 6180\n",
       "5. 6390\n",
       "6. 6515\n",
       "7. 6805\n",
       "8. 7515\n",
       "9. 7515\n",
       "10. 8230\n",
       "11. 8770\n",
       "\n",
       "\n"
      ],
      "text/plain": [
       " [1] 5260 5470 5640 6180 6390 6515 6805 7515 7515 8230 8770"
      ]
     },
     "metadata": {},
     "output_type": "display_data"
    }
   ],
   "source": [
    "h <- mybag[[1]]\n",
    "h"
   ]
  },
  {
   "cell_type": "markdown",
   "id": "aa046dc8",
   "metadata": {},
   "source": [
    "An element can be evaluated. \n",
    "In this case, it is a vector."
   ]
  },
  {
   "cell_type": "code",
   "execution_count": 131,
   "id": "95eda4bb",
   "metadata": {},
   "outputs": [
    {
     "data": {
      "text/html": [
       "TRUE"
      ],
      "text/latex": [
       "TRUE"
      ],
      "text/markdown": [
       "TRUE"
      ],
      "text/plain": [
       "[1] TRUE"
      ]
     },
     "metadata": {},
     "output_type": "display_data"
    },
    {
     "data": {
      "text/html": [
       "FALSE"
      ],
      "text/latex": [
       "FALSE"
      ],
      "text/markdown": [
       "FALSE"
      ],
      "text/plain": [
       "[1] FALSE"
      ]
     },
     "metadata": {},
     "output_type": "display_data"
    }
   ],
   "source": [
    "is.vector(h)\n",
    "is.list(h)"
   ]
  },
  {
   "cell_type": "markdown",
   "id": "38a8fabf",
   "metadata": {},
   "source": [
    "#### Naming variables\n",
    "They are properties on the list"
   ]
  },
  {
   "cell_type": "code",
   "execution_count": 132,
   "id": "4da009f5",
   "metadata": {},
   "outputs": [
    {
     "data": {
      "text/html": [
       "<dl>\n",
       "\t<dt>$x</dt>\n",
       "\t\t<dd><style>\n",
       ".list-inline {list-style: none; margin:0; padding: 0}\n",
       ".list-inline>li {display: inline-block}\n",
       ".list-inline>li:not(:last-child)::after {content: \"\\00b7\"; padding: 0 .5ex}\n",
       "</style>\n",
       "<ol class=list-inline><li>5260</li><li>5470</li><li>5640</li><li>6180</li><li>6390</li><li>6515</li><li>6805</li><li>7515</li><li>7515</li><li>8230</li><li>8770</li></ol>\n",
       "</dd>\n",
       "\t<dt>$y</dt>\n",
       "\t\t<dd><style>\n",
       ".list-inline {list-style: none; margin:0; padding: 0}\n",
       ".list-inline>li {display: inline-block}\n",
       ".list-inline>li:not(:last-child)::after {content: \"\\00b7\"; padding: 0 .5ex}\n",
       "</style>\n",
       "<ol class=list-inline><li>3910</li><li>4220</li><li>3885</li><li>5160</li><li>5645</li><li>4680</li><li>5265</li><li>5975</li><li>6790</li><li>6900</li><li>7335</li></ol>\n",
       "</dd>\n",
       "\t<dt>$const</dt>\n",
       "\t\t<dd>0</dd>\n",
       "\t<dt>$lit</dt>\n",
       "\t\t<dd>'a'</dd>\n",
       "</dl>\n"
      ],
      "text/latex": [
       "\\begin{description}\n",
       "\\item[\\$x] \\begin{enumerate*}\n",
       "\\item 5260\n",
       "\\item 5470\n",
       "\\item 5640\n",
       "\\item 6180\n",
       "\\item 6390\n",
       "\\item 6515\n",
       "\\item 6805\n",
       "\\item 7515\n",
       "\\item 7515\n",
       "\\item 8230\n",
       "\\item 8770\n",
       "\\end{enumerate*}\n",
       "\n",
       "\\item[\\$y] \\begin{enumerate*}\n",
       "\\item 3910\n",
       "\\item 4220\n",
       "\\item 3885\n",
       "\\item 5160\n",
       "\\item 5645\n",
       "\\item 4680\n",
       "\\item 5265\n",
       "\\item 5975\n",
       "\\item 6790\n",
       "\\item 6900\n",
       "\\item 7335\n",
       "\\end{enumerate*}\n",
       "\n",
       "\\item[\\$const] 0\n",
       "\\item[\\$lit] 'a'\n",
       "\\end{description}\n"
      ],
      "text/markdown": [
       "$x\n",
       ":   1. 5260\n",
       "2. 5470\n",
       "3. 5640\n",
       "4. 6180\n",
       "5. 6390\n",
       "6. 6515\n",
       "7. 6805\n",
       "8. 7515\n",
       "9. 7515\n",
       "10. 8230\n",
       "11. 8770\n",
       "\n",
       "\n",
       "\n",
       "$y\n",
       ":   1. 3910\n",
       "2. 4220\n",
       "3. 3885\n",
       "4. 5160\n",
       "5. 5645\n",
       "6. 4680\n",
       "7. 5265\n",
       "8. 5975\n",
       "9. 6790\n",
       "10. 6900\n",
       "11. 7335\n",
       "\n",
       "\n",
       "\n",
       "$const\n",
       ":   0\n",
       "$lit\n",
       ":   'a'\n",
       "\n",
       "\n"
      ],
      "text/plain": [
       "$x\n",
       " [1] 5260 5470 5640 6180 6390 6515 6805 7515 7515 8230 8770\n",
       "\n",
       "$y\n",
       " [1] 3910 4220 3885 5160 5645 4680 5265 5975 6790 6900 7335\n",
       "\n",
       "$const\n",
       "[1] 0\n",
       "\n",
       "$lit\n",
       "[1] \"a\"\n"
      ]
     },
     "metadata": {},
     "output_type": "display_data"
    }
   ],
   "source": [
    "mybag <- list(x=a, y=b, const=0, lit=\"a\")\n",
    "mybag"
   ]
  },
  {
   "cell_type": "markdown",
   "id": "4d0f3795",
   "metadata": {},
   "source": [
    "#### Adding, accessing, and removing elements"
   ]
  },
  {
   "cell_type": "code",
   "execution_count": 133,
   "id": "e75716c3",
   "metadata": {},
   "outputs": [
    {
     "data": {
      "text/html": [
       "<dl>\n",
       "\t<dt>$x</dt>\n",
       "\t\t<dd><style>\n",
       ".list-inline {list-style: none; margin:0; padding: 0}\n",
       ".list-inline>li {display: inline-block}\n",
       ".list-inline>li:not(:last-child)::after {content: \"\\00b7\"; padding: 0 .5ex}\n",
       "</style>\n",
       "<ol class=list-inline><li>5260</li><li>5470</li><li>5640</li><li>6180</li><li>6390</li><li>6515</li><li>6805</li><li>7515</li><li>7515</li><li>8230</li><li>8770</li></ol>\n",
       "</dd>\n",
       "\t<dt>$y</dt>\n",
       "\t\t<dd><style>\n",
       ".list-inline {list-style: none; margin:0; padding: 0}\n",
       ".list-inline>li {display: inline-block}\n",
       ".list-inline>li:not(:last-child)::after {content: \"\\00b7\"; padding: 0 .5ex}\n",
       "</style>\n",
       "<ol class=list-inline><li>3910</li><li>4220</li><li>3885</li><li>5160</li><li>5645</li><li>4680</li><li>5265</li><li>5975</li><li>6790</li><li>6900</li><li>7335</li></ol>\n",
       "</dd>\n",
       "\t<dt>$c</dt>\n",
       "\t\t<dd><style>\n",
       ".list-inline {list-style: none; margin:0; padding: 0}\n",
       ".list-inline>li {display: inline-block}\n",
       ".list-inline>li:not(:last-child)::after {content: \"\\00b7\"; padding: 0 .5ex}\n",
       "</style>\n",
       "<ol class=list-inline><li>1350</li><li>1250</li><li>1755</li><li>1020</li><li>745</li><li>1835</li><li>1540</li><li>1540</li><li>725</li><li>1330</li><li>1435</li></ol>\n",
       "</dd>\n",
       "</dl>\n"
      ],
      "text/latex": [
       "\\begin{description}\n",
       "\\item[\\$x] \\begin{enumerate*}\n",
       "\\item 5260\n",
       "\\item 5470\n",
       "\\item 5640\n",
       "\\item 6180\n",
       "\\item 6390\n",
       "\\item 6515\n",
       "\\item 6805\n",
       "\\item 7515\n",
       "\\item 7515\n",
       "\\item 8230\n",
       "\\item 8770\n",
       "\\end{enumerate*}\n",
       "\n",
       "\\item[\\$y] \\begin{enumerate*}\n",
       "\\item 3910\n",
       "\\item 4220\n",
       "\\item 3885\n",
       "\\item 5160\n",
       "\\item 5645\n",
       "\\item 4680\n",
       "\\item 5265\n",
       "\\item 5975\n",
       "\\item 6790\n",
       "\\item 6900\n",
       "\\item 7335\n",
       "\\end{enumerate*}\n",
       "\n",
       "\\item[\\$c] \\begin{enumerate*}\n",
       "\\item 1350\n",
       "\\item 1250\n",
       "\\item 1755\n",
       "\\item 1020\n",
       "\\item 745\n",
       "\\item 1835\n",
       "\\item 1540\n",
       "\\item 1540\n",
       "\\item 725\n",
       "\\item 1330\n",
       "\\item 1435\n",
       "\\end{enumerate*}\n",
       "\n",
       "\\end{description}\n"
      ],
      "text/markdown": [
       "$x\n",
       ":   1. 5260\n",
       "2. 5470\n",
       "3. 5640\n",
       "4. 6180\n",
       "5. 6390\n",
       "6. 6515\n",
       "7. 6805\n",
       "8. 7515\n",
       "9. 7515\n",
       "10. 8230\n",
       "11. 8770\n",
       "\n",
       "\n",
       "\n",
       "$y\n",
       ":   1. 3910\n",
       "2. 4220\n",
       "3. 3885\n",
       "4. 5160\n",
       "5. 5645\n",
       "6. 4680\n",
       "7. 5265\n",
       "8. 5975\n",
       "9. 6790\n",
       "10. 6900\n",
       "11. 7335\n",
       "\n",
       "\n",
       "\n",
       "$c\n",
       ":   1. 1350\n",
       "2. 1250\n",
       "3. 1755\n",
       "4. 1020\n",
       "5. 745\n",
       "6. 1835\n",
       "7. 1540\n",
       "8. 1540\n",
       "9. 725\n",
       "10. 1330\n",
       "11. 1435\n",
       "\n",
       "\n",
       "\n",
       "\n",
       "\n"
      ],
      "text/plain": [
       "$x\n",
       " [1] 5260 5470 5640 6180 6390 6515 6805 7515 7515 8230 8770\n",
       "\n",
       "$y\n",
       " [1] 3910 4220 3885 5160 5645 4680 5265 5975 6790 6900 7335\n",
       "\n",
       "$c\n",
       " [1] 1350 1250 1755 1020  745 1835 1540 1540  725 1330 1435\n"
      ]
     },
     "metadata": {},
     "output_type": "display_data"
    }
   ],
   "source": [
    "mybag$c <- mybag$x - mybag$y\n",
    "mybag$const <- NULL\n",
    "mybag$lit <- NULL\n",
    "mybag"
   ]
  },
  {
   "cell_type": "markdown",
   "id": "414be0df",
   "metadata": {},
   "source": [
    "#### Data frames\n",
    "Data frames (tables) provide support for structured data. "
   ]
  },
  {
   "cell_type": "code",
   "execution_count": 134,
   "id": "c3e56d5d",
   "metadata": {},
   "outputs": [
    {
     "data": {
      "text/html": [
       "<table class=\"dataframe\">\n",
       "<caption>A data.frame: 6 × 2</caption>\n",
       "<thead>\n",
       "\t<tr><th></th><th scope=col>A</th><th scope=col>B</th></tr>\n",
       "\t<tr><th></th><th scope=col>&lt;dbl&gt;</th><th scope=col>&lt;dbl&gt;</th></tr>\n",
       "</thead>\n",
       "<tbody>\n",
       "\t<tr><th scope=row>1</th><td>5260</td><td>3910</td></tr>\n",
       "\t<tr><th scope=row>2</th><td>5470</td><td>4220</td></tr>\n",
       "\t<tr><th scope=row>3</th><td>5640</td><td>3885</td></tr>\n",
       "\t<tr><th scope=row>4</th><td>6180</td><td>5160</td></tr>\n",
       "\t<tr><th scope=row>5</th><td>6390</td><td>5645</td></tr>\n",
       "\t<tr><th scope=row>6</th><td>6515</td><td>4680</td></tr>\n",
       "</tbody>\n",
       "</table>\n"
      ],
      "text/latex": [
       "A data.frame: 6 × 2\n",
       "\\begin{tabular}{r|ll}\n",
       "  & A & B\\\\\n",
       "  & <dbl> & <dbl>\\\\\n",
       "\\hline\n",
       "\t1 & 5260 & 3910\\\\\n",
       "\t2 & 5470 & 4220\\\\\n",
       "\t3 & 5640 & 3885\\\\\n",
       "\t4 & 6180 & 5160\\\\\n",
       "\t5 & 6390 & 5645\\\\\n",
       "\t6 & 6515 & 4680\\\\\n",
       "\\end{tabular}\n"
      ],
      "text/markdown": [
       "\n",
       "A data.frame: 6 × 2\n",
       "\n",
       "| <!--/--> | A &lt;dbl&gt; | B &lt;dbl&gt; |\n",
       "|---|---|---|\n",
       "| 1 | 5260 | 3910 |\n",
       "| 2 | 5470 | 4220 |\n",
       "| 3 | 5640 | 3885 |\n",
       "| 4 | 6180 | 5160 |\n",
       "| 5 | 6390 | 5645 |\n",
       "| 6 | 6515 | 4680 |\n",
       "\n"
      ],
      "text/plain": [
       "  A    B   \n",
       "1 5260 3910\n",
       "2 5470 4220\n",
       "3 5640 3885\n",
       "4 6180 5160\n",
       "5 6390 5645\n",
       "6 6515 4680"
      ]
     },
     "metadata": {},
     "output_type": "display_data"
    }
   ],
   "source": [
    "d <- data.frame(A=a, B=b)\n",
    "head(d)"
   ]
  },
  {
   "cell_type": "markdown",
   "id": "cf05166f",
   "metadata": {},
   "source": [
    "#### Adding a column in the data frame "
   ]
  },
  {
   "cell_type": "code",
   "execution_count": 135,
   "id": "8d526668",
   "metadata": {},
   "outputs": [
    {
     "data": {
      "text/html": [
       "<table class=\"dataframe\">\n",
       "<caption>A data.frame: 6 × 3</caption>\n",
       "<thead>\n",
       "\t<tr><th></th><th scope=col>A</th><th scope=col>B</th><th scope=col>c</th></tr>\n",
       "\t<tr><th></th><th scope=col>&lt;dbl&gt;</th><th scope=col>&lt;dbl&gt;</th><th scope=col>&lt;dbl&gt;</th></tr>\n",
       "</thead>\n",
       "<tbody>\n",
       "\t<tr><th scope=row>1</th><td>5260</td><td>3910</td><td> 9170</td></tr>\n",
       "\t<tr><th scope=row>2</th><td>5470</td><td>4220</td><td> 9690</td></tr>\n",
       "\t<tr><th scope=row>3</th><td>5640</td><td>3885</td><td> 9525</td></tr>\n",
       "\t<tr><th scope=row>4</th><td>6180</td><td>5160</td><td>11340</td></tr>\n",
       "\t<tr><th scope=row>5</th><td>6390</td><td>5645</td><td>12035</td></tr>\n",
       "\t<tr><th scope=row>6</th><td>6515</td><td>4680</td><td>11195</td></tr>\n",
       "</tbody>\n",
       "</table>\n"
      ],
      "text/latex": [
       "A data.frame: 6 × 3\n",
       "\\begin{tabular}{r|lll}\n",
       "  & A & B & c\\\\\n",
       "  & <dbl> & <dbl> & <dbl>\\\\\n",
       "\\hline\n",
       "\t1 & 5260 & 3910 &  9170\\\\\n",
       "\t2 & 5470 & 4220 &  9690\\\\\n",
       "\t3 & 5640 & 3885 &  9525\\\\\n",
       "\t4 & 6180 & 5160 & 11340\\\\\n",
       "\t5 & 6390 & 5645 & 12035\\\\\n",
       "\t6 & 6515 & 4680 & 11195\\\\\n",
       "\\end{tabular}\n"
      ],
      "text/markdown": [
       "\n",
       "A data.frame: 6 × 3\n",
       "\n",
       "| <!--/--> | A &lt;dbl&gt; | B &lt;dbl&gt; | c &lt;dbl&gt; |\n",
       "|---|---|---|---|\n",
       "| 1 | 5260 | 3910 |  9170 |\n",
       "| 2 | 5470 | 4220 |  9690 |\n",
       "| 3 | 5640 | 3885 |  9525 |\n",
       "| 4 | 6180 | 5160 | 11340 |\n",
       "| 5 | 6390 | 5645 | 12035 |\n",
       "| 6 | 6515 | 4680 | 11195 |\n",
       "\n"
      ],
      "text/plain": [
       "  A    B    c    \n",
       "1 5260 3910  9170\n",
       "2 5470 4220  9690\n",
       "3 5640 3885  9525\n",
       "4 6180 5160 11340\n",
       "5 6390 5645 12035\n",
       "6 6515 4680 11195"
      ]
     },
     "metadata": {},
     "output_type": "display_data"
    }
   ],
   "source": [
    "d$c <- d$A + d$B\n",
    "head(d)"
   ]
  },
  {
   "cell_type": "code",
   "execution_count": 136,
   "id": "ed285c21",
   "metadata": {},
   "outputs": [
    {
     "data": {
      "text/html": [
       "<table class=\"dataframe\">\n",
       "<caption>A data.frame: 6 × 2</caption>\n",
       "<thead>\n",
       "\t<tr><th></th><th scope=col>B</th><th scope=col>c</th></tr>\n",
       "\t<tr><th></th><th scope=col>&lt;dbl&gt;</th><th scope=col>&lt;dbl&gt;</th></tr>\n",
       "</thead>\n",
       "<tbody>\n",
       "\t<tr><th scope=row>1</th><td>3910</td><td> 9170</td></tr>\n",
       "\t<tr><th scope=row>2</th><td>4220</td><td> 9690</td></tr>\n",
       "\t<tr><th scope=row>3</th><td>3885</td><td> 9525</td></tr>\n",
       "\t<tr><th scope=row>4</th><td>5160</td><td>11340</td></tr>\n",
       "\t<tr><th scope=row>5</th><td>5645</td><td>12035</td></tr>\n",
       "\t<tr><th scope=row>6</th><td>4680</td><td>11195</td></tr>\n",
       "</tbody>\n",
       "</table>\n"
      ],
      "text/latex": [
       "A data.frame: 6 × 2\n",
       "\\begin{tabular}{r|ll}\n",
       "  & B & c\\\\\n",
       "  & <dbl> & <dbl>\\\\\n",
       "\\hline\n",
       "\t1 & 3910 &  9170\\\\\n",
       "\t2 & 4220 &  9690\\\\\n",
       "\t3 & 3885 &  9525\\\\\n",
       "\t4 & 5160 & 11340\\\\\n",
       "\t5 & 5645 & 12035\\\\\n",
       "\t6 & 4680 & 11195\\\\\n",
       "\\end{tabular}\n"
      ],
      "text/markdown": [
       "\n",
       "A data.frame: 6 × 2\n",
       "\n",
       "| <!--/--> | B &lt;dbl&gt; | c &lt;dbl&gt; |\n",
       "|---|---|---|\n",
       "| 1 | 3910 |  9170 |\n",
       "| 2 | 4220 |  9690 |\n",
       "| 3 | 3885 |  9525 |\n",
       "| 4 | 5160 | 11340 |\n",
       "| 5 | 5645 | 12035 |\n",
       "| 6 | 4680 | 11195 |\n",
       "\n"
      ],
      "text/plain": [
       "  B    c    \n",
       "1 3910  9170\n",
       "2 4220  9690\n",
       "3 3885  9525\n",
       "4 5160 11340\n",
       "5 5645 12035\n",
       "6 4680 11195"
      ]
     },
     "metadata": {},
     "output_type": "display_data"
    }
   ],
   "source": [
    "d$A <- NULL\n",
    "head(d)"
   ]
  },
  {
   "cell_type": "markdown",
   "id": "b3c2ac80",
   "metadata": {},
   "source": [
    "####  Reading csv file\n",
    "There are many functions for reading CSV, Excel, and RData formats."
   ]
  },
  {
   "cell_type": "code",
   "execution_count": 137,
   "id": "cb4df166",
   "metadata": {},
   "outputs": [
    {
     "data": {
      "text/html": [
       "<table class=\"dataframe\">\n",
       "<caption>A data.frame: 6 × 14</caption>\n",
       "<thead>\n",
       "\t<tr><th></th><th scope=col>Type</th><th scope=col>Alcohol</th><th scope=col>Malic</th><th scope=col>Ash</th><th scope=col>Alcalinity</th><th scope=col>Magnesium</th><th scope=col>Phenols</th><th scope=col>Flavanoids</th><th scope=col>Nonflavanoids</th><th scope=col>Proanthocyanins</th><th scope=col>Color</th><th scope=col>Hue</th><th scope=col>Dilution</th><th scope=col>Proline</th></tr>\n",
       "\t<tr><th></th><th scope=col>&lt;int&gt;</th><th scope=col>&lt;dbl&gt;</th><th scope=col>&lt;dbl&gt;</th><th scope=col>&lt;dbl&gt;</th><th scope=col>&lt;dbl&gt;</th><th scope=col>&lt;int&gt;</th><th scope=col>&lt;dbl&gt;</th><th scope=col>&lt;dbl&gt;</th><th scope=col>&lt;dbl&gt;</th><th scope=col>&lt;dbl&gt;</th><th scope=col>&lt;dbl&gt;</th><th scope=col>&lt;dbl&gt;</th><th scope=col>&lt;dbl&gt;</th><th scope=col>&lt;int&gt;</th></tr>\n",
       "</thead>\n",
       "<tbody>\n",
       "\t<tr><th scope=row>1</th><td>1</td><td>13.20</td><td>1.78</td><td>2.14</td><td>11.2</td><td>100</td><td>2.65</td><td>2.76</td><td>0.26</td><td>1.28</td><td>4.38</td><td>1.05</td><td>3.40</td><td>1050</td></tr>\n",
       "\t<tr><th scope=row>2</th><td>1</td><td>13.16</td><td>2.36</td><td>2.67</td><td>18.6</td><td>101</td><td>2.80</td><td>3.24</td><td>0.30</td><td>2.81</td><td>5.68</td><td>1.03</td><td>3.17</td><td>1185</td></tr>\n",
       "\t<tr><th scope=row>3</th><td>1</td><td>14.37</td><td>1.95</td><td>2.50</td><td>16.8</td><td>113</td><td>3.85</td><td>3.49</td><td>0.24</td><td>2.18</td><td>7.80</td><td>0.86</td><td>3.45</td><td>1480</td></tr>\n",
       "\t<tr><th scope=row>4</th><td>1</td><td>13.24</td><td>2.59</td><td>2.87</td><td>21.0</td><td>118</td><td>2.80</td><td>2.69</td><td>0.39</td><td>1.82</td><td>4.32</td><td>1.04</td><td>2.93</td><td> 735</td></tr>\n",
       "\t<tr><th scope=row>5</th><td>1</td><td>14.20</td><td>1.76</td><td>2.45</td><td>15.2</td><td>112</td><td>3.27</td><td>3.39</td><td>0.34</td><td>1.97</td><td>6.75</td><td>1.05</td><td>2.85</td><td>1450</td></tr>\n",
       "\t<tr><th scope=row>6</th><td>1</td><td>14.39</td><td>1.87</td><td>2.45</td><td>14.6</td><td> 96</td><td>2.50</td><td>2.52</td><td>0.30</td><td>1.98</td><td>5.25</td><td>1.02</td><td>3.58</td><td>1290</td></tr>\n",
       "</tbody>\n",
       "</table>\n"
      ],
      "text/latex": [
       "A data.frame: 6 × 14\n",
       "\\begin{tabular}{r|llllllllllllll}\n",
       "  & Type & Alcohol & Malic & Ash & Alcalinity & Magnesium & Phenols & Flavanoids & Nonflavanoids & Proanthocyanins & Color & Hue & Dilution & Proline\\\\\n",
       "  & <int> & <dbl> & <dbl> & <dbl> & <dbl> & <int> & <dbl> & <dbl> & <dbl> & <dbl> & <dbl> & <dbl> & <dbl> & <int>\\\\\n",
       "\\hline\n",
       "\t1 & 1 & 13.20 & 1.78 & 2.14 & 11.2 & 100 & 2.65 & 2.76 & 0.26 & 1.28 & 4.38 & 1.05 & 3.40 & 1050\\\\\n",
       "\t2 & 1 & 13.16 & 2.36 & 2.67 & 18.6 & 101 & 2.80 & 3.24 & 0.30 & 2.81 & 5.68 & 1.03 & 3.17 & 1185\\\\\n",
       "\t3 & 1 & 14.37 & 1.95 & 2.50 & 16.8 & 113 & 3.85 & 3.49 & 0.24 & 2.18 & 7.80 & 0.86 & 3.45 & 1480\\\\\n",
       "\t4 & 1 & 13.24 & 2.59 & 2.87 & 21.0 & 118 & 2.80 & 2.69 & 0.39 & 1.82 & 4.32 & 1.04 & 2.93 &  735\\\\\n",
       "\t5 & 1 & 14.20 & 1.76 & 2.45 & 15.2 & 112 & 3.27 & 3.39 & 0.34 & 1.97 & 6.75 & 1.05 & 2.85 & 1450\\\\\n",
       "\t6 & 1 & 14.39 & 1.87 & 2.45 & 14.6 &  96 & 2.50 & 2.52 & 0.30 & 1.98 & 5.25 & 1.02 & 3.58 & 1290\\\\\n",
       "\\end{tabular}\n"
      ],
      "text/markdown": [
       "\n",
       "A data.frame: 6 × 14\n",
       "\n",
       "| <!--/--> | Type &lt;int&gt; | Alcohol &lt;dbl&gt; | Malic &lt;dbl&gt; | Ash &lt;dbl&gt; | Alcalinity &lt;dbl&gt; | Magnesium &lt;int&gt; | Phenols &lt;dbl&gt; | Flavanoids &lt;dbl&gt; | Nonflavanoids &lt;dbl&gt; | Proanthocyanins &lt;dbl&gt; | Color &lt;dbl&gt; | Hue &lt;dbl&gt; | Dilution &lt;dbl&gt; | Proline &lt;int&gt; |\n",
       "|---|---|---|---|---|---|---|---|---|---|---|---|---|---|---|\n",
       "| 1 | 1 | 13.20 | 1.78 | 2.14 | 11.2 | 100 | 2.65 | 2.76 | 0.26 | 1.28 | 4.38 | 1.05 | 3.40 | 1050 |\n",
       "| 2 | 1 | 13.16 | 2.36 | 2.67 | 18.6 | 101 | 2.80 | 3.24 | 0.30 | 2.81 | 5.68 | 1.03 | 3.17 | 1185 |\n",
       "| 3 | 1 | 14.37 | 1.95 | 2.50 | 16.8 | 113 | 3.85 | 3.49 | 0.24 | 2.18 | 7.80 | 0.86 | 3.45 | 1480 |\n",
       "| 4 | 1 | 13.24 | 2.59 | 2.87 | 21.0 | 118 | 2.80 | 2.69 | 0.39 | 1.82 | 4.32 | 1.04 | 2.93 |  735 |\n",
       "| 5 | 1 | 14.20 | 1.76 | 2.45 | 15.2 | 112 | 3.27 | 3.39 | 0.34 | 1.97 | 6.75 | 1.05 | 2.85 | 1450 |\n",
       "| 6 | 1 | 14.39 | 1.87 | 2.45 | 14.6 |  96 | 2.50 | 2.52 | 0.30 | 1.98 | 5.25 | 1.02 | 3.58 | 1290 |\n",
       "\n"
      ],
      "text/plain": [
       "  Type Alcohol Malic Ash  Alcalinity Magnesium Phenols Flavanoids Nonflavanoids\n",
       "1 1    13.20   1.78  2.14 11.2       100       2.65    2.76       0.26         \n",
       "2 1    13.16   2.36  2.67 18.6       101       2.80    3.24       0.30         \n",
       "3 1    14.37   1.95  2.50 16.8       113       3.85    3.49       0.24         \n",
       "4 1    13.24   2.59  2.87 21.0       118       2.80    2.69       0.39         \n",
       "5 1    14.20   1.76  2.45 15.2       112       3.27    3.39       0.34         \n",
       "6 1    14.39   1.87  2.45 14.6        96       2.50    2.52       0.30         \n",
       "  Proanthocyanins Color Hue  Dilution Proline\n",
       "1 1.28            4.38  1.05 3.40     1050   \n",
       "2 2.81            5.68  1.03 3.17     1185   \n",
       "3 2.18            7.80  0.86 3.45     1480   \n",
       "4 1.82            4.32  1.04 2.93      735   \n",
       "5 1.97            6.75  1.05 2.85     1450   \n",
       "6 1.98            5.25  1.02 3.58     1290   "
      ]
     },
     "metadata": {},
     "output_type": "display_data"
    }
   ],
   "source": [
    "wine = read.table(\n",
    "    \"http://archive.ics.uci.edu/ml/machine-learning-databases/wine/wine.data\", \n",
    "                  header = TRUE, sep = \",\")\n",
    "  colnames(wine) <- c('Type', 'Alcohol', 'Malic', 'Ash', \n",
    "                      'Alcalinity', 'Magnesium', 'Phenols', \n",
    "                      'Flavanoids', 'Nonflavanoids',\n",
    "                      'Proanthocyanins', 'Color', 'Hue', \n",
    "                      'Dilution', 'Proline')\n",
    "head(wine)"
   ]
  },
  {
   "cell_type": "markdown",
   "id": "11892ffc",
   "metadata": {},
   "source": [
    "####  saving in binary format "
   ]
  },
  {
   "cell_type": "code",
   "execution_count": 138,
   "id": "2143afee",
   "metadata": {},
   "outputs": [],
   "source": [
    "save(wine, file=\"wine.RData\")"
   ]
  },
  {
   "cell_type": "markdown",
   "id": "837380f2",
   "metadata": {},
   "source": [
    "####  removing data frame from memory"
   ]
  },
  {
   "cell_type": "code",
   "execution_count": 139,
   "id": "cd5bdb2d",
   "metadata": {},
   "outputs": [],
   "source": [
    "rm(wine)"
   ]
  },
  {
   "cell_type": "markdown",
   "id": "c5b982a0",
   "metadata": {},
   "source": [
    "####  load binary format"
   ]
  },
  {
   "cell_type": "code",
   "execution_count": 140,
   "id": "4bb77c1f",
   "metadata": {},
   "outputs": [
    {
     "data": {
      "text/html": [
       "<table class=\"dataframe\">\n",
       "<caption>A data.frame: 3 × 14</caption>\n",
       "<thead>\n",
       "\t<tr><th></th><th scope=col>Type</th><th scope=col>Alcohol</th><th scope=col>Malic</th><th scope=col>Ash</th><th scope=col>Alcalinity</th><th scope=col>Magnesium</th><th scope=col>Phenols</th><th scope=col>Flavanoids</th><th scope=col>Nonflavanoids</th><th scope=col>Proanthocyanins</th><th scope=col>Color</th><th scope=col>Hue</th><th scope=col>Dilution</th><th scope=col>Proline</th></tr>\n",
       "\t<tr><th></th><th scope=col>&lt;int&gt;</th><th scope=col>&lt;dbl&gt;</th><th scope=col>&lt;dbl&gt;</th><th scope=col>&lt;dbl&gt;</th><th scope=col>&lt;dbl&gt;</th><th scope=col>&lt;int&gt;</th><th scope=col>&lt;dbl&gt;</th><th scope=col>&lt;dbl&gt;</th><th scope=col>&lt;dbl&gt;</th><th scope=col>&lt;dbl&gt;</th><th scope=col>&lt;dbl&gt;</th><th scope=col>&lt;dbl&gt;</th><th scope=col>&lt;dbl&gt;</th><th scope=col>&lt;int&gt;</th></tr>\n",
       "</thead>\n",
       "<tbody>\n",
       "\t<tr><th scope=row>1</th><td>1</td><td>13.20</td><td>1.78</td><td>2.14</td><td>11.2</td><td>100</td><td>2.65</td><td>2.76</td><td>0.26</td><td>1.28</td><td>4.38</td><td>1.05</td><td>3.40</td><td>1050</td></tr>\n",
       "\t<tr><th scope=row>2</th><td>1</td><td>13.16</td><td>2.36</td><td>2.67</td><td>18.6</td><td>101</td><td>2.80</td><td>3.24</td><td>0.30</td><td>2.81</td><td>5.68</td><td>1.03</td><td>3.17</td><td>1185</td></tr>\n",
       "\t<tr><th scope=row>3</th><td>1</td><td>14.37</td><td>1.95</td><td>2.50</td><td>16.8</td><td>113</td><td>3.85</td><td>3.49</td><td>0.24</td><td>2.18</td><td>7.80</td><td>0.86</td><td>3.45</td><td>1480</td></tr>\n",
       "</tbody>\n",
       "</table>\n"
      ],
      "text/latex": [
       "A data.frame: 3 × 14\n",
       "\\begin{tabular}{r|llllllllllllll}\n",
       "  & Type & Alcohol & Malic & Ash & Alcalinity & Magnesium & Phenols & Flavanoids & Nonflavanoids & Proanthocyanins & Color & Hue & Dilution & Proline\\\\\n",
       "  & <int> & <dbl> & <dbl> & <dbl> & <dbl> & <int> & <dbl> & <dbl> & <dbl> & <dbl> & <dbl> & <dbl> & <dbl> & <int>\\\\\n",
       "\\hline\n",
       "\t1 & 1 & 13.20 & 1.78 & 2.14 & 11.2 & 100 & 2.65 & 2.76 & 0.26 & 1.28 & 4.38 & 1.05 & 3.40 & 1050\\\\\n",
       "\t2 & 1 & 13.16 & 2.36 & 2.67 & 18.6 & 101 & 2.80 & 3.24 & 0.30 & 2.81 & 5.68 & 1.03 & 3.17 & 1185\\\\\n",
       "\t3 & 1 & 14.37 & 1.95 & 2.50 & 16.8 & 113 & 3.85 & 3.49 & 0.24 & 2.18 & 7.80 & 0.86 & 3.45 & 1480\\\\\n",
       "\\end{tabular}\n"
      ],
      "text/markdown": [
       "\n",
       "A data.frame: 3 × 14\n",
       "\n",
       "| <!--/--> | Type &lt;int&gt; | Alcohol &lt;dbl&gt; | Malic &lt;dbl&gt; | Ash &lt;dbl&gt; | Alcalinity &lt;dbl&gt; | Magnesium &lt;int&gt; | Phenols &lt;dbl&gt; | Flavanoids &lt;dbl&gt; | Nonflavanoids &lt;dbl&gt; | Proanthocyanins &lt;dbl&gt; | Color &lt;dbl&gt; | Hue &lt;dbl&gt; | Dilution &lt;dbl&gt; | Proline &lt;int&gt; |\n",
       "|---|---|---|---|---|---|---|---|---|---|---|---|---|---|---|\n",
       "| 1 | 1 | 13.20 | 1.78 | 2.14 | 11.2 | 100 | 2.65 | 2.76 | 0.26 | 1.28 | 4.38 | 1.05 | 3.40 | 1050 |\n",
       "| 2 | 1 | 13.16 | 2.36 | 2.67 | 18.6 | 101 | 2.80 | 3.24 | 0.30 | 2.81 | 5.68 | 1.03 | 3.17 | 1185 |\n",
       "| 3 | 1 | 14.37 | 1.95 | 2.50 | 16.8 | 113 | 3.85 | 3.49 | 0.24 | 2.18 | 7.80 | 0.86 | 3.45 | 1480 |\n",
       "\n"
      ],
      "text/plain": [
       "  Type Alcohol Malic Ash  Alcalinity Magnesium Phenols Flavanoids Nonflavanoids\n",
       "1 1    13.20   1.78  2.14 11.2       100       2.65    2.76       0.26         \n",
       "2 1    13.16   2.36  2.67 18.6       101       2.80    3.24       0.30         \n",
       "3 1    14.37   1.95  2.50 16.8       113       3.85    3.49       0.24         \n",
       "  Proanthocyanins Color Hue  Dilution Proline\n",
       "1 1.28            4.38  1.05 3.40     1050   \n",
       "2 2.81            5.68  1.03 3.17     1185   \n",
       "3 2.18            7.80  0.86 3.45     1480   "
      ]
     },
     "metadata": {},
     "output_type": "display_data"
    }
   ],
   "source": [
    "load(\"wine.RData\")\n",
    "head(wine, 3)"
   ]
  },
  {
   "cell_type": "markdown",
   "id": "dfd0d49f",
   "metadata": {},
   "source": [
    "####  exporting data.frame into csv file"
   ]
  },
  {
   "cell_type": "code",
   "execution_count": 141,
   "id": "99c07fd0",
   "metadata": {},
   "outputs": [],
   "source": [
    "write.table(wine, file=\"wine.csv\", row.names=FALSE, quote = FALSE, sep = \",\")"
   ]
  },
  {
   "cell_type": "markdown",
   "id": "f5147833",
   "metadata": {},
   "source": [
    "####  filtering vectors"
   ]
  },
  {
   "cell_type": "code",
   "execution_count": 142,
   "id": "82575667",
   "metadata": {},
   "outputs": [
    {
     "data": {
      "text/html": [
       "<style>\n",
       ".list-inline {list-style: none; margin:0; padding: 0}\n",
       ".list-inline>li {display: inline-block}\n",
       ".list-inline>li:not(:last-child)::after {content: \"\\00b7\"; padding: 0 .5ex}\n",
       "</style>\n",
       "<ol class=list-inline><li>FALSE</li><li>FALSE</li><li>FALSE</li><li>FALSE</li><li>FALSE</li><li>FALSE</li><li>FALSE</li><li>TRUE</li><li>TRUE</li><li>TRUE</li><li>TRUE</li></ol>\n"
      ],
      "text/latex": [
       "\\begin{enumerate*}\n",
       "\\item FALSE\n",
       "\\item FALSE\n",
       "\\item FALSE\n",
       "\\item FALSE\n",
       "\\item FALSE\n",
       "\\item FALSE\n",
       "\\item FALSE\n",
       "\\item TRUE\n",
       "\\item TRUE\n",
       "\\item TRUE\n",
       "\\item TRUE\n",
       "\\end{enumerate*}\n"
      ],
      "text/markdown": [
       "1. FALSE\n",
       "2. FALSE\n",
       "3. FALSE\n",
       "4. FALSE\n",
       "5. FALSE\n",
       "6. FALSE\n",
       "7. FALSE\n",
       "8. TRUE\n",
       "9. TRUE\n",
       "10. TRUE\n",
       "11. TRUE\n",
       "\n",
       "\n"
      ],
      "text/plain": [
       " [1] FALSE FALSE FALSE FALSE FALSE FALSE FALSE  TRUE  TRUE  TRUE  TRUE"
      ]
     },
     "metadata": {},
     "output_type": "display_data"
    }
   ],
   "source": [
    "a <- c(5260,5470,5640,6180,6390,6515,6805,7515,7515,8230,8770)\n",
    "b <- c(3910,4220,3885,5160,5645,4680,5265,5975,6790,6900,7335)\n",
    "\n",
    "# logical vector\n",
    "bool <- (a > 7000)\n",
    "bool"
   ]
  },
  {
   "cell_type": "code",
   "execution_count": 143,
   "id": "a03b1408",
   "metadata": {},
   "outputs": [
    {
     "data": {
      "text/html": [
       "<style>\n",
       ".list-inline {list-style: none; margin:0; padding: 0}\n",
       ".list-inline>li {display: inline-block}\n",
       ".list-inline>li:not(:last-child)::after {content: \"\\00b7\"; padding: 0 .5ex}\n",
       "</style>\n",
       "<ol class=list-inline><li>7515</li><li>7515</li><li>8230</li><li>8770</li></ol>\n"
      ],
      "text/latex": [
       "\\begin{enumerate*}\n",
       "\\item 7515\n",
       "\\item 7515\n",
       "\\item 8230\n",
       "\\item 8770\n",
       "\\end{enumerate*}\n"
      ],
      "text/markdown": [
       "1. 7515\n",
       "2. 7515\n",
       "3. 8230\n",
       "4. 8770\n",
       "\n",
       "\n"
      ],
      "text/plain": [
       "[1] 7515 7515 8230 8770"
      ]
     },
     "metadata": {},
     "output_type": "display_data"
    }
   ],
   "source": [
    "# selecting elements from positions that are true\n",
    "a[bool] "
   ]
  },
  {
   "cell_type": "code",
   "execution_count": 144,
   "id": "20ba5879",
   "metadata": {},
   "outputs": [
    {
     "data": {
      "text/html": [
       "<style>\n",
       ".list-inline {list-style: none; margin:0; padding: 0}\n",
       ".list-inline>li {display: inline-block}\n",
       ".list-inline>li:not(:last-child)::after {content: \"\\00b7\"; padding: 0 .5ex}\n",
       "</style>\n",
       "<ol class=list-inline><li>3910</li><li>4220</li><li>3885</li><li>5975</li><li>6790</li><li>6900</li><li>7335</li></ol>\n"
      ],
      "text/latex": [
       "\\begin{enumerate*}\n",
       "\\item 3910\n",
       "\\item 4220\n",
       "\\item 3885\n",
       "\\item 5975\n",
       "\\item 6790\n",
       "\\item 6900\n",
       "\\item 7335\n",
       "\\end{enumerate*}\n"
      ],
      "text/markdown": [
       "1. 3910\n",
       "2. 4220\n",
       "3. 3885\n",
       "4. 5975\n",
       "5. 6790\n",
       "6. 6900\n",
       "7. 7335\n",
       "\n",
       "\n"
      ],
      "text/plain": [
       "[1] 3910 4220 3885 5975 6790 6900 7335"
      ]
     },
     "metadata": {},
     "output_type": "display_data"
    }
   ],
   "source": [
    "# filtering with logical expressions\n",
    "b[a < 6000 | a > 7000]"
   ]
  },
  {
   "cell_type": "code",
   "execution_count": 145,
   "id": "d976d8c5",
   "metadata": {},
   "outputs": [
    {
     "data": {
      "text/html": [
       "<style>\n",
       ".list-inline {list-style: none; margin:0; padding: 0}\n",
       ".list-inline>li {display: inline-block}\n",
       ".list-inline>li:not(:last-child)::after {content: \"\\00b7\"; padding: 0 .5ex}\n",
       "</style>\n",
       "<ol class=list-inline><li>5160</li><li>5645</li><li>4680</li><li>5265</li></ol>\n"
      ],
      "text/latex": [
       "\\begin{enumerate*}\n",
       "\\item 5160\n",
       "\\item 5645\n",
       "\\item 4680\n",
       "\\item 5265\n",
       "\\end{enumerate*}\n"
      ],
      "text/markdown": [
       "1. 5160\n",
       "2. 5645\n",
       "3. 4680\n",
       "4. 5265\n",
       "\n",
       "\n"
      ],
      "text/plain": [
       "[1] 5160 5645 4680 5265"
      ]
     },
     "metadata": {},
     "output_type": "display_data"
    }
   ],
   "source": [
    "b[6000 <= a & a <= 7000]"
   ]
  },
  {
   "cell_type": "markdown",
   "id": "8c969809",
   "metadata": {},
   "source": [
    "####  filtering data frames"
   ]
  },
  {
   "cell_type": "code",
   "execution_count": 146,
   "id": "f0175992",
   "metadata": {},
   "outputs": [
    {
     "data": {
      "text/html": [
       "<table class=\"dataframe\">\n",
       "<caption>A data.frame: 11 × 3</caption>\n",
       "<thead>\n",
       "\t<tr><th></th><th scope=col>a</th><th scope=col>b</th><th scope=col>c</th></tr>\n",
       "\t<tr><th></th><th scope=col>&lt;dbl&gt;</th><th scope=col>&lt;dbl&gt;</th><th scope=col>&lt;dbl&gt;</th></tr>\n",
       "</thead>\n",
       "<tbody>\n",
       "\t<tr><th scope=row>1</th><td>5260</td><td>3910</td><td>1350</td></tr>\n",
       "\t<tr><th scope=row>2</th><td>5470</td><td>4220</td><td>1250</td></tr>\n",
       "\t<tr><th scope=row>3</th><td>5640</td><td>3885</td><td>1755</td></tr>\n",
       "\t<tr><th scope=row>4</th><td>6180</td><td>5160</td><td>1020</td></tr>\n",
       "\t<tr><th scope=row>5</th><td>6390</td><td>5645</td><td> 745</td></tr>\n",
       "\t<tr><th scope=row>6</th><td>6515</td><td>4680</td><td>1835</td></tr>\n",
       "\t<tr><th scope=row>7</th><td>6805</td><td>5265</td><td>1540</td></tr>\n",
       "\t<tr><th scope=row>8</th><td>7515</td><td>5975</td><td>1540</td></tr>\n",
       "\t<tr><th scope=row>9</th><td>7515</td><td>6790</td><td> 725</td></tr>\n",
       "\t<tr><th scope=row>10</th><td>8230</td><td>6900</td><td>1330</td></tr>\n",
       "\t<tr><th scope=row>11</th><td>8770</td><td>7335</td><td>1435</td></tr>\n",
       "</tbody>\n",
       "</table>\n"
      ],
      "text/latex": [
       "A data.frame: 11 × 3\n",
       "\\begin{tabular}{r|lll}\n",
       "  & a & b & c\\\\\n",
       "  & <dbl> & <dbl> & <dbl>\\\\\n",
       "\\hline\n",
       "\t1 & 5260 & 3910 & 1350\\\\\n",
       "\t2 & 5470 & 4220 & 1250\\\\\n",
       "\t3 & 5640 & 3885 & 1755\\\\\n",
       "\t4 & 6180 & 5160 & 1020\\\\\n",
       "\t5 & 6390 & 5645 &  745\\\\\n",
       "\t6 & 6515 & 4680 & 1835\\\\\n",
       "\t7 & 6805 & 5265 & 1540\\\\\n",
       "\t8 & 7515 & 5975 & 1540\\\\\n",
       "\t9 & 7515 & 6790 &  725\\\\\n",
       "\t10 & 8230 & 6900 & 1330\\\\\n",
       "\t11 & 8770 & 7335 & 1435\\\\\n",
       "\\end{tabular}\n"
      ],
      "text/markdown": [
       "\n",
       "A data.frame: 11 × 3\n",
       "\n",
       "| <!--/--> | a &lt;dbl&gt; | b &lt;dbl&gt; | c &lt;dbl&gt; |\n",
       "|---|---|---|---|\n",
       "| 1 | 5260 | 3910 | 1350 |\n",
       "| 2 | 5470 | 4220 | 1250 |\n",
       "| 3 | 5640 | 3885 | 1755 |\n",
       "| 4 | 6180 | 5160 | 1020 |\n",
       "| 5 | 6390 | 5645 |  745 |\n",
       "| 6 | 6515 | 4680 | 1835 |\n",
       "| 7 | 6805 | 5265 | 1540 |\n",
       "| 8 | 7515 | 5975 | 1540 |\n",
       "| 9 | 7515 | 6790 |  725 |\n",
       "| 10 | 8230 | 6900 | 1330 |\n",
       "| 11 | 8770 | 7335 | 1435 |\n",
       "\n"
      ],
      "text/plain": [
       "   a    b    c   \n",
       "1  5260 3910 1350\n",
       "2  5470 4220 1250\n",
       "3  5640 3885 1755\n",
       "4  6180 5160 1020\n",
       "5  6390 5645  745\n",
       "6  6515 4680 1835\n",
       "7  6805 5265 1540\n",
       "8  7515 5975 1540\n",
       "9  7515 6790  725\n",
       "10 8230 6900 1330\n",
       "11 8770 7335 1435"
      ]
     },
     "metadata": {},
     "output_type": "display_data"
    }
   ],
   "source": [
    "data <- data.frame(a=a, b=b)\n",
    "data$c <- data$a - data$b\n",
    "head(data, nrow(data))"
   ]
  },
  {
   "cell_type": "code",
   "execution_count": 147,
   "id": "3f08fc76",
   "metadata": {},
   "outputs": [
    {
     "data": {
      "text/html": [
       "<table class=\"dataframe\">\n",
       "<caption>A data.frame: 4 × 3</caption>\n",
       "<thead>\n",
       "\t<tr><th></th><th scope=col>a</th><th scope=col>b</th><th scope=col>c</th></tr>\n",
       "\t<tr><th></th><th scope=col>&lt;dbl&gt;</th><th scope=col>&lt;dbl&gt;</th><th scope=col>&lt;dbl&gt;</th></tr>\n",
       "</thead>\n",
       "<tbody>\n",
       "\t<tr><th scope=row>8</th><td>7515</td><td>5975</td><td>1540</td></tr>\n",
       "\t<tr><th scope=row>9</th><td>7515</td><td>6790</td><td> 725</td></tr>\n",
       "\t<tr><th scope=row>10</th><td>8230</td><td>6900</td><td>1330</td></tr>\n",
       "\t<tr><th scope=row>11</th><td>8770</td><td>7335</td><td>1435</td></tr>\n",
       "</tbody>\n",
       "</table>\n"
      ],
      "text/latex": [
       "A data.frame: 4 × 3\n",
       "\\begin{tabular}{r|lll}\n",
       "  & a & b & c\\\\\n",
       "  & <dbl> & <dbl> & <dbl>\\\\\n",
       "\\hline\n",
       "\t8 & 7515 & 5975 & 1540\\\\\n",
       "\t9 & 7515 & 6790 &  725\\\\\n",
       "\t10 & 8230 & 6900 & 1330\\\\\n",
       "\t11 & 8770 & 7335 & 1435\\\\\n",
       "\\end{tabular}\n"
      ],
      "text/markdown": [
       "\n",
       "A data.frame: 4 × 3\n",
       "\n",
       "| <!--/--> | a &lt;dbl&gt; | b &lt;dbl&gt; | c &lt;dbl&gt; |\n",
       "|---|---|---|---|\n",
       "| 8 | 7515 | 5975 | 1540 |\n",
       "| 9 | 7515 | 6790 |  725 |\n",
       "| 10 | 8230 | 6900 | 1330 |\n",
       "| 11 | 8770 | 7335 | 1435 |\n",
       "\n"
      ],
      "text/plain": [
       "   a    b    c   \n",
       "8  7515 5975 1540\n",
       "9  7515 6790  725\n",
       "10 8230 6900 1330\n",
       "11 8770 7335 1435"
      ]
     },
     "metadata": {},
     "output_type": "display_data"
    }
   ],
   "source": [
    "head(data[data$a > 7000,])"
   ]
  },
  {
   "cell_type": "code",
   "execution_count": 148,
   "id": "9bbfd456",
   "metadata": {},
   "outputs": [
    {
     "data": {
      "text/html": [
       "<table class=\"dataframe\">\n",
       "<caption>A data.frame: 4 × 2</caption>\n",
       "<thead>\n",
       "\t<tr><th></th><th scope=col>a</th><th scope=col>b</th></tr>\n",
       "\t<tr><th></th><th scope=col>&lt;dbl&gt;</th><th scope=col>&lt;dbl&gt;</th></tr>\n",
       "</thead>\n",
       "<tbody>\n",
       "\t<tr><th scope=row>8</th><td>7515</td><td>5975</td></tr>\n",
       "\t<tr><th scope=row>9</th><td>7515</td><td>6790</td></tr>\n",
       "\t<tr><th scope=row>10</th><td>8230</td><td>6900</td></tr>\n",
       "\t<tr><th scope=row>11</th><td>8770</td><td>7335</td></tr>\n",
       "</tbody>\n",
       "</table>\n"
      ],
      "text/latex": [
       "A data.frame: 4 × 2\n",
       "\\begin{tabular}{r|ll}\n",
       "  & a & b\\\\\n",
       "  & <dbl> & <dbl>\\\\\n",
       "\\hline\n",
       "\t8 & 7515 & 5975\\\\\n",
       "\t9 & 7515 & 6790\\\\\n",
       "\t10 & 8230 & 6900\\\\\n",
       "\t11 & 8770 & 7335\\\\\n",
       "\\end{tabular}\n"
      ],
      "text/markdown": [
       "\n",
       "A data.frame: 4 × 2\n",
       "\n",
       "| <!--/--> | a &lt;dbl&gt; | b &lt;dbl&gt; |\n",
       "|---|---|---|\n",
       "| 8 | 7515 | 5975 |\n",
       "| 9 | 7515 | 6790 |\n",
       "| 10 | 8230 | 6900 |\n",
       "| 11 | 8770 | 7335 |\n",
       "\n"
      ],
      "text/plain": [
       "   a    b   \n",
       "8  7515 5975\n",
       "9  7515 6790\n",
       "10 8230 6900\n",
       "11 8770 7335"
      ]
     },
     "metadata": {},
     "output_type": "display_data"
    }
   ],
   "source": [
    "head(data[data$a > 7000,c(1,2)])"
   ]
  },
  {
   "cell_type": "markdown",
   "id": "a5454520",
   "metadata": {},
   "source": [
    "#### performance with matrix and data frames"
   ]
  },
  {
   "cell_type": "code",
   "execution_count": 149,
   "id": "cdc8c347",
   "metadata": {},
   "outputs": [],
   "source": [
    "rheight <- rnorm(100000, 1.8, sd=0.2)\n",
    "rweight <- rnorm(100000, 72, sd=15)"
   ]
  },
  {
   "cell_type": "markdown",
   "id": "f228be75",
   "metadata": {},
   "source": [
    "#### computing a entire column at once"
   ]
  },
  {
   "cell_type": "code",
   "execution_count": 150,
   "id": "dae10733",
   "metadata": {},
   "outputs": [
    {
     "data": {
      "text/plain": [
       "Time difference of 0.002048254 secs"
      ]
     },
     "metadata": {},
     "output_type": "display_data"
    },
    {
     "data": {
      "text/plain": [
       "2400984 bytes"
      ]
     },
     "metadata": {},
     "output_type": "display_data"
    }
   ],
   "source": [
    "start_time <- Sys.time()\n",
    "hw <- data.frame(height=rheight, weight=rweight)\n",
    "hw$bmi <- hw$weight/hw$height^2\n",
    "end_time <- Sys.time()\n",
    "end_time - start_time\n",
    "object.size(hw)"
   ]
  },
  {
   "cell_type": "markdown",
   "id": "740b7c7c",
   "metadata": {},
   "source": [
    "#### processing cell by cell"
   ]
  },
  {
   "cell_type": "code",
   "execution_count": 151,
   "id": "f0590ce1",
   "metadata": {},
   "outputs": [
    {
     "data": {
      "text/plain": [
       "Time difference of 4.036234 secs"
      ]
     },
     "metadata": {},
     "output_type": "display_data"
    }
   ],
   "source": [
    "start_time <- Sys.time()\n",
    "hw <- data.frame(height=rheight, weight=rweight)\n",
    "for (i in 1:nrow(hw)) {\n",
    "  hw$bmi[i] <- hw$weight[i]/hw$height[i]^2\n",
    "}\n",
    "end_time <- Sys.time()\n",
    "end_time - start_time"
   ]
  },
  {
   "cell_type": "markdown",
   "id": "feadffd7",
   "metadata": {},
   "source": [
    "#### convert the entire column"
   ]
  },
  {
   "cell_type": "code",
   "execution_count": 152,
   "id": "b5e4b09a",
   "metadata": {},
   "outputs": [
    {
     "data": {
      "text/plain": [
       "Time difference of 0.1469693 secs"
      ]
     },
     "metadata": {},
     "output_type": "display_data"
    }
   ],
   "source": [
    "start_time <- Sys.time()\n",
    "hw <- data.frame(height=rheight, weight=rweight)\n",
    "hw <- as.matrix(hw)\n",
    "hw <- cbind(hw, 0)\n",
    "for (i in 1:nrow(hw)) {\n",
    "  hw[i,3] <- hw[i,2]/hw[i,1]^2\n",
    "}\n",
    "end_time <- Sys.time()\n",
    "end_time - start_time\n"
   ]
  },
  {
   "cell_type": "markdown",
   "id": "8314bae7",
   "metadata": {},
   "source": [
    "#### apply family\n",
    "\n",
    "apply functions can be applied for all rows or columns. \n",
    "\n",
    "The first character of the function name establishes the return type (s: simple, l: list)."
   ]
  },
  {
   "cell_type": "code",
   "execution_count": 153,
   "id": "fa3b939a",
   "metadata": {},
   "outputs": [
    {
     "data": {
      "text/html": [
       "<table class=\"dataframe\">\n",
       "<caption>A data.frame: 6 × 2</caption>\n",
       "<thead>\n",
       "\t<tr><th></th><th scope=col>blood.glucose</th><th scope=col>short.velocity</th></tr>\n",
       "\t<tr><th></th><th scope=col>&lt;dbl&gt;</th><th scope=col>&lt;dbl&gt;</th></tr>\n",
       "</thead>\n",
       "<tbody>\n",
       "\t<tr><th scope=row>1</th><td>15.3</td><td>1.76</td></tr>\n",
       "\t<tr><th scope=row>2</th><td>10.8</td><td>1.34</td></tr>\n",
       "\t<tr><th scope=row>3</th><td> 8.1</td><td>1.27</td></tr>\n",
       "\t<tr><th scope=row>4</th><td>19.5</td><td>1.47</td></tr>\n",
       "\t<tr><th scope=row>5</th><td> 7.2</td><td>1.27</td></tr>\n",
       "\t<tr><th scope=row>6</th><td> 5.3</td><td>1.49</td></tr>\n",
       "</tbody>\n",
       "</table>\n"
      ],
      "text/latex": [
       "A data.frame: 6 × 2\n",
       "\\begin{tabular}{r|ll}\n",
       "  & blood.glucose & short.velocity\\\\\n",
       "  & <dbl> & <dbl>\\\\\n",
       "\\hline\n",
       "\t1 & 15.3 & 1.76\\\\\n",
       "\t2 & 10.8 & 1.34\\\\\n",
       "\t3 &  8.1 & 1.27\\\\\n",
       "\t4 & 19.5 & 1.47\\\\\n",
       "\t5 &  7.2 & 1.27\\\\\n",
       "\t6 &  5.3 & 1.49\\\\\n",
       "\\end{tabular}\n"
      ],
      "text/markdown": [
       "\n",
       "A data.frame: 6 × 2\n",
       "\n",
       "| <!--/--> | blood.glucose &lt;dbl&gt; | short.velocity &lt;dbl&gt; |\n",
       "|---|---|---|\n",
       "| 1 | 15.3 | 1.76 |\n",
       "| 2 | 10.8 | 1.34 |\n",
       "| 3 |  8.1 | 1.27 |\n",
       "| 4 | 19.5 | 1.47 |\n",
       "| 5 |  7.2 | 1.27 |\n",
       "| 6 |  5.3 | 1.49 |\n",
       "\n"
      ],
      "text/plain": [
       "  blood.glucose short.velocity\n",
       "1 15.3          1.76          \n",
       "2 10.8          1.34          \n",
       "3  8.1          1.27          \n",
       "4 19.5          1.47          \n",
       "5  7.2          1.27          \n",
       "6  5.3          1.49          "
      ]
     },
     "metadata": {},
     "output_type": "display_data"
    }
   ],
   "source": [
    "library(ISwR)\n",
    "data(thuesen)\n",
    "head(thuesen)"
   ]
  },
  {
   "cell_type": "code",
   "execution_count": 154,
   "id": "0a409147",
   "metadata": {},
   "outputs": [
    {
     "data": {
      "text/html": [
       "<dl>\n",
       "\t<dt>$blood.glucose</dt>\n",
       "\t\t<dd>10.3</dd>\n",
       "\t<dt>$short.velocity</dt>\n",
       "\t\t<dd>1.32565217391304</dd>\n",
       "</dl>\n"
      ],
      "text/latex": [
       "\\begin{description}\n",
       "\\item[\\$blood.glucose] 10.3\n",
       "\\item[\\$short.velocity] 1.32565217391304\n",
       "\\end{description}\n"
      ],
      "text/markdown": [
       "$blood.glucose\n",
       ":   10.3\n",
       "$short.velocity\n",
       ":   1.32565217391304\n",
       "\n",
       "\n"
      ],
      "text/plain": [
       "$blood.glucose\n",
       "[1] 10.3\n",
       "\n",
       "$short.velocity\n",
       "[1] 1.325652\n"
      ]
     },
     "metadata": {},
     "output_type": "display_data"
    }
   ],
   "source": [
    "#lapply returns a list\n",
    "lapply(thuesen, mean, na.rm=T)"
   ]
  },
  {
   "cell_type": "code",
   "execution_count": 155,
   "id": "37e7c1b7",
   "metadata": {},
   "outputs": [
    {
     "data": {
      "text/html": [
       "<style>\n",
       ".dl-inline {width: auto; margin:0; padding: 0}\n",
       ".dl-inline>dt, .dl-inline>dd {float: none; width: auto; display: inline-block}\n",
       ".dl-inline>dt::after {content: \":\\0020\"; padding-right: .5ex}\n",
       ".dl-inline>dt:not(:first-of-type) {padding-left: .5ex}\n",
       "</style><dl class=dl-inline><dt>blood.glucose</dt><dd>10.3</dd><dt>short.velocity</dt><dd>1.32565217391304</dd></dl>\n"
      ],
      "text/latex": [
       "\\begin{description*}\n",
       "\\item[blood.glucose] 10.3\n",
       "\\item[short.velocity] 1.32565217391304\n",
       "\\end{description*}\n"
      ],
      "text/markdown": [
       "blood.glucose\n",
       ":   10.3short.velocity\n",
       ":   1.32565217391304\n",
       "\n"
      ],
      "text/plain": [
       " blood.glucose short.velocity \n",
       "     10.300000       1.325652 "
      ]
     },
     "metadata": {},
     "output_type": "display_data"
    }
   ],
   "source": [
    "#sapply returns a vector\n",
    "sapply(thuesen, mean, na.rm=T)"
   ]
  },
  {
   "cell_type": "code",
   "execution_count": 156,
   "id": "a91b1d25",
   "metadata": {},
   "outputs": [
    {
     "data": {
      "text/html": [
       "<style>\n",
       ".list-inline {list-style: none; margin:0; padding: 0}\n",
       ".list-inline>li {display: inline-block}\n",
       ".list-inline>li:not(:last-child)::after {content: \"\\00b7\"; padding: 0 .5ex}\n",
       "</style>\n",
       "<ol class=list-inline><li>1.76</li><li>1.34</li><li>1.27</li><li>1.47</li><li>1.27</li><li>1.49</li><li>1.31</li><li>1.09</li><li>1.18</li><li>1.22</li><li>1.25</li><li>1.19</li><li>1.95</li><li>1.28</li><li>1.52</li><li>8.6</li><li>1.12</li><li>1.37</li><li>1.19</li><li>1.05</li><li>1.32</li><li>1.03</li><li>1.12</li><li>1.7</li></ol>\n"
      ],
      "text/latex": [
       "\\begin{enumerate*}\n",
       "\\item 1.76\n",
       "\\item 1.34\n",
       "\\item 1.27\n",
       "\\item 1.47\n",
       "\\item 1.27\n",
       "\\item 1.49\n",
       "\\item 1.31\n",
       "\\item 1.09\n",
       "\\item 1.18\n",
       "\\item 1.22\n",
       "\\item 1.25\n",
       "\\item 1.19\n",
       "\\item 1.95\n",
       "\\item 1.28\n",
       "\\item 1.52\n",
       "\\item 8.6\n",
       "\\item 1.12\n",
       "\\item 1.37\n",
       "\\item 1.19\n",
       "\\item 1.05\n",
       "\\item 1.32\n",
       "\\item 1.03\n",
       "\\item 1.12\n",
       "\\item 1.7\n",
       "\\end{enumerate*}\n"
      ],
      "text/markdown": [
       "1. 1.76\n",
       "2. 1.34\n",
       "3. 1.27\n",
       "4. 1.47\n",
       "5. 1.27\n",
       "6. 1.49\n",
       "7. 1.31\n",
       "8. 1.09\n",
       "9. 1.18\n",
       "10. 1.22\n",
       "11. 1.25\n",
       "12. 1.19\n",
       "13. 1.95\n",
       "14. 1.28\n",
       "15. 1.52\n",
       "16. 8.6\n",
       "17. 1.12\n",
       "18. 1.37\n",
       "19. 1.19\n",
       "20. 1.05\n",
       "21. 1.32\n",
       "22. 1.03\n",
       "23. 1.12\n",
       "24. 1.7\n",
       "\n",
       "\n"
      ],
      "text/plain": [
       " [1] 1.76 1.34 1.27 1.47 1.27 1.49 1.31 1.09 1.18 1.22 1.25 1.19 1.95 1.28 1.52\n",
       "[16] 8.60 1.12 1.37 1.19 1.05 1.32 1.03 1.12 1.70"
      ]
     },
     "metadata": {},
     "output_type": "display_data"
    },
    {
     "data": {
      "text/html": [
       "<style>\n",
       ".dl-inline {width: auto; margin:0; padding: 0}\n",
       ".dl-inline>dt, .dl-inline>dd {float: none; width: auto; display: inline-block}\n",
       ".dl-inline>dt::after {content: \":\\0020\"; padding-right: .5ex}\n",
       ".dl-inline>dt:not(:first-of-type) {padding-left: .5ex}\n",
       "</style><dl class=dl-inline><dt>blood.glucose</dt><dd>4.2</dd><dt>short.velocity</dt><dd>1.03</dd></dl>\n"
      ],
      "text/latex": [
       "\\begin{description*}\n",
       "\\item[blood.glucose] 4.2\n",
       "\\item[short.velocity] 1.03\n",
       "\\end{description*}\n"
      ],
      "text/markdown": [
       "blood.glucose\n",
       ":   4.2short.velocity\n",
       ":   1.03\n",
       "\n"
      ],
      "text/plain": [
       " blood.glucose short.velocity \n",
       "          4.20           1.03 "
      ]
     },
     "metadata": {},
     "output_type": "display_data"
    }
   ],
   "source": [
    "# apply - second parameter (1: by rows, 2: by columns)\n",
    "m <- as.matrix(thuesen)\n",
    "apply(m, 1, min, na.rm=TRUE)\n",
    "apply(m, 2, min, na.rm=TRUE)"
   ]
  },
  {
   "cell_type": "markdown",
   "id": "331fe9d8",
   "metadata": {},
   "source": [
    "### sort and order"
   ]
  },
  {
   "cell_type": "code",
   "execution_count": 157,
   "id": "7be5fb8f",
   "metadata": {},
   "outputs": [
    {
     "data": {
      "text/html": [
       "<table class=\"dataframe\">\n",
       "<caption>A data.frame: 6 × 2</caption>\n",
       "<thead>\n",
       "\t<tr><th></th><th scope=col>blood.glucose</th><th scope=col>short.velocity</th></tr>\n",
       "\t<tr><th></th><th scope=col>&lt;dbl&gt;</th><th scope=col>&lt;dbl&gt;</th></tr>\n",
       "</thead>\n",
       "<tbody>\n",
       "\t<tr><th scope=row>1</th><td>15.3</td><td>1.76</td></tr>\n",
       "\t<tr><th scope=row>2</th><td>10.8</td><td>1.34</td></tr>\n",
       "\t<tr><th scope=row>3</th><td> 8.1</td><td>1.27</td></tr>\n",
       "\t<tr><th scope=row>4</th><td>19.5</td><td>1.47</td></tr>\n",
       "\t<tr><th scope=row>5</th><td> 7.2</td><td>1.27</td></tr>\n",
       "\t<tr><th scope=row>6</th><td> 5.3</td><td>1.49</td></tr>\n",
       "</tbody>\n",
       "</table>\n"
      ],
      "text/latex": [
       "A data.frame: 6 × 2\n",
       "\\begin{tabular}{r|ll}\n",
       "  & blood.glucose & short.velocity\\\\\n",
       "  & <dbl> & <dbl>\\\\\n",
       "\\hline\n",
       "\t1 & 15.3 & 1.76\\\\\n",
       "\t2 & 10.8 & 1.34\\\\\n",
       "\t3 &  8.1 & 1.27\\\\\n",
       "\t4 & 19.5 & 1.47\\\\\n",
       "\t5 &  7.2 & 1.27\\\\\n",
       "\t6 &  5.3 & 1.49\\\\\n",
       "\\end{tabular}\n"
      ],
      "text/markdown": [
       "\n",
       "A data.frame: 6 × 2\n",
       "\n",
       "| <!--/--> | blood.glucose &lt;dbl&gt; | short.velocity &lt;dbl&gt; |\n",
       "|---|---|---|\n",
       "| 1 | 15.3 | 1.76 |\n",
       "| 2 | 10.8 | 1.34 |\n",
       "| 3 |  8.1 | 1.27 |\n",
       "| 4 | 19.5 | 1.47 |\n",
       "| 5 |  7.2 | 1.27 |\n",
       "| 6 |  5.3 | 1.49 |\n",
       "\n"
      ],
      "text/plain": [
       "  blood.glucose short.velocity\n",
       "1 15.3          1.76          \n",
       "2 10.8          1.34          \n",
       "3  8.1          1.27          \n",
       "4 19.5          1.47          \n",
       "5  7.2          1.27          \n",
       "6  5.3          1.49          "
      ]
     },
     "metadata": {},
     "output_type": "display_data"
    }
   ],
   "source": [
    "library(ISwR)\n",
    "data(thuesen)\n",
    "head(thuesen)"
   ]
  },
  {
   "cell_type": "code",
   "execution_count": 158,
   "id": "f7f7f7a1",
   "metadata": {},
   "outputs": [
    {
     "data": {
      "text/html": [
       "<style>\n",
       ".list-inline {list-style: none; margin:0; padding: 0}\n",
       ".list-inline>li {display: inline-block}\n",
       ".list-inline>li:not(:last-child)::after {content: \"\\00b7\"; padding: 0 .5ex}\n",
       "</style>\n",
       "<ol class=list-inline><li>4.2</li><li>4.9</li><li>5.2</li><li>5.3</li><li>6.7</li><li>6.7</li><li>7.2</li><li>7.5</li><li>8.1</li><li>8.6</li><li>8.8</li><li>9.3</li><li>9.5</li><li>10.3</li><li>10.8</li><li>11.1</li><li>12.2</li><li>12.5</li><li>13.3</li><li>15.1</li><li>15.3</li><li>16.1</li><li>19</li><li>19.5</li></ol>\n"
      ],
      "text/latex": [
       "\\begin{enumerate*}\n",
       "\\item 4.2\n",
       "\\item 4.9\n",
       "\\item 5.2\n",
       "\\item 5.3\n",
       "\\item 6.7\n",
       "\\item 6.7\n",
       "\\item 7.2\n",
       "\\item 7.5\n",
       "\\item 8.1\n",
       "\\item 8.6\n",
       "\\item 8.8\n",
       "\\item 9.3\n",
       "\\item 9.5\n",
       "\\item 10.3\n",
       "\\item 10.8\n",
       "\\item 11.1\n",
       "\\item 12.2\n",
       "\\item 12.5\n",
       "\\item 13.3\n",
       "\\item 15.1\n",
       "\\item 15.3\n",
       "\\item 16.1\n",
       "\\item 19\n",
       "\\item 19.5\n",
       "\\end{enumerate*}\n"
      ],
      "text/markdown": [
       "1. 4.2\n",
       "2. 4.9\n",
       "3. 5.2\n",
       "4. 5.3\n",
       "5. 6.7\n",
       "6. 6.7\n",
       "7. 7.2\n",
       "8. 7.5\n",
       "9. 8.1\n",
       "10. 8.6\n",
       "11. 8.8\n",
       "12. 9.3\n",
       "13. 9.5\n",
       "14. 10.3\n",
       "15. 10.8\n",
       "16. 11.1\n",
       "17. 12.2\n",
       "18. 12.5\n",
       "19. 13.3\n",
       "20. 15.1\n",
       "21. 15.3\n",
       "22. 16.1\n",
       "23. 19\n",
       "24. 19.5\n",
       "\n",
       "\n"
      ],
      "text/plain": [
       " [1]  4.2  4.9  5.2  5.3  6.7  6.7  7.2  7.5  8.1  8.6  8.8  9.3  9.5 10.3 10.8\n",
       "[16] 11.1 12.2 12.5 13.3 15.1 15.3 16.1 19.0 19.5"
      ]
     },
     "metadata": {},
     "output_type": "display_data"
    }
   ],
   "source": [
    "sort(thuesen$blood.glucose)"
   ]
  },
  {
   "cell_type": "code",
   "execution_count": 159,
   "id": "fa5a3d0e",
   "metadata": {},
   "outputs": [
    {
     "data": {
      "text/html": [
       "<style>\n",
       ".list-inline {list-style: none; margin:0; padding: 0}\n",
       ".list-inline>li {display: inline-block}\n",
       ".list-inline>li:not(:last-child)::after {content: \"\\00b7\"; padding: 0 .5ex}\n",
       "</style>\n",
       "<ol class=list-inline><li>17</li><li>22</li><li>12</li><li>6</li><li>11</li><li>15</li><li>5</li><li>9</li><li>3</li><li>16</li><li>23</li><li>7</li><li>24</li><li>18</li><li>2</li><li>8</li><li>10</li><li>19</li><li>21</li><li>14</li><li>1</li><li>20</li><li>13</li><li>4</li></ol>\n"
      ],
      "text/latex": [
       "\\begin{enumerate*}\n",
       "\\item 17\n",
       "\\item 22\n",
       "\\item 12\n",
       "\\item 6\n",
       "\\item 11\n",
       "\\item 15\n",
       "\\item 5\n",
       "\\item 9\n",
       "\\item 3\n",
       "\\item 16\n",
       "\\item 23\n",
       "\\item 7\n",
       "\\item 24\n",
       "\\item 18\n",
       "\\item 2\n",
       "\\item 8\n",
       "\\item 10\n",
       "\\item 19\n",
       "\\item 21\n",
       "\\item 14\n",
       "\\item 1\n",
       "\\item 20\n",
       "\\item 13\n",
       "\\item 4\n",
       "\\end{enumerate*}\n"
      ],
      "text/markdown": [
       "1. 17\n",
       "2. 22\n",
       "3. 12\n",
       "4. 6\n",
       "5. 11\n",
       "6. 15\n",
       "7. 5\n",
       "8. 9\n",
       "9. 3\n",
       "10. 16\n",
       "11. 23\n",
       "12. 7\n",
       "13. 24\n",
       "14. 18\n",
       "15. 2\n",
       "16. 8\n",
       "17. 10\n",
       "18. 19\n",
       "19. 21\n",
       "20. 14\n",
       "21. 1\n",
       "22. 20\n",
       "23. 13\n",
       "24. 4\n",
       "\n",
       "\n"
      ],
      "text/plain": [
       " [1] 17 22 12  6 11 15  5  9  3 16 23  7 24 18  2  8 10 19 21 14  1 20 13  4"
      ]
     },
     "metadata": {},
     "output_type": "display_data"
    }
   ],
   "source": [
    "order(thuesen$blood.glucose)"
   ]
  },
  {
   "cell_type": "code",
   "execution_count": 160,
   "id": "ca65c09c",
   "metadata": {},
   "outputs": [
    {
     "data": {
      "text/html": [
       "<table class=\"dataframe\">\n",
       "<caption>A data.frame: 6 × 2</caption>\n",
       "<thead>\n",
       "\t<tr><th></th><th scope=col>blood.glucose</th><th scope=col>short.velocity</th></tr>\n",
       "\t<tr><th></th><th scope=col>&lt;dbl&gt;</th><th scope=col>&lt;dbl&gt;</th></tr>\n",
       "</thead>\n",
       "<tbody>\n",
       "\t<tr><th scope=row>17</th><td>4.2</td><td>1.12</td></tr>\n",
       "\t<tr><th scope=row>22</th><td>4.9</td><td>1.03</td></tr>\n",
       "\t<tr><th scope=row>12</th><td>5.2</td><td>1.19</td></tr>\n",
       "\t<tr><th scope=row>6</th><td>5.3</td><td>1.49</td></tr>\n",
       "\t<tr><th scope=row>11</th><td>6.7</td><td>1.25</td></tr>\n",
       "\t<tr><th scope=row>15</th><td>6.7</td><td>1.52</td></tr>\n",
       "</tbody>\n",
       "</table>\n"
      ],
      "text/latex": [
       "A data.frame: 6 × 2\n",
       "\\begin{tabular}{r|ll}\n",
       "  & blood.glucose & short.velocity\\\\\n",
       "  & <dbl> & <dbl>\\\\\n",
       "\\hline\n",
       "\t17 & 4.2 & 1.12\\\\\n",
       "\t22 & 4.9 & 1.03\\\\\n",
       "\t12 & 5.2 & 1.19\\\\\n",
       "\t6 & 5.3 & 1.49\\\\\n",
       "\t11 & 6.7 & 1.25\\\\\n",
       "\t15 & 6.7 & 1.52\\\\\n",
       "\\end{tabular}\n"
      ],
      "text/markdown": [
       "\n",
       "A data.frame: 6 × 2\n",
       "\n",
       "| <!--/--> | blood.glucose &lt;dbl&gt; | short.velocity &lt;dbl&gt; |\n",
       "|---|---|---|\n",
       "| 17 | 4.2 | 1.12 |\n",
       "| 22 | 4.9 | 1.03 |\n",
       "| 12 | 5.2 | 1.19 |\n",
       "| 6 | 5.3 | 1.49 |\n",
       "| 11 | 6.7 | 1.25 |\n",
       "| 15 | 6.7 | 1.52 |\n",
       "\n"
      ],
      "text/plain": [
       "   blood.glucose short.velocity\n",
       "17 4.2           1.12          \n",
       "22 4.9           1.03          \n",
       "12 5.2           1.19          \n",
       "6  5.3           1.49          \n",
       "11 6.7           1.25          \n",
       "15 6.7           1.52          "
      ]
     },
     "metadata": {},
     "output_type": "display_data"
    }
   ],
   "source": [
    "o <- order(thuesen$blood.glucose)\n",
    "sorted <- thuesen[o,]\n",
    "head(sorted)"
   ]
  },
  {
   "cell_type": "markdown",
   "id": "b73fab4d",
   "metadata": {},
   "source": [
    "#### Pipelines\n",
    "The operator $\\%$>$\\%$ creates a pipeline. \n",
    "\n",
    "The first parameter of the next invoked function receives the data from the pipeline. \n",
    "\n",
    "Library $dplyr$ contains a set of functions that support relational algebra operations."
   ]
  },
  {
   "cell_type": "code",
   "execution_count": 161,
   "id": "30b5e039",
   "metadata": {},
   "outputs": [
    {
     "data": {
      "text/html": [
       "<table class=\"dataframe\">\n",
       "<caption>A data.frame: 6 × 4</caption>\n",
       "<thead>\n",
       "\t<tr><th></th><th scope=col>Year</th><th scope=col>Quarter</th><th scope=col>Flights</th><th scope=col>Delays</th></tr>\n",
       "\t<tr><th></th><th scope=col>&lt;int&gt;</th><th scope=col>&lt;int&gt;</th><th scope=col>&lt;int&gt;</th><th scope=col>&lt;int&gt;</th></tr>\n",
       "</thead>\n",
       "<tbody>\n",
       "\t<tr><th scope=row>1</th><td>2016</td><td>1</td><td>11</td><td>6</td></tr>\n",
       "\t<tr><th scope=row>2</th><td>2016</td><td>2</td><td>12</td><td>5</td></tr>\n",
       "\t<tr><th scope=row>3</th><td>2016</td><td>3</td><td>13</td><td>3</td></tr>\n",
       "\t<tr><th scope=row>4</th><td>2016</td><td>4</td><td>12</td><td>5</td></tr>\n",
       "\t<tr><th scope=row>5</th><td>2017</td><td>1</td><td>10</td><td>4</td></tr>\n",
       "\t<tr><th scope=row>6</th><td>2017</td><td>2</td><td> 9</td><td>3</td></tr>\n",
       "</tbody>\n",
       "</table>\n"
      ],
      "text/latex": [
       "A data.frame: 6 × 4\n",
       "\\begin{tabular}{r|llll}\n",
       "  & Year & Quarter & Flights & Delays\\\\\n",
       "  & <int> & <int> & <int> & <int>\\\\\n",
       "\\hline\n",
       "\t1 & 2016 & 1 & 11 & 6\\\\\n",
       "\t2 & 2016 & 2 & 12 & 5\\\\\n",
       "\t3 & 2016 & 3 & 13 & 3\\\\\n",
       "\t4 & 2016 & 4 & 12 & 5\\\\\n",
       "\t5 & 2017 & 1 & 10 & 4\\\\\n",
       "\t6 & 2017 & 2 &  9 & 3\\\\\n",
       "\\end{tabular}\n"
      ],
      "text/markdown": [
       "\n",
       "A data.frame: 6 × 4\n",
       "\n",
       "| <!--/--> | Year &lt;int&gt; | Quarter &lt;int&gt; | Flights &lt;int&gt; | Delays &lt;int&gt; |\n",
       "|---|---|---|---|---|\n",
       "| 1 | 2016 | 1 | 11 | 6 |\n",
       "| 2 | 2016 | 2 | 12 | 5 |\n",
       "| 3 | 2016 | 3 | 13 | 3 |\n",
       "| 4 | 2016 | 4 | 12 | 5 |\n",
       "| 5 | 2017 | 1 | 10 | 4 |\n",
       "| 6 | 2017 | 2 |  9 | 3 |\n",
       "\n"
      ],
      "text/plain": [
       "  Year Quarter Flights Delays\n",
       "1 2016 1       11      6     \n",
       "2 2016 2       12      5     \n",
       "3 2016 3       13      3     \n",
       "4 2016 4       12      5     \n",
       "5 2017 1       10      4     \n",
       "6 2017 2        9      3     "
      ]
     },
     "metadata": {},
     "output_type": "display_data"
    }
   ],
   "source": [
    "flight_data <- read.table(text = \"Year Quarter Flights Delays\n",
    "                     2016 1 11 6\n",
    "                     2016 2 12 5\n",
    "                     2016 3 13 3\n",
    "                     2016 4 12 5\n",
    "                     2017 1 10 4\n",
    "                     2017 2 9 3\n",
    "                     2017 3 11 4\n",
    "                     2017 4 25 15\n",
    "                     2018 1 14 3\n",
    "                     2018 2 12 5\n",
    "                     2018 3 13 3\n",
    "                     2018 4 15 4\",\n",
    "                     header = TRUE,sep = \"\")  \n",
    "head(flight_data)"
   ]
  },
  {
   "cell_type": "code",
   "execution_count": 162,
   "id": "5b900bf8",
   "metadata": {},
   "outputs": [],
   "source": [
    "#install.packages(\"dplyr\")"
   ]
  },
  {
   "cell_type": "code",
   "execution_count": 163,
   "id": "b25f0481",
   "metadata": {},
   "outputs": [
    {
     "name": "stderr",
     "output_type": "stream",
     "text": [
      "\n",
      "Attaching package: ‘dplyr’\n",
      "\n",
      "\n",
      "The following objects are masked from ‘package:stats’:\n",
      "\n",
      "    filter, lag\n",
      "\n",
      "\n",
      "The following objects are masked from ‘package:base’:\n",
      "\n",
      "    intersect, setdiff, setequal, union\n",
      "\n",
      "\n"
     ]
    },
    {
     "data": {
      "text/html": [
       "<table class=\"dataframe\">\n",
       "<caption>A data.frame: 2 × 3</caption>\n",
       "<thead>\n",
       "\t<tr><th></th><th scope=col>Year</th><th scope=col>Quarter</th><th scope=col>Flights</th></tr>\n",
       "\t<tr><th></th><th scope=col>&lt;int&gt;</th><th scope=col>&lt;int&gt;</th><th scope=col>&lt;int&gt;</th></tr>\n",
       "</thead>\n",
       "<tbody>\n",
       "\t<tr><th scope=row>1</th><td>2016</td><td>1</td><td>11</td></tr>\n",
       "\t<tr><th scope=row>2</th><td>2017</td><td>4</td><td>25</td></tr>\n",
       "</tbody>\n",
       "</table>\n"
      ],
      "text/latex": [
       "A data.frame: 2 × 3\n",
       "\\begin{tabular}{r|lll}\n",
       "  & Year & Quarter & Flights\\\\\n",
       "  & <int> & <int> & <int>\\\\\n",
       "\\hline\n",
       "\t1 & 2016 & 1 & 11\\\\\n",
       "\t2 & 2017 & 4 & 25\\\\\n",
       "\\end{tabular}\n"
      ],
      "text/markdown": [
       "\n",
       "A data.frame: 2 × 3\n",
       "\n",
       "| <!--/--> | Year &lt;int&gt; | Quarter &lt;int&gt; | Flights &lt;int&gt; |\n",
       "|---|---|---|---|\n",
       "| 1 | 2016 | 1 | 11 |\n",
       "| 2 | 2017 | 4 | 25 |\n",
       "\n"
      ],
      "text/plain": [
       "  Year Quarter Flights\n",
       "1 2016 1       11     \n",
       "2 2017 4       25     "
      ]
     },
     "metadata": {},
     "output_type": "display_data"
    }
   ],
   "source": [
    "library(dplyr)\n",
    "result <- flight_data %>% \n",
    "   filter(Delays > 5) %>% \n",
    "   select(Year, Quarter, Flights)\n",
    "head(result)"
   ]
  },
  {
   "cell_type": "code",
   "execution_count": 164,
   "id": "eddf7163",
   "metadata": {},
   "outputs": [
    {
     "data": {
      "text/html": [
       "<table class=\"dataframe\">\n",
       "<caption>A tibble: 3 × 3</caption>\n",
       "<thead>\n",
       "\t<tr><th scope=col>Year</th><th scope=col>mean</th><th scope=col>sd</th></tr>\n",
       "\t<tr><th scope=col>&lt;int&gt;</th><th scope=col>&lt;dbl&gt;</th><th scope=col>&lt;dbl&gt;</th></tr>\n",
       "</thead>\n",
       "<tbody>\n",
       "\t<tr><td>2016</td><td>12.00</td><td>0.8164966</td></tr>\n",
       "\t<tr><td>2017</td><td>13.75</td><td>7.5443135</td></tr>\n",
       "\t<tr><td>2018</td><td>13.50</td><td>1.2909944</td></tr>\n",
       "</tbody>\n",
       "</table>\n"
      ],
      "text/latex": [
       "A tibble: 3 × 3\n",
       "\\begin{tabular}{lll}\n",
       " Year & mean & sd\\\\\n",
       " <int> & <dbl> & <dbl>\\\\\n",
       "\\hline\n",
       "\t 2016 & 12.00 & 0.8164966\\\\\n",
       "\t 2017 & 13.75 & 7.5443135\\\\\n",
       "\t 2018 & 13.50 & 1.2909944\\\\\n",
       "\\end{tabular}\n"
      ],
      "text/markdown": [
       "\n",
       "A tibble: 3 × 3\n",
       "\n",
       "| Year &lt;int&gt; | mean &lt;dbl&gt; | sd &lt;dbl&gt; |\n",
       "|---|---|---|\n",
       "| 2016 | 12.00 | 0.8164966 |\n",
       "| 2017 | 13.75 | 7.5443135 |\n",
       "| 2018 | 13.50 | 1.2909944 |\n",
       "\n"
      ],
      "text/plain": [
       "  Year mean  sd       \n",
       "1 2016 12.00 0.8164966\n",
       "2 2017 13.75 7.5443135\n",
       "3 2018 13.50 1.2909944"
      ]
     },
     "metadata": {},
     "output_type": "display_data"
    }
   ],
   "source": [
    "library(dplyr)\n",
    "result <- flight_data %>% \n",
    "   group_by(Year) %>% \n",
    "   summarize(mean = mean(Flights), sd = sd(Flights))\n",
    "head(result)"
   ]
  },
  {
   "cell_type": "code",
   "execution_count": 165,
   "id": "a3ac3f6e",
   "metadata": {},
   "outputs": [
    {
     "data": {
      "text/html": [
       "12"
      ],
      "text/latex": [
       "12"
      ],
      "text/markdown": [
       "12"
      ],
      "text/plain": [
       "[1] 12"
      ]
     },
     "metadata": {},
     "output_type": "display_data"
    },
    {
     "data": {
      "text/html": [
       "<table class=\"dataframe\">\n",
       "<caption>A data.frame: 6 × 4</caption>\n",
       "<thead>\n",
       "\t<tr><th></th><th scope=col>Year</th><th scope=col>Quarter</th><th scope=col>Flights</th><th scope=col>Delays</th></tr>\n",
       "\t<tr><th></th><th scope=col>&lt;int&gt;</th><th scope=col>&lt;int&gt;</th><th scope=col>&lt;int&gt;</th><th scope=col>&lt;int&gt;</th></tr>\n",
       "</thead>\n",
       "<tbody>\n",
       "\t<tr><th scope=row>1</th><td>2016</td><td>1</td><td>11</td><td>6</td></tr>\n",
       "\t<tr><th scope=row>2</th><td>2016</td><td>2</td><td>12</td><td>5</td></tr>\n",
       "\t<tr><th scope=row>3</th><td>2016</td><td>3</td><td>13</td><td>3</td></tr>\n",
       "\t<tr><th scope=row>4</th><td>2016</td><td>4</td><td>12</td><td>5</td></tr>\n",
       "\t<tr><th scope=row>5</th><td>2017</td><td>1</td><td>10</td><td>4</td></tr>\n",
       "\t<tr><th scope=row>6</th><td>2017</td><td>2</td><td> 9</td><td>3</td></tr>\n",
       "</tbody>\n",
       "</table>\n"
      ],
      "text/latex": [
       "A data.frame: 6 × 4\n",
       "\\begin{tabular}{r|llll}\n",
       "  & Year & Quarter & Flights & Delays\\\\\n",
       "  & <int> & <int> & <int> & <int>\\\\\n",
       "\\hline\n",
       "\t1 & 2016 & 1 & 11 & 6\\\\\n",
       "\t2 & 2016 & 2 & 12 & 5\\\\\n",
       "\t3 & 2016 & 3 & 13 & 3\\\\\n",
       "\t4 & 2016 & 4 & 12 & 5\\\\\n",
       "\t5 & 2017 & 1 & 10 & 4\\\\\n",
       "\t6 & 2017 & 2 &  9 & 3\\\\\n",
       "\\end{tabular}\n"
      ],
      "text/markdown": [
       "\n",
       "A data.frame: 6 × 4\n",
       "\n",
       "| <!--/--> | Year &lt;int&gt; | Quarter &lt;int&gt; | Flights &lt;int&gt; | Delays &lt;int&gt; |\n",
       "|---|---|---|---|---|\n",
       "| 1 | 2016 | 1 | 11 | 6 |\n",
       "| 2 | 2016 | 2 | 12 | 5 |\n",
       "| 3 | 2016 | 3 | 13 | 3 |\n",
       "| 4 | 2016 | 4 | 12 | 5 |\n",
       "| 5 | 2017 | 1 | 10 | 4 |\n",
       "| 6 | 2017 | 2 |  9 | 3 |\n",
       "\n"
      ],
      "text/plain": [
       "  Year Quarter Flights Delays\n",
       "1 2016 1       11      6     \n",
       "2 2016 2       12      5     \n",
       "3 2016 3       13      3     \n",
       "4 2016 4       12      5     \n",
       "5 2017 1       10      4     \n",
       "6 2017 2        9      3     "
      ]
     },
     "metadata": {},
     "output_type": "display_data"
    }
   ],
   "source": [
    "nrow(flight_data)\n",
    "head(flight_data)"
   ]
  },
  {
   "cell_type": "code",
   "execution_count": 166,
   "id": "f644b850",
   "metadata": {},
   "outputs": [
    {
     "name": "stderr",
     "output_type": "stream",
     "text": [
      "\n",
      "Attaching package: ‘reshape’\n",
      "\n",
      "\n",
      "The following object is masked from ‘package:dplyr’:\n",
      "\n",
      "    rename\n",
      "\n",
      "\n"
     ]
    },
    {
     "data": {
      "text/html": [
       "24"
      ],
      "text/latex": [
       "24"
      ],
      "text/markdown": [
       "24"
      ],
      "text/plain": [
       "[1] 24"
      ]
     },
     "metadata": {},
     "output_type": "display_data"
    },
    {
     "data": {
      "text/html": [
       "<table class=\"dataframe\">\n",
       "<caption>A data.frame: 6 × 4</caption>\n",
       "<thead>\n",
       "\t<tr><th></th><th scope=col>Year</th><th scope=col>Quarter</th><th scope=col>variable</th><th scope=col>value</th></tr>\n",
       "\t<tr><th></th><th scope=col>&lt;int&gt;</th><th scope=col>&lt;int&gt;</th><th scope=col>&lt;fct&gt;</th><th scope=col>&lt;int&gt;</th></tr>\n",
       "</thead>\n",
       "<tbody>\n",
       "\t<tr><th scope=row>1</th><td>2016</td><td>1</td><td>Flights</td><td>11</td></tr>\n",
       "\t<tr><th scope=row>2</th><td>2016</td><td>2</td><td>Flights</td><td>12</td></tr>\n",
       "\t<tr><th scope=row>3</th><td>2016</td><td>3</td><td>Flights</td><td>13</td></tr>\n",
       "\t<tr><th scope=row>17</th><td>2017</td><td>1</td><td>Delays </td><td> 4</td></tr>\n",
       "\t<tr><th scope=row>18</th><td>2017</td><td>2</td><td>Delays </td><td> 3</td></tr>\n",
       "\t<tr><th scope=row>19</th><td>2017</td><td>3</td><td>Delays </td><td> 4</td></tr>\n",
       "</tbody>\n",
       "</table>\n"
      ],
      "text/latex": [
       "A data.frame: 6 × 4\n",
       "\\begin{tabular}{r|llll}\n",
       "  & Year & Quarter & variable & value\\\\\n",
       "  & <int> & <int> & <fct> & <int>\\\\\n",
       "\\hline\n",
       "\t1 & 2016 & 1 & Flights & 11\\\\\n",
       "\t2 & 2016 & 2 & Flights & 12\\\\\n",
       "\t3 & 2016 & 3 & Flights & 13\\\\\n",
       "\t17 & 2017 & 1 & Delays  &  4\\\\\n",
       "\t18 & 2017 & 2 & Delays  &  3\\\\\n",
       "\t19 & 2017 & 3 & Delays  &  4\\\\\n",
       "\\end{tabular}\n"
      ],
      "text/markdown": [
       "\n",
       "A data.frame: 6 × 4\n",
       "\n",
       "| <!--/--> | Year &lt;int&gt; | Quarter &lt;int&gt; | variable &lt;fct&gt; | value &lt;int&gt; |\n",
       "|---|---|---|---|---|\n",
       "| 1 | 2016 | 1 | Flights | 11 |\n",
       "| 2 | 2016 | 2 | Flights | 12 |\n",
       "| 3 | 2016 | 3 | Flights | 13 |\n",
       "| 17 | 2017 | 1 | Delays  |  4 |\n",
       "| 18 | 2017 | 2 | Delays  |  3 |\n",
       "| 19 | 2017 | 3 | Delays  |  4 |\n",
       "\n"
      ],
      "text/plain": [
       "   Year Quarter variable value\n",
       "1  2016 1       Flights  11   \n",
       "2  2016 2       Flights  12   \n",
       "3  2016 3       Flights  13   \n",
       "17 2017 1       Delays    4   \n",
       "18 2017 2       Delays    3   \n",
       "19 2017 3       Delays    4   "
      ]
     },
     "metadata": {},
     "output_type": "display_data"
    }
   ],
   "source": [
    "#install.packages(reshape)\n",
    "library(reshape)\n",
    "result <- melt(flight_data[,c('Year', 'Quarter', 'Flights', 'Delays')], \n",
    "             id.vars = c(1,2))\n",
    "nrow(result)\n",
    "head(result[c(1:3,17:19), ])"
   ]
  },
  {
   "cell_type": "markdown",
   "id": "9bfa9ee8",
   "metadata": {},
   "source": [
    "#### merge\n",
    "\n",
    "The function $merge$ can be used to join data frames. It can be used to produce inner, left, right, and outer joins. "
   ]
  },
  {
   "cell_type": "code",
   "execution_count": 167,
   "id": "156b7407",
   "metadata": {},
   "outputs": [
    {
     "data": {
      "text/html": [
       "<table class=\"dataframe\">\n",
       "<caption>A data.frame: 5 × 2</caption>\n",
       "<thead>\n",
       "\t<tr><th></th><th scope=col>city</th><th scope=col>value</th></tr>\n",
       "\t<tr><th></th><th scope=col>&lt;chr&gt;</th><th scope=col>&lt;dbl&gt;</th></tr>\n",
       "</thead>\n",
       "<tbody>\n",
       "\t<tr><th scope=row>1</th><td>Rio de Janeiro</td><td>10</td></tr>\n",
       "\t<tr><th scope=row>2</th><td>Sao Paulo     </td><td>12</td></tr>\n",
       "\t<tr><th scope=row>3</th><td>Paris         </td><td>20</td></tr>\n",
       "\t<tr><th scope=row>4</th><td>New York      </td><td>25</td></tr>\n",
       "\t<tr><th scope=row>5</th><td>Tokyo         </td><td>18</td></tr>\n",
       "</tbody>\n",
       "</table>\n"
      ],
      "text/latex": [
       "A data.frame: 5 × 2\n",
       "\\begin{tabular}{r|ll}\n",
       "  & city & value\\\\\n",
       "  & <chr> & <dbl>\\\\\n",
       "\\hline\n",
       "\t1 & Rio de Janeiro & 10\\\\\n",
       "\t2 & Sao Paulo      & 12\\\\\n",
       "\t3 & Paris          & 20\\\\\n",
       "\t4 & New York       & 25\\\\\n",
       "\t5 & Tokyo          & 18\\\\\n",
       "\\end{tabular}\n"
      ],
      "text/markdown": [
       "\n",
       "A data.frame: 5 × 2\n",
       "\n",
       "| <!--/--> | city &lt;chr&gt; | value &lt;dbl&gt; |\n",
       "|---|---|---|\n",
       "| 1 | Rio de Janeiro | 10 |\n",
       "| 2 | Sao Paulo      | 12 |\n",
       "| 3 | Paris          | 20 |\n",
       "| 4 | New York       | 25 |\n",
       "| 5 | Tokyo          | 18 |\n",
       "\n"
      ],
      "text/plain": [
       "  city           value\n",
       "1 Rio de Janeiro 10   \n",
       "2 Sao Paulo      12   \n",
       "3 Paris          20   \n",
       "4 New York       25   \n",
       "5 Tokyo          18   "
      ]
     },
     "metadata": {},
     "output_type": "display_data"
    }
   ],
   "source": [
    "stores <- data.frame(\n",
    "  city = c(\"Rio de Janeiro\", \"Sao Paulo\", \"Paris\", \"New York\", \"Tokyo\"),\n",
    "  value = c(10, 12, 20, 25, 18))\n",
    "head(stores)\n"
   ]
  },
  {
   "cell_type": "code",
   "execution_count": 168,
   "id": "96d229c2",
   "metadata": {},
   "outputs": [
    {
     "data": {
      "text/html": [
       "<table class=\"dataframe\">\n",
       "<caption>A data.frame: 5 × 2</caption>\n",
       "<thead>\n",
       "\t<tr><th></th><th scope=col>city</th><th scope=col>country</th></tr>\n",
       "\t<tr><th></th><th scope=col>&lt;chr&gt;</th><th scope=col>&lt;chr&gt;</th></tr>\n",
       "</thead>\n",
       "<tbody>\n",
       "\t<tr><th scope=row>1</th><td>Rio de Janeiro</td><td>Brazil</td></tr>\n",
       "\t<tr><th scope=row>2</th><td>Sao Paulo     </td><td>Brazil</td></tr>\n",
       "\t<tr><th scope=row>3</th><td>Paris         </td><td>France</td></tr>\n",
       "\t<tr><th scope=row>4</th><td>New York      </td><td>US    </td></tr>\n",
       "\t<tr><th scope=row>5</th><td>Tokyo         </td><td>Japan </td></tr>\n",
       "</tbody>\n",
       "</table>\n"
      ],
      "text/latex": [
       "A data.frame: 5 × 2\n",
       "\\begin{tabular}{r|ll}\n",
       "  & city & country\\\\\n",
       "  & <chr> & <chr>\\\\\n",
       "\\hline\n",
       "\t1 & Rio de Janeiro & Brazil\\\\\n",
       "\t2 & Sao Paulo      & Brazil\\\\\n",
       "\t3 & Paris          & France\\\\\n",
       "\t4 & New York       & US    \\\\\n",
       "\t5 & Tokyo          & Japan \\\\\n",
       "\\end{tabular}\n"
      ],
      "text/markdown": [
       "\n",
       "A data.frame: 5 × 2\n",
       "\n",
       "| <!--/--> | city &lt;chr&gt; | country &lt;chr&gt; |\n",
       "|---|---|---|\n",
       "| 1 | Rio de Janeiro | Brazil |\n",
       "| 2 | Sao Paulo      | Brazil |\n",
       "| 3 | Paris          | France |\n",
       "| 4 | New York       | US     |\n",
       "| 5 | Tokyo          | Japan  |\n",
       "\n"
      ],
      "text/plain": [
       "  city           country\n",
       "1 Rio de Janeiro Brazil \n",
       "2 Sao Paulo      Brazil \n",
       "3 Paris          France \n",
       "4 New York       US     \n",
       "5 Tokyo          Japan  "
      ]
     },
     "metadata": {},
     "output_type": "display_data"
    }
   ],
   "source": [
    "divisions <- data.frame(\n",
    "  city = c(\"Rio de Janeiro\", \"Sao Paulo\", \"Paris\", \"New York\", \"Tokyo\"),\n",
    "  country = c(\"Brazil\", \"Brazil\", \"France\", \"US\", \"Japan\"))\n",
    "head(divisions)"
   ]
  },
  {
   "cell_type": "code",
   "execution_count": 169,
   "id": "f60cefb0",
   "metadata": {},
   "outputs": [
    {
     "data": {
      "text/html": [
       "<table class=\"dataframe\">\n",
       "<caption>A data.frame: 5 × 3</caption>\n",
       "<thead>\n",
       "\t<tr><th></th><th scope=col>city</th><th scope=col>value</th><th scope=col>country</th></tr>\n",
       "\t<tr><th></th><th scope=col>&lt;chr&gt;</th><th scope=col>&lt;dbl&gt;</th><th scope=col>&lt;chr&gt;</th></tr>\n",
       "</thead>\n",
       "<tbody>\n",
       "\t<tr><th scope=row>1</th><td>New York      </td><td>25</td><td>US    </td></tr>\n",
       "\t<tr><th scope=row>2</th><td>Paris         </td><td>20</td><td>France</td></tr>\n",
       "\t<tr><th scope=row>3</th><td>Rio de Janeiro</td><td>10</td><td>Brazil</td></tr>\n",
       "\t<tr><th scope=row>4</th><td>Sao Paulo     </td><td>12</td><td>Brazil</td></tr>\n",
       "\t<tr><th scope=row>5</th><td>Tokyo         </td><td>18</td><td>Japan </td></tr>\n",
       "</tbody>\n",
       "</table>\n"
      ],
      "text/latex": [
       "A data.frame: 5 × 3\n",
       "\\begin{tabular}{r|lll}\n",
       "  & city & value & country\\\\\n",
       "  & <chr> & <dbl> & <chr>\\\\\n",
       "\\hline\n",
       "\t1 & New York       & 25 & US    \\\\\n",
       "\t2 & Paris          & 20 & France\\\\\n",
       "\t3 & Rio de Janeiro & 10 & Brazil\\\\\n",
       "\t4 & Sao Paulo      & 12 & Brazil\\\\\n",
       "\t5 & Tokyo          & 18 & Japan \\\\\n",
       "\\end{tabular}\n"
      ],
      "text/markdown": [
       "\n",
       "A data.frame: 5 × 3\n",
       "\n",
       "| <!--/--> | city &lt;chr&gt; | value &lt;dbl&gt; | country &lt;chr&gt; |\n",
       "|---|---|---|---|\n",
       "| 1 | New York       | 25 | US     |\n",
       "| 2 | Paris          | 20 | France |\n",
       "| 3 | Rio de Janeiro | 10 | Brazil |\n",
       "| 4 | Sao Paulo      | 12 | Brazil |\n",
       "| 5 | Tokyo          | 18 | Japan  |\n",
       "\n"
      ],
      "text/plain": [
       "  city           value country\n",
       "1 New York       25    US     \n",
       "2 Paris          20    France \n",
       "3 Rio de Janeiro 10    Brazil \n",
       "4 Sao Paulo      12    Brazil \n",
       "5 Tokyo          18    Japan  "
      ]
     },
     "metadata": {},
     "output_type": "display_data"
    }
   ],
   "source": [
    "stdiv <- merge(stores, divisions, by.x=\"city\", by.y=\"city\")\n",
    "head(stdiv)"
   ]
  },
  {
   "cell_type": "code",
   "execution_count": 170,
   "id": "4cb961bd",
   "metadata": {},
   "outputs": [
    {
     "data": {
      "text/html": [
       "<table class=\"dataframe\">\n",
       "<caption>A tibble: 4 × 3</caption>\n",
       "<thead>\n",
       "\t<tr><th scope=col>country</th><th scope=col>count</th><th scope=col>amount</th></tr>\n",
       "\t<tr><th scope=col>&lt;chr&gt;</th><th scope=col>&lt;int&gt;</th><th scope=col>&lt;dbl&gt;</th></tr>\n",
       "</thead>\n",
       "<tbody>\n",
       "\t<tr><td>Brazil</td><td>2</td><td>22</td></tr>\n",
       "\t<tr><td>France</td><td>1</td><td>20</td></tr>\n",
       "\t<tr><td>Japan </td><td>1</td><td>18</td></tr>\n",
       "\t<tr><td>US    </td><td>1</td><td>25</td></tr>\n",
       "</tbody>\n",
       "</table>\n"
      ],
      "text/latex": [
       "A tibble: 4 × 3\n",
       "\\begin{tabular}{lll}\n",
       " country & count & amount\\\\\n",
       " <chr> & <int> & <dbl>\\\\\n",
       "\\hline\n",
       "\t Brazil & 2 & 22\\\\\n",
       "\t France & 1 & 20\\\\\n",
       "\t Japan  & 1 & 18\\\\\n",
       "\t US     & 1 & 25\\\\\n",
       "\\end{tabular}\n"
      ],
      "text/markdown": [
       "\n",
       "A tibble: 4 × 3\n",
       "\n",
       "| country &lt;chr&gt; | count &lt;int&gt; | amount &lt;dbl&gt; |\n",
       "|---|---|---|\n",
       "| Brazil | 2 | 22 |\n",
       "| France | 1 | 20 |\n",
       "| Japan  | 1 | 18 |\n",
       "| US     | 1 | 25 |\n",
       "\n"
      ],
      "text/plain": [
       "  country count amount\n",
       "1 Brazil  2     22    \n",
       "2 France  1     20    \n",
       "3 Japan   1     18    \n",
       "4 US      1     25    "
      ]
     },
     "metadata": {},
     "output_type": "display_data"
    }
   ],
   "source": [
    "result <- stdiv %>% group_by(country) %>% \n",
    "   summarize(count = n(), amount = sum(value))\n",
    "head(result)"
   ]
  },
  {
   "cell_type": "markdown",
   "id": "d2e3a3a0",
   "metadata": {},
   "source": [
    "#### statistical tests: t-test\n",
    "There are many statistical tests in R.\n",
    "One of the most used is the t-test. It checks if the mean of observations is not different from a theoretical value."
   ]
  },
  {
   "cell_type": "code",
   "execution_count": 171,
   "id": "580b4fab",
   "metadata": {},
   "outputs": [],
   "source": [
    "weight <- c(60, 72, 57, 90, 95, 72) \n",
    "height <- c(1.75, 1.80, 1.65, 1.90, 1.74, 1.91)\n",
    "bmi <- weight/height^2 "
   ]
  },
  {
   "cell_type": "code",
   "execution_count": 172,
   "id": "0d0b8c52",
   "metadata": {},
   "outputs": [
    {
     "data": {
      "text/plain": [
       "\n",
       "\tOne Sample t-test\n",
       "\n",
       "data:  bmi\n",
       "t = 0.34488, df = 5, p-value = 0.7442\n",
       "alternative hypothesis: true mean is not equal to 22.5\n",
       "95 percent confidence interval:\n",
       " 18.41734 27.84791\n",
       "sample estimates:\n",
       "mean of x \n",
       " 23.13262 \n"
      ]
     },
     "metadata": {},
     "output_type": "display_data"
    }
   ],
   "source": [
    "t.test(bmi, mu=22.5)"
   ]
  },
  {
   "cell_type": "code",
   "execution_count": null,
   "id": "115d05d0",
   "metadata": {},
   "outputs": [],
   "source": []
  }
 ],
 "metadata": {
  "kernelspec": {
   "display_name": "R",
   "language": "R",
   "name": "ir"
  },
  "language_info": {
   "codemirror_mode": "r",
   "file_extension": ".r",
   "mimetype": "text/x-r-source",
   "name": "R",
   "pygments_lexer": "r",
   "version": "4.2.2"
  }
 },
 "nbformat": 4,
 "nbformat_minor": 5
}
