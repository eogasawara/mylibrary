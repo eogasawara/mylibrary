{
 "cells": [
  {
   "cell_type": "markdown",
   "id": "06073a9f",
   "metadata": {},
   "source": [
    "### Part 1"
   ]
  },
  {
   "cell_type": "code",
   "execution_count": 1,
   "id": "44efd59a",
   "metadata": {},
   "outputs": [
    {
     "data": {
      "text/html": [
       "3"
      ],
      "text/latex": [
       "3"
      ],
      "text/markdown": [
       "3"
      ],
      "text/plain": [
       "[1] 3"
      ]
     },
     "metadata": {},
     "output_type": "display_data"
    }
   ],
   "source": [
    "1+2"
   ]
  },
  {
   "cell_type": "code",
   "execution_count": 2,
   "id": "ec0888f4",
   "metadata": {},
   "outputs": [
    {
     "data": {
      "text/html": [
       "<style>\n",
       ".list-inline {list-style: none; margin:0; padding: 0}\n",
       ".list-inline>li {display: inline-block}\n",
       ".list-inline>li:not(:last-child)::after {content: \"\\00b7\"; padding: 0 .5ex}\n",
       "</style>\n",
       "<ol class=list-inline><li>1</li><li>2</li><li>3</li><li>4</li><li>5</li><li>6</li><li>7</li><li>8</li><li>9</li><li>10</li></ol>\n"
      ],
      "text/latex": [
       "\\begin{enumerate*}\n",
       "\\item 1\n",
       "\\item 2\n",
       "\\item 3\n",
       "\\item 4\n",
       "\\item 5\n",
       "\\item 6\n",
       "\\item 7\n",
       "\\item 8\n",
       "\\item 9\n",
       "\\item 10\n",
       "\\end{enumerate*}\n"
      ],
      "text/markdown": [
       "1. 1\n",
       "2. 2\n",
       "3. 3\n",
       "4. 4\n",
       "5. 5\n",
       "6. 6\n",
       "7. 7\n",
       "8. 8\n",
       "9. 9\n",
       "10. 10\n",
       "\n",
       "\n"
      ],
      "text/plain": [
       " [1]  1  2  3  4  5  6  7  8  9 10"
      ]
     },
     "metadata": {},
     "output_type": "display_data"
    }
   ],
   "source": [
    "1:10"
   ]
  },
  {
   "cell_type": "code",
   "execution_count": 3,
   "id": "3a555dd8",
   "metadata": {},
   "outputs": [],
   "source": [
    "a <- 1"
   ]
  },
  {
   "cell_type": "code",
   "execution_count": 4,
   "id": "f4ce47b5",
   "metadata": {},
   "outputs": [
    {
     "data": {
      "text/html": [
       "1"
      ],
      "text/latex": [
       "1"
      ],
      "text/markdown": [
       "1"
      ],
      "text/plain": [
       "[1] 1"
      ]
     },
     "metadata": {},
     "output_type": "display_data"
    }
   ],
   "source": [
    "a"
   ]
  },
  {
   "cell_type": "code",
   "execution_count": 5,
   "id": "ef0fd065",
   "metadata": {},
   "outputs": [
    {
     "data": {
      "text/html": [
       "3"
      ],
      "text/latex": [
       "3"
      ],
      "text/markdown": [
       "3"
      ],
      "text/plain": [
       "[1] 3"
      ]
     },
     "metadata": {},
     "output_type": "display_data"
    }
   ],
   "source": [
    "a+2"
   ]
  },
  {
   "cell_type": "code",
   "execution_count": 6,
   "id": "da3e1d2d",
   "metadata": {},
   "outputs": [],
   "source": [
    "dado <- 1:6"
   ]
  },
  {
   "cell_type": "code",
   "execution_count": 7,
   "id": "cccc7489",
   "metadata": {},
   "outputs": [
    {
     "data": {
      "text/html": [
       "<style>\n",
       ".list-inline {list-style: none; margin:0; padding: 0}\n",
       ".list-inline>li {display: inline-block}\n",
       ".list-inline>li:not(:last-child)::after {content: \"\\00b7\"; padding: 0 .5ex}\n",
       "</style>\n",
       "<ol class=list-inline><li>1</li><li>2</li><li>3</li><li>4</li><li>5</li><li>6</li></ol>\n"
      ],
      "text/latex": [
       "\\begin{enumerate*}\n",
       "\\item 1\n",
       "\\item 2\n",
       "\\item 3\n",
       "\\item 4\n",
       "\\item 5\n",
       "\\item 6\n",
       "\\end{enumerate*}\n"
      ],
      "text/markdown": [
       "1. 1\n",
       "2. 2\n",
       "3. 3\n",
       "4. 4\n",
       "5. 5\n",
       "6. 6\n",
       "\n",
       "\n"
      ],
      "text/plain": [
       "[1] 1 2 3 4 5 6"
      ]
     },
     "metadata": {},
     "output_type": "display_data"
    }
   ],
   "source": [
    "dado"
   ]
  },
  {
   "cell_type": "code",
   "execution_count": 8,
   "id": "40f9d28c",
   "metadata": {},
   "outputs": [
    {
     "data": {
      "text/html": [
       "1"
      ],
      "text/latex": [
       "1"
      ],
      "text/markdown": [
       "1"
      ],
      "text/plain": [
       "[1] 1"
      ]
     },
     "metadata": {},
     "output_type": "display_data"
    }
   ],
   "source": [
    "dado[1]"
   ]
  },
  {
   "cell_type": "code",
   "execution_count": 9,
   "id": "66be5384",
   "metadata": {},
   "outputs": [
    {
     "data": {
      "text/html": [
       "6"
      ],
      "text/latex": [
       "6"
      ],
      "text/markdown": [
       "6"
      ],
      "text/plain": [
       "[1] 6"
      ]
     },
     "metadata": {},
     "output_type": "display_data"
    }
   ],
   "source": [
    "dado[6]"
   ]
  },
  {
   "cell_type": "code",
   "execution_count": 10,
   "id": "7a80485c",
   "metadata": {},
   "outputs": [
    {
     "data": {
      "text/html": [
       "<style>\n",
       ".list-inline {list-style: none; margin:0; padding: 0}\n",
       ".list-inline>li {display: inline-block}\n",
       ".list-inline>li:not(:last-child)::after {content: \"\\00b7\"; padding: 0 .5ex}\n",
       "</style>\n",
       "<ol class=list-inline><li>0</li><li>1</li><li>2</li><li>3</li><li>4</li><li>5</li></ol>\n"
      ],
      "text/latex": [
       "\\begin{enumerate*}\n",
       "\\item 0\n",
       "\\item 1\n",
       "\\item 2\n",
       "\\item 3\n",
       "\\item 4\n",
       "\\item 5\n",
       "\\end{enumerate*}\n"
      ],
      "text/markdown": [
       "1. 0\n",
       "2. 1\n",
       "3. 2\n",
       "4. 3\n",
       "5. 4\n",
       "6. 5\n",
       "\n",
       "\n"
      ],
      "text/plain": [
       "[1] 0 1 2 3 4 5"
      ]
     },
     "metadata": {},
     "output_type": "display_data"
    }
   ],
   "source": [
    "dado - 1"
   ]
  },
  {
   "cell_type": "markdown",
   "id": "fc97424a",
   "metadata": {},
   "source": [
    "#### Package Installation"
   ]
  },
  {
   "cell_type": "code",
   "execution_count": 11,
   "id": "8927a6a3",
   "metadata": {},
   "outputs": [
    {
     "name": "stderr",
     "output_type": "stream",
     "text": [
      "Loading required package: ggplot2\n",
      "\n"
     ]
    }
   ],
   "source": [
    "available <- require(ggplot2)\n",
    "if (!available) \n",
    "    install.packages(\"ggplot2\")"
   ]
  },
  {
   "cell_type": "markdown",
   "id": "7a3dd0ec",
   "metadata": {},
   "source": [
    "#### Package loading"
   ]
  },
  {
   "cell_type": "code",
   "execution_count": 12,
   "id": "f8604d02",
   "metadata": {},
   "outputs": [],
   "source": [
    "library(ggplot2)"
   ]
  },
  {
   "cell_type": "markdown",
   "id": "aeb1b67c",
   "metadata": {},
   "source": [
    "#### Variable definitions"
   ]
  },
  {
   "cell_type": "code",
   "execution_count": 13,
   "id": "fc3ed669",
   "metadata": {},
   "outputs": [],
   "source": [
    "weight <- 60\n",
    "height = 1.75\n",
    "subject <- \"A\"\n",
    "healthy <- TRUE"
   ]
  },
  {
   "cell_type": "markdown",
   "id": "395d84fa",
   "metadata": {},
   "source": [
    "#### Variable evaluation"
   ]
  },
  {
   "cell_type": "code",
   "execution_count": 14,
   "id": "8edb34b2",
   "metadata": {},
   "outputs": [
    {
     "data": {
      "text/html": [
       "60"
      ],
      "text/latex": [
       "60"
      ],
      "text/markdown": [
       "60"
      ],
      "text/plain": [
       "[1] 60"
      ]
     },
     "metadata": {},
     "output_type": "display_data"
    }
   ],
   "source": [
    "weight"
   ]
  },
  {
   "cell_type": "markdown",
   "id": "37fa24ae",
   "metadata": {},
   "source": [
    "#### Variable type checking"
   ]
  },
  {
   "cell_type": "code",
   "execution_count": 15,
   "id": "2cadd098",
   "metadata": {},
   "outputs": [
    {
     "data": {
      "text/html": [
       "TRUE"
      ],
      "text/latex": [
       "TRUE"
      ],
      "text/markdown": [
       "TRUE"
      ],
      "text/plain": [
       "[1] TRUE"
      ]
     },
     "metadata": {},
     "output_type": "display_data"
    },
    {
     "data": {
      "text/html": [
       "TRUE"
      ],
      "text/latex": [
       "TRUE"
      ],
      "text/markdown": [
       "TRUE"
      ],
      "text/plain": [
       "[1] TRUE"
      ]
     },
     "metadata": {},
     "output_type": "display_data"
    },
    {
     "data": {
      "text/html": [
       "FALSE"
      ],
      "text/latex": [
       "FALSE"
      ],
      "text/markdown": [
       "FALSE"
      ],
      "text/plain": [
       "[1] FALSE"
      ]
     },
     "metadata": {},
     "output_type": "display_data"
    },
    {
     "data": {
      "text/html": [
       "TRUE"
      ],
      "text/latex": [
       "TRUE"
      ],
      "text/markdown": [
       "TRUE"
      ],
      "text/plain": [
       "[1] TRUE"
      ]
     },
     "metadata": {},
     "output_type": "display_data"
    }
   ],
   "source": [
    "is.numeric(weight) # variable \n",
    "is.double(weight)\n",
    "is.integer(weight)\n",
    "is.character(subject)"
   ]
  },
  {
   "cell_type": "markdown",
   "id": "d4169556",
   "metadata": {},
   "source": [
    "#### Variable conversion"
   ]
  },
  {
   "cell_type": "code",
   "execution_count": 16,
   "id": "c02f573b",
   "metadata": {},
   "outputs": [
    {
     "data": {
      "text/html": [
       "TRUE"
      ],
      "text/latex": [
       "TRUE"
      ],
      "text/markdown": [
       "TRUE"
      ],
      "text/plain": [
       "[1] TRUE"
      ]
     },
     "metadata": {},
     "output_type": "display_data"
    }
   ],
   "source": [
    "weight <- as.integer(weight)\n",
    "is.integer(weight)"
   ]
  },
  {
   "cell_type": "markdown",
   "id": "5ef47e7c",
   "metadata": {},
   "source": [
    "#### Formulas"
   ]
  },
  {
   "cell_type": "code",
   "execution_count": 17,
   "id": "fd670e0a",
   "metadata": {},
   "outputs": [
    {
     "data": {
      "text/html": [
       "19.5918367346939"
      ],
      "text/latex": [
       "19.5918367346939"
      ],
      "text/markdown": [
       "19.5918367346939"
      ],
      "text/plain": [
       "[1] 19.59184"
      ]
     },
     "metadata": {},
     "output_type": "display_data"
    }
   ],
   "source": [
    "#Body mass index (BMI)\n",
    "bmi <- weight/height^2 \n",
    "bmi "
   ]
  },
  {
   "cell_type": "markdown",
   "id": "86608974",
   "metadata": {},
   "source": [
    "#### String formatting"
   ]
  },
  {
   "cell_type": "code",
   "execution_count": 18,
   "id": "881fece6",
   "metadata": {},
   "outputs": [
    {
     "name": "stdout",
     "output_type": "stream",
     "text": [
      "[1] \"19.6\"\n"
     ]
    }
   ],
   "source": [
    "message <- sprintf(\"%.1f\", bmi)\n",
    "print(message)"
   ]
  },
  {
   "cell_type": "markdown",
   "id": "2a063640",
   "metadata": {},
   "source": [
    "#### Vector definition"
   ]
  },
  {
   "cell_type": "code",
   "execution_count": 19,
   "id": "d10355f1",
   "metadata": {},
   "outputs": [],
   "source": [
    "weight <- c(60, 72, 57, 90, 95, 72) \n",
    "height <- c(1.75, 1.80, 1.65, 1.90, 1.74, 1.91)\n",
    "subject <- c(\"A\", \"B\", \"C\", \"D\", \"E\", \"F\")"
   ]
  },
  {
   "cell_type": "markdown",
   "id": "44aba8e2",
   "metadata": {},
   "source": [
    "#### Vector evaluation"
   ]
  },
  {
   "cell_type": "code",
   "execution_count": 20,
   "id": "0123107e",
   "metadata": {},
   "outputs": [
    {
     "data": {
      "text/html": [
       "<style>\n",
       ".list-inline {list-style: none; margin:0; padding: 0}\n",
       ".list-inline>li {display: inline-block}\n",
       ".list-inline>li:not(:last-child)::after {content: \"\\00b7\"; padding: 0 .5ex}\n",
       "</style>\n",
       "<ol class=list-inline><li>60</li><li>72</li><li>57</li><li>90</li><li>95</li><li>72</li></ol>\n"
      ],
      "text/latex": [
       "\\begin{enumerate*}\n",
       "\\item 60\n",
       "\\item 72\n",
       "\\item 57\n",
       "\\item 90\n",
       "\\item 95\n",
       "\\item 72\n",
       "\\end{enumerate*}\n"
      ],
      "text/markdown": [
       "1. 60\n",
       "2. 72\n",
       "3. 57\n",
       "4. 90\n",
       "5. 95\n",
       "6. 72\n",
       "\n",
       "\n"
      ],
      "text/plain": [
       "[1] 60 72 57 90 95 72"
      ]
     },
     "metadata": {},
     "output_type": "display_data"
    },
    {
     "data": {
      "text/html": [
       "<style>\n",
       ".list-inline {list-style: none; margin:0; padding: 0}\n",
       ".list-inline>li {display: inline-block}\n",
       ".list-inline>li:not(:last-child)::after {content: \"\\00b7\"; padding: 0 .5ex}\n",
       "</style>\n",
       "<ol class=list-inline><li>1.75</li><li>1.8</li><li>1.65</li><li>1.9</li><li>1.74</li><li>1.91</li></ol>\n"
      ],
      "text/latex": [
       "\\begin{enumerate*}\n",
       "\\item 1.75\n",
       "\\item 1.8\n",
       "\\item 1.65\n",
       "\\item 1.9\n",
       "\\item 1.74\n",
       "\\item 1.91\n",
       "\\end{enumerate*}\n"
      ],
      "text/markdown": [
       "1. 1.75\n",
       "2. 1.8\n",
       "3. 1.65\n",
       "4. 1.9\n",
       "5. 1.74\n",
       "6. 1.91\n",
       "\n",
       "\n"
      ],
      "text/plain": [
       "[1] 1.75 1.80 1.65 1.90 1.74 1.91"
      ]
     },
     "metadata": {},
     "output_type": "display_data"
    },
    {
     "data": {
      "text/html": [
       "<style>\n",
       ".list-inline {list-style: none; margin:0; padding: 0}\n",
       ".list-inline>li {display: inline-block}\n",
       ".list-inline>li:not(:last-child)::after {content: \"\\00b7\"; padding: 0 .5ex}\n",
       "</style>\n",
       "<ol class=list-inline><li>'A'</li><li>'B'</li><li>'C'</li><li>'D'</li><li>'E'</li><li>'F'</li></ol>\n"
      ],
      "text/latex": [
       "\\begin{enumerate*}\n",
       "\\item 'A'\n",
       "\\item 'B'\n",
       "\\item 'C'\n",
       "\\item 'D'\n",
       "\\item 'E'\n",
       "\\item 'F'\n",
       "\\end{enumerate*}\n"
      ],
      "text/markdown": [
       "1. 'A'\n",
       "2. 'B'\n",
       "3. 'C'\n",
       "4. 'D'\n",
       "5. 'E'\n",
       "6. 'F'\n",
       "\n",
       "\n"
      ],
      "text/plain": [
       "[1] \"A\" \"B\" \"C\" \"D\" \"E\" \"F\""
      ]
     },
     "metadata": {},
     "output_type": "display_data"
    }
   ],
   "source": [
    "weight\n",
    "height\n",
    "subject"
   ]
  },
  {
   "cell_type": "markdown",
   "id": "7a78ef70",
   "metadata": {},
   "source": [
    "#### Creating a vector with a particular size"
   ]
  },
  {
   "cell_type": "code",
   "execution_count": 21,
   "id": "ae22d267",
   "metadata": {},
   "outputs": [
    {
     "data": {
      "text/html": [
       "<style>\n",
       ".list-inline {list-style: none; margin:0; padding: 0}\n",
       ".list-inline>li {display: inline-block}\n",
       ".list-inline>li:not(:last-child)::after {content: \"\\00b7\"; padding: 0 .5ex}\n",
       "</style>\n",
       "<ol class=list-inline><li>0</li><li>0</li><li>0</li><li>0</li><li>0</li><li>0</li><li>0</li><li>0</li><li>0</li><li>0</li></ol>\n"
      ],
      "text/latex": [
       "\\begin{enumerate*}\n",
       "\\item 0\n",
       "\\item 0\n",
       "\\item 0\n",
       "\\item 0\n",
       "\\item 0\n",
       "\\item 0\n",
       "\\item 0\n",
       "\\item 0\n",
       "\\item 0\n",
       "\\item 0\n",
       "\\end{enumerate*}\n"
      ],
      "text/markdown": [
       "1. 0\n",
       "2. 0\n",
       "3. 0\n",
       "4. 0\n",
       "5. 0\n",
       "6. 0\n",
       "7. 0\n",
       "8. 0\n",
       "9. 0\n",
       "10. 0\n",
       "\n",
       "\n"
      ],
      "text/plain": [
       " [1] 0 0 0 0 0 0 0 0 0 0"
      ]
     },
     "metadata": {},
     "output_type": "display_data"
    }
   ],
   "source": [
    "vec <- rep(0, 10)\n",
    "vec"
   ]
  },
  {
   "cell_type": "markdown",
   "id": "8a070ae4",
   "metadata": {},
   "source": [
    "#### Vector length"
   ]
  },
  {
   "cell_type": "code",
   "execution_count": 22,
   "id": "94630b33",
   "metadata": {},
   "outputs": [
    {
     "data": {
      "text/html": [
       "6"
      ],
      "text/latex": [
       "6"
      ],
      "text/markdown": [
       "6"
      ],
      "text/plain": [
       "[1] 6"
      ]
     },
     "metadata": {},
     "output_type": "display_data"
    }
   ],
   "source": [
    "length(weight)"
   ]
  },
  {
   "cell_type": "markdown",
   "id": "0e7af626",
   "metadata": {},
   "source": [
    "#### Vector indexes"
   ]
  },
  {
   "cell_type": "code",
   "execution_count": 23,
   "id": "0d60deec",
   "metadata": {},
   "outputs": [
    {
     "data": {
      "text/html": [
       "60"
      ],
      "text/latex": [
       "60"
      ],
      "text/markdown": [
       "60"
      ],
      "text/plain": [
       "[1] 60"
      ]
     },
     "metadata": {},
     "output_type": "display_data"
    },
    {
     "data": {
      "text/html": [
       "72"
      ],
      "text/latex": [
       "72"
      ],
      "text/markdown": [
       "72"
      ],
      "text/plain": [
       "[1] 72"
      ]
     },
     "metadata": {},
     "output_type": "display_data"
    }
   ],
   "source": [
    "weight[1]\n",
    "weight[length(weight)]"
   ]
  },
  {
   "cell_type": "markdown",
   "id": "8c5d0c66",
   "metadata": {},
   "source": [
    "#### for loop"
   ]
  },
  {
   "cell_type": "code",
   "execution_count": 24,
   "id": "79f79f15",
   "metadata": {},
   "outputs": [],
   "source": [
    "bmi <- 0\n",
    "for (i in 1:length(weight)) {\n",
    "  bmi[i] <- weight[i]/height[i]^2\n",
    "}"
   ]
  },
  {
   "cell_type": "code",
   "execution_count": 25,
   "id": "c3c2b7b4",
   "metadata": {},
   "outputs": [
    {
     "data": {
      "text/html": [
       "<style>\n",
       ".list-inline {list-style: none; margin:0; padding: 0}\n",
       ".list-inline>li {display: inline-block}\n",
       ".list-inline>li:not(:last-child)::after {content: \"\\00b7\"; padding: 0 .5ex}\n",
       "</style>\n",
       "<ol class=list-inline><li>19.5918367346939</li><li>22.2222222222222</li><li>20.9366391184573</li><li>24.9307479224377</li><li>31.3779891663364</li><li>19.7363010882377</li></ol>\n"
      ],
      "text/latex": [
       "\\begin{enumerate*}\n",
       "\\item 19.5918367346939\n",
       "\\item 22.2222222222222\n",
       "\\item 20.9366391184573\n",
       "\\item 24.9307479224377\n",
       "\\item 31.3779891663364\n",
       "\\item 19.7363010882377\n",
       "\\end{enumerate*}\n"
      ],
      "text/markdown": [
       "1. 19.5918367346939\n",
       "2. 22.2222222222222\n",
       "3. 20.9366391184573\n",
       "4. 24.9307479224377\n",
       "5. 31.3779891663364\n",
       "6. 19.7363010882377\n",
       "\n",
       "\n"
      ],
      "text/plain": [
       "[1] 19.59184 22.22222 20.93664 24.93075 31.37799 19.73630"
      ]
     },
     "metadata": {},
     "output_type": "display_data"
    }
   ],
   "source": [
    "bmi"
   ]
  },
  {
   "cell_type": "markdown",
   "id": "6fc03098",
   "metadata": {},
   "source": [
    "#### while loop"
   ]
  },
  {
   "cell_type": "code",
   "execution_count": 26,
   "id": "5559a80e",
   "metadata": {},
   "outputs": [],
   "source": [
    "i <- 1\n",
    "while (i <= length(weight)) {\n",
    "  bmi[i] <- weight[i]/height[i]^2\n",
    "  i <- i + 1\n",
    "}"
   ]
  },
  {
   "cell_type": "code",
   "execution_count": 27,
   "id": "84c44c14",
   "metadata": {},
   "outputs": [
    {
     "data": {
      "text/html": [
       "<style>\n",
       ".list-inline {list-style: none; margin:0; padding: 0}\n",
       ".list-inline>li {display: inline-block}\n",
       ".list-inline>li:not(:last-child)::after {content: \"\\00b7\"; padding: 0 .5ex}\n",
       "</style>\n",
       "<ol class=list-inline><li>19.5918367346939</li><li>22.2222222222222</li><li>20.9366391184573</li><li>24.9307479224377</li><li>31.3779891663364</li><li>19.7363010882377</li></ol>\n"
      ],
      "text/latex": [
       "\\begin{enumerate*}\n",
       "\\item 19.5918367346939\n",
       "\\item 22.2222222222222\n",
       "\\item 20.9366391184573\n",
       "\\item 24.9307479224377\n",
       "\\item 31.3779891663364\n",
       "\\item 19.7363010882377\n",
       "\\end{enumerate*}\n"
      ],
      "text/markdown": [
       "1. 19.5918367346939\n",
       "2. 22.2222222222222\n",
       "3. 20.9366391184573\n",
       "4. 24.9307479224377\n",
       "5. 31.3779891663364\n",
       "6. 19.7363010882377\n",
       "\n",
       "\n"
      ],
      "text/plain": [
       "[1] 19.59184 22.22222 20.93664 24.93075 31.37799 19.73630"
      ]
     },
     "metadata": {},
     "output_type": "display_data"
    }
   ],
   "source": [
    "bmi"
   ]
  },
  {
   "cell_type": "markdown",
   "id": "b23e3918",
   "metadata": {},
   "source": [
    "#### Removing variable"
   ]
  },
  {
   "cell_type": "code",
   "execution_count": 28,
   "id": "676d0198",
   "metadata": {},
   "outputs": [
    {
     "data": {
      "text/html": [
       "FALSE"
      ],
      "text/latex": [
       "FALSE"
      ],
      "text/markdown": [
       "FALSE"
      ],
      "text/plain": [
       "[1] FALSE"
      ]
     },
     "metadata": {},
     "output_type": "display_data"
    }
   ],
   "source": [
    "rm(bmi)\n",
    "exists(\"bmi\")"
   ]
  },
  {
   "cell_type": "markdown",
   "id": "f46a8ade",
   "metadata": {},
   "source": [
    "#### Manipulating vectors efficiently"
   ]
  },
  {
   "cell_type": "code",
   "execution_count": 29,
   "id": "953969dd",
   "metadata": {},
   "outputs": [
    {
     "data": {
      "text/html": [
       "<style>\n",
       ".list-inline {list-style: none; margin:0; padding: 0}\n",
       ".list-inline>li {display: inline-block}\n",
       ".list-inline>li:not(:last-child)::after {content: \"\\00b7\"; padding: 0 .5ex}\n",
       "</style>\n",
       "<ol class=list-inline><li>19.5918367346939</li><li>22.2222222222222</li><li>20.9366391184573</li><li>24.9307479224377</li><li>31.3779891663364</li><li>19.7363010882377</li></ol>\n"
      ],
      "text/latex": [
       "\\begin{enumerate*}\n",
       "\\item 19.5918367346939\n",
       "\\item 22.2222222222222\n",
       "\\item 20.9366391184573\n",
       "\\item 24.9307479224377\n",
       "\\item 31.3779891663364\n",
       "\\item 19.7363010882377\n",
       "\\end{enumerate*}\n"
      ],
      "text/markdown": [
       "1. 19.5918367346939\n",
       "2. 22.2222222222222\n",
       "3. 20.9366391184573\n",
       "4. 24.9307479224377\n",
       "5. 31.3779891663364\n",
       "6. 19.7363010882377\n",
       "\n",
       "\n"
      ],
      "text/plain": [
       "[1] 19.59184 22.22222 20.93664 24.93075 31.37799 19.73630"
      ]
     },
     "metadata": {},
     "output_type": "display_data"
    }
   ],
   "source": [
    "bmi <- weight/height^2 \n",
    "bmi "
   ]
  },
  {
   "cell_type": "markdown",
   "id": "198a6da0",
   "metadata": {},
   "source": [
    "#### Function definition"
   ]
  },
  {
   "cell_type": "code",
   "execution_count": 30,
   "id": "d624f2af",
   "metadata": {},
   "outputs": [],
   "source": [
    "compute_bmi <- function(weight, height) {\n",
    "  bmi <- weight/height^2 \n",
    "  return(bmi)\n",
    "}"
   ]
  },
  {
   "cell_type": "markdown",
   "id": "adfa9ada",
   "metadata": {},
   "source": [
    "#### Using with scalar"
   ]
  },
  {
   "cell_type": "code",
   "execution_count": 31,
   "id": "bd1d84a0",
   "metadata": {},
   "outputs": [
    {
     "data": {
      "text/html": [
       "19.5918367346939"
      ],
      "text/latex": [
       "19.5918367346939"
      ],
      "text/markdown": [
       "19.5918367346939"
      ],
      "text/plain": [
       "[1] 19.59184"
      ]
     },
     "metadata": {},
     "output_type": "display_data"
    }
   ],
   "source": [
    "bmi <- compute_bmi(60, 1.75)\n",
    "bmi"
   ]
  },
  {
   "cell_type": "markdown",
   "id": "b262df12",
   "metadata": {},
   "source": [
    "#### Using with vectors"
   ]
  },
  {
   "cell_type": "code",
   "execution_count": 32,
   "id": "432333e7",
   "metadata": {},
   "outputs": [
    {
     "data": {
      "text/html": [
       "<style>\n",
       ".list-inline {list-style: none; margin:0; padding: 0}\n",
       ".list-inline>li {display: inline-block}\n",
       ".list-inline>li:not(:last-child)::after {content: \"\\00b7\"; padding: 0 .5ex}\n",
       "</style>\n",
       "<ol class=list-inline><li>19.5918367346939</li><li>22.2222222222222</li><li>20.9366391184573</li><li>24.9307479224377</li><li>31.3779891663364</li><li>19.7363010882377</li></ol>\n"
      ],
      "text/latex": [
       "\\begin{enumerate*}\n",
       "\\item 19.5918367346939\n",
       "\\item 22.2222222222222\n",
       "\\item 20.9366391184573\n",
       "\\item 24.9307479224377\n",
       "\\item 31.3779891663364\n",
       "\\item 19.7363010882377\n",
       "\\end{enumerate*}\n"
      ],
      "text/markdown": [
       "1. 19.5918367346939\n",
       "2. 22.2222222222222\n",
       "3. 20.9366391184573\n",
       "4. 24.9307479224377\n",
       "5. 31.3779891663364\n",
       "6. 19.7363010882377\n",
       "\n",
       "\n"
      ],
      "text/plain": [
       "[1] 19.59184 22.22222 20.93664 24.93075 31.37799 19.73630"
      ]
     },
     "metadata": {},
     "output_type": "display_data"
    }
   ],
   "source": [
    "bmi <- compute_bmi(weight, height)\n",
    "bmi"
   ]
  },
  {
   "cell_type": "markdown",
   "id": "87013373",
   "metadata": {},
   "source": [
    "#### Average function"
   ]
  },
  {
   "cell_type": "code",
   "execution_count": 33,
   "id": "4fa56b2d",
   "metadata": {},
   "outputs": [],
   "source": [
    "average <- function(vec) {\n",
    "    s <- 0\n",
    "    n <- length(vec)\n",
    "    for (x in vec) {\n",
    "      s <- s + x  \n",
    "    }\n",
    "    return(s/n)\n",
    "}"
   ]
  },
  {
   "cell_type": "code",
   "execution_count": 34,
   "id": "d24c0640",
   "metadata": {},
   "outputs": [
    {
     "data": {
      "text/html": [
       "23.1326227087309"
      ],
      "text/latex": [
       "23.1326227087309"
      ],
      "text/markdown": [
       "23.1326227087309"
      ],
      "text/plain": [
       "[1] 23.13262"
      ]
     },
     "metadata": {},
     "output_type": "display_data"
    }
   ],
   "source": [
    "avg_bmi <- average(bmi)\n",
    "avg_bmi"
   ]
  },
  {
   "cell_type": "markdown",
   "id": "c4b3d6a7",
   "metadata": {},
   "source": [
    "#### Average function: improved version"
   ]
  },
  {
   "cell_type": "code",
   "execution_count": 35,
   "id": "05627c86",
   "metadata": {},
   "outputs": [],
   "source": [
    "average <- function(vec) {\n",
    "    s <- sum(vec)\n",
    "    n <- length(vec)\n",
    "    return(s/n)\n",
    "}"
   ]
  },
  {
   "cell_type": "code",
   "execution_count": 36,
   "id": "8988d664",
   "metadata": {},
   "outputs": [
    {
     "data": {
      "text/html": [
       "23.1326227087309"
      ],
      "text/latex": [
       "23.1326227087309"
      ],
      "text/markdown": [
       "23.1326227087309"
      ],
      "text/plain": [
       "[1] 23.13262"
      ]
     },
     "metadata": {},
     "output_type": "display_data"
    }
   ],
   "source": [
    "avg_bmi <- average(bmi)\n",
    "avg_bmi"
   ]
  },
  {
   "cell_type": "markdown",
   "id": "0368003e",
   "metadata": {},
   "source": [
    "#### Average function: major statistical functions already exists"
   ]
  },
  {
   "cell_type": "code",
   "execution_count": 37,
   "id": "885caab2",
   "metadata": {},
   "outputs": [],
   "source": [
    "average <- function(vec) {\n",
    "    return(mean(vec))\n",
    "}"
   ]
  },
  {
   "cell_type": "code",
   "execution_count": 38,
   "id": "439ffc1b",
   "metadata": {},
   "outputs": [
    {
     "data": {
      "text/html": [
       "23.1326227087309"
      ],
      "text/latex": [
       "23.1326227087309"
      ],
      "text/markdown": [
       "23.1326227087309"
      ],
      "text/plain": [
       "[1] 23.13262"
      ]
     },
     "metadata": {},
     "output_type": "display_data"
    }
   ],
   "source": [
    "avg_bmi <- average(bmi)\n",
    "avg_bmi"
   ]
  },
  {
   "cell_type": "markdown",
   "id": "07a46006",
   "metadata": {},
   "source": [
    "#### NA definition"
   ]
  },
  {
   "cell_type": "code",
   "execution_count": 39,
   "id": "0f51d175",
   "metadata": {},
   "outputs": [
    {
     "data": {
      "text/html": [
       "<style>\n",
       ".list-inline {list-style: none; margin:0; padding: 0}\n",
       ".list-inline>li {display: inline-block}\n",
       ".list-inline>li:not(:last-child)::after {content: \"\\00b7\"; padding: 0 .5ex}\n",
       "</style>\n",
       "<ol class=list-inline><li>10</li><li>&lt;NA&gt;</li><li>13</li></ol>\n"
      ],
      "text/latex": [
       "\\begin{enumerate*}\n",
       "\\item 10\n",
       "\\item <NA>\n",
       "\\item 13\n",
       "\\end{enumerate*}\n"
      ],
      "text/markdown": [
       "1. 10\n",
       "2. &lt;NA&gt;\n",
       "3. 13\n",
       "\n",
       "\n"
      ],
      "text/plain": [
       "[1] 10 NA 13"
      ]
     },
     "metadata": {},
     "output_type": "display_data"
    }
   ],
   "source": [
    "x <- c(10, NA, 13)\n",
    "x"
   ]
  },
  {
   "cell_type": "markdown",
   "id": "f392d2fe",
   "metadata": {},
   "source": [
    "#### Evaluation with NA leads to NA"
   ]
  },
  {
   "cell_type": "code",
   "execution_count": 40,
   "id": "ff804491",
   "metadata": {},
   "outputs": [
    {
     "data": {
      "text/html": [
       "&lt;NA&gt;"
      ],
      "text/latex": [
       "<NA>"
      ],
      "text/markdown": [
       "&lt;NA&gt;"
      ],
      "text/plain": [
       "[1] NA"
      ]
     },
     "metadata": {},
     "output_type": "display_data"
    }
   ],
   "source": [
    "average(x)"
   ]
  },
  {
   "cell_type": "markdown",
   "id": "c5eac371",
   "metadata": {},
   "source": [
    "#### Addressing NA"
   ]
  },
  {
   "cell_type": "code",
   "execution_count": 41,
   "id": "54dc268a",
   "metadata": {},
   "outputs": [],
   "source": [
    "average <- function(vec) {\n",
    "    return(mean(vec, na.rm=TRUE))\n",
    "}"
   ]
  },
  {
   "cell_type": "code",
   "execution_count": 42,
   "id": "504f55d3",
   "metadata": {},
   "outputs": [
    {
     "data": {
      "text/html": [
       "11.5"
      ],
      "text/latex": [
       "11.5"
      ],
      "text/markdown": [
       "11.5"
      ],
      "text/plain": [
       "[1] 11.5"
      ]
     },
     "metadata": {},
     "output_type": "display_data"
    }
   ],
   "source": [
    "average(x)"
   ]
  },
  {
   "cell_type": "markdown",
   "id": "8c192654",
   "metadata": {},
   "source": [
    "### Part #2"
   ]
  },
  {
   "cell_type": "markdown",
   "id": "3a567ccc",
   "metadata": {},
   "source": [
    "#### Setup variables"
   ]
  },
  {
   "cell_type": "code",
   "execution_count": 43,
   "id": "2c2adf10",
   "metadata": {},
   "outputs": [],
   "source": [
    "weight <- c(60, 72, 57, 90, 95, 72) \n",
    "height <- c(1.75, 1.80, 1.65, 1.90, 1.74, 1.91)\n",
    "subject <- c(\"A\", \"B\", \"C\", \"D\", \"E\", \"F\")"
   ]
  },
  {
   "cell_type": "markdown",
   "id": "556af8d6",
   "metadata": {},
   "source": [
    "#### Basic plot"
   ]
  },
  {
   "cell_type": "code",
   "execution_count": 44,
   "id": "9de7d55a",
   "metadata": {},
   "outputs": [
    {
     "data": {
      "image/png": "[encoded data removed]",
      "text/plain": [
       "plot without title"
      ]
     },
     "metadata": {
      "image/png": {
       "height": 420,
       "width": 420
      }
     },
     "output_type": "display_data"
    }
   ],
   "source": [
    "#options(repr.plot.width=5, repr.plot.height=5)\n",
    "plot(height, weight)"
   ]
  },
  {
   "cell_type": "markdown",
   "id": "27f31ad9",
   "metadata": {},
   "source": [
    "#### Changing default values"
   ]
  },
  {
   "cell_type": "code",
   "execution_count": 45,
   "id": "0e114137",
   "metadata": {},
   "outputs": [
    {
     "data": {
      "image/png": "[encoded data removed]",
      "text/plain": [
       "plot without title"
      ]
     },
     "metadata": {
      "image/png": {
       "height": 420,
       "width": 420
      }
     },
     "output_type": "display_data"
    }
   ],
   "source": [
    " plot(height, weight, pch=2)\n"
   ]
  },
  {
   "cell_type": "markdown",
   "id": "c5386e1e",
   "metadata": {},
   "source": [
    "#### Discovering default values"
   ]
  },
  {
   "cell_type": "code",
   "execution_count": 46,
   "id": "735d862f",
   "metadata": {},
   "outputs": [
    {
     "data": {
      "text/html": [
       "<pre class=language-r><code>function (x, y = NULL, type = \"p\", xlim = NULL, ylim = NULL, \n",
       "<span style=white-space:pre-wrap>    log = \"\", main = NULL, sub = NULL, xlab = NULL, ylab = NULL, </span>\n",
       "<span style=white-space:pre-wrap>    ann = par(\"ann\"), axes = TRUE, frame.plot = axes, panel.first = NULL, </span>\n",
       "<span style=white-space:pre-wrap>    panel.last = NULL, asp = NA, xgap.axis = NA, ygap.axis = NA, </span>\n",
       "<span style=white-space:pre-wrap>    ...) </span>\n",
       "NULL</code></pre>"
      ],
      "text/latex": [
       "\\begin{minted}{r}\n",
       "function (x, y = NULL, type = \"p\", xlim = NULL, ylim = NULL, \n",
       "    log = \"\", main = NULL, sub = NULL, xlab = NULL, ylab = NULL, \n",
       "    ann = par(\"ann\"), axes = TRUE, frame.plot = axes, panel.first = NULL, \n",
       "    panel.last = NULL, asp = NA, xgap.axis = NA, ygap.axis = NA, \n",
       "    ...) \n",
       "NULL\n",
       "\\end{minted}"
      ],
      "text/markdown": [
       "```r\n",
       "function (x, y = NULL, type = \"p\", xlim = NULL, ylim = NULL, \n",
       "    log = \"\", main = NULL, sub = NULL, xlab = NULL, ylab = NULL, \n",
       "    ann = par(\"ann\"), axes = TRUE, frame.plot = axes, panel.first = NULL, \n",
       "    panel.last = NULL, asp = NA, xgap.axis = NA, ygap.axis = NA, \n",
       "    ...) \n",
       "NULL\n",
       "```"
      ],
      "text/plain": [
       "function (x, y = NULL, type = \"p\", xlim = NULL, ylim = NULL, \n",
       "    log = \"\", main = NULL, sub = NULL, xlab = NULL, ylab = NULL, \n",
       "    ann = par(\"ann\"), axes = TRUE, frame.plot = axes, panel.first = NULL, \n",
       "    panel.last = NULL, asp = NA, xgap.axis = NA, ygap.axis = NA, \n",
       "    ...) \n",
       "NULL"
      ]
     },
     "metadata": {},
     "output_type": "display_data"
    }
   ],
   "source": [
    "args(plot.default)"
   ]
  },
  {
   "cell_type": "code",
   "execution_count": 47,
   "id": "e824df5d",
   "metadata": {},
   "outputs": [],
   "source": [
    "?plot"
   ]
  },
  {
   "cell_type": "markdown",
   "id": "733660a6",
   "metadata": {},
   "source": [
    "#### Adding a line"
   ]
  },
  {
   "cell_type": "code",
   "execution_count": 48,
   "id": "30d2f639",
   "metadata": {},
   "outputs": [
    {
     "data": {
      "image/png": "[encoded data removed]",
      "text/plain": [
       "plot without title"
      ]
     },
     "metadata": {
      "image/png": {
       "height": 420,
       "width": 420
      }
     },
     "output_type": "display_data"
    }
   ],
   "source": [
    "plot(height, weight)\n",
    "hh = c(1.65, 1.70, 1.75, 1.80, 1.85, 1.90)\n",
    "lines(hh, 22.5 * hh^2)"
   ]
  },
  {
   "cell_type": "markdown",
   "id": "1783a939",
   "metadata": {},
   "source": [
    "#### Factors"
   ]
  },
  {
   "cell_type": "code",
   "execution_count": 49,
   "id": "6055e3d2",
   "metadata": {},
   "outputs": [
    {
     "data": {
      "text/html": [
       "<style>\n",
       ".list-inline {list-style: none; margin:0; padding: 0}\n",
       ".list-inline>li {display: inline-block}\n",
       ".list-inline>li:not(:last-child)::after {content: \"\\00b7\"; padding: 0 .5ex}\n",
       "</style>\n",
       "<ol class=list-inline><li>0</li><li>3</li><li>2</li><li>2</li><li>1</li></ol>\n",
       "\n",
       "<details>\n",
       "\t<summary style=display:list-item;cursor:pointer>\n",
       "\t\t<strong>Levels</strong>:\n",
       "\t</summary>\n",
       "\t<style>\n",
       "\t.list-inline {list-style: none; margin:0; padding: 0}\n",
       "\t.list-inline>li {display: inline-block}\n",
       "\t.list-inline>li:not(:last-child)::after {content: \"\\00b7\"; padding: 0 .5ex}\n",
       "\t</style>\n",
       "\t<ol class=list-inline><li>'0'</li><li>'1'</li><li>'2'</li><li>'3'</li></ol>\n",
       "</details>"
      ],
      "text/latex": [
       "\\begin{enumerate*}\n",
       "\\item 0\n",
       "\\item 3\n",
       "\\item 2\n",
       "\\item 2\n",
       "\\item 1\n",
       "\\end{enumerate*}\n",
       "\n",
       "\\emph{Levels}: \\begin{enumerate*}\n",
       "\\item '0'\n",
       "\\item '1'\n",
       "\\item '2'\n",
       "\\item '3'\n",
       "\\end{enumerate*}\n"
      ],
      "text/markdown": [
       "1. 0\n",
       "2. 3\n",
       "3. 2\n",
       "4. 2\n",
       "5. 1\n",
       "\n",
       "\n",
       "\n",
       "**Levels**: 1. '0'\n",
       "2. '1'\n",
       "3. '2'\n",
       "4. '3'\n",
       "\n",
       "\n"
      ],
      "text/plain": [
       "[1] 0 3 2 2 1\n",
       "Levels: 0 < 1 < 2 < 3"
      ]
     },
     "metadata": {},
     "output_type": "display_data"
    }
   ],
   "source": [
    "pain <- c(0,3,2,2,1)\n",
    "fpain <- factor(pain,levels=0:3, ordered=TRUE)\n",
    "fpain"
   ]
  },
  {
   "cell_type": "markdown",
   "id": "0dc0d349",
   "metadata": {},
   "source": [
    "#### Labeling categories"
   ]
  },
  {
   "cell_type": "code",
   "execution_count": 50,
   "id": "0da23829",
   "metadata": {},
   "outputs": [
    {
     "data": {
      "text/html": [
       "<style>\n",
       ".list-inline {list-style: none; margin:0; padding: 0}\n",
       ".list-inline>li {display: inline-block}\n",
       ".list-inline>li:not(:last-child)::after {content: \"\\00b7\"; padding: 0 .5ex}\n",
       "</style>\n",
       "<ol class=list-inline><li>none</li><li>severe</li><li>medium</li><li>medium</li><li>mild</li></ol>\n",
       "\n",
       "<details>\n",
       "\t<summary style=display:list-item;cursor:pointer>\n",
       "\t\t<strong>Levels</strong>:\n",
       "\t</summary>\n",
       "\t<style>\n",
       "\t.list-inline {list-style: none; margin:0; padding: 0}\n",
       "\t.list-inline>li {display: inline-block}\n",
       "\t.list-inline>li:not(:last-child)::after {content: \"\\00b7\"; padding: 0 .5ex}\n",
       "\t</style>\n",
       "\t<ol class=list-inline><li>'none'</li><li>'mild'</li><li>'medium'</li><li>'severe'</li></ol>\n",
       "</details>"
      ],
      "text/latex": [
       "\\begin{enumerate*}\n",
       "\\item none\n",
       "\\item severe\n",
       "\\item medium\n",
       "\\item medium\n",
       "\\item mild\n",
       "\\end{enumerate*}\n",
       "\n",
       "\\emph{Levels}: \\begin{enumerate*}\n",
       "\\item 'none'\n",
       "\\item 'mild'\n",
       "\\item 'medium'\n",
       "\\item 'severe'\n",
       "\\end{enumerate*}\n"
      ],
      "text/markdown": [
       "1. none\n",
       "2. severe\n",
       "3. medium\n",
       "4. medium\n",
       "5. mild\n",
       "\n",
       "\n",
       "\n",
       "**Levels**: 1. 'none'\n",
       "2. 'mild'\n",
       "3. 'medium'\n",
       "4. 'severe'\n",
       "\n",
       "\n"
      ],
      "text/plain": [
       "[1] none   severe medium medium mild  \n",
       "Levels: none < mild < medium < severe"
      ]
     },
     "metadata": {},
     "output_type": "display_data"
    }
   ],
   "source": [
    "levels(fpain) <- c(\"none\",\"mild\",\"medium\",\"severe\")\n",
    "fpain"
   ]
  },
  {
   "cell_type": "markdown",
   "id": "1c70d97b",
   "metadata": {},
   "source": [
    "#### Convert double to factor"
   ]
  },
  {
   "cell_type": "code",
   "execution_count": 51,
   "id": "fe40ecbd",
   "metadata": {},
   "outputs": [
    {
     "data": {
      "text/html": [
       "<style>\n",
       ".list-inline {list-style: none; margin:0; padding: 0}\n",
       ".list-inline>li {display: inline-block}\n",
       ".list-inline>li:not(:last-child)::after {content: \"\\00b7\"; padding: 0 .5ex}\n",
       "</style>\n",
       "<ol class=list-inline><li>medium</li><li>medium</li><li>short</li><li>tall</li><li>medium</li><li>tall</li></ol>\n",
       "\n",
       "<details>\n",
       "\t<summary style=display:list-item;cursor:pointer>\n",
       "\t\t<strong>Levels</strong>:\n",
       "\t</summary>\n",
       "\t<style>\n",
       "\t.list-inline {list-style: none; margin:0; padding: 0}\n",
       "\t.list-inline>li {display: inline-block}\n",
       "\t.list-inline>li:not(:last-child)::after {content: \"\\00b7\"; padding: 0 .5ex}\n",
       "\t</style>\n",
       "\t<ol class=list-inline><li>'medium'</li><li>'short'</li><li>'tall'</li></ol>\n",
       "</details>"
      ],
      "text/latex": [
       "\\begin{enumerate*}\n",
       "\\item medium\n",
       "\\item medium\n",
       "\\item short\n",
       "\\item tall\n",
       "\\item medium\n",
       "\\item tall\n",
       "\\end{enumerate*}\n",
       "\n",
       "\\emph{Levels}: \\begin{enumerate*}\n",
       "\\item 'medium'\n",
       "\\item 'short'\n",
       "\\item 'tall'\n",
       "\\end{enumerate*}\n"
      ],
      "text/markdown": [
       "1. medium\n",
       "2. medium\n",
       "3. short\n",
       "4. tall\n",
       "5. medium\n",
       "6. tall\n",
       "\n",
       "\n",
       "\n",
       "**Levels**: 1. 'medium'\n",
       "2. 'short'\n",
       "3. 'tall'\n",
       "\n",
       "\n"
      ],
      "text/plain": [
       "[1] medium medium short  tall   medium tall  \n",
       "Levels: medium short tall"
      ]
     },
     "metadata": {},
     "output_type": "display_data"
    }
   ],
   "source": [
    "lev <- rep(\"\", length(height))\n",
    "\n",
    "for (i in 1:length(height)) {\n",
    "  if (height[i] < 1.7)\n",
    "    lev[i] <- \"short\"\n",
    "  else if (height[i] < 1.9)\n",
    "    lev[i] <- \"medium\"\n",
    "  else \n",
    "    lev[i] <- \"tall\"\n",
    "}\n",
    "lev <- as.factor(lev)\n",
    "lev"
   ]
  },
  {
   "cell_type": "markdown",
   "id": "157f7b04",
   "metadata": {},
   "source": [
    "#### Using cut function"
   ]
  },
  {
   "cell_type": "code",
   "execution_count": 52,
   "id": "7de75ea3",
   "metadata": {},
   "outputs": [
    {
     "data": {
      "text/html": [
       "<style>\n",
       ".list-inline {list-style: none; margin:0; padding: 0}\n",
       ".list-inline>li {display: inline-block}\n",
       ".list-inline>li:not(:last-child)::after {content: \"\\00b7\"; padding: 0 .5ex}\n",
       "</style>\n",
       "<ol class=list-inline><li>(1.7,1.9]</li><li>(1.7,1.9]</li><li>(0,1.7]</li><li>(1.7,1.9]</li><li>(1.7,1.9]</li><li>(1.9,1.8e+308]</li></ol>\n",
       "\n",
       "<details>\n",
       "\t<summary style=display:list-item;cursor:pointer>\n",
       "\t\t<strong>Levels</strong>:\n",
       "\t</summary>\n",
       "\t<style>\n",
       "\t.list-inline {list-style: none; margin:0; padding: 0}\n",
       "\t.list-inline>li {display: inline-block}\n",
       "\t.list-inline>li:not(:last-child)::after {content: \"\\00b7\"; padding: 0 .5ex}\n",
       "\t</style>\n",
       "\t<ol class=list-inline><li>'(0,1.7]'</li><li>'(1.7,1.9]'</li><li>'(1.9,1.8e+308]'</li></ol>\n",
       "</details>"
      ],
      "text/latex": [
       "\\begin{enumerate*}\n",
       "\\item (1.7,1.9{]}\n",
       "\\item (1.7,1.9{]}\n",
       "\\item (0,1.7{]}\n",
       "\\item (1.7,1.9{]}\n",
       "\\item (1.7,1.9{]}\n",
       "\\item (1.9,1.8e+308{]}\n",
       "\\end{enumerate*}\n",
       "\n",
       "\\emph{Levels}: \\begin{enumerate*}\n",
       "\\item '(0,1.7{]}'\n",
       "\\item '(1.7,1.9{]}'\n",
       "\\item '(1.9,1.8e+308{]}'\n",
       "\\end{enumerate*}\n"
      ],
      "text/markdown": [
       "1. (1.7,1.9]\n",
       "2. (1.7,1.9]\n",
       "3. (0,1.7]\n",
       "4. (1.7,1.9]\n",
       "5. (1.7,1.9]\n",
       "6. (1.9,1.8e+308]\n",
       "\n",
       "\n",
       "\n",
       "**Levels**: 1. '(0,1.7]'\n",
       "2. '(1.7,1.9]'\n",
       "3. '(1.9,1.8e+308]'\n",
       "\n",
       "\n"
      ],
      "text/plain": [
       "[1] (1.7,1.9]      (1.7,1.9]      (0,1.7]        (1.7,1.9]      (1.7,1.9]     \n",
       "[6] (1.9,1.8e+308]\n",
       "Levels: (0,1.7] < (1.7,1.9] < (1.9,1.8e+308]"
      ]
     },
     "metadata": {},
     "output_type": "display_data"
    },
    {
     "data": {
      "text/html": [
       "<style>\n",
       ".list-inline {list-style: none; margin:0; padding: 0}\n",
       ".list-inline>li {display: inline-block}\n",
       ".list-inline>li:not(:last-child)::after {content: \"\\00b7\"; padding: 0 .5ex}\n",
       "</style>\n",
       "<ol class=list-inline><li>medium</li><li>medium</li><li>short</li><li>medium</li><li>medium</li><li>tall</li></ol>\n",
       "\n",
       "<details>\n",
       "\t<summary style=display:list-item;cursor:pointer>\n",
       "\t\t<strong>Levels</strong>:\n",
       "\t</summary>\n",
       "\t<style>\n",
       "\t.list-inline {list-style: none; margin:0; padding: 0}\n",
       "\t.list-inline>li {display: inline-block}\n",
       "\t.list-inline>li:not(:last-child)::after {content: \"\\00b7\"; padding: 0 .5ex}\n",
       "\t</style>\n",
       "\t<ol class=list-inline><li>'short'</li><li>'medium'</li><li>'tall'</li></ol>\n",
       "</details>"
      ],
      "text/latex": [
       "\\begin{enumerate*}\n",
       "\\item medium\n",
       "\\item medium\n",
       "\\item short\n",
       "\\item medium\n",
       "\\item medium\n",
       "\\item tall\n",
       "\\end{enumerate*}\n",
       "\n",
       "\\emph{Levels}: \\begin{enumerate*}\n",
       "\\item 'short'\n",
       "\\item 'medium'\n",
       "\\item 'tall'\n",
       "\\end{enumerate*}\n"
      ],
      "text/markdown": [
       "1. medium\n",
       "2. medium\n",
       "3. short\n",
       "4. medium\n",
       "5. medium\n",
       "6. tall\n",
       "\n",
       "\n",
       "\n",
       "**Levels**: 1. 'short'\n",
       "2. 'medium'\n",
       "3. 'tall'\n",
       "\n",
       "\n"
      ],
      "text/plain": [
       "[1] medium medium short  medium medium tall  \n",
       "Levels: short < medium < tall"
      ]
     },
     "metadata": {},
     "output_type": "display_data"
    }
   ],
   "source": [
    "lev <- cut(height, breaks=c(0, 1.7, 1.9, .Machine$double.xmax), ordered=TRUE)\n",
    "lev\n",
    "levels(lev) <- c(\"short\", \"medium\", \"tall\")\n",
    "lev"
   ]
  },
  {
   "cell_type": "markdown",
   "id": "a644c9b3",
   "metadata": {},
   "source": [
    "#### Matrix"
   ]
  },
  {
   "cell_type": "code",
   "execution_count": 53,
   "id": "f75bdd6e",
   "metadata": {},
   "outputs": [
    {
     "data": {
      "text/html": [
       "<style>\n",
       ".list-inline {list-style: none; margin:0; padding: 0}\n",
       ".list-inline>li {display: inline-block}\n",
       ".list-inline>li:not(:last-child)::after {content: \"\\00b7\"; padding: 0 .5ex}\n",
       "</style>\n",
       "<ol class=list-inline><li>1</li><li>2</li><li>3</li><li>4</li><li>5</li><li>6</li><li>7</li><li>8</li><li>9</li></ol>\n"
      ],
      "text/latex": [
       "\\begin{enumerate*}\n",
       "\\item 1\n",
       "\\item 2\n",
       "\\item 3\n",
       "\\item 4\n",
       "\\item 5\n",
       "\\item 6\n",
       "\\item 7\n",
       "\\item 8\n",
       "\\item 9\n",
       "\\end{enumerate*}\n"
      ],
      "text/markdown": [
       "1. 1\n",
       "2. 2\n",
       "3. 3\n",
       "4. 4\n",
       "5. 5\n",
       "6. 6\n",
       "7. 7\n",
       "8. 8\n",
       "9. 9\n",
       "\n",
       "\n"
      ],
      "text/plain": [
       "[1] 1 2 3 4 5 6 7 8 9"
      ]
     },
     "metadata": {},
     "output_type": "display_data"
    }
   ],
   "source": [
    "x <- 1:9\n",
    "x"
   ]
  },
  {
   "cell_type": "markdown",
   "id": "512b1d1f",
   "metadata": {},
   "source": [
    "#### Vector to matrix"
   ]
  },
  {
   "cell_type": "code",
   "execution_count": 54,
   "id": "460711dd",
   "metadata": {},
   "outputs": [
    {
     "data": {
      "text/html": [
       "<table class=\"dataframe\">\n",
       "<caption>A matrix: 3 × 3 of type int</caption>\n",
       "<tbody>\n",
       "\t<tr><td>1</td><td>4</td><td>7</td></tr>\n",
       "\t<tr><td>2</td><td>5</td><td>8</td></tr>\n",
       "\t<tr><td>3</td><td>6</td><td>9</td></tr>\n",
       "</tbody>\n",
       "</table>\n"
      ],
      "text/latex": [
       "A matrix: 3 × 3 of type int\n",
       "\\begin{tabular}{lll}\n",
       "\t 1 & 4 & 7\\\\\n",
       "\t 2 & 5 & 8\\\\\n",
       "\t 3 & 6 & 9\\\\\n",
       "\\end{tabular}\n"
      ],
      "text/markdown": [
       "\n",
       "A matrix: 3 × 3 of type int\n",
       "\n",
       "| 1 | 4 | 7 |\n",
       "| 2 | 5 | 8 |\n",
       "| 3 | 6 | 9 |\n",
       "\n"
      ],
      "text/plain": [
       "     [,1] [,2] [,3]\n",
       "[1,] 1    4    7   \n",
       "[2,] 2    5    8   \n",
       "[3,] 3    6    9   "
      ]
     },
     "metadata": {},
     "output_type": "display_data"
    }
   ],
   "source": [
    "dim(x) <- c(3,3)\n",
    "x"
   ]
  },
  {
   "cell_type": "code",
   "execution_count": 55,
   "id": "ef59965a",
   "metadata": {},
   "outputs": [
    {
     "data": {
      "text/html": [
       "<table class=\"dataframe\">\n",
       "<caption>A matrix: 3 × 3 of type int</caption>\n",
       "<tbody>\n",
       "\t<tr><td>1</td><td>4</td><td>7</td></tr>\n",
       "\t<tr><td>2</td><td>5</td><td>8</td></tr>\n",
       "\t<tr><td>3</td><td>6</td><td>9</td></tr>\n",
       "</tbody>\n",
       "</table>\n"
      ],
      "text/latex": [
       "A matrix: 3 × 3 of type int\n",
       "\\begin{tabular}{lll}\n",
       "\t 1 & 4 & 7\\\\\n",
       "\t 2 & 5 & 8\\\\\n",
       "\t 3 & 6 & 9\\\\\n",
       "\\end{tabular}\n"
      ],
      "text/markdown": [
       "\n",
       "A matrix: 3 × 3 of type int\n",
       "\n",
       "| 1 | 4 | 7 |\n",
       "| 2 | 5 | 8 |\n",
       "| 3 | 6 | 9 |\n",
       "\n"
      ],
      "text/plain": [
       "     [,1] [,2] [,3]\n",
       "[1,] 1    4    7   \n",
       "[2,] 2    5    8   \n",
       "[3,] 3    6    9   "
      ]
     },
     "metadata": {},
     "output_type": "display_data"
    }
   ],
   "source": [
    "x"
   ]
  },
  {
   "cell_type": "code",
   "execution_count": 56,
   "id": "779a356f",
   "metadata": {},
   "outputs": [
    {
     "name": "stdout",
     "output_type": "stream",
     "text": [
      "[1] 1\n",
      "[1] 4\n",
      "[1] 7\n",
      "[1] 2\n",
      "[1] 5\n",
      "[1] 8\n",
      "[1] 3\n",
      "[1] 6\n",
      "[1] 9\n"
     ]
    }
   ],
   "source": [
    "for (i in 1:nrow(x)) \n",
    "  for (j in 1:ncol(x))\n",
    "    print(x[i,j])"
   ]
  },
  {
   "cell_type": "code",
   "execution_count": 57,
   "id": "26f92d3f",
   "metadata": {},
   "outputs": [
    {
     "data": {
      "text/html": [
       "<table class=\"dataframe\">\n",
       "<caption>A matrix: 3 × 3 of type dbl</caption>\n",
       "<tbody>\n",
       "\t<tr><td>3</td><td>12</td><td>21</td></tr>\n",
       "\t<tr><td>6</td><td>15</td><td>24</td></tr>\n",
       "\t<tr><td>9</td><td>18</td><td>27</td></tr>\n",
       "</tbody>\n",
       "</table>\n"
      ],
      "text/latex": [
       "A matrix: 3 × 3 of type dbl\n",
       "\\begin{tabular}{lll}\n",
       "\t 3 & 12 & 21\\\\\n",
       "\t 6 & 15 & 24\\\\\n",
       "\t 9 & 18 & 27\\\\\n",
       "\\end{tabular}\n"
      ],
      "text/markdown": [
       "\n",
       "A matrix: 3 × 3 of type dbl\n",
       "\n",
       "| 3 | 12 | 21 |\n",
       "| 6 | 15 | 24 |\n",
       "| 9 | 18 | 27 |\n",
       "\n"
      ],
      "text/plain": [
       "     [,1] [,2] [,3]\n",
       "[1,] 3    12   21  \n",
       "[2,] 6    15   24  \n",
       "[3,] 9    18   27  "
      ]
     },
     "metadata": {},
     "output_type": "display_data"
    }
   ],
   "source": [
    "y <- x\n",
    "for (i in 1:nrow(y)) \n",
    "  for (j in 1:ncol(y))\n",
    "    y[i,j] <- 3 * y[i, j]\n",
    "\n",
    "y"
   ]
  },
  {
   "cell_type": "markdown",
   "id": "61cdc0f1",
   "metadata": {},
   "source": [
    "#### Multiplying matrix by 3"
   ]
  },
  {
   "cell_type": "code",
   "execution_count": 58,
   "id": "22093767",
   "metadata": {},
   "outputs": [
    {
     "data": {
      "text/html": [
       "<table class=\"dataframe\">\n",
       "<caption>A matrix: 3 × 3 of type dbl</caption>\n",
       "<tbody>\n",
       "\t<tr><td>3</td><td>12</td><td>21</td></tr>\n",
       "\t<tr><td>6</td><td>15</td><td>24</td></tr>\n",
       "\t<tr><td>9</td><td>18</td><td>27</td></tr>\n",
       "</tbody>\n",
       "</table>\n"
      ],
      "text/latex": [
       "A matrix: 3 × 3 of type dbl\n",
       "\\begin{tabular}{lll}\n",
       "\t 3 & 12 & 21\\\\\n",
       "\t 6 & 15 & 24\\\\\n",
       "\t 9 & 18 & 27\\\\\n",
       "\\end{tabular}\n"
      ],
      "text/markdown": [
       "\n",
       "A matrix: 3 × 3 of type dbl\n",
       "\n",
       "| 3 | 12 | 21 |\n",
       "| 6 | 15 | 24 |\n",
       "| 9 | 18 | 27 |\n",
       "\n"
      ],
      "text/plain": [
       "     [,1] [,2] [,3]\n",
       "[1,] 3    12   21  \n",
       "[2,] 6    15   24  \n",
       "[3,] 9    18   27  "
      ]
     },
     "metadata": {},
     "output_type": "display_data"
    }
   ],
   "source": [
    "y <- x\n",
    "for (i in 1:nrow(y)) \n",
    "  for (j in 1:ncol(y))\n",
    "    y[i,j] <- 3 * y[i, j]\n",
    "\n",
    "y\n"
   ]
  },
  {
   "cell_type": "code",
   "execution_count": 59,
   "id": "5c1b1f34",
   "metadata": {},
   "outputs": [
    {
     "data": {
      "text/html": [
       "<table class=\"dataframe\">\n",
       "<caption>A matrix: 3 × 3 of type dbl</caption>\n",
       "<tbody>\n",
       "\t<tr><td>3</td><td>12</td><td>21</td></tr>\n",
       "\t<tr><td>6</td><td>15</td><td>24</td></tr>\n",
       "\t<tr><td>9</td><td>18</td><td>27</td></tr>\n",
       "</tbody>\n",
       "</table>\n"
      ],
      "text/latex": [
       "A matrix: 3 × 3 of type dbl\n",
       "\\begin{tabular}{lll}\n",
       "\t 3 & 12 & 21\\\\\n",
       "\t 6 & 15 & 24\\\\\n",
       "\t 9 & 18 & 27\\\\\n",
       "\\end{tabular}\n"
      ],
      "text/markdown": [
       "\n",
       "A matrix: 3 × 3 of type dbl\n",
       "\n",
       "| 3 | 12 | 21 |\n",
       "| 6 | 15 | 24 |\n",
       "| 9 | 18 | 27 |\n",
       "\n"
      ],
      "text/plain": [
       "     [,1] [,2] [,3]\n",
       "[1,] 3    12   21  \n",
       "[2,] 6    15   24  \n",
       "[3,] 9    18   27  "
      ]
     },
     "metadata": {},
     "output_type": "display_data"
    }
   ],
   "source": [
    "y <- 3*x\n",
    "y"
   ]
  },
  {
   "cell_type": "markdown",
   "id": "256cacb7",
   "metadata": {},
   "source": [
    "#### Vector to matrix by row"
   ]
  },
  {
   "cell_type": "code",
   "execution_count": 60,
   "id": "a1e4d6c1",
   "metadata": {},
   "outputs": [
    {
     "data": {
      "text/html": [
       "<table class=\"dataframe\">\n",
       "<caption>A matrix: 3 × 3 of type int</caption>\n",
       "<tbody>\n",
       "\t<tr><td>1</td><td>2</td><td>3</td></tr>\n",
       "\t<tr><td>4</td><td>5</td><td>6</td></tr>\n",
       "\t<tr><td>7</td><td>8</td><td>9</td></tr>\n",
       "</tbody>\n",
       "</table>\n"
      ],
      "text/latex": [
       "A matrix: 3 × 3 of type int\n",
       "\\begin{tabular}{lll}\n",
       "\t 1 & 2 & 3\\\\\n",
       "\t 4 & 5 & 6\\\\\n",
       "\t 7 & 8 & 9\\\\\n",
       "\\end{tabular}\n"
      ],
      "text/markdown": [
       "\n",
       "A matrix: 3 × 3 of type int\n",
       "\n",
       "| 1 | 2 | 3 |\n",
       "| 4 | 5 | 6 |\n",
       "| 7 | 8 | 9 |\n",
       "\n"
      ],
      "text/plain": [
       "     [,1] [,2] [,3]\n",
       "[1,] 1    2    3   \n",
       "[2,] 4    5    6   \n",
       "[3,] 7    8    9   "
      ]
     },
     "metadata": {},
     "output_type": "display_data"
    }
   ],
   "source": [
    "x <- matrix(1:9,nrow=3,byrow=T)\n",
    "x"
   ]
  },
  {
   "cell_type": "markdown",
   "id": "398194aa",
   "metadata": {},
   "source": [
    "#### Transpose matrix"
   ]
  },
  {
   "cell_type": "code",
   "execution_count": 61,
   "id": "a88b10f7",
   "metadata": {},
   "outputs": [
    {
     "data": {
      "text/html": [
       "<table class=\"dataframe\">\n",
       "<caption>A matrix: 3 × 3 of type int</caption>\n",
       "<tbody>\n",
       "\t<tr><td>1</td><td>4</td><td>7</td></tr>\n",
       "\t<tr><td>2</td><td>5</td><td>8</td></tr>\n",
       "\t<tr><td>3</td><td>6</td><td>9</td></tr>\n",
       "</tbody>\n",
       "</table>\n"
      ],
      "text/latex": [
       "A matrix: 3 × 3 of type int\n",
       "\\begin{tabular}{lll}\n",
       "\t 1 & 4 & 7\\\\\n",
       "\t 2 & 5 & 8\\\\\n",
       "\t 3 & 6 & 9\\\\\n",
       "\\end{tabular}\n"
      ],
      "text/markdown": [
       "\n",
       "A matrix: 3 × 3 of type int\n",
       "\n",
       "| 1 | 4 | 7 |\n",
       "| 2 | 5 | 8 |\n",
       "| 3 | 6 | 9 |\n",
       "\n"
      ],
      "text/plain": [
       "     [,1] [,2] [,3]\n",
       "[1,] 1    4    7   \n",
       "[2,] 2    5    8   \n",
       "[3,] 3    6    9   "
      ]
     },
     "metadata": {},
     "output_type": "display_data"
    }
   ],
   "source": [
    "x <- t(x)\n",
    "x"
   ]
  },
  {
   "cell_type": "code",
   "execution_count": 62,
   "id": "111d0475",
   "metadata": {},
   "outputs": [],
   "source": [
    "a <- c(5260,5470,5640,6180,6390,6515,6805,7515,7515,8230,8770)\n",
    "b <- c(3910,4220,3885,5160,5645,4680,5265,5975,6790,6900,7335)"
   ]
  },
  {
   "cell_type": "markdown",
   "id": "5a715620",
   "metadata": {},
   "source": [
    "#### Creating a list"
   ]
  },
  {
   "cell_type": "code",
   "execution_count": 63,
   "id": "7e94d0a3",
   "metadata": {},
   "outputs": [
    {
     "data": {
      "text/html": [
       "<ol>\n",
       "\t<li><style>\n",
       ".list-inline {list-style: none; margin:0; padding: 0}\n",
       ".list-inline>li {display: inline-block}\n",
       ".list-inline>li:not(:last-child)::after {content: \"\\00b7\"; padding: 0 .5ex}\n",
       "</style>\n",
       "<ol class=list-inline><li>5260</li><li>5470</li><li>5640</li><li>6180</li><li>6390</li><li>6515</li><li>6805</li><li>7515</li><li>7515</li><li>8230</li><li>8770</li></ol>\n",
       "</li>\n",
       "\t<li><style>\n",
       ".list-inline {list-style: none; margin:0; padding: 0}\n",
       ".list-inline>li {display: inline-block}\n",
       ".list-inline>li:not(:last-child)::after {content: \"\\00b7\"; padding: 0 .5ex}\n",
       "</style>\n",
       "<ol class=list-inline><li>3910</li><li>4220</li><li>3885</li><li>5160</li><li>5645</li><li>4680</li><li>5265</li><li>5975</li><li>6790</li><li>6900</li><li>7335</li></ol>\n",
       "</li>\n",
       "\t<li>0</li>\n",
       "\t<li>'a'</li>\n",
       "</ol>\n"
      ],
      "text/latex": [
       "\\begin{enumerate}\n",
       "\\item \\begin{enumerate*}\n",
       "\\item 5260\n",
       "\\item 5470\n",
       "\\item 5640\n",
       "\\item 6180\n",
       "\\item 6390\n",
       "\\item 6515\n",
       "\\item 6805\n",
       "\\item 7515\n",
       "\\item 7515\n",
       "\\item 8230\n",
       "\\item 8770\n",
       "\\end{enumerate*}\n",
       "\n",
       "\\item \\begin{enumerate*}\n",
       "\\item 3910\n",
       "\\item 4220\n",
       "\\item 3885\n",
       "\\item 5160\n",
       "\\item 5645\n",
       "\\item 4680\n",
       "\\item 5265\n",
       "\\item 5975\n",
       "\\item 6790\n",
       "\\item 6900\n",
       "\\item 7335\n",
       "\\end{enumerate*}\n",
       "\n",
       "\\item 0\n",
       "\\item 'a'\n",
       "\\end{enumerate}\n"
      ],
      "text/markdown": [
       "1. 1. 5260\n",
       "2. 5470\n",
       "3. 5640\n",
       "4. 6180\n",
       "5. 6390\n",
       "6. 6515\n",
       "7. 6805\n",
       "8. 7515\n",
       "9. 7515\n",
       "10. 8230\n",
       "11. 8770\n",
       "\n",
       "\n",
       "\n",
       "2. 1. 3910\n",
       "2. 4220\n",
       "3. 3885\n",
       "4. 5160\n",
       "5. 5645\n",
       "6. 4680\n",
       "7. 5265\n",
       "8. 5975\n",
       "9. 6790\n",
       "10. 6900\n",
       "11. 7335\n",
       "\n",
       "\n",
       "\n",
       "3. 0\n",
       "4. 'a'\n",
       "\n",
       "\n"
      ],
      "text/plain": [
       "[[1]]\n",
       " [1] 5260 5470 5640 6180 6390 6515 6805 7515 7515 8230 8770\n",
       "\n",
       "[[2]]\n",
       " [1] 3910 4220 3885 5160 5645 4680 5265 5975 6790 6900 7335\n",
       "\n",
       "[[3]]\n",
       "[1] 0\n",
       "\n",
       "[[4]]\n",
       "[1] \"a\"\n"
      ]
     },
     "metadata": {},
     "output_type": "display_data"
    }
   ],
   "source": [
    "mybag <- list(a, b, 0, \"a\")\n",
    "mybag\n"
   ]
  },
  {
   "cell_type": "markdown",
   "id": "b294dfee",
   "metadata": {},
   "source": [
    "#### Adding an element in a list"
   ]
  },
  {
   "cell_type": "code",
   "execution_count": 64,
   "id": "0798d25c",
   "metadata": {},
   "outputs": [
    {
     "data": {
      "text/html": [
       "<ol>\n",
       "\t<li><style>\n",
       ".list-inline {list-style: none; margin:0; padding: 0}\n",
       ".list-inline>li {display: inline-block}\n",
       ".list-inline>li:not(:last-child)::after {content: \"\\00b7\"; padding: 0 .5ex}\n",
       "</style>\n",
       "<ol class=list-inline><li>5260</li><li>5470</li><li>5640</li><li>6180</li><li>6390</li><li>6515</li><li>6805</li><li>7515</li><li>7515</li><li>8230</li><li>8770</li></ol>\n",
       "</li>\n",
       "\t<li><style>\n",
       ".list-inline {list-style: none; margin:0; padding: 0}\n",
       ".list-inline>li {display: inline-block}\n",
       ".list-inline>li:not(:last-child)::after {content: \"\\00b7\"; padding: 0 .5ex}\n",
       "</style>\n",
       "<ol class=list-inline><li>3910</li><li>4220</li><li>3885</li><li>5160</li><li>5645</li><li>4680</li><li>5265</li><li>5975</li><li>6790</li><li>6900</li><li>7335</li></ol>\n",
       "</li>\n",
       "\t<li>0</li>\n",
       "\t<li>'a'</li>\n",
       "\t<li>'b'</li>\n",
       "</ol>\n"
      ],
      "text/latex": [
       "\\begin{enumerate}\n",
       "\\item \\begin{enumerate*}\n",
       "\\item 5260\n",
       "\\item 5470\n",
       "\\item 5640\n",
       "\\item 6180\n",
       "\\item 6390\n",
       "\\item 6515\n",
       "\\item 6805\n",
       "\\item 7515\n",
       "\\item 7515\n",
       "\\item 8230\n",
       "\\item 8770\n",
       "\\end{enumerate*}\n",
       "\n",
       "\\item \\begin{enumerate*}\n",
       "\\item 3910\n",
       "\\item 4220\n",
       "\\item 3885\n",
       "\\item 5160\n",
       "\\item 5645\n",
       "\\item 4680\n",
       "\\item 5265\n",
       "\\item 5975\n",
       "\\item 6790\n",
       "\\item 6900\n",
       "\\item 7335\n",
       "\\end{enumerate*}\n",
       "\n",
       "\\item 0\n",
       "\\item 'a'\n",
       "\\item 'b'\n",
       "\\end{enumerate}\n"
      ],
      "text/markdown": [
       "1. 1. 5260\n",
       "2. 5470\n",
       "3. 5640\n",
       "4. 6180\n",
       "5. 6390\n",
       "6. 6515\n",
       "7. 6805\n",
       "8. 7515\n",
       "9. 7515\n",
       "10. 8230\n",
       "11. 8770\n",
       "\n",
       "\n",
       "\n",
       "2. 1. 3910\n",
       "2. 4220\n",
       "3. 3885\n",
       "4. 5160\n",
       "5. 5645\n",
       "6. 4680\n",
       "7. 5265\n",
       "8. 5975\n",
       "9. 6790\n",
       "10. 6900\n",
       "11. 7335\n",
       "\n",
       "\n",
       "\n",
       "3. 0\n",
       "4. 'a'\n",
       "5. 'b'\n",
       "\n",
       "\n"
      ],
      "text/plain": [
       "[[1]]\n",
       " [1] 5260 5470 5640 6180 6390 6515 6805 7515 7515 8230 8770\n",
       "\n",
       "[[2]]\n",
       " [1] 3910 4220 3885 5160 5645 4680 5265 5975 6790 6900 7335\n",
       "\n",
       "[[3]]\n",
       "[1] 0\n",
       "\n",
       "[[4]]\n",
       "[1] \"a\"\n",
       "\n",
       "[[5]]\n",
       "[1] \"b\"\n"
      ]
     },
     "metadata": {},
     "output_type": "display_data"
    }
   ],
   "source": [
    "n <- length(mybag)\n",
    "mybag[[n+1]] <- \"b\"\n",
    "mybag"
   ]
  },
  {
   "cell_type": "markdown",
   "id": "8a5a3e20",
   "metadata": {},
   "source": [
    "#### Slicing a list"
   ]
  },
  {
   "cell_type": "code",
   "execution_count": 65,
   "id": "5563384b",
   "metadata": {},
   "outputs": [
    {
     "data": {
      "text/html": [
       "<ol>\n",
       "\t<li><style>\n",
       ".list-inline {list-style: none; margin:0; padding: 0}\n",
       ".list-inline>li {display: inline-block}\n",
       ".list-inline>li:not(:last-child)::after {content: \"\\00b7\"; padding: 0 .5ex}\n",
       "</style>\n",
       "<ol class=list-inline><li>5260</li><li>5470</li><li>5640</li><li>6180</li><li>6390</li><li>6515</li><li>6805</li><li>7515</li><li>7515</li><li>8230</li><li>8770</li></ol>\n",
       "</li>\n",
       "</ol>\n"
      ],
      "text/latex": [
       "\\begin{enumerate}\n",
       "\\item \\begin{enumerate*}\n",
       "\\item 5260\n",
       "\\item 5470\n",
       "\\item 5640\n",
       "\\item 6180\n",
       "\\item 6390\n",
       "\\item 6515\n",
       "\\item 6805\n",
       "\\item 7515\n",
       "\\item 7515\n",
       "\\item 8230\n",
       "\\item 8770\n",
       "\\end{enumerate*}\n",
       "\n",
       "\\end{enumerate}\n"
      ],
      "text/markdown": [
       "1. 1. 5260\n",
       "2. 5470\n",
       "3. 5640\n",
       "4. 6180\n",
       "5. 6390\n",
       "6. 6515\n",
       "7. 6805\n",
       "8. 7515\n",
       "9. 7515\n",
       "10. 8230\n",
       "11. 8770\n",
       "\n",
       "\n",
       "\n",
       "\n",
       "\n"
      ],
      "text/plain": [
       "[[1]]\n",
       " [1] 5260 5470 5640 6180 6390 6515 6805 7515 7515 8230 8770\n"
      ]
     },
     "metadata": {},
     "output_type": "display_data"
    },
    {
     "data": {
      "text/html": [
       "TRUE"
      ],
      "text/latex": [
       "TRUE"
      ],
      "text/markdown": [
       "TRUE"
      ],
      "text/plain": [
       "[1] TRUE"
      ]
     },
     "metadata": {},
     "output_type": "display_data"
    }
   ],
   "source": [
    "slice <- mybag[1]\n",
    "slice\n",
    "is.list(slice)"
   ]
  },
  {
   "cell_type": "code",
   "execution_count": 66,
   "id": "c0f66d9b",
   "metadata": {},
   "outputs": [
    {
     "data": {
      "text/html": [
       "<ol>\n",
       "\t<li><style>\n",
       ".list-inline {list-style: none; margin:0; padding: 0}\n",
       ".list-inline>li {display: inline-block}\n",
       ".list-inline>li:not(:last-child)::after {content: \"\\00b7\"; padding: 0 .5ex}\n",
       "</style>\n",
       "<ol class=list-inline><li>5260</li><li>5470</li><li>5640</li><li>6180</li><li>6390</li><li>6515</li><li>6805</li><li>7515</li><li>7515</li><li>8230</li><li>8770</li></ol>\n",
       "</li>\n",
       "\t<li>0</li>\n",
       "</ol>\n"
      ],
      "text/latex": [
       "\\begin{enumerate}\n",
       "\\item \\begin{enumerate*}\n",
       "\\item 5260\n",
       "\\item 5470\n",
       "\\item 5640\n",
       "\\item 6180\n",
       "\\item 6390\n",
       "\\item 6515\n",
       "\\item 6805\n",
       "\\item 7515\n",
       "\\item 7515\n",
       "\\item 8230\n",
       "\\item 8770\n",
       "\\end{enumerate*}\n",
       "\n",
       "\\item 0\n",
       "\\end{enumerate}\n"
      ],
      "text/markdown": [
       "1. 1. 5260\n",
       "2. 5470\n",
       "3. 5640\n",
       "4. 6180\n",
       "5. 6390\n",
       "6. 6515\n",
       "7. 6805\n",
       "8. 7515\n",
       "9. 7515\n",
       "10. 8230\n",
       "11. 8770\n",
       "\n",
       "\n",
       "\n",
       "2. 0\n",
       "\n",
       "\n"
      ],
      "text/plain": [
       "[[1]]\n",
       " [1] 5260 5470 5640 6180 6390 6515 6805 7515 7515 8230 8770\n",
       "\n",
       "[[2]]\n",
       "[1] 0\n"
      ]
     },
     "metadata": {},
     "output_type": "display_data"
    },
    {
     "data": {
      "text/html": [
       "TRUE"
      ],
      "text/latex": [
       "TRUE"
      ],
      "text/markdown": [
       "TRUE"
      ],
      "text/plain": [
       "[1] TRUE"
      ]
     },
     "metadata": {},
     "output_type": "display_data"
    }
   ],
   "source": [
    "slice <- mybag[c(1,3)]\n",
    "slice\n",
    "is.list(slice)"
   ]
  },
  {
   "cell_type": "code",
   "execution_count": 67,
   "id": "6ea5ffb5",
   "metadata": {},
   "outputs": [
    {
     "data": {
      "text/html": [
       "TRUE"
      ],
      "text/latex": [
       "TRUE"
      ],
      "text/markdown": [
       "TRUE"
      ],
      "text/plain": [
       "[1] TRUE"
      ]
     },
     "metadata": {},
     "output_type": "display_data"
    }
   ],
   "source": [
    "#list is also a vector\n",
    "is.vector(slice)\n"
   ]
  },
  {
   "cell_type": "markdown",
   "id": "ec249d27",
   "metadata": {},
   "source": [
    "#### Extracting an element from a list"
   ]
  },
  {
   "cell_type": "code",
   "execution_count": 68,
   "id": "933e09fc",
   "metadata": {},
   "outputs": [
    {
     "data": {
      "text/html": [
       "<style>\n",
       ".list-inline {list-style: none; margin:0; padding: 0}\n",
       ".list-inline>li {display: inline-block}\n",
       ".list-inline>li:not(:last-child)::after {content: \"\\00b7\"; padding: 0 .5ex}\n",
       "</style>\n",
       "<ol class=list-inline><li>5260</li><li>5470</li><li>5640</li><li>6180</li><li>6390</li><li>6515</li><li>6805</li><li>7515</li><li>7515</li><li>8230</li><li>8770</li></ol>\n"
      ],
      "text/latex": [
       "\\begin{enumerate*}\n",
       "\\item 5260\n",
       "\\item 5470\n",
       "\\item 5640\n",
       "\\item 6180\n",
       "\\item 6390\n",
       "\\item 6515\n",
       "\\item 6805\n",
       "\\item 7515\n",
       "\\item 7515\n",
       "\\item 8230\n",
       "\\item 8770\n",
       "\\end{enumerate*}\n"
      ],
      "text/markdown": [
       "1. 5260\n",
       "2. 5470\n",
       "3. 5640\n",
       "4. 6180\n",
       "5. 6390\n",
       "6. 6515\n",
       "7. 6805\n",
       "8. 7515\n",
       "9. 7515\n",
       "10. 8230\n",
       "11. 8770\n",
       "\n",
       "\n"
      ],
      "text/plain": [
       " [1] 5260 5470 5640 6180 6390 6515 6805 7515 7515 8230 8770"
      ]
     },
     "metadata": {},
     "output_type": "display_data"
    }
   ],
   "source": [
    "\n",
    "h <- mybag[[1]]\n",
    "h"
   ]
  },
  {
   "cell_type": "code",
   "execution_count": 69,
   "id": "011f4009",
   "metadata": {},
   "outputs": [
    {
     "data": {
      "text/html": [
       "TRUE"
      ],
      "text/latex": [
       "TRUE"
      ],
      "text/markdown": [
       "TRUE"
      ],
      "text/plain": [
       "[1] TRUE"
      ]
     },
     "metadata": {},
     "output_type": "display_data"
    },
    {
     "data": {
      "text/html": [
       "FALSE"
      ],
      "text/latex": [
       "FALSE"
      ],
      "text/markdown": [
       "FALSE"
      ],
      "text/plain": [
       "[1] FALSE"
      ]
     },
     "metadata": {},
     "output_type": "display_data"
    }
   ],
   "source": [
    "is.vector(h)\n",
    "is.list(h)"
   ]
  },
  {
   "cell_type": "markdown",
   "id": "af61dbb9",
   "metadata": {},
   "source": [
    "#### Adding, accessing, and removing elements"
   ]
  },
  {
   "cell_type": "code",
   "execution_count": 70,
   "id": "f49bc2ea",
   "metadata": {},
   "outputs": [
    {
     "data": {
      "text/html": [
       "<dl>\n",
       "\t<dt>$x</dt>\n",
       "\t\t<dd><style>\n",
       ".list-inline {list-style: none; margin:0; padding: 0}\n",
       ".list-inline>li {display: inline-block}\n",
       ".list-inline>li:not(:last-child)::after {content: \"\\00b7\"; padding: 0 .5ex}\n",
       "</style>\n",
       "<ol class=list-inline><li>5260</li><li>5470</li><li>5640</li><li>6180</li><li>6390</li><li>6515</li><li>6805</li><li>7515</li><li>7515</li><li>8230</li><li>8770</li></ol>\n",
       "</dd>\n",
       "\t<dt>$y</dt>\n",
       "\t\t<dd><style>\n",
       ".list-inline {list-style: none; margin:0; padding: 0}\n",
       ".list-inline>li {display: inline-block}\n",
       ".list-inline>li:not(:last-child)::after {content: \"\\00b7\"; padding: 0 .5ex}\n",
       "</style>\n",
       "<ol class=list-inline><li>3910</li><li>4220</li><li>3885</li><li>5160</li><li>5645</li><li>4680</li><li>5265</li><li>5975</li><li>6790</li><li>6900</li><li>7335</li></ol>\n",
       "</dd>\n",
       "\t<dt>$const</dt>\n",
       "\t\t<dd>0</dd>\n",
       "\t<dt>$lit</dt>\n",
       "\t\t<dd>'a'</dd>\n",
       "</dl>\n"
      ],
      "text/latex": [
       "\\begin{description}\n",
       "\\item[\\$x] \\begin{enumerate*}\n",
       "\\item 5260\n",
       "\\item 5470\n",
       "\\item 5640\n",
       "\\item 6180\n",
       "\\item 6390\n",
       "\\item 6515\n",
       "\\item 6805\n",
       "\\item 7515\n",
       "\\item 7515\n",
       "\\item 8230\n",
       "\\item 8770\n",
       "\\end{enumerate*}\n",
       "\n",
       "\\item[\\$y] \\begin{enumerate*}\n",
       "\\item 3910\n",
       "\\item 4220\n",
       "\\item 3885\n",
       "\\item 5160\n",
       "\\item 5645\n",
       "\\item 4680\n",
       "\\item 5265\n",
       "\\item 5975\n",
       "\\item 6790\n",
       "\\item 6900\n",
       "\\item 7335\n",
       "\\end{enumerate*}\n",
       "\n",
       "\\item[\\$const] 0\n",
       "\\item[\\$lit] 'a'\n",
       "\\end{description}\n"
      ],
      "text/markdown": [
       "$x\n",
       ":   1. 5260\n",
       "2. 5470\n",
       "3. 5640\n",
       "4. 6180\n",
       "5. 6390\n",
       "6. 6515\n",
       "7. 6805\n",
       "8. 7515\n",
       "9. 7515\n",
       "10. 8230\n",
       "11. 8770\n",
       "\n",
       "\n",
       "\n",
       "$y\n",
       ":   1. 3910\n",
       "2. 4220\n",
       "3. 3885\n",
       "4. 5160\n",
       "5. 5645\n",
       "6. 4680\n",
       "7. 5265\n",
       "8. 5975\n",
       "9. 6790\n",
       "10. 6900\n",
       "11. 7335\n",
       "\n",
       "\n",
       "\n",
       "$const\n",
       ":   0\n",
       "$lit\n",
       ":   'a'\n",
       "\n",
       "\n"
      ],
      "text/plain": [
       "$x\n",
       " [1] 5260 5470 5640 6180 6390 6515 6805 7515 7515 8230 8770\n",
       "\n",
       "$y\n",
       " [1] 3910 4220 3885 5160 5645 4680 5265 5975 6790 6900 7335\n",
       "\n",
       "$const\n",
       "[1] 0\n",
       "\n",
       "$lit\n",
       "[1] \"a\"\n"
      ]
     },
     "metadata": {},
     "output_type": "display_data"
    }
   ],
   "source": [
    "mybag <- list(x=a, y=b, const=0, lit=\"a\")\n",
    "mybag"
   ]
  },
  {
   "cell_type": "code",
   "execution_count": 71,
   "id": "90d10f7b",
   "metadata": {},
   "outputs": [
    {
     "data": {
      "text/html": [
       "<dl>\n",
       "\t<dt>$x</dt>\n",
       "\t\t<dd><style>\n",
       ".list-inline {list-style: none; margin:0; padding: 0}\n",
       ".list-inline>li {display: inline-block}\n",
       ".list-inline>li:not(:last-child)::after {content: \"\\00b7\"; padding: 0 .5ex}\n",
       "</style>\n",
       "<ol class=list-inline><li>5260</li><li>5470</li><li>5640</li><li>6180</li><li>6390</li><li>6515</li><li>6805</li><li>7515</li><li>7515</li><li>8230</li><li>8770</li></ol>\n",
       "</dd>\n",
       "\t<dt>$y</dt>\n",
       "\t\t<dd><style>\n",
       ".list-inline {list-style: none; margin:0; padding: 0}\n",
       ".list-inline>li {display: inline-block}\n",
       ".list-inline>li:not(:last-child)::after {content: \"\\00b7\"; padding: 0 .5ex}\n",
       "</style>\n",
       "<ol class=list-inline><li>3910</li><li>4220</li><li>3885</li><li>5160</li><li>5645</li><li>4680</li><li>5265</li><li>5975</li><li>6790</li><li>6900</li><li>7335</li></ol>\n",
       "</dd>\n",
       "\t<dt>$c</dt>\n",
       "\t\t<dd><style>\n",
       ".list-inline {list-style: none; margin:0; padding: 0}\n",
       ".list-inline>li {display: inline-block}\n",
       ".list-inline>li:not(:last-child)::after {content: \"\\00b7\"; padding: 0 .5ex}\n",
       "</style>\n",
       "<ol class=list-inline><li>1350</li><li>1250</li><li>1755</li><li>1020</li><li>745</li><li>1835</li><li>1540</li><li>1540</li><li>725</li><li>1330</li><li>1435</li></ol>\n",
       "</dd>\n",
       "</dl>\n"
      ],
      "text/latex": [
       "\\begin{description}\n",
       "\\item[\\$x] \\begin{enumerate*}\n",
       "\\item 5260\n",
       "\\item 5470\n",
       "\\item 5640\n",
       "\\item 6180\n",
       "\\item 6390\n",
       "\\item 6515\n",
       "\\item 6805\n",
       "\\item 7515\n",
       "\\item 7515\n",
       "\\item 8230\n",
       "\\item 8770\n",
       "\\end{enumerate*}\n",
       "\n",
       "\\item[\\$y] \\begin{enumerate*}\n",
       "\\item 3910\n",
       "\\item 4220\n",
       "\\item 3885\n",
       "\\item 5160\n",
       "\\item 5645\n",
       "\\item 4680\n",
       "\\item 5265\n",
       "\\item 5975\n",
       "\\item 6790\n",
       "\\item 6900\n",
       "\\item 7335\n",
       "\\end{enumerate*}\n",
       "\n",
       "\\item[\\$c] \\begin{enumerate*}\n",
       "\\item 1350\n",
       "\\item 1250\n",
       "\\item 1755\n",
       "\\item 1020\n",
       "\\item 745\n",
       "\\item 1835\n",
       "\\item 1540\n",
       "\\item 1540\n",
       "\\item 725\n",
       "\\item 1330\n",
       "\\item 1435\n",
       "\\end{enumerate*}\n",
       "\n",
       "\\end{description}\n"
      ],
      "text/markdown": [
       "$x\n",
       ":   1. 5260\n",
       "2. 5470\n",
       "3. 5640\n",
       "4. 6180\n",
       "5. 6390\n",
       "6. 6515\n",
       "7. 6805\n",
       "8. 7515\n",
       "9. 7515\n",
       "10. 8230\n",
       "11. 8770\n",
       "\n",
       "\n",
       "\n",
       "$y\n",
       ":   1. 3910\n",
       "2. 4220\n",
       "3. 3885\n",
       "4. 5160\n",
       "5. 5645\n",
       "6. 4680\n",
       "7. 5265\n",
       "8. 5975\n",
       "9. 6790\n",
       "10. 6900\n",
       "11. 7335\n",
       "\n",
       "\n",
       "\n",
       "$c\n",
       ":   1. 1350\n",
       "2. 1250\n",
       "3. 1755\n",
       "4. 1020\n",
       "5. 745\n",
       "6. 1835\n",
       "7. 1540\n",
       "8. 1540\n",
       "9. 725\n",
       "10. 1330\n",
       "11. 1435\n",
       "\n",
       "\n",
       "\n",
       "\n",
       "\n"
      ],
      "text/plain": [
       "$x\n",
       " [1] 5260 5470 5640 6180 6390 6515 6805 7515 7515 8230 8770\n",
       "\n",
       "$y\n",
       " [1] 3910 4220 3885 5160 5645 4680 5265 5975 6790 6900 7335\n",
       "\n",
       "$c\n",
       " [1] 1350 1250 1755 1020  745 1835 1540 1540  725 1330 1435\n"
      ]
     },
     "metadata": {},
     "output_type": "display_data"
    }
   ],
   "source": [
    "mybag$c <- mybag$x - mybag$y\n",
    "mybag[[4]] <- NULL\n",
    "mybag$const <- NULL\n",
    "mybag"
   ]
  },
  {
   "cell_type": "markdown",
   "id": "cd07951f",
   "metadata": {},
   "source": [
    "### Part #3"
   ]
  },
  {
   "cell_type": "code",
   "execution_count": 72,
   "id": "c5ac1c06",
   "metadata": {},
   "outputs": [],
   "source": [
    "a <- c(5260,5470,5640,6180,6390,6515,6805,7515,7515,8230,8770)\n",
    "b <- c(3910,4220,3885,5160,5645,4680,5265,5975,6790,6900,7335)"
   ]
  },
  {
   "cell_type": "code",
   "execution_count": 73,
   "id": "7f8a760e",
   "metadata": {},
   "outputs": [
    {
     "data": {
      "text/html": [
       "<table class=\"dataframe\">\n",
       "<caption>A data.frame: 6 × 2</caption>\n",
       "<thead>\n",
       "\t<tr><th></th><th scope=col>A</th><th scope=col>B</th></tr>\n",
       "\t<tr><th></th><th scope=col>&lt;dbl&gt;</th><th scope=col>&lt;dbl&gt;</th></tr>\n",
       "</thead>\n",
       "<tbody>\n",
       "\t<tr><th scope=row>1</th><td>5260</td><td>3910</td></tr>\n",
       "\t<tr><th scope=row>2</th><td>5470</td><td>4220</td></tr>\n",
       "\t<tr><th scope=row>3</th><td>5640</td><td>3885</td></tr>\n",
       "\t<tr><th scope=row>4</th><td>6180</td><td>5160</td></tr>\n",
       "\t<tr><th scope=row>5</th><td>6390</td><td>5645</td></tr>\n",
       "\t<tr><th scope=row>6</th><td>6515</td><td>4680</td></tr>\n",
       "</tbody>\n",
       "</table>\n"
      ],
      "text/latex": [
       "A data.frame: 6 × 2\n",
       "\\begin{tabular}{r|ll}\n",
       "  & A & B\\\\\n",
       "  & <dbl> & <dbl>\\\\\n",
       "\\hline\n",
       "\t1 & 5260 & 3910\\\\\n",
       "\t2 & 5470 & 4220\\\\\n",
       "\t3 & 5640 & 3885\\\\\n",
       "\t4 & 6180 & 5160\\\\\n",
       "\t5 & 6390 & 5645\\\\\n",
       "\t6 & 6515 & 4680\\\\\n",
       "\\end{tabular}\n"
      ],
      "text/markdown": [
       "\n",
       "A data.frame: 6 × 2\n",
       "\n",
       "| <!--/--> | A &lt;dbl&gt; | B &lt;dbl&gt; |\n",
       "|---|---|---|\n",
       "| 1 | 5260 | 3910 |\n",
       "| 2 | 5470 | 4220 |\n",
       "| 3 | 5640 | 3885 |\n",
       "| 4 | 6180 | 5160 |\n",
       "| 5 | 6390 | 5645 |\n",
       "| 6 | 6515 | 4680 |\n",
       "\n"
      ],
      "text/plain": [
       "  A    B   \n",
       "1 5260 3910\n",
       "2 5470 4220\n",
       "3 5640 3885\n",
       "4 6180 5160\n",
       "5 6390 5645\n",
       "6 6515 4680"
      ]
     },
     "metadata": {},
     "output_type": "display_data"
    }
   ],
   "source": [
    "d <- data.frame(A=a, B=b)\n",
    "head(d)"
   ]
  },
  {
   "cell_type": "code",
   "execution_count": 74,
   "id": "0022326a",
   "metadata": {},
   "outputs": [
    {
     "data": {
      "text/html": [
       "<table class=\"dataframe\">\n",
       "<caption>A data.frame: 6 × 3</caption>\n",
       "<thead>\n",
       "\t<tr><th></th><th scope=col>A</th><th scope=col>B</th><th scope=col>C</th></tr>\n",
       "\t<tr><th></th><th scope=col>&lt;dbl&gt;</th><th scope=col>&lt;dbl&gt;</th><th scope=col>&lt;dbl&gt;</th></tr>\n",
       "</thead>\n",
       "<tbody>\n",
       "\t<tr><th scope=row>1</th><td>5260</td><td>3910</td><td> 9170</td></tr>\n",
       "\t<tr><th scope=row>2</th><td>5470</td><td>4220</td><td> 9690</td></tr>\n",
       "\t<tr><th scope=row>3</th><td>5640</td><td>3885</td><td> 9525</td></tr>\n",
       "\t<tr><th scope=row>4</th><td>6180</td><td>5160</td><td>11340</td></tr>\n",
       "\t<tr><th scope=row>5</th><td>6390</td><td>5645</td><td>12035</td></tr>\n",
       "\t<tr><th scope=row>6</th><td>6515</td><td>4680</td><td>11195</td></tr>\n",
       "</tbody>\n",
       "</table>\n"
      ],
      "text/latex": [
       "A data.frame: 6 × 3\n",
       "\\begin{tabular}{r|lll}\n",
       "  & A & B & C\\\\\n",
       "  & <dbl> & <dbl> & <dbl>\\\\\n",
       "\\hline\n",
       "\t1 & 5260 & 3910 &  9170\\\\\n",
       "\t2 & 5470 & 4220 &  9690\\\\\n",
       "\t3 & 5640 & 3885 &  9525\\\\\n",
       "\t4 & 6180 & 5160 & 11340\\\\\n",
       "\t5 & 6390 & 5645 & 12035\\\\\n",
       "\t6 & 6515 & 4680 & 11195\\\\\n",
       "\\end{tabular}\n"
      ],
      "text/markdown": [
       "\n",
       "A data.frame: 6 × 3\n",
       "\n",
       "| <!--/--> | A &lt;dbl&gt; | B &lt;dbl&gt; | C &lt;dbl&gt; |\n",
       "|---|---|---|---|\n",
       "| 1 | 5260 | 3910 |  9170 |\n",
       "| 2 | 5470 | 4220 |  9690 |\n",
       "| 3 | 5640 | 3885 |  9525 |\n",
       "| 4 | 6180 | 5160 | 11340 |\n",
       "| 5 | 6390 | 5645 | 12035 |\n",
       "| 6 | 6515 | 4680 | 11195 |\n",
       "\n"
      ],
      "text/plain": [
       "  A    B    C    \n",
       "1 5260 3910  9170\n",
       "2 5470 4220  9690\n",
       "3 5640 3885  9525\n",
       "4 6180 5160 11340\n",
       "5 6390 5645 12035\n",
       "6 6515 4680 11195"
      ]
     },
     "metadata": {},
     "output_type": "display_data"
    }
   ],
   "source": [
    "d$C <- d$A + d$B\n",
    "head(d)"
   ]
  },
  {
   "cell_type": "code",
   "execution_count": 75,
   "id": "98204539",
   "metadata": {},
   "outputs": [
    {
     "data": {
      "text/html": [
       "<table class=\"dataframe\">\n",
       "<caption>A data.frame: 6 × 2</caption>\n",
       "<thead>\n",
       "\t<tr><th></th><th scope=col>B</th><th scope=col>C</th></tr>\n",
       "\t<tr><th></th><th scope=col>&lt;dbl&gt;</th><th scope=col>&lt;dbl&gt;</th></tr>\n",
       "</thead>\n",
       "<tbody>\n",
       "\t<tr><th scope=row>1</th><td>3910</td><td> 9170</td></tr>\n",
       "\t<tr><th scope=row>2</th><td>4220</td><td> 9690</td></tr>\n",
       "\t<tr><th scope=row>3</th><td>3885</td><td> 9525</td></tr>\n",
       "\t<tr><th scope=row>4</th><td>5160</td><td>11340</td></tr>\n",
       "\t<tr><th scope=row>5</th><td>5645</td><td>12035</td></tr>\n",
       "\t<tr><th scope=row>6</th><td>4680</td><td>11195</td></tr>\n",
       "</tbody>\n",
       "</table>\n"
      ],
      "text/latex": [
       "A data.frame: 6 × 2\n",
       "\\begin{tabular}{r|ll}\n",
       "  & B & C\\\\\n",
       "  & <dbl> & <dbl>\\\\\n",
       "\\hline\n",
       "\t1 & 3910 &  9170\\\\\n",
       "\t2 & 4220 &  9690\\\\\n",
       "\t3 & 3885 &  9525\\\\\n",
       "\t4 & 5160 & 11340\\\\\n",
       "\t5 & 5645 & 12035\\\\\n",
       "\t6 & 4680 & 11195\\\\\n",
       "\\end{tabular}\n"
      ],
      "text/markdown": [
       "\n",
       "A data.frame: 6 × 2\n",
       "\n",
       "| <!--/--> | B &lt;dbl&gt; | C &lt;dbl&gt; |\n",
       "|---|---|---|\n",
       "| 1 | 3910 |  9170 |\n",
       "| 2 | 4220 |  9690 |\n",
       "| 3 | 3885 |  9525 |\n",
       "| 4 | 5160 | 11340 |\n",
       "| 5 | 5645 | 12035 |\n",
       "| 6 | 4680 | 11195 |\n",
       "\n"
      ],
      "text/plain": [
       "  B    C    \n",
       "1 3910  9170\n",
       "2 4220  9690\n",
       "3 3885  9525\n",
       "4 5160 11340\n",
       "5 5645 12035\n",
       "6 4680 11195"
      ]
     },
     "metadata": {},
     "output_type": "display_data"
    }
   ],
   "source": [
    "d$A <- NULL\n",
    "head(d)"
   ]
  },
  {
   "cell_type": "code",
   "execution_count": 76,
   "id": "a4de7de1",
   "metadata": {},
   "outputs": [
    {
     "data": {
      "text/html": [
       "<table class=\"dataframe\">\n",
       "<caption>A data.frame: 6 × 14</caption>\n",
       "<thead>\n",
       "\t<tr><th></th><th scope=col>X1</th><th scope=col>X14.23</th><th scope=col>X1.71</th><th scope=col>X2.43</th><th scope=col>X15.6</th><th scope=col>X127</th><th scope=col>X2.8</th><th scope=col>X3.06</th><th scope=col>X.28</th><th scope=col>X2.29</th><th scope=col>X5.64</th><th scope=col>X1.04</th><th scope=col>X3.92</th><th scope=col>X1065</th></tr>\n",
       "\t<tr><th></th><th scope=col>&lt;int&gt;</th><th scope=col>&lt;dbl&gt;</th><th scope=col>&lt;dbl&gt;</th><th scope=col>&lt;dbl&gt;</th><th scope=col>&lt;dbl&gt;</th><th scope=col>&lt;int&gt;</th><th scope=col>&lt;dbl&gt;</th><th scope=col>&lt;dbl&gt;</th><th scope=col>&lt;dbl&gt;</th><th scope=col>&lt;dbl&gt;</th><th scope=col>&lt;dbl&gt;</th><th scope=col>&lt;dbl&gt;</th><th scope=col>&lt;dbl&gt;</th><th scope=col>&lt;int&gt;</th></tr>\n",
       "</thead>\n",
       "<tbody>\n",
       "\t<tr><th scope=row>1</th><td>1</td><td>13.20</td><td>1.78</td><td>2.14</td><td>11.2</td><td>100</td><td>2.65</td><td>2.76</td><td>0.26</td><td>1.28</td><td>4.38</td><td>1.05</td><td>3.40</td><td>1050</td></tr>\n",
       "\t<tr><th scope=row>2</th><td>1</td><td>13.16</td><td>2.36</td><td>2.67</td><td>18.6</td><td>101</td><td>2.80</td><td>3.24</td><td>0.30</td><td>2.81</td><td>5.68</td><td>1.03</td><td>3.17</td><td>1185</td></tr>\n",
       "\t<tr><th scope=row>3</th><td>1</td><td>14.37</td><td>1.95</td><td>2.50</td><td>16.8</td><td>113</td><td>3.85</td><td>3.49</td><td>0.24</td><td>2.18</td><td>7.80</td><td>0.86</td><td>3.45</td><td>1480</td></tr>\n",
       "\t<tr><th scope=row>4</th><td>1</td><td>13.24</td><td>2.59</td><td>2.87</td><td>21.0</td><td>118</td><td>2.80</td><td>2.69</td><td>0.39</td><td>1.82</td><td>4.32</td><td>1.04</td><td>2.93</td><td> 735</td></tr>\n",
       "\t<tr><th scope=row>5</th><td>1</td><td>14.20</td><td>1.76</td><td>2.45</td><td>15.2</td><td>112</td><td>3.27</td><td>3.39</td><td>0.34</td><td>1.97</td><td>6.75</td><td>1.05</td><td>2.85</td><td>1450</td></tr>\n",
       "\t<tr><th scope=row>6</th><td>1</td><td>14.39</td><td>1.87</td><td>2.45</td><td>14.6</td><td> 96</td><td>2.50</td><td>2.52</td><td>0.30</td><td>1.98</td><td>5.25</td><td>1.02</td><td>3.58</td><td>1290</td></tr>\n",
       "</tbody>\n",
       "</table>\n"
      ],
      "text/latex": [
       "A data.frame: 6 × 14\n",
       "\\begin{tabular}{r|llllllllllllll}\n",
       "  & X1 & X14.23 & X1.71 & X2.43 & X15.6 & X127 & X2.8 & X3.06 & X.28 & X2.29 & X5.64 & X1.04 & X3.92 & X1065\\\\\n",
       "  & <int> & <dbl> & <dbl> & <dbl> & <dbl> & <int> & <dbl> & <dbl> & <dbl> & <dbl> & <dbl> & <dbl> & <dbl> & <int>\\\\\n",
       "\\hline\n",
       "\t1 & 1 & 13.20 & 1.78 & 2.14 & 11.2 & 100 & 2.65 & 2.76 & 0.26 & 1.28 & 4.38 & 1.05 & 3.40 & 1050\\\\\n",
       "\t2 & 1 & 13.16 & 2.36 & 2.67 & 18.6 & 101 & 2.80 & 3.24 & 0.30 & 2.81 & 5.68 & 1.03 & 3.17 & 1185\\\\\n",
       "\t3 & 1 & 14.37 & 1.95 & 2.50 & 16.8 & 113 & 3.85 & 3.49 & 0.24 & 2.18 & 7.80 & 0.86 & 3.45 & 1480\\\\\n",
       "\t4 & 1 & 13.24 & 2.59 & 2.87 & 21.0 & 118 & 2.80 & 2.69 & 0.39 & 1.82 & 4.32 & 1.04 & 2.93 &  735\\\\\n",
       "\t5 & 1 & 14.20 & 1.76 & 2.45 & 15.2 & 112 & 3.27 & 3.39 & 0.34 & 1.97 & 6.75 & 1.05 & 2.85 & 1450\\\\\n",
       "\t6 & 1 & 14.39 & 1.87 & 2.45 & 14.6 &  96 & 2.50 & 2.52 & 0.30 & 1.98 & 5.25 & 1.02 & 3.58 & 1290\\\\\n",
       "\\end{tabular}\n"
      ],
      "text/markdown": [
       "\n",
       "A data.frame: 6 × 14\n",
       "\n",
       "| <!--/--> | X1 &lt;int&gt; | X14.23 &lt;dbl&gt; | X1.71 &lt;dbl&gt; | X2.43 &lt;dbl&gt; | X15.6 &lt;dbl&gt; | X127 &lt;int&gt; | X2.8 &lt;dbl&gt; | X3.06 &lt;dbl&gt; | X.28 &lt;dbl&gt; | X2.29 &lt;dbl&gt; | X5.64 &lt;dbl&gt; | X1.04 &lt;dbl&gt; | X3.92 &lt;dbl&gt; | X1065 &lt;int&gt; |\n",
       "|---|---|---|---|---|---|---|---|---|---|---|---|---|---|---|\n",
       "| 1 | 1 | 13.20 | 1.78 | 2.14 | 11.2 | 100 | 2.65 | 2.76 | 0.26 | 1.28 | 4.38 | 1.05 | 3.40 | 1050 |\n",
       "| 2 | 1 | 13.16 | 2.36 | 2.67 | 18.6 | 101 | 2.80 | 3.24 | 0.30 | 2.81 | 5.68 | 1.03 | 3.17 | 1185 |\n",
       "| 3 | 1 | 14.37 | 1.95 | 2.50 | 16.8 | 113 | 3.85 | 3.49 | 0.24 | 2.18 | 7.80 | 0.86 | 3.45 | 1480 |\n",
       "| 4 | 1 | 13.24 | 2.59 | 2.87 | 21.0 | 118 | 2.80 | 2.69 | 0.39 | 1.82 | 4.32 | 1.04 | 2.93 |  735 |\n",
       "| 5 | 1 | 14.20 | 1.76 | 2.45 | 15.2 | 112 | 3.27 | 3.39 | 0.34 | 1.97 | 6.75 | 1.05 | 2.85 | 1450 |\n",
       "| 6 | 1 | 14.39 | 1.87 | 2.45 | 14.6 |  96 | 2.50 | 2.52 | 0.30 | 1.98 | 5.25 | 1.02 | 3.58 | 1290 |\n",
       "\n"
      ],
      "text/plain": [
       "  X1 X14.23 X1.71 X2.43 X15.6 X127 X2.8 X3.06 X.28 X2.29 X5.64 X1.04 X3.92\n",
       "1 1  13.20  1.78  2.14  11.2  100  2.65 2.76  0.26 1.28  4.38  1.05  3.40 \n",
       "2 1  13.16  2.36  2.67  18.6  101  2.80 3.24  0.30 2.81  5.68  1.03  3.17 \n",
       "3 1  14.37  1.95  2.50  16.8  113  3.85 3.49  0.24 2.18  7.80  0.86  3.45 \n",
       "4 1  13.24  2.59  2.87  21.0  118  2.80 2.69  0.39 1.82  4.32  1.04  2.93 \n",
       "5 1  14.20  1.76  2.45  15.2  112  3.27 3.39  0.34 1.97  6.75  1.05  2.85 \n",
       "6 1  14.39  1.87  2.45  14.6   96  2.50 2.52  0.30 1.98  5.25  1.02  3.58 \n",
       "  X1065\n",
       "1 1050 \n",
       "2 1185 \n",
       "3 1480 \n",
       "4  735 \n",
       "5 1450 \n",
       "6 1290 "
      ]
     },
     "metadata": {},
     "output_type": "display_data"
    }
   ],
   "source": [
    "wine = read.table(\n",
    "  \"http://archive.ics.uci.edu/ml/machine-learning-databases/wine/wine.data\", \n",
    "  header = TRUE, sep = \",\")\n",
    "head(wine)"
   ]
  },
  {
   "cell_type": "markdown",
   "id": "04982498",
   "metadata": {},
   "source": [
    "#### Saving RData file"
   ]
  },
  {
   "cell_type": "code",
   "execution_count": 77,
   "id": "32bcaaf6",
   "metadata": {},
   "outputs": [],
   "source": [
    "# in Linux the default is not to compress\n",
    "save(wine, file=\"wine.RData\", compress=TRUE)"
   ]
  },
  {
   "cell_type": "code",
   "execution_count": 78,
   "id": "27620e9d",
   "metadata": {},
   "outputs": [],
   "source": [
    "rm(wine)"
   ]
  },
  {
   "cell_type": "markdown",
   "id": "4eb4e2c3",
   "metadata": {},
   "source": [
    "#### Load RData file"
   ]
  },
  {
   "cell_type": "code",
   "execution_count": 79,
   "id": "751207ba",
   "metadata": {},
   "outputs": [
    {
     "data": {
      "text/html": [
       "<table class=\"dataframe\">\n",
       "<caption>A data.frame: 3 × 14</caption>\n",
       "<thead>\n",
       "\t<tr><th></th><th scope=col>X1</th><th scope=col>X14.23</th><th scope=col>X1.71</th><th scope=col>X2.43</th><th scope=col>X15.6</th><th scope=col>X127</th><th scope=col>X2.8</th><th scope=col>X3.06</th><th scope=col>X.28</th><th scope=col>X2.29</th><th scope=col>X5.64</th><th scope=col>X1.04</th><th scope=col>X3.92</th><th scope=col>X1065</th></tr>\n",
       "\t<tr><th></th><th scope=col>&lt;int&gt;</th><th scope=col>&lt;dbl&gt;</th><th scope=col>&lt;dbl&gt;</th><th scope=col>&lt;dbl&gt;</th><th scope=col>&lt;dbl&gt;</th><th scope=col>&lt;int&gt;</th><th scope=col>&lt;dbl&gt;</th><th scope=col>&lt;dbl&gt;</th><th scope=col>&lt;dbl&gt;</th><th scope=col>&lt;dbl&gt;</th><th scope=col>&lt;dbl&gt;</th><th scope=col>&lt;dbl&gt;</th><th scope=col>&lt;dbl&gt;</th><th scope=col>&lt;int&gt;</th></tr>\n",
       "</thead>\n",
       "<tbody>\n",
       "\t<tr><th scope=row>1</th><td>1</td><td>13.20</td><td>1.78</td><td>2.14</td><td>11.2</td><td>100</td><td>2.65</td><td>2.76</td><td>0.26</td><td>1.28</td><td>4.38</td><td>1.05</td><td>3.40</td><td>1050</td></tr>\n",
       "\t<tr><th scope=row>2</th><td>1</td><td>13.16</td><td>2.36</td><td>2.67</td><td>18.6</td><td>101</td><td>2.80</td><td>3.24</td><td>0.30</td><td>2.81</td><td>5.68</td><td>1.03</td><td>3.17</td><td>1185</td></tr>\n",
       "\t<tr><th scope=row>3</th><td>1</td><td>14.37</td><td>1.95</td><td>2.50</td><td>16.8</td><td>113</td><td>3.85</td><td>3.49</td><td>0.24</td><td>2.18</td><td>7.80</td><td>0.86</td><td>3.45</td><td>1480</td></tr>\n",
       "</tbody>\n",
       "</table>\n"
      ],
      "text/latex": [
       "A data.frame: 3 × 14\n",
       "\\begin{tabular}{r|llllllllllllll}\n",
       "  & X1 & X14.23 & X1.71 & X2.43 & X15.6 & X127 & X2.8 & X3.06 & X.28 & X2.29 & X5.64 & X1.04 & X3.92 & X1065\\\\\n",
       "  & <int> & <dbl> & <dbl> & <dbl> & <dbl> & <int> & <dbl> & <dbl> & <dbl> & <dbl> & <dbl> & <dbl> & <dbl> & <int>\\\\\n",
       "\\hline\n",
       "\t1 & 1 & 13.20 & 1.78 & 2.14 & 11.2 & 100 & 2.65 & 2.76 & 0.26 & 1.28 & 4.38 & 1.05 & 3.40 & 1050\\\\\n",
       "\t2 & 1 & 13.16 & 2.36 & 2.67 & 18.6 & 101 & 2.80 & 3.24 & 0.30 & 2.81 & 5.68 & 1.03 & 3.17 & 1185\\\\\n",
       "\t3 & 1 & 14.37 & 1.95 & 2.50 & 16.8 & 113 & 3.85 & 3.49 & 0.24 & 2.18 & 7.80 & 0.86 & 3.45 & 1480\\\\\n",
       "\\end{tabular}\n"
      ],
      "text/markdown": [
       "\n",
       "A data.frame: 3 × 14\n",
       "\n",
       "| <!--/--> | X1 &lt;int&gt; | X14.23 &lt;dbl&gt; | X1.71 &lt;dbl&gt; | X2.43 &lt;dbl&gt; | X15.6 &lt;dbl&gt; | X127 &lt;int&gt; | X2.8 &lt;dbl&gt; | X3.06 &lt;dbl&gt; | X.28 &lt;dbl&gt; | X2.29 &lt;dbl&gt; | X5.64 &lt;dbl&gt; | X1.04 &lt;dbl&gt; | X3.92 &lt;dbl&gt; | X1065 &lt;int&gt; |\n",
       "|---|---|---|---|---|---|---|---|---|---|---|---|---|---|---|\n",
       "| 1 | 1 | 13.20 | 1.78 | 2.14 | 11.2 | 100 | 2.65 | 2.76 | 0.26 | 1.28 | 4.38 | 1.05 | 3.40 | 1050 |\n",
       "| 2 | 1 | 13.16 | 2.36 | 2.67 | 18.6 | 101 | 2.80 | 3.24 | 0.30 | 2.81 | 5.68 | 1.03 | 3.17 | 1185 |\n",
       "| 3 | 1 | 14.37 | 1.95 | 2.50 | 16.8 | 113 | 3.85 | 3.49 | 0.24 | 2.18 | 7.80 | 0.86 | 3.45 | 1480 |\n",
       "\n"
      ],
      "text/plain": [
       "  X1 X14.23 X1.71 X2.43 X15.6 X127 X2.8 X3.06 X.28 X2.29 X5.64 X1.04 X3.92\n",
       "1 1  13.20  1.78  2.14  11.2  100  2.65 2.76  0.26 1.28  4.38  1.05  3.40 \n",
       "2 1  13.16  2.36  2.67  18.6  101  2.80 3.24  0.30 2.81  5.68  1.03  3.17 \n",
       "3 1  14.37  1.95  2.50  16.8  113  3.85 3.49  0.24 2.18  7.80  0.86  3.45 \n",
       "  X1065\n",
       "1 1050 \n",
       "2 1185 \n",
       "3 1480 "
      ]
     },
     "metadata": {},
     "output_type": "display_data"
    }
   ],
   "source": [
    "load(\"wine.RData\")\n",
    "head(wine, 3)"
   ]
  },
  {
   "cell_type": "markdown",
   "id": "a49a5e9a",
   "metadata": {},
   "source": [
    "#### Export data.frame into csv file"
   ]
  },
  {
   "cell_type": "code",
   "execution_count": 80,
   "id": "c3ec941b",
   "metadata": {},
   "outputs": [],
   "source": [
    "write.table(wine, file=\"wine.csv\", row.names=FALSE, quote = FALSE, sep = \",\")"
   ]
  },
  {
   "cell_type": "markdown",
   "id": "8544c102",
   "metadata": {},
   "source": [
    "#### Filtering"
   ]
  },
  {
   "cell_type": "code",
   "execution_count": 81,
   "id": "30bc2e64",
   "metadata": {},
   "outputs": [],
   "source": [
    "a <- c(5260,5470,5640,6180,6390,6515,6805,7515,7515,8230,8770)\n",
    "b <- c(3910,4220,3885,5160,5645,4680,5265,5975,6790,6900,7335)"
   ]
  },
  {
   "cell_type": "code",
   "execution_count": 82,
   "id": "0348646f",
   "metadata": {},
   "outputs": [
    {
     "data": {
      "text/html": [
       "<style>\n",
       ".list-inline {list-style: none; margin:0; padding: 0}\n",
       ".list-inline>li {display: inline-block}\n",
       ".list-inline>li:not(:last-child)::after {content: \"\\00b7\"; padding: 0 .5ex}\n",
       "</style>\n",
       "<ol class=list-inline><li>FALSE</li><li>FALSE</li><li>FALSE</li><li>FALSE</li><li>FALSE</li><li>FALSE</li><li>FALSE</li><li>TRUE</li><li>TRUE</li><li>TRUE</li><li>TRUE</li></ol>\n"
      ],
      "text/latex": [
       "\\begin{enumerate*}\n",
       "\\item FALSE\n",
       "\\item FALSE\n",
       "\\item FALSE\n",
       "\\item FALSE\n",
       "\\item FALSE\n",
       "\\item FALSE\n",
       "\\item FALSE\n",
       "\\item TRUE\n",
       "\\item TRUE\n",
       "\\item TRUE\n",
       "\\item TRUE\n",
       "\\end{enumerate*}\n"
      ],
      "text/markdown": [
       "1. FALSE\n",
       "2. FALSE\n",
       "3. FALSE\n",
       "4. FALSE\n",
       "5. FALSE\n",
       "6. FALSE\n",
       "7. FALSE\n",
       "8. TRUE\n",
       "9. TRUE\n",
       "10. TRUE\n",
       "11. TRUE\n",
       "\n",
       "\n"
      ],
      "text/plain": [
       " [1] FALSE FALSE FALSE FALSE FALSE FALSE FALSE  TRUE  TRUE  TRUE  TRUE"
      ]
     },
     "metadata": {},
     "output_type": "display_data"
    }
   ],
   "source": [
    "# logical vector\n",
    "i <- (a > 7000)\n",
    "i"
   ]
  },
  {
   "cell_type": "code",
   "execution_count": 83,
   "id": "53887e35",
   "metadata": {},
   "outputs": [
    {
     "data": {
      "text/html": [
       "<style>\n",
       ".list-inline {list-style: none; margin:0; padding: 0}\n",
       ".list-inline>li {display: inline-block}\n",
       ".list-inline>li:not(:last-child)::after {content: \"\\00b7\"; padding: 0 .5ex}\n",
       "</style>\n",
       "<ol class=list-inline><li>7515</li><li>7515</li><li>8230</li><li>8770</li></ol>\n"
      ],
      "text/latex": [
       "\\begin{enumerate*}\n",
       "\\item 7515\n",
       "\\item 7515\n",
       "\\item 8230\n",
       "\\item 8770\n",
       "\\end{enumerate*}\n"
      ],
      "text/markdown": [
       "1. 7515\n",
       "2. 7515\n",
       "3. 8230\n",
       "4. 8770\n",
       "\n",
       "\n"
      ],
      "text/plain": [
       "[1] 7515 7515 8230 8770"
      ]
     },
     "metadata": {},
     "output_type": "display_data"
    }
   ],
   "source": [
    "a[i]"
   ]
  },
  {
   "cell_type": "code",
   "execution_count": 84,
   "id": "ccff301a",
   "metadata": {},
   "outputs": [
    {
     "data": {
      "text/html": [
       "<style>\n",
       ".list-inline {list-style: none; margin:0; padding: 0}\n",
       ".list-inline>li {display: inline-block}\n",
       ".list-inline>li:not(:last-child)::after {content: \"\\00b7\"; padding: 0 .5ex}\n",
       "</style>\n",
       "<ol class=list-inline><li>3910</li><li>4220</li><li>3885</li><li>5975</li><li>6790</li><li>6900</li><li>7335</li></ol>\n"
      ],
      "text/latex": [
       "\\begin{enumerate*}\n",
       "\\item 3910\n",
       "\\item 4220\n",
       "\\item 3885\n",
       "\\item 5975\n",
       "\\item 6790\n",
       "\\item 6900\n",
       "\\item 7335\n",
       "\\end{enumerate*}\n"
      ],
      "text/markdown": [
       "1. 3910\n",
       "2. 4220\n",
       "3. 3885\n",
       "4. 5975\n",
       "5. 6790\n",
       "6. 6900\n",
       "7. 7335\n",
       "\n",
       "\n"
      ],
      "text/plain": [
       "[1] 3910 4220 3885 5975 6790 6900 7335"
      ]
     },
     "metadata": {},
     "output_type": "display_data"
    }
   ],
   "source": [
    "b[a < 6000 | a > 7000]"
   ]
  },
  {
   "cell_type": "code",
   "execution_count": 85,
   "id": "c7d81c60",
   "metadata": {},
   "outputs": [
    {
     "data": {
      "text/html": [
       "<style>\n",
       ".list-inline {list-style: none; margin:0; padding: 0}\n",
       ".list-inline>li {display: inline-block}\n",
       ".list-inline>li:not(:last-child)::after {content: \"\\00b7\"; padding: 0 .5ex}\n",
       "</style>\n",
       "<ol class=list-inline><li>5160</li><li>5645</li><li>4680</li><li>5265</li></ol>\n"
      ],
      "text/latex": [
       "\\begin{enumerate*}\n",
       "\\item 5160\n",
       "\\item 5645\n",
       "\\item 4680\n",
       "\\item 5265\n",
       "\\end{enumerate*}\n"
      ],
      "text/markdown": [
       "1. 5160\n",
       "2. 5645\n",
       "3. 4680\n",
       "4. 5265\n",
       "\n",
       "\n"
      ],
      "text/plain": [
       "[1] 5160 5645 4680 5265"
      ]
     },
     "metadata": {},
     "output_type": "display_data"
    }
   ],
   "source": [
    "b[6000 <= a & a <= 7000]"
   ]
  },
  {
   "cell_type": "markdown",
   "id": "837a9fa4",
   "metadata": {},
   "source": [
    "#### Filtering data frames"
   ]
  },
  {
   "cell_type": "code",
   "execution_count": 86,
   "id": "c16b77ff",
   "metadata": {},
   "outputs": [
    {
     "data": {
      "text/html": [
       "<table class=\"dataframe\">\n",
       "<caption>A data.frame: 11 × 3</caption>\n",
       "<thead>\n",
       "\t<tr><th></th><th scope=col>a</th><th scope=col>b</th><th scope=col>c</th></tr>\n",
       "\t<tr><th></th><th scope=col>&lt;dbl&gt;</th><th scope=col>&lt;dbl&gt;</th><th scope=col>&lt;dbl&gt;</th></tr>\n",
       "</thead>\n",
       "<tbody>\n",
       "\t<tr><th scope=row>1</th><td>5260</td><td>3910</td><td>1350</td></tr>\n",
       "\t<tr><th scope=row>2</th><td>5470</td><td>4220</td><td>1250</td></tr>\n",
       "\t<tr><th scope=row>3</th><td>5640</td><td>3885</td><td>1755</td></tr>\n",
       "\t<tr><th scope=row>4</th><td>6180</td><td>5160</td><td>1020</td></tr>\n",
       "\t<tr><th scope=row>5</th><td>6390</td><td>5645</td><td> 745</td></tr>\n",
       "\t<tr><th scope=row>6</th><td>6515</td><td>4680</td><td>1835</td></tr>\n",
       "\t<tr><th scope=row>7</th><td>6805</td><td>5265</td><td>1540</td></tr>\n",
       "\t<tr><th scope=row>8</th><td>7515</td><td>5975</td><td>1540</td></tr>\n",
       "\t<tr><th scope=row>9</th><td>7515</td><td>6790</td><td> 725</td></tr>\n",
       "\t<tr><th scope=row>10</th><td>8230</td><td>6900</td><td>1330</td></tr>\n",
       "\t<tr><th scope=row>11</th><td>8770</td><td>7335</td><td>1435</td></tr>\n",
       "</tbody>\n",
       "</table>\n"
      ],
      "text/latex": [
       "A data.frame: 11 × 3\n",
       "\\begin{tabular}{r|lll}\n",
       "  & a & b & c\\\\\n",
       "  & <dbl> & <dbl> & <dbl>\\\\\n",
       "\\hline\n",
       "\t1 & 5260 & 3910 & 1350\\\\\n",
       "\t2 & 5470 & 4220 & 1250\\\\\n",
       "\t3 & 5640 & 3885 & 1755\\\\\n",
       "\t4 & 6180 & 5160 & 1020\\\\\n",
       "\t5 & 6390 & 5645 &  745\\\\\n",
       "\t6 & 6515 & 4680 & 1835\\\\\n",
       "\t7 & 6805 & 5265 & 1540\\\\\n",
       "\t8 & 7515 & 5975 & 1540\\\\\n",
       "\t9 & 7515 & 6790 &  725\\\\\n",
       "\t10 & 8230 & 6900 & 1330\\\\\n",
       "\t11 & 8770 & 7335 & 1435\\\\\n",
       "\\end{tabular}\n"
      ],
      "text/markdown": [
       "\n",
       "A data.frame: 11 × 3\n",
       "\n",
       "| <!--/--> | a &lt;dbl&gt; | b &lt;dbl&gt; | c &lt;dbl&gt; |\n",
       "|---|---|---|---|\n",
       "| 1 | 5260 | 3910 | 1350 |\n",
       "| 2 | 5470 | 4220 | 1250 |\n",
       "| 3 | 5640 | 3885 | 1755 |\n",
       "| 4 | 6180 | 5160 | 1020 |\n",
       "| 5 | 6390 | 5645 |  745 |\n",
       "| 6 | 6515 | 4680 | 1835 |\n",
       "| 7 | 6805 | 5265 | 1540 |\n",
       "| 8 | 7515 | 5975 | 1540 |\n",
       "| 9 | 7515 | 6790 |  725 |\n",
       "| 10 | 8230 | 6900 | 1330 |\n",
       "| 11 | 8770 | 7335 | 1435 |\n",
       "\n"
      ],
      "text/plain": [
       "   a    b    c   \n",
       "1  5260 3910 1350\n",
       "2  5470 4220 1250\n",
       "3  5640 3885 1755\n",
       "4  6180 5160 1020\n",
       "5  6390 5645  745\n",
       "6  6515 4680 1835\n",
       "7  6805 5265 1540\n",
       "8  7515 5975 1540\n",
       "9  7515 6790  725\n",
       "10 8230 6900 1330\n",
       "11 8770 7335 1435"
      ]
     },
     "metadata": {},
     "output_type": "display_data"
    }
   ],
   "source": [
    "data <- data.frame(a=a, b=b)\n",
    "data$c <- data$a - data$b\n",
    "head(data, nrow(data))"
   ]
  },
  {
   "cell_type": "code",
   "execution_count": 87,
   "id": "90784f29",
   "metadata": {},
   "outputs": [
    {
     "data": {
      "text/html": [
       "<table class=\"dataframe\">\n",
       "<caption>A data.frame: 4 × 3</caption>\n",
       "<thead>\n",
       "\t<tr><th></th><th scope=col>a</th><th scope=col>b</th><th scope=col>c</th></tr>\n",
       "\t<tr><th></th><th scope=col>&lt;dbl&gt;</th><th scope=col>&lt;dbl&gt;</th><th scope=col>&lt;dbl&gt;</th></tr>\n",
       "</thead>\n",
       "<tbody>\n",
       "\t<tr><th scope=row>8</th><td>7515</td><td>5975</td><td>1540</td></tr>\n",
       "\t<tr><th scope=row>9</th><td>7515</td><td>6790</td><td> 725</td></tr>\n",
       "\t<tr><th scope=row>10</th><td>8230</td><td>6900</td><td>1330</td></tr>\n",
       "\t<tr><th scope=row>11</th><td>8770</td><td>7335</td><td>1435</td></tr>\n",
       "</tbody>\n",
       "</table>\n"
      ],
      "text/latex": [
       "A data.frame: 4 × 3\n",
       "\\begin{tabular}{r|lll}\n",
       "  & a & b & c\\\\\n",
       "  & <dbl> & <dbl> & <dbl>\\\\\n",
       "\\hline\n",
       "\t8 & 7515 & 5975 & 1540\\\\\n",
       "\t9 & 7515 & 6790 &  725\\\\\n",
       "\t10 & 8230 & 6900 & 1330\\\\\n",
       "\t11 & 8770 & 7335 & 1435\\\\\n",
       "\\end{tabular}\n"
      ],
      "text/markdown": [
       "\n",
       "A data.frame: 4 × 3\n",
       "\n",
       "| <!--/--> | a &lt;dbl&gt; | b &lt;dbl&gt; | c &lt;dbl&gt; |\n",
       "|---|---|---|---|\n",
       "| 8 | 7515 | 5975 | 1540 |\n",
       "| 9 | 7515 | 6790 |  725 |\n",
       "| 10 | 8230 | 6900 | 1330 |\n",
       "| 11 | 8770 | 7335 | 1435 |\n",
       "\n"
      ],
      "text/plain": [
       "   a    b    c   \n",
       "8  7515 5975 1540\n",
       "9  7515 6790  725\n",
       "10 8230 6900 1330\n",
       "11 8770 7335 1435"
      ]
     },
     "metadata": {},
     "output_type": "display_data"
    }
   ],
   "source": [
    "head(data[data$a > 7000,])"
   ]
  },
  {
   "cell_type": "code",
   "execution_count": 88,
   "id": "00a2e7db",
   "metadata": {},
   "outputs": [
    {
     "data": {
      "text/html": [
       "<table class=\"dataframe\">\n",
       "<caption>A data.frame: 4 × 2</caption>\n",
       "<thead>\n",
       "\t<tr><th></th><th scope=col>a</th><th scope=col>b</th></tr>\n",
       "\t<tr><th></th><th scope=col>&lt;dbl&gt;</th><th scope=col>&lt;dbl&gt;</th></tr>\n",
       "</thead>\n",
       "<tbody>\n",
       "\t<tr><th scope=row>8</th><td>7515</td><td>5975</td></tr>\n",
       "\t<tr><th scope=row>9</th><td>7515</td><td>6790</td></tr>\n",
       "\t<tr><th scope=row>10</th><td>8230</td><td>6900</td></tr>\n",
       "\t<tr><th scope=row>11</th><td>8770</td><td>7335</td></tr>\n",
       "</tbody>\n",
       "</table>\n"
      ],
      "text/latex": [
       "A data.frame: 4 × 2\n",
       "\\begin{tabular}{r|ll}\n",
       "  & a & b\\\\\n",
       "  & <dbl> & <dbl>\\\\\n",
       "\\hline\n",
       "\t8 & 7515 & 5975\\\\\n",
       "\t9 & 7515 & 6790\\\\\n",
       "\t10 & 8230 & 6900\\\\\n",
       "\t11 & 8770 & 7335\\\\\n",
       "\\end{tabular}\n"
      ],
      "text/markdown": [
       "\n",
       "A data.frame: 4 × 2\n",
       "\n",
       "| <!--/--> | a &lt;dbl&gt; | b &lt;dbl&gt; |\n",
       "|---|---|---|\n",
       "| 8 | 7515 | 5975 |\n",
       "| 9 | 7515 | 6790 |\n",
       "| 10 | 8230 | 6900 |\n",
       "| 11 | 8770 | 7335 |\n",
       "\n"
      ],
      "text/plain": [
       "   a    b   \n",
       "8  7515 5975\n",
       "9  7515 6790\n",
       "10 8230 6900\n",
       "11 8770 7335"
      ]
     },
     "metadata": {},
     "output_type": "display_data"
    }
   ],
   "source": [
    "head(data[data$a > 7000,c(1,2)])"
   ]
  },
  {
   "cell_type": "markdown",
   "id": "c7395061",
   "metadata": {},
   "source": [
    "#### Benchmarking matrix and data.frames"
   ]
  },
  {
   "cell_type": "code",
   "execution_count": 89,
   "id": "30cfc53f",
   "metadata": {},
   "outputs": [],
   "source": [
    "rheight <- rnorm(100000, 1.8, sd=0.2)\n",
    "rweight <- rnorm(100000, 72, sd=15)"
   ]
  },
  {
   "cell_type": "markdown",
   "id": "07603ab8",
   "metadata": {},
   "source": [
    "#### Computing an entire column at once"
   ]
  },
  {
   "cell_type": "code",
   "execution_count": 90,
   "id": "8ef76230",
   "metadata": {},
   "outputs": [
    {
     "data": {
      "text/plain": [
       "Time difference of 0.002075195 secs"
      ]
     },
     "metadata": {},
     "output_type": "display_data"
    },
    {
     "data": {
      "text/plain": [
       "2400984 bytes"
      ]
     },
     "metadata": {},
     "output_type": "display_data"
    }
   ],
   "source": [
    "start_time <- Sys.time()\n",
    "hw <- data.frame(height=rheight, weight=rweight)\n",
    "hw$bmi <- hw$weight/hw$height^2\n",
    "end_time <- Sys.time()\n",
    "end_time - start_time\n",
    "object.size(hw)"
   ]
  },
  {
   "cell_type": "markdown",
   "id": "1880db1e",
   "metadata": {},
   "source": [
    "#### Processing element by element"
   ]
  },
  {
   "cell_type": "code",
   "execution_count": 91,
   "id": "955566ba",
   "metadata": {},
   "outputs": [
    {
     "data": {
      "text/plain": [
       "Time difference of 4.154382 secs"
      ]
     },
     "metadata": {},
     "output_type": "display_data"
    }
   ],
   "source": [
    "start_time <- Sys.time()\n",
    "hw <- data.frame(height=rheight, weight=rweight)\n",
    "for (i in 1:nrow(hw)) {\n",
    "  hw$bmi[i] <- hw$weight[i]/hw$height[i]^2\n",
    "}\n",
    "end_time <- Sys.time()\n",
    "end_time - start_time"
   ]
  },
  {
   "cell_type": "markdown",
   "id": "edb7a9d2",
   "metadata": {},
   "source": [
    "#### Convert the entire data.frame"
   ]
  },
  {
   "cell_type": "code",
   "execution_count": 92,
   "id": "2aeb83e4",
   "metadata": {},
   "outputs": [
    {
     "data": {
      "text/plain": [
       "Time difference of 0.1486464 secs"
      ]
     },
     "metadata": {},
     "output_type": "display_data"
    }
   ],
   "source": [
    "start_time <- Sys.time()\n",
    "hw <- data.frame(height=rheight, weight=rweight)\n",
    "hw <- as.matrix(hw)\n",
    "hw <- cbind(hw, 0)\n",
    "for (i in 1:nrow(hw)) {\n",
    "  hw[i,3] <- hw[i,2]/hw[i,1]^2\n",
    "}\n",
    "end_time <- Sys.time()\n",
    "end_time - start_time"
   ]
  },
  {
   "cell_type": "markdown",
   "id": "9236cc80",
   "metadata": {},
   "source": [
    "#### apply family"
   ]
  },
  {
   "cell_type": "code",
   "execution_count": 93,
   "id": "522b62cf",
   "metadata": {},
   "outputs": [
    {
     "data": {
      "text/html": [
       "<table class=\"dataframe\">\n",
       "<caption>A data.frame: 6 × 2</caption>\n",
       "<thead>\n",
       "\t<tr><th></th><th scope=col>blood.glucose</th><th scope=col>short.velocity</th></tr>\n",
       "\t<tr><th></th><th scope=col>&lt;dbl&gt;</th><th scope=col>&lt;dbl&gt;</th></tr>\n",
       "</thead>\n",
       "<tbody>\n",
       "\t<tr><th scope=row>1</th><td>15.3</td><td>1.76</td></tr>\n",
       "\t<tr><th scope=row>2</th><td>10.8</td><td>1.34</td></tr>\n",
       "\t<tr><th scope=row>3</th><td> 8.1</td><td>1.27</td></tr>\n",
       "\t<tr><th scope=row>4</th><td>19.5</td><td>1.47</td></tr>\n",
       "\t<tr><th scope=row>5</th><td> 7.2</td><td>1.27</td></tr>\n",
       "\t<tr><th scope=row>6</th><td> 5.3</td><td>1.49</td></tr>\n",
       "</tbody>\n",
       "</table>\n"
      ],
      "text/latex": [
       "A data.frame: 6 × 2\n",
       "\\begin{tabular}{r|ll}\n",
       "  & blood.glucose & short.velocity\\\\\n",
       "  & <dbl> & <dbl>\\\\\n",
       "\\hline\n",
       "\t1 & 15.3 & 1.76\\\\\n",
       "\t2 & 10.8 & 1.34\\\\\n",
       "\t3 &  8.1 & 1.27\\\\\n",
       "\t4 & 19.5 & 1.47\\\\\n",
       "\t5 &  7.2 & 1.27\\\\\n",
       "\t6 &  5.3 & 1.49\\\\\n",
       "\\end{tabular}\n"
      ],
      "text/markdown": [
       "\n",
       "A data.frame: 6 × 2\n",
       "\n",
       "| <!--/--> | blood.glucose &lt;dbl&gt; | short.velocity &lt;dbl&gt; |\n",
       "|---|---|---|\n",
       "| 1 | 15.3 | 1.76 |\n",
       "| 2 | 10.8 | 1.34 |\n",
       "| 3 |  8.1 | 1.27 |\n",
       "| 4 | 19.5 | 1.47 |\n",
       "| 5 |  7.2 | 1.27 |\n",
       "| 6 |  5.3 | 1.49 |\n",
       "\n"
      ],
      "text/plain": [
       "  blood.glucose short.velocity\n",
       "1 15.3          1.76          \n",
       "2 10.8          1.34          \n",
       "3  8.1          1.27          \n",
       "4 19.5          1.47          \n",
       "5  7.2          1.27          \n",
       "6  5.3          1.49          "
      ]
     },
     "metadata": {},
     "output_type": "display_data"
    }
   ],
   "source": [
    "library(ISwR)\n",
    "data(thuesen)\n",
    "head(thuesen)"
   ]
  },
  {
   "cell_type": "code",
   "execution_count": 94,
   "id": "96c3055d",
   "metadata": {},
   "outputs": [
    {
     "data": {
      "text/html": [
       "<dl>\n",
       "\t<dt>$blood.glucose</dt>\n",
       "\t\t<dd>10.3</dd>\n",
       "\t<dt>$short.velocity</dt>\n",
       "\t\t<dd>1.32565217391304</dd>\n",
       "</dl>\n"
      ],
      "text/latex": [
       "\\begin{description}\n",
       "\\item[\\$blood.glucose] 10.3\n",
       "\\item[\\$short.velocity] 1.32565217391304\n",
       "\\end{description}\n"
      ],
      "text/markdown": [
       "$blood.glucose\n",
       ":   10.3\n",
       "$short.velocity\n",
       ":   1.32565217391304\n",
       "\n",
       "\n"
      ],
      "text/plain": [
       "$blood.glucose\n",
       "[1] 10.3\n",
       "\n",
       "$short.velocity\n",
       "[1] 1.325652\n"
      ]
     },
     "metadata": {},
     "output_type": "display_data"
    }
   ],
   "source": [
    "lapply(thuesen, mean, na.rm=T)"
   ]
  },
  {
   "cell_type": "code",
   "execution_count": 95,
   "id": "8dba1848",
   "metadata": {},
   "outputs": [
    {
     "data": {
      "text/html": [
       "<style>\n",
       ".dl-inline {width: auto; margin:0; padding: 0}\n",
       ".dl-inline>dt, .dl-inline>dd {float: none; width: auto; display: inline-block}\n",
       ".dl-inline>dt::after {content: \":\\0020\"; padding-right: .5ex}\n",
       ".dl-inline>dt:not(:first-of-type) {padding-left: .5ex}\n",
       "</style><dl class=dl-inline><dt>blood.glucose</dt><dd>10.3</dd><dt>short.velocity</dt><dd>1.32565217391304</dd></dl>\n"
      ],
      "text/latex": [
       "\\begin{description*}\n",
       "\\item[blood.glucose] 10.3\n",
       "\\item[short.velocity] 1.32565217391304\n",
       "\\end{description*}\n"
      ],
      "text/markdown": [
       "blood.glucose\n",
       ":   10.3short.velocity\n",
       ":   1.32565217391304\n",
       "\n"
      ],
      "text/plain": [
       " blood.glucose short.velocity \n",
       "     10.300000       1.325652 "
      ]
     },
     "metadata": {},
     "output_type": "display_data"
    }
   ],
   "source": [
    "sapply(thuesen, mean, na.rm=T)"
   ]
  },
  {
   "cell_type": "code",
   "execution_count": 96,
   "id": "150ca39c",
   "metadata": {},
   "outputs": [
    {
     "data": {
      "text/html": [
       "<style>\n",
       ".list-inline {list-style: none; margin:0; padding: 0}\n",
       ".list-inline>li {display: inline-block}\n",
       ".list-inline>li:not(:last-child)::after {content: \"\\00b7\"; padding: 0 .5ex}\n",
       "</style>\n",
       "<ol class=list-inline><li>1.76</li><li>1.34</li><li>1.27</li><li>1.47</li><li>1.27</li><li>1.49</li><li>1.31</li><li>1.09</li><li>1.18</li><li>1.22</li><li>1.25</li><li>1.19</li><li>1.95</li><li>1.28</li><li>1.52</li><li>8.6</li><li>1.12</li><li>1.37</li><li>1.19</li><li>1.05</li><li>1.32</li><li>1.03</li><li>1.12</li><li>1.7</li></ol>\n"
      ],
      "text/latex": [
       "\\begin{enumerate*}\n",
       "\\item 1.76\n",
       "\\item 1.34\n",
       "\\item 1.27\n",
       "\\item 1.47\n",
       "\\item 1.27\n",
       "\\item 1.49\n",
       "\\item 1.31\n",
       "\\item 1.09\n",
       "\\item 1.18\n",
       "\\item 1.22\n",
       "\\item 1.25\n",
       "\\item 1.19\n",
       "\\item 1.95\n",
       "\\item 1.28\n",
       "\\item 1.52\n",
       "\\item 8.6\n",
       "\\item 1.12\n",
       "\\item 1.37\n",
       "\\item 1.19\n",
       "\\item 1.05\n",
       "\\item 1.32\n",
       "\\item 1.03\n",
       "\\item 1.12\n",
       "\\item 1.7\n",
       "\\end{enumerate*}\n"
      ],
      "text/markdown": [
       "1. 1.76\n",
       "2. 1.34\n",
       "3. 1.27\n",
       "4. 1.47\n",
       "5. 1.27\n",
       "6. 1.49\n",
       "7. 1.31\n",
       "8. 1.09\n",
       "9. 1.18\n",
       "10. 1.22\n",
       "11. 1.25\n",
       "12. 1.19\n",
       "13. 1.95\n",
       "14. 1.28\n",
       "15. 1.52\n",
       "16. 8.6\n",
       "17. 1.12\n",
       "18. 1.37\n",
       "19. 1.19\n",
       "20. 1.05\n",
       "21. 1.32\n",
       "22. 1.03\n",
       "23. 1.12\n",
       "24. 1.7\n",
       "\n",
       "\n"
      ],
      "text/plain": [
       " [1] 1.76 1.34 1.27 1.47 1.27 1.49 1.31 1.09 1.18 1.22 1.25 1.19 1.95 1.28 1.52\n",
       "[16] 8.60 1.12 1.37 1.19 1.05 1.32 1.03 1.12 1.70"
      ]
     },
     "metadata": {},
     "output_type": "display_data"
    },
    {
     "data": {
      "text/html": [
       "<style>\n",
       ".dl-inline {width: auto; margin:0; padding: 0}\n",
       ".dl-inline>dt, .dl-inline>dd {float: none; width: auto; display: inline-block}\n",
       ".dl-inline>dt::after {content: \":\\0020\"; padding-right: .5ex}\n",
       ".dl-inline>dt:not(:first-of-type) {padding-left: .5ex}\n",
       "</style><dl class=dl-inline><dt>blood.glucose</dt><dd>4.2</dd><dt>short.velocity</dt><dd>1.03</dd></dl>\n"
      ],
      "text/latex": [
       "\\begin{description*}\n",
       "\\item[blood.glucose] 4.2\n",
       "\\item[short.velocity] 1.03\n",
       "\\end{description*}\n"
      ],
      "text/markdown": [
       "blood.glucose\n",
       ":   4.2short.velocity\n",
       ":   1.03\n",
       "\n"
      ],
      "text/plain": [
       " blood.glucose short.velocity \n",
       "          4.20           1.03 "
      ]
     },
     "metadata": {},
     "output_type": "display_data"
    }
   ],
   "source": [
    "m <- as.matrix(thuesen)\n",
    "apply(m, 1, min, na.rm=TRUE)\n",
    "apply(m, 2, min, na.rm=TRUE)"
   ]
  },
  {
   "cell_type": "code",
   "execution_count": 97,
   "id": "12550128",
   "metadata": {},
   "outputs": [
    {
     "data": {
      "text/html": [
       "<table class=\"dataframe\">\n",
       "<caption>A data.frame: 6 × 2</caption>\n",
       "<thead>\n",
       "\t<tr><th></th><th scope=col>blood.glucose</th><th scope=col>short.velocity</th></tr>\n",
       "\t<tr><th></th><th scope=col>&lt;dbl&gt;</th><th scope=col>&lt;dbl&gt;</th></tr>\n",
       "</thead>\n",
       "<tbody>\n",
       "\t<tr><th scope=row>1</th><td>15.3</td><td>1.76</td></tr>\n",
       "\t<tr><th scope=row>2</th><td>10.8</td><td>1.34</td></tr>\n",
       "\t<tr><th scope=row>3</th><td> 8.1</td><td>1.27</td></tr>\n",
       "\t<tr><th scope=row>4</th><td>19.5</td><td>1.47</td></tr>\n",
       "\t<tr><th scope=row>5</th><td> 7.2</td><td>1.27</td></tr>\n",
       "\t<tr><th scope=row>6</th><td> 5.3</td><td>1.49</td></tr>\n",
       "</tbody>\n",
       "</table>\n"
      ],
      "text/latex": [
       "A data.frame: 6 × 2\n",
       "\\begin{tabular}{r|ll}\n",
       "  & blood.glucose & short.velocity\\\\\n",
       "  & <dbl> & <dbl>\\\\\n",
       "\\hline\n",
       "\t1 & 15.3 & 1.76\\\\\n",
       "\t2 & 10.8 & 1.34\\\\\n",
       "\t3 &  8.1 & 1.27\\\\\n",
       "\t4 & 19.5 & 1.47\\\\\n",
       "\t5 &  7.2 & 1.27\\\\\n",
       "\t6 &  5.3 & 1.49\\\\\n",
       "\\end{tabular}\n"
      ],
      "text/markdown": [
       "\n",
       "A data.frame: 6 × 2\n",
       "\n",
       "| <!--/--> | blood.glucose &lt;dbl&gt; | short.velocity &lt;dbl&gt; |\n",
       "|---|---|---|\n",
       "| 1 | 15.3 | 1.76 |\n",
       "| 2 | 10.8 | 1.34 |\n",
       "| 3 |  8.1 | 1.27 |\n",
       "| 4 | 19.5 | 1.47 |\n",
       "| 5 |  7.2 | 1.27 |\n",
       "| 6 |  5.3 | 1.49 |\n",
       "\n"
      ],
      "text/plain": [
       "  blood.glucose short.velocity\n",
       "1 15.3          1.76          \n",
       "2 10.8          1.34          \n",
       "3  8.1          1.27          \n",
       "4 19.5          1.47          \n",
       "5  7.2          1.27          \n",
       "6  5.3          1.49          "
      ]
     },
     "metadata": {},
     "output_type": "display_data"
    }
   ],
   "source": [
    "library(ISwR)\n",
    "data(thuesen)\n",
    "head(thuesen)"
   ]
  },
  {
   "cell_type": "code",
   "execution_count": 98,
   "id": "935337e0",
   "metadata": {},
   "outputs": [
    {
     "data": {
      "text/html": [
       "<style>\n",
       ".list-inline {list-style: none; margin:0; padding: 0}\n",
       ".list-inline>li {display: inline-block}\n",
       ".list-inline>li:not(:last-child)::after {content: \"\\00b7\"; padding: 0 .5ex}\n",
       "</style>\n",
       "<ol class=list-inline><li>4.2</li><li>4.9</li><li>5.2</li><li>5.3</li><li>6.7</li><li>6.7</li><li>7.2</li><li>7.5</li><li>8.1</li><li>8.6</li><li>8.8</li><li>9.3</li><li>9.5</li><li>10.3</li><li>10.8</li><li>11.1</li><li>12.2</li><li>12.5</li><li>13.3</li><li>15.1</li><li>15.3</li><li>16.1</li><li>19</li><li>19.5</li></ol>\n"
      ],
      "text/latex": [
       "\\begin{enumerate*}\n",
       "\\item 4.2\n",
       "\\item 4.9\n",
       "\\item 5.2\n",
       "\\item 5.3\n",
       "\\item 6.7\n",
       "\\item 6.7\n",
       "\\item 7.2\n",
       "\\item 7.5\n",
       "\\item 8.1\n",
       "\\item 8.6\n",
       "\\item 8.8\n",
       "\\item 9.3\n",
       "\\item 9.5\n",
       "\\item 10.3\n",
       "\\item 10.8\n",
       "\\item 11.1\n",
       "\\item 12.2\n",
       "\\item 12.5\n",
       "\\item 13.3\n",
       "\\item 15.1\n",
       "\\item 15.3\n",
       "\\item 16.1\n",
       "\\item 19\n",
       "\\item 19.5\n",
       "\\end{enumerate*}\n"
      ],
      "text/markdown": [
       "1. 4.2\n",
       "2. 4.9\n",
       "3. 5.2\n",
       "4. 5.3\n",
       "5. 6.7\n",
       "6. 6.7\n",
       "7. 7.2\n",
       "8. 7.5\n",
       "9. 8.1\n",
       "10. 8.6\n",
       "11. 8.8\n",
       "12. 9.3\n",
       "13. 9.5\n",
       "14. 10.3\n",
       "15. 10.8\n",
       "16. 11.1\n",
       "17. 12.2\n",
       "18. 12.5\n",
       "19. 13.3\n",
       "20. 15.1\n",
       "21. 15.3\n",
       "22. 16.1\n",
       "23. 19\n",
       "24. 19.5\n",
       "\n",
       "\n"
      ],
      "text/plain": [
       " [1]  4.2  4.9  5.2  5.3  6.7  6.7  7.2  7.5  8.1  8.6  8.8  9.3  9.5 10.3 10.8\n",
       "[16] 11.1 12.2 12.5 13.3 15.1 15.3 16.1 19.0 19.5"
      ]
     },
     "metadata": {},
     "output_type": "display_data"
    }
   ],
   "source": [
    "sort(thuesen$blood.glucose)"
   ]
  },
  {
   "cell_type": "code",
   "execution_count": 99,
   "id": "86b1b43a",
   "metadata": {},
   "outputs": [
    {
     "data": {
      "text/html": [
       "<style>\n",
       ".list-inline {list-style: none; margin:0; padding: 0}\n",
       ".list-inline>li {display: inline-block}\n",
       ".list-inline>li:not(:last-child)::after {content: \"\\00b7\"; padding: 0 .5ex}\n",
       "</style>\n",
       "<ol class=list-inline><li>17</li><li>22</li><li>12</li><li>6</li><li>11</li><li>15</li><li>5</li><li>9</li><li>3</li><li>16</li><li>23</li><li>7</li><li>24</li><li>18</li><li>2</li><li>8</li><li>10</li><li>19</li><li>21</li><li>14</li><li>1</li><li>20</li><li>13</li><li>4</li></ol>\n"
      ],
      "text/latex": [
       "\\begin{enumerate*}\n",
       "\\item 17\n",
       "\\item 22\n",
       "\\item 12\n",
       "\\item 6\n",
       "\\item 11\n",
       "\\item 15\n",
       "\\item 5\n",
       "\\item 9\n",
       "\\item 3\n",
       "\\item 16\n",
       "\\item 23\n",
       "\\item 7\n",
       "\\item 24\n",
       "\\item 18\n",
       "\\item 2\n",
       "\\item 8\n",
       "\\item 10\n",
       "\\item 19\n",
       "\\item 21\n",
       "\\item 14\n",
       "\\item 1\n",
       "\\item 20\n",
       "\\item 13\n",
       "\\item 4\n",
       "\\end{enumerate*}\n"
      ],
      "text/markdown": [
       "1. 17\n",
       "2. 22\n",
       "3. 12\n",
       "4. 6\n",
       "5. 11\n",
       "6. 15\n",
       "7. 5\n",
       "8. 9\n",
       "9. 3\n",
       "10. 16\n",
       "11. 23\n",
       "12. 7\n",
       "13. 24\n",
       "14. 18\n",
       "15. 2\n",
       "16. 8\n",
       "17. 10\n",
       "18. 19\n",
       "19. 21\n",
       "20. 14\n",
       "21. 1\n",
       "22. 20\n",
       "23. 13\n",
       "24. 4\n",
       "\n",
       "\n"
      ],
      "text/plain": [
       " [1] 17 22 12  6 11 15  5  9  3 16 23  7 24 18  2  8 10 19 21 14  1 20 13  4"
      ]
     },
     "metadata": {},
     "output_type": "display_data"
    }
   ],
   "source": [
    "order(thuesen$blood.glucose)"
   ]
  },
  {
   "cell_type": "code",
   "execution_count": 100,
   "id": "40bd7159",
   "metadata": {},
   "outputs": [
    {
     "data": {
      "text/html": [
       "<table class=\"dataframe\">\n",
       "<caption>A data.frame: 6 × 2</caption>\n",
       "<thead>\n",
       "\t<tr><th></th><th scope=col>blood.glucose</th><th scope=col>short.velocity</th></tr>\n",
       "\t<tr><th></th><th scope=col>&lt;dbl&gt;</th><th scope=col>&lt;dbl&gt;</th></tr>\n",
       "</thead>\n",
       "<tbody>\n",
       "\t<tr><th scope=row>17</th><td>4.2</td><td>1.12</td></tr>\n",
       "\t<tr><th scope=row>22</th><td>4.9</td><td>1.03</td></tr>\n",
       "\t<tr><th scope=row>12</th><td>5.2</td><td>1.19</td></tr>\n",
       "\t<tr><th scope=row>6</th><td>5.3</td><td>1.49</td></tr>\n",
       "\t<tr><th scope=row>11</th><td>6.7</td><td>1.25</td></tr>\n",
       "\t<tr><th scope=row>15</th><td>6.7</td><td>1.52</td></tr>\n",
       "</tbody>\n",
       "</table>\n"
      ],
      "text/latex": [
       "A data.frame: 6 × 2\n",
       "\\begin{tabular}{r|ll}\n",
       "  & blood.glucose & short.velocity\\\\\n",
       "  & <dbl> & <dbl>\\\\\n",
       "\\hline\n",
       "\t17 & 4.2 & 1.12\\\\\n",
       "\t22 & 4.9 & 1.03\\\\\n",
       "\t12 & 5.2 & 1.19\\\\\n",
       "\t6 & 5.3 & 1.49\\\\\n",
       "\t11 & 6.7 & 1.25\\\\\n",
       "\t15 & 6.7 & 1.52\\\\\n",
       "\\end{tabular}\n"
      ],
      "text/markdown": [
       "\n",
       "A data.frame: 6 × 2\n",
       "\n",
       "| <!--/--> | blood.glucose &lt;dbl&gt; | short.velocity &lt;dbl&gt; |\n",
       "|---|---|---|\n",
       "| 17 | 4.2 | 1.12 |\n",
       "| 22 | 4.9 | 1.03 |\n",
       "| 12 | 5.2 | 1.19 |\n",
       "| 6 | 5.3 | 1.49 |\n",
       "| 11 | 6.7 | 1.25 |\n",
       "| 15 | 6.7 | 1.52 |\n",
       "\n"
      ],
      "text/plain": [
       "   blood.glucose short.velocity\n",
       "17 4.2           1.12          \n",
       "22 4.9           1.03          \n",
       "12 5.2           1.19          \n",
       "6  5.3           1.49          \n",
       "11 6.7           1.25          \n",
       "15 6.7           1.52          "
      ]
     },
     "metadata": {},
     "output_type": "display_data"
    }
   ],
   "source": [
    "o <- order(thuesen$blood.glucose)\n",
    "sorted <- thuesen[o,]\n",
    "head(sorted)"
   ]
  },
  {
   "cell_type": "markdown",
   "id": "2335d934",
   "metadata": {},
   "source": [
    "### Part #4"
   ]
  },
  {
   "cell_type": "code",
   "execution_count": 101,
   "id": "05475c18",
   "metadata": {},
   "outputs": [
    {
     "data": {
      "text/html": [
       "<table class=\"dataframe\">\n",
       "<caption>A data.frame: 6 × 3</caption>\n",
       "<thead>\n",
       "\t<tr><th></th><th scope=col>weight</th><th scope=col>height</th><th scope=col>subject</th></tr>\n",
       "\t<tr><th></th><th scope=col>&lt;dbl&gt;</th><th scope=col>&lt;dbl&gt;</th><th scope=col>&lt;chr&gt;</th></tr>\n",
       "</thead>\n",
       "<tbody>\n",
       "\t<tr><th scope=row>1</th><td>60</td><td>1.75</td><td>A</td></tr>\n",
       "\t<tr><th scope=row>2</th><td>72</td><td>1.80</td><td>B</td></tr>\n",
       "\t<tr><th scope=row>3</th><td>57</td><td>1.65</td><td>C</td></tr>\n",
       "\t<tr><th scope=row>4</th><td>90</td><td>1.90</td><td>D</td></tr>\n",
       "\t<tr><th scope=row>5</th><td>95</td><td>1.74</td><td>E</td></tr>\n",
       "\t<tr><th scope=row>6</th><td>72</td><td>1.91</td><td>F</td></tr>\n",
       "</tbody>\n",
       "</table>\n"
      ],
      "text/latex": [
       "A data.frame: 6 × 3\n",
       "\\begin{tabular}{r|lll}\n",
       "  & weight & height & subject\\\\\n",
       "  & <dbl> & <dbl> & <chr>\\\\\n",
       "\\hline\n",
       "\t1 & 60 & 1.75 & A\\\\\n",
       "\t2 & 72 & 1.80 & B\\\\\n",
       "\t3 & 57 & 1.65 & C\\\\\n",
       "\t4 & 90 & 1.90 & D\\\\\n",
       "\t5 & 95 & 1.74 & E\\\\\n",
       "\t6 & 72 & 1.91 & F\\\\\n",
       "\\end{tabular}\n"
      ],
      "text/markdown": [
       "\n",
       "A data.frame: 6 × 3\n",
       "\n",
       "| <!--/--> | weight &lt;dbl&gt; | height &lt;dbl&gt; | subject &lt;chr&gt; |\n",
       "|---|---|---|---|\n",
       "| 1 | 60 | 1.75 | A |\n",
       "| 2 | 72 | 1.80 | B |\n",
       "| 3 | 57 | 1.65 | C |\n",
       "| 4 | 90 | 1.90 | D |\n",
       "| 5 | 95 | 1.74 | E |\n",
       "| 6 | 72 | 1.91 | F |\n",
       "\n"
      ],
      "text/plain": [
       "  weight height subject\n",
       "1 60     1.75   A      \n",
       "2 72     1.80   B      \n",
       "3 57     1.65   C      \n",
       "4 90     1.90   D      \n",
       "5 95     1.74   E      \n",
       "6 72     1.91   F      "
      ]
     },
     "metadata": {},
     "output_type": "display_data"
    }
   ],
   "source": [
    "weight <- c(60, 72, 57, 90, 95, 72) \n",
    "height <- c(1.75, 1.80, 1.65, 1.90, 1.74, 1.91)\n",
    "subject <- c(\"A\", \"B\", \"C\", \"D\", \"E\", \"F\")\n",
    "d <- data.frame(weight=weight, height=height, subject=subject)\n",
    "head(d)   \n",
    "\n"
   ]
  },
  {
   "cell_type": "code",
   "execution_count": 102,
   "id": "5adbe200",
   "metadata": {},
   "outputs": [
    {
     "data": {
      "text/html": [
       "<table class=\"dataframe\">\n",
       "<caption>A data.frame: 6 × 3</caption>\n",
       "<thead>\n",
       "\t<tr><th></th><th scope=col>weight</th><th scope=col>height</th><th scope=col>subject</th></tr>\n",
       "\t<tr><th></th><th scope=col>&lt;dbl&gt;</th><th scope=col>&lt;dbl&gt;</th><th scope=col>&lt;chr&gt;</th></tr>\n",
       "</thead>\n",
       "<tbody>\n",
       "\t<tr><th scope=row>1</th><td>60</td><td>1.75</td><td>A</td></tr>\n",
       "\t<tr><th scope=row>2</th><td>72</td><td>1.80</td><td>B</td></tr>\n",
       "\t<tr><th scope=row>3</th><td>57</td><td>1.65</td><td>C</td></tr>\n",
       "\t<tr><th scope=row>4</th><td>90</td><td>1.90</td><td>D</td></tr>\n",
       "\t<tr><th scope=row>5</th><td>95</td><td>1.74</td><td>E</td></tr>\n",
       "\t<tr><th scope=row>6</th><td>72</td><td>1.91</td><td>F</td></tr>\n",
       "</tbody>\n",
       "</table>\n"
      ],
      "text/latex": [
       "A data.frame: 6 × 3\n",
       "\\begin{tabular}{r|lll}\n",
       "  & weight & height & subject\\\\\n",
       "  & <dbl> & <dbl> & <chr>\\\\\n",
       "\\hline\n",
       "\t1 & 60 & 1.75 & A\\\\\n",
       "\t2 & 72 & 1.80 & B\\\\\n",
       "\t3 & 57 & 1.65 & C\\\\\n",
       "\t4 & 90 & 1.90 & D\\\\\n",
       "\t5 & 95 & 1.74 & E\\\\\n",
       "\t6 & 72 & 1.91 & F\\\\\n",
       "\\end{tabular}\n"
      ],
      "text/markdown": [
       "\n",
       "A data.frame: 6 × 3\n",
       "\n",
       "| <!--/--> | weight &lt;dbl&gt; | height &lt;dbl&gt; | subject &lt;chr&gt; |\n",
       "|---|---|---|---|\n",
       "| 1 | 60 | 1.75 | A |\n",
       "| 2 | 72 | 1.80 | B |\n",
       "| 3 | 57 | 1.65 | C |\n",
       "| 4 | 90 | 1.90 | D |\n",
       "| 5 | 95 | 1.74 | E |\n",
       "| 6 | 72 | 1.91 | F |\n",
       "\n"
      ],
      "text/plain": [
       "  weight height subject\n",
       "1 60     1.75   A      \n",
       "2 72     1.80   B      \n",
       "3 57     1.65   C      \n",
       "4 90     1.90   D      \n",
       "5 95     1.74   E      \n",
       "6 72     1.91   F      "
      ]
     },
     "metadata": {},
     "output_type": "display_data"
    }
   ],
   "source": [
    "subject <- c(\"A\", \"B\", \"C\", \"D\", \"E\", \"F\")\n",
    "state <- c(\"RJ\", \"SP\", \"MG\", \"RJ\", \"SP\", \"MG\")\n",
    "ds <- data.frame(subject=subject, state=state)\n",
    "head(d)"
   ]
  },
  {
   "cell_type": "code",
   "execution_count": 103,
   "id": "5b2b919b",
   "metadata": {},
   "outputs": [
    {
     "data": {
      "text/html": [
       "<table class=\"dataframe\">\n",
       "<caption>A data.frame: 6 × 4</caption>\n",
       "<thead>\n",
       "\t<tr><th></th><th scope=col>subject</th><th scope=col>weight</th><th scope=col>height</th><th scope=col>state</th></tr>\n",
       "\t<tr><th></th><th scope=col>&lt;chr&gt;</th><th scope=col>&lt;dbl&gt;</th><th scope=col>&lt;dbl&gt;</th><th scope=col>&lt;chr&gt;</th></tr>\n",
       "</thead>\n",
       "<tbody>\n",
       "\t<tr><th scope=row>1</th><td>A</td><td>60</td><td>1.75</td><td>RJ</td></tr>\n",
       "\t<tr><th scope=row>2</th><td>B</td><td>72</td><td>1.80</td><td>SP</td></tr>\n",
       "\t<tr><th scope=row>3</th><td>C</td><td>57</td><td>1.65</td><td>MG</td></tr>\n",
       "\t<tr><th scope=row>4</th><td>D</td><td>90</td><td>1.90</td><td>RJ</td></tr>\n",
       "\t<tr><th scope=row>5</th><td>E</td><td>95</td><td>1.74</td><td>SP</td></tr>\n",
       "\t<tr><th scope=row>6</th><td>F</td><td>72</td><td>1.91</td><td>MG</td></tr>\n",
       "</tbody>\n",
       "</table>\n"
      ],
      "text/latex": [
       "A data.frame: 6 × 4\n",
       "\\begin{tabular}{r|llll}\n",
       "  & subject & weight & height & state\\\\\n",
       "  & <chr> & <dbl> & <dbl> & <chr>\\\\\n",
       "\\hline\n",
       "\t1 & A & 60 & 1.75 & RJ\\\\\n",
       "\t2 & B & 72 & 1.80 & SP\\\\\n",
       "\t3 & C & 57 & 1.65 & MG\\\\\n",
       "\t4 & D & 90 & 1.90 & RJ\\\\\n",
       "\t5 & E & 95 & 1.74 & SP\\\\\n",
       "\t6 & F & 72 & 1.91 & MG\\\\\n",
       "\\end{tabular}\n"
      ],
      "text/markdown": [
       "\n",
       "A data.frame: 6 × 4\n",
       "\n",
       "| <!--/--> | subject &lt;chr&gt; | weight &lt;dbl&gt; | height &lt;dbl&gt; | state &lt;chr&gt; |\n",
       "|---|---|---|---|---|\n",
       "| 1 | A | 60 | 1.75 | RJ |\n",
       "| 2 | B | 72 | 1.80 | SP |\n",
       "| 3 | C | 57 | 1.65 | MG |\n",
       "| 4 | D | 90 | 1.90 | RJ |\n",
       "| 5 | E | 95 | 1.74 | SP |\n",
       "| 6 | F | 72 | 1.91 | MG |\n",
       "\n"
      ],
      "text/plain": [
       "  subject weight height state\n",
       "1 A       60     1.75   RJ   \n",
       "2 B       72     1.80   SP   \n",
       "3 C       57     1.65   MG   \n",
       "4 D       90     1.90   RJ   \n",
       "5 E       95     1.74   SP   \n",
       "6 F       72     1.91   MG   "
      ]
     },
     "metadata": {},
     "output_type": "display_data"
    }
   ],
   "source": [
    "dsm <- merge(d, ds, by.x=\"subject\", by.y=\"subject\")\n",
    "head(dsm)    \n"
   ]
  },
  {
   "cell_type": "code",
   "execution_count": 104,
   "id": "b167994e",
   "metadata": {},
   "outputs": [
    {
     "name": "stderr",
     "output_type": "stream",
     "text": [
      "Loading required package: dplyr\n",
      "\n",
      "\n",
      "Attaching package: ‘dplyr’\n",
      "\n",
      "\n",
      "The following objects are masked from ‘package:stats’:\n",
      "\n",
      "    filter, lag\n",
      "\n",
      "\n",
      "The following objects are masked from ‘package:base’:\n",
      "\n",
      "    intersect, setdiff, setequal, union\n",
      "\n",
      "\n"
     ]
    }
   ],
   "source": [
    "lib <- require(dplyr)\n",
    "if (!lib)\n",
    "    install.packages(\"dplyr\")\n",
    "library(dplyr)"
   ]
  },
  {
   "cell_type": "code",
   "execution_count": 105,
   "id": "97b27add",
   "metadata": {},
   "outputs": [
    {
     "data": {
      "text/html": [
       "<table class=\"dataframe\">\n",
       "<caption>A data.frame: 5 × 3</caption>\n",
       "<thead>\n",
       "\t<tr><th></th><th scope=col>subject</th><th scope=col>weight</th><th scope=col>height</th></tr>\n",
       "\t<tr><th></th><th scope=col>&lt;chr&gt;</th><th scope=col>&lt;dbl&gt;</th><th scope=col>&lt;dbl&gt;</th></tr>\n",
       "</thead>\n",
       "<tbody>\n",
       "\t<tr><th scope=row>1</th><td>E</td><td>95</td><td>1.74</td></tr>\n",
       "\t<tr><th scope=row>2</th><td>A</td><td>60</td><td>1.75</td></tr>\n",
       "\t<tr><th scope=row>3</th><td>B</td><td>72</td><td>1.80</td></tr>\n",
       "\t<tr><th scope=row>4</th><td>D</td><td>90</td><td>1.90</td></tr>\n",
       "\t<tr><th scope=row>5</th><td>F</td><td>72</td><td>1.91</td></tr>\n",
       "</tbody>\n",
       "</table>\n"
      ],
      "text/latex": [
       "A data.frame: 5 × 3\n",
       "\\begin{tabular}{r|lll}\n",
       "  & subject & weight & height\\\\\n",
       "  & <chr> & <dbl> & <dbl>\\\\\n",
       "\\hline\n",
       "\t1 & E & 95 & 1.74\\\\\n",
       "\t2 & A & 60 & 1.75\\\\\n",
       "\t3 & B & 72 & 1.80\\\\\n",
       "\t4 & D & 90 & 1.90\\\\\n",
       "\t5 & F & 72 & 1.91\\\\\n",
       "\\end{tabular}\n"
      ],
      "text/markdown": [
       "\n",
       "A data.frame: 5 × 3\n",
       "\n",
       "| <!--/--> | subject &lt;chr&gt; | weight &lt;dbl&gt; | height &lt;dbl&gt; |\n",
       "|---|---|---|---|\n",
       "| 1 | E | 95 | 1.74 |\n",
       "| 2 | A | 60 | 1.75 |\n",
       "| 3 | B | 72 | 1.80 |\n",
       "| 4 | D | 90 | 1.90 |\n",
       "| 5 | F | 72 | 1.91 |\n",
       "\n"
      ],
      "text/plain": [
       "  subject weight height\n",
       "1 E       95     1.74  \n",
       "2 A       60     1.75  \n",
       "3 B       72     1.80  \n",
       "4 D       90     1.90  \n",
       "5 F       72     1.91  "
      ]
     },
     "metadata": {},
     "output_type": "display_data"
    }
   ],
   "source": [
    "result <- dsm |> \n",
    "    filter(height>1.7) |> \n",
    "    select(subject, weight, height) |> \n",
    "    arrange(height)\n",
    "head(result)    \n"
   ]
  },
  {
   "cell_type": "code",
   "execution_count": 106,
   "id": "3a51596f",
   "metadata": {},
   "outputs": [
    {
     "data": {
      "text/html": [
       "<table class=\"dataframe\">\n",
       "<caption>A tibble: 3 × 3</caption>\n",
       "<thead>\n",
       "\t<tr><th scope=col>state</th><th scope=col>count</th><th scope=col>height</th></tr>\n",
       "\t<tr><th scope=col>&lt;chr&gt;</th><th scope=col>&lt;int&gt;</th><th scope=col>&lt;dbl&gt;</th></tr>\n",
       "</thead>\n",
       "<tbody>\n",
       "\t<tr><td>MG</td><td>2</td><td>1.780</td></tr>\n",
       "\t<tr><td>RJ</td><td>2</td><td>1.825</td></tr>\n",
       "\t<tr><td>SP</td><td>2</td><td>1.770</td></tr>\n",
       "</tbody>\n",
       "</table>\n"
      ],
      "text/latex": [
       "A tibble: 3 × 3\n",
       "\\begin{tabular}{lll}\n",
       " state & count & height\\\\\n",
       " <chr> & <int> & <dbl>\\\\\n",
       "\\hline\n",
       "\t MG & 2 & 1.780\\\\\n",
       "\t RJ & 2 & 1.825\\\\\n",
       "\t SP & 2 & 1.770\\\\\n",
       "\\end{tabular}\n"
      ],
      "text/markdown": [
       "\n",
       "A tibble: 3 × 3\n",
       "\n",
       "| state &lt;chr&gt; | count &lt;int&gt; | height &lt;dbl&gt; |\n",
       "|---|---|---|\n",
       "| MG | 2 | 1.780 |\n",
       "| RJ | 2 | 1.825 |\n",
       "| SP | 2 | 1.770 |\n",
       "\n"
      ],
      "text/plain": [
       "  state count height\n",
       "1 MG    2     1.780 \n",
       "2 RJ    2     1.825 \n",
       "3 SP    2     1.770 "
      ]
     },
     "metadata": {},
     "output_type": "display_data"
    }
   ],
   "source": [
    "result <- dsm |> \n",
    "    group_by(state) |>\n",
    "    summarize(count = n(), height = mean(height))\n",
    "head(result)    \n"
   ]
  },
  {
   "cell_type": "code",
   "execution_count": null,
   "id": "990ba9d3",
   "metadata": {},
   "outputs": [],
   "source": []
  }
 ],
 "metadata": {
  "kernelspec": {
   "display_name": "R",
   "language": "R",
   "name": "ir"
  },
  "language_info": {
   "codemirror_mode": "r",
   "file_extension": ".r",
   "mimetype": "text/x-r-source",
   "name": "R",
   "pygments_lexer": "r",
   "version": "4.3.0"
  }
 },
 "nbformat": 4,
 "nbformat_minor": 5
}
