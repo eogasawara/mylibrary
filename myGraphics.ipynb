{
 "cells": [
  {
   "cell_type": "markdown",
   "metadata": {},
   "source": [
    "# Some examples using ggplot2\n",
    "\n",
    "Mygraphics library has an easy API to build nice graphics. \n",
    "Functions usually requires a data.frame with four columns: x, variable, value, and colors. \n",
    "The variable is a required parameter for all examples. \n",
    "\n",
    "## Library\n",
    "The library myGraphics.R has a function named loadlibrary that is responsible for checking installed packages. \n",
    "Once the package is installed, it is loaded.\n",
    "Take some time looking the parameters of functions available at https://raw.githubusercontent.com/eogasawara/mylibrary/master/myGraphics.R. They can be helpful in setting up your graphics. "
   ]
  },
  {
   "cell_type": "code",
   "execution_count": 5,
   "metadata": {},
   "outputs": [
    {
     "name": "stderr",
     "output_type": "stream",
     "text": [
      "Loading required package: ggplot2\n",
      "Loading required package: scales\n",
      "Loading required package: reshape\n",
      "Warning message:\n",
      "\"package 'reshape' was built under R version 3.5.2\"Loading required package: RColorBrewer\n",
      "Loading required package: gridExtra\n",
      "Warning message:\n",
      "\"package 'gridExtra' was built under R version 3.5.2\"Loading required package: dplyr\n",
      "\n",
      "Attaching package: 'dplyr'\n",
      "\n",
      "The following object is masked from 'package:gridExtra':\n",
      "\n",
      "    combine\n",
      "\n",
      "The following object is masked from 'package:reshape':\n",
      "\n",
      "    rename\n",
      "\n",
      "The following objects are masked from 'package:stats':\n",
      "\n",
      "    filter, lag\n",
      "\n",
      "The following objects are masked from 'package:base':\n",
      "\n",
      "    intersect, setdiff, setequal, union\n",
      "\n"
     ]
    }
   ],
   "source": [
    "source(\"https://raw.githubusercontent.com/eogasawara/mylibrary/master/myGraphics.R\")\n",
    "loadlibrary(\"reshape\")\n",
    "loadlibrary(\"RColorBrewer\")\n",
    "loadlibrary(\"gridExtra\")\n",
    "loadlibrary(\"dplyr\")"
   ]
  },
  {
   "cell_type": "markdown",
   "metadata": {},
   "source": [
    "## Color pallete\n",
    "\n",
    "Color brewer is a nice toll to setup color for your graphics. "
   ]
  },
  {
   "cell_type": "code",
   "execution_count": 6,
   "metadata": {},
   "outputs": [],
   "source": [
    "col_set <- brewer.pal(11, 'Spectral')\n",
    "col_2 <- col_set[c(4,9)]\n",
    "col_3 <- col_set[c(4,9,11)]\n",
    "col_4 <- col_set[c(3,5,7,9)]   \n",
    "col_5 <- col_set[c(3,5,7,9,11)]    \n",
    "options(repr.plot.width=4, repr.plot.height=3) "
   ]
  },
  {
   "cell_type": "markdown",
   "metadata": {},
   "source": [
    "## Datasets for the examples\n",
    "\n",
    "This function creates the basic dataset used in the examples"
   ]
  },
  {
   "cell_type": "code",
   "execution_count": 7,
   "metadata": {},
   "outputs": [
    {
     "data": {
      "text/html": [
       "<table>\n",
       "<thead><tr><th scope=col>Year</th><th scope=col>Months</th><th scope=col>Flights</th><th scope=col>Delays</th><th scope=col>OnTime</th><th scope=col>Perc</th></tr></thead>\n",
       "<tbody>\n",
       "\t<tr><td>2016     </td><td>Jan-Mar  </td><td>11       </td><td>6        </td><td>5        </td><td>0.5454545</td></tr>\n",
       "\t<tr><td>2016     </td><td>Apr-Jun  </td><td>12       </td><td>5        </td><td>7        </td><td>0.4166667</td></tr>\n",
       "\t<tr><td>2016     </td><td>Jul-Sep  </td><td>13       </td><td>4        </td><td>9        </td><td>0.3076923</td></tr>\n",
       "\t<tr><td>2016     </td><td>Oct-Dec  </td><td>12       </td><td>5        </td><td>7        </td><td>0.4166667</td></tr>\n",
       "\t<tr><td>2017     </td><td>Jan-Mar  </td><td>10       </td><td>4        </td><td>6        </td><td>0.4000000</td></tr>\n",
       "\t<tr><td>2017     </td><td>Apr-Jun  </td><td> 9       </td><td>3        </td><td>6        </td><td>0.3333333</td></tr>\n",
       "</tbody>\n",
       "</table>\n"
      ],
      "text/latex": [
       "\\begin{tabular}{r|llllll}\n",
       " Year & Months & Flights & Delays & OnTime & Perc\\\\\n",
       "\\hline\n",
       "\t 2016      & Jan-Mar   & 11        & 6         & 5         & 0.5454545\\\\\n",
       "\t 2016      & Apr-Jun   & 12        & 5         & 7         & 0.4166667\\\\\n",
       "\t 2016      & Jul-Sep   & 13        & 4         & 9         & 0.3076923\\\\\n",
       "\t 2016      & Oct-Dec   & 12        & 5         & 7         & 0.4166667\\\\\n",
       "\t 2017      & Jan-Mar   & 10        & 4         & 6         & 0.4000000\\\\\n",
       "\t 2017      & Apr-Jun   &  9        & 3         & 6         & 0.3333333\\\\\n",
       "\\end{tabular}\n"
      ],
      "text/markdown": [
       "\n",
       "| Year | Months | Flights | Delays | OnTime | Perc |\n",
       "|---|---|---|---|---|---|\n",
       "| 2016      | Jan-Mar   | 11        | 6         | 5         | 0.5454545 |\n",
       "| 2016      | Apr-Jun   | 12        | 5         | 7         | 0.4166667 |\n",
       "| 2016      | Jul-Sep   | 13        | 4         | 9         | 0.3076923 |\n",
       "| 2016      | Oct-Dec   | 12        | 5         | 7         | 0.4166667 |\n",
       "| 2017      | Jan-Mar   | 10        | 4         | 6         | 0.4000000 |\n",
       "| 2017      | Apr-Jun   |  9        | 3         | 6         | 0.3333333 |\n",
       "\n"
      ],
      "text/plain": [
       "  Year Months  Flights Delays OnTime Perc     \n",
       "1 2016 Jan-Mar 11      6      5      0.5454545\n",
       "2 2016 Apr-Jun 12      5      7      0.4166667\n",
       "3 2016 Jul-Sep 13      4      9      0.3076923\n",
       "4 2016 Oct-Dec 12      5      7      0.4166667\n",
       "5 2017 Jan-Mar 10      4      6      0.4000000\n",
       "6 2017 Apr-Jun  9      3      6      0.3333333"
      ]
     },
     "metadata": {},
     "output_type": "display_data"
    }
   ],
   "source": [
    "create_dataset <- function() {\n",
    "  data <- read.table(text = \"Year Months Flights Delays\n",
    "                     2016 Jan-Mar 11 6\n",
    "                     2016 Apr-Jun 12 5\n",
    "                     2016 Jul-Sep 13 4\n",
    "                     2016 Oct-Dec 12 5\n",
    "                     2017 Jan-Mar 10 4\n",
    "                     2017 Apr-Jun 9 3\n",
    "                     2017 Jul-Sep 11 4\n",
    "                     2017 Oct-Dec 20 5\n",
    "                     2018 Jan-Mar 15 3\n",
    "                     2018 Apr-Jun 12 5\n",
    "                     2018 Jul-Sep 13 4\n",
    "                     2018 Oct-Dec 8 4\",\n",
    "                     header = TRUE,sep = \"\")  \n",
    "  data$OnTime <- data$Flights - data$Delays \n",
    "  data$Perc <- data$Delays / data$Flights\n",
    "  return(data)\n",
    "}\n",
    "\n",
    "data <- create_dataset()\n",
    "head(data)"
   ]
  },
  {
   "cell_type": "markdown",
   "metadata": {},
   "source": [
    "Data adjustment for ggplot usage.  "
   ]
  },
  {
   "cell_type": "code",
   "execution_count": 4,
   "metadata": {},
   "outputs": [
    {
     "ename": "ERROR",
     "evalue": "Error in melt(data[, c(\"Year\", \"Months\", \"Flights\", \"Delays\", \"OnTime\", : não foi possível encontrar a função \"melt\"\n",
     "output_type": "error",
     "traceback": [
      "Error in melt(data[, c(\"Year\", \"Months\", \"Flights\", \"Delays\", \"OnTime\", : não foi possível encontrar a função \"melt\"\nTraceback:\n",
      "1. adjust_dataset(data)"
     ]
    }
   ],
   "source": [
    "adjust_dataset <- function(data) {\n",
    "  data <- melt(data[,c('Year', 'Months', 'Flights', 'Delays', 'OnTime', 'Perc')], id.vars = c(1,2))\n",
    "  data$x <- sprintf(\"%d-%s\", data$Year, data$Months)\n",
    "  data$x <- factor(data$x,levels = data$x[1:12])\n",
    "  return(data)\n",
    "}\n",
    "data <- adjust_dataset(data)\n",
    "head(data)"
   ]
  },
  {
   "cell_type": "markdown",
   "metadata": {},
   "source": [
    "## Datasets for the examples\n",
    "\n",
    "This function presents some techniques for creating and merging datasets for ggplot usage.  "
   ]
  },
  {
   "cell_type": "markdown",
   "metadata": {},
   "source": [
    "## Scatter plot\n",
    "\n",
    "This example filters on flights and delays. It uses two colors and setup x and y labels. \n",
    "The function returns a preset graphics that can be enhanced. In this case, we change the x labels orientations and add a centered title."
   ]
  },
  {
   "cell_type": "code",
   "execution_count": 55,
   "metadata": {},
   "outputs": [
    {
     "data": {
      "image/png": "[encoded data removed]",
      "text/plain": [
       "plot without title"
      ]
     },
     "metadata": {},
     "output_type": "display_data"
    }
   ],
   "source": [
    "grfs <- plot.scatter(data %>% filter(variable %in% c('Flights', 'Delays')), colors=col_2, label_x = \"Quarters\", label_y = \"Amount\") \n",
    "grfs <- grfs + theme(axis.text.x = element_text(angle=90, hjust=1))\n",
    "grfs <- grfs + ggtitle(\"Air system\") + theme(plot.title = element_text(hjust = 0.5))\n",
    "plot(grfs)"
   ]
  },
  {
   "cell_type": "markdown",
   "metadata": {},
   "source": [
    "## Line plot\n",
    "This line plot uses the default configuration and extends the x labels orientation. \n",
    "It is very important to try to present a particular color for a specific data. In this case, delays and flights are presented in the same color as previous graphic. \n"
   ]
  },
  {
   "cell_type": "code",
   "execution_count": 57,
   "metadata": {},
   "outputs": [
    {
     "data": {
      "image/png": "[encoded data removed]",
      "text/plain": [
       "plot without title"
      ]
     },
     "metadata": {},
     "output_type": "display_data"
    }
   ],
   "source": [
    "grfs <- plot.series(data %>% filter(variable %in% c('Flights', 'Delays')),colors=col_2) \n",
    "grfs <- grfs + theme(axis.text.x = element_text(angle=90, hjust=1))\n",
    "plot(grfs)"
   ]
  },
  {
   "cell_type": "markdown",
   "metadata": {},
   "source": [
    "## bar graph\n",
    "This graphic presents a bar plot for the first 11 quarters. Each quarter is presented in a specific color. "
   ]
  },
  {
   "cell_type": "code",
   "execution_count": 59,
   "metadata": {},
   "outputs": [
    {
     "data": {
      "image/png": "[encoded data removed]",
      "text/plain": [
       "plot without title"
      ]
     },
     "metadata": {},
     "output_type": "display_data"
    }
   ],
   "source": [
    "grf <- plot.bar(data[1:11,] %>% filter(variable=='Flights') %>% select(variable=x, value=value), colors=col_set)\n",
    "grf <- grf + theme(axis.text.x = element_text(angle=90, hjust=1))\n",
    "plot(grf)"
   ]
  },
  {
   "cell_type": "markdown",
   "metadata": {},
   "source": [
    "## grouped bar & stacked-bar\n",
    "\n",
    "Grouped bar or stacked bars can present different perspectives for the same data."
   ]
  },
  {
   "cell_type": "code",
   "execution_count": 61,
   "metadata": {},
   "outputs": [
    {
     "data": {
      "image/png": "[encoded data removed]",
      "text/plain": [
       "plot without title"
      ]
     },
     "metadata": {},
     "output_type": "display_data"
    }
   ],
   "source": [
    "grfb <- plot.bar(data %>% filter(variable %in% c('OnTime', 'Delays')), colors=col_2, group=TRUE)\n",
    "grfb <- grfb + theme(axis.text.x = element_text(angle=90, hjust=1))\n",
    "grfsb <- plot.stackedbar(data %>% filter(variable %in% c('OnTime', 'Delays')), colors=col_2) \n",
    "grfsb <- grfsb + theme(axis.text.x = element_text(angle=90, hjust=1))\n",
    "\n",
    "options(repr.plot.width=8, repr.plot.height=3)\n",
    "grid.arrange(grfb, grfsb, ncol=2)\n",
    "options(repr.plot.width=4, repr.plot.height=3)"
   ]
  },
  {
   "cell_type": "markdown",
   "metadata": {},
   "source": [
    "## Faced grouped bar"
   ]
  },
  {
   "cell_type": "code",
   "execution_count": 64,
   "metadata": {},
   "outputs": [
    {
     "data": {
      "image/png": "[encoded data removed]",
      "text/plain": [
       "plot without title"
      ]
     },
     "metadata": {},
     "output_type": "display_data"
    }
   ],
   "source": [
    "grf <- plot.bar(data %>% filter(variable %in% c('OnTime', 'Delays')) %>% \n",
    "                select(x=Months, face=Year, variable=variable, value=value), group=TRUE, colors=col_2)\n",
    "grf <- grf + theme(axis.text.x = element_text(angle=90, hjust=1))\n",
    "grf <- grf + xlab(\"\")\n",
    "grf <- grf + guides(fill=guide_legend(title=\"\"))\n",
    "grf <- grf + ylab(\"\")\n",
    "grf <- grf + facet_wrap(~face, ncol = 3) \n",
    "\n",
    "options(repr.plot.width=8, repr.plot.height=3)\n",
    "plot(grf)\n",
    "options(repr.plot.width=4, repr.plot.height=3)"
   ]
  },
  {
   "cell_type": "markdown",
   "metadata": {},
   "source": [
    "## pie chart"
   ]
  },
  {
   "cell_type": "code",
   "execution_count": 66,
   "metadata": {},
   "outputs": [
    {
     "data": {
      "image/png": "[encoded data removed]",
      "text/plain": [
       "plot without title"
      ]
     },
     "metadata": {},
     "output_type": "display_data"
    }
   ],
   "source": [
    "mypiedata <- data %>% filter(Year == 2016 & variable ==\"Flights\") %>% select(variable=x, value=value)\n",
    "mypiedata$colors <- col_4\n",
    "mypiedata <- prepare.pieplot(mypiedata)\n",
    "\n",
    "grfpie <- plot.pieplot(mypiedata, colors=as.character(mypiedata$colors))\n",
    "plot(grfpie)"
   ]
  },
  {
   "cell_type": "markdown",
   "metadata": {},
   "source": [
    "## lollipop plot"
   ]
  },
  {
   "cell_type": "code",
   "execution_count": 67,
   "metadata": {},
   "outputs": [
    {
     "data": {
      "image/png": "[encoded data removed]",
      "text/plain": [
       "plot without title"
      ]
     },
     "metadata": {},
     "output_type": "display_data"
    }
   ],
   "source": [
    "lolli <- merge(x = data %>% filter(variable ==\"Delays\") %>% select(variable=x, delays=value), \n",
    "                y = data %>% filter(variable ==\"Flights\") %>% select(variable=x, flights=value), \n",
    "                by.x=\"variable\", by.y=\"variable\") \n",
    "lolli$value <- round(100 * lolli$delays / lolli$flights)\n",
    "\n",
    "grf <- plot_lollipop(lolli, col_2[1], max_value_gap=2.25)\n",
    "plot(grf)"
   ]
  },
  {
   "cell_type": "markdown",
   "metadata": {},
   "source": [
    "## density plot"
   ]
  },
  {
   "cell_type": "code",
   "execution_count": 74,
   "metadata": {},
   "outputs": [
    {
     "data": {
      "image/png": "[encoded data removed]",
      "text/plain": [
       "plot without title"
      ]
     },
     "metadata": {},
     "output_type": "display_data"
    }
   ],
   "source": [
    "grfgd <- plot.density(data %>% filter(variable %in% c('OnTime', 'Delays')), label_series = \"\", colors=col_2)\n",
    "plot(grfgd)"
   ]
  },
  {
   "cell_type": "markdown",
   "metadata": {},
   "source": [
    "## Histogram"
   ]
  },
  {
   "cell_type": "code",
   "execution_count": 77,
   "metadata": {},
   "outputs": [
    {
     "data": {
      "image/png": "[encoded data removed]",
      "text/plain": [
       "plot without title"
      ]
     },
     "metadata": {},
     "output_type": "display_data"
    }
   ],
   "source": [
    "grfgd <- plot.hist(data %>% filter(variable %in% c('OnTime', 'Delays')), label_series = \"\", colors=col_2, bin=1)\n",
    "plot(grfgd)"
   ]
  },
  {
   "cell_type": "markdown",
   "metadata": {},
   "source": [
    "## Box-plot"
   ]
  },
  {
   "cell_type": "code",
   "execution_count": 75,
   "metadata": {},
   "outputs": [
    {
     "data": {
      "image/png": "[encoded data removed]",
      "text/plain": [
       "plot without title"
      ]
     },
     "metadata": {},
     "output_type": "display_data"
    }
   ],
   "source": [
    "grfb <- plot.boxplot(data %>% filter(variable %in% c('OnTime', 'Delays')), colors=col_2)\n",
    "plot(grfb)"
   ]
  },
  {
   "cell_type": "markdown",
   "metadata": {},
   "source": [
    "## Building PDF from graphics"
   ]
  },
  {
   "cell_type": "code",
   "execution_count": 13,
   "metadata": {
    "scrolled": true
   },
   "outputs": [
    {
     "data": {
      "text/html": [
       "<strong>png:</strong> 2"
      ],
      "text/latex": [
       "\\textbf{png:} 2"
      ],
      "text/markdown": [
       "**png:** 2"
      ],
      "text/plain": [
       "png \n",
       "  2 "
      ]
     },
     "metadata": {},
     "output_type": "display_data"
    }
   ],
   "source": [
    "pdf(\"examples/plot.pdf\", width=4, height=3)\n",
    "plot(grfb)\n",
    "dev.off()"
   ]
  },
  {
   "cell_type": "code",
   "execution_count": null,
   "metadata": {},
   "outputs": [],
   "source": []
  }
 ],
 "metadata": {
  "kernelspec": {
   "display_name": "R",
   "language": "R",
   "name": "ir"
  },
  "language_info": {
   "codemirror_mode": "r",
   "file_extension": ".r",
   "mimetype": "text/x-r-source",
   "name": "R",
   "pygments_lexer": "r",
   "version": "3.5.1"
  }
 },
 "nbformat": 4,
 "nbformat_minor": 2
}
