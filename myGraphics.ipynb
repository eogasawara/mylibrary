{
 "cells": [
  {
   "cell_type": "markdown",
   "metadata": {},
   "source": [
    "# Some examples using ggplot2\n",
    "\n",
    "Mygraphics library has an easy API to build nice graphics. \n",
    "Functions usually requires a data.frame with four columns: x, variable, value, and colors. \n",
    "The variable is a required parameter for all examples. \n",
    "\n",
    "## Library\n",
    "The library myGraphics.R has a function named loadlibrary that is responsible for checking installed packages. \n",
    "Once the package is installed, it is loaded."
   ]
  },
  {
   "cell_type": "code",
   "execution_count": 29,
   "metadata": {},
   "outputs": [],
   "source": [
    "source(\"https://raw.githubusercontent.com/eogasawara/mylibrary/master/myGraphics.R\")\n",
    "loadlibrary(\"reshape\")\n",
    "loadlibrary(\"RColorBrewer\")\n",
    "loadlibrary(\"gridExtra\")\n",
    "loadlibrary(\"dplyr\")"
   ]
  },
  {
   "cell_type": "markdown",
   "metadata": {},
   "source": [
    "## Color pallete\n",
    "\n",
    "Five colors from spectral pallete"
   ]
  },
  {
   "cell_type": "code",
   "execution_count": 30,
   "metadata": {},
   "outputs": [],
   "source": [
    "col.set <- brewer.pal(11, 'Spectral')\n",
    "mycolors <- col.set[c(1,3,5,7,9)]\n",
    "options(repr.plot.width=4, repr.plot.height=3) "
   ]
  },
  {
   "cell_type": "markdown",
   "metadata": {},
   "source": [
    "## Datasets for the examples\n",
    "\n",
    "This function presents some techniques for creating and merging datasets for ggplot usage.  "
   ]
  },
  {
   "cell_type": "code",
   "execution_count": 31,
   "metadata": {},
   "outputs": [],
   "source": [
    "create_dataset <- function() {\n",
    "  data <- read.table(text = \"Year Months Flights Delays\n",
    "                     2016 Jan-Mar 11 6\n",
    "                     2016 Apr-Jun 12 5\n",
    "                     2016 Jul-Sep 13 4\n",
    "                     2016 Oct-Dec 12 5\n",
    "                     2017 Jan-Mar 10 4\n",
    "                     2017 Apr-Jun 9 3\n",
    "                     2017 Jul-Sep 11 4\n",
    "                     2017 Oct-Dec 20 5\n",
    "                     2018 Jan-Mar 15 3\n",
    "                     2018 Apr-Jun 12 5\n",
    "                     2018 Jul-Sep 13 4\n",
    "                     2018 Oct-Dec 8 4\",\n",
    "                     header = TRUE,sep = \"\")  \n",
    "  data <- melt(data[,c('Year', 'Months', 'Flights', 'Delays')], id.vars = c(1,2))\n",
    "  data$x <- sprintf(\"%d-%s\", data$Year, data$Months)\n",
    "  data$x <- factor(data$x,levels = data$x[1:12])\n",
    "  return(data)\n",
    "}\n",
    "data <- create_dataset()"
   ]
  },
  {
   "cell_type": "markdown",
   "metadata": {},
   "source": [
    "## Scatter plot\n",
    "\n",
    "Mygraphics library has an easy API to build nice graphics. The usually requires a data.frame with four columns, which includes combinations of x, variable, value, and colors. The variable is a required parameter for all examples. "
   ]
  },
  {
   "cell_type": "code",
   "execution_count": 21,
   "metadata": {},
   "outputs": [
    {
     "data": {
      "image/png": "[encoded data removed]",
      "text/plain": [
       "plot without title"
      ]
     },
     "metadata": {},
     "output_type": "display_data"
    }
   ],
   "source": [
    "grfs <- plot.scatter(data,colors=mycolors[c(1,5)]) \n",
    "grfs <- grfs + theme(axis.text.x = element_text(angle=90, hjust=1))\n",
    "plot(grfs)"
   ]
  },
  {
   "cell_type": "markdown",
   "metadata": {},
   "source": [
    "## Line plot\n"
   ]
  },
  {
   "cell_type": "code",
   "execution_count": 22,
   "metadata": {},
   "outputs": [
    {
     "data": {
      "image/png": "[encoded data removed]",
      "text/plain": [
       "plot without title"
      ]
     },
     "metadata": {},
     "output_type": "display_data"
    }
   ],
   "source": [
    "grfs <- plot.series(data,colors=mycolors[c(1,5)]) \n",
    "grfs <- grfs + theme(axis.text.x = element_text(angle=90, hjust=1))\n",
    "plot(grfs)"
   ]
  },
  {
   "cell_type": "markdown",
   "metadata": {},
   "source": [
    "## bar graph"
   ]
  },
  {
   "cell_type": "code",
   "execution_count": 23,
   "metadata": {},
   "outputs": [
    {
     "data": {
      "image/png": "[encoded data removed]",
      "text/plain": [
       "plot without title"
      ]
     },
     "metadata": {},
     "output_type": "display_data"
    }
   ],
   "source": [
    "grf <- plot.bar(data %>% filter(variable=='Flights') %>% select(variable=x, value=value), colors=mycolors[1])\n",
    "grf <- grf + theme(axis.text.x = element_text(angle=90, hjust=1))\n",
    "plot(grf)"
   ]
  },
  {
   "cell_type": "markdown",
   "metadata": {},
   "source": [
    "## grouped bar & stacked-bar"
   ]
  },
  {
   "cell_type": "code",
   "execution_count": 24,
   "metadata": {},
   "outputs": [
    {
     "data": {
      "image/png": "[encoded data removed]",
      "text/plain": [
       "plot without title"
      ]
     },
     "metadata": {},
     "output_type": "display_data"
    }
   ],
   "source": [
    "grfb <- plot.bar(data, colors=mycolors[1:2], group=TRUE)\n",
    "grfb <- grfb + theme(axis.text.x = element_text(angle=90, hjust=1))\n",
    "grfsb <- plot.stackedbar(data, colors=mycolors[1:2]) \n",
    "grfsb <- grfsb + theme(axis.text.x = element_text(angle=90, hjust=1))\n",
    "\n",
    "options(repr.plot.width=8, repr.plot.height=3)\n",
    "grid.arrange(grfb, grfsb, ncol=2)\n",
    "options(repr.plot.width=4, repr.plot.height=3)"
   ]
  },
  {
   "cell_type": "markdown",
   "metadata": {},
   "source": [
    "## Faced grouped bar"
   ]
  },
  {
   "cell_type": "code",
   "execution_count": 25,
   "metadata": {},
   "outputs": [
    {
     "data": {
      "image/png": "[encoded data removed]",
      "text/plain": [
       "plot without title"
      ]
     },
     "metadata": {},
     "output_type": "display_data"
    }
   ],
   "source": [
    "grf <- plot.bar(select(data, x=Months, face=Year, variable=variable, value=value), group=TRUE, colors=mycolors) + theme(axis.text.x = element_text(angle=90, hjust=1))\n",
    "grf <- grf + xlab(\"\")\n",
    "grf <- grf + guides(fill=guide_legend(title=\"\"))\n",
    "grf <- grf + ylab(\"\")\n",
    "grf <- grf + facet_wrap(~face, ncol = 3) \n",
    "\n",
    "options(repr.plot.width=8, repr.plot.height=3)\n",
    "plot(grf)\n",
    "options(repr.plot.width=4, repr.plot.height=3)"
   ]
  },
  {
   "cell_type": "markdown",
   "metadata": {},
   "source": [
    "## pie chart"
   ]
  },
  {
   "cell_type": "code",
   "execution_count": 26,
   "metadata": {},
   "outputs": [
    {
     "data": {
      "image/png": "[encoded data removed]",
      "text/plain": [
       "plot without title"
      ]
     },
     "metadata": {},
     "output_type": "display_data"
    }
   ],
   "source": [
    "mypiedata <- data %>% filter(Year == 2016 & variable ==\"Flights\") %>% select(variable=x, value=value)\n",
    "mypiedata$colors <- mycolors[1:4]\n",
    "mypiedata <- prepare.pieplot(mypiedata)\n",
    "\n",
    "grfpie <- plot.pieplot(mypiedata, colors=as.character(mypiedata$colors))\n",
    "plot(grfpie)"
   ]
  },
  {
   "cell_type": "markdown",
   "metadata": {},
   "source": [
    "## lollipop plot"
   ]
  },
  {
   "cell_type": "code",
   "execution_count": 34,
   "metadata": {},
   "outputs": [
    {
     "data": {
      "image/png": "[encoded data removed]",
      "text/plain": [
       "plot without title"
      ]
     },
     "metadata": {},
     "output_type": "display_data"
    }
   ],
   "source": [
    "lolli <- merge(x = data %>% filter(variable ==\"Delays\") %>% select(variable=x, delays=value), \n",
    "                y = data %>% filter(variable ==\"Flights\") %>% select(variable=x, flights=value), \n",
    "                by.x=\"variable\", by.y=\"variable\") \n",
    "lolli$value <- round(100 * lolli$delays / lolli$flights)\n",
    "\n",
    "grf <- plot_lollipop(lolli, mycolors[1], max_value_gap=2.25)\n",
    "plot(grf)"
   ]
  },
  {
   "cell_type": "markdown",
   "metadata": {},
   "source": [
    "## density plot"
   ]
  },
  {
   "cell_type": "code",
   "execution_count": 11,
   "metadata": {},
   "outputs": [
    {
     "data": {
      "image/png": "[encoded data removed]",
      "text/plain": [
       "plot without title"
      ]
     },
     "metadata": {},
     "output_type": "display_data"
    }
   ],
   "source": [
    "grfgd <- plot.density(data, label_series = \"\", colors=mycolors[c(1:5)])\n",
    "plot(grfgd)"
   ]
  },
  {
   "cell_type": "markdown",
   "metadata": {},
   "source": [
    "## Histogram"
   ]
  },
  {
   "cell_type": "code",
   "execution_count": 12,
   "metadata": {},
   "outputs": [
    {
     "data": {
      "image/png": "[encoded data removed]",
      "text/plain": [
       "plot without title"
      ]
     },
     "metadata": {},
     "output_type": "display_data"
    }
   ],
   "source": [
    "grfgd <- plot.hist(data, label_series = \"\", colors=mycolors[c(1:5)], bin=1)\n",
    "plot(grfgd)"
   ]
  },
  {
   "cell_type": "markdown",
   "metadata": {},
   "source": [
    "## Box-plot"
   ]
  },
  {
   "cell_type": "code",
   "execution_count": 13,
   "metadata": {},
   "outputs": [
    {
     "data": {
      "image/png": "[encoded data removed]",
      "text/plain": [
       "plot without title"
      ]
     },
     "metadata": {},
     "output_type": "display_data"
    }
   ],
   "source": [
    "grfb <- plot.boxplot(data, colors=mycolors[1:2])\n",
    "plot(grfb)"
   ]
  },
  {
   "cell_type": "markdown",
   "metadata": {},
   "source": [
    "## Building PDF from graphics"
   ]
  },
  {
   "cell_type": "code",
   "execution_count": 13,
   "metadata": {
    "scrolled": true
   },
   "outputs": [
    {
     "data": {
      "text/html": [
       "<strong>png:</strong> 2"
      ],
      "text/latex": [
       "\\textbf{png:} 2"
      ],
      "text/markdown": [
       "**png:** 2"
      ],
      "text/plain": [
       "png \n",
       "  2 "
      ]
     },
     "metadata": {},
     "output_type": "display_data"
    }
   ],
   "source": [
    "pdf(\"examples/plot.pdf\", width=4, height=3)\n",
    "plot(grfb)\n",
    "dev.off()"
   ]
  },
  {
   "cell_type": "code",
   "execution_count": null,
   "metadata": {},
   "outputs": [],
   "source": []
  }
 ],
 "metadata": {
  "kernelspec": {
   "display_name": "R",
   "language": "R",
   "name": "ir"
  },
  "language_info": {
   "codemirror_mode": "r",
   "file_extension": ".r",
   "mimetype": "text/x-r-source",
   "name": "R",
   "pygments_lexer": "r",
   "version": "3.5.1"
  }
 },
 "nbformat": 4,
 "nbformat_minor": 2
}
