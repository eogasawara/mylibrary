{
 "cells": [
  {
   "cell_type": "markdown",
   "metadata": {},
   "source": [
    "# Some examples using ggplot2\n",
    "\n",
    "Mygraphics library has an easy API to build nice graphics. \n",
    "Functions usually require a $data.frame$ with three attributes: $x$, $variable$, $value$. \n",
    "The variable is a required parameter for all examples. \n",
    "\n",
    "## Library\n",
    "The library $myGraphics.R$ has a function named loadlibrary that is responsible for checking installed packages. \n",
    "Once the package is installed, it is loaded.\n",
    "Take some time looking at the parameters of functions available at https://raw.githubusercontent.com/eogasawara/mylibrary/master/myGraphics.R. They can can help set up your graphics. "
   ]
  },
  {
   "cell_type": "code",
   "execution_count": 141,
   "metadata": {},
   "outputs": [],
   "source": [
    "source(\"https://raw.githubusercontent.com/eogasawara/mylibrary/master/myGraphics.R\")\n",
    "loadlibrary(\"reshape\")\n",
    "loadlibrary(\"dplyr\")\n",
    "loadlibrary(\"RColorBrewer\")\n",
    "loadlibrary(\"gridExtra\")"
   ]
  },
  {
   "cell_type": "markdown",
   "metadata": {},
   "source": [
    "## Color palette\n",
    "\n",
    "Color brewer is a nice toll to setup color for your graphics. "
   ]
  },
  {
   "cell_type": "code",
   "execution_count": 142,
   "metadata": {},
   "outputs": [],
   "source": [
    "col_set <- brewer.pal(11, 'Spectral')\n",
    "col_2 <- col_set[c(4,9)]\n",
    "col_3 <- col_set[c(4,9,11)]\n",
    "col_4 <- col_set[c(3,5,7,9)]   \n",
    "col_2b <- col_set[c(9,3)]    \n",
    "options(repr.plot.width=4, repr.plot.height=3) "
   ]
  },
  {
   "cell_type": "markdown",
   "metadata": {},
   "source": [
    "## Datasets for the examples\n",
    "\n",
    "This function creates the basic dataset used in the examples."
   ]
  },
  {
   "cell_type": "code",
   "execution_count": 143,
   "metadata": {},
   "outputs": [
    {
     "data": {
      "text/html": [
       "<table>\n",
       "<thead><tr><th scope=col>Year</th><th scope=col>Months</th><th scope=col>Flights</th><th scope=col>Delays</th><th scope=col>OnTime</th><th scope=col>Perc</th></tr></thead>\n",
       "<tbody>\n",
       "\t<tr><td>2016   </td><td>Jan-Mar</td><td>11     </td><td>6      </td><td> 5     </td><td>55     </td></tr>\n",
       "\t<tr><td>2016   </td><td>Apr-Jun</td><td>12     </td><td>5      </td><td> 7     </td><td>42     </td></tr>\n",
       "\t<tr><td>2016   </td><td>Jul-Sep</td><td>13     </td><td>3      </td><td>10     </td><td>23     </td></tr>\n",
       "\t<tr><td>2016   </td><td>Oct-Dec</td><td>12     </td><td>5      </td><td> 7     </td><td>42     </td></tr>\n",
       "\t<tr><td>2017   </td><td>Jan-Mar</td><td>10     </td><td>4      </td><td> 6     </td><td>40     </td></tr>\n",
       "\t<tr><td>2017   </td><td>Apr-Jun</td><td> 9     </td><td>3      </td><td> 6     </td><td>33     </td></tr>\n",
       "</tbody>\n",
       "</table>\n"
      ],
      "text/latex": [
       "\\begin{tabular}{r|llllll}\n",
       " Year & Months & Flights & Delays & OnTime & Perc\\\\\n",
       "\\hline\n",
       "\t 2016    & Jan-Mar & 11      & 6       &  5      & 55     \\\\\n",
       "\t 2016    & Apr-Jun & 12      & 5       &  7      & 42     \\\\\n",
       "\t 2016    & Jul-Sep & 13      & 3       & 10      & 23     \\\\\n",
       "\t 2016    & Oct-Dec & 12      & 5       &  7      & 42     \\\\\n",
       "\t 2017    & Jan-Mar & 10      & 4       &  6      & 40     \\\\\n",
       "\t 2017    & Apr-Jun &  9      & 3       &  6      & 33     \\\\\n",
       "\\end{tabular}\n"
      ],
      "text/markdown": [
       "\n",
       "| Year | Months | Flights | Delays | OnTime | Perc |\n",
       "|---|---|---|---|---|---|\n",
       "| 2016    | Jan-Mar | 11      | 6       |  5      | 55      |\n",
       "| 2016    | Apr-Jun | 12      | 5       |  7      | 42      |\n",
       "| 2016    | Jul-Sep | 13      | 3       | 10      | 23      |\n",
       "| 2016    | Oct-Dec | 12      | 5       |  7      | 42      |\n",
       "| 2017    | Jan-Mar | 10      | 4       |  6      | 40      |\n",
       "| 2017    | Apr-Jun |  9      | 3       |  6      | 33      |\n",
       "\n"
      ],
      "text/plain": [
       "  Year Months  Flights Delays OnTime Perc\n",
       "1 2016 Jan-Mar 11      6       5     55  \n",
       "2 2016 Apr-Jun 12      5       7     42  \n",
       "3 2016 Jul-Sep 13      3      10     23  \n",
       "4 2016 Oct-Dec 12      5       7     42  \n",
       "5 2017 Jan-Mar 10      4       6     40  \n",
       "6 2017 Apr-Jun  9      3       6     33  "
      ]
     },
     "metadata": {},
     "output_type": "display_data"
    }
   ],
   "source": [
    "create_dataset <- function() {\n",
    "  data <- read.table(text = \"Year Months Flights Delays\n",
    "                     2016 Jan-Mar 11 6\n",
    "                     2016 Apr-Jun 12 5\n",
    "                     2016 Jul-Sep 13 3\n",
    "                     2016 Oct-Dec 12 5\n",
    "                     2017 Jan-Mar 10 4\n",
    "                     2017 Apr-Jun 9 3\n",
    "                     2017 Jul-Sep 11 4\n",
    "                     2017 Oct-Dec 25 15\n",
    "                     2018 Jan-Mar 14 3\n",
    "                     2018 Apr-Jun 12 5\n",
    "                     2018 Jul-Sep 13 3\n",
    "                     2018 Oct-Dec 15 4\",\n",
    "                     header = TRUE,sep = \"\")  \n",
    "  data$OnTime <- data$Flights - data$Delays \n",
    "  data$Perc <- round(100 * data$Delays / data$Flights)\n",
    "  return(data)\n",
    "}\n",
    "\n",
    "data <- create_dataset()\n",
    "head(data)"
   ]
  },
  {
   "cell_type": "markdown",
   "metadata": {},
   "source": [
    "Data adjustment for ggplot usage:"
   ]
  },
  {
   "cell_type": "code",
   "execution_count": 144,
   "metadata": {},
   "outputs": [
    {
     "data": {
      "text/html": [
       "<table>\n",
       "<thead><tr><th scope=col>Year</th><th scope=col>Months</th><th scope=col>variable</th><th scope=col>value</th><th scope=col>x</th></tr></thead>\n",
       "<tbody>\n",
       "\t<tr><td>2016        </td><td>Jan-Mar     </td><td>Flights     </td><td>11          </td><td>2016-Jan-Mar</td></tr>\n",
       "\t<tr><td>2016        </td><td>Apr-Jun     </td><td>Flights     </td><td>12          </td><td>2016-Apr-Jun</td></tr>\n",
       "\t<tr><td>2016        </td><td>Jul-Sep     </td><td>Flights     </td><td>13          </td><td>2016-Jul-Sep</td></tr>\n",
       "\t<tr><td>2016        </td><td>Oct-Dec     </td><td>Flights     </td><td>12          </td><td>2016-Oct-Dec</td></tr>\n",
       "\t<tr><td>2017        </td><td>Jan-Mar     </td><td>Flights     </td><td>10          </td><td>2017-Jan-Mar</td></tr>\n",
       "\t<tr><td>2017        </td><td>Apr-Jun     </td><td>Flights     </td><td> 9          </td><td>2017-Apr-Jun</td></tr>\n",
       "</tbody>\n",
       "</table>\n"
      ],
      "text/latex": [
       "\\begin{tabular}{r|lllll}\n",
       " Year & Months & variable & value & x\\\\\n",
       "\\hline\n",
       "\t 2016         & Jan-Mar      & Flights      & 11           & 2016-Jan-Mar\\\\\n",
       "\t 2016         & Apr-Jun      & Flights      & 12           & 2016-Apr-Jun\\\\\n",
       "\t 2016         & Jul-Sep      & Flights      & 13           & 2016-Jul-Sep\\\\\n",
       "\t 2016         & Oct-Dec      & Flights      & 12           & 2016-Oct-Dec\\\\\n",
       "\t 2017         & Jan-Mar      & Flights      & 10           & 2017-Jan-Mar\\\\\n",
       "\t 2017         & Apr-Jun      & Flights      &  9           & 2017-Apr-Jun\\\\\n",
       "\\end{tabular}\n"
      ],
      "text/markdown": [
       "\n",
       "| Year | Months | variable | value | x |\n",
       "|---|---|---|---|---|\n",
       "| 2016         | Jan-Mar      | Flights      | 11           | 2016-Jan-Mar |\n",
       "| 2016         | Apr-Jun      | Flights      | 12           | 2016-Apr-Jun |\n",
       "| 2016         | Jul-Sep      | Flights      | 13           | 2016-Jul-Sep |\n",
       "| 2016         | Oct-Dec      | Flights      | 12           | 2016-Oct-Dec |\n",
       "| 2017         | Jan-Mar      | Flights      | 10           | 2017-Jan-Mar |\n",
       "| 2017         | Apr-Jun      | Flights      |  9           | 2017-Apr-Jun |\n",
       "\n"
      ],
      "text/plain": [
       "  Year Months  variable value x           \n",
       "1 2016 Jan-Mar Flights  11    2016-Jan-Mar\n",
       "2 2016 Apr-Jun Flights  12    2016-Apr-Jun\n",
       "3 2016 Jul-Sep Flights  13    2016-Jul-Sep\n",
       "4 2016 Oct-Dec Flights  12    2016-Oct-Dec\n",
       "5 2017 Jan-Mar Flights  10    2017-Jan-Mar\n",
       "6 2017 Apr-Jun Flights   9    2017-Apr-Jun"
      ]
     },
     "metadata": {},
     "output_type": "display_data"
    }
   ],
   "source": [
    "adjust_dataset <- function(data) {\n",
    "  data <- melt(data[,c('Year', 'Months', 'Flights', 'Delays', 'OnTime', 'Perc')], id.vars = c(1,2))\n",
    "  data$x <- sprintf(\"%d-%s\", data$Year, data$Months)\n",
    "  data$x <- factor(data$x,levels = data$x[1:12])\n",
    "  return(data)\n",
    "}\n",
    "data <- adjust_dataset(data)\n",
    "head(data)"
   ]
  },
  {
   "cell_type": "markdown",
   "metadata": {},
   "source": [
    "## Scatter plot\n",
    "\n",
    "This example filters data for flights and delays. It uses two colors and setup $x$ and $y$ labels. \n",
    "\n",
    "The function returns a preset graphic that can be enhanced. In this case, we change the $x$ labels orientations and add a centered title."
   ]
  },
  {
   "cell_type": "code",
   "execution_count": 145,
   "metadata": {},
   "outputs": [
    {
     "data": {
      "image/png": "[encoded data removed]",
      "text/plain": [
       "plot without title"
      ]
     },
     "metadata": {},
     "output_type": "display_data"
    }
   ],
   "source": [
    "grfs <- plot.scatter(data %>% filter(variable %in% c('Flights', 'Delays')), \n",
    "                     colors=col_2, label_x = \"Quarters\", label_y = \"Amount\") \n",
    "grfs <- grfs + theme(axis.text.x = element_text(angle=90, hjust=1))\n",
    "grfs <- grfs + ggtitle(\"Air system\") + theme(plot.title = element_text(hjust = 0.5))\n",
    "plot(grfs)"
   ]
  },
  {
   "cell_type": "markdown",
   "metadata": {},
   "source": [
    "## Line plot\n",
    "This example filters data for flights and delays. It uses the default configuration and extends the $x$ labels orientation to 45 degrees. \n",
    "\n",
    "It is very important to try to associate the same color for a certain data/method. In this case, delays and flights are presented in the same color as in the previous graphic. "
   ]
  },
  {
   "cell_type": "code",
   "execution_count": 146,
   "metadata": {},
   "outputs": [
    {
     "data": {
      "image/png": "[encoded data removed]",
      "text/plain": [
       "plot without title"
      ]
     },
     "metadata": {},
     "output_type": "display_data"
    }
   ],
   "source": [
    "grfs <- plot.series(data %>% filter(variable %in% c('Flights', 'Delays')),colors=col_2) \n",
    "grfs <- grfs + theme(axis.text.x = element_text(angle=45, hjust=1))\n",
    "plot(grfs)"
   ]
  },
  {
   "cell_type": "markdown",
   "metadata": {},
   "source": [
    "## Bar graph\n",
    "This graphic filters data for flights and presents the first 11 quarters. Each quarter is presented in a specific color. \n",
    "The function $coord_flip()$ enables horizontal bar plot.\n",
    "The function $grid.arrange()$ can put graphics side by side."
   ]
  },
  {
   "cell_type": "code",
   "execution_count": 147,
   "metadata": {},
   "outputs": [
    {
     "data": {
      "image/png": "[encoded data removed]",
      "text/plain": [
       "plot without title"
      ]
     },
     "metadata": {},
     "output_type": "display_data"
    }
   ],
   "source": [
    "\n",
    "grf <- plot.bar(data[1:11,] %>% filter(variable=='Flights') %>% select(variable=x, value=value), colors=col_set)\n",
    "grfb <- grf + theme(axis.text.x = element_text(angle=90, hjust=1))\n",
    "grfh <- grf + coord_flip()\n",
    "options(repr.plot.width=8, repr.plot.height=3)\n",
    "grid.arrange(grfb, grfh, ncol=2)\n",
    "options(repr.plot.width=4, repr.plot.height=3)\n"
   ]
  },
  {
   "cell_type": "markdown",
   "metadata": {},
   "source": [
    "## Bar graph with error bars\n",
    "This presents the average and the standard deviation of delays per quarters through the years. \n",
    "For that, it aggregates mean and sd values according to quarters. \n",
    "The conversion of the variable to factor is to sort it according to quarter semantics, instead of alphabetical order. \n",
    "The error bar is added using $geom_errorbar()$ function. "
   ]
  },
  {
   "cell_type": "code",
   "execution_count": 148,
   "metadata": {},
   "outputs": [
    {
     "data": {
      "image/png": "[encoded data removed]",
      "text/plain": [
       "plot without title"
      ]
     },
     "metadata": {},
     "output_type": "display_data"
    }
   ],
   "source": [
    "data_sd <- create_dataset() %>% \n",
    "  select(variable=Months, value=Delays) %>% \n",
    "  group_by(variable) %>% \n",
    "  summarize(sd = sd(value), value = mean(value))\n",
    "\n",
    "data_sd$variable <- factor(data_sd$variable,levels = c('Jan-Mar','Apr-Jun','Jul-Sep','Oct-Dec'))\n",
    "\n",
    "grf <- plot.bar(data_sd, colors=col_2[2], alpha=0.5)\n",
    "grf <- grf + geom_errorbar(aes(x=variable, ymin=value-sd, ymax=value+sd), width=0.2, colour=col_2[2], alpha=0.9, size=1.1) \n",
    "\n",
    "plot(grf)\n"
   ]
  },
  {
   "cell_type": "markdown",
   "metadata": {},
   "source": [
    "## Grouped bar & Stacked-bar\n",
    "\n",
    "Grouped bar or stacked bars can present different perspectives for the same data.\n"
   ]
  },
  {
   "cell_type": "code",
   "execution_count": 149,
   "metadata": {},
   "outputs": [
    {
     "data": {
      "image/png": "[encoded data removed]",
      "text/plain": [
       "plot without title"
      ]
     },
     "metadata": {},
     "output_type": "display_data"
    }
   ],
   "source": [
    "grfb <- plot.bar(data %>% filter(variable %in% c('OnTime', 'Delays')), colors=col_2b, group=TRUE)\n",
    "grfb <- grfb + theme(axis.text.x = element_text(angle=90, hjust=1))\n",
    "grfsb <- plot.stackedbar(data %>% filter(variable %in% c('OnTime', 'Delays')), colors=col_2b) \n",
    "grfsb <- grfsb + theme(axis.text.x = element_text(angle=90, hjust=1))\n",
    "\n",
    "options(repr.plot.width=8, repr.plot.height=3)\n",
    "grid.arrange(grfb, grfsb, ncol=2)\n",
    "options(repr.plot.width=4, repr.plot.height=3)"
   ]
  },
  {
   "cell_type": "markdown",
   "metadata": {},
   "source": [
    "## Faced grouped bar\n",
    "This graphic uses a facing column to group data. \n",
    "It filters data for on-time and delayed flights. \n",
    "\n",
    "In this graphic, labels are set for $x$ and $y$ axis and legend."
   ]
  },
  {
   "cell_type": "code",
   "execution_count": 150,
   "metadata": {},
   "outputs": [
    {
     "data": {
      "image/png": "[encoded data removed]",
      "text/plain": [
       "plot without title"
      ]
     },
     "metadata": {},
     "output_type": "display_data"
    }
   ],
   "source": [
    "grf <- plot.bar(data %>% filter(variable %in% c('OnTime', 'Delays')) %>% \n",
    "                select(x=Months, face=Year, variable=variable, value=value), group=TRUE, colors=col_2)\n",
    "grf <- grf + theme(axis.text.x = element_text(angle=90, hjust=1))\n",
    "grf <- grf + facet_wrap(~face, ncol = 3) \n",
    "grf <- grf + xlab(\"data\")\n",
    "grf <- grf + guides(fill=guide_legend(title=\"faced graphics:\"))\n",
    "grf <- grf + ylab(\"amount\")\n",
    "\n",
    "options(repr.plot.width=8, repr.plot.height=3)\n",
    "plot(grf)\n",
    "options(repr.plot.width=4, repr.plot.height=3)"
   ]
  },
  {
   "cell_type": "markdown",
   "metadata": {},
   "source": [
    "## Pie chart\n",
    "In this graphic data is filtered for the year 2016 and only include flights. \n",
    "For each quarter it is associated with a pie-slice with a color. \n",
    "The conversion of the variable to factor enables ordering the legend according to the semantics of the data instead of alphabetical sort. "
   ]
  },
  {
   "cell_type": "code",
   "execution_count": 151,
   "metadata": {},
   "outputs": [
    {
     "data": {
      "image/png": "[encoded data removed]",
      "text/plain": [
       "plot without title"
      ]
     },
     "metadata": {},
     "output_type": "display_data"
    }
   ],
   "source": [
    "mypiedata <- data %>% filter(Year == 2016 & variable ==\"Flights\") %>% select(variable=Months, value=value)\n",
    "mypiedata$variable <- factor(mypiedata$variable,levels = c('Oct-Dec', 'Jul-Sep', 'Apr-Jun', 'Jan-Mar'))\n",
    "mypiedata$colors <- col_4\n",
    "mypiedata <- prepare.pieplot(mypiedata)\n",
    "\n",
    "grfpie <- plot.pieplot(mypiedata, colors=as.character(mypiedata$colors))\n",
    "plot(grfpie)"
   ]
  },
  {
   "cell_type": "markdown",
   "metadata": {},
   "source": [
    "## Radar plot\n",
    "In this graphic data is filtered for the year 2016 and only include delays. \n",
    "For each quarter it is associated with an axis. \n",
    "The conversion of the variable to factor enables ordering the legend according to the semantics of the data instead of alphabetical sort. \n",
    "The $ylim$ function is used to force minimum value to be equal to 0."
   ]
  },
  {
   "cell_type": "code",
   "execution_count": 152,
   "metadata": {},
   "outputs": [
    {
     "data": {
      "image/png": "[encoded data removed]",
      "text/plain": [
       "plot without title"
      ]
     },
     "metadata": {},
     "output_type": "display_data"
    }
   ],
   "source": [
    "radar_data <- data %>% filter(Year==2016 & variable=='Delays') %>% select(x = Months, value=value)\n",
    "radar_data$x <- factor(radar_data$x,levels = c('Jan-Mar','Apr-Jun','Jul-Sep','Oct-Dec'))\n",
    "\n",
    "grf <- plot.radar(series=radar_data, color=c(\"Blue\"))\n",
    "grf <- grf + ylim(0, round(max(radar_data$value)))\n",
    "plot(grf)"
   ]
  },
  {
   "cell_type": "markdown",
   "metadata": {},
   "source": [
    "## Lollipop plot\n",
    "\n",
    "In this graphic, only the percentage of delayed flights is presented. \n",
    "This is a nice way to avoid using bar plots or pie charts."
   ]
  },
  {
   "cell_type": "code",
   "execution_count": 153,
   "metadata": {},
   "outputs": [
    {
     "data": {
      "image/png": "[encoded data removed]",
      "text/plain": [
       "plot without title"
      ]
     },
     "metadata": {},
     "output_type": "display_data"
    }
   ],
   "source": [
    "grf <- plot_lollipop(data %>% filter(variable ==\"Perc\") %>% select(variable=x,value=value), col_2[1], max_value_gap=2.25)\n",
    "plot(grf)"
   ]
  },
  {
   "cell_type": "markdown",
   "metadata": {},
   "source": [
    "## Dot plot\n",
    "In this graphic data is filtered for the year 2016 and the goal is to compare the number of delays with respect to on time flights. \n",
    "\n",
    "Data is plotted in ascending order of the values of the first variable in the dataset (Delays, displayed in orange). \n",
    "\n",
    "It is also important to observe that the function $plot\\_dotchar$ internally uses $ggdotchart$, which is not compatible with other $ggplot$ methods. Customizations should be done using $ggpar$ function, such as introducing a legend title. \n"
   ]
  },
  {
   "cell_type": "code",
   "execution_count": 154,
   "metadata": {},
   "outputs": [
    {
     "data": {
      "text/html": [
       "<table>\n",
       "<thead><tr><th scope=col>variable</th><th scope=col>x</th><th scope=col>value</th></tr></thead>\n",
       "<tbody>\n",
       "\t<tr><td>Delays </td><td>Jan-Mar</td><td>6      </td></tr>\n",
       "\t<tr><td>Delays </td><td>Apr-Jun</td><td>5      </td></tr>\n",
       "\t<tr><td>Delays </td><td>Jul-Sep</td><td>3      </td></tr>\n",
       "\t<tr><td>Delays </td><td>Oct-Dec</td><td>5      </td></tr>\n",
       "\t<tr><td>OnTime </td><td>Jan-Mar</td><td>5      </td></tr>\n",
       "\t<tr><td>OnTime </td><td>Apr-Jun</td><td>7      </td></tr>\n",
       "</tbody>\n",
       "</table>\n"
      ],
      "text/latex": [
       "\\begin{tabular}{r|lll}\n",
       " variable & x & value\\\\\n",
       "\\hline\n",
       "\t Delays  & Jan-Mar & 6      \\\\\n",
       "\t Delays  & Apr-Jun & 5      \\\\\n",
       "\t Delays  & Jul-Sep & 3      \\\\\n",
       "\t Delays  & Oct-Dec & 5      \\\\\n",
       "\t OnTime  & Jan-Mar & 5      \\\\\n",
       "\t OnTime  & Apr-Jun & 7      \\\\\n",
       "\\end{tabular}\n"
      ],
      "text/markdown": [
       "\n",
       "| variable | x | value |\n",
       "|---|---|---|\n",
       "| Delays  | Jan-Mar | 6       |\n",
       "| Delays  | Apr-Jun | 5       |\n",
       "| Delays  | Jul-Sep | 3       |\n",
       "| Delays  | Oct-Dec | 5       |\n",
       "| OnTime  | Jan-Mar | 5       |\n",
       "| OnTime  | Apr-Jun | 7       |\n",
       "\n"
      ],
      "text/plain": [
       "  variable x       value\n",
       "1 Delays   Jan-Mar 6    \n",
       "2 Delays   Apr-Jun 5    \n",
       "3 Delays   Jul-Sep 3    \n",
       "4 Delays   Oct-Dec 5    \n",
       "5 OnTime   Jan-Mar 5    \n",
       "6 OnTime   Apr-Jun 7    "
      ]
     },
     "metadata": {},
     "output_type": "display_data"
    },
    {
     "data": {
      "image/png": "[encoded data removed]",
      "text/plain": [
       "plot without title"
      ]
     },
     "metadata": {},
     "output_type": "display_data"
    }
   ],
   "source": [
    "dotdata <- data %>% filter(variable %in% c(\"Delays\", \"OnTime\") & Year==2016) %>% select(variable = variable, x = Months, value = value)\n",
    "head(dotdata)\n",
    "grf <- plot_dotchar(dotdata, color=col_2)\n",
    "grf <- ggpar(grf,legend.title = 'Flights')\n",
    "plot(grf)"
   ]
  },
  {
   "cell_type": "markdown",
   "metadata": {},
   "source": [
    "## Ballon plot\n",
    "This graph is able to combine two variables pair-wise. The intensity of this combination can be explored both by circle radius and color scale. It can be used to plot the correlation between all pairs of variables in a dataset, for example.\n",
    "\n",
    "To present the $x$ and $y$ axis according a desired order, data need to be converted into factors. "
   ]
  },
  {
   "cell_type": "code",
   "execution_count": 155,
   "metadata": {},
   "outputs": [
    {
     "data": {
      "image/png": "[encoded data removed]",
      "text/plain": [
       "plot without title"
      ]
     },
     "metadata": {},
     "output_type": "display_data"
    }
   ],
   "source": [
    "data_ballon <- data %>%  filter(variable == \"Flights\") %>% select(variable=Year, x=Months, value=value)\n",
    "data_ballon$variable <- factor(data_ballon$variable,levels = sort(unique(data_ballon$variable)))\n",
    "data_ballon$x <- factor(data_ballon$x,levels = c('Jan-Mar','Apr-Jun','Jul-Sep','Oct-Dec'))\n",
    "data_ballon$radius <- data_ballon$value\n",
    "\n",
    "grf <- plot_ballon(data_ballon, color = col_set[c(6,3)])\n",
    "plot(grf)"
   ]
  },
  {
   "cell_type": "markdown",
   "metadata": {},
   "source": [
    "## Density plot\n",
    "This graphic presents the on-time and delayed flights density distribution."
   ]
  },
  {
   "cell_type": "code",
   "execution_count": 156,
   "metadata": {},
   "outputs": [
    {
     "data": {
      "image/png": "[encoded data removed]",
      "text/plain": [
       "plot without title"
      ]
     },
     "metadata": {},
     "output_type": "display_data"
    }
   ],
   "source": [
    "grfgd <- plot.density(data %>% filter(variable %in% c('OnTime', 'Delays')), label_series = \"\", colors=col_2)\n",
    "plot(grfgd)"
   ]
  },
  {
   "cell_type": "markdown",
   "metadata": {},
   "source": [
    "## Histogram\n",
    "This graphic presents on-time and delayed flights density distribution."
   ]
  },
  {
   "cell_type": "code",
   "execution_count": 157,
   "metadata": {},
   "outputs": [
    {
     "data": {
      "image/png": "[encoded data removed]",
      "text/plain": [
       "plot without title"
      ]
     },
     "metadata": {},
     "output_type": "display_data"
    }
   ],
   "source": [
    "grfgd <- plot.hist(data %>% filter(variable %in% c('OnTime', 'Delays')), label_series = \"\", colors=col_2, bin=2)\n",
    "plot(grfgd)"
   ]
  },
  {
   "cell_type": "markdown",
   "metadata": {},
   "source": [
    "## Box-plot\n",
    "This graphic presents the on-time and delayed flights boxplot."
   ]
  },
  {
   "cell_type": "code",
   "execution_count": 158,
   "metadata": {},
   "outputs": [
    {
     "data": {
      "image/png": "[encoded data removed]",
      "text/plain": [
       "plot without title"
      ]
     },
     "metadata": {},
     "output_type": "display_data"
    }
   ],
   "source": [
    "grfb <- plot.boxplot(data %>% filter(variable %in% c('OnTime', 'Delays')), colors=col_2)\n",
    "plot(grfb)"
   ]
  },
  {
   "cell_type": "markdown",
   "metadata": {},
   "source": [
    "## Building PDF from graphics"
   ]
  },
  {
   "cell_type": "code",
   "execution_count": 159,
   "metadata": {
    "scrolled": true
   },
   "outputs": [
    {
     "data": {
      "text/html": [
       "<strong>png:</strong> 2"
      ],
      "text/latex": [
       "\\textbf{png:} 2"
      ],
      "text/markdown": [
       "**png:** 2"
      ],
      "text/plain": [
       "png \n",
       "  2 "
      ]
     },
     "metadata": {},
     "output_type": "display_data"
    }
   ],
   "source": [
    "pdf(\"examples/plot.pdf\", width=4, height=3)\n",
    "plot(grfb)\n",
    "dev.off()"
   ]
  },
  {
   "cell_type": "code",
   "execution_count": null,
   "metadata": {},
   "outputs": [],
   "source": []
  }
 ],
 "metadata": {
  "kernelspec": {
   "display_name": "R",
   "language": "R",
   "name": "ir"
  },
  "language_info": {
   "codemirror_mode": "r",
   "file_extension": ".r",
   "mimetype": "text/x-r-source",
   "name": "R",
   "pygments_lexer": "r",
   "version": "3.5.1"
  }
 },
 "nbformat": 4,
 "nbformat_minor": 2
}
