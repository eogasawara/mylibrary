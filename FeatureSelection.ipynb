{
 "cells": [
  {
   "cell_type": "markdown",
   "metadata": {},
   "source": [
    "# Feature Selection\n",
    "## Library"
   ]
  },
  {
   "cell_type": "code",
   "execution_count": 1,
   "metadata": {},
   "outputs": [],
   "source": [
    "# version 1.2\n",
    "source(\"https://raw.githubusercontent.com/eogasawara/mylibrary/master/myBasic.R\")\n",
    "source(\"https://raw.githubusercontent.com/eogasawara/mylibrary/master/myPreprocessing.R\")"
   ]
  },
  {
   "cell_type": "code",
   "execution_count": 2,
   "metadata": {},
   "outputs": [],
   "source": [
    "iris <- datasets::iris"
   ]
  },
  {
   "cell_type": "markdown",
   "metadata": {},
   "source": [
    "## Example\n",
    "General function for exploring feature selection methods\n"
   ]
  },
  {
   "cell_type": "code",
   "execution_count": 3,
   "metadata": {},
   "outputs": [],
   "source": [
    "select_features <- function(myfeature, data) {\n",
    "  myfeature <- prepare(myfeature, data)\n",
    "  print(myfeature$features)\n",
    "  data <- action(myfeature, data)\n",
    "  print(head(data))\n",
    "}"
   ]
  },
  {
   "cell_type": "markdown",
   "metadata": {},
   "source": [
    "## Lasso"
   ]
  },
  {
   "cell_type": "code",
   "execution_count": 4,
   "metadata": {},
   "outputs": [
    {
     "name": "stderr",
     "output_type": "stream",
     "text": [
      "Loading required package: glmnet\n",
      "\n",
      "Loading required package: Matrix\n",
      "\n",
      "Loaded glmnet 4.1-2\n",
      "\n"
     ]
    },
    {
     "name": "stdout",
     "output_type": "stream",
     "text": [
      "[1] \"Sepal.Width\"  \"Petal.Length\" \"Petal.Width\" \n",
      "  Sepal.Width Petal.Length Petal.Width Species\n",
      "1         3.5          1.4         0.2  setosa\n",
      "2         3.0          1.4         0.2  setosa\n",
      "3         3.2          1.3         0.2  setosa\n",
      "4         3.1          1.5         0.2  setosa\n",
      "5         3.6          1.4         0.2  setosa\n",
      "6         3.9          1.7         0.4  setosa\n"
     ]
    }
   ],
   "source": [
    "select_features(feature_selection_lasso(\"Species\"), iris)"
   ]
  },
  {
   "cell_type": "markdown",
   "metadata": {},
   "source": [
    "## FSS"
   ]
  },
  {
   "cell_type": "code",
   "execution_count": 5,
   "metadata": {},
   "outputs": [
    {
     "name": "stderr",
     "output_type": "stream",
     "text": [
      "Loading required package: leaps\n",
      "\n"
     ]
    },
    {
     "name": "stdout",
     "output_type": "stream",
     "text": [
      "[1] \"Sepal.Length\" \"Petal.Length\" \"Petal.Width\" \n",
      "  Sepal.Length Petal.Length Petal.Width Species\n",
      "1          5.1          1.4         0.2  setosa\n",
      "2          4.9          1.4         0.2  setosa\n",
      "3          4.7          1.3         0.2  setosa\n",
      "4          4.6          1.5         0.2  setosa\n",
      "5          5.0          1.4         0.2  setosa\n",
      "6          5.4          1.7         0.4  setosa\n"
     ]
    }
   ],
   "source": [
    "select_features(feature_selection_fss(\"Species\"), iris)"
   ]
  },
  {
   "cell_type": "markdown",
   "metadata": {},
   "source": [
    "## IG\n"
   ]
  },
  {
   "cell_type": "code",
   "execution_count": 6,
   "metadata": {},
   "outputs": [
    {
     "name": "stderr",
     "output_type": "stream",
     "text": [
      "Loading required package: FSelector\n",
      "\n",
      "Loading required package: doBy\n",
      "\n"
     ]
    },
    {
     "name": "stdout",
     "output_type": "stream",
     "text": [
      "[1] \"Petal.Width\"  \"Petal.Length\"\n",
      "  Petal.Width Petal.Length Species\n",
      "1         0.2          1.4  setosa\n",
      "2         0.2          1.4  setosa\n",
      "3         0.2          1.3  setosa\n",
      "4         0.2          1.5  setosa\n",
      "5         0.2          1.4  setosa\n",
      "6         0.4          1.7  setosa\n"
     ]
    }
   ],
   "source": [
    "select_features(feature_selection_ig(\"Species\"), iris)"
   ]
  },
  {
   "cell_type": "markdown",
   "metadata": {},
   "source": [
    "## Relief"
   ]
  },
  {
   "cell_type": "code",
   "execution_count": 7,
   "metadata": {},
   "outputs": [
    {
     "name": "stdout",
     "output_type": "stream",
     "text": [
      "[1] \"Petal.Width\"  \"Petal.Length\"\n",
      "  Petal.Width Petal.Length Species\n",
      "1         0.2          1.4  setosa\n",
      "2         0.2          1.4  setosa\n",
      "3         0.2          1.3  setosa\n",
      "4         0.2          1.5  setosa\n",
      "5         0.2          1.4  setosa\n",
      "6         0.4          1.7  setosa\n"
     ]
    }
   ],
   "source": [
    "select_features(feature_selection_relief(\"Species\"), iris)"
   ]
  },
  {
   "cell_type": "code",
   "execution_count": null,
   "metadata": {},
   "outputs": [],
   "source": []
  }
 ],
 "metadata": {
  "kernelspec": {
   "display_name": "R",
   "language": "R",
   "name": "ir"
  },
  "language_info": {
   "codemirror_mode": "r",
   "file_extension": ".r",
   "mimetype": "text/x-r-source",
   "name": "R",
   "pygments_lexer": "r",
   "version": "4.0.5"
  }
 },
 "nbformat": 4,
 "nbformat_minor": 2
}
