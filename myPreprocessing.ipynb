{
 "cells": [
  {
   "cell_type": "markdown",
   "metadata": {},
   "source": [
    "# Data Preprocessing\n",
    "## Library and dataset loading\n"
   ]
  },
  {
   "cell_type": "code",
   "execution_count": 1,
   "metadata": {},
   "outputs": [],
   "source": [
    "source(\"https://raw.githubusercontent.com/eogasawara/mylibrary/master/myPreprocessing.R\")\n",
    "loadlibrary(\"RColorBrewer\")\n",
    "loadlibrary(\"dplyr\")\n",
    "loadlibrary(\"gridExtra\")\n",
    "loadlibrary(\"reshape\")\n",
    "\n",
    "col.set <- brewer.pal(11, 'Spectral')\n",
    "mycolors <- col.set[c(1,3,5,7,9)]\n",
    "\n",
    "plot_size(4, 3)"
   ]
  },
  {
   "cell_type": "markdown",
   "metadata": {},
   "source": [
    "## Sampling\n",
    "Comparing random sampling with stratified sampling.\n"
   ]
  },
  {
   "cell_type": "code",
   "execution_count": 2,
   "metadata": {},
   "outputs": [
    {
     "data": {
      "text/html": [
       "<table>\n",
       "<thead><tr><th></th><th scope=col>Sepal.Length</th><th scope=col>Sepal.Width</th><th scope=col>Petal.Length</th><th scope=col>Petal.Width</th><th scope=col>Species</th></tr></thead>\n",
       "<tbody>\n",
       "\t<tr><th scope=row>64</th><td>6.1       </td><td>2.9       </td><td>4.7       </td><td>1.4       </td><td>versicolor</td></tr>\n",
       "\t<tr><th scope=row>120</th><td>6.0       </td><td>2.2       </td><td>5.0       </td><td>1.5       </td><td>virginica </td></tr>\n",
       "\t<tr><th scope=row>147</th><td>6.3       </td><td>2.5       </td><td>5.0       </td><td>1.9       </td><td>virginica </td></tr>\n",
       "\t<tr><th scope=row>118</th><td>7.7       </td><td>3.8       </td><td>6.7       </td><td>2.2       </td><td>virginica </td></tr>\n",
       "\t<tr><th scope=row>66</th><td>6.7       </td><td>3.1       </td><td>4.4       </td><td>1.4       </td><td>versicolor</td></tr>\n",
       "\t<tr><th scope=row>3</th><td>4.7       </td><td>3.2       </td><td>1.3       </td><td>0.2       </td><td>setosa    </td></tr>\n",
       "</tbody>\n",
       "</table>\n"
      ],
      "text/latex": [
       "\\begin{tabular}{r|lllll}\n",
       "  & Sepal.Length & Sepal.Width & Petal.Length & Petal.Width & Species\\\\\n",
       "\\hline\n",
       "\t64 & 6.1        & 2.9        & 4.7        & 1.4        & versicolor\\\\\n",
       "\t120 & 6.0        & 2.2        & 5.0        & 1.5        & virginica \\\\\n",
       "\t147 & 6.3        & 2.5        & 5.0        & 1.9        & virginica \\\\\n",
       "\t118 & 7.7        & 3.8        & 6.7        & 2.2        & virginica \\\\\n",
       "\t66 & 6.7        & 3.1        & 4.4        & 1.4        & versicolor\\\\\n",
       "\t3 & 4.7        & 3.2        & 1.3        & 0.2        & setosa    \\\\\n",
       "\\end{tabular}\n"
      ],
      "text/markdown": [
       "\n",
       "| <!--/--> | Sepal.Length | Sepal.Width | Petal.Length | Petal.Width | Species |\n",
       "|---|---|---|---|---|---|\n",
       "| 64 | 6.1        | 2.9        | 4.7        | 1.4        | versicolor |\n",
       "| 120 | 6.0        | 2.2        | 5.0        | 1.5        | virginica  |\n",
       "| 147 | 6.3        | 2.5        | 5.0        | 1.9        | virginica  |\n",
       "| 118 | 7.7        | 3.8        | 6.7        | 2.2        | virginica  |\n",
       "| 66 | 6.7        | 3.1        | 4.4        | 1.4        | versicolor |\n",
       "| 3 | 4.7        | 3.2        | 1.3        | 0.2        | setosa     |\n",
       "\n"
      ],
      "text/plain": [
       "    Sepal.Length Sepal.Width Petal.Length Petal.Width Species   \n",
       "64  6.1          2.9         4.7          1.4         versicolor\n",
       "120 6.0          2.2         5.0          1.5         virginica \n",
       "147 6.3          2.5         5.0          1.9         virginica \n",
       "118 7.7          3.8         6.7          2.2         virginica \n",
       "66  6.7          3.1         4.4          1.4         versicolor\n",
       "3   4.7          3.2         1.3          0.2         setosa    "
      ]
     },
     "metadata": {},
     "output_type": "display_data"
    },
    {
     "data": {
      "text/html": [
       "<table>\n",
       "<thead><tr><th></th><th scope=col>setosa</th><th scope=col>versicolor</th><th scope=col>virginica</th></tr></thead>\n",
       "<tbody>\n",
       "\t<tr><th scope=row>dataset</th><td>50</td><td>50</td><td>50</td></tr>\n",
       "\t<tr><th scope=row>random sample</th><td>40</td><td>40</td><td>40</td></tr>\n",
       "\t<tr><th scope=row>stratified sample</th><td>40</td><td>40</td><td>40</td></tr>\n",
       "</tbody>\n",
       "</table>\n"
      ],
      "text/latex": [
       "\\begin{tabular}{r|lll}\n",
       "  & setosa & versicolor & virginica\\\\\n",
       "\\hline\n",
       "\tdataset & 50 & 50 & 50\\\\\n",
       "\trandom sample & 40 & 40 & 40\\\\\n",
       "\tstratified sample & 40 & 40 & 40\\\\\n",
       "\\end{tabular}\n"
      ],
      "text/markdown": [
       "\n",
       "| <!--/--> | setosa | versicolor | virginica |\n",
       "|---|---|---|---|\n",
       "| dataset | 50 | 50 | 50 |\n",
       "| random sample | 40 | 40 | 40 |\n",
       "| stratified sample | 40 | 40 | 40 |\n",
       "\n"
      ],
      "text/plain": [
       "                  setosa versicolor virginica\n",
       "dataset           50     50         50       \n",
       "random sample     40     40         40       \n",
       "stratified sample 40     40         40       "
      ]
     },
     "metadata": {},
     "output_type": "display_data"
    },
    {
     "data": {
      "text/html": [
       "<table>\n",
       "<thead><tr><th></th><th scope=col>setosa</th><th scope=col>versicolor</th><th scope=col>virginica</th></tr></thead>\n",
       "<tbody>\n",
       "\t<tr><th scope=row>random sample</th><td>10</td><td>10</td><td>10</td></tr>\n",
       "\t<tr><th scope=row>stratified sample</th><td>10</td><td>10</td><td>10</td></tr>\n",
       "</tbody>\n",
       "</table>\n"
      ],
      "text/latex": [
       "\\begin{tabular}{r|lll}\n",
       "  & setosa & versicolor & virginica\\\\\n",
       "\\hline\n",
       "\trandom sample & 10 & 10 & 10\\\\\n",
       "\tstratified sample & 10 & 10 & 10\\\\\n",
       "\\end{tabular}\n"
      ],
      "text/markdown": [
       "\n",
       "| <!--/--> | setosa | versicolor | virginica |\n",
       "|---|---|---|---|\n",
       "| random sample | 10 | 10 | 10 |\n",
       "| stratified sample | 10 | 10 | 10 |\n",
       "\n"
      ],
      "text/plain": [
       "                  setosa versicolor virginica\n",
       "random sample     10     10         10       \n",
       "stratified sample 10     10         10       "
      ]
     },
     "metadata": {},
     "output_type": "display_data"
    }
   ],
   "source": [
    "sampler <- sample.random(iris)\n",
    "head(sampler$sample)\n",
    "\n",
    "samples <- sample.stratified(iris, \"Species\")\n",
    "\n",
    "tbl <- rbind(table(iris$Species), table(sampler$sample$Species), table(samples$sample$Species))\n",
    "rownames(tbl) <- c(\"dataset\", \"random sample\", \"stratified sample\")\n",
    "head(tbl)\n",
    "\n",
    "tbl <- tbl[1,]-tbl\n",
    "\n",
    "tbl <- tbl[2:3,]\n",
    "\n",
    "head(tbl)"
   ]
  },
  {
   "cell_type": "markdown",
   "metadata": {},
   "source": [
    "## Sampling data into folds\n",
    "Sampling k-folds with random and stratified techniques. \n"
   ]
  },
  {
   "cell_type": "code",
   "execution_count": 3,
   "metadata": {},
   "outputs": [
    {
     "data": {
      "text/html": [
       "<table>\n",
       "<thead><tr><th></th><th scope=col>setosa</th><th scope=col>versicolor</th><th scope=col>virginica</th></tr></thead>\n",
       "<tbody>\n",
       "\t<tr><th scope=row>random sampling</th><td>17</td><td> 6</td><td>14</td></tr>\n",
       "\t<tr><th scope=row>random sampling</th><td>12</td><td>15</td><td>10</td></tr>\n",
       "\t<tr><th scope=row>random sampling</th><td>10</td><td>14</td><td>14</td></tr>\n",
       "\t<tr><th scope=row>random sampling</th><td>11</td><td>15</td><td>12</td></tr>\n",
       "</tbody>\n",
       "</table>\n"
      ],
      "text/latex": [
       "\\begin{tabular}{r|lll}\n",
       "  & setosa & versicolor & virginica\\\\\n",
       "\\hline\n",
       "\trandom sampling & 17 &  6 & 14\\\\\n",
       "\trandom sampling & 12 & 15 & 10\\\\\n",
       "\trandom sampling & 10 & 14 & 14\\\\\n",
       "\trandom sampling & 11 & 15 & 12\\\\\n",
       "\\end{tabular}\n"
      ],
      "text/markdown": [
       "\n",
       "| <!--/--> | setosa | versicolor | virginica |\n",
       "|---|---|---|---|\n",
       "| random sampling | 17 |  6 | 14 |\n",
       "| random sampling | 12 | 15 | 10 |\n",
       "| random sampling | 10 | 14 | 14 |\n",
       "| random sampling | 11 | 15 | 12 |\n",
       "\n"
      ],
      "text/plain": [
       "                setosa versicolor virginica\n",
       "random sampling 17      6         14       \n",
       "random sampling 12     15         10       \n",
       "random sampling 10     14         14       \n",
       "random sampling 11     15         12       "
      ]
     },
     "metadata": {},
     "output_type": "display_data"
    },
    {
     "data": {
      "text/html": [
       "<table>\n",
       "<thead><tr><th></th><th scope=col>setosa</th><th scope=col>versicolor</th><th scope=col>virginica</th></tr></thead>\n",
       "<tbody>\n",
       "\t<tr><th scope=row>stratified sampling</th><td>13</td><td>13</td><td>13</td></tr>\n",
       "\t<tr><th scope=row>stratified sampling</th><td>13</td><td>13</td><td>13</td></tr>\n",
       "\t<tr><th scope=row>stratified sampling</th><td>12</td><td>12</td><td>12</td></tr>\n",
       "\t<tr><th scope=row>stratified sampling</th><td>12</td><td>12</td><td>12</td></tr>\n",
       "</tbody>\n",
       "</table>\n"
      ],
      "text/latex": [
       "\\begin{tabular}{r|lll}\n",
       "  & setosa & versicolor & virginica\\\\\n",
       "\\hline\n",
       "\tstratified sampling & 13 & 13 & 13\\\\\n",
       "\tstratified sampling & 13 & 13 & 13\\\\\n",
       "\tstratified sampling & 12 & 12 & 12\\\\\n",
       "\tstratified sampling & 12 & 12 & 12\\\\\n",
       "\\end{tabular}\n"
      ],
      "text/markdown": [
       "\n",
       "| <!--/--> | setosa | versicolor | virginica |\n",
       "|---|---|---|---|\n",
       "| stratified sampling | 13 | 13 | 13 |\n",
       "| stratified sampling | 13 | 13 | 13 |\n",
       "| stratified sampling | 12 | 12 | 12 |\n",
       "| stratified sampling | 12 | 12 | 12 |\n",
       "\n"
      ],
      "text/plain": [
       "                    setosa versicolor virginica\n",
       "stratified sampling 13     13         13       \n",
       "stratified sampling 13     13         13       \n",
       "stratified sampling 12     12         12       \n",
       "stratified sampling 12     12         12       "
      ]
     },
     "metadata": {},
     "output_type": "display_data"
    }
   ],
   "source": [
    "foldsr <- sample.random_kfold(iris, k=4)\n",
    "foldss <- sample.stratified_kfold(iris, \"Species\", k=4)\n",
    "\n",
    "tbls <- tblr <- NULL\n",
    "for (i in (1:4)) {\n",
    "    tblr <- rbind(tblr, table(foldsr[[i]]$Species))\n",
    "}\n",
    "rownames(tblr) <- rep(\"random sampling\", 4)\n",
    "head(tblr)\n",
    "\n",
    "for (i in (1:4)) {\n",
    "    tbls <- rbind(tbls, table(foldss[[i]]$Species))\n",
    "}\n",
    "rownames(tbls) <- rep(\"stratified sampling\", 4)\n",
    "head(tbls)\n"
   ]
  },
  {
   "cell_type": "markdown",
   "metadata": {},
   "source": [
    "## Outlier analysis\n",
    "Using box-plot an outlier is a value that is below than $Q_1 - 1.5 \\cdot IQR$ or higher than $Q_3 + 1.5 \\cdot IQR$ "
   ]
  },
  {
   "cell_type": "code",
   "execution_count": 4,
   "metadata": {},
   "outputs": [
    {
     "data": {
      "text/html": [
       "<table>\n",
       "<thead><tr><th></th><th scope=col>Sepal.Length</th><th scope=col>Sepal.Width</th><th scope=col>Petal.Length</th><th scope=col>Petal.Width</th><th scope=col>Species</th></tr></thead>\n",
       "<tbody>\n",
       "\t<tr><th scope=row>16</th><td>5.7       </td><td>4.4       </td><td>1.5       </td><td>0.4       </td><td>setosa    </td></tr>\n",
       "\t<tr><th scope=row>33</th><td>5.2       </td><td>4.1       </td><td>1.5       </td><td>0.1       </td><td>setosa    </td></tr>\n",
       "\t<tr><th scope=row>34</th><td>5.5       </td><td>4.2       </td><td>1.4       </td><td>0.2       </td><td>setosa    </td></tr>\n",
       "\t<tr><th scope=row>61</th><td>5.0       </td><td>2.0       </td><td>3.5       </td><td>1.0       </td><td>versicolor</td></tr>\n",
       "</tbody>\n",
       "</table>\n"
      ],
      "text/latex": [
       "\\begin{tabular}{r|lllll}\n",
       "  & Sepal.Length & Sepal.Width & Petal.Length & Petal.Width & Species\\\\\n",
       "\\hline\n",
       "\t16 & 5.7        & 4.4        & 1.5        & 0.4        & setosa    \\\\\n",
       "\t33 & 5.2        & 4.1        & 1.5        & 0.1        & setosa    \\\\\n",
       "\t34 & 5.5        & 4.2        & 1.4        & 0.2        & setosa    \\\\\n",
       "\t61 & 5.0        & 2.0        & 3.5        & 1.0        & versicolor\\\\\n",
       "\\end{tabular}\n"
      ],
      "text/markdown": [
       "\n",
       "| <!--/--> | Sepal.Length | Sepal.Width | Petal.Length | Petal.Width | Species |\n",
       "|---|---|---|---|---|---|\n",
       "| 16 | 5.7        | 4.4        | 1.5        | 0.4        | setosa     |\n",
       "| 33 | 5.2        | 4.1        | 1.5        | 0.1        | setosa     |\n",
       "| 34 | 5.5        | 4.2        | 1.4        | 0.2        | setosa     |\n",
       "| 61 | 5.0        | 2.0        | 3.5        | 1.0        | versicolor |\n",
       "\n"
      ],
      "text/plain": [
       "   Sepal.Length Sepal.Width Petal.Length Petal.Width Species   \n",
       "16 5.7          4.4         1.5          0.4         setosa    \n",
       "33 5.2          4.1         1.5          0.1         setosa    \n",
       "34 5.5          4.2         1.4          0.2         setosa    \n",
       "61 5.0          2.0         3.5          1.0         versicolor"
      ]
     },
     "metadata": {},
     "output_type": "display_data"
    }
   ],
   "source": [
    "out <- outliers.boxplot(iris)\n",
    "myiris <- iris[!out,]\n",
    "head(iris[out,])"
   ]
  },
  {
   "cell_type": "markdown",
   "metadata": {},
   "source": [
    "## Normalization\n",
    "\n",
    "Normalization is a technique used to equal strength among variables. \n",
    "\n",
    "It is also important to apply it as an input for some machine learning methods. \n",
    "\n",
    "Min-Max: Adjust to 0 (minimum value) - 1 (maximum value).\n",
    "\n",
    "Z-Score: Adjust to 0 (mean), 1 (variance)."
   ]
  },
  {
   "cell_type": "code",
   "execution_count": 5,
   "metadata": {},
   "outputs": [
    {
     "name": "stderr",
     "output_type": "stream",
     "text": [
      "Warning message:\n",
      "\"Removed 1 rows containing non-finite values (stat_density).\""
     ]
    },
    {
     "data": {
      "image/png": "[encoded data removed]",
      "text/plain": [
       "plot without title"
      ]
     },
     "metadata": {},
     "output_type": "display_data"
    }
   ],
   "source": [
    "myirisM <- normalize.minmax(iris)\n",
    "\n",
    "myirisZ <- normalize.zscore(iris)\n",
    "\n",
    "myirisZS <- normalize.zscore(iris, nmean=0.5, nsd=0.5/2.698)\n",
    "\n",
    "\n",
    "grfA <- plot.density(iris %>% select(variable=\"Sepal.Width\", value=Sepal.Width), color=mycolors[1]) \n",
    "grfB <- plot.density(myirisM$data %>% select(variable=\"Sepal.Width\", value=Sepal.Width), color=mycolors[1]) + xlim(0,1)\n",
    "grfC <- plot.density(myirisZ$data %>% select(variable=\"Sepal.Width\", value=Sepal.Width), color=mycolors[1]) \n",
    "grfD <- plot.density(myirisZS$data %>% select(variable=\"Sepal.Width\", value=Sepal.Width), color=mycolors[1]) + xlim(0,1)\n",
    "\n",
    "plot_size(8, 3)\n",
    "grid.arrange(grfA, grfB, grfC, grfD, ncol=4)\n",
    "plot_size(4, 3)"
   ]
  },
  {
   "cell_type": "markdown",
   "metadata": {},
   "source": [
    "## PCA\n",
    "PCA is a technique that finds a projection that captures the largest amount of variation in data."
   ]
  },
  {
   "cell_type": "code",
   "execution_count": 6,
   "metadata": {},
   "outputs": [
    {
     "data": {
      "text/html": [
       "<table>\n",
       "<thead><tr><th scope=col>Sepal.Length</th><th scope=col>Sepal.Width</th><th scope=col>Petal.Length</th><th scope=col>Petal.Width</th></tr></thead>\n",
       "<tbody>\n",
       "\t<tr><td>5.1</td><td>3.5</td><td>1.4</td><td>0.2</td></tr>\n",
       "\t<tr><td>4.9</td><td>3.0</td><td>1.4</td><td>0.2</td></tr>\n",
       "\t<tr><td>4.7</td><td>3.2</td><td>1.3</td><td>0.2</td></tr>\n",
       "\t<tr><td>4.6</td><td>3.1</td><td>1.5</td><td>0.2</td></tr>\n",
       "\t<tr><td>5.0</td><td>3.6</td><td>1.4</td><td>0.2</td></tr>\n",
       "\t<tr><td>5.4</td><td>3.9</td><td>1.7</td><td>0.4</td></tr>\n",
       "</tbody>\n",
       "</table>\n"
      ],
      "text/latex": [
       "\\begin{tabular}{r|llll}\n",
       " Sepal.Length & Sepal.Width & Petal.Length & Petal.Width\\\\\n",
       "\\hline\n",
       "\t 5.1 & 3.5 & 1.4 & 0.2\\\\\n",
       "\t 4.9 & 3.0 & 1.4 & 0.2\\\\\n",
       "\t 4.7 & 3.2 & 1.3 & 0.2\\\\\n",
       "\t 4.6 & 3.1 & 1.5 & 0.2\\\\\n",
       "\t 5.0 & 3.6 & 1.4 & 0.2\\\\\n",
       "\t 5.4 & 3.9 & 1.7 & 0.4\\\\\n",
       "\\end{tabular}\n"
      ],
      "text/markdown": [
       "\n",
       "| Sepal.Length | Sepal.Width | Petal.Length | Petal.Width |\n",
       "|---|---|---|---|\n",
       "| 5.1 | 3.5 | 1.4 | 0.2 |\n",
       "| 4.9 | 3.0 | 1.4 | 0.2 |\n",
       "| 4.7 | 3.2 | 1.3 | 0.2 |\n",
       "| 4.6 | 3.1 | 1.5 | 0.2 |\n",
       "| 5.0 | 3.6 | 1.4 | 0.2 |\n",
       "| 5.4 | 3.9 | 1.7 | 0.4 |\n",
       "\n"
      ],
      "text/plain": [
       "  Sepal.Length Sepal.Width Petal.Length Petal.Width\n",
       "1 5.1          3.5         1.4          0.2        \n",
       "2 4.9          3.0         1.4          0.2        \n",
       "3 4.7          3.2         1.3          0.2        \n",
       "4 4.6          3.1         1.5          0.2        \n",
       "5 5.0          3.6         1.4          0.2        \n",
       "6 5.4          3.9         1.7          0.4        "
      ]
     },
     "metadata": {},
     "output_type": "display_data"
    },
    {
     "data": {
      "text/html": [
       "<table>\n",
       "<thead><tr><th scope=col>PC1</th><th scope=col>PC2</th><th scope=col>Species</th></tr></thead>\n",
       "<tbody>\n",
       "\t<tr><td>2.640270 </td><td>-5.204041</td><td>setosa   </td></tr>\n",
       "\t<tr><td>2.670730 </td><td>-4.666910</td><td>setosa   </td></tr>\n",
       "\t<tr><td>2.454606 </td><td>-4.773636</td><td>setosa   </td></tr>\n",
       "\t<tr><td>2.545517 </td><td>-4.648463</td><td>setosa   </td></tr>\n",
       "\t<tr><td>2.561228 </td><td>-5.258629</td><td>setosa   </td></tr>\n",
       "\t<tr><td>2.975946 </td><td>-5.707321</td><td>setosa   </td></tr>\n",
       "</tbody>\n",
       "</table>\n"
      ],
      "text/latex": [
       "\\begin{tabular}{r|lll}\n",
       " PC1 & PC2 & Species\\\\\n",
       "\\hline\n",
       "\t 2.640270  & -5.204041 & setosa   \\\\\n",
       "\t 2.670730  & -4.666910 & setosa   \\\\\n",
       "\t 2.454606  & -4.773636 & setosa   \\\\\n",
       "\t 2.545517  & -4.648463 & setosa   \\\\\n",
       "\t 2.561228  & -5.258629 & setosa   \\\\\n",
       "\t 2.975946  & -5.707321 & setosa   \\\\\n",
       "\\end{tabular}\n"
      ],
      "text/markdown": [
       "\n",
       "| PC1 | PC2 | Species |\n",
       "|---|---|---|\n",
       "| 2.640270  | -5.204041 | setosa    |\n",
       "| 2.670730  | -4.666910 | setosa    |\n",
       "| 2.454606  | -4.773636 | setosa    |\n",
       "| 2.545517  | -4.648463 | setosa    |\n",
       "| 2.561228  | -5.258629 | setosa    |\n",
       "| 2.975946  | -5.707321 | setosa    |\n",
       "\n"
      ],
      "text/plain": [
       "  PC1      PC2       Species\n",
       "1 2.640270 -5.204041 setosa \n",
       "2 2.670730 -4.666910 setosa \n",
       "3 2.454606 -4.773636 setosa \n",
       "4 2.545517 -4.648463 setosa \n",
       "5 2.561228 -5.258629 setosa \n",
       "6 2.975946 -5.707321 setosa "
      ]
     },
     "metadata": {},
     "output_type": "display_data"
    },
    {
     "data": {
      "text/html": [
       "<table>\n",
       "<thead><tr><th></th><th scope=col>PC1</th><th scope=col>PC2</th></tr></thead>\n",
       "<tbody>\n",
       "\t<tr><th scope=row>Sepal.Length</th><td> 0.5210659 </td><td>-0.37741762</td></tr>\n",
       "\t<tr><th scope=row>Sepal.Width</th><td>-0.2693474 </td><td>-0.92329566</td></tr>\n",
       "\t<tr><th scope=row>Petal.Length</th><td> 0.5804131 </td><td>-0.02449161</td></tr>\n",
       "\t<tr><th scope=row>Petal.Width</th><td> 0.5648565 </td><td>-0.06694199</td></tr>\n",
       "</tbody>\n",
       "</table>\n"
      ],
      "text/latex": [
       "\\begin{tabular}{r|ll}\n",
       "  & PC1 & PC2\\\\\n",
       "\\hline\n",
       "\tSepal.Length &  0.5210659  & -0.37741762\\\\\n",
       "\tSepal.Width & -0.2693474  & -0.92329566\\\\\n",
       "\tPetal.Length &  0.5804131  & -0.02449161\\\\\n",
       "\tPetal.Width &  0.5648565  & -0.06694199\\\\\n",
       "\\end{tabular}\n"
      ],
      "text/markdown": [
       "\n",
       "| <!--/--> | PC1 | PC2 |\n",
       "|---|---|---|\n",
       "| Sepal.Length |  0.5210659  | -0.37741762 |\n",
       "| Sepal.Width | -0.2693474  | -0.92329566 |\n",
       "| Petal.Length |  0.5804131  | -0.02449161 |\n",
       "| Petal.Width |  0.5648565  | -0.06694199 |\n",
       "\n"
      ],
      "text/plain": [
       "             PC1        PC2        \n",
       "Sepal.Length  0.5210659 -0.37741762\n",
       "Sepal.Width  -0.2693474 -0.92329566\n",
       "Petal.Length  0.5804131 -0.02449161\n",
       "Petal.Width   0.5648565 -0.06694199"
      ]
     },
     "metadata": {},
     "output_type": "display_data"
    },
    {
     "data": {
      "image/png": "[encoded data removed]",
      "text/plain": [
       "plot without title"
      ]
     },
     "metadata": {},
     "output_type": "display_data"
    }
   ],
   "source": [
    "head(iris[,1:4])\n",
    "\n",
    "mypca <- dt.pca(iris, \"Species\")\n",
    "head(mypca$pca)\n",
    "\n",
    "head(mypca$transf$pca.transf)\n",
    "\n",
    "plot.scatter(mypca$pca %>% select(x=PC1, value=PC2, variable=Species), colors=mycolors[1:3])"
   ]
  },
  {
   "cell_type": "markdown",
   "metadata": {},
   "source": [
    "## Discretization & smoothing\n",
    "Discretization is the process of transferring continuous functions, models, variables, and equations into discrete counterparts. \n",
    "\n",
    "Smoothing is a technique that creates an approximating function that attempts to capture important patterns in the data while leaving out noise or other fine-scale structures/rapid phenomena.\n",
    "\n",
    "An important part of the discretization/smoothing is to set up bins for proceeding the approximation."
   ]
  },
  {
   "cell_type": "code",
   "execution_count": 7,
   "metadata": {},
   "outputs": [
    {
     "data": {
      "text/html": [
       "<table>\n",
       "<tbody>\n",
       "\t<tr><td>interval: </td><td>4.3       </td><td>6.1       </td><td>7.9       </td><td>entropy:  </td><td>1.19      </td></tr>\n",
       "</tbody>\n",
       "</table>\n"
      ],
      "text/latex": [
       "\\begin{tabular}{r|llllll}\n",
       "\t interval:  & 4.3        & 6.1        & 7.9        & entropy:   & 1.19      \\\\\n",
       "\\end{tabular}\n"
      ],
      "text/markdown": [
       "\n",
       "| interval:  | 4.3        | 6.1        | 7.9        | entropy:   | 1.19       |\n",
       "\n"
      ],
      "text/plain": [
       "  [,1]       [,2] [,3] [,4] [,5]      [,6]\n",
       "1 interval:  4.3  6.1  7.9  entropy:  1.19"
      ]
     },
     "metadata": {},
     "output_type": "display_data"
    },
    {
     "data": {
      "text/html": [
       "<table>\n",
       "<tbody>\n",
       "\t<tr><td>freq:    </td><td>4.3      </td><td>5.8      </td><td>7.9      </td><td>entropy: </td><td>1.10     </td></tr>\n",
       "</tbody>\n",
       "</table>\n"
      ],
      "text/latex": [
       "\\begin{tabular}{r|llllll}\n",
       "\t freq:     & 4.3       & 5.8       & 7.9       & entropy:  & 1.10     \\\\\n",
       "\\end{tabular}\n"
      ],
      "text/markdown": [
       "\n",
       "| freq:     | 4.3       | 5.8       | 7.9       | entropy:  | 1.10      |\n",
       "\n"
      ],
      "text/plain": [
       "  [,1]   [,2] [,3] [,4] [,5]      [,6]\n",
       "1 freq:  4.3  5.8  7.9  entropy:  1.10"
      ]
     },
     "metadata": {},
     "output_type": "display_data"
    },
    {
     "data": {
      "text/html": [
       "<table>\n",
       "<tbody>\n",
       "\t<tr><td>cluster: </td><td>4.3      </td><td>5.9      </td><td>7.9      </td><td>entropy: </td><td>1.10     </td></tr>\n",
       "</tbody>\n",
       "</table>\n"
      ],
      "text/latex": [
       "\\begin{tabular}{r|llllll}\n",
       "\t cluster:  & 4.3       & 5.9       & 7.9       & entropy:  & 1.10     \\\\\n",
       "\\end{tabular}\n"
      ],
      "text/markdown": [
       "\n",
       "| cluster:  | 4.3       | 5.9       | 7.9       | entropy:  | 1.10      |\n",
       "\n"
      ],
      "text/plain": [
       "  [,1]      [,2] [,3] [,4] [,5]      [,6]\n",
       "1 cluster:  4.3  5.9  7.9  entropy:  1.10"
      ]
     },
     "metadata": {},
     "output_type": "display_data"
    }
   ],
   "source": [
    "bi <- binning.interval(iris$Sepal.Length, n=2)\n",
    "bf <- binning.freq(iris$Sepal.Length, n=2)\n",
    "bc <- binning.cluster(iris$Sepal.Length, n=2)\n",
    "\n",
    "show_row(c('interval: ', sprintf(\"%.1f\",bi$interval), 'entropy: ', sprintf(\"%.2f\",entropy_group(bi$bins_factor, iris$Species))))\n",
    "show_row(c('freq: ', sprintf(\"%.1f\",bf$interval), 'entropy: ', sprintf(\"%.2f\",entropy_group(bf$bins_factor, iris$Species))))\n",
    "show_row(c('cluster: ', sprintf(\"%.1f\",bc$interval), 'entropy: ', sprintf(\"%.2f\",entropy_group(bc$bins_factor, iris$Species))))"
   ]
  },
  {
   "cell_type": "markdown",
   "metadata": {},
   "source": [
    "## Optimizing the binning by frequency"
   ]
  },
  {
   "cell_type": "code",
   "execution_count": 8,
   "metadata": {},
   "outputs": [
    {
     "data": {
      "text/html": [
       "<table>\n",
       "<tbody>\n",
       "\t<tr><td>Sepal.Length: </td><td>4.3           </td><td>5.0           </td><td>5.4           </td><td>5.8           </td><td>6.3           </td><td>6.7           </td><td>7.9           </td><td>entropy:      </td><td>0.87          </td></tr>\n",
       "</tbody>\n",
       "</table>\n"
      ],
      "text/latex": [
       "\\begin{tabular}{r|llllllllll}\n",
       "\t Sepal.Length:  & 4.3            & 5.0            & 5.4            & 5.8            & 6.3            & 6.7            & 7.9            & entropy:       & 0.87          \\\\\n",
       "\\end{tabular}\n"
      ],
      "text/markdown": [
       "\n",
       "| Sepal.Length:  | 4.3            | 5.0            | 5.4            | 5.8            | 6.3            | 6.7            | 7.9            | entropy:       | 0.87           |\n",
       "\n"
      ],
      "text/plain": [
       "  [,1]           [,2] [,3] [,4] [,5] [,6] [,7] [,8] [,9]      [,10]\n",
       "1 Sepal.Length:  4.3  5.0  5.4  5.8  6.3  6.7  7.9  entropy:  0.87 "
      ]
     },
     "metadata": {},
     "output_type": "display_data"
    },
    {
     "data": {
      "text/html": [
       "<table>\n",
       "<tbody>\n",
       "\t<tr><td>Sepal.Width: </td><td>2.0          </td><td>2.7          </td><td>2.9          </td><td>3.0          </td><td>3.2          </td><td>3.4          </td><td>4.4          </td><td>entropy:     </td><td>1.19         </td></tr>\n",
       "</tbody>\n",
       "</table>\n"
      ],
      "text/latex": [
       "\\begin{tabular}{r|llllllllll}\n",
       "\t Sepal.Width:  & 2.0           & 2.7           & 2.9           & 3.0           & 3.2           & 3.4           & 4.4           & entropy:      & 1.19         \\\\\n",
       "\\end{tabular}\n"
      ],
      "text/markdown": [
       "\n",
       "| Sepal.Width:  | 2.0           | 2.7           | 2.9           | 3.0           | 3.2           | 3.4           | 4.4           | entropy:      | 1.19          |\n",
       "\n"
      ],
      "text/plain": [
       "  [,1]          [,2] [,3] [,4] [,5] [,6] [,7] [,8] [,9]      [,10]\n",
       "1 Sepal.Width:  2.0  2.7  2.9  3.0  3.2  3.4  4.4  entropy:  1.19 "
      ]
     },
     "metadata": {},
     "output_type": "display_data"
    },
    {
     "data": {
      "text/html": [
       "<table>\n",
       "<tbody>\n",
       "\t<tr><td>Petal.Length: </td><td>1.0           </td><td>1.5           </td><td>3.9           </td><td>4.6           </td><td>5.3           </td><td>6.9           </td><td>entropy:      </td><td>0.39          </td></tr>\n",
       "</tbody>\n",
       "</table>\n"
      ],
      "text/latex": [
       "\\begin{tabular}{r|lllllllll}\n",
       "\t Petal.Length:  & 1.0            & 1.5            & 3.9            & 4.6            & 5.3            & 6.9            & entropy:       & 0.39          \\\\\n",
       "\\end{tabular}\n"
      ],
      "text/markdown": [
       "\n",
       "| Petal.Length:  | 1.0            | 1.5            | 3.9            | 4.6            | 5.3            | 6.9            | entropy:       | 0.39           |\n",
       "\n"
      ],
      "text/plain": [
       "  [,1]           [,2] [,3] [,4] [,5] [,6] [,7] [,8]      [,9]\n",
       "1 Petal.Length:  1.0  1.5  3.9  4.6  5.3  6.9  entropy:  0.39"
      ]
     },
     "metadata": {},
     "output_type": "display_data"
    },
    {
     "data": {
      "text/html": [
       "<table>\n",
       "<tbody>\n",
       "\t<tr><td>Petal.Width: </td><td>0.1          </td><td>0.2          </td><td>1.2          </td><td>1.5          </td><td>1.9          </td><td>2.5          </td><td>entropy:     </td><td>0.38         </td></tr>\n",
       "</tbody>\n",
       "</table>\n"
      ],
      "text/latex": [
       "\\begin{tabular}{r|lllllllll}\n",
       "\t Petal.Width:  & 0.1           & 0.2           & 1.2           & 1.5           & 1.9           & 2.5           & entropy:      & 0.38         \\\\\n",
       "\\end{tabular}\n"
      ],
      "text/markdown": [
       "\n",
       "| Petal.Width:  | 0.1           | 0.2           | 1.2           | 1.5           | 1.9           | 2.5           | entropy:      | 0.38          |\n",
       "\n"
      ],
      "text/plain": [
       "  [,1]          [,2] [,3] [,4] [,5] [,6] [,7] [,8]      [,9]\n",
       "1 Petal.Width:  0.1  0.2  1.2  1.5  1.9  2.5  entropy:  0.38"
      ]
     },
     "metadata": {},
     "output_type": "display_data"
    }
   ],
   "source": [
    "bsl <- binning.opt(iris$Sepal.Length, binning=binning.freq)\n",
    "bsw <- binning.opt(iris$Sepal.Width, binning=binning.freq)\n",
    "bpl <- binning.opt(iris$Petal.Length, binning=binning.freq)\n",
    "bpw <- binning.opt(iris$Petal.Width, binning=binning.freq)\n",
    "\n",
    "\n",
    "show_row(c('Sepal.Length: ', sprintf(\"%.1f\",bsl$interval), 'entropy: ', sprintf(\"%.2f\",entropy_group(bsl$bins_factor, iris$Species))))\n",
    "show_row(c('Sepal.Width: ', sprintf(\"%.1f\",bsw$interval), 'entropy: ', sprintf(\"%.2f\",entropy_group(bsw$bins_factor, iris$Species))))\n",
    "show_row(c('Petal.Length: ', sprintf(\"%.1f\",bpl$interval), 'entropy: ', sprintf(\"%.2f\",entropy_group(bpl$bins_factor, iris$Species))))\n",
    "show_row(c('Petal.Width: ', sprintf(\"%.1f\",bpw$interval), 'entropy: ', sprintf(\"%.2f\",entropy_group(bpw$bins_factor, iris$Species))))"
   ]
  },
  {
   "cell_type": "markdown",
   "metadata": {},
   "source": [
    "## Optimizing the binning by cluster"
   ]
  },
  {
   "cell_type": "code",
   "execution_count": 9,
   "metadata": {},
   "outputs": [
    {
     "data": {
      "text/html": [
       "<table>\n",
       "<tbody>\n",
       "\t<tr><td>Sepal.Length: </td><td>4.3           </td><td>4.8           </td><td>5.3           </td><td>5.8           </td><td>6.3           </td><td>7.0           </td><td>7.9           </td><td>entropy:      </td><td>0.86          </td></tr>\n",
       "</tbody>\n",
       "</table>\n"
      ],
      "text/latex": [
       "\\begin{tabular}{r|llllllllll}\n",
       "\t Sepal.Length:  & 4.3            & 4.8            & 5.3            & 5.8            & 6.3            & 7.0            & 7.9            & entropy:       & 0.86          \\\\\n",
       "\\end{tabular}\n"
      ],
      "text/markdown": [
       "\n",
       "| Sepal.Length:  | 4.3            | 4.8            | 5.3            | 5.8            | 6.3            | 7.0            | 7.9            | entropy:       | 0.86           |\n",
       "\n"
      ],
      "text/plain": [
       "  [,1]           [,2] [,3] [,4] [,5] [,6] [,7] [,8] [,9]      [,10]\n",
       "1 Sepal.Length:  4.3  4.8  5.3  5.8  6.3  7.0  7.9  entropy:  0.86 "
      ]
     },
     "metadata": {},
     "output_type": "display_data"
    },
    {
     "data": {
      "text/html": [
       "<table>\n",
       "<tbody>\n",
       "\t<tr><td>Sepal.Width: </td><td>2.0          </td><td>2.4          </td><td>2.8          </td><td>3.1          </td><td>3.5          </td><td>4.0          </td><td>4.4          </td><td>entropy:     </td><td>1.22         </td></tr>\n",
       "</tbody>\n",
       "</table>\n"
      ],
      "text/latex": [
       "\\begin{tabular}{r|llllllllll}\n",
       "\t Sepal.Width:  & 2.0           & 2.4           & 2.8           & 3.1           & 3.5           & 4.0           & 4.4           & entropy:      & 1.22         \\\\\n",
       "\\end{tabular}\n"
      ],
      "text/markdown": [
       "\n",
       "| Sepal.Width:  | 2.0           | 2.4           | 2.8           | 3.1           | 3.5           | 4.0           | 4.4           | entropy:      | 1.22          |\n",
       "\n"
      ],
      "text/plain": [
       "  [,1]          [,2] [,3] [,4] [,5] [,6] [,7] [,8] [,9]      [,10]\n",
       "1 Sepal.Width:  2.0  2.4  2.8  3.1  3.5  4.0  4.4  entropy:  1.22 "
      ]
     },
     "metadata": {},
     "output_type": "display_data"
    },
    {
     "data": {
      "text/html": [
       "<table>\n",
       "<tbody>\n",
       "\t<tr><td>Petal.Length: </td><td>1.0           </td><td>1.5           </td><td>2.9           </td><td>4.6           </td><td>5.6           </td><td>6.9           </td><td>entropy:      </td><td>0.27          </td></tr>\n",
       "</tbody>\n",
       "</table>\n"
      ],
      "text/latex": [
       "\\begin{tabular}{r|lllllllll}\n",
       "\t Petal.Length:  & 1.0            & 1.5            & 2.9            & 4.6            & 5.6            & 6.9            & entropy:       & 0.27          \\\\\n",
       "\\end{tabular}\n"
      ],
      "text/markdown": [
       "\n",
       "| Petal.Length:  | 1.0            | 1.5            | 2.9            | 4.6            | 5.6            | 6.9            | entropy:       | 0.27           |\n",
       "\n"
      ],
      "text/plain": [
       "  [,1]           [,2] [,3] [,4] [,5] [,6] [,7] [,8]      [,9]\n",
       "1 Petal.Length:  1.0  1.5  2.9  4.6  5.6  6.9  entropy:  0.27"
      ]
     },
     "metadata": {},
     "output_type": "display_data"
    },
    {
     "data": {
      "text/html": [
       "<table>\n",
       "<tbody>\n",
       "\t<tr><td>Petal.Width: </td><td>0.1          </td><td>0.8          </td><td>1.5          </td><td>1.9          </td><td>2.2          </td><td>2.5          </td><td>entropy:     </td><td>0.22         </td></tr>\n",
       "</tbody>\n",
       "</table>\n"
      ],
      "text/latex": [
       "\\begin{tabular}{r|lllllllll}\n",
       "\t Petal.Width:  & 0.1           & 0.8           & 1.5           & 1.9           & 2.2           & 2.5           & entropy:      & 0.22         \\\\\n",
       "\\end{tabular}\n"
      ],
      "text/markdown": [
       "\n",
       "| Petal.Width:  | 0.1           | 0.8           | 1.5           | 1.9           | 2.2           | 2.5           | entropy:      | 0.22          |\n",
       "\n"
      ],
      "text/plain": [
       "  [,1]          [,2] [,3] [,4] [,5] [,6] [,7] [,8]      [,9]\n",
       "1 Petal.Width:  0.1  0.8  1.5  1.9  2.2  2.5  entropy:  0.22"
      ]
     },
     "metadata": {},
     "output_type": "display_data"
    }
   ],
   "source": [
    "bsl <- binning.opt(iris$Sepal.Length, binning=binning.cluster)\n",
    "bsw <- binning.opt(iris$Sepal.Width, binning=binning.cluster)\n",
    "bpl <- binning.opt(iris$Petal.Length, binning=binning.cluster)\n",
    "bpw <- binning.opt(iris$Petal.Width, binning=binning.cluster)\n",
    "\n",
    "\n",
    "show_row(c('Sepal.Length: ', sprintf(\"%.1f\",bsl$interval), 'entropy: ', sprintf(\"%.2f\",entropy_group(bsl$bins_factor, iris$Species))))\n",
    "show_row(c('Sepal.Width: ', sprintf(\"%.1f\",bsw$interval), 'entropy: ', sprintf(\"%.2f\",entropy_group(bsw$bins_factor, iris$Species))))\n",
    "show_row(c('Petal.Length: ', sprintf(\"%.1f\",bpl$interval), 'entropy: ', sprintf(\"%.2f\",entropy_group(bpl$bins_factor, iris$Species))))\n",
    "show_row(c('Petal.Width: ', sprintf(\"%.1f\",bpw$interval), 'entropy: ', sprintf(\"%.2f\",entropy_group(bpw$bins_factor, iris$Species))))"
   ]
  },
  {
   "cell_type": "markdown",
   "metadata": {},
   "source": [
    "## Balancing datasets\n",
    "\n",
    "The first line artificially unbalances the dataset. \n",
    "\n",
    "Oversampling and subsampling are used to correct the unbalanced dataset. "
   ]
  },
  {
   "cell_type": "code",
   "execution_count": 10,
   "metadata": {},
   "outputs": [
    {
     "data": {
      "text/html": [
       "<table>\n",
       "<thead><tr><th></th><th scope=col>setosa</th><th scope=col>versicolor</th><th scope=col>virginica</th></tr></thead>\n",
       "<tbody>\n",
       "\t<tr><th scope=row>unbalanced</th><td>20</td><td>50</td><td>11</td></tr>\n",
       "\t<tr><th scope=row>oversampling</th><td>50</td><td>50</td><td>50</td></tr>\n",
       "\t<tr><th scope=row>subsampling</th><td>11</td><td>11</td><td>11</td></tr>\n",
       "</tbody>\n",
       "</table>\n"
      ],
      "text/latex": [
       "\\begin{tabular}{r|lll}\n",
       "  & setosa & versicolor & virginica\\\\\n",
       "\\hline\n",
       "\tunbalanced & 20 & 50 & 11\\\\\n",
       "\toversampling & 50 & 50 & 50\\\\\n",
       "\tsubsampling & 11 & 11 & 11\\\\\n",
       "\\end{tabular}\n"
      ],
      "text/markdown": [
       "\n",
       "| <!--/--> | setosa | versicolor | virginica |\n",
       "|---|---|---|---|\n",
       "| unbalanced | 20 | 50 | 11 |\n",
       "| oversampling | 50 | 50 | 50 |\n",
       "| subsampling | 11 | 11 | 11 |\n",
       "\n"
      ],
      "text/plain": [
       "             setosa versicolor virginica\n",
       "unbalanced   20     50         11       \n",
       "oversampling 50     50         50       \n",
       "subsampling  11     11         11       "
      ]
     },
     "metadata": {},
     "output_type": "display_data"
    }
   ],
   "source": [
    "#forçando um desbalançeamento\n",
    "myiris <- iris[c(1:20,51:100, 110:120),]\n",
    "myiris.bo <- balance.oversampling(myiris, \"Species\")\n",
    "myiris.bs <- balance.subsampling(myiris, \"Species\")\n",
    "tbl <- rbind(table(myiris$Species), table(myiris.bo$Species), table(myiris.bs$Species))\n",
    "rownames(tbl) <- c('unbalanced', 'oversampling', 'subsampling')\n",
    "head(tbl)"
   ]
  },
  {
   "cell_type": "markdown",
   "metadata": {},
   "source": [
    "## Categorical mapping\n",
    "A categorical attribute with $n$ distinct values is mapped into $n$ binary attributes. \n",
    "\n",
    "It is also possible to map into $n-1$ binary values, where the scenario where all binary attributes are equal to zero corresponds to the last categorical value not indicated in the attributes.  "
   ]
  },
  {
   "cell_type": "code",
   "execution_count": 11,
   "metadata": {},
   "outputs": [
    {
     "data": {
      "text/html": [
       "<table>\n",
       "<thead><tr><th></th><th scope=col>Sepal.Length</th><th scope=col>Sepal.Width</th><th scope=col>Petal.Length</th><th scope=col>Petal.Width</th><th scope=col>Species</th><th scope=col>Speciessetosa</th><th scope=col>Speciesversicolor</th><th scope=col>Speciesvirginica</th></tr></thead>\n",
       "<tbody>\n",
       "\t<tr><th scope=row>64</th><td>6.1       </td><td>2.9       </td><td>4.7       </td><td>1.4       </td><td>versicolor</td><td>0         </td><td>1         </td><td>0         </td></tr>\n",
       "\t<tr><th scope=row>120</th><td>6.0       </td><td>2.2       </td><td>5.0       </td><td>1.5       </td><td>virginica </td><td>0         </td><td>0         </td><td>1         </td></tr>\n",
       "\t<tr><th scope=row>147</th><td>6.3       </td><td>2.5       </td><td>5.0       </td><td>1.9       </td><td>virginica </td><td>0         </td><td>0         </td><td>1         </td></tr>\n",
       "\t<tr><th scope=row>118</th><td>7.7       </td><td>3.8       </td><td>6.7       </td><td>2.2       </td><td>virginica </td><td>0         </td><td>0         </td><td>1         </td></tr>\n",
       "\t<tr><th scope=row>66</th><td>6.7       </td><td>3.1       </td><td>4.4       </td><td>1.4       </td><td>versicolor</td><td>0         </td><td>1         </td><td>0         </td></tr>\n",
       "\t<tr><th scope=row>3</th><td>4.7       </td><td>3.2       </td><td>1.3       </td><td>0.2       </td><td>setosa    </td><td>1         </td><td>0         </td><td>0         </td></tr>\n",
       "</tbody>\n",
       "</table>\n"
      ],
      "text/latex": [
       "\\begin{tabular}{r|llllllll}\n",
       "  & Sepal.Length & Sepal.Width & Petal.Length & Petal.Width & Species & Speciessetosa & Speciesversicolor & Speciesvirginica\\\\\n",
       "\\hline\n",
       "\t64 & 6.1        & 2.9        & 4.7        & 1.4        & versicolor & 0          & 1          & 0         \\\\\n",
       "\t120 & 6.0        & 2.2        & 5.0        & 1.5        & virginica  & 0          & 0          & 1         \\\\\n",
       "\t147 & 6.3        & 2.5        & 5.0        & 1.9        & virginica  & 0          & 0          & 1         \\\\\n",
       "\t118 & 7.7        & 3.8        & 6.7        & 2.2        & virginica  & 0          & 0          & 1         \\\\\n",
       "\t66 & 6.7        & 3.1        & 4.4        & 1.4        & versicolor & 0          & 1          & 0         \\\\\n",
       "\t3 & 4.7        & 3.2        & 1.3        & 0.2        & setosa     & 1          & 0          & 0         \\\\\n",
       "\\end{tabular}\n"
      ],
      "text/markdown": [
       "\n",
       "| <!--/--> | Sepal.Length | Sepal.Width | Petal.Length | Petal.Width | Species | Speciessetosa | Speciesversicolor | Speciesvirginica |\n",
       "|---|---|---|---|---|---|---|---|---|\n",
       "| 64 | 6.1        | 2.9        | 4.7        | 1.4        | versicolor | 0          | 1          | 0          |\n",
       "| 120 | 6.0        | 2.2        | 5.0        | 1.5        | virginica  | 0          | 0          | 1          |\n",
       "| 147 | 6.3        | 2.5        | 5.0        | 1.9        | virginica  | 0          | 0          | 1          |\n",
       "| 118 | 7.7        | 3.8        | 6.7        | 2.2        | virginica  | 0          | 0          | 1          |\n",
       "| 66 | 6.7        | 3.1        | 4.4        | 1.4        | versicolor | 0          | 1          | 0          |\n",
       "| 3 | 4.7        | 3.2        | 1.3        | 0.2        | setosa     | 1          | 0          | 0          |\n",
       "\n"
      ],
      "text/plain": [
       "    Sepal.Length Sepal.Width Petal.Length Petal.Width Species    Speciessetosa\n",
       "64  6.1          2.9         4.7          1.4         versicolor 0            \n",
       "120 6.0          2.2         5.0          1.5         virginica  0            \n",
       "147 6.3          2.5         5.0          1.9         virginica  0            \n",
       "118 7.7          3.8         6.7          2.2         virginica  0            \n",
       "66  6.7          3.1         4.4          1.4         versicolor 0            \n",
       "3   4.7          3.2         1.3          0.2         setosa     1            \n",
       "    Speciesversicolor Speciesvirginica\n",
       "64  1                 0               \n",
       "120 0                 1               \n",
       "147 0                 1               \n",
       "118 0                 1               \n",
       "66  1                 0               \n",
       "3   0                 0               "
      ]
     },
     "metadata": {},
     "output_type": "display_data"
    }
   ],
   "source": [
    "mycm <- dt.categ_mapping(sampler$sample, \"Species\")\n",
    "head(mycm)"
   ]
  },
  {
   "cell_type": "code",
   "execution_count": null,
   "metadata": {},
   "outputs": [],
   "source": []
  }
 ],
 "metadata": {
  "kernelspec": {
   "display_name": "R",
   "language": "R",
   "name": "ir"
  },
  "language_info": {
   "codemirror_mode": "r",
   "file_extension": ".r",
   "mimetype": "text/x-r-source",
   "name": "R",
   "pygments_lexer": "r",
   "version": "3.5.1"
  }
 },
 "nbformat": 4,
 "nbformat_minor": 2
}
