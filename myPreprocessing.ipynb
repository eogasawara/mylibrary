{
 "cells": [
  {
   "cell_type": "markdown",
   "metadata": {},
   "source": [
    "# Data Preprocessing\n",
    "## Library and dataset loading\n"
   ]
  },
  {
   "cell_type": "code",
   "execution_count": 1,
   "metadata": {},
   "outputs": [],
   "source": [
    "source(\"https://raw.githubusercontent.com/eogasawara/mylibrary/master/myPreprocessing.R\")\n",
    "loadlibrary(\"RColorBrewer\")\n",
    "loadlibrary(\"dplyr\")\n",
    "loadlibrary(\"gridExtra\")\n",
    "\n",
    "col.set <- brewer.pal(11, 'Spectral')\n",
    "mycolors <- col.set[c(1,3,5,7,9)]\n",
    "options(repr.plot.width=4, repr.plot.height=3)"
   ]
  },
  {
   "cell_type": "markdown",
   "metadata": {},
   "source": [
    "## Sampling\n",
    "Comparing random sampling with stratified sampling.\n"
   ]
  },
  {
   "cell_type": "code",
   "execution_count": 2,
   "metadata": {},
   "outputs": [
    {
     "data": {
      "text/html": [
       "<table>\n",
       "<thead><tr><th></th><th scope=col>Sepal.Length</th><th scope=col>Sepal.Width</th><th scope=col>Petal.Length</th><th scope=col>Petal.Width</th><th scope=col>Species</th></tr></thead>\n",
       "<tbody>\n",
       "\t<tr><th scope=row>117</th><td>6.5       </td><td>3.0       </td><td>5.5       </td><td>1.8       </td><td>virginica </td></tr>\n",
       "\t<tr><th scope=row>149</th><td>6.2       </td><td>3.4       </td><td>5.4       </td><td>2.3       </td><td>virginica </td></tr>\n",
       "\t<tr><th scope=row>102</th><td>5.8       </td><td>2.7       </td><td>5.1       </td><td>1.9       </td><td>virginica </td></tr>\n",
       "\t<tr><th scope=row>110</th><td>7.2       </td><td>3.6       </td><td>6.1       </td><td>2.5       </td><td>virginica </td></tr>\n",
       "\t<tr><th scope=row>104</th><td>6.3       </td><td>2.9       </td><td>5.6       </td><td>1.8       </td><td>virginica </td></tr>\n",
       "\t<tr><th scope=row>59</th><td>6.6       </td><td>2.9       </td><td>4.6       </td><td>1.3       </td><td>versicolor</td></tr>\n",
       "</tbody>\n",
       "</table>\n"
      ],
      "text/latex": [
       "\\begin{tabular}{r|lllll}\n",
       "  & Sepal.Length & Sepal.Width & Petal.Length & Petal.Width & Species\\\\\n",
       "\\hline\n",
       "\t117 & 6.5        & 3.0        & 5.5        & 1.8        & virginica \\\\\n",
       "\t149 & 6.2        & 3.4        & 5.4        & 2.3        & virginica \\\\\n",
       "\t102 & 5.8        & 2.7        & 5.1        & 1.9        & virginica \\\\\n",
       "\t110 & 7.2        & 3.6        & 6.1        & 2.5        & virginica \\\\\n",
       "\t104 & 6.3        & 2.9        & 5.6        & 1.8        & virginica \\\\\n",
       "\t59 & 6.6        & 2.9        & 4.6        & 1.3        & versicolor\\\\\n",
       "\\end{tabular}\n"
      ],
      "text/markdown": [
       "\n",
       "| <!--/--> | Sepal.Length | Sepal.Width | Petal.Length | Petal.Width | Species |\n",
       "|---|---|---|---|---|---|\n",
       "| 117 | 6.5        | 3.0        | 5.5        | 1.8        | virginica  |\n",
       "| 149 | 6.2        | 3.4        | 5.4        | 2.3        | virginica  |\n",
       "| 102 | 5.8        | 2.7        | 5.1        | 1.9        | virginica  |\n",
       "| 110 | 7.2        | 3.6        | 6.1        | 2.5        | virginica  |\n",
       "| 104 | 6.3        | 2.9        | 5.6        | 1.8        | virginica  |\n",
       "| 59 | 6.6        | 2.9        | 4.6        | 1.3        | versicolor |\n",
       "\n"
      ],
      "text/plain": [
       "    Sepal.Length Sepal.Width Petal.Length Petal.Width Species   \n",
       "117 6.5          3.0         5.5          1.8         virginica \n",
       "149 6.2          3.4         5.4          2.3         virginica \n",
       "102 5.8          2.7         5.1          1.9         virginica \n",
       "110 7.2          3.6         6.1          2.5         virginica \n",
       "104 6.3          2.9         5.6          1.8         virginica \n",
       "59  6.6          2.9         4.6          1.3         versicolor"
      ]
     },
     "metadata": {},
     "output_type": "display_data"
    },
    {
     "data": {
      "text/html": [
       "<table>\n",
       "<thead><tr><th></th><th scope=col>setosa</th><th scope=col>versicolor</th><th scope=col>virginica</th></tr></thead>\n",
       "<tbody>\n",
       "\t<tr><th scope=row>dataset</th><td>50</td><td>50</td><td>50</td></tr>\n",
       "\t<tr><th scope=row>random sample</th><td>38</td><td>42</td><td>40</td></tr>\n",
       "\t<tr><th scope=row>stratified sample</th><td>40</td><td>40</td><td>40</td></tr>\n",
       "</tbody>\n",
       "</table>\n"
      ],
      "text/latex": [
       "\\begin{tabular}{r|lll}\n",
       "  & setosa & versicolor & virginica\\\\\n",
       "\\hline\n",
       "\tdataset & 50 & 50 & 50\\\\\n",
       "\trandom sample & 38 & 42 & 40\\\\\n",
       "\tstratified sample & 40 & 40 & 40\\\\\n",
       "\\end{tabular}\n"
      ],
      "text/markdown": [
       "\n",
       "| <!--/--> | setosa | versicolor | virginica |\n",
       "|---|---|---|---|\n",
       "| dataset | 50 | 50 | 50 |\n",
       "| random sample | 38 | 42 | 40 |\n",
       "| stratified sample | 40 | 40 | 40 |\n",
       "\n"
      ],
      "text/plain": [
       "                  setosa versicolor virginica\n",
       "dataset           50     50         50       \n",
       "random sample     38     42         40       \n",
       "stratified sample 40     40         40       "
      ]
     },
     "metadata": {},
     "output_type": "display_data"
    }
   ],
   "source": [
    "sampler <- sample.random(iris)\n",
    "head(sampler$sample)\n",
    "\n",
    "samples <- sample.stratified(iris, \"Species\")\n",
    "\n",
    "tbl <- rbind(table(iris$Species), table(sampler$sample$Species), table(samples$sample$Species))\n",
    "rownames(tbl) <- c(\"dataset\", \"random sample\", \"stratified sample\")\n",
    "head(tbl)"
   ]
  },
  {
   "cell_type": "markdown",
   "metadata": {},
   "source": [
    "## Sampling\n",
    "Sampling k-folds with random and stratified techniques. \n"
   ]
  },
  {
   "cell_type": "code",
   "execution_count": 3,
   "metadata": {},
   "outputs": [
    {
     "data": {
      "text/html": [
       "<table>\n",
       "<thead><tr><th></th><th scope=col>setosa</th><th scope=col>versicolor</th><th scope=col>virginica</th></tr></thead>\n",
       "<tbody>\n",
       "\t<tr><th scope=row>random sampling</th><td> 6</td><td>16</td><td>15</td></tr>\n",
       "\t<tr><th scope=row>random sampling</th><td>10</td><td>12</td><td>15</td></tr>\n",
       "\t<tr><th scope=row>random sampling</th><td>17</td><td>11</td><td>10</td></tr>\n",
       "\t<tr><th scope=row>random sampling</th><td>17</td><td>11</td><td>10</td></tr>\n",
       "</tbody>\n",
       "</table>\n"
      ],
      "text/latex": [
       "\\begin{tabular}{r|lll}\n",
       "  & setosa & versicolor & virginica\\\\\n",
       "\\hline\n",
       "\trandom sampling &  6 & 16 & 15\\\\\n",
       "\trandom sampling & 10 & 12 & 15\\\\\n",
       "\trandom sampling & 17 & 11 & 10\\\\\n",
       "\trandom sampling & 17 & 11 & 10\\\\\n",
       "\\end{tabular}\n"
      ],
      "text/markdown": [
       "\n",
       "| <!--/--> | setosa | versicolor | virginica |\n",
       "|---|---|---|---|\n",
       "| random sampling |  6 | 16 | 15 |\n",
       "| random sampling | 10 | 12 | 15 |\n",
       "| random sampling | 17 | 11 | 10 |\n",
       "| random sampling | 17 | 11 | 10 |\n",
       "\n"
      ],
      "text/plain": [
       "                setosa versicolor virginica\n",
       "random sampling  6     16         15       \n",
       "random sampling 10     12         15       \n",
       "random sampling 17     11         10       \n",
       "random sampling 17     11         10       "
      ]
     },
     "metadata": {},
     "output_type": "display_data"
    },
    {
     "data": {
      "text/html": [
       "<table>\n",
       "<thead><tr><th></th><th scope=col>setosa</th><th scope=col>versicolor</th><th scope=col>virginica</th></tr></thead>\n",
       "<tbody>\n",
       "\t<tr><th scope=row>stratified sampling</th><td>13</td><td>13</td><td>13</td></tr>\n",
       "\t<tr><th scope=row>stratified sampling</th><td>13</td><td>13</td><td>13</td></tr>\n",
       "\t<tr><th scope=row>stratified sampling</th><td>12</td><td>12</td><td>12</td></tr>\n",
       "\t<tr><th scope=row>stratified sampling</th><td>12</td><td>12</td><td>12</td></tr>\n",
       "</tbody>\n",
       "</table>\n"
      ],
      "text/latex": [
       "\\begin{tabular}{r|lll}\n",
       "  & setosa & versicolor & virginica\\\\\n",
       "\\hline\n",
       "\tstratified sampling & 13 & 13 & 13\\\\\n",
       "\tstratified sampling & 13 & 13 & 13\\\\\n",
       "\tstratified sampling & 12 & 12 & 12\\\\\n",
       "\tstratified sampling & 12 & 12 & 12\\\\\n",
       "\\end{tabular}\n"
      ],
      "text/markdown": [
       "\n",
       "| <!--/--> | setosa | versicolor | virginica |\n",
       "|---|---|---|---|\n",
       "| stratified sampling | 13 | 13 | 13 |\n",
       "| stratified sampling | 13 | 13 | 13 |\n",
       "| stratified sampling | 12 | 12 | 12 |\n",
       "| stratified sampling | 12 | 12 | 12 |\n",
       "\n"
      ],
      "text/plain": [
       "                    setosa versicolor virginica\n",
       "stratified sampling 13     13         13       \n",
       "stratified sampling 13     13         13       \n",
       "stratified sampling 12     12         12       \n",
       "stratified sampling 12     12         12       "
      ]
     },
     "metadata": {},
     "output_type": "display_data"
    }
   ],
   "source": [
    "foldsr <- sample.random_kfold(iris, k=4)\n",
    "foldss <- sample.stratified_kfold(iris, \"Species\", k=4)\n",
    "\n",
    "tbls <- tblr <- NULL\n",
    "for (i in (1:4)) {\n",
    "    tblr <- rbind(tblr, table(foldsr[[i]]$Species))\n",
    "    tbls <- rbind(tbls, table(foldss[[i]]$Species))\n",
    "}\n",
    "rownames(tblr) <- rep(\"random sampling\", 4)\n",
    "head(tblr)\n",
    "\n",
    "rownames(tbls) <- rep(\"stratified sampling\", 4)\n",
    "head(tbls)\n"
   ]
  },
  {
   "cell_type": "markdown",
   "metadata": {},
   "source": [
    "## Outlier analysis\n"
   ]
  },
  {
   "cell_type": "code",
   "execution_count": 4,
   "metadata": {},
   "outputs": [
    {
     "data": {
      "text/html": [
       "<table>\n",
       "<thead><tr><th></th><th scope=col>Sepal.Length</th><th scope=col>Sepal.Width</th><th scope=col>Petal.Length</th><th scope=col>Petal.Width</th><th scope=col>Species</th></tr></thead>\n",
       "<tbody>\n",
       "\t<tr><th scope=row>16</th><td>5.7       </td><td>4.4       </td><td>1.5       </td><td>0.4       </td><td>setosa    </td></tr>\n",
       "\t<tr><th scope=row>33</th><td>5.2       </td><td>4.1       </td><td>1.5       </td><td>0.1       </td><td>setosa    </td></tr>\n",
       "\t<tr><th scope=row>34</th><td>5.5       </td><td>4.2       </td><td>1.4       </td><td>0.2       </td><td>setosa    </td></tr>\n",
       "\t<tr><th scope=row>61</th><td>5.0       </td><td>2.0       </td><td>3.5       </td><td>1.0       </td><td>versicolor</td></tr>\n",
       "</tbody>\n",
       "</table>\n"
      ],
      "text/latex": [
       "\\begin{tabular}{r|lllll}\n",
       "  & Sepal.Length & Sepal.Width & Petal.Length & Petal.Width & Species\\\\\n",
       "\\hline\n",
       "\t16 & 5.7        & 4.4        & 1.5        & 0.4        & setosa    \\\\\n",
       "\t33 & 5.2        & 4.1        & 1.5        & 0.1        & setosa    \\\\\n",
       "\t34 & 5.5        & 4.2        & 1.4        & 0.2        & setosa    \\\\\n",
       "\t61 & 5.0        & 2.0        & 3.5        & 1.0        & versicolor\\\\\n",
       "\\end{tabular}\n"
      ],
      "text/markdown": [
       "\n",
       "| <!--/--> | Sepal.Length | Sepal.Width | Petal.Length | Petal.Width | Species |\n",
       "|---|---|---|---|---|---|\n",
       "| 16 | 5.7        | 4.4        | 1.5        | 0.4        | setosa     |\n",
       "| 33 | 5.2        | 4.1        | 1.5        | 0.1        | setosa     |\n",
       "| 34 | 5.5        | 4.2        | 1.4        | 0.2        | setosa     |\n",
       "| 61 | 5.0        | 2.0        | 3.5        | 1.0        | versicolor |\n",
       "\n"
      ],
      "text/plain": [
       "   Sepal.Length Sepal.Width Petal.Length Petal.Width Species   \n",
       "16 5.7          4.4         1.5          0.4         setosa    \n",
       "33 5.2          4.1         1.5          0.1         setosa    \n",
       "34 5.5          4.2         1.4          0.2         setosa    \n",
       "61 5.0          2.0         3.5          1.0         versicolor"
      ]
     },
     "metadata": {},
     "output_type": "display_data"
    }
   ],
   "source": [
    "out <- outliers.boxplot(iris)\n",
    "myiris <- iris[!out,]\n",
    "head(iris[out,])"
   ]
  },
  {
   "cell_type": "markdown",
   "metadata": {},
   "source": [
    "## Normalization\n",
    "Ajustado para mínimo 0 e máximo 1.\n",
    "\n",
    "## zscore normalization\n",
    "Ajustado para média 0.5 e desvio padrão de 0.5/2.698\n"
   ]
  },
  {
   "cell_type": "code",
   "execution_count": 5,
   "metadata": {},
   "outputs": [
    {
     "data": {
      "image/png": "[encoded data removed]",
      "text/plain": [
       "plot without title"
      ]
     },
     "metadata": {},
     "output_type": "display_data"
    }
   ],
   "source": [
    "myirisM <- normalize.minmax(iris)\n",
    "\n",
    "myirisZ <- normalize.zscore(iris, nmean = 0.5,nsd = 0.5/2.698)\n",
    "\n",
    "grf <- plot.hist(iris %>% select(variable=\"Sepal.Width\", value=Sepal.Width), color=mycolors[1])\n",
    "grfM <- plot.hist(myirisM$data %>% select(variable=\"Sepal.Width\", value=Sepal.Width), color=mycolors[1])\n",
    "grfZ <- plot.hist(myirisZ$data %>% select(variable=\"Sepal.Width\", value=Sepal.Width), color=mycolors[1])\n",
    "\n",
    "options(repr.plot.width=8, repr.plot.height=3)\n",
    "grid.arrange(grf, grfM, grfZ, ncol=3)\n",
    "options(repr.plot.width=4, repr.plot.height=3)"
   ]
  },
  {
   "cell_type": "markdown",
   "metadata": {},
   "source": [
    "## PCA"
   ]
  },
  {
   "cell_type": "code",
   "execution_count": 6,
   "metadata": {},
   "outputs": [
    {
     "data": {
      "text/html": [
       "<table>\n",
       "<thead><tr><th scope=col>PC1</th><th scope=col>PC2</th><th scope=col>Species</th></tr></thead>\n",
       "<tbody>\n",
       "\t<tr><td>2.640270 </td><td>-5.204041</td><td>setosa   </td></tr>\n",
       "\t<tr><td>2.670730 </td><td>-4.666910</td><td>setosa   </td></tr>\n",
       "\t<tr><td>2.454606 </td><td>-4.773636</td><td>setosa   </td></tr>\n",
       "\t<tr><td>2.545517 </td><td>-4.648463</td><td>setosa   </td></tr>\n",
       "\t<tr><td>2.561228 </td><td>-5.258629</td><td>setosa   </td></tr>\n",
       "\t<tr><td>2.975946 </td><td>-5.707321</td><td>setosa   </td></tr>\n",
       "</tbody>\n",
       "</table>\n"
      ],
      "text/latex": [
       "\\begin{tabular}{r|lll}\n",
       " PC1 & PC2 & Species\\\\\n",
       "\\hline\n",
       "\t 2.640270  & -5.204041 & setosa   \\\\\n",
       "\t 2.670730  & -4.666910 & setosa   \\\\\n",
       "\t 2.454606  & -4.773636 & setosa   \\\\\n",
       "\t 2.545517  & -4.648463 & setosa   \\\\\n",
       "\t 2.561228  & -5.258629 & setosa   \\\\\n",
       "\t 2.975946  & -5.707321 & setosa   \\\\\n",
       "\\end{tabular}\n"
      ],
      "text/markdown": [
       "\n",
       "| PC1 | PC2 | Species |\n",
       "|---|---|---|\n",
       "| 2.640270  | -5.204041 | setosa    |\n",
       "| 2.670730  | -4.666910 | setosa    |\n",
       "| 2.454606  | -4.773636 | setosa    |\n",
       "| 2.545517  | -4.648463 | setosa    |\n",
       "| 2.561228  | -5.258629 | setosa    |\n",
       "| 2.975946  | -5.707321 | setosa    |\n",
       "\n"
      ],
      "text/plain": [
       "  PC1      PC2       Species\n",
       "1 2.640270 -5.204041 setosa \n",
       "2 2.670730 -4.666910 setosa \n",
       "3 2.454606 -4.773636 setosa \n",
       "4 2.545517 -4.648463 setosa \n",
       "5 2.561228 -5.258629 setosa \n",
       "6 2.975946 -5.707321 setosa "
      ]
     },
     "metadata": {},
     "output_type": "display_data"
    },
    {
     "data": {
      "text/html": [
       "<table>\n",
       "<thead><tr><th></th><th scope=col>PC1</th><th scope=col>PC2</th></tr></thead>\n",
       "<tbody>\n",
       "\t<tr><th scope=row>Sepal.Length</th><td> 0.5210659 </td><td>-0.37741762</td></tr>\n",
       "\t<tr><th scope=row>Sepal.Width</th><td>-0.2693474 </td><td>-0.92329566</td></tr>\n",
       "\t<tr><th scope=row>Petal.Length</th><td> 0.5804131 </td><td>-0.02449161</td></tr>\n",
       "\t<tr><th scope=row>Petal.Width</th><td> 0.5648565 </td><td>-0.06694199</td></tr>\n",
       "</tbody>\n",
       "</table>\n"
      ],
      "text/latex": [
       "\\begin{tabular}{r|ll}\n",
       "  & PC1 & PC2\\\\\n",
       "\\hline\n",
       "\tSepal.Length &  0.5210659  & -0.37741762\\\\\n",
       "\tSepal.Width & -0.2693474  & -0.92329566\\\\\n",
       "\tPetal.Length &  0.5804131  & -0.02449161\\\\\n",
       "\tPetal.Width &  0.5648565  & -0.06694199\\\\\n",
       "\\end{tabular}\n"
      ],
      "text/markdown": [
       "\n",
       "| <!--/--> | PC1 | PC2 |\n",
       "|---|---|---|\n",
       "| Sepal.Length |  0.5210659  | -0.37741762 |\n",
       "| Sepal.Width | -0.2693474  | -0.92329566 |\n",
       "| Petal.Length |  0.5804131  | -0.02449161 |\n",
       "| Petal.Width |  0.5648565  | -0.06694199 |\n",
       "\n"
      ],
      "text/plain": [
       "             PC1        PC2        \n",
       "Sepal.Length  0.5210659 -0.37741762\n",
       "Sepal.Width  -0.2693474 -0.92329566\n",
       "Petal.Length  0.5804131 -0.02449161\n",
       "Petal.Width   0.5648565 -0.06694199"
      ]
     },
     "metadata": {},
     "output_type": "display_data"
    },
    {
     "data": {
      "image/png": "[encoded data removed]",
      "text/plain": [
       "plot without title"
      ]
     },
     "metadata": {},
     "output_type": "display_data"
    }
   ],
   "source": [
    "mypca <- dt.pca(iris, \"Species\")\n",
    "head(mypca$pca)\n",
    "head(mypca$transf$pca.transf)\n",
    "\n",
    "plot.scatter(mypca$pca %>% select(x=PC1, value=PC2, variable=Species), colors=mycolors[1:3])"
   ]
  },
  {
   "cell_type": "markdown",
   "metadata": {},
   "source": [
    "## Binning"
   ]
  },
  {
   "cell_type": "code",
   "execution_count": 7,
   "metadata": {},
   "outputs": [
    {
     "name": "stdout",
     "output_type": "stream",
     "text": [
      "[1] \"interval: \"       \"4.3\"              \"6.1\"              \"7.9\"             \n",
      "[5] \"entropy: \"        \"178.760086603411\"\n",
      "[1] \"freq: \"           \"4.3\"              \"5.8\"              \"7.9\"             \n",
      "[5] \"entropy: \"        \"164.635950375056\"\n",
      "[1] \"cluster: \"        \"4.3\"              \"5.889375\"         \"7.9\"             \n",
      "[5] \"entropy: \"        \"164.635950375056\"\n",
      " [1] \"interval: \"       \"4.3\"              \"4.9\"              \"5.5\"             \n",
      " [5] \"6.1\"              \"6.7\"              \"7.3\"              \"7.9\"             \n",
      " [9] \"entropy: \"        \"130.361912876848\"\n",
      " [1] \"freq: \"           \"4.3\"              \"5\"                \"5.4\"             \n",
      " [5] \"5.8\"              \"6.3\"              \"6.7\"              \"7.9\"             \n",
      " [9] \"entropy: \"        \"130.062182960522\"\n",
      " [1] \"cluster: \"        \"4.3\"              \"5.24333333333333\" \"5.81\"            \n",
      " [5] \"6.186\"            \"6.56810526315789\" \"7.14665071770335\" \"7.9\"             \n",
      " [9] \"entropy: \"        \"133.584805787317\"\n"
     ]
    }
   ],
   "source": [
    "atr <- iris$Sepal.Length\n",
    "#atr <- iris$Petal.Width\n",
    "label <- iris$Species\n",
    "\n",
    "bi <- binning.interval(atr, n=2)\n",
    "bf <- binning.freq(atr, n=2)\n",
    "bc <- binning.cluster(atr, n=2)\n",
    "\n",
    "print(c('interval: ', bi$interval, 'entropy: ', entropy_group(bi$bins_factor, label)))\n",
    "print(c('freq: ', bf$interval, 'entropy: ', entropy_group(bf$bins_factor, label)))\n",
    "print(c('cluster: ', bc$interval, 'entropy: ', entropy_group(bc$bins_factor, label)))\n",
    "\n",
    "bi <- binning.opt(atr, binning=binning.interval)\n",
    "bf <- binning.opt(atr, binning=binning.freq)\n",
    "bc <- binning.opt(atr, binning=binning.cluster)\n",
    "\n",
    "print(c('interval: ', bi$interval, 'entropy: ', entropy_group(bi$bins_factor, label)))\n",
    "print(c('freq: ', bf$interval, 'entropy: ', entropy_group(bf$bins_factor, label)))\n",
    "print(c('cluster: ', bc$interval, 'entropy: ', entropy_group(bc$bins_factor, label)))"
   ]
  },
  {
   "cell_type": "markdown",
   "metadata": {},
   "source": [
    "## Balancing datasets\n",
    "O dataset myiris foi artificialmente desbalanceado. \n",
    "Duas técnicas para correção foram aplicadas: oversampling e subsampling."
   ]
  },
  {
   "cell_type": "code",
   "execution_count": 8,
   "metadata": {},
   "outputs": [
    {
     "data": {
      "text/html": [
       "<table>\n",
       "<thead><tr><th></th><th scope=col>setosa</th><th scope=col>versicolor</th><th scope=col>virginica</th></tr></thead>\n",
       "<tbody>\n",
       "\t<tr><th scope=row>unbalanced</th><td>20</td><td>50</td><td>11</td></tr>\n",
       "\t<tr><th scope=row>oversampling</th><td>50</td><td>50</td><td>50</td></tr>\n",
       "\t<tr><th scope=row>subsampling</th><td>11</td><td>11</td><td>11</td></tr>\n",
       "</tbody>\n",
       "</table>\n"
      ],
      "text/latex": [
       "\\begin{tabular}{r|lll}\n",
       "  & setosa & versicolor & virginica\\\\\n",
       "\\hline\n",
       "\tunbalanced & 20 & 50 & 11\\\\\n",
       "\toversampling & 50 & 50 & 50\\\\\n",
       "\tsubsampling & 11 & 11 & 11\\\\\n",
       "\\end{tabular}\n"
      ],
      "text/markdown": [
       "\n",
       "| <!--/--> | setosa | versicolor | virginica |\n",
       "|---|---|---|---|\n",
       "| unbalanced | 20 | 50 | 11 |\n",
       "| oversampling | 50 | 50 | 50 |\n",
       "| subsampling | 11 | 11 | 11 |\n",
       "\n"
      ],
      "text/plain": [
       "             setosa versicolor virginica\n",
       "unbalanced   20     50         11       \n",
       "oversampling 50     50         50       \n",
       "subsampling  11     11         11       "
      ]
     },
     "metadata": {},
     "output_type": "display_data"
    }
   ],
   "source": [
    "#forçando um desbalançeamento\n",
    "myiris <- iris[c(1:20,51:100, 110:120),]\n",
    "myiris.bo <- balance.oversampling(myiris, \"Species\")\n",
    "myiris.bs <- balance.subsampling(myiris, \"Species\")\n",
    "tbl <- rbind(table(myiris$Species), table(myiris.bo$Species), table(myiris.bs$Species))\n",
    "rownames(tbl) <- c('unbalanced', 'oversampling', 'subsampling')\n",
    "head(tbl)"
   ]
  },
  {
   "cell_type": "markdown",
   "metadata": {},
   "source": [
    "## Categorical mapping"
   ]
  },
  {
   "cell_type": "code",
   "execution_count": 9,
   "metadata": {},
   "outputs": [
    {
     "data": {
      "text/html": [
       "<table>\n",
       "<thead><tr><th></th><th scope=col>Sepal.Length</th><th scope=col>Sepal.Width</th><th scope=col>Petal.Length</th><th scope=col>Petal.Width</th><th scope=col>Species</th><th scope=col>Speciessetosa</th><th scope=col>Speciesversicolor</th><th scope=col>Speciesvirginica</th></tr></thead>\n",
       "<tbody>\n",
       "\t<tr><th scope=row>117</th><td>6.5       </td><td>3.0       </td><td>5.5       </td><td>1.8       </td><td>virginica </td><td>0         </td><td>0         </td><td>1         </td></tr>\n",
       "\t<tr><th scope=row>149</th><td>6.2       </td><td>3.4       </td><td>5.4       </td><td>2.3       </td><td>virginica </td><td>0         </td><td>0         </td><td>1         </td></tr>\n",
       "\t<tr><th scope=row>102</th><td>5.8       </td><td>2.7       </td><td>5.1       </td><td>1.9       </td><td>virginica </td><td>0         </td><td>0         </td><td>1         </td></tr>\n",
       "\t<tr><th scope=row>110</th><td>7.2       </td><td>3.6       </td><td>6.1       </td><td>2.5       </td><td>virginica </td><td>0         </td><td>0         </td><td>1         </td></tr>\n",
       "\t<tr><th scope=row>104</th><td>6.3       </td><td>2.9       </td><td>5.6       </td><td>1.8       </td><td>virginica </td><td>0         </td><td>0         </td><td>1         </td></tr>\n",
       "\t<tr><th scope=row>59</th><td>6.6       </td><td>2.9       </td><td>4.6       </td><td>1.3       </td><td>versicolor</td><td>0         </td><td>1         </td><td>0         </td></tr>\n",
       "</tbody>\n",
       "</table>\n"
      ],
      "text/latex": [
       "\\begin{tabular}{r|llllllll}\n",
       "  & Sepal.Length & Sepal.Width & Petal.Length & Petal.Width & Species & Speciessetosa & Speciesversicolor & Speciesvirginica\\\\\n",
       "\\hline\n",
       "\t117 & 6.5        & 3.0        & 5.5        & 1.8        & virginica  & 0          & 0          & 1         \\\\\n",
       "\t149 & 6.2        & 3.4        & 5.4        & 2.3        & virginica  & 0          & 0          & 1         \\\\\n",
       "\t102 & 5.8        & 2.7        & 5.1        & 1.9        & virginica  & 0          & 0          & 1         \\\\\n",
       "\t110 & 7.2        & 3.6        & 6.1        & 2.5        & virginica  & 0          & 0          & 1         \\\\\n",
       "\t104 & 6.3        & 2.9        & 5.6        & 1.8        & virginica  & 0          & 0          & 1         \\\\\n",
       "\t59 & 6.6        & 2.9        & 4.6        & 1.3        & versicolor & 0          & 1          & 0         \\\\\n",
       "\\end{tabular}\n"
      ],
      "text/markdown": [
       "\n",
       "| <!--/--> | Sepal.Length | Sepal.Width | Petal.Length | Petal.Width | Species | Speciessetosa | Speciesversicolor | Speciesvirginica |\n",
       "|---|---|---|---|---|---|---|---|---|\n",
       "| 117 | 6.5        | 3.0        | 5.5        | 1.8        | virginica  | 0          | 0          | 1          |\n",
       "| 149 | 6.2        | 3.4        | 5.4        | 2.3        | virginica  | 0          | 0          | 1          |\n",
       "| 102 | 5.8        | 2.7        | 5.1        | 1.9        | virginica  | 0          | 0          | 1          |\n",
       "| 110 | 7.2        | 3.6        | 6.1        | 2.5        | virginica  | 0          | 0          | 1          |\n",
       "| 104 | 6.3        | 2.9        | 5.6        | 1.8        | virginica  | 0          | 0          | 1          |\n",
       "| 59 | 6.6        | 2.9        | 4.6        | 1.3        | versicolor | 0          | 1          | 0          |\n",
       "\n"
      ],
      "text/plain": [
       "    Sepal.Length Sepal.Width Petal.Length Petal.Width Species    Speciessetosa\n",
       "117 6.5          3.0         5.5          1.8         virginica  0            \n",
       "149 6.2          3.4         5.4          2.3         virginica  0            \n",
       "102 5.8          2.7         5.1          1.9         virginica  0            \n",
       "110 7.2          3.6         6.1          2.5         virginica  0            \n",
       "104 6.3          2.9         5.6          1.8         virginica  0            \n",
       "59  6.6          2.9         4.6          1.3         versicolor 0            \n",
       "    Speciesversicolor Speciesvirginica\n",
       "117 0                 1               \n",
       "149 0                 1               \n",
       "102 0                 1               \n",
       "110 0                 1               \n",
       "104 0                 1               \n",
       "59  1                 0               "
      ]
     },
     "metadata": {},
     "output_type": "display_data"
    }
   ],
   "source": [
    "mycm <- dt.categ_mapping(sampler$sample, \"Species\")\n",
    "head(mycm)"
   ]
  },
  {
   "cell_type": "code",
   "execution_count": null,
   "metadata": {},
   "outputs": [],
   "source": []
  }
 ],
 "metadata": {
  "kernelspec": {
   "display_name": "R",
   "language": "R",
   "name": "ir"
  },
  "language_info": {
   "codemirror_mode": "r",
   "file_extension": ".r",
   "mimetype": "text/x-r-source",
   "name": "R",
   "pygments_lexer": "r",
   "version": "3.5.1"
  }
 },
 "nbformat": 4,
 "nbformat_minor": 2
}
