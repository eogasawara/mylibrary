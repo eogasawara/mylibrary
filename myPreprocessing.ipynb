{
 "cells": [
  {
   "cell_type": "markdown",
   "metadata": {},
   "source": [
    "# Data Preprocessing\n",
    "## Library and dataset loading\n"
   ]
  },
  {
   "cell_type": "code",
   "execution_count": 1,
   "metadata": {},
   "outputs": [
    {
     "name": "stderr",
     "output_type": "stream",
     "text": [
      "Loading required package: ggplot2\n",
      "\n",
      "Warning message:\n",
      "\"package 'ggplot2' was built under R version 3.6.3\"\n",
      "Loading required package: scales\n",
      "\n",
      "Warning message:\n",
      "\"package 'scales' was built under R version 3.6.3\"\n",
      "Loading required package: ggpubr\n",
      "\n",
      "Warning message:\n",
      "\"package 'ggpubr' was built under R version 3.6.3\"\n",
      "Loading required package: reshape\n",
      "\n",
      "Loading required package: caret\n",
      "\n",
      "Warning message:\n",
      "\"package 'caret' was built under R version 3.6.3\"\n",
      "Loading required package: lattice\n",
      "\n",
      "Warning message:\n",
      "\"package 'lattice' was built under R version 3.6.3\"\n",
      "Loading required package: MASS\n",
      "\n",
      "Warning message:\n",
      "\"package 'MASS' was built under R version 3.6.3\"\n",
      "Loading required package: dplyr\n",
      "\n",
      "Warning message:\n",
      "\"package 'dplyr' was built under R version 3.6.3\"\n",
      "\n",
      "Attaching package: 'dplyr'\n",
      "\n",
      "\n",
      "The following object is masked from 'package:MASS':\n",
      "\n",
      "    select\n",
      "\n",
      "\n",
      "The following object is masked from 'package:reshape':\n",
      "\n",
      "    rename\n",
      "\n",
      "\n",
      "The following objects are masked from 'package:stats':\n",
      "\n",
      "    filter, lag\n",
      "\n",
      "\n",
      "The following objects are masked from 'package:base':\n",
      "\n",
      "    intersect, setdiff, setequal, union\n",
      "\n",
      "\n",
      "Loading required package: RColorBrewer\n",
      "\n",
      "Loading required package: gridExtra\n",
      "\n",
      "\n",
      "Attaching package: 'gridExtra'\n",
      "\n",
      "\n",
      "The following object is masked from 'package:dplyr':\n",
      "\n",
      "    combine\n",
      "\n",
      "\n"
     ]
    }
   ],
   "source": [
    "source(\"https://raw.githubusercontent.com/eogasawara/mylibrary/master/myPreprocessing.R\")\n",
    "loadlibrary(\"RColorBrewer\")\n",
    "loadlibrary(\"dplyr\")\n",
    "loadlibrary(\"gridExtra\")\n",
    "loadlibrary(\"reshape\")\n",
    "\n",
    "col.set <- brewer.pal(11, 'Spectral')\n",
    "mycolors <- col.set[c(1,3,5,7,9)]\n",
    "\n",
    "plot_size(4, 3)"
   ]
  },
  {
   "cell_type": "markdown",
   "metadata": {},
   "source": [
    "## Normalization\n",
    "\n",
    "Normalization is a technique used to equal strength among variables. \n",
    "\n",
    "It is also important to apply it as an input for some machine learning methods. \n",
    "\n",
    "Min-Max: Adjust to 0 (minimum value) - 1 (maximum value).\n",
    "\n",
    "Z-Score: Adjust to 0 (mean), 1 (variance)."
   ]
  },
  {
   "cell_type": "code",
   "execution_count": 2,
   "metadata": {},
   "outputs": [
    {
     "ename": "ERROR",
     "evalue": "Error in normalize.minmax(iris): não foi possível encontrar a função \"normalize.minmax\"\n",
     "output_type": "error",
     "traceback": [
      "Error in normalize.minmax(iris): não foi possível encontrar a função \"normalize.minmax\"\nTraceback:\n"
     ]
    }
   ],
   "source": [
    "myirisM <- normalize.minmax(iris)\n",
    "\n",
    "myirisZ <- normalize.zscore(iris)\n",
    "\n",
    "myirisZS <- normalize.zscore(iris, nmean=0.5, nsd=0.5/2.698)\n",
    "\n",
    "\n",
    "grfA <- plot.density(iris %>% select(variable=\"Sepal.Width\", value=Sepal.Width), color=mycolors[1]) \n",
    "grfB <- plot.density(myirisM$data %>% select(variable=\"Sepal.Width\", value=Sepal.Width), color=mycolors[1]) + xlim(0,1)\n",
    "grfC <- plot.density(myirisZ$data %>% select(variable=\"Sepal.Width\", value=Sepal.Width), color=mycolors[1]) \n",
    "grfD <- plot.density(myirisZS$data %>% select(variable=\"Sepal.Width\", value=Sepal.Width), color=mycolors[1]) + xlim(0,1)\n",
    "\n",
    "plot_size(8, 3)\n",
    "grid.arrange(grfA, grfB, grfC, grfD, ncol=4)\n",
    "plot_size(4, 3)"
   ]
  },
  {
   "cell_type": "markdown",
   "metadata": {},
   "source": [
    "## PCA\n",
    "PCA is a technique that finds a projection that captures the largest amount of variation in data."
   ]
  },
  {
   "cell_type": "code",
   "execution_count": 21,
   "metadata": {},
   "outputs": [
    {
     "data": {
      "text/html": [
       "<table>\n",
       "<thead><tr><th scope=col>Sepal.Length</th><th scope=col>Sepal.Width</th><th scope=col>Petal.Length</th><th scope=col>Petal.Width</th></tr></thead>\n",
       "<tbody>\n",
       "\t<tr><td>5.1</td><td>3.5</td><td>1.4</td><td>0.2</td></tr>\n",
       "\t<tr><td>4.9</td><td>3.0</td><td>1.4</td><td>0.2</td></tr>\n",
       "\t<tr><td>4.7</td><td>3.2</td><td>1.3</td><td>0.2</td></tr>\n",
       "\t<tr><td>4.6</td><td>3.1</td><td>1.5</td><td>0.2</td></tr>\n",
       "\t<tr><td>5.0</td><td>3.6</td><td>1.4</td><td>0.2</td></tr>\n",
       "\t<tr><td>5.4</td><td>3.9</td><td>1.7</td><td>0.4</td></tr>\n",
       "</tbody>\n",
       "</table>\n"
      ],
      "text/latex": [
       "\\begin{tabular}{r|llll}\n",
       " Sepal.Length & Sepal.Width & Petal.Length & Petal.Width\\\\\n",
       "\\hline\n",
       "\t 5.1 & 3.5 & 1.4 & 0.2\\\\\n",
       "\t 4.9 & 3.0 & 1.4 & 0.2\\\\\n",
       "\t 4.7 & 3.2 & 1.3 & 0.2\\\\\n",
       "\t 4.6 & 3.1 & 1.5 & 0.2\\\\\n",
       "\t 5.0 & 3.6 & 1.4 & 0.2\\\\\n",
       "\t 5.4 & 3.9 & 1.7 & 0.4\\\\\n",
       "\\end{tabular}\n"
      ],
      "text/markdown": [
       "\n",
       "| Sepal.Length | Sepal.Width | Petal.Length | Petal.Width |\n",
       "|---|---|---|---|\n",
       "| 5.1 | 3.5 | 1.4 | 0.2 |\n",
       "| 4.9 | 3.0 | 1.4 | 0.2 |\n",
       "| 4.7 | 3.2 | 1.3 | 0.2 |\n",
       "| 4.6 | 3.1 | 1.5 | 0.2 |\n",
       "| 5.0 | 3.6 | 1.4 | 0.2 |\n",
       "| 5.4 | 3.9 | 1.7 | 0.4 |\n",
       "\n"
      ],
      "text/plain": [
       "  Sepal.Length Sepal.Width Petal.Length Petal.Width\n",
       "1 5.1          3.5         1.4          0.2        \n",
       "2 4.9          3.0         1.4          0.2        \n",
       "3 4.7          3.2         1.3          0.2        \n",
       "4 4.6          3.1         1.5          0.2        \n",
       "5 5.0          3.6         1.4          0.2        \n",
       "6 5.4          3.9         1.7          0.4        "
      ]
     },
     "metadata": {},
     "output_type": "display_data"
    },
    {
     "data": {
      "text/html": [
       "<table>\n",
       "<thead><tr><th scope=col>PC1</th><th scope=col>PC2</th><th scope=col>Species</th></tr></thead>\n",
       "<tbody>\n",
       "\t<tr><td>2.640270 </td><td>-5.204041</td><td>setosa   </td></tr>\n",
       "\t<tr><td>2.670730 </td><td>-4.666910</td><td>setosa   </td></tr>\n",
       "\t<tr><td>2.454606 </td><td>-4.773636</td><td>setosa   </td></tr>\n",
       "\t<tr><td>2.545517 </td><td>-4.648463</td><td>setosa   </td></tr>\n",
       "\t<tr><td>2.561228 </td><td>-5.258629</td><td>setosa   </td></tr>\n",
       "\t<tr><td>2.975946 </td><td>-5.707321</td><td>setosa   </td></tr>\n",
       "</tbody>\n",
       "</table>\n"
      ],
      "text/latex": [
       "\\begin{tabular}{r|lll}\n",
       " PC1 & PC2 & Species\\\\\n",
       "\\hline\n",
       "\t 2.640270  & -5.204041 & setosa   \\\\\n",
       "\t 2.670730  & -4.666910 & setosa   \\\\\n",
       "\t 2.454606  & -4.773636 & setosa   \\\\\n",
       "\t 2.545517  & -4.648463 & setosa   \\\\\n",
       "\t 2.561228  & -5.258629 & setosa   \\\\\n",
       "\t 2.975946  & -5.707321 & setosa   \\\\\n",
       "\\end{tabular}\n"
      ],
      "text/markdown": [
       "\n",
       "| PC1 | PC2 | Species |\n",
       "|---|---|---|\n",
       "| 2.640270  | -5.204041 | setosa    |\n",
       "| 2.670730  | -4.666910 | setosa    |\n",
       "| 2.454606  | -4.773636 | setosa    |\n",
       "| 2.545517  | -4.648463 | setosa    |\n",
       "| 2.561228  | -5.258629 | setosa    |\n",
       "| 2.975946  | -5.707321 | setosa    |\n",
       "\n"
      ],
      "text/plain": [
       "  PC1      PC2       Species\n",
       "1 2.640270 -5.204041 setosa \n",
       "2 2.670730 -4.666910 setosa \n",
       "3 2.454606 -4.773636 setosa \n",
       "4 2.545517 -4.648463 setosa \n",
       "5 2.561228 -5.258629 setosa \n",
       "6 2.975946 -5.707321 setosa "
      ]
     },
     "metadata": {},
     "output_type": "display_data"
    },
    {
     "data": {
      "text/html": [
       "<table>\n",
       "<thead><tr><th></th><th scope=col>PC1</th><th scope=col>PC2</th></tr></thead>\n",
       "<tbody>\n",
       "\t<tr><th scope=row>Sepal.Length</th><td> 0.5210659 </td><td>-0.37741762</td></tr>\n",
       "\t<tr><th scope=row>Sepal.Width</th><td>-0.2693474 </td><td>-0.92329566</td></tr>\n",
       "\t<tr><th scope=row>Petal.Length</th><td> 0.5804131 </td><td>-0.02449161</td></tr>\n",
       "\t<tr><th scope=row>Petal.Width</th><td> 0.5648565 </td><td>-0.06694199</td></tr>\n",
       "</tbody>\n",
       "</table>\n"
      ],
      "text/latex": [
       "\\begin{tabular}{r|ll}\n",
       "  & PC1 & PC2\\\\\n",
       "\\hline\n",
       "\tSepal.Length &  0.5210659  & -0.37741762\\\\\n",
       "\tSepal.Width & -0.2693474  & -0.92329566\\\\\n",
       "\tPetal.Length &  0.5804131  & -0.02449161\\\\\n",
       "\tPetal.Width &  0.5648565  & -0.06694199\\\\\n",
       "\\end{tabular}\n"
      ],
      "text/markdown": [
       "\n",
       "| <!--/--> | PC1 | PC2 |\n",
       "|---|---|---|\n",
       "| Sepal.Length |  0.5210659  | -0.37741762 |\n",
       "| Sepal.Width | -0.2693474  | -0.92329566 |\n",
       "| Petal.Length |  0.5804131  | -0.02449161 |\n",
       "| Petal.Width |  0.5648565  | -0.06694199 |\n",
       "\n"
      ],
      "text/plain": [
       "             PC1        PC2        \n",
       "Sepal.Length  0.5210659 -0.37741762\n",
       "Sepal.Width  -0.2693474 -0.92329566\n",
       "Petal.Length  0.5804131 -0.02449161\n",
       "Petal.Width   0.5648565 -0.06694199"
      ]
     },
     "metadata": {},
     "output_type": "display_data"
    },
    {
     "data": {
      "image/png": "[encoded data removed]",
      "text/plain": [
       "plot without title"
      ]
     },
     "metadata": {},
     "output_type": "display_data"
    }
   ],
   "source": [
    "head(iris[,1:4])\n",
    "\n",
    "mypca <- dt.pca(iris, \"Species\")\n",
    "head(mypca$pca)\n",
    "\n",
    "head(mypca$transf$pca.transf)\n",
    "\n",
    "plot.scatter(mypca$pca %>% select(x=PC1, value=PC2, variable=Species), colors=mycolors[1:3])"
   ]
  },
  {
   "cell_type": "markdown",
   "metadata": {},
   "source": [
    "## Discretization & smoothing\n",
    "Discretization is the process of transferring continuous functions, models, variables, and equations into discrete counterparts. \n",
    "\n",
    "Smoothing is a technique that creates an approximating function that attempts to capture important patterns in the data while leaving out noise or other fine-scale structures/rapid phenomena.\n",
    "\n",
    "An important part of the discretization/smoothing is to set up bins for proceeding the approximation."
   ]
  },
  {
   "cell_type": "code",
   "execution_count": null,
   "metadata": {},
   "outputs": [],
   "source": []
  },
  {
   "cell_type": "code",
   "execution_count": 22,
   "metadata": {},
   "outputs": [
    {
     "data": {
      "text/html": [
       "<table>\n",
       "<tbody>\n",
       "\t<tr><td>interval: </td><td>4.3       </td><td>6.1       </td><td>7.9       </td><td>entropy:  </td><td>1.19      </td></tr>\n",
       "</tbody>\n",
       "</table>\n"
      ],
      "text/latex": [
       "\\begin{tabular}{r|llllll}\n",
       "\t interval:  & 4.3        & 6.1        & 7.9        & entropy:   & 1.19      \\\\\n",
       "\\end{tabular}\n"
      ],
      "text/markdown": [
       "\n",
       "| interval:  | 4.3        | 6.1        | 7.9        | entropy:   | 1.19       |\n",
       "\n"
      ],
      "text/plain": [
       "  [,1]       [,2] [,3] [,4] [,5]      [,6]\n",
       "1 interval:  4.3  6.1  7.9  entropy:  1.19"
      ]
     },
     "metadata": {},
     "output_type": "display_data"
    },
    {
     "data": {
      "text/html": [
       "<table>\n",
       "<tbody>\n",
       "\t<tr><td>freq:    </td><td>4.3      </td><td>5.8      </td><td>7.9      </td><td>entropy: </td><td>1.10     </td></tr>\n",
       "</tbody>\n",
       "</table>\n"
      ],
      "text/latex": [
       "\\begin{tabular}{r|llllll}\n",
       "\t freq:     & 4.3       & 5.8       & 7.9       & entropy:  & 1.10     \\\\\n",
       "\\end{tabular}\n"
      ],
      "text/markdown": [
       "\n",
       "| freq:     | 4.3       | 5.8       | 7.9       | entropy:  | 1.10      |\n",
       "\n"
      ],
      "text/plain": [
       "  [,1]   [,2] [,3] [,4] [,5]      [,6]\n",
       "1 freq:  4.3  5.8  7.9  entropy:  1.10"
      ]
     },
     "metadata": {},
     "output_type": "display_data"
    },
    {
     "data": {
      "text/html": [
       "<table>\n",
       "<tbody>\n",
       "\t<tr><td>cluster: </td><td>4.3      </td><td>5.9      </td><td>7.9      </td><td>entropy: </td><td>1.10     </td></tr>\n",
       "</tbody>\n",
       "</table>\n"
      ],
      "text/latex": [
       "\\begin{tabular}{r|llllll}\n",
       "\t cluster:  & 4.3       & 5.9       & 7.9       & entropy:  & 1.10     \\\\\n",
       "\\end{tabular}\n"
      ],
      "text/markdown": [
       "\n",
       "| cluster:  | 4.3       | 5.9       | 7.9       | entropy:  | 1.10      |\n",
       "\n"
      ],
      "text/plain": [
       "  [,1]      [,2] [,3] [,4] [,5]      [,6]\n",
       "1 cluster:  4.3  5.9  7.9  entropy:  1.10"
      ]
     },
     "metadata": {},
     "output_type": "display_data"
    }
   ],
   "source": [
    "bi <- smoothing.interval(iris$Sepal.Length, n=2)\n",
    "bf <- smoothing.freq(iris$Sepal.Length, n=2)\n",
    "bc <- smoothing.cluster(iris$Sepal.Length, n=2)\n",
    "\n",
    "show_row(c('interval: ', sprintf(\"%.1f\",bi$interval), 'entropy: ', sprintf(\"%.2f\",entropy_group(bi$bins_factor, iris$Species))))\n",
    "show_row(c('freq: ', sprintf(\"%.1f\",bf$interval), 'entropy: ', sprintf(\"%.2f\",entropy_group(bf$bins_factor, iris$Species))))\n",
    "show_row(c('cluster: ', sprintf(\"%.1f\",bc$interval), 'entropy: ', sprintf(\"%.2f\",entropy_group(bc$bins_factor, iris$Species))))"
   ]
  },
  {
   "cell_type": "markdown",
   "metadata": {},
   "source": [
    "## Optimizing the smoothing using bins based on frequencies"
   ]
  },
  {
   "cell_type": "code",
   "execution_count": 23,
   "metadata": {},
   "outputs": [
    {
     "data": {
      "text/html": [
       "<table>\n",
       "<tbody>\n",
       "\t<tr><td>Sepal.Length: </td><td>4.3           </td><td>5.0           </td><td>5.4           </td><td>5.8           </td><td>6.3           </td><td>6.7           </td><td>7.9           </td><td>entropy:      </td><td>0.87          </td></tr>\n",
       "</tbody>\n",
       "</table>\n"
      ],
      "text/latex": [
       "\\begin{tabular}{r|llllllllll}\n",
       "\t Sepal.Length:  & 4.3            & 5.0            & 5.4            & 5.8            & 6.3            & 6.7            & 7.9            & entropy:       & 0.87          \\\\\n",
       "\\end{tabular}\n"
      ],
      "text/markdown": [
       "\n",
       "| Sepal.Length:  | 4.3            | 5.0            | 5.4            | 5.8            | 6.3            | 6.7            | 7.9            | entropy:       | 0.87           |\n",
       "\n"
      ],
      "text/plain": [
       "  [,1]           [,2] [,3] [,4] [,5] [,6] [,7] [,8] [,9]      [,10]\n",
       "1 Sepal.Length:  4.3  5.0  5.4  5.8  6.3  6.7  7.9  entropy:  0.87 "
      ]
     },
     "metadata": {},
     "output_type": "display_data"
    },
    {
     "data": {
      "text/html": [
       "<table>\n",
       "<tbody>\n",
       "\t<tr><td>Sepal.Width: </td><td>2.0          </td><td>2.7          </td><td>2.9          </td><td>3.0          </td><td>3.2          </td><td>3.4          </td><td>4.4          </td><td>entropy:     </td><td>1.19         </td></tr>\n",
       "</tbody>\n",
       "</table>\n"
      ],
      "text/latex": [
       "\\begin{tabular}{r|llllllllll}\n",
       "\t Sepal.Width:  & 2.0           & 2.7           & 2.9           & 3.0           & 3.2           & 3.4           & 4.4           & entropy:      & 1.19         \\\\\n",
       "\\end{tabular}\n"
      ],
      "text/markdown": [
       "\n",
       "| Sepal.Width:  | 2.0           | 2.7           | 2.9           | 3.0           | 3.2           | 3.4           | 4.4           | entropy:      | 1.19          |\n",
       "\n"
      ],
      "text/plain": [
       "  [,1]          [,2] [,3] [,4] [,5] [,6] [,7] [,8] [,9]      [,10]\n",
       "1 Sepal.Width:  2.0  2.7  2.9  3.0  3.2  3.4  4.4  entropy:  1.19 "
      ]
     },
     "metadata": {},
     "output_type": "display_data"
    },
    {
     "data": {
      "text/html": [
       "<table>\n",
       "<tbody>\n",
       "\t<tr><td>Petal.Length: </td><td>1.0           </td><td>1.5           </td><td>3.9           </td><td>4.6           </td><td>5.3           </td><td>6.9           </td><td>entropy:      </td><td>0.39          </td></tr>\n",
       "</tbody>\n",
       "</table>\n"
      ],
      "text/latex": [
       "\\begin{tabular}{r|lllllllll}\n",
       "\t Petal.Length:  & 1.0            & 1.5            & 3.9            & 4.6            & 5.3            & 6.9            & entropy:       & 0.39          \\\\\n",
       "\\end{tabular}\n"
      ],
      "text/markdown": [
       "\n",
       "| Petal.Length:  | 1.0            | 1.5            | 3.9            | 4.6            | 5.3            | 6.9            | entropy:       | 0.39           |\n",
       "\n"
      ],
      "text/plain": [
       "  [,1]           [,2] [,3] [,4] [,5] [,6] [,7] [,8]      [,9]\n",
       "1 Petal.Length:  1.0  1.5  3.9  4.6  5.3  6.9  entropy:  0.39"
      ]
     },
     "metadata": {},
     "output_type": "display_data"
    },
    {
     "data": {
      "text/html": [
       "<table>\n",
       "<tbody>\n",
       "\t<tr><td>Petal.Width: </td><td>0.1          </td><td>0.2          </td><td>1.2          </td><td>1.5          </td><td>1.9          </td><td>2.5          </td><td>entropy:     </td><td>0.38         </td></tr>\n",
       "</tbody>\n",
       "</table>\n"
      ],
      "text/latex": [
       "\\begin{tabular}{r|lllllllll}\n",
       "\t Petal.Width:  & 0.1           & 0.2           & 1.2           & 1.5           & 1.9           & 2.5           & entropy:      & 0.38         \\\\\n",
       "\\end{tabular}\n"
      ],
      "text/markdown": [
       "\n",
       "| Petal.Width:  | 0.1           | 0.2           | 1.2           | 1.5           | 1.9           | 2.5           | entropy:      | 0.38          |\n",
       "\n"
      ],
      "text/plain": [
       "  [,1]          [,2] [,3] [,4] [,5] [,6] [,7] [,8]      [,9]\n",
       "1 Petal.Width:  0.1  0.2  1.2  1.5  1.9  2.5  entropy:  0.38"
      ]
     },
     "metadata": {},
     "output_type": "display_data"
    }
   ],
   "source": [
    "bsl <- smoothing.opt(iris$Sepal.Length, smoothing=smoothing.freq)\n",
    "bsw <- smoothing.opt(iris$Sepal.Width, smoothing=smoothing.freq)\n",
    "bpl <- smoothing.opt(iris$Petal.Length, smoothing=smoothing.freq)\n",
    "bpw <- smoothing.opt(iris$Petal.Width, smoothing=smoothing.freq)\n",
    "\n",
    "\n",
    "show_row(c('Sepal.Length: ', sprintf(\"%.1f\",bsl$interval), 'entropy: ', sprintf(\"%.2f\",entropy_group(bsl$bins_factor, iris$Species))))\n",
    "show_row(c('Sepal.Width: ', sprintf(\"%.1f\",bsw$interval), 'entropy: ', sprintf(\"%.2f\",entropy_group(bsw$bins_factor, iris$Species))))\n",
    "show_row(c('Petal.Length: ', sprintf(\"%.1f\",bpl$interval), 'entropy: ', sprintf(\"%.2f\",entropy_group(bpl$bins_factor, iris$Species))))\n",
    "show_row(c('Petal.Width: ', sprintf(\"%.1f\",bpw$interval), 'entropy: ', sprintf(\"%.2f\",entropy_group(bpw$bins_factor, iris$Species))))"
   ]
  },
  {
   "cell_type": "markdown",
   "metadata": {},
   "source": [
    "## Optimizing the smoothing using bins based on clusters"
   ]
  },
  {
   "cell_type": "code",
   "execution_count": 24,
   "metadata": {},
   "outputs": [
    {
     "data": {
      "text/html": [
       "<table>\n",
       "<tbody>\n",
       "\t<tr><td>Sepal.Length: </td><td>4.3           </td><td>4.8           </td><td>5.3           </td><td>5.8           </td><td>6.3           </td><td>7.0           </td><td>7.9           </td><td>entropy:      </td><td>0.85          </td></tr>\n",
       "</tbody>\n",
       "</table>\n"
      ],
      "text/latex": [
       "\\begin{tabular}{r|llllllllll}\n",
       "\t Sepal.Length:  & 4.3            & 4.8            & 5.3            & 5.8            & 6.3            & 7.0            & 7.9            & entropy:       & 0.85          \\\\\n",
       "\\end{tabular}\n"
      ],
      "text/markdown": [
       "\n",
       "| Sepal.Length:  | 4.3            | 4.8            | 5.3            | 5.8            | 6.3            | 7.0            | 7.9            | entropy:       | 0.85           |\n",
       "\n"
      ],
      "text/plain": [
       "  [,1]           [,2] [,3] [,4] [,5] [,6] [,7] [,8] [,9]      [,10]\n",
       "1 Sepal.Length:  4.3  4.8  5.3  5.8  6.3  7.0  7.9  entropy:  0.85 "
      ]
     },
     "metadata": {},
     "output_type": "display_data"
    },
    {
     "data": {
      "text/html": [
       "<table>\n",
       "<tbody>\n",
       "\t<tr><td>Sepal.Width: </td><td>2.0          </td><td>2.8          </td><td>3.2          </td><td>3.6          </td><td>3.8          </td><td>4.1          </td><td>4.4          </td><td>entropy:     </td><td>1.22         </td></tr>\n",
       "</tbody>\n",
       "</table>\n"
      ],
      "text/latex": [
       "\\begin{tabular}{r|llllllllll}\n",
       "\t Sepal.Width:  & 2.0           & 2.8           & 3.2           & 3.6           & 3.8           & 4.1           & 4.4           & entropy:      & 1.22         \\\\\n",
       "\\end{tabular}\n"
      ],
      "text/markdown": [
       "\n",
       "| Sepal.Width:  | 2.0           | 2.8           | 3.2           | 3.6           | 3.8           | 4.1           | 4.4           | entropy:      | 1.22          |\n",
       "\n"
      ],
      "text/plain": [
       "  [,1]          [,2] [,3] [,4] [,5] [,6] [,7] [,8] [,9]      [,10]\n",
       "1 Sepal.Width:  2.0  2.8  3.2  3.6  3.8  4.1  4.4  entropy:  1.22 "
      ]
     },
     "metadata": {},
     "output_type": "display_data"
    },
    {
     "data": {
      "text/html": [
       "<table>\n",
       "<tbody>\n",
       "\t<tr><td>Petal.Length: </td><td>1.0           </td><td>2.4           </td><td>3.8           </td><td>4.5           </td><td>5.4           </td><td>6.9           </td><td>entropy:      </td><td>0.27          </td></tr>\n",
       "</tbody>\n",
       "</table>\n"
      ],
      "text/latex": [
       "\\begin{tabular}{r|lllllllll}\n",
       "\t Petal.Length:  & 1.0            & 2.4            & 3.8            & 4.5            & 5.4            & 6.9            & entropy:       & 0.27          \\\\\n",
       "\\end{tabular}\n"
      ],
      "text/markdown": [
       "\n",
       "| Petal.Length:  | 1.0            | 2.4            | 3.8            | 4.5            | 5.4            | 6.9            | entropy:       | 0.27           |\n",
       "\n"
      ],
      "text/plain": [
       "  [,1]           [,2] [,3] [,4] [,5] [,6] [,7] [,8]      [,9]\n",
       "1 Petal.Length:  1.0  2.4  3.8  4.5  5.4  6.9  entropy:  0.27"
      ]
     },
     "metadata": {},
     "output_type": "display_data"
    },
    {
     "data": {
      "text/html": [
       "<table>\n",
       "<tbody>\n",
       "\t<tr><td>Petal.Width: </td><td>0.1          </td><td>0.2          </td><td>0.8          </td><td>1.6          </td><td>2.0          </td><td>2.5          </td><td>entropy:     </td><td>0.24         </td></tr>\n",
       "</tbody>\n",
       "</table>\n"
      ],
      "text/latex": [
       "\\begin{tabular}{r|lllllllll}\n",
       "\t Petal.Width:  & 0.1           & 0.2           & 0.8           & 1.6           & 2.0           & 2.5           & entropy:      & 0.24         \\\\\n",
       "\\end{tabular}\n"
      ],
      "text/markdown": [
       "\n",
       "| Petal.Width:  | 0.1           | 0.2           | 0.8           | 1.6           | 2.0           | 2.5           | entropy:      | 0.24          |\n",
       "\n"
      ],
      "text/plain": [
       "  [,1]          [,2] [,3] [,4] [,5] [,6] [,7] [,8]      [,9]\n",
       "1 Petal.Width:  0.1  0.2  0.8  1.6  2.0  2.5  entropy:  0.24"
      ]
     },
     "metadata": {},
     "output_type": "display_data"
    }
   ],
   "source": [
    "bsl <- smoothing.opt(iris$Sepal.Length, smoothing=smoothing.cluster)\n",
    "bsw <- smoothing.opt(iris$Sepal.Width, smoothing=smoothing.cluster)\n",
    "bpl <- smoothing.opt(iris$Petal.Length, smoothing=smoothing.cluster)\n",
    "bpw <- smoothing.opt(iris$Petal.Width, smoothing=smoothing.cluster)\n",
    "\n",
    "\n",
    "show_row(c('Sepal.Length: ', sprintf(\"%.1f\",bsl$interval), 'entropy: ', sprintf(\"%.2f\",entropy_group(bsl$bins_factor, iris$Species))))\n",
    "show_row(c('Sepal.Width: ', sprintf(\"%.1f\",bsw$interval), 'entropy: ', sprintf(\"%.2f\",entropy_group(bsw$bins_factor, iris$Species))))\n",
    "show_row(c('Petal.Length: ', sprintf(\"%.1f\",bpl$interval), 'entropy: ', sprintf(\"%.2f\",entropy_group(bpl$bins_factor, iris$Species))))\n",
    "show_row(c('Petal.Width: ', sprintf(\"%.1f\",bpw$interval), 'entropy: ', sprintf(\"%.2f\",entropy_group(bpw$bins_factor, iris$Species))))"
   ]
  },
  {
   "cell_type": "markdown",
   "metadata": {},
   "source": [
    "## Categorical mapping\n",
    "A categorical attribute with $n$ distinct values is mapped into $n$ binary attributes. \n",
    "\n",
    "It is also possible to map into $n-1$ binary values, where the scenario where all binary attributes are equal to zero corresponds to the last categorical value not indicated in the attributes.  "
   ]
  },
  {
   "cell_type": "code",
   "execution_count": 26,
   "metadata": {},
   "outputs": [
    {
     "data": {
      "text/html": [
       "<table>\n",
       "<thead><tr><th></th><th scope=col>Sepal.Length</th><th scope=col>Sepal.Width</th><th scope=col>Petal.Length</th><th scope=col>Petal.Width</th><th scope=col>Species</th><th scope=col>Speciessetosa</th><th scope=col>Speciesversicolor</th><th scope=col>Speciesvirginica</th></tr></thead>\n",
       "<tbody>\n",
       "\t<tr><th scope=row>51</th><td>7.0       </td><td>3.2       </td><td>4.7       </td><td>1.4       </td><td>versicolor</td><td>0         </td><td>1         </td><td>0         </td></tr>\n",
       "\t<tr><th scope=row>88</th><td>6.3       </td><td>2.3       </td><td>4.4       </td><td>1.3       </td><td>versicolor</td><td>0         </td><td>1         </td><td>0         </td></tr>\n",
       "\t<tr><th scope=row>139</th><td>6.0       </td><td>3.0       </td><td>4.8       </td><td>1.8       </td><td>virginica </td><td>0         </td><td>0         </td><td>1         </td></tr>\n",
       "\t<tr><th scope=row>82</th><td>5.5       </td><td>2.4       </td><td>3.7       </td><td>1.0       </td><td>versicolor</td><td>0         </td><td>1         </td><td>0         </td></tr>\n",
       "\t<tr><th scope=row>86</th><td>6.0       </td><td>3.4       </td><td>4.5       </td><td>1.6       </td><td>versicolor</td><td>0         </td><td>1         </td><td>0         </td></tr>\n",
       "\t<tr><th scope=row>69</th><td>6.2       </td><td>2.2       </td><td>4.5       </td><td>1.5       </td><td>versicolor</td><td>0         </td><td>1         </td><td>0         </td></tr>\n",
       "</tbody>\n",
       "</table>\n"
      ],
      "text/latex": [
       "\\begin{tabular}{r|llllllll}\n",
       "  & Sepal.Length & Sepal.Width & Petal.Length & Petal.Width & Species & Speciessetosa & Speciesversicolor & Speciesvirginica\\\\\n",
       "\\hline\n",
       "\t51 & 7.0        & 3.2        & 4.7        & 1.4        & versicolor & 0          & 1          & 0         \\\\\n",
       "\t88 & 6.3        & 2.3        & 4.4        & 1.3        & versicolor & 0          & 1          & 0         \\\\\n",
       "\t139 & 6.0        & 3.0        & 4.8        & 1.8        & virginica  & 0          & 0          & 1         \\\\\n",
       "\t82 & 5.5        & 2.4        & 3.7        & 1.0        & versicolor & 0          & 1          & 0         \\\\\n",
       "\t86 & 6.0        & 3.4        & 4.5        & 1.6        & versicolor & 0          & 1          & 0         \\\\\n",
       "\t69 & 6.2        & 2.2        & 4.5        & 1.5        & versicolor & 0          & 1          & 0         \\\\\n",
       "\\end{tabular}\n"
      ],
      "text/markdown": [
       "\n",
       "| <!--/--> | Sepal.Length | Sepal.Width | Petal.Length | Petal.Width | Species | Speciessetosa | Speciesversicolor | Speciesvirginica |\n",
       "|---|---|---|---|---|---|---|---|---|\n",
       "| 51 | 7.0        | 3.2        | 4.7        | 1.4        | versicolor | 0          | 1          | 0          |\n",
       "| 88 | 6.3        | 2.3        | 4.4        | 1.3        | versicolor | 0          | 1          | 0          |\n",
       "| 139 | 6.0        | 3.0        | 4.8        | 1.8        | virginica  | 0          | 0          | 1          |\n",
       "| 82 | 5.5        | 2.4        | 3.7        | 1.0        | versicolor | 0          | 1          | 0          |\n",
       "| 86 | 6.0        | 3.4        | 4.5        | 1.6        | versicolor | 0          | 1          | 0          |\n",
       "| 69 | 6.2        | 2.2        | 4.5        | 1.5        | versicolor | 0          | 1          | 0          |\n",
       "\n"
      ],
      "text/plain": [
       "    Sepal.Length Sepal.Width Petal.Length Petal.Width Species    Speciessetosa\n",
       "51  7.0          3.2         4.7          1.4         versicolor 0            \n",
       "88  6.3          2.3         4.4          1.3         versicolor 0            \n",
       "139 6.0          3.0         4.8          1.8         virginica  0            \n",
       "82  5.5          2.4         3.7          1.0         versicolor 0            \n",
       "86  6.0          3.4         4.5          1.6         versicolor 0            \n",
       "69  6.2          2.2         4.5          1.5         versicolor 0            \n",
       "    Speciesversicolor Speciesvirginica\n",
       "51  1                 0               \n",
       "88  1                 0               \n",
       "139 0                 1               \n",
       "82  1                 0               \n",
       "86  1                 0               \n",
       "69  1                 0               "
      ]
     },
     "metadata": {},
     "output_type": "display_data"
    }
   ],
   "source": [
    "mycm <- dt.categ_mapping(sampler$sample, \"Species\")\n",
    "head(mycm)"
   ]
  },
  {
   "cell_type": "code",
   "execution_count": null,
   "metadata": {},
   "outputs": [],
   "source": []
  }
 ],
 "metadata": {
  "kernelspec": {
   "display_name": "R",
   "language": "R",
   "name": "ir"
  },
  "language_info": {
   "codemirror_mode": "r",
   "file_extension": ".r",
   "mimetype": "text/x-r-source",
   "name": "R",
   "pygments_lexer": "r",
   "version": "3.6.0"
  }
 },
 "nbformat": 4,
 "nbformat_minor": 2
}
