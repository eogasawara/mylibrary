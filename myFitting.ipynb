{
 "cells": [
  {
   "cell_type": "code",
   "execution_count": 3,
   "metadata": {},
   "outputs": [],
   "source": [
    "source(\"https://raw.githubusercontent.com/eogasawara/mylibrary/master/myFitting.R\")"
   ]
  },
  {
   "cell_type": "code",
   "execution_count": 4,
   "metadata": {},
   "outputs": [
    {
     "data": {
      "text/html": [
       "<table>\n",
       "<caption>A data.frame: 6 × 14</caption>\n",
       "<thead>\n",
       "\t<tr><th></th><th scope=col>X1</th><th scope=col>X14.23</th><th scope=col>X1.71</th><th scope=col>X2.43</th><th scope=col>X15.6</th><th scope=col>X127</th><th scope=col>X2.8</th><th scope=col>X3.06</th><th scope=col>X.28</th><th scope=col>X2.29</th><th scope=col>X5.64</th><th scope=col>X1.04</th><th scope=col>X3.92</th><th scope=col>X1065</th></tr>\n",
       "\t<tr><th></th><th scope=col>&lt;int&gt;</th><th scope=col>&lt;dbl&gt;</th><th scope=col>&lt;dbl&gt;</th><th scope=col>&lt;dbl&gt;</th><th scope=col>&lt;dbl&gt;</th><th scope=col>&lt;int&gt;</th><th scope=col>&lt;dbl&gt;</th><th scope=col>&lt;dbl&gt;</th><th scope=col>&lt;dbl&gt;</th><th scope=col>&lt;dbl&gt;</th><th scope=col>&lt;dbl&gt;</th><th scope=col>&lt;dbl&gt;</th><th scope=col>&lt;dbl&gt;</th><th scope=col>&lt;int&gt;</th></tr>\n",
       "</thead>\n",
       "<tbody>\n",
       "\t<tr><th scope=row>1</th><td>1</td><td>13.20</td><td>1.78</td><td>2.14</td><td>11.2</td><td>100</td><td>2.65</td><td>2.76</td><td>0.26</td><td>1.28</td><td>4.38</td><td>1.05</td><td>3.40</td><td>1050</td></tr>\n",
       "\t<tr><th scope=row>2</th><td>1</td><td>13.16</td><td>2.36</td><td>2.67</td><td>18.6</td><td>101</td><td>2.80</td><td>3.24</td><td>0.30</td><td>2.81</td><td>5.68</td><td>1.03</td><td>3.17</td><td>1185</td></tr>\n",
       "\t<tr><th scope=row>3</th><td>1</td><td>14.37</td><td>1.95</td><td>2.50</td><td>16.8</td><td>113</td><td>3.85</td><td>3.49</td><td>0.24</td><td>2.18</td><td>7.80</td><td>0.86</td><td>3.45</td><td>1480</td></tr>\n",
       "\t<tr><th scope=row>4</th><td>1</td><td>13.24</td><td>2.59</td><td>2.87</td><td>21.0</td><td>118</td><td>2.80</td><td>2.69</td><td>0.39</td><td>1.82</td><td>4.32</td><td>1.04</td><td>2.93</td><td> 735</td></tr>\n",
       "\t<tr><th scope=row>5</th><td>1</td><td>14.20</td><td>1.76</td><td>2.45</td><td>15.2</td><td>112</td><td>3.27</td><td>3.39</td><td>0.34</td><td>1.97</td><td>6.75</td><td>1.05</td><td>2.85</td><td>1450</td></tr>\n",
       "\t<tr><th scope=row>6</th><td>1</td><td>14.39</td><td>1.87</td><td>2.45</td><td>14.6</td><td> 96</td><td>2.50</td><td>2.52</td><td>0.30</td><td>1.98</td><td>5.25</td><td>1.02</td><td>3.58</td><td>1290</td></tr>\n",
       "</tbody>\n",
       "</table>\n"
      ],
      "text/latex": [
       "A data.frame: 6 × 14\n",
       "\\begin{tabular}{r|llllllllllllll}\n",
       "  & X1 & X14.23 & X1.71 & X2.43 & X15.6 & X127 & X2.8 & X3.06 & X.28 & X2.29 & X5.64 & X1.04 & X3.92 & X1065\\\\\n",
       "  & <int> & <dbl> & <dbl> & <dbl> & <dbl> & <int> & <dbl> & <dbl> & <dbl> & <dbl> & <dbl> & <dbl> & <dbl> & <int>\\\\\n",
       "\\hline\n",
       "\t1 & 1 & 13.20 & 1.78 & 2.14 & 11.2 & 100 & 2.65 & 2.76 & 0.26 & 1.28 & 4.38 & 1.05 & 3.40 & 1050\\\\\n",
       "\t2 & 1 & 13.16 & 2.36 & 2.67 & 18.6 & 101 & 2.80 & 3.24 & 0.30 & 2.81 & 5.68 & 1.03 & 3.17 & 1185\\\\\n",
       "\t3 & 1 & 14.37 & 1.95 & 2.50 & 16.8 & 113 & 3.85 & 3.49 & 0.24 & 2.18 & 7.80 & 0.86 & 3.45 & 1480\\\\\n",
       "\t4 & 1 & 13.24 & 2.59 & 2.87 & 21.0 & 118 & 2.80 & 2.69 & 0.39 & 1.82 & 4.32 & 1.04 & 2.93 &  735\\\\\n",
       "\t5 & 1 & 14.20 & 1.76 & 2.45 & 15.2 & 112 & 3.27 & 3.39 & 0.34 & 1.97 & 6.75 & 1.05 & 2.85 & 1450\\\\\n",
       "\t6 & 1 & 14.39 & 1.87 & 2.45 & 14.6 &  96 & 2.50 & 2.52 & 0.30 & 1.98 & 5.25 & 1.02 & 3.58 & 1290\\\\\n",
       "\\end{tabular}\n"
      ],
      "text/markdown": [
       "\n",
       "A data.frame: 6 × 14\n",
       "\n",
       "| <!--/--> | X1 &lt;int&gt; | X14.23 &lt;dbl&gt; | X1.71 &lt;dbl&gt; | X2.43 &lt;dbl&gt; | X15.6 &lt;dbl&gt; | X127 &lt;int&gt; | X2.8 &lt;dbl&gt; | X3.06 &lt;dbl&gt; | X.28 &lt;dbl&gt; | X2.29 &lt;dbl&gt; | X5.64 &lt;dbl&gt; | X1.04 &lt;dbl&gt; | X3.92 &lt;dbl&gt; | X1065 &lt;int&gt; |\n",
       "|---|---|---|---|---|---|---|---|---|---|---|---|---|---|---|\n",
       "| 1 | 1 | 13.20 | 1.78 | 2.14 | 11.2 | 100 | 2.65 | 2.76 | 0.26 | 1.28 | 4.38 | 1.05 | 3.40 | 1050 |\n",
       "| 2 | 1 | 13.16 | 2.36 | 2.67 | 18.6 | 101 | 2.80 | 3.24 | 0.30 | 2.81 | 5.68 | 1.03 | 3.17 | 1185 |\n",
       "| 3 | 1 | 14.37 | 1.95 | 2.50 | 16.8 | 113 | 3.85 | 3.49 | 0.24 | 2.18 | 7.80 | 0.86 | 3.45 | 1480 |\n",
       "| 4 | 1 | 13.24 | 2.59 | 2.87 | 21.0 | 118 | 2.80 | 2.69 | 0.39 | 1.82 | 4.32 | 1.04 | 2.93 |  735 |\n",
       "| 5 | 1 | 14.20 | 1.76 | 2.45 | 15.2 | 112 | 3.27 | 3.39 | 0.34 | 1.97 | 6.75 | 1.05 | 2.85 | 1450 |\n",
       "| 6 | 1 | 14.39 | 1.87 | 2.45 | 14.6 |  96 | 2.50 | 2.52 | 0.30 | 1.98 | 5.25 | 1.02 | 3.58 | 1290 |\n",
       "\n"
      ],
      "text/plain": [
       "  X1 X14.23 X1.71 X2.43 X15.6 X127 X2.8 X3.06 X.28 X2.29 X5.64 X1.04 X3.92\n",
       "1 1  13.20  1.78  2.14  11.2  100  2.65 2.76  0.26 1.28  4.38  1.05  3.40 \n",
       "2 1  13.16  2.36  2.67  18.6  101  2.80 3.24  0.30 2.81  5.68  1.03  3.17 \n",
       "3 1  14.37  1.95  2.50  16.8  113  3.85 3.49  0.24 2.18  7.80  0.86  3.45 \n",
       "4 1  13.24  2.59  2.87  21.0  118  2.80 2.69  0.39 1.82  4.32  1.04  2.93 \n",
       "5 1  14.20  1.76  2.45  15.2  112  3.27 3.39  0.34 1.97  6.75  1.05  2.85 \n",
       "6 1  14.39  1.87  2.45  14.6   96  2.50 2.52  0.30 1.98  5.25  1.02  3.58 \n",
       "  X1065\n",
       "1 1050 \n",
       "2 1185 \n",
       "3 1480 \n",
       "4  735 \n",
       "5 1450 \n",
       "6 1290 "
      ]
     },
     "metadata": {},
     "output_type": "display_data"
    }
   ],
   "source": [
    "wine <- get(load(url(\"https://raw.githubusercontent.com/eogasawara/mylibrary/master/data/wine.RData\")))\n",
    "head(wine)"
   ]
  },
  {
   "cell_type": "code",
   "execution_count": 5,
   "metadata": {},
   "outputs": [
    {
     "data": {
      "image/png": "[encoded data removed]",
      "text/plain": [
       "plot without title"
      ]
     },
     "metadata": {
      "image/png": {
       "height": 420,
       "width": 420
      }
     },
     "output_type": "display_data"
    }
   ],
   "source": [
    "pca_res = prcomp(wine[,2:ncol(wine)], center=TRUE, scale.=TRUE)\n",
    "y <- cumsum(pca_res$sdev^2/sum(pca_res$sdev^2))\n",
    "x <- 1:length(y)\n",
    "plot(x, y)"
   ]
  },
  {
   "cell_type": "code",
   "execution_count": 6,
   "metadata": {},
   "outputs": [
    {
     "data": {
      "image/png": "[encoded data removed]",
      "text/plain": [
       "plot without title"
      ]
     },
     "metadata": {
      "image/png": {
       "height": 420,
       "width": 420
      }
     },
     "output_type": "display_data"
    }
   ],
   "source": [
    "myfit <- curvature(x, y, min)\n",
    "plot(myfit)"
   ]
  },
  {
   "cell_type": "code",
   "execution_count": null,
   "metadata": {},
   "outputs": [],
   "source": []
  }
 ],
 "metadata": {
  "kernelspec": {
   "display_name": "R",
   "language": "R",
   "name": "ir"
  },
  "language_info": {
   "codemirror_mode": "r",
   "file_extension": ".r",
   "mimetype": "text/x-r-source",
   "name": "R",
   "pygments_lexer": "r",
   "version": "3.6.0"
  }
 },
 "nbformat": 4,
 "nbformat_minor": 2
}
