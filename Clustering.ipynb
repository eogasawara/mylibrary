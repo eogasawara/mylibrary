{
 "cells": [
  {
   "cell_type": "markdown",
   "metadata": {},
   "source": [
    "# Clustering\n",
    "## Libraries and Datasets\n"
   ]
  },
  {
   "cell_type": "code",
   "execution_count": 1,
   "metadata": {},
   "outputs": [],
   "source": [
    "# version 1.2\n",
    "source(\"https://raw.githubusercontent.com/eogasawara/mylibrary/master/myBasic.R\")\n",
    "source(\"https://raw.githubusercontent.com/eogasawara/mylibrary/master/myPreprocessing.R\")\n",
    "source(\"https://raw.githubusercontent.com/eogasawara/mylibrary/master/myClustering.R\")"
   ]
  },
  {
   "cell_type": "code",
   "execution_count": 2,
   "metadata": {},
   "outputs": [],
   "source": [
    "iris <- datasets::iris"
   ]
  },
  {
   "cell_type": "markdown",
   "metadata": {},
   "source": [
    "General entropy of dataset"
   ]
  },
  {
   "cell_type": "code",
   "execution_count": 3,
   "metadata": {},
   "outputs": [
    {
     "name": "stderr",
     "output_type": "stream",
     "text": [
      "Loading required package: dplyr\n",
      "\n",
      "\n",
      "Attaching package: 'dplyr'\n",
      "\n",
      "\n",
      "The following objects are masked from 'package:stats':\n",
      "\n",
      "    filter, lag\n",
      "\n",
      "\n",
      "The following objects are masked from 'package:base':\n",
      "\n",
      "    intersect, setdiff, setequal, union\n",
      "\n",
      "\n"
     ]
    },
    {
     "name": "stdout",
     "output_type": "stream",
     "text": [
      "[1] 1.584963\n"
     ]
    }
   ],
   "source": [
    "eval <- cluster_evaluation(rep(1, nrow(iris)), iris$Species)\n",
    "print(eval$entropy)"
   ]
  },
  {
   "cell_type": "markdown",
   "metadata": {},
   "source": [
    "## General function to test clustering methods"
   ]
  },
  {
   "cell_type": "code",
   "execution_count": 4,
   "metadata": {},
   "outputs": [],
   "source": [
    "test_clustering <- function(model, data, attribute, opt=FALSE) {\n",
    "  print(class(model)[1])\n",
    "  if (opt) \n",
    "    model <- optimize(model, data)    \n",
    "  clu <- action(model, data)\n",
    "  print(table(clu))\n",
    "  eval <- cluster_evaluation(clu, attribute)\n",
    "  print(eval$entropy)\n",
    "}\n"
   ]
  },
  {
   "cell_type": "code",
   "execution_count": 5,
   "metadata": {},
   "outputs": [
    {
     "name": "stdout",
     "output_type": "stream",
     "text": [
      "[1] \"cluster_kmeans\"\n"
     ]
    },
    {
     "name": "stderr",
     "output_type": "stream",
     "text": [
      "Loading required package: cluster\n",
      "\n"
     ]
    },
    {
     "name": "stdout",
     "output_type": "stream",
     "text": [
      "clu\n",
      " 1  2  3 \n",
      "50 38 62 \n",
      "[1] 0.3938863\n"
     ]
    }
   ],
   "source": [
    "# kmeans with k equals 3\n",
    "test_clustering(cluster_kmeans(k=3), iris[,1:4], iris[,5])"
   ]
  },
  {
   "cell_type": "code",
   "execution_count": 6,
   "metadata": {},
   "outputs": [
    {
     "name": "stdout",
     "output_type": "stream",
     "text": [
      "[1] \"cluster_pam\"\n",
      "clu\n",
      " 1  2  3 \n",
      "50 62 38 \n",
      "[1] 0.3938863\n"
     ]
    }
   ],
   "source": [
    "# kmedoid with k equals 3\n",
    "test_clustering(cluster_pam(k=3), iris[,1:4], iris[,5])"
   ]
  },
  {
   "cell_type": "code",
   "execution_count": 7,
   "metadata": {},
   "outputs": [
    {
     "name": "stdout",
     "output_type": "stream",
     "text": [
      "[1] \"cluster_dbscan\"\n"
     ]
    },
    {
     "name": "stderr",
     "output_type": "stream",
     "text": [
      "Loading required package: fpc\n",
      "\n"
     ]
    },
    {
     "name": "stdout",
     "output_type": "stream",
     "text": [
      "clu\n",
      " 0  1  2  3  4 \n",
      "22 47 39  4 38 \n",
      "[1] 0.2792713\n"
     ]
    }
   ],
   "source": [
    "# dbscan\n",
    "test_clustering(cluster_dbscan(eps = 0.4, MinPts = 3), iris[,1:4], iris[,5])"
   ]
  },
  {
   "cell_type": "code",
   "execution_count": 8,
   "metadata": {},
   "outputs": [
    {
     "name": "stdout",
     "output_type": "stream",
     "text": [
      "[1] \"cluster_kmeans\"\n"
     ]
    },
    {
     "name": "stderr",
     "output_type": "stream",
     "text": [
      "Loading required package: factoextra\n",
      "\n",
      "Loading required package: ggplot2\n",
      "\n",
      "Welcome! Want to learn more? See two factoextra-related books at https://goo.gl/ve3WBa\n",
      "\n"
     ]
    },
    {
     "name": "stdout",
     "output_type": "stream",
     "text": [
      "clu\n",
      " 1  2  3  4  5  6  7  8 \n",
      "11 16 12 23 36 24  7 21 \n",
      "[1] 0.2651318\n"
     ]
    }
   ],
   "source": [
    "test_clustering(cluster_kmeans(NULL), iris[,1:4], iris[,5], TRUE)"
   ]
  },
  {
   "cell_type": "code",
   "execution_count": 9,
   "metadata": {},
   "outputs": [
    {
     "name": "stdout",
     "output_type": "stream",
     "text": [
      "[1] \"cluster_pam\"\n",
      "clu\n",
      " 1  2  3  4  5  6  7  8 \n",
      "24 26 12 13 20 21 25  9 \n",
      "[1] 0.1590231\n"
     ]
    }
   ],
   "source": [
    "test_clustering(cluster_pam(NULL), iris[,1:4], iris[,5], TRUE)"
   ]
  },
  {
   "cell_type": "code",
   "execution_count": 10,
   "metadata": {},
   "outputs": [
    {
     "name": "stdout",
     "output_type": "stream",
     "text": [
      "[1] \"cluster_dbscan\"\n"
     ]
    },
    {
     "name": "stderr",
     "output_type": "stream",
     "text": [
      "Loading required package: Rcpp\n",
      "\n",
      "Loading required package: dbscan\n",
      "\n",
      "\n",
      "Attaching package: 'dbscan'\n",
      "\n",
      "\n",
      "The following object is masked from 'package:fpc':\n",
      "\n",
      "    dbscan\n",
      "\n",
      "\n"
     ]
    },
    {
     "name": "stdout",
     "output_type": "stream",
     "text": [
      "clu\n",
      " 0  1  2  3  4 \n",
      "26 47 38  4 35 \n",
      "[1] 0.3037218\n"
     ]
    }
   ],
   "source": [
    "test_clustering(cluster_dbscan(eps = NULL, MinPts = 3), iris[,1:4], iris[,5], TRUE)"
   ]
  },
  {
   "cell_type": "code",
   "execution_count": null,
   "metadata": {},
   "outputs": [],
   "source": []
  }
 ],
 "metadata": {
  "kernelspec": {
   "display_name": "R",
   "language": "R",
   "name": "ir"
  },
  "language_info": {
   "codemirror_mode": "r",
   "file_extension": ".r",
   "mimetype": "text/x-r-source",
   "name": "R",
   "pygments_lexer": "r",
   "version": "4.0.5"
  }
 },
 "nbformat": 4,
 "nbformat_minor": 2
}
