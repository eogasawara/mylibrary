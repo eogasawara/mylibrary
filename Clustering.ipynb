{
 "cells": [
  {
   "cell_type": "code",
   "execution_count": 14,
   "metadata": {},
   "outputs": [],
   "source": [
    "# version 1.0\n",
    "source(\"https://raw.githubusercontent.com/eogasawara/mylibrary/master/myClustering.R\")\n",
    "data(iris)"
   ]
  },
  {
   "cell_type": "markdown",
   "metadata": {},
   "source": [
    "# Clustering\n",
    "## Libraries and Datasets\n"
   ]
  },
  {
   "cell_type": "markdown",
   "metadata": {},
   "source": [
    "General entropy of dataset"
   ]
  },
  {
   "cell_type": "code",
   "execution_count": 15,
   "metadata": {},
   "outputs": [
    {
     "name": "stdout",
     "output_type": "stream",
     "text": [
      "[1] 1.584963\n"
     ]
    }
   ],
   "source": [
    "eval <- cluster_evaluation(rep(1, nrow(iris)), iris$Species)\n",
    "print(eval$entropy)"
   ]
  },
  {
   "cell_type": "markdown",
   "metadata": {},
   "source": [
    "## General function to test clustering methods"
   ]
  },
  {
   "cell_type": "code",
   "execution_count": 16,
   "metadata": {},
   "outputs": [],
   "source": [
    "test_clustering <- function(model, data, attribute, opt=FALSE) {\n",
    "  print(class(model)[1])\n",
    "  if (opt) \n",
    "    model <- optimize(model, data)    \n",
    "  clu <- action(model, data)\n",
    "  print(table(clu))\n",
    "  eval <- cluster_evaluation(clu, attribute)\n",
    "  print(eval$entropy)\n",
    "}\n"
   ]
  },
  {
   "cell_type": "code",
   "execution_count": 17,
   "metadata": {},
   "outputs": [
    {
     "name": "stdout",
     "output_type": "stream",
     "text": [
      "[1] \"cluster_kmeans\"\n",
      "clu\n",
      " 1  2  3 \n",
      "50 62 38 \n",
      "[1] 0.3938863\n"
     ]
    }
   ],
   "source": [
    "# kmeans with k equals 3\n",
    "test_clustering(cluster_kmeans(k=3), iris[,1:4], iris[,5])"
   ]
  },
  {
   "cell_type": "code",
   "execution_count": 18,
   "metadata": {},
   "outputs": [
    {
     "name": "stdout",
     "output_type": "stream",
     "text": [
      "[1] \"cluster_pam\"\n",
      "clu\n",
      " 1  2  3 \n",
      "50 62 38 \n",
      "[1] 0.3938863\n"
     ]
    }
   ],
   "source": [
    "# kmedoid with k equals 3\n",
    "test_clustering(cluster_pam(k=3), iris[,1:4], iris[,5])"
   ]
  },
  {
   "cell_type": "code",
   "execution_count": 19,
   "metadata": {},
   "outputs": [
    {
     "name": "stdout",
     "output_type": "stream",
     "text": [
      "[1] \"cluster_dbscan\"\n",
      "clu\n",
      " 0  1  2  3  4 \n",
      "22 47 39  4 38 \n",
      "[1] 0.2792713\n"
     ]
    }
   ],
   "source": [
    "# dbscan\n",
    "test_clustering(cluster_dbscan(eps = 0.4, MinPts = 3), iris[,1:4], iris[,5])"
   ]
  },
  {
   "cell_type": "code",
   "execution_count": 20,
   "metadata": {},
   "outputs": [
    {
     "name": "stdout",
     "output_type": "stream",
     "text": [
      "[1] \"cluster_kmeans\"\n",
      "clu\n",
      " 1  2  3  4  5  6  7  8 \n",
      "11 16 12 23 36 24  7 21 \n",
      "[1] 0.2651318\n"
     ]
    }
   ],
   "source": [
    "test_clustering(cluster_kmeans(NULL), iris[,1:4], iris[,5], TRUE)"
   ]
  },
  {
   "cell_type": "code",
   "execution_count": 21,
   "metadata": {},
   "outputs": [
    {
     "name": "stdout",
     "output_type": "stream",
     "text": [
      "[1] \"cluster_pam\"\n",
      "clu\n",
      " 1  2  3  4  5  6  7  8 \n",
      "24 26 12 13 20 21 25  9 \n",
      "[1] 0.1590231\n"
     ]
    }
   ],
   "source": [
    "test_clustering(cluster_pam(NULL), iris[,1:4], iris[,5], TRUE)"
   ]
  },
  {
   "cell_type": "code",
   "execution_count": 22,
   "metadata": {},
   "outputs": [
    {
     "name": "stdout",
     "output_type": "stream",
     "text": [
      "[1] \"cluster_dbscan\"\n",
      "clu\n",
      " 0  1  2  3  4 \n",
      "26 47 38  4 35 \n",
      "[1] 0.3037218\n"
     ]
    }
   ],
   "source": [
    "test_clustering(cluster_dbscan(eps = NULL, MinPts = 3), iris[,1:4], iris[,5], TRUE)"
   ]
  },
  {
   "cell_type": "code",
   "execution_count": null,
   "metadata": {},
   "outputs": [],
   "source": []
  }
 ],
 "metadata": {
  "kernelspec": {
   "display_name": "R",
   "language": "R",
   "name": "ir"
  },
  "language_info": {
   "codemirror_mode": "r",
   "file_extension": ".r",
   "mimetype": "text/x-r-source",
   "name": "R",
   "pygments_lexer": "r",
   "version": "3.6.0"
  }
 },
 "nbformat": 4,
 "nbformat_minor": 2
}
